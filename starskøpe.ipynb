{
 "cells": [
  {
   "cell_type": "markdown",
   "metadata": {},
   "source": [
    "# `STARSKØPE`\n",
    "\n",
    "\n",
    "\n",
    "**Building a Cyberoptic Neural Network Telescope for Astrophysical Object Classification**\n",
    "\n",
    "> Flatiron School Capstone Project\n",
    "* `Ru Keïn`\n",
    "* `Instructor: James Irving PhD`\n",
    "* `Data Science Full-Time Program`\n",
    "* `Blog post URL:`\n",
    "* `Non-Technical Presentation`:"
   ]
  },
  {
   "cell_type": "markdown",
   "metadata": {},
   "source": [
    "    Note: this project is divided into 3 notebooks:\n",
    "\n",
    "    starskøpe I : Keras Neural Network Model (this notebook)\n",
    "    starskøpe II: Computer Vision/Restricted Boltzmann Machines for Spectographs\n",
    "    starskøpe III: CV/RBMs for Fourier Transformed Spectographs"
   ]
  },
  {
   "cell_type": "markdown",
   "metadata": {},
   "source": [
    "# Mission Brief\n",
    "\n",
    "## ABSTRACT\n",
    "\n",
    "**Questions**\n",
    "Can a transiting exoplanet be detected strictly by analyzing the raw flux values of a given star? What kind of normalization, de-noising, and/or unit conversion is necessary in order for the analysis to be accurate? How much signal-to-noise ratio is too much? That is, if the classes are highly imbalanced, for instance only a few planets can be confirmed out of thousands of stars, does the imbalance make for an unreliable machine learning model?\n",
    "\n",
    "**MODEL 1**\n",
    "To answer the above questions, I started the analysis with a labeled timeseries dataset from Kaggle posted by NASA for K2's campaign 3 observations in which only 42 confirmed exoplanets are detected in a set of over 5,000 stars. This data is labeled and therefore primed for machine learning, however it has no units, and while it is a timeseries, the actual timestamps are not included. If we compare this to the type of data available on the MAST website where the original K2 data and other space telescope observations are housed, there is a significant amount of information about the target stars that is missing and typically quite useful in terms of modeling and analysis for the purpose of detecting exoplanets. \n",
    "\n",
    "    [] Results of analysis I\n",
    "\n",
    "    [] Part 2: can the model be improved using computer vision (spectographs)\n",
    "\n",
    "    [] Results of analysis II\n",
    "\n",
    "    [] Part 3: can the model be improved using CV on fourier transformed specs?\n",
    "\n",
    "    [] Results of part III\n",
    "\n",
    "    [] conclusion and summary\n",
    "\n",
    "    [] mention of future work\n",
    "\n",
    "    [] link to dashboard/blog\n",
    "\n"
   ]
  },
  {
   "cell_type": "markdown",
   "metadata": {},
   "source": [
    "# Obtain\n",
    "\n",
    "Begin by importing libraries and code packages for basic analysis, as well as the kaggle dataset."
   ]
  },
  {
   "cell_type": "code",
   "execution_count": 1,
   "metadata": {
    "ExecuteTime": {
     "end_time": "2020-04-07T16:51:05.827849Z",
     "start_time": "2020-04-07T16:51:03.094818Z"
    }
   },
   "outputs": [],
   "source": [
    "# Import code packages and libraries\n",
    "import numpy as np\n",
    "import pandas as pd\n",
    "import matplotlib as mpl\n",
    "%matplotlib inline\n",
    "from matplotlib.colors import LogNorm\n",
    "\n",
    "import seaborn as sns\n",
    "sns.set_style('whitegrid')\n",
    "import matplotlib.pyplot as plt\n",
    "plt.style.use('seaborn-bright')\n",
    " \n",
    "\n",
    "font_dict={'family':'\"Titillium Web\", monospace','size':16}\n",
    "mpl.rc('font',**font_dict)\n",
    "\n",
    "\n",
    "#ignore pink warnings\n",
    "import warnings\n",
    "warnings.filterwarnings('ignore')\n",
    "# Allow for large # columns\n",
    "pd.set_option('display.max_columns', 0)\n",
    "# pd.set_option('display.max_rows','')"
   ]
  },
  {
   "cell_type": "markdown",
   "metadata": {},
   "source": [
    "Import dataset which has already been split into train and test sets, `exoTrain.csv.zip` and `exoTest.csv.zip` (I compressed them from their original csv format since the training set is > 240 MB so we'll to unzip them)."
   ]
  },
  {
   "cell_type": "code",
   "execution_count": 2,
   "metadata": {
    "ExecuteTime": {
     "end_time": "2020-04-07T16:51:05.908566Z",
     "start_time": "2020-04-07T16:51:05.832665Z"
    }
   },
   "outputs": [
    {
     "data": {
      "text/plain": [
       "['sparknotes.txt',\n",
       " '.DS_Store',\n",
       " 'LICENSE',\n",
       " 'Icon\\r',\n",
       " 'spec',\n",
       " 'sklearn-sparknotes.ipynb',\n",
       " 'starskøpe-2.ipynb',\n",
       " 'models',\n",
       " 'todo.md',\n",
       " 'README.md',\n",
       " '.gitignore',\n",
       " 'starskøpe.ipynb',\n",
       " '_config.yml',\n",
       " '.ipynb_checkpoints',\n",
       " 'DONT_PANIC',\n",
       " '.git',\n",
       " 'data',\n",
       " 'assets',\n",
       " 'notebooks',\n",
       " 'pyFunc']"
      ]
     },
     "execution_count": 2,
     "metadata": {},
     "output_type": "execute_result"
    }
   ],
   "source": [
    "import os, glob, sys\n",
    "\n",
    "home = os.path.abspath(os.curdir)\n",
    "\n",
    "os.listdir(home)"
   ]
  },
  {
   "cell_type": "code",
   "execution_count": 3,
   "metadata": {
    "ExecuteTime": {
     "end_time": "2020-04-07T16:51:08.840472Z",
     "start_time": "2020-04-07T16:51:08.686512Z"
    }
   },
   "outputs": [
    {
     "name": "stdout",
     "output_type": "stream",
     "text": [
      "/Users/hakkeray/CODE/DATASCIENCE/BOOTCAMP/CAPSTONE/starskope/data\n",
      "Icon?                                 exoTest.csv.zip\r\n",
      "\u001b[1m\u001b[36m__MACOSX\u001b[m\u001b[m/                             exoTrain.csv\r\n",
      "cumulative.csv                        exoTrain.csv.zip\r\n",
      "emissionspec_2020.01.30_19.43.11.csv  oec.csv\r\n",
      "exoTableDraw.R                        transitspec_2020.01.30_19.38.06.csv\r\n",
      "exoTest.csv\r\n"
     ]
    }
   ],
   "source": [
    "# %cd ../\n",
    "%cd data\n",
    "%ls"
   ]
  },
  {
   "cell_type": "code",
   "execution_count": 4,
   "metadata": {
    "ExecuteTime": {
     "end_time": "2020-04-07T16:51:09.986225Z",
     "start_time": "2020-04-07T16:51:09.979874Z"
    }
   },
   "outputs": [],
   "source": [
    "# uncomment below if you need to unzip the data files\n",
    "# !unzip -q 'exoTrain.csv.zip'\n",
    "# !unzip -q 'exoTest.csv.zip'\n",
    "# %ls"
   ]
  },
  {
   "cell_type": "code",
   "execution_count": 5,
   "metadata": {
    "ExecuteTime": {
     "end_time": "2020-04-07T16:51:18.742560Z",
     "start_time": "2020-04-07T16:51:10.533070Z"
    }
   },
   "outputs": [],
   "source": [
    "train = pd.read_csv('exoTrain.csv')\n",
    "test = pd.read_csv('exoTest.csv')"
   ]
  },
  {
   "cell_type": "code",
   "execution_count": 6,
   "metadata": {
    "ExecuteTime": {
     "end_time": "2020-04-07T16:51:19.969019Z",
     "start_time": "2020-04-07T16:51:19.959110Z"
    }
   },
   "outputs": [
    {
     "name": "stdout",
     "output_type": "stream",
     "text": [
      "/Users/hakkeray/CODE/DATASCIENCE/BOOTCAMP/CAPSTONE/starskope\n"
     ]
    }
   ],
   "source": [
    "# cd backto home / root directory\n",
    "%cd ../"
   ]
  },
  {
   "cell_type": "markdown",
   "metadata": {},
   "source": [
    "# Scrub"
   ]
  },
  {
   "cell_type": "code",
   "execution_count": 7,
   "metadata": {
    "ExecuteTime": {
     "end_time": "2020-04-07T16:51:24.033966Z",
     "start_time": "2020-04-07T16:51:23.561877Z"
    }
   },
   "outputs": [
    {
     "data": {
      "text/html": [
       "<div>\n",
       "<style scoped>\n",
       "    .dataframe tbody tr th:only-of-type {\n",
       "        vertical-align: middle;\n",
       "    }\n",
       "\n",
       "    .dataframe tbody tr th {\n",
       "        vertical-align: top;\n",
       "    }\n",
       "\n",
       "    .dataframe thead th {\n",
       "        text-align: right;\n",
       "    }\n",
       "</style>\n",
       "<table border=\"1\" class=\"dataframe\">\n",
       "  <thead>\n",
       "    <tr style=\"text-align: right;\">\n",
       "      <th></th>\n",
       "      <th>LABEL</th>\n",
       "      <th>FLUX.1</th>\n",
       "      <th>FLUX.2</th>\n",
       "      <th>FLUX.3</th>\n",
       "      <th>FLUX.4</th>\n",
       "      <th>FLUX.5</th>\n",
       "      <th>FLUX.6</th>\n",
       "      <th>FLUX.7</th>\n",
       "      <th>FLUX.8</th>\n",
       "      <th>FLUX.9</th>\n",
       "      <th>FLUX.10</th>\n",
       "      <th>FLUX.11</th>\n",
       "      <th>FLUX.12</th>\n",
       "      <th>FLUX.13</th>\n",
       "      <th>FLUX.14</th>\n",
       "      <th>FLUX.15</th>\n",
       "      <th>FLUX.16</th>\n",
       "      <th>FLUX.17</th>\n",
       "      <th>FLUX.18</th>\n",
       "      <th>FLUX.19</th>\n",
       "      <th>FLUX.20</th>\n",
       "      <th>FLUX.21</th>\n",
       "      <th>FLUX.22</th>\n",
       "      <th>FLUX.23</th>\n",
       "      <th>FLUX.24</th>\n",
       "      <th>FLUX.25</th>\n",
       "      <th>FLUX.26</th>\n",
       "      <th>FLUX.27</th>\n",
       "      <th>FLUX.28</th>\n",
       "      <th>FLUX.29</th>\n",
       "      <th>FLUX.30</th>\n",
       "      <th>FLUX.31</th>\n",
       "      <th>FLUX.32</th>\n",
       "      <th>FLUX.33</th>\n",
       "      <th>FLUX.34</th>\n",
       "      <th>FLUX.35</th>\n",
       "      <th>FLUX.36</th>\n",
       "      <th>FLUX.37</th>\n",
       "      <th>FLUX.38</th>\n",
       "      <th>FLUX.39</th>\n",
       "      <th>FLUX.40</th>\n",
       "      <th>FLUX.41</th>\n",
       "      <th>...</th>\n",
       "      <th>FLUX.3156</th>\n",
       "      <th>FLUX.3157</th>\n",
       "      <th>FLUX.3158</th>\n",
       "      <th>FLUX.3159</th>\n",
       "      <th>FLUX.3160</th>\n",
       "      <th>FLUX.3161</th>\n",
       "      <th>FLUX.3162</th>\n",
       "      <th>FLUX.3163</th>\n",
       "      <th>FLUX.3164</th>\n",
       "      <th>FLUX.3165</th>\n",
       "      <th>FLUX.3166</th>\n",
       "      <th>FLUX.3167</th>\n",
       "      <th>FLUX.3168</th>\n",
       "      <th>FLUX.3169</th>\n",
       "      <th>FLUX.3170</th>\n",
       "      <th>FLUX.3171</th>\n",
       "      <th>FLUX.3172</th>\n",
       "      <th>FLUX.3173</th>\n",
       "      <th>FLUX.3174</th>\n",
       "      <th>FLUX.3175</th>\n",
       "      <th>FLUX.3176</th>\n",
       "      <th>FLUX.3177</th>\n",
       "      <th>FLUX.3178</th>\n",
       "      <th>FLUX.3179</th>\n",
       "      <th>FLUX.3180</th>\n",
       "      <th>FLUX.3181</th>\n",
       "      <th>FLUX.3182</th>\n",
       "      <th>FLUX.3183</th>\n",
       "      <th>FLUX.3184</th>\n",
       "      <th>FLUX.3185</th>\n",
       "      <th>FLUX.3186</th>\n",
       "      <th>FLUX.3187</th>\n",
       "      <th>FLUX.3188</th>\n",
       "      <th>FLUX.3189</th>\n",
       "      <th>FLUX.3190</th>\n",
       "      <th>FLUX.3191</th>\n",
       "      <th>FLUX.3192</th>\n",
       "      <th>FLUX.3193</th>\n",
       "      <th>FLUX.3194</th>\n",
       "      <th>FLUX.3195</th>\n",
       "      <th>FLUX.3196</th>\n",
       "      <th>FLUX.3197</th>\n",
       "    </tr>\n",
       "  </thead>\n",
       "  <tbody>\n",
       "    <tr>\n",
       "      <td>0</td>\n",
       "      <td>2</td>\n",
       "      <td>93.85</td>\n",
       "      <td>83.81</td>\n",
       "      <td>20.10</td>\n",
       "      <td>-26.98</td>\n",
       "      <td>-39.56</td>\n",
       "      <td>-124.71</td>\n",
       "      <td>-135.18</td>\n",
       "      <td>-96.27</td>\n",
       "      <td>-79.89</td>\n",
       "      <td>-160.17</td>\n",
       "      <td>-207.47</td>\n",
       "      <td>-154.88</td>\n",
       "      <td>-173.71</td>\n",
       "      <td>-146.56</td>\n",
       "      <td>-120.26</td>\n",
       "      <td>-102.85</td>\n",
       "      <td>-98.71</td>\n",
       "      <td>-48.42</td>\n",
       "      <td>-86.57</td>\n",
       "      <td>-0.84</td>\n",
       "      <td>-25.85</td>\n",
       "      <td>-67.39</td>\n",
       "      <td>-36.55</td>\n",
       "      <td>-87.01</td>\n",
       "      <td>-97.72</td>\n",
       "      <td>-131.59</td>\n",
       "      <td>-134.80</td>\n",
       "      <td>-186.97</td>\n",
       "      <td>-244.32</td>\n",
       "      <td>-225.76</td>\n",
       "      <td>-229.60</td>\n",
       "      <td>-253.48</td>\n",
       "      <td>-145.74</td>\n",
       "      <td>-145.74</td>\n",
       "      <td>30.47</td>\n",
       "      <td>-173.39</td>\n",
       "      <td>-187.56</td>\n",
       "      <td>-192.88</td>\n",
       "      <td>-182.76</td>\n",
       "      <td>-195.99</td>\n",
       "      <td>-208.31</td>\n",
       "      <td>...</td>\n",
       "      <td>-367.84</td>\n",
       "      <td>-317.51</td>\n",
       "      <td>-167.69</td>\n",
       "      <td>-56.86</td>\n",
       "      <td>7.56</td>\n",
       "      <td>37.40</td>\n",
       "      <td>-81.13</td>\n",
       "      <td>-20.10</td>\n",
       "      <td>-30.34</td>\n",
       "      <td>-320.48</td>\n",
       "      <td>-320.48</td>\n",
       "      <td>-287.72</td>\n",
       "      <td>-351.25</td>\n",
       "      <td>-70.07</td>\n",
       "      <td>-194.34</td>\n",
       "      <td>-106.47</td>\n",
       "      <td>-14.80</td>\n",
       "      <td>63.13</td>\n",
       "      <td>130.03</td>\n",
       "      <td>76.43</td>\n",
       "      <td>131.90</td>\n",
       "      <td>-193.16</td>\n",
       "      <td>-193.16</td>\n",
       "      <td>-89.26</td>\n",
       "      <td>-17.56</td>\n",
       "      <td>-17.31</td>\n",
       "      <td>125.62</td>\n",
       "      <td>68.87</td>\n",
       "      <td>100.01</td>\n",
       "      <td>-9.60</td>\n",
       "      <td>-25.39</td>\n",
       "      <td>-16.51</td>\n",
       "      <td>-78.07</td>\n",
       "      <td>-102.15</td>\n",
       "      <td>-102.15</td>\n",
       "      <td>25.13</td>\n",
       "      <td>48.57</td>\n",
       "      <td>92.54</td>\n",
       "      <td>39.32</td>\n",
       "      <td>61.42</td>\n",
       "      <td>5.08</td>\n",
       "      <td>-39.54</td>\n",
       "    </tr>\n",
       "    <tr>\n",
       "      <td>1</td>\n",
       "      <td>2</td>\n",
       "      <td>-38.88</td>\n",
       "      <td>-33.83</td>\n",
       "      <td>-58.54</td>\n",
       "      <td>-40.09</td>\n",
       "      <td>-79.31</td>\n",
       "      <td>-72.81</td>\n",
       "      <td>-86.55</td>\n",
       "      <td>-85.33</td>\n",
       "      <td>-83.97</td>\n",
       "      <td>-73.38</td>\n",
       "      <td>-86.51</td>\n",
       "      <td>-74.97</td>\n",
       "      <td>-73.15</td>\n",
       "      <td>-86.13</td>\n",
       "      <td>-76.57</td>\n",
       "      <td>-61.27</td>\n",
       "      <td>-37.23</td>\n",
       "      <td>-48.53</td>\n",
       "      <td>-30.96</td>\n",
       "      <td>-8.14</td>\n",
       "      <td>-5.54</td>\n",
       "      <td>15.79</td>\n",
       "      <td>45.71</td>\n",
       "      <td>10.61</td>\n",
       "      <td>40.66</td>\n",
       "      <td>16.70</td>\n",
       "      <td>15.18</td>\n",
       "      <td>11.98</td>\n",
       "      <td>-203.70</td>\n",
       "      <td>19.13</td>\n",
       "      <td>19.13</td>\n",
       "      <td>19.13</td>\n",
       "      <td>19.13</td>\n",
       "      <td>19.13</td>\n",
       "      <td>17.02</td>\n",
       "      <td>-8.50</td>\n",
       "      <td>-13.87</td>\n",
       "      <td>-29.10</td>\n",
       "      <td>-34.29</td>\n",
       "      <td>-24.68</td>\n",
       "      <td>-27.62</td>\n",
       "      <td>...</td>\n",
       "      <td>-51.99</td>\n",
       "      <td>-32.14</td>\n",
       "      <td>-36.75</td>\n",
       "      <td>-15.49</td>\n",
       "      <td>-13.24</td>\n",
       "      <td>20.46</td>\n",
       "      <td>-1.47</td>\n",
       "      <td>-0.40</td>\n",
       "      <td>27.80</td>\n",
       "      <td>-58.20</td>\n",
       "      <td>-58.20</td>\n",
       "      <td>-72.04</td>\n",
       "      <td>-58.01</td>\n",
       "      <td>-30.92</td>\n",
       "      <td>-13.42</td>\n",
       "      <td>-13.98</td>\n",
       "      <td>-5.43</td>\n",
       "      <td>8.71</td>\n",
       "      <td>1.80</td>\n",
       "      <td>36.59</td>\n",
       "      <td>-9.80</td>\n",
       "      <td>-19.53</td>\n",
       "      <td>-19.53</td>\n",
       "      <td>-24.32</td>\n",
       "      <td>-23.88</td>\n",
       "      <td>-33.07</td>\n",
       "      <td>-9.03</td>\n",
       "      <td>3.75</td>\n",
       "      <td>11.61</td>\n",
       "      <td>-12.66</td>\n",
       "      <td>-5.69</td>\n",
       "      <td>12.53</td>\n",
       "      <td>-3.28</td>\n",
       "      <td>-32.21</td>\n",
       "      <td>-32.21</td>\n",
       "      <td>-24.89</td>\n",
       "      <td>-4.86</td>\n",
       "      <td>0.76</td>\n",
       "      <td>-11.70</td>\n",
       "      <td>6.46</td>\n",
       "      <td>16.00</td>\n",
       "      <td>19.93</td>\n",
       "    </tr>\n",
       "    <tr>\n",
       "      <td>2</td>\n",
       "      <td>2</td>\n",
       "      <td>532.64</td>\n",
       "      <td>535.92</td>\n",
       "      <td>513.73</td>\n",
       "      <td>496.92</td>\n",
       "      <td>456.45</td>\n",
       "      <td>466.00</td>\n",
       "      <td>464.50</td>\n",
       "      <td>486.39</td>\n",
       "      <td>436.56</td>\n",
       "      <td>484.39</td>\n",
       "      <td>469.66</td>\n",
       "      <td>462.30</td>\n",
       "      <td>492.23</td>\n",
       "      <td>441.20</td>\n",
       "      <td>483.17</td>\n",
       "      <td>481.28</td>\n",
       "      <td>535.31</td>\n",
       "      <td>554.34</td>\n",
       "      <td>562.80</td>\n",
       "      <td>540.14</td>\n",
       "      <td>576.34</td>\n",
       "      <td>551.67</td>\n",
       "      <td>556.69</td>\n",
       "      <td>550.86</td>\n",
       "      <td>577.33</td>\n",
       "      <td>562.08</td>\n",
       "      <td>577.97</td>\n",
       "      <td>530.67</td>\n",
       "      <td>553.27</td>\n",
       "      <td>538.33</td>\n",
       "      <td>527.17</td>\n",
       "      <td>532.50</td>\n",
       "      <td>273.66</td>\n",
       "      <td>273.66</td>\n",
       "      <td>292.39</td>\n",
       "      <td>298.44</td>\n",
       "      <td>252.64</td>\n",
       "      <td>233.58</td>\n",
       "      <td>171.41</td>\n",
       "      <td>224.02</td>\n",
       "      <td>237.69</td>\n",
       "      <td>...</td>\n",
       "      <td>-106.97</td>\n",
       "      <td>-56.38</td>\n",
       "      <td>-51.09</td>\n",
       "      <td>-33.30</td>\n",
       "      <td>-61.53</td>\n",
       "      <td>-89.61</td>\n",
       "      <td>-69.17</td>\n",
       "      <td>-86.47</td>\n",
       "      <td>-140.91</td>\n",
       "      <td>-84.20</td>\n",
       "      <td>-84.20</td>\n",
       "      <td>-89.09</td>\n",
       "      <td>-55.44</td>\n",
       "      <td>-61.05</td>\n",
       "      <td>-29.17</td>\n",
       "      <td>-63.80</td>\n",
       "      <td>-57.61</td>\n",
       "      <td>2.70</td>\n",
       "      <td>-31.25</td>\n",
       "      <td>-47.09</td>\n",
       "      <td>-6.53</td>\n",
       "      <td>14.00</td>\n",
       "      <td>14.00</td>\n",
       "      <td>-25.05</td>\n",
       "      <td>-34.98</td>\n",
       "      <td>-32.08</td>\n",
       "      <td>-17.06</td>\n",
       "      <td>-27.77</td>\n",
       "      <td>7.86</td>\n",
       "      <td>-70.77</td>\n",
       "      <td>-64.44</td>\n",
       "      <td>-83.83</td>\n",
       "      <td>-71.69</td>\n",
       "      <td>13.31</td>\n",
       "      <td>13.31</td>\n",
       "      <td>-29.89</td>\n",
       "      <td>-20.88</td>\n",
       "      <td>5.06</td>\n",
       "      <td>-11.80</td>\n",
       "      <td>-28.91</td>\n",
       "      <td>-70.02</td>\n",
       "      <td>-96.67</td>\n",
       "    </tr>\n",
       "    <tr>\n",
       "      <td>3</td>\n",
       "      <td>2</td>\n",
       "      <td>326.52</td>\n",
       "      <td>347.39</td>\n",
       "      <td>302.35</td>\n",
       "      <td>298.13</td>\n",
       "      <td>317.74</td>\n",
       "      <td>312.70</td>\n",
       "      <td>322.33</td>\n",
       "      <td>311.31</td>\n",
       "      <td>312.42</td>\n",
       "      <td>323.33</td>\n",
       "      <td>311.14</td>\n",
       "      <td>326.19</td>\n",
       "      <td>313.11</td>\n",
       "      <td>313.89</td>\n",
       "      <td>317.96</td>\n",
       "      <td>330.92</td>\n",
       "      <td>341.10</td>\n",
       "      <td>360.58</td>\n",
       "      <td>370.29</td>\n",
       "      <td>369.71</td>\n",
       "      <td>339.00</td>\n",
       "      <td>336.24</td>\n",
       "      <td>319.31</td>\n",
       "      <td>321.56</td>\n",
       "      <td>308.02</td>\n",
       "      <td>296.82</td>\n",
       "      <td>279.34</td>\n",
       "      <td>275.78</td>\n",
       "      <td>289.67</td>\n",
       "      <td>281.33</td>\n",
       "      <td>285.37</td>\n",
       "      <td>281.87</td>\n",
       "      <td>88.75</td>\n",
       "      <td>88.75</td>\n",
       "      <td>67.71</td>\n",
       "      <td>74.46</td>\n",
       "      <td>69.34</td>\n",
       "      <td>76.51</td>\n",
       "      <td>80.26</td>\n",
       "      <td>70.31</td>\n",
       "      <td>63.67</td>\n",
       "      <td>...</td>\n",
       "      <td>-30.46</td>\n",
       "      <td>-32.40</td>\n",
       "      <td>-2.75</td>\n",
       "      <td>14.29</td>\n",
       "      <td>-14.18</td>\n",
       "      <td>-25.14</td>\n",
       "      <td>-13.43</td>\n",
       "      <td>-14.74</td>\n",
       "      <td>2.24</td>\n",
       "      <td>-31.07</td>\n",
       "      <td>-31.07</td>\n",
       "      <td>-50.27</td>\n",
       "      <td>-39.22</td>\n",
       "      <td>-51.33</td>\n",
       "      <td>-18.53</td>\n",
       "      <td>-1.99</td>\n",
       "      <td>10.43</td>\n",
       "      <td>-1.97</td>\n",
       "      <td>-15.32</td>\n",
       "      <td>-23.38</td>\n",
       "      <td>-27.71</td>\n",
       "      <td>-36.12</td>\n",
       "      <td>-36.12</td>\n",
       "      <td>-15.65</td>\n",
       "      <td>6.63</td>\n",
       "      <td>10.66</td>\n",
       "      <td>-8.57</td>\n",
       "      <td>-8.29</td>\n",
       "      <td>-21.90</td>\n",
       "      <td>-25.80</td>\n",
       "      <td>-29.86</td>\n",
       "      <td>7.42</td>\n",
       "      <td>5.71</td>\n",
       "      <td>-3.73</td>\n",
       "      <td>-3.73</td>\n",
       "      <td>30.05</td>\n",
       "      <td>20.03</td>\n",
       "      <td>-12.67</td>\n",
       "      <td>-8.77</td>\n",
       "      <td>-17.31</td>\n",
       "      <td>-17.35</td>\n",
       "      <td>13.98</td>\n",
       "    </tr>\n",
       "    <tr>\n",
       "      <td>4</td>\n",
       "      <td>2</td>\n",
       "      <td>-1107.21</td>\n",
       "      <td>-1112.59</td>\n",
       "      <td>-1118.95</td>\n",
       "      <td>-1095.10</td>\n",
       "      <td>-1057.55</td>\n",
       "      <td>-1034.48</td>\n",
       "      <td>-998.34</td>\n",
       "      <td>-1022.71</td>\n",
       "      <td>-989.57</td>\n",
       "      <td>-970.88</td>\n",
       "      <td>-933.30</td>\n",
       "      <td>-889.49</td>\n",
       "      <td>-888.66</td>\n",
       "      <td>-853.95</td>\n",
       "      <td>-800.91</td>\n",
       "      <td>-754.48</td>\n",
       "      <td>-717.24</td>\n",
       "      <td>-649.34</td>\n",
       "      <td>-605.71</td>\n",
       "      <td>-575.62</td>\n",
       "      <td>-526.37</td>\n",
       "      <td>-490.12</td>\n",
       "      <td>-458.73</td>\n",
       "      <td>-447.76</td>\n",
       "      <td>-419.54</td>\n",
       "      <td>-410.76</td>\n",
       "      <td>-404.10</td>\n",
       "      <td>-425.38</td>\n",
       "      <td>-397.29</td>\n",
       "      <td>-412.73</td>\n",
       "      <td>-446.49</td>\n",
       "      <td>-413.46</td>\n",
       "      <td>-1006.21</td>\n",
       "      <td>-1006.21</td>\n",
       "      <td>-973.29</td>\n",
       "      <td>-986.01</td>\n",
       "      <td>-975.88</td>\n",
       "      <td>-982.20</td>\n",
       "      <td>-953.73</td>\n",
       "      <td>-964.35</td>\n",
       "      <td>-956.60</td>\n",
       "      <td>...</td>\n",
       "      <td>-848.88</td>\n",
       "      <td>-732.66</td>\n",
       "      <td>-694.76</td>\n",
       "      <td>-705.01</td>\n",
       "      <td>-625.24</td>\n",
       "      <td>-604.16</td>\n",
       "      <td>-668.26</td>\n",
       "      <td>-742.18</td>\n",
       "      <td>-820.55</td>\n",
       "      <td>-874.76</td>\n",
       "      <td>-874.76</td>\n",
       "      <td>-853.68</td>\n",
       "      <td>-808.62</td>\n",
       "      <td>-777.88</td>\n",
       "      <td>-712.62</td>\n",
       "      <td>-694.01</td>\n",
       "      <td>-655.74</td>\n",
       "      <td>-599.74</td>\n",
       "      <td>-617.30</td>\n",
       "      <td>-602.98</td>\n",
       "      <td>-539.29</td>\n",
       "      <td>-672.71</td>\n",
       "      <td>-672.71</td>\n",
       "      <td>-594.49</td>\n",
       "      <td>-597.60</td>\n",
       "      <td>-560.77</td>\n",
       "      <td>-501.95</td>\n",
       "      <td>-461.62</td>\n",
       "      <td>-468.59</td>\n",
       "      <td>-513.24</td>\n",
       "      <td>-504.70</td>\n",
       "      <td>-521.95</td>\n",
       "      <td>-594.37</td>\n",
       "      <td>-401.66</td>\n",
       "      <td>-401.66</td>\n",
       "      <td>-357.24</td>\n",
       "      <td>-443.76</td>\n",
       "      <td>-438.54</td>\n",
       "      <td>-399.71</td>\n",
       "      <td>-384.65</td>\n",
       "      <td>-411.79</td>\n",
       "      <td>-510.54</td>\n",
       "    </tr>\n",
       "  </tbody>\n",
       "</table>\n",
       "<p>5 rows × 3198 columns</p>\n",
       "</div>"
      ],
      "text/plain": [
       "   LABEL   FLUX.1   FLUX.2   FLUX.3  ...  FLUX.3194  FLUX.3195  FLUX.3196  FLUX.3197\n",
       "0      2    93.85    83.81    20.10  ...      39.32      61.42       5.08     -39.54\n",
       "1      2   -38.88   -33.83   -58.54  ...     -11.70       6.46      16.00      19.93\n",
       "2      2   532.64   535.92   513.73  ...     -11.80     -28.91     -70.02     -96.67\n",
       "3      2   326.52   347.39   302.35  ...      -8.77     -17.31     -17.35      13.98\n",
       "4      2 -1107.21 -1112.59 -1118.95  ...    -399.71    -384.65    -411.79    -510.54\n",
       "\n",
       "[5 rows x 3198 columns]"
      ]
     },
     "metadata": {},
     "output_type": "display_data"
    },
    {
     "data": {
      "text/html": [
       "<div>\n",
       "<style scoped>\n",
       "    .dataframe tbody tr th:only-of-type {\n",
       "        vertical-align: middle;\n",
       "    }\n",
       "\n",
       "    .dataframe tbody tr th {\n",
       "        vertical-align: top;\n",
       "    }\n",
       "\n",
       "    .dataframe thead th {\n",
       "        text-align: right;\n",
       "    }\n",
       "</style>\n",
       "<table border=\"1\" class=\"dataframe\">\n",
       "  <thead>\n",
       "    <tr style=\"text-align: right;\">\n",
       "      <th></th>\n",
       "      <th>LABEL</th>\n",
       "      <th>FLUX.1</th>\n",
       "      <th>FLUX.2</th>\n",
       "      <th>FLUX.3</th>\n",
       "      <th>FLUX.4</th>\n",
       "      <th>FLUX.5</th>\n",
       "      <th>FLUX.6</th>\n",
       "      <th>FLUX.7</th>\n",
       "      <th>FLUX.8</th>\n",
       "      <th>FLUX.9</th>\n",
       "      <th>FLUX.10</th>\n",
       "      <th>FLUX.11</th>\n",
       "      <th>FLUX.12</th>\n",
       "      <th>FLUX.13</th>\n",
       "      <th>FLUX.14</th>\n",
       "      <th>FLUX.15</th>\n",
       "      <th>FLUX.16</th>\n",
       "      <th>FLUX.17</th>\n",
       "      <th>FLUX.18</th>\n",
       "      <th>FLUX.19</th>\n",
       "      <th>FLUX.20</th>\n",
       "      <th>FLUX.21</th>\n",
       "      <th>FLUX.22</th>\n",
       "      <th>FLUX.23</th>\n",
       "      <th>FLUX.24</th>\n",
       "      <th>FLUX.25</th>\n",
       "      <th>FLUX.26</th>\n",
       "      <th>FLUX.27</th>\n",
       "      <th>FLUX.28</th>\n",
       "      <th>FLUX.29</th>\n",
       "      <th>FLUX.30</th>\n",
       "      <th>FLUX.31</th>\n",
       "      <th>FLUX.32</th>\n",
       "      <th>FLUX.33</th>\n",
       "      <th>FLUX.34</th>\n",
       "      <th>FLUX.35</th>\n",
       "      <th>FLUX.36</th>\n",
       "      <th>FLUX.37</th>\n",
       "      <th>FLUX.38</th>\n",
       "      <th>FLUX.39</th>\n",
       "      <th>FLUX.40</th>\n",
       "      <th>FLUX.41</th>\n",
       "      <th>...</th>\n",
       "      <th>FLUX.3156</th>\n",
       "      <th>FLUX.3157</th>\n",
       "      <th>FLUX.3158</th>\n",
       "      <th>FLUX.3159</th>\n",
       "      <th>FLUX.3160</th>\n",
       "      <th>FLUX.3161</th>\n",
       "      <th>FLUX.3162</th>\n",
       "      <th>FLUX.3163</th>\n",
       "      <th>FLUX.3164</th>\n",
       "      <th>FLUX.3165</th>\n",
       "      <th>FLUX.3166</th>\n",
       "      <th>FLUX.3167</th>\n",
       "      <th>FLUX.3168</th>\n",
       "      <th>FLUX.3169</th>\n",
       "      <th>FLUX.3170</th>\n",
       "      <th>FLUX.3171</th>\n",
       "      <th>FLUX.3172</th>\n",
       "      <th>FLUX.3173</th>\n",
       "      <th>FLUX.3174</th>\n",
       "      <th>FLUX.3175</th>\n",
       "      <th>FLUX.3176</th>\n",
       "      <th>FLUX.3177</th>\n",
       "      <th>FLUX.3178</th>\n",
       "      <th>FLUX.3179</th>\n",
       "      <th>FLUX.3180</th>\n",
       "      <th>FLUX.3181</th>\n",
       "      <th>FLUX.3182</th>\n",
       "      <th>FLUX.3183</th>\n",
       "      <th>FLUX.3184</th>\n",
       "      <th>FLUX.3185</th>\n",
       "      <th>FLUX.3186</th>\n",
       "      <th>FLUX.3187</th>\n",
       "      <th>FLUX.3188</th>\n",
       "      <th>FLUX.3189</th>\n",
       "      <th>FLUX.3190</th>\n",
       "      <th>FLUX.3191</th>\n",
       "      <th>FLUX.3192</th>\n",
       "      <th>FLUX.3193</th>\n",
       "      <th>FLUX.3194</th>\n",
       "      <th>FLUX.3195</th>\n",
       "      <th>FLUX.3196</th>\n",
       "      <th>FLUX.3197</th>\n",
       "    </tr>\n",
       "  </thead>\n",
       "  <tbody>\n",
       "    <tr>\n",
       "      <td>0</td>\n",
       "      <td>2</td>\n",
       "      <td>119.88</td>\n",
       "      <td>100.21</td>\n",
       "      <td>86.46</td>\n",
       "      <td>48.68</td>\n",
       "      <td>46.12</td>\n",
       "      <td>39.39</td>\n",
       "      <td>18.57</td>\n",
       "      <td>6.98</td>\n",
       "      <td>6.63</td>\n",
       "      <td>-21.97</td>\n",
       "      <td>-23.17</td>\n",
       "      <td>-29.26</td>\n",
       "      <td>-33.99</td>\n",
       "      <td>-6.25</td>\n",
       "      <td>-28.12</td>\n",
       "      <td>-27.24</td>\n",
       "      <td>-32.28</td>\n",
       "      <td>-12.29</td>\n",
       "      <td>-16.57</td>\n",
       "      <td>-23.86</td>\n",
       "      <td>-5.69</td>\n",
       "      <td>9.24</td>\n",
       "      <td>35.52</td>\n",
       "      <td>81.20</td>\n",
       "      <td>116.49</td>\n",
       "      <td>133.99</td>\n",
       "      <td>148.97</td>\n",
       "      <td>174.15</td>\n",
       "      <td>187.77</td>\n",
       "      <td>215.30</td>\n",
       "      <td>246.80</td>\n",
       "      <td>-56.68</td>\n",
       "      <td>-56.68</td>\n",
       "      <td>-56.68</td>\n",
       "      <td>-52.05</td>\n",
       "      <td>-31.52</td>\n",
       "      <td>-31.15</td>\n",
       "      <td>-48.53</td>\n",
       "      <td>-38.93</td>\n",
       "      <td>-26.06</td>\n",
       "      <td>6.63</td>\n",
       "      <td>...</td>\n",
       "      <td>3.45</td>\n",
       "      <td>6.49</td>\n",
       "      <td>-2.55</td>\n",
       "      <td>12.26</td>\n",
       "      <td>-7.06</td>\n",
       "      <td>-23.53</td>\n",
       "      <td>2.54</td>\n",
       "      <td>30.21</td>\n",
       "      <td>38.87</td>\n",
       "      <td>-22.86</td>\n",
       "      <td>-22.86</td>\n",
       "      <td>-4.37</td>\n",
       "      <td>2.27</td>\n",
       "      <td>-16.27</td>\n",
       "      <td>-30.84</td>\n",
       "      <td>-7.21</td>\n",
       "      <td>-4.27</td>\n",
       "      <td>13.60</td>\n",
       "      <td>15.62</td>\n",
       "      <td>31.96</td>\n",
       "      <td>49.89</td>\n",
       "      <td>86.93</td>\n",
       "      <td>86.93</td>\n",
       "      <td>42.99</td>\n",
       "      <td>48.76</td>\n",
       "      <td>22.82</td>\n",
       "      <td>32.79</td>\n",
       "      <td>30.76</td>\n",
       "      <td>14.55</td>\n",
       "      <td>10.92</td>\n",
       "      <td>22.68</td>\n",
       "      <td>5.91</td>\n",
       "      <td>14.52</td>\n",
       "      <td>19.29</td>\n",
       "      <td>14.44</td>\n",
       "      <td>-1.62</td>\n",
       "      <td>13.33</td>\n",
       "      <td>45.50</td>\n",
       "      <td>31.93</td>\n",
       "      <td>35.78</td>\n",
       "      <td>269.43</td>\n",
       "      <td>57.72</td>\n",
       "    </tr>\n",
       "    <tr>\n",
       "      <td>1</td>\n",
       "      <td>2</td>\n",
       "      <td>5736.59</td>\n",
       "      <td>5699.98</td>\n",
       "      <td>5717.16</td>\n",
       "      <td>5692.73</td>\n",
       "      <td>5663.83</td>\n",
       "      <td>5631.16</td>\n",
       "      <td>5626.39</td>\n",
       "      <td>5569.47</td>\n",
       "      <td>5550.44</td>\n",
       "      <td>5458.80</td>\n",
       "      <td>5329.39</td>\n",
       "      <td>5191.38</td>\n",
       "      <td>5031.39</td>\n",
       "      <td>4769.89</td>\n",
       "      <td>4419.66</td>\n",
       "      <td>4218.92</td>\n",
       "      <td>3924.73</td>\n",
       "      <td>3605.30</td>\n",
       "      <td>3326.55</td>\n",
       "      <td>3021.20</td>\n",
       "      <td>2800.61</td>\n",
       "      <td>2474.48</td>\n",
       "      <td>2258.33</td>\n",
       "      <td>1951.69</td>\n",
       "      <td>1749.86</td>\n",
       "      <td>1585.38</td>\n",
       "      <td>1575.48</td>\n",
       "      <td>1568.41</td>\n",
       "      <td>1661.08</td>\n",
       "      <td>1977.33</td>\n",
       "      <td>2425.62</td>\n",
       "      <td>2889.61</td>\n",
       "      <td>3847.64</td>\n",
       "      <td>3847.64</td>\n",
       "      <td>3741.20</td>\n",
       "      <td>3453.47</td>\n",
       "      <td>3202.61</td>\n",
       "      <td>2923.73</td>\n",
       "      <td>2694.84</td>\n",
       "      <td>2474.22</td>\n",
       "      <td>2195.09</td>\n",
       "      <td>...</td>\n",
       "      <td>574.19</td>\n",
       "      <td>-216.31</td>\n",
       "      <td>-3470.75</td>\n",
       "      <td>-4510.72</td>\n",
       "      <td>-5013.41</td>\n",
       "      <td>-3636.05</td>\n",
       "      <td>-2324.27</td>\n",
       "      <td>-2688.55</td>\n",
       "      <td>-2813.66</td>\n",
       "      <td>-586.22</td>\n",
       "      <td>-586.22</td>\n",
       "      <td>-756.80</td>\n",
       "      <td>-1090.23</td>\n",
       "      <td>-1388.61</td>\n",
       "      <td>-1745.36</td>\n",
       "      <td>-2015.28</td>\n",
       "      <td>-2359.06</td>\n",
       "      <td>-2516.66</td>\n",
       "      <td>-2699.31</td>\n",
       "      <td>-2777.55</td>\n",
       "      <td>-2732.97</td>\n",
       "      <td>1167.39</td>\n",
       "      <td>1167.39</td>\n",
       "      <td>1368.89</td>\n",
       "      <td>1434.80</td>\n",
       "      <td>1360.75</td>\n",
       "      <td>1148.44</td>\n",
       "      <td>1117.67</td>\n",
       "      <td>714.86</td>\n",
       "      <td>419.02</td>\n",
       "      <td>57.06</td>\n",
       "      <td>-175.66</td>\n",
       "      <td>-581.91</td>\n",
       "      <td>-984.09</td>\n",
       "      <td>-1230.89</td>\n",
       "      <td>-1600.45</td>\n",
       "      <td>-1824.53</td>\n",
       "      <td>-2061.17</td>\n",
       "      <td>-2265.98</td>\n",
       "      <td>-2366.19</td>\n",
       "      <td>-2294.86</td>\n",
       "      <td>-2034.72</td>\n",
       "    </tr>\n",
       "    <tr>\n",
       "      <td>2</td>\n",
       "      <td>2</td>\n",
       "      <td>844.48</td>\n",
       "      <td>817.49</td>\n",
       "      <td>770.07</td>\n",
       "      <td>675.01</td>\n",
       "      <td>605.52</td>\n",
       "      <td>499.45</td>\n",
       "      <td>440.77</td>\n",
       "      <td>362.95</td>\n",
       "      <td>207.27</td>\n",
       "      <td>150.46</td>\n",
       "      <td>85.49</td>\n",
       "      <td>-20.12</td>\n",
       "      <td>-35.88</td>\n",
       "      <td>-65.59</td>\n",
       "      <td>-15.12</td>\n",
       "      <td>16.60</td>\n",
       "      <td>-25.70</td>\n",
       "      <td>61.88</td>\n",
       "      <td>53.18</td>\n",
       "      <td>64.32</td>\n",
       "      <td>72.38</td>\n",
       "      <td>100.35</td>\n",
       "      <td>67.26</td>\n",
       "      <td>14.71</td>\n",
       "      <td>-16.41</td>\n",
       "      <td>-147.46</td>\n",
       "      <td>-231.27</td>\n",
       "      <td>-320.29</td>\n",
       "      <td>-407.82</td>\n",
       "      <td>-450.48</td>\n",
       "      <td>-146.99</td>\n",
       "      <td>-146.99</td>\n",
       "      <td>-146.99</td>\n",
       "      <td>-146.99</td>\n",
       "      <td>-166.30</td>\n",
       "      <td>-139.90</td>\n",
       "      <td>-96.41</td>\n",
       "      <td>-23.49</td>\n",
       "      <td>13.59</td>\n",
       "      <td>67.59</td>\n",
       "      <td>32.09</td>\n",
       "      <td>...</td>\n",
       "      <td>-112.96</td>\n",
       "      <td>-129.34</td>\n",
       "      <td>-35.24</td>\n",
       "      <td>-70.13</td>\n",
       "      <td>-35.30</td>\n",
       "      <td>-56.48</td>\n",
       "      <td>-74.60</td>\n",
       "      <td>-115.18</td>\n",
       "      <td>-8.91</td>\n",
       "      <td>-37.59</td>\n",
       "      <td>-37.59</td>\n",
       "      <td>-37.43</td>\n",
       "      <td>-104.23</td>\n",
       "      <td>-101.45</td>\n",
       "      <td>-107.35</td>\n",
       "      <td>-109.82</td>\n",
       "      <td>-126.27</td>\n",
       "      <td>-170.32</td>\n",
       "      <td>-117.85</td>\n",
       "      <td>-32.30</td>\n",
       "      <td>-70.18</td>\n",
       "      <td>314.29</td>\n",
       "      <td>314.29</td>\n",
       "      <td>314.29</td>\n",
       "      <td>149.71</td>\n",
       "      <td>54.60</td>\n",
       "      <td>12.60</td>\n",
       "      <td>-133.68</td>\n",
       "      <td>-78.16</td>\n",
       "      <td>-52.30</td>\n",
       "      <td>-8.55</td>\n",
       "      <td>-19.73</td>\n",
       "      <td>17.82</td>\n",
       "      <td>-51.66</td>\n",
       "      <td>-48.29</td>\n",
       "      <td>-59.99</td>\n",
       "      <td>-82.10</td>\n",
       "      <td>-174.54</td>\n",
       "      <td>-95.23</td>\n",
       "      <td>-162.68</td>\n",
       "      <td>-36.79</td>\n",
       "      <td>30.63</td>\n",
       "    </tr>\n",
       "    <tr>\n",
       "      <td>3</td>\n",
       "      <td>2</td>\n",
       "      <td>-826.00</td>\n",
       "      <td>-827.31</td>\n",
       "      <td>-846.12</td>\n",
       "      <td>-836.03</td>\n",
       "      <td>-745.50</td>\n",
       "      <td>-784.69</td>\n",
       "      <td>-791.22</td>\n",
       "      <td>-746.50</td>\n",
       "      <td>-709.53</td>\n",
       "      <td>-679.56</td>\n",
       "      <td>-706.03</td>\n",
       "      <td>-720.56</td>\n",
       "      <td>-631.12</td>\n",
       "      <td>-659.16</td>\n",
       "      <td>-672.03</td>\n",
       "      <td>-665.06</td>\n",
       "      <td>-667.94</td>\n",
       "      <td>-660.84</td>\n",
       "      <td>-672.75</td>\n",
       "      <td>-644.91</td>\n",
       "      <td>-680.53</td>\n",
       "      <td>-620.50</td>\n",
       "      <td>-570.34</td>\n",
       "      <td>-530.00</td>\n",
       "      <td>-537.88</td>\n",
       "      <td>-578.38</td>\n",
       "      <td>-532.34</td>\n",
       "      <td>-532.38</td>\n",
       "      <td>-491.03</td>\n",
       "      <td>-485.03</td>\n",
       "      <td>-427.19</td>\n",
       "      <td>-380.84</td>\n",
       "      <td>-329.50</td>\n",
       "      <td>-286.91</td>\n",
       "      <td>-283.81</td>\n",
       "      <td>-298.19</td>\n",
       "      <td>-271.03</td>\n",
       "      <td>-268.50</td>\n",
       "      <td>-209.56</td>\n",
       "      <td>-180.44</td>\n",
       "      <td>-136.25</td>\n",
       "      <td>...</td>\n",
       "      <td>81.06</td>\n",
       "      <td>110.88</td>\n",
       "      <td>16.50</td>\n",
       "      <td>-1286.59</td>\n",
       "      <td>-1286.59</td>\n",
       "      <td>-1286.59</td>\n",
       "      <td>-1286.59</td>\n",
       "      <td>-1286.59</td>\n",
       "      <td>-1286.59</td>\n",
       "      <td>-1286.59</td>\n",
       "      <td>-1286.59</td>\n",
       "      <td>-14.94</td>\n",
       "      <td>64.09</td>\n",
       "      <td>8.38</td>\n",
       "      <td>45.31</td>\n",
       "      <td>100.72</td>\n",
       "      <td>91.53</td>\n",
       "      <td>46.69</td>\n",
       "      <td>20.34</td>\n",
       "      <td>30.94</td>\n",
       "      <td>-36.81</td>\n",
       "      <td>-33.28</td>\n",
       "      <td>-69.62</td>\n",
       "      <td>-208.00</td>\n",
       "      <td>-280.28</td>\n",
       "      <td>-340.41</td>\n",
       "      <td>-337.41</td>\n",
       "      <td>-268.03</td>\n",
       "      <td>-245.00</td>\n",
       "      <td>-230.62</td>\n",
       "      <td>-129.59</td>\n",
       "      <td>-35.47</td>\n",
       "      <td>122.34</td>\n",
       "      <td>93.03</td>\n",
       "      <td>93.03</td>\n",
       "      <td>68.81</td>\n",
       "      <td>9.81</td>\n",
       "      <td>20.75</td>\n",
       "      <td>20.25</td>\n",
       "      <td>-120.81</td>\n",
       "      <td>-257.56</td>\n",
       "      <td>-215.41</td>\n",
       "    </tr>\n",
       "    <tr>\n",
       "      <td>4</td>\n",
       "      <td>2</td>\n",
       "      <td>-39.57</td>\n",
       "      <td>-15.88</td>\n",
       "      <td>-9.16</td>\n",
       "      <td>-6.37</td>\n",
       "      <td>-16.13</td>\n",
       "      <td>-24.05</td>\n",
       "      <td>-0.90</td>\n",
       "      <td>-45.20</td>\n",
       "      <td>-5.04</td>\n",
       "      <td>14.62</td>\n",
       "      <td>-19.52</td>\n",
       "      <td>-11.43</td>\n",
       "      <td>-49.80</td>\n",
       "      <td>25.84</td>\n",
       "      <td>11.62</td>\n",
       "      <td>3.18</td>\n",
       "      <td>-9.59</td>\n",
       "      <td>14.49</td>\n",
       "      <td>8.82</td>\n",
       "      <td>32.32</td>\n",
       "      <td>-28.90</td>\n",
       "      <td>-28.90</td>\n",
       "      <td>-14.09</td>\n",
       "      <td>-30.87</td>\n",
       "      <td>-18.99</td>\n",
       "      <td>-38.60</td>\n",
       "      <td>-27.79</td>\n",
       "      <td>9.65</td>\n",
       "      <td>29.60</td>\n",
       "      <td>7.88</td>\n",
       "      <td>42.87</td>\n",
       "      <td>27.59</td>\n",
       "      <td>27.05</td>\n",
       "      <td>20.26</td>\n",
       "      <td>29.48</td>\n",
       "      <td>9.71</td>\n",
       "      <td>22.84</td>\n",
       "      <td>25.99</td>\n",
       "      <td>-667.55</td>\n",
       "      <td>-1336.24</td>\n",
       "      <td>-1207.88</td>\n",
       "      <td>...</td>\n",
       "      <td>-203.96</td>\n",
       "      <td>-171.62</td>\n",
       "      <td>-122.12</td>\n",
       "      <td>-32.01</td>\n",
       "      <td>-47.15</td>\n",
       "      <td>-56.45</td>\n",
       "      <td>-41.71</td>\n",
       "      <td>-34.13</td>\n",
       "      <td>-43.12</td>\n",
       "      <td>-53.63</td>\n",
       "      <td>-53.63</td>\n",
       "      <td>-53.63</td>\n",
       "      <td>-24.29</td>\n",
       "      <td>22.29</td>\n",
       "      <td>25.18</td>\n",
       "      <td>1.84</td>\n",
       "      <td>-22.29</td>\n",
       "      <td>-26.43</td>\n",
       "      <td>-12.12</td>\n",
       "      <td>-33.05</td>\n",
       "      <td>-21.66</td>\n",
       "      <td>-228.32</td>\n",
       "      <td>-228.32</td>\n",
       "      <td>-228.32</td>\n",
       "      <td>-187.35</td>\n",
       "      <td>-166.23</td>\n",
       "      <td>-115.54</td>\n",
       "      <td>-50.18</td>\n",
       "      <td>-37.96</td>\n",
       "      <td>-22.37</td>\n",
       "      <td>-4.74</td>\n",
       "      <td>-35.82</td>\n",
       "      <td>-37.87</td>\n",
       "      <td>-61.85</td>\n",
       "      <td>-27.15</td>\n",
       "      <td>-21.18</td>\n",
       "      <td>-33.76</td>\n",
       "      <td>-85.34</td>\n",
       "      <td>-81.46</td>\n",
       "      <td>-61.98</td>\n",
       "      <td>-69.34</td>\n",
       "      <td>-17.84</td>\n",
       "    </tr>\n",
       "  </tbody>\n",
       "</table>\n",
       "<p>5 rows × 3198 columns</p>\n",
       "</div>"
      ],
      "text/plain": [
       "   LABEL   FLUX.1   FLUX.2   FLUX.3  ...  FLUX.3194  FLUX.3195  FLUX.3196  FLUX.3197\n",
       "0      2   119.88   100.21    86.46  ...      31.93      35.78     269.43      57.72\n",
       "1      2  5736.59  5699.98  5717.16  ...   -2265.98   -2366.19   -2294.86   -2034.72\n",
       "2      2   844.48   817.49   770.07  ...     -95.23    -162.68     -36.79      30.63\n",
       "3      2  -826.00  -827.31  -846.12  ...      20.25    -120.81    -257.56    -215.41\n",
       "4      2   -39.57   -15.88    -9.16  ...     -81.46     -61.98     -69.34     -17.84\n",
       "\n",
       "[5 rows x 3198 columns]"
      ]
     },
     "metadata": {},
     "output_type": "display_data"
    }
   ],
   "source": [
    "display(train.head(), test.head())"
   ]
  },
  {
   "cell_type": "code",
   "execution_count": 8,
   "metadata": {
    "ExecuteTime": {
     "end_time": "2020-04-07T16:51:25.535116Z",
     "start_time": "2020-04-07T16:51:25.511983Z"
    }
   },
   "outputs": [
    {
     "data": {
      "text/plain": [
       "1    5050\n",
       "2      37\n",
       "Name: LABEL, dtype: int64"
      ]
     },
     "metadata": {},
     "output_type": "display_data"
    },
    {
     "data": {
      "text/plain": [
       "1    565\n",
       "2      5\n",
       "Name: LABEL, dtype: int64"
      ]
     },
     "metadata": {},
     "output_type": "display_data"
    }
   ],
   "source": [
    "# Check the value counts - notice there are a total of only 42 stars that are labeled \"2\"\n",
    "# which means there is a confirmed exoplanet. 37 in the training set, 5 in the test set.\n",
    "display(train['LABEL'].value_counts(),test['LABEL'].value_counts())"
   ]
  },
  {
   "cell_type": "code",
   "execution_count": 9,
   "metadata": {
    "ExecuteTime": {
     "end_time": "2020-04-07T16:51:27.334442Z",
     "start_time": "2020-04-07T16:51:27.190014Z"
    }
   },
   "outputs": [
    {
     "data": {
      "text/plain": [
       "0    3198\n",
       "dtype: int64"
      ]
     },
     "execution_count": 9,
     "metadata": {},
     "output_type": "execute_result"
    }
   ],
   "source": [
    "train.isna().sum().value_counts()"
   ]
  },
  {
   "cell_type": "code",
   "execution_count": 10,
   "metadata": {
    "ExecuteTime": {
     "end_time": "2020-04-07T16:51:27.993493Z",
     "start_time": "2020-04-07T16:51:27.971204Z"
    }
   },
   "outputs": [
    {
     "data": {
      "text/plain": [
       "0    3198\n",
       "dtype: int64"
      ]
     },
     "execution_count": 10,
     "metadata": {},
     "output_type": "execute_result"
    }
   ],
   "source": [
    "test.isna().sum().value_counts()"
   ]
  },
  {
   "cell_type": "code",
   "execution_count": 11,
   "metadata": {
    "ExecuteTime": {
     "end_time": "2020-04-07T16:51:29.776584Z",
     "start_time": "2020-04-07T16:51:29.762139Z"
    }
   },
   "outputs": [
    {
     "data": {
      "text/plain": [
       "LABEL      2.00\n",
       "FLUX.1    93.85\n",
       "FLUX.2    83.81\n",
       "FLUX.3    20.10\n",
       "FLUX.4   -26.98\n",
       "Name: 0, dtype: float64"
      ]
     },
     "execution_count": 11,
     "metadata": {},
     "output_type": "execute_result"
    }
   ],
   "source": [
    "## Compare: Exoplanet vs Non-exoplanet Host Stars\n",
    "\n",
    "# look at the first Star in the dataset (label = 2 means confirmed host of exoplanet)\n",
    "starA = train.iloc[0, :]\n",
    "starA.head()"
   ]
  },
  {
   "cell_type": "code",
   "execution_count": 12,
   "metadata": {
    "ExecuteTime": {
     "end_time": "2020-04-07T16:51:31.494563Z",
     "start_time": "2020-04-07T16:51:31.480278Z"
    }
   },
   "outputs": [
    {
     "data": {
      "text/plain": [
       "LABEL       1.00\n",
       "FLUX.1    323.28\n",
       "FLUX.2    306.36\n",
       "FLUX.3    293.16\n",
       "FLUX.4    287.67\n",
       "Name: 5086, dtype: float64"
      ]
     },
     "execution_count": 12,
     "metadata": {},
     "output_type": "execute_result"
    }
   ],
   "source": [
    "# non-exoplanet host star in last row of index (5086 or -1)\n",
    "starB = train.iloc[-1, :]\n",
    "starB.head()"
   ]
  },
  {
   "cell_type": "markdown",
   "metadata": {},
   "source": [
    "# Explore"
   ]
  },
  {
   "cell_type": "code",
   "execution_count": 13,
   "metadata": {
    "ExecuteTime": {
     "end_time": "2020-04-07T16:51:36.510650Z",
     "start_time": "2020-04-07T16:51:33.953567Z"
    }
   },
   "outputs": [
    {
     "data": {
      "image/png": "[encoded data removed]",
      "text/plain": [
       "<Figure size 1080x360 with 1 Axes>"
      ]
     },
     "metadata": {
      "needs_background": "light"
     },
     "output_type": "display_data"
    },
    {
     "data": {
      "image/png": "[encoded data removed]",
      "text/plain": [
       "<Figure size 1080x360 with 1 Axes>"
      ]
     },
     "metadata": {
      "needs_background": "light"
     },
     "output_type": "display_data"
    },
    {
     "data": {
      "image/png": "[encoded data removed]",
      "text/plain": [
       "<Figure size 1080x360 with 1 Axes>"
      ]
     },
     "metadata": {
      "needs_background": "light"
     },
     "output_type": "display_data"
    },
    {
     "data": {
      "image/png": "[encoded data removed]",
      "text/plain": [
       "<Figure size 1080x360 with 1 Axes>"
      ]
     },
     "metadata": {
      "needs_background": "light"
     },
     "output_type": "display_data"
    }
   ],
   "source": [
    "# Scatter Plot For First Star\n",
    "plt.figure(figsize=(15, 5))\n",
    "plt.scatter(pd.Series([i for i in range(1, len(starA))]), starA[1:])\n",
    "plt.ylabel('Flux')\n",
    "plt.xlabel('Time')\n",
    "plt.title('Flux for StarA - exoplanet TCE')\n",
    "plt.show()\n",
    "\n",
    "# Line Plot For First Star\n",
    "plt.figure(figsize=(15, 5))\n",
    "plt.plot(pd.Series([i for i in range(1, len(starA))]), starA[1:])\n",
    "plt.ylabel('Flux')\n",
    "plt.xlabel('Time')\n",
    "plt.title('Flux for StarA - exoplanet TCE')\n",
    "plt.show()\n",
    "\n",
    "\n",
    "# Scatter Plot For Last Star\n",
    "plt.figure(figsize=(15, 5))\n",
    "plt.scatter(pd.Series([i for i in range(1, len(starB))]), starB[1:])\n",
    "plt.ylabel('Flux')\n",
    "plt.xlabel('Time')\n",
    "plt.title('Flux for StarB - no planet')\n",
    "plt.show()\n",
    "\n",
    "# Line Plot For last Star\n",
    "plt.figure(figsize=(15, 5))\n",
    "plt.plot(pd.Series([i for i in range(1, len(starB))]), starB[1:])\n",
    "plt.ylabel('Flux')\n",
    "plt.xlabel('Time')\n",
    "plt.title('Flux for StarB - no planet')\n",
    "plt.show()\n"
   ]
  },
  {
   "cell_type": "markdown",
   "metadata": {},
   "source": [
    "# Model 1 - Keras Neural Network"
   ]
  },
  {
   "cell_type": "code",
   "execution_count": 24,
   "metadata": {
    "ExecuteTime": {
     "end_time": "2020-04-07T16:54:39.225360Z",
     "start_time": "2020-04-07T16:54:39.194725Z"
    }
   },
   "outputs": [],
   "source": [
    "# import additional libraries from sklearn\n",
    "from sklearn.linear_model import LinearRegression\n",
    "from sklearn.preprocessing import StandardScaler\n",
    "from sklearn.metrics import roc_curve, roc_auc_score\n",
    "from scipy.ndimage.filters import uniform_filter1d\n",
    "from sklearn.model_selection import train_test_split\n",
    "from sklearn import preprocessing\n",
    "import random"
   ]
  },
  {
   "cell_type": "code",
   "execution_count": 26,
   "metadata": {
    "ExecuteTime": {
     "end_time": "2020-04-07T16:55:18.455356Z",
     "start_time": "2020-04-07T16:55:14.560574Z"
    }
   },
   "outputs": [
    {
     "name": "stdout",
     "output_type": "stream",
     "text": [
      "Requirement already satisfied: keras in /Users/hakkeray/opt/anaconda3/envs/learn-env/lib/python3.6/site-packages (2.3.1)\n",
      "Requirement already satisfied: pyyaml in /Users/hakkeray/opt/anaconda3/envs/learn-env/lib/python3.6/site-packages (from keras) (5.3)\n",
      "Requirement already satisfied: numpy>=1.9.1 in /Users/hakkeray/opt/anaconda3/envs/learn-env/lib/python3.6/site-packages (from keras) (1.18.1)\n",
      "Requirement already satisfied: h5py in /Users/hakkeray/opt/anaconda3/envs/learn-env/lib/python3.6/site-packages (from keras) (2.10.0)\n",
      "Requirement already satisfied: keras-preprocessing>=1.0.5 in /Users/hakkeray/opt/anaconda3/envs/learn-env/lib/python3.6/site-packages (from keras) (1.1.0)\n",
      "Requirement already satisfied: six>=1.9.0 in /Users/hakkeray/opt/anaconda3/envs/learn-env/lib/python3.6/site-packages (from keras) (1.14.0)\n",
      "Requirement already satisfied: scipy>=0.14 in /Users/hakkeray/opt/anaconda3/envs/learn-env/lib/python3.6/site-packages (from keras) (1.4.1)\n",
      "Requirement already satisfied: keras-applications>=1.0.6 in /Users/hakkeray/opt/anaconda3/envs/learn-env/lib/python3.6/site-packages (from keras) (1.0.8)\n"
     ]
    }
   ],
   "source": [
    "!pip install keras\n",
    "# !pip install tensorflow"
   ]
  },
  {
   "cell_type": "code",
   "execution_count": 27,
   "metadata": {
    "ExecuteTime": {
     "end_time": "2020-04-07T16:55:22.819056Z",
     "start_time": "2020-04-07T16:55:22.788530Z"
    }
   },
   "outputs": [
    {
     "ename": "ModuleNotFoundError",
     "evalue": "No module named 'keras'",
     "output_type": "error",
     "traceback": [
      "\u001b[0;31m---------------------------------------------------------------------------\u001b[0m",
      "\u001b[0;31mModuleNotFoundError\u001b[0m                       Traceback (most recent call last)",
      "\u001b[0;32m<ipython-input-27-bae3e270aabc>\u001b[0m in \u001b[0;36m<module>\u001b[0;34m\u001b[0m\n\u001b[1;32m      1\u001b[0m \u001b[0;31m# import additional libraries for keras\u001b[0m\u001b[0;34m\u001b[0m\u001b[0;34m\u001b[0m\u001b[0;34m\u001b[0m\u001b[0m\n\u001b[0;32m----> 2\u001b[0;31m \u001b[0;32mfrom\u001b[0m \u001b[0mkeras\u001b[0m\u001b[0;34m.\u001b[0m\u001b[0mutils\u001b[0m\u001b[0;34m.\u001b[0m\u001b[0mnp_utils\u001b[0m \u001b[0;32mimport\u001b[0m \u001b[0mto_categorical\u001b[0m\u001b[0;34m\u001b[0m\u001b[0;34m\u001b[0m\u001b[0m\n\u001b[0m\u001b[1;32m      3\u001b[0m \u001b[0;34m\u001b[0m\u001b[0m\n\u001b[1;32m      4\u001b[0m \u001b[0;32mfrom\u001b[0m \u001b[0mkeras\u001b[0m\u001b[0;34m.\u001b[0m\u001b[0mpreprocessing\u001b[0m\u001b[0;34m.\u001b[0m\u001b[0mtext\u001b[0m \u001b[0;32mimport\u001b[0m \u001b[0mTokenizer\u001b[0m\u001b[0;34m\u001b[0m\u001b[0;34m\u001b[0m\u001b[0m\n\u001b[1;32m      5\u001b[0m \u001b[0;32mfrom\u001b[0m \u001b[0mkeras\u001b[0m \u001b[0;32mimport\u001b[0m \u001b[0mmodels\u001b[0m\u001b[0;34m,\u001b[0m \u001b[0mlayers\u001b[0m\u001b[0;34m,\u001b[0m \u001b[0moptimizers\u001b[0m\u001b[0;34m\u001b[0m\u001b[0;34m\u001b[0m\u001b[0m\n",
      "\u001b[0;31mModuleNotFoundError\u001b[0m: No module named 'keras'"
     ]
    }
   ],
   "source": [
    "# import additional libraries for keras\n",
    "from keras.utils.np_utils import to_categorical\n",
    "\n",
    "from keras.preprocessing.text import Tokenizer\n",
    "from keras import models, layers, optimizers\n",
    "\n",
    "\n",
    "from keras.models import Sequential, Model\n",
    "from keras.layers import Conv1D, MaxPool1D, Dense, Dropout, Flatten, \\\n",
    "BatchNormalization, Input, concatenate, Activation\n",
    "from keras.optimizers import Adam"
   ]
  },
  {
   "cell_type": "markdown",
   "metadata": {},
   "source": [
    "## Train-Test Split"
   ]
  },
  {
   "cell_type": "code",
   "execution_count": 25,
   "metadata": {
    "ExecuteTime": {
     "end_time": "2020-04-07T04:57:19.667583Z",
     "start_time": "2020-04-07T04:57:19.501506Z"
    }
   },
   "outputs": [],
   "source": [
    "# Prep data for ML : Separate target and feature datasets\n",
    "# TARGETS\n",
    "y_train = train['LABEL']\n",
    "y_test = test['LABEL']\n",
    "\n",
    "# FEATURES\n",
    "x_train = train.drop(columns=['LABEL'], axis=1)\n",
    "x_test = test.drop(columns=['LABEL'], axis=1)\n"
   ]
  },
  {
   "cell_type": "code",
   "execution_count": 27,
   "metadata": {
    "ExecuteTime": {
     "end_time": "2020-04-07T04:57:41.488960Z",
     "start_time": "2020-04-07T04:57:41.325108Z"
    }
   },
   "outputs": [],
   "source": [
    "x_train = np.array(x_train)"
   ]
  },
  {
   "cell_type": "code",
   "execution_count": 28,
   "metadata": {
    "ExecuteTime": {
     "end_time": "2020-04-07T04:57:47.756616Z",
     "start_time": "2020-04-07T04:57:47.262448Z"
    }
   },
   "outputs": [],
   "source": [
    "x_train = ((x_train - np.mean(x_train, axis=1).reshape(-1,1)) / \n",
    "            np.std(x_train, axis=1).reshape(-1,1))"
   ]
  },
  {
   "cell_type": "code",
   "execution_count": 29,
   "metadata": {
    "ExecuteTime": {
     "end_time": "2020-04-07T04:58:00.943830Z",
     "start_time": "2020-04-07T04:58:00.923426Z"
    }
   },
   "outputs": [],
   "source": [
    "x_test = np.array(x_test)"
   ]
  },
  {
   "cell_type": "code",
   "execution_count": 30,
   "metadata": {
    "ExecuteTime": {
     "end_time": "2020-04-07T04:58:11.845527Z",
     "start_time": "2020-04-07T04:58:11.790965Z"
    }
   },
   "outputs": [],
   "source": [
    "x_test = ((x_test - np.mean(x_test, axis=1).reshape(-1,1)) / \n",
    "          np.std(x_test, axis=1).reshape(-1,1))"
   ]
  },
  {
   "cell_type": "code",
   "execution_count": 31,
   "metadata": {
    "ExecuteTime": {
     "end_time": "2020-04-07T04:58:22.662771Z",
     "start_time": "2020-04-07T04:58:21.723477Z"
    }
   },
   "outputs": [],
   "source": [
    "\n",
    "x_train = np.stack([x_train, uniform_filter1d(x_train, axis=1, size=200)], axis=2)\n",
    "x_test = np.stack([x_test, uniform_filter1d(x_test, axis=1, size=200)], axis=2)"
   ]
  },
  {
   "cell_type": "markdown",
   "metadata": {},
   "source": [
    "## Train Model"
   ]
  },
  {
   "cell_type": "code",
   "execution_count": 32,
   "metadata": {
    "ExecuteTime": {
     "end_time": "2020-04-07T04:58:35.262044Z",
     "start_time": "2020-04-07T04:58:35.234546Z"
    }
   },
   "outputs": [
    {
     "ename": "NameError",
     "evalue": "name 'Sequential' is not defined",
     "output_type": "error",
     "traceback": [
      "\u001b[0;31m---------------------------------------------------------------------------\u001b[0m",
      "\u001b[0;31mNameError\u001b[0m                                 Traceback (most recent call last)",
      "\u001b[0;32m<ipython-input-32-dc0dc1c3b446>\u001b[0m in \u001b[0;36m<module>\u001b[0;34m\u001b[0m\n\u001b[0;32m----> 1\u001b[0;31m \u001b[0mmodel\u001b[0m \u001b[0;34m=\u001b[0m \u001b[0mSequential\u001b[0m\u001b[0;34m(\u001b[0m\u001b[0;34m)\u001b[0m\u001b[0;34m\u001b[0m\u001b[0;34m\u001b[0m\u001b[0m\n\u001b[0m\u001b[1;32m      2\u001b[0m model.add(Conv1D(filters=8, kernel_size=11, activation='relu', \n\u001b[1;32m      3\u001b[0m                  input_shape=x_train.shape[1:]))\n\u001b[1;32m      4\u001b[0m \u001b[0mmodel\u001b[0m\u001b[0;34m.\u001b[0m\u001b[0madd\u001b[0m\u001b[0;34m(\u001b[0m\u001b[0mMaxPool1D\u001b[0m\u001b[0;34m(\u001b[0m\u001b[0mstrides\u001b[0m\u001b[0;34m=\u001b[0m\u001b[0;36m4\u001b[0m\u001b[0;34m)\u001b[0m\u001b[0;34m)\u001b[0m\u001b[0;34m\u001b[0m\u001b[0;34m\u001b[0m\u001b[0m\n\u001b[1;32m      5\u001b[0m \u001b[0mmodel\u001b[0m\u001b[0;34m.\u001b[0m\u001b[0madd\u001b[0m\u001b[0;34m(\u001b[0m\u001b[0mBatchNormalization\u001b[0m\u001b[0;34m(\u001b[0m\u001b[0;34m)\u001b[0m\u001b[0;34m)\u001b[0m\u001b[0;34m\u001b[0m\u001b[0;34m\u001b[0m\u001b[0m\n",
      "\u001b[0;31mNameError\u001b[0m: name 'Sequential' is not defined"
     ]
    }
   ],
   "source": [
    "model = Sequential()\n",
    "model.add(Conv1D(filters=8, kernel_size=11, activation='relu', \n",
    "                 input_shape=x_train.shape[1:]))\n",
    "model.add(MaxPool1D(strides=4))\n",
    "model.add(BatchNormalization())\n",
    "model.add(Conv1D(filters=16, kernel_size=11, activation='relu'))\n",
    "model.add(MaxPool1D(strides=4))\n",
    "model.add(BatchNormalization())\n",
    "model.add(Conv1D(filters=32, kernel_size=11, activation='relu'))\n",
    "model.add(MaxPool1D(strides=4))\n",
    "model.add(BatchNormalization())\n",
    "model.add(Conv1D(filters=64, kernel_size=11, activation='relu'))\n",
    "model.add(MaxPool1D(strides=4))\n",
    "model.add(Flatten())\n",
    "model.add(Dropout(0.5))\n",
    "model.add(Dense(64, activation='relu'))\n",
    "model.add(Dropout(0.25))\n",
    "model.add(Dense(64, activation='relu'))\n",
    "model.add(Dense(1, activation='sigmoid'))"
   ]
  },
  {
   "cell_type": "code",
   "execution_count": 41,
   "metadata": {
    "ExecuteTime": {
     "end_time": "2020-04-07T05:00:24.119397Z",
     "start_time": "2020-04-07T05:00:24.093589Z"
    }
   },
   "outputs": [],
   "source": [
    "# As we saw earlier, the data here is extremely unbalanced, with only a few \n",
    "# positive examples. To correct for this, we'll use the positive examples more often, \n",
    "# so that the net sees 50% of each over each batch. \n",
    "\n",
    "def batch_generator(x_train, y_train, batch_size=32):\n",
    "    \"\"\"\n",
    "    Gives equal number of positive and negative samples, and rotates them randomly \n",
    "    in time\n",
    "    \"\"\"\n",
    "    half_batch = batch_size // 2\n",
    "    x_batch = np.empty((batch_size, x_train.shape[1], x_train.shape[2]), dtype='float32')\n",
    "    y_batch = np.empty((batch_size, y_train.shape[1]), dtype='float32')\n",
    "    \n",
    "    yes_idx = np.where(y_train[:,0] == 1.)[0]\n",
    "    non_idx = np.where(y_train[:,0] == 0.)[0]\n",
    "    \n",
    "    while True:\n",
    "        np.random.shuffle(yes_idx)\n",
    "        np.random.shuffle(non_idx)\n",
    "    \n",
    "        x_batch[:half_batch] = x_train[yes_idx[:half_batch]]\n",
    "        x_batch[half_batch:] = x_train[non_idx[half_batch:batch_size]]\n",
    "        y_batch[:half_batch] = y_train[yes_idx[:half_batch]]\n",
    "        y_batch[half_batch:] = y_train[non_idx[half_batch:batch_size]]\n",
    "    \n",
    "        for i in range(batch_size):\n",
    "            sz = np.random.randint(x_batch.shape[1])\n",
    "            x_batch[i] = np.roll(x_batch[i], sz, axis = 0)\n",
    "     \n",
    "        yield x_batch, y_batch"
   ]
  },
  {
   "cell_type": "code",
   "execution_count": 42,
   "metadata": {
    "ExecuteTime": {
     "end_time": "2020-04-07T05:00:26.832076Z",
     "start_time": "2020-04-07T05:00:26.809979Z"
    }
   },
   "outputs": [
    {
     "ename": "NameError",
     "evalue": "name 'model' is not defined",
     "output_type": "error",
     "traceback": [
      "\u001b[0;31m---------------------------------------------------------------------------\u001b[0m",
      "\u001b[0;31mNameError\u001b[0m                                 Traceback (most recent call last)",
      "\u001b[0;32m<ipython-input-42-90988ad59510>\u001b[0m in \u001b[0;36m<module>\u001b[0;34m\u001b[0m\n\u001b[1;32m      1\u001b[0m \u001b[0;31m#Start with a slightly lower learning rate, to ensure convergence\u001b[0m\u001b[0;34m\u001b[0m\u001b[0;34m\u001b[0m\u001b[0;34m\u001b[0m\u001b[0m\n\u001b[0;32m----> 2\u001b[0;31m \u001b[0mmodel\u001b[0m\u001b[0;34m.\u001b[0m\u001b[0mcompile\u001b[0m\u001b[0;34m(\u001b[0m\u001b[0moptimizer\u001b[0m\u001b[0;34m=\u001b[0m\u001b[0mAdam\u001b[0m\u001b[0;34m(\u001b[0m\u001b[0;36m1e-5\u001b[0m\u001b[0;34m)\u001b[0m\u001b[0;34m,\u001b[0m \u001b[0mloss\u001b[0m \u001b[0;34m=\u001b[0m \u001b[0;34m'binary_crossentropy'\u001b[0m\u001b[0;34m,\u001b[0m \u001b[0mmetrics\u001b[0m\u001b[0;34m=\u001b[0m\u001b[0;34m[\u001b[0m\u001b[0;34m'accuracy'\u001b[0m\u001b[0;34m]\u001b[0m\u001b[0;34m)\u001b[0m\u001b[0;34m\u001b[0m\u001b[0;34m\u001b[0m\u001b[0m\n\u001b[0m\u001b[1;32m      3\u001b[0m hist = model.fit_generator(batch_generator(x_train, y_train, 32), \n\u001b[1;32m      4\u001b[0m                            \u001b[0mvalidation_data\u001b[0m\u001b[0;34m=\u001b[0m\u001b[0;34m(\u001b[0m\u001b[0mx_test\u001b[0m\u001b[0;34m,\u001b[0m \u001b[0my_test\u001b[0m\u001b[0;34m)\u001b[0m\u001b[0;34m,\u001b[0m\u001b[0;34m\u001b[0m\u001b[0;34m\u001b[0m\u001b[0m\n\u001b[1;32m      5\u001b[0m                            \u001b[0mverbose\u001b[0m\u001b[0;34m=\u001b[0m\u001b[0;36m0\u001b[0m\u001b[0;34m,\u001b[0m \u001b[0mepochs\u001b[0m\u001b[0;34m=\u001b[0m\u001b[0;36m5\u001b[0m\u001b[0;34m,\u001b[0m\u001b[0;34m\u001b[0m\u001b[0;34m\u001b[0m\u001b[0m\n",
      "\u001b[0;31mNameError\u001b[0m: name 'model' is not defined"
     ]
    }
   ],
   "source": [
    "#Start with a slightly lower learning rate, to ensure convergence\n",
    "model.compile(optimizer=Adam(1e-5), loss = 'binary_crossentropy', metrics=['accuracy'])\n",
    "hist = model.fit_generator(batch_generator(x_train, y_train, 32), \n",
    "                           validation_data=(x_test, y_test), \n",
    "                           verbose=0, epochs=5,\n",
    "                           steps_per_epoch=x_train.shape[1]//32)"
   ]
  },
  {
   "cell_type": "code",
   "execution_count": 43,
   "metadata": {
    "ExecuteTime": {
     "end_time": "2020-04-07T05:00:32.544016Z",
     "start_time": "2020-04-07T05:00:32.524915Z"
    }
   },
   "outputs": [
    {
     "ename": "NameError",
     "evalue": "name 'model' is not defined",
     "output_type": "error",
     "traceback": [
      "\u001b[0;31m---------------------------------------------------------------------------\u001b[0m",
      "\u001b[0;31mNameError\u001b[0m                                 Traceback (most recent call last)",
      "\u001b[0;32m<ipython-input-43-0d6f2db849e4>\u001b[0m in \u001b[0;36m<module>\u001b[0;34m\u001b[0m\n\u001b[1;32m      1\u001b[0m \u001b[0;31m# speeding things up\u001b[0m\u001b[0;34m\u001b[0m\u001b[0;34m\u001b[0m\u001b[0;34m\u001b[0m\u001b[0m\n\u001b[0;32m----> 2\u001b[0;31m \u001b[0mmodel\u001b[0m\u001b[0;34m.\u001b[0m\u001b[0mcompile\u001b[0m\u001b[0;34m(\u001b[0m\u001b[0moptimizer\u001b[0m\u001b[0;34m=\u001b[0m\u001b[0mAdam\u001b[0m\u001b[0;34m(\u001b[0m\u001b[0;36m4e-5\u001b[0m\u001b[0;34m)\u001b[0m\u001b[0;34m,\u001b[0m \u001b[0mloss\u001b[0m \u001b[0;34m=\u001b[0m \u001b[0;34m'binary_crossentropy'\u001b[0m\u001b[0;34m,\u001b[0m \u001b[0mmetrics\u001b[0m\u001b[0;34m=\u001b[0m\u001b[0;34m[\u001b[0m\u001b[0;34m'accuracy'\u001b[0m\u001b[0;34m]\u001b[0m\u001b[0;34m)\u001b[0m\u001b[0;34m\u001b[0m\u001b[0;34m\u001b[0m\u001b[0m\n\u001b[0m\u001b[1;32m      3\u001b[0m hist = model.fit_generator(batch_generator(x_train, y_train, 32), \n\u001b[1;32m      4\u001b[0m                            \u001b[0mvalidation_data\u001b[0m\u001b[0;34m=\u001b[0m\u001b[0;34m(\u001b[0m\u001b[0mx_test\u001b[0m\u001b[0;34m,\u001b[0m \u001b[0my_test\u001b[0m\u001b[0;34m)\u001b[0m\u001b[0;34m,\u001b[0m\u001b[0;34m\u001b[0m\u001b[0;34m\u001b[0m\u001b[0m\n\u001b[1;32m      5\u001b[0m                            \u001b[0mverbose\u001b[0m\u001b[0;34m=\u001b[0m\u001b[0;36m2\u001b[0m\u001b[0;34m,\u001b[0m \u001b[0mepochs\u001b[0m\u001b[0;34m=\u001b[0m\u001b[0;36m40\u001b[0m\u001b[0;34m,\u001b[0m\u001b[0;34m\u001b[0m\u001b[0;34m\u001b[0m\u001b[0m\n",
      "\u001b[0;31mNameError\u001b[0m: name 'model' is not defined"
     ]
    }
   ],
   "source": [
    "# speeding things up\n",
    "model.compile(optimizer=Adam(4e-5), loss = 'binary_crossentropy', metrics=['accuracy'])\n",
    "hist = model.fit_generator(batch_generator(x_train, y_train, 32), \n",
    "                           validation_data=(x_test, y_test), \n",
    "                           verbose=2, epochs=40,\n",
    "                           steps_per_epoch=x_train.shape[1]//32)"
   ]
  },
  {
   "cell_type": "code",
   "execution_count": 139,
   "metadata": {
    "ExecuteTime": {
     "end_time": "2020-04-05T17:03:16.924080Z",
     "start_time": "2020-04-05T17:03:16.893466Z"
    }
   },
   "outputs": [
    {
     "ename": "NameError",
     "evalue": "name 'hist' is not defined",
     "output_type": "error",
     "traceback": [
      "\u001b[0;31m---------------------------------------------------------------------------\u001b[0m",
      "\u001b[0;31mNameError\u001b[0m                                 Traceback (most recent call last)",
      "\u001b[0;32m<ipython-input-139-fd277361639e>\u001b[0m in \u001b[0;36m<module>\u001b[0;34m\u001b[0m\n\u001b[1;32m      1\u001b[0m \u001b[0;31m# Look at convergence\u001b[0m\u001b[0;34m\u001b[0m\u001b[0;34m\u001b[0m\u001b[0;34m\u001b[0m\u001b[0m\n\u001b[0;32m----> 2\u001b[0;31m \u001b[0mplt\u001b[0m\u001b[0;34m.\u001b[0m\u001b[0mplot\u001b[0m\u001b[0;34m(\u001b[0m\u001b[0mhist\u001b[0m\u001b[0;34m.\u001b[0m\u001b[0mhistory\u001b[0m\u001b[0;34m[\u001b[0m\u001b[0;34m'loss'\u001b[0m\u001b[0;34m]\u001b[0m\u001b[0;34m,\u001b[0m \u001b[0mcolor\u001b[0m\u001b[0;34m=\u001b[0m\u001b[0;34m'b'\u001b[0m\u001b[0;34m)\u001b[0m\u001b[0;34m\u001b[0m\u001b[0;34m\u001b[0m\u001b[0m\n\u001b[0m\u001b[1;32m      3\u001b[0m \u001b[0mplt\u001b[0m\u001b[0;34m.\u001b[0m\u001b[0mplot\u001b[0m\u001b[0;34m(\u001b[0m\u001b[0mhist\u001b[0m\u001b[0;34m.\u001b[0m\u001b[0mhistory\u001b[0m\u001b[0;34m[\u001b[0m\u001b[0;34m'val_loss'\u001b[0m\u001b[0;34m]\u001b[0m\u001b[0;34m,\u001b[0m \u001b[0mcolor\u001b[0m\u001b[0;34m=\u001b[0m\u001b[0;34m'r'\u001b[0m\u001b[0;34m)\u001b[0m\u001b[0;34m\u001b[0m\u001b[0;34m\u001b[0m\u001b[0m\n\u001b[1;32m      4\u001b[0m \u001b[0mplt\u001b[0m\u001b[0;34m.\u001b[0m\u001b[0mshow\u001b[0m\u001b[0;34m(\u001b[0m\u001b[0;34m)\u001b[0m\u001b[0;34m\u001b[0m\u001b[0;34m\u001b[0m\u001b[0m\n\u001b[1;32m      5\u001b[0m \u001b[0mplt\u001b[0m\u001b[0;34m.\u001b[0m\u001b[0mplot\u001b[0m\u001b[0;34m(\u001b[0m\u001b[0mhist\u001b[0m\u001b[0;34m.\u001b[0m\u001b[0mhistory\u001b[0m\u001b[0;34m[\u001b[0m\u001b[0;34m'accuracy'\u001b[0m\u001b[0;34m]\u001b[0m\u001b[0;34m,\u001b[0m \u001b[0mcolor\u001b[0m\u001b[0;34m=\u001b[0m\u001b[0;34m'b'\u001b[0m\u001b[0;34m)\u001b[0m\u001b[0;34m\u001b[0m\u001b[0;34m\u001b[0m\u001b[0m\n",
      "\u001b[0;31mNameError\u001b[0m: name 'hist' is not defined"
     ]
    }
   ],
   "source": [
    "# Look at convergence\n",
    "plt.plot(hist.history['loss'], color='b')\n",
    "plt.plot(hist.history['val_loss'], color='r')\n",
    "plt.show()\n",
    "plt.plot(hist.history['accuracy'], color='b')\n",
    "plt.plot(hist.history['val_accuracy'], color='r')\n",
    "plt.show()"
   ]
  },
  {
   "cell_type": "code",
   "execution_count": null,
   "metadata": {},
   "outputs": [],
   "source": [
    "non_idx = np.where(y_test[:,0] == 0.)[0]\n",
    "yes_idx = np.where(y_test[:,0] == 1.)[0]\n",
    "y_hat = model.predict(x_test)[:,0]"
   ]
  },
  {
   "cell_type": "code",
   "execution_count": null,
   "metadata": {},
   "outputs": [],
   "source": [
    "plt.plot([y_hat[i] for i in yes_idx], 'bo')\n",
    "plt.show()\n",
    "plt.plot([y_hat[i] for i in non_idx], 'ro')\n",
    "plt.show()"
   ]
  },
  {
   "cell_type": "markdown",
   "metadata": {},
   "source": [
    "These graphs show that while not all five positive examples all get 0.95-1.00 score, almost all negative examples get score close to zero with a few exceptions."
   ]
  },
  {
   "cell_type": "markdown",
   "metadata": {},
   "source": [
    "## Validation"
   ]
  },
  {
   "cell_type": "code",
   "execution_count": 44,
   "metadata": {
    "ExecuteTime": {
     "end_time": "2020-04-07T05:01:56.900816Z",
     "start_time": "2020-04-07T05:01:56.864716Z"
    }
   },
   "outputs": [
    {
     "ename": "ValueError",
     "evalue": "Can only tuple-index with a MultiIndex",
     "output_type": "error",
     "traceback": [
      "\u001b[0;31m---------------------------------------------------------------------------\u001b[0m",
      "\u001b[0;31mValueError\u001b[0m                                Traceback (most recent call last)",
      "\u001b[0;32m<ipython-input-44-8383b9aee20a>\u001b[0m in \u001b[0;36m<module>\u001b[0;34m\u001b[0m\n\u001b[1;32m      1\u001b[0m \u001b[0;31m# For classification we'll choose an optimal cutoff score with the help of Sklearn\u001b[0m\u001b[0;34m\u001b[0m\u001b[0;34m\u001b[0m\u001b[0;34m\u001b[0m\u001b[0m\n\u001b[0;32m----> 2\u001b[0;31m \u001b[0my_true\u001b[0m \u001b[0;34m=\u001b[0m \u001b[0;34m(\u001b[0m\u001b[0my_test\u001b[0m\u001b[0;34m[\u001b[0m\u001b[0;34m:\u001b[0m\u001b[0;34m,\u001b[0m \u001b[0;36m0\u001b[0m\u001b[0;34m]\u001b[0m \u001b[0;34m+\u001b[0m \u001b[0;36m0.5\u001b[0m\u001b[0;34m)\u001b[0m\u001b[0;34m.\u001b[0m\u001b[0mastype\u001b[0m\u001b[0;34m(\u001b[0m\u001b[0;34m\"int\"\u001b[0m\u001b[0;34m)\u001b[0m\u001b[0;34m\u001b[0m\u001b[0;34m\u001b[0m\u001b[0m\n\u001b[0m\u001b[1;32m      3\u001b[0m \u001b[0mfpr\u001b[0m\u001b[0;34m,\u001b[0m \u001b[0mtpr\u001b[0m\u001b[0;34m,\u001b[0m \u001b[0mthresholds\u001b[0m \u001b[0;34m=\u001b[0m \u001b[0mroc_curve\u001b[0m\u001b[0;34m(\u001b[0m\u001b[0my_true\u001b[0m\u001b[0;34m,\u001b[0m \u001b[0my_hat\u001b[0m\u001b[0;34m)\u001b[0m\u001b[0;34m\u001b[0m\u001b[0;34m\u001b[0m\u001b[0m\n\u001b[1;32m      4\u001b[0m \u001b[0mplt\u001b[0m\u001b[0;34m.\u001b[0m\u001b[0mplot\u001b[0m\u001b[0;34m(\u001b[0m\u001b[0mthresholds\u001b[0m\u001b[0;34m,\u001b[0m \u001b[0;36m1.\u001b[0m\u001b[0;34m-\u001b[0m\u001b[0mfpr\u001b[0m\u001b[0;34m)\u001b[0m\u001b[0;34m\u001b[0m\u001b[0;34m\u001b[0m\u001b[0m\n\u001b[1;32m      5\u001b[0m \u001b[0mplt\u001b[0m\u001b[0;34m.\u001b[0m\u001b[0mplot\u001b[0m\u001b[0;34m(\u001b[0m\u001b[0mthresholds\u001b[0m\u001b[0;34m,\u001b[0m \u001b[0mtpr\u001b[0m\u001b[0;34m)\u001b[0m\u001b[0;34m\u001b[0m\u001b[0;34m\u001b[0m\u001b[0m\n",
      "\u001b[0;32m~/opt/anaconda3/lib/python3.7/site-packages/pandas/core/series.py\u001b[0m in \u001b[0;36m__getitem__\u001b[0;34m(self, key)\u001b[0m\n\u001b[1;32m   1108\u001b[0m             \u001b[0mkey\u001b[0m \u001b[0;34m=\u001b[0m \u001b[0mcheck_bool_indexer\u001b[0m\u001b[0;34m(\u001b[0m\u001b[0mself\u001b[0m\u001b[0;34m.\u001b[0m\u001b[0mindex\u001b[0m\u001b[0;34m,\u001b[0m \u001b[0mkey\u001b[0m\u001b[0;34m)\u001b[0m\u001b[0;34m\u001b[0m\u001b[0;34m\u001b[0m\u001b[0m\n\u001b[1;32m   1109\u001b[0m \u001b[0;34m\u001b[0m\u001b[0m\n\u001b[0;32m-> 1110\u001b[0;31m         \u001b[0;32mreturn\u001b[0m \u001b[0mself\u001b[0m\u001b[0;34m.\u001b[0m\u001b[0m_get_with\u001b[0m\u001b[0;34m(\u001b[0m\u001b[0mkey\u001b[0m\u001b[0;34m)\u001b[0m\u001b[0;34m\u001b[0m\u001b[0;34m\u001b[0m\u001b[0m\n\u001b[0m\u001b[1;32m   1111\u001b[0m \u001b[0;34m\u001b[0m\u001b[0m\n\u001b[1;32m   1112\u001b[0m     \u001b[0;32mdef\u001b[0m \u001b[0m_get_with\u001b[0m\u001b[0;34m(\u001b[0m\u001b[0mself\u001b[0m\u001b[0;34m,\u001b[0m \u001b[0mkey\u001b[0m\u001b[0;34m)\u001b[0m\u001b[0;34m:\u001b[0m\u001b[0;34m\u001b[0m\u001b[0;34m\u001b[0m\u001b[0m\n",
      "\u001b[0;32m~/opt/anaconda3/lib/python3.7/site-packages/pandas/core/series.py\u001b[0m in \u001b[0;36m_get_with\u001b[0;34m(self, key)\u001b[0m\n\u001b[1;32m   1122\u001b[0m         \u001b[0;32melif\u001b[0m \u001b[0misinstance\u001b[0m\u001b[0;34m(\u001b[0m\u001b[0mkey\u001b[0m\u001b[0;34m,\u001b[0m \u001b[0mtuple\u001b[0m\u001b[0;34m)\u001b[0m\u001b[0;34m:\u001b[0m\u001b[0;34m\u001b[0m\u001b[0;34m\u001b[0m\u001b[0m\n\u001b[1;32m   1123\u001b[0m             \u001b[0;32mtry\u001b[0m\u001b[0;34m:\u001b[0m\u001b[0;34m\u001b[0m\u001b[0;34m\u001b[0m\u001b[0m\n\u001b[0;32m-> 1124\u001b[0;31m                 \u001b[0;32mreturn\u001b[0m \u001b[0mself\u001b[0m\u001b[0;34m.\u001b[0m\u001b[0m_get_values_tuple\u001b[0m\u001b[0;34m(\u001b[0m\u001b[0mkey\u001b[0m\u001b[0;34m)\u001b[0m\u001b[0;34m\u001b[0m\u001b[0;34m\u001b[0m\u001b[0m\n\u001b[0m\u001b[1;32m   1125\u001b[0m             \u001b[0;32mexcept\u001b[0m \u001b[0mException\u001b[0m\u001b[0;34m:\u001b[0m\u001b[0;34m\u001b[0m\u001b[0;34m\u001b[0m\u001b[0m\n\u001b[1;32m   1126\u001b[0m                 \u001b[0;32mif\u001b[0m \u001b[0mlen\u001b[0m\u001b[0;34m(\u001b[0m\u001b[0mkey\u001b[0m\u001b[0;34m)\u001b[0m \u001b[0;34m==\u001b[0m \u001b[0;36m1\u001b[0m\u001b[0;34m:\u001b[0m\u001b[0;34m\u001b[0m\u001b[0;34m\u001b[0m\u001b[0m\n",
      "\u001b[0;32m~/opt/anaconda3/lib/python3.7/site-packages/pandas/core/series.py\u001b[0m in \u001b[0;36m_get_values_tuple\u001b[0;34m(self, key)\u001b[0m\n\u001b[1;32m   1167\u001b[0m \u001b[0;34m\u001b[0m\u001b[0m\n\u001b[1;32m   1168\u001b[0m         \u001b[0;32mif\u001b[0m \u001b[0;32mnot\u001b[0m \u001b[0misinstance\u001b[0m\u001b[0;34m(\u001b[0m\u001b[0mself\u001b[0m\u001b[0;34m.\u001b[0m\u001b[0mindex\u001b[0m\u001b[0;34m,\u001b[0m \u001b[0mMultiIndex\u001b[0m\u001b[0;34m)\u001b[0m\u001b[0;34m:\u001b[0m\u001b[0;34m\u001b[0m\u001b[0;34m\u001b[0m\u001b[0m\n\u001b[0;32m-> 1169\u001b[0;31m             \u001b[0;32mraise\u001b[0m \u001b[0mValueError\u001b[0m\u001b[0;34m(\u001b[0m\u001b[0;34m\"Can only tuple-index with a MultiIndex\"\u001b[0m\u001b[0;34m)\u001b[0m\u001b[0;34m\u001b[0m\u001b[0;34m\u001b[0m\u001b[0m\n\u001b[0m\u001b[1;32m   1170\u001b[0m \u001b[0;34m\u001b[0m\u001b[0m\n\u001b[1;32m   1171\u001b[0m         \u001b[0;31m# If key is contained, would have returned by now\u001b[0m\u001b[0;34m\u001b[0m\u001b[0;34m\u001b[0m\u001b[0;34m\u001b[0m\u001b[0m\n",
      "\u001b[0;31mValueError\u001b[0m: Can only tuple-index with a MultiIndex"
     ]
    }
   ],
   "source": [
    "# For classification we'll choose an optimal cutoff score with the help of Sklearn\n",
    "y_true = (y_test[:, 0] + 0.5).astype(\"int\")\n",
    "fpr, tpr, thresholds = roc_curve(y_true, y_hat)\n",
    "plt.plot(thresholds, 1.-fpr)\n",
    "plt.plot(thresholds, tpr)\n",
    "plt.show()\n",
    "crossover_index = np.min(np.where(1.-fpr <= tpr))\n",
    "crossover_cutoff = thresholds[crossover_index]\n",
    "crossover_specificity = 1.-fpr[crossover_index]\n",
    "print(\"Crossover at {0:.2f} with specificity {1:.2f}\".format(crossover_cutoff, crossover_specificity))\n",
    "plt.plot(fpr, tpr)\n",
    "plt.show()\n",
    "print(\"ROC area under curve is {0:.2f}\".format(roc_auc_score(y_true, y_hat)))"
   ]
  },
  {
   "cell_type": "code",
   "execution_count": null,
   "metadata": {},
   "outputs": [],
   "source": [
    "false_positives = np.where(y_hat * (1. - y_test) > 0.5)[0]\n",
    "for i in non_idx:\n",
    "    if y_hat[i] > crossover_cutoff:\n",
    "        print(i)\n",
    "        plt.plot(x_test[i])\n",
    "        plt.show()"
   ]
  },
  {
   "cell_type": "markdown",
   "metadata": {},
   "source": [
    "# Conclusion - Part I\n",
    "\n",
    "Above, we were able to identify with 99% accuracy the handful of stars that have an exoplanet orbiting around them. "
   ]
  },
  {
   "cell_type": "markdown",
   "metadata": {},
   "source": [
    "# Next\n",
    "\n",
    "In the next section of the project, we'll take another approach to detecting exoplanets using computer vision. Please go to the notebook `[starskøpe-2]` to see how I use a Restricted Boltzmann Machines neural network model to classify stars as exoplanet hosts using spectograph images of the flux values to find transiting exoplanets. \n"
   ]
  }
 ],
 "metadata": {
  "file_extension": ".py",
  "kernelspec": {
   "display_name": "learn-env",
   "language": "python",
   "name": "learn-env"
  },
  "language_info": {
   "codemirror_mode": {
    "name": "ipython",
    "version": 3
   },
   "file_extension": ".py",
   "mimetype": "text/x-python",
   "name": "python",
   "nbconvert_exporter": "python",
   "pygments_lexer": "ipython3",
   "version": "3.7.4"
  },
  "latex_envs": {
   "LaTeX_envs_menu_present": true,
   "autoclose": false,
   "autocomplete": true,
   "bibliofile": "biblio.bib",
   "cite_by": "apalike",
   "current_citInitial": 1,
   "eqLabelWithNumbers": true,
   "eqNumInitial": 1,
   "hotkeys": {
    "equation": "Ctrl-E",
    "itemize": "Ctrl-I"
   },
   "labels_anchors": false,
   "latex_user_defs": false,
   "report_style_numbering": false,
   "user_envs_cfg": false
  },
  "mimetype": "text/x-python",
  "name": "python",
  "npconvert_exporter": "python",
  "pygments_lexer": "ipython3",
  "toc": {
   "base_numbering": 1,
   "nav_menu": {},
   "number_sections": false,
   "sideBar": true,
   "skip_h1_title": false,
   "title_cell": "Table of Contents",
   "title_sidebar": "Contents",
   "toc_cell": false,
   "toc_position": {
    "height": "766px",
    "left": "65px",
    "top": "110px",
    "width": "209.797px"
   },
   "toc_section_display": true,
   "toc_window_display": true
  },
  "varInspector": {
   "cols": {
    "lenName": 16,
    "lenType": 16,
    "lenVar": 40
   },
   "kernels_config": {
    "python": {
     "delete_cmd_postfix": "",
     "delete_cmd_prefix": "del ",
     "library": "var_list.py",
     "varRefreshCmd": "print(var_dic_list())"
    },
    "r": {
     "delete_cmd_postfix": ") ",
     "delete_cmd_prefix": "rm(",
     "library": "var_list.r",
     "varRefreshCmd": "cat(var_dic_list()) "
    }
   },
   "types_to_exclude": [
    "module",
    "function",
    "builtin_function_or_method",
    "instance",
    "_Feature"
   ],
   "window_display": false
  },
  "version": 3
 },
 "nbformat": 4,
 "nbformat_minor": 2
}
