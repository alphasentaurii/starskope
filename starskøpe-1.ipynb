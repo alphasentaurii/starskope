{
 "cells": [
  {
   "cell_type": "markdown",
   "metadata": {},
   "source": [
    "# `starskøpe`\n",
    "\n",
    "$\\phi$**Cyberoptic Telescope for Classifying Astrophysical Phenomena and Finding Planet X**\n",
    "\n",
    "> Flatiron School Capstone Project\n",
    "* `Ru Keïn`\n",
    "* `Instructor: James Irving PhD`\n",
    "* `Data Science Full-Time Program`\n",
    "* `Blog post URL:` Exoplanet Hunting with Deep Boltzman Machines\n",
    "* `Non-Technical Presentation`"
   ]
  },
  {
   "cell_type": "markdown",
   "metadata": {},
   "source": [
    "# Research Map\n",
    "\n",
    "## FIRST\n",
    "What is the best way to classify exoplanetary signals?\n",
    "\n",
    "## SECOND\n",
    "Can it be done accurately and reliably using only one type of data? EG timeseries-flux or 1D lightcurve analysis?\n",
    "\n",
    "## THIRD\n",
    "How much more accurate/reliable would our algorithm be if:\n",
    "1) training data includes both \"LEFT-BRAIN\" and \"RIGHT-BRAIN\" modes of thinking;\n",
    "2) training data includes information that requires analytical processing using both patterns of thought, \n",
    "but each input is a meshed layering into one projected image.\n",
    "\n",
    "## NOW\n",
    "For now, we must first take care of the basics and begin working with the most barebones, minimal dataset we can find: the Kepler labeled Time Series data found on Kaggle. "
   ]
  },
  {
   "cell_type": "markdown",
   "metadata": {},
   "source": [
    "# Import"
   ]
  },
  {
   "cell_type": "code",
   "execution_count": 1,
   "metadata": {
    "ExecuteTime": {
     "end_time": "2020-03-23T19:30:25.729139Z",
     "start_time": "2020-03-23T19:30:11.037066Z"
    }
   },
   "outputs": [
    {
     "name": "stdout",
     "output_type": "stream",
     "text": [
      "fsds_1007219  v0.7.16 loaded.  Read the docs: https://fsds.readthedocs.io/en/latest/ \n"
     ]
    },
    {
     "data": {
      "text/html": [
       "<style  type=\"text/css\" >\n",
       "</style><table id=\"T_bbfd1294_6d3c_11ea_b0c3_f40f2405a054\" ><caption>Loaded Packages and Handles</caption><thead>    <tr>        <th class=\"col_heading level0 col0\" >Handle</th>        <th class=\"col_heading level0 col1\" >Package</th>        <th class=\"col_heading level0 col2\" >Description</th>    </tr></thead><tbody>\n",
       "                <tr>\n",
       "                                <td id=\"T_bbfd1294_6d3c_11ea_b0c3_f40f2405a054row0_col0\" class=\"data row0 col0\" >dp</td>\n",
       "                        <td id=\"T_bbfd1294_6d3c_11ea_b0c3_f40f2405a054row0_col1\" class=\"data row0 col1\" >IPython.display</td>\n",
       "                        <td id=\"T_bbfd1294_6d3c_11ea_b0c3_f40f2405a054row0_col2\" class=\"data row0 col2\" >Display modules with helpful display and clearing commands.</td>\n",
       "            </tr>\n",
       "            <tr>\n",
       "                                <td id=\"T_bbfd1294_6d3c_11ea_b0c3_f40f2405a054row1_col0\" class=\"data row1 col0\" >fs</td>\n",
       "                        <td id=\"T_bbfd1294_6d3c_11ea_b0c3_f40f2405a054row1_col1\" class=\"data row1 col1\" >fsds_100719</td>\n",
       "                        <td id=\"T_bbfd1294_6d3c_11ea_b0c3_f40f2405a054row1_col2\" class=\"data row1 col2\" >Custom data science bootcamp student package</td>\n",
       "            </tr>\n",
       "            <tr>\n",
       "                                <td id=\"T_bbfd1294_6d3c_11ea_b0c3_f40f2405a054row2_col0\" class=\"data row2 col0\" >mpl</td>\n",
       "                        <td id=\"T_bbfd1294_6d3c_11ea_b0c3_f40f2405a054row2_col1\" class=\"data row2 col1\" >matplotlib</td>\n",
       "                        <td id=\"T_bbfd1294_6d3c_11ea_b0c3_f40f2405a054row2_col2\" class=\"data row2 col2\" >Matplotlib's base OOP module with formatting artists</td>\n",
       "            </tr>\n",
       "            <tr>\n",
       "                                <td id=\"T_bbfd1294_6d3c_11ea_b0c3_f40f2405a054row3_col0\" class=\"data row3 col0\" >plt</td>\n",
       "                        <td id=\"T_bbfd1294_6d3c_11ea_b0c3_f40f2405a054row3_col1\" class=\"data row3 col1\" >matplotlib.pyplot</td>\n",
       "                        <td id=\"T_bbfd1294_6d3c_11ea_b0c3_f40f2405a054row3_col2\" class=\"data row3 col2\" >Matplotlib's matlab-like plotting module</td>\n",
       "            </tr>\n",
       "            <tr>\n",
       "                                <td id=\"T_bbfd1294_6d3c_11ea_b0c3_f40f2405a054row4_col0\" class=\"data row4 col0\" >np</td>\n",
       "                        <td id=\"T_bbfd1294_6d3c_11ea_b0c3_f40f2405a054row4_col1\" class=\"data row4 col1\" >numpy</td>\n",
       "                        <td id=\"T_bbfd1294_6d3c_11ea_b0c3_f40f2405a054row4_col2\" class=\"data row4 col2\" >scientific computing with Python</td>\n",
       "            </tr>\n",
       "            <tr>\n",
       "                                <td id=\"T_bbfd1294_6d3c_11ea_b0c3_f40f2405a054row5_col0\" class=\"data row5 col0\" >pd</td>\n",
       "                        <td id=\"T_bbfd1294_6d3c_11ea_b0c3_f40f2405a054row5_col1\" class=\"data row5 col1\" >pandas</td>\n",
       "                        <td id=\"T_bbfd1294_6d3c_11ea_b0c3_f40f2405a054row5_col2\" class=\"data row5 col2\" >High performance data structures and tools</td>\n",
       "            </tr>\n",
       "            <tr>\n",
       "                                <td id=\"T_bbfd1294_6d3c_11ea_b0c3_f40f2405a054row6_col0\" class=\"data row6 col0\" >sns</td>\n",
       "                        <td id=\"T_bbfd1294_6d3c_11ea_b0c3_f40f2405a054row6_col1\" class=\"data row6 col1\" >seaborn</td>\n",
       "                        <td id=\"T_bbfd1294_6d3c_11ea_b0c3_f40f2405a054row6_col2\" class=\"data row6 col2\" >High-level data visualization library based on matplotlib</td>\n",
       "            </tr>\n",
       "    </tbody></table>"
      ],
      "text/plain": [
       "<pandas.io.formats.style.Styler at 0x1a21b16048>"
      ]
     },
     "metadata": {},
     "output_type": "display_data"
    },
    {
     "data": {
      "text/html": [
       "        <script type=\"text/javascript\">\n",
       "        window.PlotlyConfig = {MathJaxConfig: 'local'};\n",
       "        if (window.MathJax) {MathJax.Hub.Config({SVG: {font: \"STIX-Web\"}});}\n",
       "        if (typeof require !== 'undefined') {\n",
       "        require.undef(\"plotly\");\n",
       "        requirejs.config({\n",
       "            paths: {\n",
       "                'plotly': ['https://cdn.plot.ly/plotly-latest.min']\n",
       "            }\n",
       "        });\n",
       "        require(['plotly'], function(Plotly) {\n",
       "            window._Plotly = Plotly;\n",
       "        });\n",
       "        }\n",
       "        </script>\n",
       "        "
      ]
     },
     "metadata": {},
     "output_type": "display_data"
    },
    {
     "name": "stdout",
     "output_type": "stream",
     "text": [
      "[i] Pandas .iplot() method activated.\n"
     ]
    }
   ],
   "source": [
    "# Import code packages and libraries\n",
    "# FLATIRON BOOTCAMP Package Library\n",
    "#!pip install -U fsds_100719\n",
    "import fsds_100719 as fs\n",
    "from fsds_100719.imports import * # will pre-load pd,np,plt,mpl,sns\n",
    "%matplotlib inline\n",
    "from matplotlib.colors import LogNorm\n",
    "\n",
    "import seaborn as sns\n",
    "sns.set_style('whitegrid')\n",
    "plt.style.use('seaborn-bright')\n",
    "\n",
    "\n",
    "font_dict={'family':'\"Titillium Web\", monospace','size':16}\n",
    "mpl.rc('font',**font_dict)\n",
    "#ignore pink warnings\n",
    "import warnings\n",
    "warnings.filterwarnings('ignore')\n",
    "# Allow for large # columns\n",
    "pd.set_option('display.max_columns', 0)\n",
    "# pd.set_option('display.max_rows','')"
   ]
  },
  {
   "cell_type": "code",
   "execution_count": 2,
   "metadata": {
    "ExecuteTime": {
     "end_time": "2020-03-23T19:31:04.148553Z",
     "start_time": "2020-03-23T19:30:25.759511Z"
    },
    "code_folding": [
     0
    ]
   },
   "outputs": [
    {
     "name": "stderr",
     "output_type": "stream",
     "text": [
      "Using TensorFlow backend.\n"
     ]
    }
   ],
   "source": [
    "# import machine learning libraries\n",
    "from sklearn.model_selection import train_test_split\n",
    "from sklearn.preprocessing import StandardScaler\n",
    "from sklearn import svm\n",
    "from sklearn import tree\n",
    "from sklearn.tree import DecisionTreeClassifier \n",
    "from sklearn.ensemble import RandomForestClassifier\n",
    "from sklearn.linear_model import LogisticRegression\n",
    "from sklearn.decomposition import PCA\n",
    "from sklearn.pipeline import Pipeline\n",
    "from sklearn.externals import joblib\n",
    "import scipy.ndimage \n",
    "import xgboost as xget\n",
    "from sklearn.metrics import f1_score\n",
    "from sklearn.metrics import make_scorer\n",
    "from sklearn.ensemble import AdaBoostClassifier\n",
    "from sklearn.ensemble import RandomForestClassifier\n",
    "from sklearn.model_selection import GridSearchCV\n",
    "from sklearn.model_selection import StratifiedKFold\n",
    "from sklearn.svm import SVC\n",
    "from sklearn.svm import LinearSVC\n",
    "from imblearn.pipeline import make_pipeline, Pipeline\n",
    "\n",
    "from sklearn.metrics import accuracy_score,roc_curve,auc,average_precision_score, \\\n",
    "recall_score,precision_score,f1_score,classification_report\n",
    "from sklearn.tree import export_graphviz \n",
    "from pydotplus import graph_from_dot_data\n",
    "from imblearn.over_sampling import SMOTE #For imbalanced datasets\n",
    "from xgboost import XGBClassifier\n",
    "from sklearn.metrics import confusion_matrix\n",
    "from sklearn.model_selection import GridSearchCV\n",
    "\n",
    "# Uncomment below to install\n",
    "# !pip install keras\n",
    "# !pip install tensorflow\n",
    "# import additional libraries for performing Keras model\n",
    "\n",
    "# from sklearn.linear_model import LinearRegression\n",
    "# from sklearn.preprocessing import StandardScaler\n",
    "# from sklearn.metrics import roc_curve, roc_auc_score\n",
    "# from scipy.ndimage.filters import uniform_filter1d\n",
    "\n",
    "# import random\n",
    "# from keras.utils.np_utils import to_categorical\n",
    "# from sklearn import preprocessing\n",
    "# from keras.preprocessing.text import Tokenizer\n",
    "# from keras import models, layers, optimizers\n",
    "\n",
    "# from keras.models import Sequential, Model\n",
    "# from keras.layers import Conv1D, MaxPool1D, Dense, Dropout, Flatten, \\\n",
    "# BatchNormalization, Input, concatenate, Activation\n",
    "# from keras.optimizers import Adam"
   ]
  },
  {
   "cell_type": "code",
   "execution_count": 3,
   "metadata": {
    "ExecuteTime": {
     "end_time": "2020-03-23T19:31:04.256471Z",
     "start_time": "2020-03-23T19:31:04.200182Z"
    }
   },
   "outputs": [],
   "source": [
    "# # astro.py for extremely useful astronomical tools\n",
    "# # uncomment items below to install \n",
    "\n",
    "# !pip install astropy astroquery\n",
    "# !pip install astropy spectral-cube\n",
    "# !pip install astropy reproject"
   ]
  },
  {
   "cell_type": "markdown",
   "metadata": {},
   "source": [
    "## DATASET #1: Kepler Labeled Timeseries\n",
    "\n",
    "SOURCE: KAGGLE.COM\n",
    "\n",
    "While most of the datasets we're interested in analyzing exist on the MAST website and are available via API on AWS (as of Feb 20, 2020) - we're going to start off by working with a relatively small subsample of observations  that are primed for machine learning. \n",
    "\n",
    "\n",
    "### ( i ) Preliminary Objectives\n",
    "\n",
    "> 1. Convert and combine Kaggle TRAIN and TEST datasets to Timeseries with astronomical units BJD / PDCSAP_Flux\n",
    "   \n",
    "       a) Replace index column with Timeseries values\n",
    "       b) Each row will is unique time stamp beginning with K2's Campaign 3 start date in UTM units\n",
    "       c) create DF of 42 confirmed exoplanet host stars since these will be easy to lookup with the MAST API. \n",
    "       d) Convert Time stamps to Julian Day units using Astropy library\n",
    "       e) For each row (observation), convert each flux column name to timestamp (total time is 30 min cadence)\n",
    "       f) Merge datasets and label remaining observations (same as above)\n",
    "\n",
    "### ( ii ) Primary Objectives\n",
    "\n",
    "> 2. Perform Calculations for Normalization, Scaling, Coordinate Mapping and Autoencoding\n",
    "\n",
    "        a) Create function for identifying Period, Frequency, Amplitude, Ang Momentum, Ang Velocity, Power\n",
    "        b) Run on all observations and save to new DF with matching Timestamp index as primary key\n",
    "        c) Validate with the confirmed planets data by doing Astroquery lookup in MAST API\n",
    "\n",
    "> 4. Data Augmentation and Autoencoding: Fold/Transform Timeseries into frequency domain with Fourier Analysis\n",
    "\n",
    "        a) Identify harmonic coefficients for each observation with periodic wave attributes (FFT)\n",
    "        b) FFT Phase shift\n",
    "        c) Map fourier coefficients as coordinates for autoencoding TCEs\n",
    "        c) Normalize the FLUX units for each observation (all vals between 0 and 1)\n",
    "       \n",
    "\n",
    "> 5. MODELING: \n",
    "        \n",
    "        a) Train-test split (using K-fold Base Split since these are highly imbalanced classes)\n",
    "        b) Perform initial Machine Learning models with Gridsearch \n",
    "            > Support Vector Machines\n",
    "            > PCA\n",
    "            > Decision Trees\n",
    "            > Random Forests\n",
    "            > Logistic Regression\n",
    "            > Gradient Descent\n",
    "            > XGBoost\n",
    "\n",
    "> 6. Cross-Validation Scoring : assess accuracy of model(s)\n",
    "- F1 (Harmonic Mean)\n",
    "- Jaccard Index/Distance\n",
    "- Fowlkes-Mallows\n",
    "\n",
    "### (iii) Final Objectives\n",
    "\n",
    "> 7. Autoencoders for Timeseries data: use Fourier trick to test model with additional K2 campaigns\n",
    "\n",
    "### (iv) Starskøpe v2 Planned Objectives:\n",
    "\n",
    "> 8. Computer Vision Unsupervised Model pre-trained with Harmonic Coordinates Autoencoders\n",
    "  * FITS direct imaging analysis - use coordinates to find matching datasets from TESS\n",
    "\n",
    "> 9. Deep Boltzman Machines : \n",
    "  * extrapolate Fourier-based frequency encodings from above as pre-training stage and combine with TESS / FITs computer vision pattern recognition to train computer vision based model."
   ]
  },
  {
   "cell_type": "markdown",
   "metadata": {},
   "source": [
    "\n",
    "According to Mikulski archive website (MAST) where this dataset originated: \n",
    "\n",
    "### TIMELINE \n",
    "\n",
    "    * the duration of each K2 campaign was ~80 days \n",
    "    * Campaign 3 duration was only 69.2 days--it ended earlier than expected because \n",
    "      the on-board storage filled up faster than anticipated due to poorer than expected data compression. \n",
    "      [SOURCE: https://keplerscience.arc.nasa.gov/k2-data-release-notes.html#k2-campaign-3]\n",
    "      \n",
    "    * Campaign 3 began: Nov 15 2014 at 15:06:05\n",
    "    * Campaign 3 ended: Jan 23 2015 18:37:04\n",
    "    \n",
    "    \n",
    "### DATA MODES/TYPES\n",
    "\n",
    "Kepler and K2 had three data modes:\n",
    "\n",
    "    * long cadence (30 min) TPFs\n",
    "    * short cadence (1 min) postage stamps (TPFs)\n",
    "    * quarterly FFIs (30 min)\n",
    "    \n",
    "    * Each light curve observation is based on ~29.4 min exposure"
   ]
  },
  {
   "cell_type": "markdown",
   "metadata": {},
   "source": [
    "# TIMESERIES\n",
    "\n",
    "`Timeseries` : class representing a time series as a collection of values at specific points in time. \n",
    "\n",
    "`BinnedTimeSeries` : time series sub-class representated as measurements in discrete time bins\n",
    "\n",
    "* CREATE, BIN, ADD, READ, WRITE\n",
    "\n",
    "* ACCESS, EXTRACT, CONVERT, FORMAT\n",
    "\n",
    "* COMBINE, SORT, RESAMPLE, FOLD\n",
    "\n",
    "* MASK VALUES\n",
    "* PANDAS DF\n",
    "* ESTIMATE PERDIOD (Lomb-SCargle, BLS)"
   ]
  },
  {
   "cell_type": "code",
   "execution_count": null,
   "metadata": {
    "ExecuteTime": {
     "end_time": "2020-03-22T06:37:42.150921Z",
     "start_time": "2020-03-22T06:37:40.055298Z"
    }
   },
   "outputs": [],
   "source": []
  },
  {
   "cell_type": "code",
   "execution_count": 4,
   "metadata": {
    "ExecuteTime": {
     "end_time": "2020-03-23T19:31:16.490841Z",
     "start_time": "2020-03-23T19:31:04.358436Z"
    }
   },
   "outputs": [],
   "source": [
    "# retrieve a FITS file containing a Kepler light curve for a source:\n",
    "from astropy.timeseries import TimeSeries\n",
    "from astropy.utils.data import get_pkg_data_filename\n",
    "example_data = get_pkg_data_filename('timeseries/kplr010666592-2009131110544_slc.fits')\n",
    "kepler = TimeSeries.read(example_data, format='kepler.fits')"
   ]
  },
  {
   "cell_type": "code",
   "execution_count": 5,
   "metadata": {
    "ExecuteTime": {
     "end_time": "2020-03-23T19:31:27.745397Z",
     "start_time": "2020-03-23T19:31:16.495778Z"
    }
   },
   "outputs": [],
   "source": [
    "import numpy as np\n",
    "from astropy import units as u\n",
    "from astropy.timeseries import aggregate_downsample\n",
    "kepler_binned = aggregate_downsample(kepler, time_bin_size=20 * u.min, aggregate_func=np.nanmedian)"
   ]
  },
  {
   "cell_type": "code",
   "execution_count": 6,
   "metadata": {
    "ExecuteTime": {
     "end_time": "2020-03-23T19:31:29.476927Z",
     "start_time": "2020-03-23T19:31:27.755677Z"
    }
   },
   "outputs": [
    {
     "data": {
      "text/plain": [
       "Text(0, 0.5, 'SAP Flux (e-/s)')"
      ]
     },
     "execution_count": 6,
     "metadata": {},
     "output_type": "execute_result"
    },
    {
     "data": {
      "image/png": "[encoded data removed]",
      "text/plain": [
       "<Figure size 432x288 with 1 Axes>"
      ]
     },
     "metadata": {},
     "output_type": "display_data"
    }
   ],
   "source": [
    "import matplotlib.pyplot as plt\n",
    "plt.plot(kepler.time.jd, kepler['sap_flux'], 'k.', markersize=1)\n",
    "plt.plot(kepler_binned.time_bin_start.jd, kepler_binned['sap_flux'], 'r-', drawstyle='steps-pre')\n",
    "plt.xlabel('Julian Date')\n",
    "plt.ylabel('SAP Flux (e-/s)')"
   ]
  },
  {
   "cell_type": "code",
   "execution_count": 7,
   "metadata": {
    "ExecuteTime": {
     "end_time": "2020-03-23T19:31:31.496065Z",
     "start_time": "2020-03-23T19:31:29.494852Z"
    }
   },
   "outputs": [
    {
     "data": {
      "text/plain": [
       "Text(0, 0.5, 'SAP Flux (e-/s)')"
      ]
     },
     "execution_count": 7,
     "metadata": {},
     "output_type": "execute_result"
    },
    {
     "data": {
      "image/png": "[encoded data removed]",
      "text/plain": [
       "<Figure size 432x288 with 1 Axes>"
      ]
     },
     "metadata": {},
     "output_type": "display_data"
    }
   ],
   "source": [
    "kepler_folded = kepler.fold(period=2.2 * u.day, epoch_time='2009-05-02T20:53:40')\n",
    "\n",
    "plt.plot(kepler_folded.time.jd, kepler_folded['sap_flux'], 'k.', markersize=1)\n",
    "plt.xlabel('Time from midpoint epoch (days)')\n",
    "plt.ylabel('SAP Flux (e-/s)')"
   ]
  },
  {
   "cell_type": "code",
   "execution_count": 8,
   "metadata": {
    "ExecuteTime": {
     "end_time": "2020-03-23T19:31:33.120774Z",
     "start_time": "2020-03-23T19:31:31.550868Z"
    }
   },
   "outputs": [
    {
     "data": {
      "text/plain": [
       "Text(0, 0.5, 'Normalized flux')"
      ]
     },
     "execution_count": 8,
     "metadata": {},
     "output_type": "execute_result"
    },
    {
     "data": {
      "image/png": "[encoded data removed]",
      "text/plain": [
       "<Figure size 432x288 with 1 Axes>"
      ]
     },
     "metadata": {},
     "output_type": "display_data"
    }
   ],
   "source": [
    "from astropy.stats import sigma_clipped_stats\n",
    "\n",
    "mean, median, stddev = sigma_clipped_stats(kepler_folded['sap_flux'])\n",
    "\n",
    "kepler_folded['sap_flux_norm'] = kepler_folded['sap_flux'] / median\n",
    "\n",
    "plt.plot(kepler_folded.time.jd, kepler_folded['sap_flux_norm'], 'k.', markersize=1)\n",
    "plt.xlabel('Time from midpoint epoch (days)')\n",
    "plt.ylabel('Normalized flux')"
   ]
  },
  {
   "cell_type": "markdown",
   "metadata": {},
   "source": []
  },
  {
   "cell_type": "markdown",
   "metadata": {},
   "source": [
    "## Light Curve\n",
    "\n",
    "1. read in a time series\n",
    "2. access the data\n",
    "3. explore and analyze"
   ]
  },
  {
   "cell_type": "code",
   "execution_count": 9,
   "metadata": {
    "ExecuteTime": {
     "end_time": "2020-03-23T19:31:33.363983Z",
     "start_time": "2020-03-23T19:31:33.157735Z"
    }
   },
   "outputs": [],
   "source": [
    "# retrieve a FITS file containing a Kepler light curve for a source:\n",
    "from astropy.utils.data import get_pkg_data_filename\n",
    "filename = get_pkg_data_filename('timeseries/kplr010666592-2009131110544_slc.fits')"
   ]
  },
  {
   "cell_type": "code",
   "execution_count": 10,
   "metadata": {
    "ExecuteTime": {
     "end_time": "2020-03-23T19:31:34.140794Z",
     "start_time": "2020-03-23T19:31:33.372917Z"
    }
   },
   "outputs": [],
   "source": [
    "from astropy.timeseries import TimeSeries\n",
    "ts = TimeSeries.read(filename, format='kepler.fits') "
   ]
  },
  {
   "cell_type": "code",
   "execution_count": 11,
   "metadata": {
    "ExecuteTime": {
     "end_time": "2020-03-23T19:31:34.499276Z",
     "start_time": "2020-03-23T19:31:34.157678Z"
    }
   },
   "outputs": [
    {
     "data": {
      "text/html": [
       "<i>TimeSeries length=14280</i>\n",
       "<table id=\"table112778092216\" class=\"table-striped table-bordered table-condensed\">\n",
       "<thead><tr><th>time</th><th>timecorr</th><th>cadenceno</th><th>sap_flux</th><th>sap_flux_err</th><th>sap_bkg</th><th>sap_bkg_err</th><th>pdcsap_flux</th><th>pdcsap_flux_err</th><th>sap_quality</th><th>psf_centr1</th><th>psf_centr1_err</th><th>psf_centr2</th><th>psf_centr2_err</th><th>mom_centr1</th><th>mom_centr1_err</th><th>mom_centr2</th><th>mom_centr2_err</th><th>pos_corr1</th><th>pos_corr2</th></tr></thead>\n",
       "<thead><tr><th></th><th>d</th><th></th><th>electron / s</th><th>electron / s</th><th>electron / s</th><th>electron / s</th><th>electron / s</th><th>electron / s</th><th></th><th>pix</th><th>pix</th><th>pix</th><th>pix</th><th>pix</th><th>pix</th><th>pix</th><th>pix</th><th>pix</th><th>pix</th></tr></thead>\n",
       "<thead><tr><th>object</th><th>float32</th><th>int32</th><th>float32</th><th>float32</th><th>float32</th><th>float32</th><th>float32</th><th>float32</th><th>int32</th><th>float64</th><th>float32</th><th>float64</th><th>float32</th><th>float64</th><th>float32</th><th>float64</th><th>float32</th><th>float32</th><th>float32</th></tr></thead>\n",
       "<tr><td>2009-05-02T00:41:40.338</td><td>6.630610e-04</td><td>5500</td><td>1.0270451e+06</td><td>1.4041933e+02</td><td>3.7480554e+03</td><td>2.2283568e+00</td><td>1.0346376e+06</td><td>2.4780812e+02</td><td>0</td><td>nan</td><td>nan</td><td>nan</td><td>nan</td><td>1041.56040</td><td>1.3623475e-04</td><td>613.47997</td><td>1.7336856e-04</td><td>1.5822421e-03</td><td>-1.4463664e-03</td></tr>\n",
       "<tr><td>2009-05-02T00:42:39.188</td><td>6.630857e-04</td><td>5501</td><td>1.0271844e+06</td><td>1.4042902e+02</td><td>3.7491572e+03</td><td>2.2283657e+00</td><td>1.0347789e+06</td><td>2.4594159e+02</td><td>0</td><td>nan</td><td>nan</td><td>nan</td><td>nan</td><td>1041.55834</td><td>1.3624557e-04</td><td>613.48164</td><td>1.7334183e-04</td><td>1.5743829e-03</td><td>-1.4540013e-03</td></tr>\n",
       "<tr><td>2009-05-02T00:43:38.045</td><td>6.631103e-04</td><td>5502</td><td>1.0270762e+06</td><td>1.4038968e+02</td><td>3.7502588e+03</td><td>2.2283745e+00</td><td>1.0346701e+06</td><td>2.4408449e+02</td><td>0</td><td>nan</td><td>nan</td><td>nan</td><td>nan</td><td>1041.55751</td><td>1.3616899e-04</td><td>613.47866</td><td>1.7328140e-04</td><td>1.5665225e-03</td><td>-1.4616371e-03</td></tr>\n",
       "<tr><td>2009-05-02T00:44:36.894</td><td>6.631350e-04</td><td>5503</td><td>1.0271414e+06</td><td>1.4042482e+02</td><td>3.7513606e+03</td><td>2.2283831e+00</td><td>1.0347365e+06</td><td>2.4229922e+02</td><td>0</td><td>nan</td><td>nan</td><td>nan</td><td>nan</td><td>1041.55898</td><td>1.3622017e-04</td><td>613.47947</td><td>1.7331526e-04</td><td>1.5586632e-03</td><td>-1.4692718e-03</td></tr>\n",
       "<tr><td>2009-05-02T00:45:35.752</td><td>6.631597e-04</td><td>5504</td><td>1.0271569e+06</td><td>1.4039404e+02</td><td>3.7524626e+03</td><td>2.2283916e+00</td><td>1.0347527e+06</td><td>2.4051416e+02</td><td>0</td><td>nan</td><td>nan</td><td>nan</td><td>nan</td><td>1041.55705</td><td>1.3621294e-04</td><td>613.48085</td><td>1.7329821e-04</td><td>1.5508028e-03</td><td>-1.4769078e-03</td></tr>\n",
       "<tr><td>2009-05-02T00:46:34.601</td><td>6.631844e-04</td><td>5505</td><td>1.0272296e+06</td><td>1.4043083e+02</td><td>3.7535642e+03</td><td>2.2284005e+00</td><td>1.0348268e+06</td><td>2.3879796e+02</td><td>0</td><td>nan</td><td>nan</td><td>nan</td><td>nan</td><td>1041.55916</td><td>1.3619773e-04</td><td>613.47844</td><td>1.7329390e-04</td><td>1.5429436e-03</td><td>-1.4845425e-03</td></tr>\n",
       "<tr><td>2009-05-02T00:47:33.451</td><td>6.632091e-04</td><td>5506</td><td>1.0273199e+06</td><td>1.4040657e+02</td><td>3.7546660e+03</td><td>2.2284091e+00</td><td>1.0349186e+06</td><td>2.3708369e+02</td><td>0</td><td>nan</td><td>nan</td><td>nan</td><td>nan</td><td>1041.55680</td><td>1.3621902e-04</td><td>613.47908</td><td>1.7324935e-04</td><td>1.5350844e-03</td><td>-1.4921773e-03</td></tr>\n",
       "<tr><td>2009-05-02T00:48:32.291</td><td>6.632337e-04</td><td>5507</td><td>1.0271497e+06</td><td>1.4042722e+02</td><td>3.7557673e+03</td><td>2.2284179e+00</td><td>1.0347472e+06</td><td>2.3542677e+02</td><td>0</td><td>nan</td><td>nan</td><td>nan</td><td>nan</td><td>1041.55869</td><td>1.3619712e-04</td><td>613.47893</td><td>1.7332737e-04</td><td>1.5272264e-03</td><td>-1.4998110e-03</td></tr>\n",
       "<tr><td>2009-05-02T00:49:31.149</td><td>6.632584e-04</td><td>5508</td><td>1.0271755e+06</td><td>1.4039893e+02</td><td>3.7568694e+03</td><td>2.2284267e+00</td><td>1.0347741e+06</td><td>2.3377666e+02</td><td>0</td><td>nan</td><td>nan</td><td>nan</td><td>nan</td><td>1041.55682</td><td>1.3621723e-04</td><td>613.48127</td><td>1.7328723e-04</td><td>1.5193661e-03</td><td>-1.5074468e-03</td></tr>\n",
       "<tr><td>...</td><td>...</td><td>...</td><td>...</td><td>...</td><td>...</td><td>...</td><td>...</td><td>...</td><td>...</td><td>...</td><td>...</td><td>...</td><td>...</td><td>...</td><td>...</td><td>...</td><td>...</td><td>...</td><td>...</td></tr>\n",
       "<tr><td>2009-05-11T17:58:22.526</td><td>1.014493e-03</td><td>19770</td><td>1.0234769e+06</td><td>1.3977835e+02</td><td>3.4835161e+03</td><td>2.2386594e+00</td><td>1.0312661e+06</td><td>1.7631956e+02</td><td>0</td><td>nan</td><td>nan</td><td>nan</td><td>nan</td><td>1041.56044</td><td>1.3389716e-04</td><td>613.48443</td><td>1.7060364e-04</td><td>3.6121816e-03</td><td>3.1950327e-03</td></tr>\n",
       "<tr><td>2009-05-11T17:59:21.376</td><td>1.014518e-03</td><td>19771</td><td>1.0234574e+06</td><td>1.3981071e+02</td><td>3.4815105e+03</td><td>2.2386670e+00</td><td>1.0312451e+06</td><td>1.7693469e+02</td><td>0</td><td>nan</td><td>nan</td><td>nan</td><td>nan</td><td>1041.56186</td><td>1.3387315e-04</td><td>613.48509</td><td>1.7066579e-04</td><td>3.6102540e-03</td><td>3.1872767e-03</td></tr>\n",
       "<tr><td>2009-05-11T18:00:20.225</td><td>1.014542e-03</td><td>19772</td><td>1.0238128e+06</td><td>1.3979939e+02</td><td>3.4795049e+03</td><td>2.2386744e+00</td><td>1.0316024e+06</td><td>1.7760115e+02</td><td>0</td><td>nan</td><td>nan</td><td>nan</td><td>nan</td><td>1041.56003</td><td>1.3381931e-04</td><td>613.48458</td><td>1.7060475e-04</td><td>3.6083264e-03</td><td>3.1795206e-03</td></tr>\n",
       "<tr><td>2009-05-11T18:01:19.065</td><td>1.014567e-03</td><td>19773</td><td>1.0243234e+06</td><td>1.3986536e+02</td><td>3.4774995e+03</td><td>2.2386820e+00</td><td>1.0321166e+06</td><td>1.7842056e+02</td><td>0</td><td>nan</td><td>nan</td><td>nan</td><td>nan</td><td>1041.56114</td><td>1.3382663e-04</td><td>613.48438</td><td>1.7059974e-04</td><td>3.6063993e-03</td><td>3.1717657e-03</td></tr>\n",
       "<tr><td>2009-05-11T18:02:17.923</td><td>1.014591e-03</td><td>19774</td><td>1.0244257e+06</td><td>1.3987251e+02</td><td>3.4754937e+03</td><td>2.2386894e+00</td><td>1.0322181e+06</td><td>1.7929781e+02</td><td>0</td><td>nan</td><td>nan</td><td>nan</td><td>nan</td><td>1041.55951</td><td>1.3380310e-04</td><td>613.48484</td><td>1.7063033e-04</td><td>3.6044715e-03</td><td>3.1640085e-03</td></tr>\n",
       "<tr><td>2009-05-11T18:03:16.772</td><td>1.014615e-03</td><td>19775</td><td>1.0248654e+06</td><td>1.3990025e+02</td><td>3.4734878e+03</td><td>2.2386968e+00</td><td>1.0326604e+06</td><td>1.8030276e+02</td><td>0</td><td>nan</td><td>nan</td><td>nan</td><td>nan</td><td>1041.56119</td><td>1.3371815e-04</td><td>613.48421</td><td>1.7059981e-04</td><td>3.6025438e-03</td><td>3.1562524e-03</td></tr>\n",
       "<tr><td>2009-05-11T18:04:15.630</td><td>1.014640e-03</td><td>19776</td><td>1.0250156e+06</td><td>1.3991345e+02</td><td>3.4714819e+03</td><td>2.2387044e+00</td><td>1.0328102e+06</td><td>1.8141891e+02</td><td>0</td><td>nan</td><td>nan</td><td>nan</td><td>nan</td><td>1041.56087</td><td>1.3374219e-04</td><td>613.48549</td><td>1.7061993e-04</td><td>3.6006160e-03</td><td>3.1484952e-03</td></tr>\n",
       "<tr><td>2009-05-11T18:05:14.479</td><td>1.014664e-03</td><td>19777</td><td>1.0254516e+06</td><td>1.3994095e+02</td><td>3.4694761e+03</td><td>2.2387121e+00</td><td>1.0332485e+06</td><td>1.8267783e+02</td><td>0</td><td>nan</td><td>nan</td><td>nan</td><td>nan</td><td>1041.56085</td><td>1.3371665e-04</td><td>613.48456</td><td>1.7056632e-04</td><td>3.5986886e-03</td><td>3.1407392e-03</td></tr>\n",
       "<tr><td>2009-05-11T18:06:13.328</td><td>1.014689e-03</td><td>19778</td><td>1.0254685e+06</td><td>1.3994080e+02</td><td>3.4674707e+03</td><td>2.2387197e+00</td><td>1.0332635e+06</td><td>1.8405884e+02</td><td>0</td><td>nan</td><td>nan</td><td>nan</td><td>nan</td><td>1041.56078</td><td>1.3366723e-04</td><td>613.48436</td><td>1.7059664e-04</td><td>3.5967610e-03</td><td>3.1329831e-03</td></tr>\n",
       "<tr><td>2009-05-11T18:07:12.186</td><td>1.014713e-03</td><td>19779</td><td>1.0259309e+06</td><td>1.3996925e+02</td><td>3.4654646e+03</td><td>2.2387271e+00</td><td>1.0337284e+06</td><td>1.8561456e+02</td><td>0</td><td>nan</td><td>nan</td><td>nan</td><td>nan</td><td>1041.56051</td><td>1.3364454e-04</td><td>613.48536</td><td>1.7053897e-04</td><td>3.5948332e-03</td><td>3.1252259e-03</td></tr>\n",
       "</table>"
      ],
      "text/plain": [
       "<TimeSeries length=14280>\n",
       "          time             timecorr   ...   pos_corr1      pos_corr2   \n",
       "                              d       ...      pix            pix      \n",
       "         object            float32    ...    float32        float32    \n",
       "----------------------- ------------- ... -------------- --------------\n",
       "2009-05-02T00:41:40.338  6.630610e-04 ...  1.5822421e-03 -1.4463664e-03\n",
       "2009-05-02T00:42:39.188  6.630857e-04 ...  1.5743829e-03 -1.4540013e-03\n",
       "2009-05-02T00:43:38.045  6.631103e-04 ...  1.5665225e-03 -1.4616371e-03\n",
       "2009-05-02T00:44:36.894  6.631350e-04 ...  1.5586632e-03 -1.4692718e-03\n",
       "2009-05-02T00:45:35.752  6.631597e-04 ...  1.5508028e-03 -1.4769078e-03\n",
       "2009-05-02T00:46:34.601  6.631844e-04 ...  1.5429436e-03 -1.4845425e-03\n",
       "2009-05-02T00:47:33.451  6.632091e-04 ...  1.5350844e-03 -1.4921773e-03\n",
       "2009-05-02T00:48:32.291  6.632337e-04 ...  1.5272264e-03 -1.4998110e-03\n",
       "2009-05-02T00:49:31.149  6.632584e-04 ...  1.5193661e-03 -1.5074468e-03\n",
       "                    ...           ... ...            ...            ...\n",
       "2009-05-11T17:58:22.526  1.014493e-03 ...  3.6121816e-03  3.1950327e-03\n",
       "2009-05-11T17:59:21.376  1.014518e-03 ...  3.6102540e-03  3.1872767e-03\n",
       "2009-05-11T18:00:20.225  1.014542e-03 ...  3.6083264e-03  3.1795206e-03\n",
       "2009-05-11T18:01:19.065  1.014567e-03 ...  3.6063993e-03  3.1717657e-03\n",
       "2009-05-11T18:02:17.923  1.014591e-03 ...  3.6044715e-03  3.1640085e-03\n",
       "2009-05-11T18:03:16.772  1.014615e-03 ...  3.6025438e-03  3.1562524e-03\n",
       "2009-05-11T18:04:15.630  1.014640e-03 ...  3.6006160e-03  3.1484952e-03\n",
       "2009-05-11T18:05:14.479  1.014664e-03 ...  3.5986886e-03  3.1407392e-03\n",
       "2009-05-11T18:06:13.328  1.014689e-03 ...  3.5967610e-03  3.1329831e-03\n",
       "2009-05-11T18:07:12.186  1.014713e-03 ...  3.5948332e-03  3.1252259e-03"
      ]
     },
     "execution_count": 11,
     "metadata": {},
     "output_type": "execute_result"
    }
   ],
   "source": [
    "ts"
   ]
  },
  {
   "cell_type": "code",
   "execution_count": 12,
   "metadata": {
    "ExecuteTime": {
     "end_time": "2020-03-23T19:31:34.534240Z",
     "start_time": "2020-03-23T19:31:34.509082Z"
    }
   },
   "outputs": [
    {
     "data": {
      "text/latex": [
       "$[1027045.1,~1027184.4,~1027076.2,~\\dots,~1025451.6,~1025468.5,~1025930.9] \\; \\mathrm{\\frac{e^{-}}{s}}$"
      ],
      "text/plain": [
       "<Quantity [1027045.06, 1027184.44, 1027076.25, ..., 1025451.56, 1025468.5 ,\n",
       "           1025930.9 ] electron / s>"
      ]
     },
     "execution_count": 12,
     "metadata": {},
     "output_type": "execute_result"
    }
   ],
   "source": [
    "ts['sap_flux'] "
   ]
  },
  {
   "cell_type": "code",
   "execution_count": 13,
   "metadata": {
    "ExecuteTime": {
     "end_time": "2020-03-23T19:31:34.767689Z",
     "start_time": "2020-03-23T19:31:34.542064Z"
    }
   },
   "outputs": [
    {
     "data": {
      "text/html": [
       "<i>TimeSeries length=14280</i>\n",
       "<table id=\"table112777890784\" class=\"table-striped table-bordered table-condensed\">\n",
       "<thead><tr><th>time</th><th>sap_flux</th></tr></thead>\n",
       "<thead><tr><th></th><th>electron / s</th></tr></thead>\n",
       "<thead><tr><th>object</th><th>float32</th></tr></thead>\n",
       "<tr><td>2009-05-02T00:41:40.338</td><td>1.0270451e+06</td></tr>\n",
       "<tr><td>2009-05-02T00:42:39.188</td><td>1.0271844e+06</td></tr>\n",
       "<tr><td>2009-05-02T00:43:38.045</td><td>1.0270762e+06</td></tr>\n",
       "<tr><td>2009-05-02T00:44:36.894</td><td>1.0271414e+06</td></tr>\n",
       "<tr><td>2009-05-02T00:45:35.752</td><td>1.0271569e+06</td></tr>\n",
       "<tr><td>2009-05-02T00:46:34.601</td><td>1.0272296e+06</td></tr>\n",
       "<tr><td>2009-05-02T00:47:33.451</td><td>1.0273199e+06</td></tr>\n",
       "<tr><td>2009-05-02T00:48:32.291</td><td>1.0271497e+06</td></tr>\n",
       "<tr><td>2009-05-02T00:49:31.149</td><td>1.0271755e+06</td></tr>\n",
       "<tr><td>...</td><td>...</td></tr>\n",
       "<tr><td>2009-05-11T17:58:22.526</td><td>1.0234769e+06</td></tr>\n",
       "<tr><td>2009-05-11T17:59:21.376</td><td>1.0234574e+06</td></tr>\n",
       "<tr><td>2009-05-11T18:00:20.225</td><td>1.0238128e+06</td></tr>\n",
       "<tr><td>2009-05-11T18:01:19.065</td><td>1.0243234e+06</td></tr>\n",
       "<tr><td>2009-05-11T18:02:17.923</td><td>1.0244257e+06</td></tr>\n",
       "<tr><td>2009-05-11T18:03:16.772</td><td>1.0248654e+06</td></tr>\n",
       "<tr><td>2009-05-11T18:04:15.630</td><td>1.0250156e+06</td></tr>\n",
       "<tr><td>2009-05-11T18:05:14.479</td><td>1.0254516e+06</td></tr>\n",
       "<tr><td>2009-05-11T18:06:13.328</td><td>1.0254685e+06</td></tr>\n",
       "<tr><td>2009-05-11T18:07:12.186</td><td>1.0259309e+06</td></tr>\n",
       "</table>"
      ],
      "text/plain": [
       "<TimeSeries length=14280>\n",
       "          time             sap_flux   \n",
       "                         electron / s \n",
       "         object            float32    \n",
       "----------------------- --------------\n",
       "2009-05-02T00:41:40.338  1.0270451e+06\n",
       "2009-05-02T00:42:39.188  1.0271844e+06\n",
       "2009-05-02T00:43:38.045  1.0270762e+06\n",
       "2009-05-02T00:44:36.894  1.0271414e+06\n",
       "2009-05-02T00:45:35.752  1.0271569e+06\n",
       "2009-05-02T00:46:34.601  1.0272296e+06\n",
       "2009-05-02T00:47:33.451  1.0273199e+06\n",
       "2009-05-02T00:48:32.291  1.0271497e+06\n",
       "2009-05-02T00:49:31.149  1.0271755e+06\n",
       "                    ...            ...\n",
       "2009-05-11T17:58:22.526  1.0234769e+06\n",
       "2009-05-11T17:59:21.376  1.0234574e+06\n",
       "2009-05-11T18:00:20.225  1.0238128e+06\n",
       "2009-05-11T18:01:19.065  1.0243234e+06\n",
       "2009-05-11T18:02:17.923  1.0244257e+06\n",
       "2009-05-11T18:03:16.772  1.0248654e+06\n",
       "2009-05-11T18:04:15.630  1.0250156e+06\n",
       "2009-05-11T18:05:14.479  1.0254516e+06\n",
       "2009-05-11T18:06:13.328  1.0254685e+06\n",
       "2009-05-11T18:07:12.186  1.0259309e+06"
      ]
     },
     "execution_count": 13,
     "metadata": {},
     "output_type": "execute_result"
    }
   ],
   "source": [
    "ts['time', 'sap_flux']  "
   ]
  },
  {
   "cell_type": "code",
   "execution_count": 14,
   "metadata": {
    "ExecuteTime": {
     "end_time": "2020-03-23T19:31:34.910588Z",
     "start_time": "2020-03-23T19:31:34.784390Z"
    }
   },
   "outputs": [
    {
     "data": {
      "text/html": [
       "<i>TimeSeries length=4</i>\n",
       "<table id=\"table112778086328\" class=\"table-striped table-bordered table-condensed\">\n",
       "<thead><tr><th>time</th><th>timecorr</th><th>cadenceno</th><th>sap_flux</th><th>sap_flux_err</th><th>sap_bkg</th><th>sap_bkg_err</th><th>pdcsap_flux</th><th>pdcsap_flux_err</th><th>sap_quality</th><th>psf_centr1</th><th>psf_centr1_err</th><th>psf_centr2</th><th>psf_centr2_err</th><th>mom_centr1</th><th>mom_centr1_err</th><th>mom_centr2</th><th>mom_centr2_err</th><th>pos_corr1</th><th>pos_corr2</th></tr></thead>\n",
       "<thead><tr><th></th><th>d</th><th></th><th>electron / s</th><th>electron / s</th><th>electron / s</th><th>electron / s</th><th>electron / s</th><th>electron / s</th><th></th><th>pix</th><th>pix</th><th>pix</th><th>pix</th><th>pix</th><th>pix</th><th>pix</th><th>pix</th><th>pix</th><th>pix</th></tr></thead>\n",
       "<thead><tr><th>object</th><th>float32</th><th>int32</th><th>float32</th><th>float32</th><th>float32</th><th>float32</th><th>float32</th><th>float32</th><th>int32</th><th>float64</th><th>float32</th><th>float64</th><th>float32</th><th>float64</th><th>float32</th><th>float64</th><th>float32</th><th>float32</th><th>float32</th></tr></thead>\n",
       "<tr><td>2009-05-02T00:41:40.338</td><td>6.630610e-04</td><td>5500</td><td>1.0270451e+06</td><td>1.4041933e+02</td><td>3.7480554e+03</td><td>2.2283568e+00</td><td>1.0346376e+06</td><td>2.4780812e+02</td><td>0</td><td>nan</td><td>nan</td><td>nan</td><td>nan</td><td>1041.56040</td><td>1.3623475e-04</td><td>613.47997</td><td>1.7336856e-04</td><td>1.5822421e-03</td><td>-1.4463664e-03</td></tr>\n",
       "<tr><td>2009-05-02T00:42:39.188</td><td>6.630857e-04</td><td>5501</td><td>1.0271844e+06</td><td>1.4042902e+02</td><td>3.7491572e+03</td><td>2.2283657e+00</td><td>1.0347789e+06</td><td>2.4594159e+02</td><td>0</td><td>nan</td><td>nan</td><td>nan</td><td>nan</td><td>1041.55834</td><td>1.3624557e-04</td><td>613.48164</td><td>1.7334183e-04</td><td>1.5743829e-03</td><td>-1.4540013e-03</td></tr>\n",
       "<tr><td>2009-05-02T00:43:38.045</td><td>6.631103e-04</td><td>5502</td><td>1.0270762e+06</td><td>1.4038968e+02</td><td>3.7502588e+03</td><td>2.2283745e+00</td><td>1.0346701e+06</td><td>2.4408449e+02</td><td>0</td><td>nan</td><td>nan</td><td>nan</td><td>nan</td><td>1041.55751</td><td>1.3616899e-04</td><td>613.47866</td><td>1.7328140e-04</td><td>1.5665225e-03</td><td>-1.4616371e-03</td></tr>\n",
       "<tr><td>2009-05-02T00:44:36.894</td><td>6.631350e-04</td><td>5503</td><td>1.0271414e+06</td><td>1.4042482e+02</td><td>3.7513606e+03</td><td>2.2283831e+00</td><td>1.0347365e+06</td><td>2.4229922e+02</td><td>0</td><td>nan</td><td>nan</td><td>nan</td><td>nan</td><td>1041.55898</td><td>1.3622017e-04</td><td>613.47947</td><td>1.7331526e-04</td><td>1.5586632e-03</td><td>-1.4692718e-03</td></tr>\n",
       "</table>"
      ],
      "text/plain": [
       "<TimeSeries length=4>\n",
       "          time             timecorr   ...   pos_corr1      pos_corr2   \n",
       "                              d       ...      pix            pix      \n",
       "         object            float32    ...    float32        float32    \n",
       "----------------------- ------------- ... -------------- --------------\n",
       "2009-05-02T00:41:40.338  6.630610e-04 ...  1.5822421e-03 -1.4463664e-03\n",
       "2009-05-02T00:42:39.188  6.630857e-04 ...  1.5743829e-03 -1.4540013e-03\n",
       "2009-05-02T00:43:38.045  6.631103e-04 ...  1.5665225e-03 -1.4616371e-03\n",
       "2009-05-02T00:44:36.894  6.631350e-04 ...  1.5586632e-03 -1.4692718e-03"
      ]
     },
     "execution_count": 14,
     "metadata": {},
     "output_type": "execute_result"
    }
   ],
   "source": [
    "ts[0:4]"
   ]
  },
  {
   "cell_type": "code",
   "execution_count": 15,
   "metadata": {
    "ExecuteTime": {
     "end_time": "2020-03-23T19:31:35.401309Z",
     "start_time": "2020-03-23T19:31:34.930633Z"
    }
   },
   "outputs": [
    {
     "data": {
      "text/plain": [
       "<Time object: scale='tdb' format='isot' value=['2009-05-02T00:41:40.338' '2009-05-02T00:42:39.188'\n",
       " '2009-05-02T00:43:38.045' ... '2009-05-11T18:05:14.479'\n",
       " '2009-05-11T18:06:13.328' '2009-05-11T18:07:12.186']>"
      ]
     },
     "execution_count": 15,
     "metadata": {},
     "output_type": "execute_result"
    }
   ],
   "source": [
    "ts.time"
   ]
  },
  {
   "cell_type": "code",
   "execution_count": 16,
   "metadata": {
    "ExecuteTime": {
     "end_time": "2020-03-23T19:31:35.450029Z",
     "start_time": "2020-03-23T19:31:35.415059Z"
    }
   },
   "outputs": [
    {
     "data": {
      "text/plain": [
       "array([54953.0289391 , 54953.02962023, 54953.03030145, ...,\n",
       "       54962.7536398 , 54962.75432093, 54962.75500215])"
      ]
     },
     "execution_count": 16,
     "metadata": {},
     "output_type": "execute_result"
    }
   ],
   "source": [
    "ts.time.mjd"
   ]
  },
  {
   "cell_type": "code",
   "execution_count": 17,
   "metadata": {
    "ExecuteTime": {
     "end_time": "2020-03-23T19:31:35.479833Z",
     "start_time": "2020-03-23T19:31:35.466445Z"
    }
   },
   "outputs": [
    {
     "data": {
      "text/plain": [
       "'tdb'"
      ]
     },
     "execution_count": 17,
     "metadata": {},
     "output_type": "execute_result"
    }
   ],
   "source": [
    "ts.time.scale # Barycentric Dynamical Time scale"
   ]
  },
  {
   "cell_type": "code",
   "execution_count": 18,
   "metadata": {
    "ExecuteTime": {
     "end_time": "2020-03-23T19:31:37.070762Z",
     "start_time": "2020-03-23T19:31:35.491692Z"
    }
   },
   "outputs": [
    {
     "data": {
      "text/plain": [
       "Text(0, 0.5, 'SAP Flux (e-/s)')"
      ]
     },
     "execution_count": 18,
     "metadata": {},
     "output_type": "execute_result"
    },
    {
     "data": {
      "image/png": "[encoded data removed]",
      "text/plain": [
       "<Figure size 432x288 with 1 Axes>"
      ]
     },
     "metadata": {},
     "output_type": "display_data"
    }
   ],
   "source": [
    "import matplotlib.pyplot as plt\n",
    "plt.plot(ts.time.jd, ts['sap_flux'], 'k.', markersize=1)\n",
    "plt.xlabel('Julian Date')\n",
    "plt.ylabel('SAP Flux (e-/s)')"
   ]
  },
  {
   "cell_type": "markdown",
   "metadata": {},
   "source": [
    "### Estimate Period"
   ]
  },
  {
   "cell_type": "code",
   "execution_count": 19,
   "metadata": {
    "ExecuteTime": {
     "end_time": "2020-03-23T19:31:37.120030Z",
     "start_time": "2020-03-23T19:31:37.074774Z"
    }
   },
   "outputs": [],
   "source": [
    "#  estimate the period, using the ‘box least squares’ (BLS) algorithm:\n",
    "import numpy as np\n",
    "from astropy import units as u\n",
    "from astropy.timeseries import BoxLeastSquares\n",
    "periodogram = BoxLeastSquares.from_timeseries(ts, 'sap_flux') "
   ]
  },
  {
   "cell_type": "code",
   "execution_count": 20,
   "metadata": {
    "ExecuteTime": {
     "end_time": "2020-03-23T19:31:37.155818Z",
     "start_time": "2020-03-23T19:31:37.133820Z"
    }
   },
   "outputs": [
    {
     "data": {
      "text/plain": [
       "<astropy.timeseries.periodograms.bls.core.BoxLeastSquares at 0x1a423899e8>"
      ]
     },
     "execution_count": 20,
     "metadata": {},
     "output_type": "execute_result"
    }
   ],
   "source": [
    "periodogram"
   ]
  },
  {
   "cell_type": "code",
   "execution_count": 21,
   "metadata": {
    "ExecuteTime": {
     "end_time": "2020-03-23T19:31:37.622153Z",
     "start_time": "2020-03-23T19:31:37.161236Z"
    }
   },
   "outputs": [
    {
     "data": {
      "text/plain": [
       "<Time object: scale='tdb' format='isot' value=2009-05-02T20:51:16.338>"
      ]
     },
     "execution_count": 21,
     "metadata": {},
     "output_type": "execute_result"
    }
   ],
   "source": [
    "# periodogram analysis: use box duration of 0.2 days:\n",
    "\n",
    "results = periodogram.autopower(0.2 * u.day)  \n",
    "best = np.argmax(results.power)  \n",
    "period = results.period[best]  \n",
    "period  \n",
    "\n",
    "transit_time = results.transit_time[best]  \n",
    "transit_time  "
   ]
  },
  {
   "cell_type": "code",
   "execution_count": 22,
   "metadata": {
    "ExecuteTime": {
     "end_time": "2020-03-23T19:31:37.708721Z",
     "start_time": "2020-03-23T19:31:37.639115Z"
    }
   },
   "outputs": [],
   "source": [
    "# fold time series using period we just identified\n",
    "ts_folded = ts.fold(period=period, epoch_time=transit_time)  "
   ]
  },
  {
   "cell_type": "code",
   "execution_count": 23,
   "metadata": {
    "ExecuteTime": {
     "end_time": "2020-03-23T19:31:39.175424Z",
     "start_time": "2020-03-23T19:31:37.771074Z"
    }
   },
   "outputs": [
    {
     "data": {
      "text/plain": [
       "Text(0, 0.5, 'SAP Flux (e-/s)')"
      ]
     },
     "execution_count": 23,
     "metadata": {},
     "output_type": "execute_result"
    },
    {
     "data": {
      "image/png": "[encoded data removed]",
      "text/plain": [
       "<Figure size 432x288 with 1 Axes>"
      ]
     },
     "metadata": {},
     "output_type": "display_data"
    }
   ],
   "source": [
    "plt.plot(ts_folded.time.jd, ts_folded['sap_flux'], 'k.', markersize=1)\n",
    "plt.xlabel('Time (days)')\n",
    "plt.ylabel('SAP Flux (e-/s)')"
   ]
  },
  {
   "cell_type": "markdown",
   "metadata": {},
   "source": [
    "### Normalize\n",
    "\n",
    "normalize the flux by sigma-clipping the data to determine the baseline flux"
   ]
  },
  {
   "cell_type": "code",
   "execution_count": 24,
   "metadata": {
    "ExecuteTime": {
     "end_time": "2020-03-23T19:31:39.263788Z",
     "start_time": "2020-03-23T19:31:39.206768Z"
    }
   },
   "outputs": [],
   "source": [
    "from astropy.stats import sigma_clipped_stats\n",
    "mean, median, stddev = sigma_clipped_stats(ts_folded['sap_flux'])  \n",
    "ts_folded['sap_flux_norm'] = ts_folded['sap_flux'] / median  "
   ]
  },
  {
   "cell_type": "markdown",
   "metadata": {},
   "source": [
    "### Binning\n",
    "downsample the time series by binning the points into bins of equal time - this returns a BinnedTimeSeries:"
   ]
  },
  {
   "cell_type": "code",
   "execution_count": 25,
   "metadata": {
    "ExecuteTime": {
     "end_time": "2020-03-23T19:31:40.518420Z",
     "start_time": "2020-03-23T19:31:39.272463Z"
    }
   },
   "outputs": [
    {
     "data": {
      "text/html": [
       "<i>BinnedTimeSeries length=74</i>\n",
       "<table id=\"table112788202104\" class=\"table-striped table-bordered table-condensed\">\n",
       "<thead><tr><th>time_bin_start</th><th>time_bin_size</th><th>timecorr</th><th>cadenceno</th><th>sap_flux</th><th>sap_flux_err</th><th>sap_bkg</th><th>sap_bkg_err</th><th>pdcsap_flux</th><th>pdcsap_flux_err</th><th>sap_quality</th><th>psf_centr1</th><th>psf_centr1_err</th><th>psf_centr2</th><th>psf_centr2_err</th><th>mom_centr1</th><th>mom_centr1_err</th><th>mom_centr2</th><th>mom_centr2_err</th><th>pos_corr1</th><th>pos_corr2</th><th>sap_flux_norm</th></tr></thead>\n",
       "<thead><tr><th></th><th>s</th><th>d</th><th></th><th>electron / s</th><th>electron / s</th><th>electron / s</th><th>electron / s</th><th>electron / s</th><th>electron / s</th><th></th><th>pix</th><th>pix</th><th>pix</th><th>pix</th><th>pix</th><th>pix</th><th>pix</th><th>pix</th><th>pix</th><th>pix</th><th></th></tr></thead>\n",
       "<thead><tr><th>object</th><th>float64</th><th>float64</th><th>int32</th><th>float64</th><th>float64</th><th>float64</th><th>float64</th><th>float64</th><th>float64</th><th>int32</th><th>float64</th><th>float64</th><th>float64</th><th>float64</th><th>float64</th><th>float64</th><th>float64</th><th>float64</th><th>float64</th><th>float64</th><th>float64</th></tr></thead>\n",
       "<tr><td>-1.1022116370482966</td><td>2592.0</td><td>0.0008528293110430241</td><td>13195</td><td>1026973.3125</td><td>140.15341186523438</td><td>3746.68212890625</td><td>2.2319154739379883</td><td>1034719.25</td><td>159.33334350585938</td><td>186</td><td>nan</td><td>nan</td><td>nan</td><td>nan</td><td>1041.5578111888517</td><td>0.0001344159827567637</td><td>613.4819883877723</td><td>0.00017141240823548287</td><td>0.0009826311143115163</td><td>0.00031207725987769663</td><td>0.9998741745948792</td></tr>\n",
       "<tr><td>-1.0722116370482966</td><td>2592.0</td><td>0.0008550441125407815</td><td>13285</td><td>1027007.4375</td><td>140.14646911621094</td><td>3753.750244140625</td><td>2.231780767440796</td><td>1034757.6875</td><td>157.7557373046875</td><td>377</td><td>nan</td><td>nan</td><td>nan</td><td>nan</td><td>1041.5577504134303</td><td>0.00013433954154606909</td><td>613.4822167745142</td><td>0.00017133924120571464</td><td>0.0009682553354650736</td><td>0.00041217938996851444</td><td>0.9999074339866638</td></tr>\n",
       "<tr><td>-1.0422116370482966</td><td>2592.0</td><td>0.0008565832395106554</td><td>13347</td><td>1027074.6875</td><td>140.15179443359375</td><td>3748.86181640625</td><td>2.2302093505859375</td><td>1034825.75</td><td>157.19195556640625</td><td>188</td><td>nan</td><td>nan</td><td>nan</td><td>nan</td><td>1041.5577686511494</td><td>0.00013433014100883156</td><td>613.4820760574382</td><td>0.0001713316742097959</td><td>0.0009710012236610055</td><td>0.00039273229776881635</td><td>0.999972939491272</td></tr>\n",
       "<tr><td>-1.0122116370482965</td><td>2592.0</td><td>0.0008569943020120263</td><td>13364</td><td>1027110.5625</td><td>140.14944458007812</td><td>3738.2421875</td><td>2.2315773963928223</td><td>1034864.1875</td><td>157.39439392089844</td><td>145</td><td>nan</td><td>nan</td><td>nan</td><td>nan</td><td>1041.557653652237</td><td>0.0001343248732155189</td><td>613.482021759561</td><td>0.00017132052744273096</td><td>0.0008492720662616193</td><td>0.0002928022004198283</td><td>1.0000077486038208</td></tr>\n",
       "<tr><td>-0.9822116370482965</td><td>2592.0</td><td>0.0008580777212046087</td><td>13408</td><td>1027094.5625</td><td>140.14981079101562</td><td>3725.346923828125</td><td>2.229959726333618</td><td>1034849.625</td><td>156.60211181640625</td><td>239</td><td>nan</td><td>nan</td><td>nan</td><td>nan</td><td>1041.5576283032685</td><td>0.00013433363346848637</td><td>613.4820869230539</td><td>0.00017133451183326542</td><td>0.0008298085886053741</td><td>0.0003891147789545357</td><td>0.9999921917915344</td></tr>\n",
       "<tr><td>-0.9522116370482965</td><td>2592.0</td><td>0.0008591610821895301</td><td>13452</td><td>1027113.0625</td><td>140.15042114257812</td><td>3734.561767578125</td><td>2.232150077819824</td><td>1034865.4375</td><td>156.15545654296875</td><td>157</td><td>nan</td><td>nan</td><td>nan</td><td>nan</td><td>1041.5575716567903</td><td>0.00013432394189294428</td><td>613.4820772320006</td><td>0.0001713206002023071</td><td>0.0007625969010405242</td><td>0.0003491091774776578</td><td>1.0000101327896118</td></tr>\n",
       "<tr><td>-0.9222116370482966</td><td>2592.0</td><td>0.0008602443849667907</td><td>13496</td><td>1027115.0625</td><td>140.15025329589844</td><td>3727.908447265625</td><td>2.2327475547790527</td><td>1034873.1875</td><td>155.09400939941406</td><td>206</td><td>nan</td><td>nan</td><td>nan</td><td>nan</td><td>1041.557550072349</td><td>0.00013432576088234782</td><td>613.4819781207854</td><td>0.00017131913045886904</td><td>0.0007079299539327621</td><td>0.0002824827388394624</td><td>1.0000121593475342</td></tr>\n",
       "<tr><td>-0.8922116370482965</td><td>2592.0</td><td>0.0008613277459517121</td><td>13540</td><td>1027092.9375</td><td>140.14971923828125</td><td>3662.0966796875</td><td>2.230905532836914</td><td>1034847.9375</td><td>156.9192352294922</td><td>103</td><td>nan</td><td>nan</td><td>nan</td><td>nan</td><td>1041.5575624043458</td><td>0.00013433060667011887</td><td>613.481768691082</td><td>0.00017132052744273096</td><td>0.0007373436819761992</td><td>0.00016335179680027068</td><td>0.9999905228614807</td></tr>\n",
       "<tr><td>-0.8622116370482965</td><td>2592.0000000000023</td><td>0.0008496951195411384</td><td>13068</td><td>1027129.5625</td><td>140.1687774658203</td><td>3723.89306640625</td><td>2.2318129539489746</td><td>1034877.125</td><td>160.33155822753906</td><td>234</td><td>nan</td><td>nan</td><td>nan</td><td>nan</td><td>1041.5575820748722</td><td>0.00013444278738461435</td><td>613.4817944594607</td><td>0.00017144907906185836</td><td>0.0007805559434928</td><td>0.0001397567830281332</td><td>1.0000263452529907</td></tr>\n",
       "<tr><td>...</td><td>...</td><td>...</td><td>...</td><td>...</td><td>...</td><td>...</td><td>...</td><td>...</td><td>...</td><td>...</td><td>...</td><td>...</td><td>...</td><td>...</td><td>...</td><td>...</td><td>...</td><td>...</td><td>...</td><td>...</td><td>...</td></tr>\n",
       "<tr><td>0.8177883629517035</td><td>2591.9999999999977</td><td>0.0008434003102593124</td><td>12812</td><td>1027166.75</td><td>140.1807861328125</td><td>3679.962158203125</td><td>2.231734037399292</td><td>1034906.125</td><td>156.48167419433594</td><td>215</td><td>nan</td><td>nan</td><td>nan</td><td>nan</td><td>1041.5572486779665</td><td>0.00013455090811476111</td><td>613.4817319458709</td><td>0.00017155273235403</td><td>0.00044021650683134794</td><td>-2.2798192730988376e-05</td><td>1.0000624656677246</td></tr>\n",
       "<tr><td>0.8477883629517035</td><td>2592.000000000001</td><td>0.0008444840204901993</td><td>12856</td><td>1027167.625</td><td>140.18292236328125</td><td>3677.2080078125</td><td>2.2317192554473877</td><td>1034912.1875</td><td>157.19903564453125</td><td>242</td><td>nan</td><td>nan</td><td>nan</td><td>nan</td><td>1041.5572827219944</td><td>0.00013455384760163724</td><td>613.4820130349885</td><td>0.00017156753165181726</td><td>0.0005435250350274146</td><td>0.00022221534163691103</td><td>1.0000633001327515</td></tr>\n",
       "<tr><td>0.8777883629517035</td><td>2592.0</td><td>0.0008455677307210863</td><td>12900</td><td>1027147.0625</td><td>140.16709899902344</td><td>3682.58447265625</td><td>2.232379674911499</td><td>1034895.25</td><td>157.31707763671875</td><td>378</td><td>nan</td><td>nan</td><td>nan</td><td>nan</td><td>1041.5573751934105</td><td>0.0001344450138276443</td><td>613.4819418532524</td><td>0.00017144296725746244</td><td>0.0006424767198041081</td><td>0.00019213277846574783</td><td>1.0000433921813965</td></tr>\n",
       "<tr><td>0.9077883629517035</td><td>2592.0000000000005</td><td>0.0008459781529381871</td><td>12917</td><td>1027127.875</td><td>140.16552734375</td><td>3666.555908203125</td><td>2.2315876483917236</td><td>1034874.1875</td><td>158.0498046875</td><td>192</td><td>nan</td><td>nan</td><td>nan</td><td>nan</td><td>1041.5575282860661</td><td>0.0001344390620943159</td><td>613.482010188998</td><td>0.00017143799050245434</td><td>0.0006799700204282999</td><td>0.0002187517675338313</td><td>1.000024676322937</td></tr>\n",
       "<tr><td>0.9377883629517034</td><td>2592.0000000000005</td><td>0.0008475192589685321</td><td>12979</td><td>1027125.5</td><td>140.16659545898438</td><td>3671.648193359375</td><td>2.231222152709961</td><td>1034872.0625</td><td>159.87144470214844</td><td>229</td><td>nan</td><td>nan</td><td>nan</td><td>nan</td><td>1041.5574239711648</td><td>0.0001344349147984758</td><td>613.481843799496</td><td>0.0001714355021249503</td><td>0.0006997043383307755</td><td>0.00016979355132207274</td><td>1.0000224113464355</td></tr>\n",
       "<tr><td>0.9677883629517035</td><td>2592.0</td><td>0.0008490600739605725</td><td>13042</td><td>1027174.25</td><td>140.16726684570312</td><td>3711.00146484375</td><td>2.231607675552368</td><td>1034920.75</td><td>158.53150939941406</td><td>282</td><td>nan</td><td>nan</td><td>nan</td><td>nan</td><td>1041.5575654385236</td><td>0.0001344206975772977</td><td>613.481823217812</td><td>0.0001714233949314803</td><td>0.0007404813659377396</td><td>0.00014231358363758773</td><td>1.0000698566436768</td></tr>\n",
       "<tr><td>0.9977883629517035</td><td>2592.0</td><td>0.0008505993755534291</td><td>13104</td><td>1027062.0625</td><td>140.16314697265625</td><td>3749.127197265625</td><td>2.231189489364624</td><td>1034809.5</td><td>159.5806121826172</td><td>334</td><td>nan</td><td>nan</td><td>nan</td><td>nan</td><td>1041.5575516173644</td><td>0.00013444012438412756</td><td>613.4817159065894</td><td>0.00017144311277661473</td><td>0.000812644837424159</td><td>0.0001224415173055604</td><td>0.9999606013298035</td></tr>\n",
       "<tr><td>1.0277883629517035</td><td>2592.0</td><td>0.0008510105544701219</td><td>13121</td><td>1027065.0625</td><td>140.16348266601562</td><td>3704.406005859375</td><td>2.2339234352111816</td><td>1034812.1875</td><td>159.33154296875</td><td>98</td><td>nan</td><td>nan</td><td>nan</td><td>nan</td><td>1041.5577324429266</td><td>0.00013444044452626258</td><td>613.4820608610108</td><td>0.00017143551667686552</td><td>0.000906648114323616</td><td>0.00027701034559868276</td><td>0.9999635815620422</td></tr>\n",
       "<tr><td>1.0577883629517035</td><td>2592.0</td><td>0.0008520940900780261</td><td>13165</td><td>1027010.75</td><td>140.15956115722656</td><td>3671.366455078125</td><td>2.2339401245117188</td><td>1034757.625</td><td>158.81593322753906</td><td>236</td><td>nan</td><td>nan</td><td>nan</td><td>nan</td><td>1041.557781580476</td><td>0.00013444223441183567</td><td>613.4820717757386</td><td>0.0001714371464913711</td><td>0.000943938794080168</td><td>0.0003093520936090499</td><td>0.9999105930328369</td></tr>\n",
       "<tr><td>1.0877883629517036</td><td>2592.0</td><td>0.000852906727232039</td><td>13198</td><td>1026967.75</td><td>140.15435791015625</td><td>3686.438232421875</td><td>2.2318782806396484</td><td>1034715.4375</td><td>159.0394287109375</td><td>98</td><td>nan</td><td>nan</td><td>nan</td><td>nan</td><td>1041.557693012149</td><td>0.00013444182695820928</td><td>613.4819761102531</td><td>0.00017143625882454216</td><td>0.0009531028335914016</td><td>0.00022884277859702706</td><td>0.9998687505722046</td></tr>\n",
       "</table>"
      ],
      "text/plain": [
       "<BinnedTimeSeries length=74>\n",
       "   time_bin_start     time_bin_size    ...   sap_flux_norm   \n",
       "                            s          ...                   \n",
       "       object            float64       ...      float64      \n",
       "------------------- ------------------ ... ------------------\n",
       "-1.1022116370482966             2592.0 ... 0.9998741745948792\n",
       "-1.0722116370482966             2592.0 ... 0.9999074339866638\n",
       "-1.0422116370482966             2592.0 ...  0.999972939491272\n",
       "-1.0122116370482965             2592.0 ... 1.0000077486038208\n",
       "-0.9822116370482965             2592.0 ... 0.9999921917915344\n",
       "-0.9522116370482965             2592.0 ... 1.0000101327896118\n",
       "-0.9222116370482966             2592.0 ... 1.0000121593475342\n",
       "-0.8922116370482965             2592.0 ... 0.9999905228614807\n",
       "-0.8622116370482965 2592.0000000000023 ... 1.0000263452529907\n",
       "                ...                ... ...                ...\n",
       " 0.8177883629517035 2591.9999999999977 ... 1.0000624656677246\n",
       " 0.8477883629517035  2592.000000000001 ... 1.0000633001327515\n",
       " 0.8777883629517035             2592.0 ... 1.0000433921813965\n",
       " 0.9077883629517035 2592.0000000000005 ...  1.000024676322937\n",
       " 0.9377883629517034 2592.0000000000005 ... 1.0000224113464355\n",
       " 0.9677883629517035             2592.0 ... 1.0000698566436768\n",
       " 0.9977883629517035             2592.0 ... 0.9999606013298035\n",
       " 1.0277883629517035             2592.0 ... 0.9999635815620422\n",
       " 1.0577883629517035             2592.0 ... 0.9999105930328369\n",
       " 1.0877883629517036             2592.0 ... 0.9998687505722046"
      ]
     },
     "execution_count": 25,
     "metadata": {},
     "output_type": "execute_result"
    }
   ],
   "source": [
    "from astropy.timeseries import aggregate_downsample\n",
    "ts_binned = aggregate_downsample(ts_folded, time_bin_size=0.03 * u.day)  \n",
    "ts_binned "
   ]
  },
  {
   "cell_type": "code",
   "execution_count": 26,
   "metadata": {
    "ExecuteTime": {
     "end_time": "2020-03-23T19:31:42.070518Z",
     "start_time": "2020-03-23T19:31:40.524854Z"
    }
   },
   "outputs": [
    {
     "data": {
      "text/plain": [
       "Text(0, 0.5, 'Normalized flux')"
      ]
     },
     "execution_count": 26,
     "metadata": {},
     "output_type": "execute_result"
    },
    {
     "data": {
      "image/png": "[encoded data removed]",
      "text/plain": [
       "<Figure size 432x288 with 1 Axes>"
      ]
     },
     "metadata": {},
     "output_type": "display_data"
    }
   ],
   "source": [
    "plt.plot(ts_folded.time.jd, ts_folded['sap_flux_norm'], 'k.', markersize=1)\n",
    "plt.plot(ts_binned.time_bin_start.jd, ts_binned['sap_flux_norm'], 'r-', drawstyle='steps-post')\n",
    "plt.xlabel('Time (days)')\n",
    "plt.ylabel('Normalized flux')"
   ]
  },
  {
   "cell_type": "markdown",
   "metadata": {},
   "source": [
    "## Initialize Timeseries"
   ]
  },
  {
   "cell_type": "code",
   "execution_count": 27,
   "metadata": {
    "ExecuteTime": {
     "end_time": "2020-03-23T19:31:42.239470Z",
     "start_time": "2020-03-23T19:31:42.098230Z"
    }
   },
   "outputs": [
    {
     "data": {
      "text/html": [
       "<i>TimeSeries length=5</i>\n",
       "<table id=\"table112786056472\" class=\"table-striped table-bordered table-condensed\">\n",
       "<thead><tr><th>time</th></tr></thead>\n",
       "<thead><tr><th>object</th></tr></thead>\n",
       "<tr><td>2016-03-22T12:30:31.000</td></tr>\n",
       "<tr><td>2016-03-22T12:30:34.000</td></tr>\n",
       "<tr><td>2016-03-22T12:30:37.000</td></tr>\n",
       "<tr><td>2016-03-22T12:30:40.000</td></tr>\n",
       "<tr><td>2016-03-22T12:30:43.000</td></tr>\n",
       "</table>"
      ],
      "text/plain": [
       "<TimeSeries length=5>\n",
       "          time         \n",
       "         object        \n",
       "-----------------------\n",
       "2016-03-22T12:30:31.000\n",
       "2016-03-22T12:30:34.000\n",
       "2016-03-22T12:30:37.000\n",
       "2016-03-22T12:30:40.000\n",
       "2016-03-22T12:30:43.000"
      ]
     },
     "execution_count": 27,
     "metadata": {},
     "output_type": "execute_result"
    }
   ],
   "source": [
    "from astropy import units as u\n",
    "from astropy.timeseries import TimeSeries\n",
    "ts1 = TimeSeries(time_start='2016-03-22T12:30:31',\n",
    "                 time_delta=3 * u.s,\n",
    "                 n_samples=5)\n",
    "ts1"
   ]
  },
  {
   "cell_type": "markdown",
   "metadata": {},
   "source": [
    "# Matching Kaggle Labeled Datasets to MAST API dataset\n",
    "\n",
    "    Pointing\n",
    "    RA: 336.66534641439 degrees\n",
    "    Dec: -11.096663792177 degrees\n",
    "    Roll: -158.494818065985 degrees\n",
    "\n",
    "    Targets With Data Available at MAST\n",
    "    16,833 EPIC IDs in long cadence (LC).\n",
    "    216 EPIC IDs in short cadence (LC).\n",
    "    Several custom targets (see below)\n",
    "\n",
    "    Full Frame Images (FFI)\n",
    "    ktwo2014331202630-c03_ffi-cal.fits\n",
    "    ktwo2015008010551-c03_ffi-cal.fits\n",
    "\n",
    "    First cadence\n",
    "    Time: 2014-11-15 14:06:05.515 UTC\n",
    "    Long Cadence Number: 99599\n",
    "    Short Cadence Number: 2976430\n",
    "\n",
    "    Last cadence\n",
    "    Time: 2015-01-23 18:37:04.488 UTC\n",
    "    Long Cadence Number: 102984\n",
    "    Short Cadence Number: 3078009\n",
    "    Most Recent Processing Version\n",
    "    Data Release 26"
   ]
  },
  {
   "cell_type": "code",
   "execution_count": 28,
   "metadata": {
    "ExecuteTime": {
     "end_time": "2020-03-23T19:31:42.330087Z",
     "start_time": "2020-03-23T19:31:42.295954Z"
    }
   },
   "outputs": [],
   "source": [
    "from astropy import units as u\n",
    "from astropy.timeseries import TimeSeries\n",
    "ts1 = TimeSeries(time_start='2016-03-22T12:30:31',\n",
    "                 time_delta=3 * u.s,\n",
    "                 n_samples=5)\n"
   ]
  },
  {
   "cell_type": "code",
   "execution_count": 29,
   "metadata": {
    "ExecuteTime": {
     "end_time": "2020-03-23T19:31:42.361570Z",
     "start_time": "2020-03-23T19:31:42.341907Z"
    }
   },
   "outputs": [],
   "source": [
    "# from astropy.table import vstack\n",
    "# from astropy import units as u\n",
    "# from astropy.timeseries import TimeSeries\n",
    "# ts_a = TimeSeries(time_start='2014-11-15T15:06:05'\n",
    "#                   time_delta=3 * u.s,\n",
    "#                   data={'flux': [1, 4, 5, 3, 2] * u.mJy})\n",
    "# ts_b = TimeSeries(time_start='2016-03-22T12:50:31',\n",
    "#                   time_delta=3 * u.s,\n",
    "#                   data={'flux': [4, 3, 1, 2, 3] * u.mJy})\n",
    "# ts_ab = vstack([ts_a, ts_b])\n",
    "# ts_ab\n",
    "\n",
    "# from astropy.table import Table, hstack\n",
    "# data = Table(data={'flux': [40., 41., 40., 39., 30.] * u.K})\n",
    "# ts_a_data = hstack([ts_a, data])\n",
    "# ts_a_data\n",
    "\n",
    "\n",
    "\n",
    "# from astropy.table import Table, hstack\n",
    "# data = Table(data={'flux': [40., 41., 40., 39., 30.] * u.K})\n",
    "# ts_a_data = hstack([ts_a, data])\n",
    "# ts_a_data"
   ]
  },
  {
   "cell_type": "code",
   "execution_count": 30,
   "metadata": {
    "ExecuteTime": {
     "end_time": "2020-03-23T19:31:42.396349Z",
     "start_time": "2020-03-23T19:31:42.376787Z"
    }
   },
   "outputs": [
    {
     "data": {
      "text/html": [
       "        <script type=\"text/javascript\">\n",
       "        window.PlotlyConfig = {MathJaxConfig: 'local'};\n",
       "        if (window.MathJax) {MathJax.Hub.Config({SVG: {font: \"STIX-Web\"}});}\n",
       "        if (typeof require !== 'undefined') {\n",
       "        require.undef(\"plotly\");\n",
       "        requirejs.config({\n",
       "            paths: {\n",
       "                'plotly': ['https://cdn.plot.ly/plotly-latest.min']\n",
       "            }\n",
       "        });\n",
       "        require(['plotly'], function(Plotly) {\n",
       "            window._Plotly = Plotly;\n",
       "        });\n",
       "        }\n",
       "        </script>\n",
       "        "
      ]
     },
     "metadata": {},
     "output_type": "display_data"
    }
   ],
   "source": [
    "import cufflinks as cf\n",
    "cf.go_offline()"
   ]
  },
  {
   "cell_type": "code",
   "execution_count": null,
   "metadata": {},
   "outputs": [],
   "source": []
  },
  {
   "cell_type": "code",
   "execution_count": null,
   "metadata": {},
   "outputs": [],
   "source": []
  },
  {
   "cell_type": "code",
   "execution_count": 31,
   "metadata": {
    "ExecuteTime": {
     "end_time": "2020-03-23T19:32:35.535655Z",
     "start_time": "2020-03-23T19:31:42.405488Z"
    }
   },
   "outputs": [],
   "source": [
    "train = pd.read_csv('DATA/exoTrain.csv')\n",
    "test = pd.read_csv('DATA/exoTest.csv')"
   ]
  },
  {
   "cell_type": "code",
   "execution_count": 32,
   "metadata": {
    "ExecuteTime": {
     "end_time": "2020-03-23T19:32:39.656490Z",
     "start_time": "2020-03-23T19:32:35.571720Z"
    }
   },
   "outputs": [
    {
     "data": {
      "text/html": [
       "<div>\n",
       "<style scoped>\n",
       "    .dataframe tbody tr th:only-of-type {\n",
       "        vertical-align: middle;\n",
       "    }\n",
       "\n",
       "    .dataframe tbody tr th {\n",
       "        vertical-align: top;\n",
       "    }\n",
       "\n",
       "    .dataframe thead th {\n",
       "        text-align: right;\n",
       "    }\n",
       "</style>\n",
       "<table border=\"1\" class=\"dataframe\">\n",
       "  <thead>\n",
       "    <tr style=\"text-align: right;\">\n",
       "      <th></th>\n",
       "      <th>LABEL</th>\n",
       "      <th>FLUX.1</th>\n",
       "      <th>FLUX.2</th>\n",
       "      <th>FLUX.3</th>\n",
       "      <th>FLUX.4</th>\n",
       "      <th>FLUX.5</th>\n",
       "      <th>FLUX.6</th>\n",
       "      <th>FLUX.7</th>\n",
       "      <th>FLUX.8</th>\n",
       "      <th>FLUX.9</th>\n",
       "      <th>FLUX.10</th>\n",
       "      <th>FLUX.11</th>\n",
       "      <th>FLUX.12</th>\n",
       "      <th>FLUX.13</th>\n",
       "      <th>FLUX.14</th>\n",
       "      <th>FLUX.15</th>\n",
       "      <th>FLUX.16</th>\n",
       "      <th>FLUX.17</th>\n",
       "      <th>FLUX.18</th>\n",
       "      <th>FLUX.19</th>\n",
       "      <th>FLUX.20</th>\n",
       "      <th>FLUX.21</th>\n",
       "      <th>FLUX.22</th>\n",
       "      <th>FLUX.23</th>\n",
       "      <th>FLUX.24</th>\n",
       "      <th>FLUX.25</th>\n",
       "      <th>FLUX.26</th>\n",
       "      <th>FLUX.27</th>\n",
       "      <th>FLUX.28</th>\n",
       "      <th>FLUX.29</th>\n",
       "      <th>FLUX.30</th>\n",
       "      <th>FLUX.31</th>\n",
       "      <th>FLUX.32</th>\n",
       "      <th>FLUX.33</th>\n",
       "      <th>FLUX.34</th>\n",
       "      <th>FLUX.35</th>\n",
       "      <th>FLUX.36</th>\n",
       "      <th>FLUX.37</th>\n",
       "      <th>FLUX.38</th>\n",
       "      <th>FLUX.39</th>\n",
       "      <th>FLUX.40</th>\n",
       "      <th>FLUX.41</th>\n",
       "      <th>FLUX.42</th>\n",
       "      <th>FLUX.43</th>\n",
       "      <th>FLUX.44</th>\n",
       "      <th>FLUX.45</th>\n",
       "      <th>FLUX.46</th>\n",
       "      <th>FLUX.47</th>\n",
       "      <th>FLUX.48</th>\n",
       "      <th>FLUX.49</th>\n",
       "      <th>FLUX.50</th>\n",
       "      <th>FLUX.51</th>\n",
       "      <th>...</th>\n",
       "      <th>FLUX.3146</th>\n",
       "      <th>FLUX.3147</th>\n",
       "      <th>FLUX.3148</th>\n",
       "      <th>FLUX.3149</th>\n",
       "      <th>FLUX.3150</th>\n",
       "      <th>FLUX.3151</th>\n",
       "      <th>FLUX.3152</th>\n",
       "      <th>FLUX.3153</th>\n",
       "      <th>FLUX.3154</th>\n",
       "      <th>FLUX.3155</th>\n",
       "      <th>FLUX.3156</th>\n",
       "      <th>FLUX.3157</th>\n",
       "      <th>FLUX.3158</th>\n",
       "      <th>FLUX.3159</th>\n",
       "      <th>FLUX.3160</th>\n",
       "      <th>FLUX.3161</th>\n",
       "      <th>FLUX.3162</th>\n",
       "      <th>FLUX.3163</th>\n",
       "      <th>FLUX.3164</th>\n",
       "      <th>FLUX.3165</th>\n",
       "      <th>FLUX.3166</th>\n",
       "      <th>FLUX.3167</th>\n",
       "      <th>FLUX.3168</th>\n",
       "      <th>FLUX.3169</th>\n",
       "      <th>FLUX.3170</th>\n",
       "      <th>FLUX.3171</th>\n",
       "      <th>FLUX.3172</th>\n",
       "      <th>FLUX.3173</th>\n",
       "      <th>FLUX.3174</th>\n",
       "      <th>FLUX.3175</th>\n",
       "      <th>FLUX.3176</th>\n",
       "      <th>FLUX.3177</th>\n",
       "      <th>FLUX.3178</th>\n",
       "      <th>FLUX.3179</th>\n",
       "      <th>FLUX.3180</th>\n",
       "      <th>FLUX.3181</th>\n",
       "      <th>FLUX.3182</th>\n",
       "      <th>FLUX.3183</th>\n",
       "      <th>FLUX.3184</th>\n",
       "      <th>FLUX.3185</th>\n",
       "      <th>FLUX.3186</th>\n",
       "      <th>FLUX.3187</th>\n",
       "      <th>FLUX.3188</th>\n",
       "      <th>FLUX.3189</th>\n",
       "      <th>FLUX.3190</th>\n",
       "      <th>FLUX.3191</th>\n",
       "      <th>FLUX.3192</th>\n",
       "      <th>FLUX.3193</th>\n",
       "      <th>FLUX.3194</th>\n",
       "      <th>FLUX.3195</th>\n",
       "      <th>FLUX.3196</th>\n",
       "      <th>FLUX.3197</th>\n",
       "    </tr>\n",
       "  </thead>\n",
       "  <tbody>\n",
       "    <tr>\n",
       "      <th>0</th>\n",
       "      <td>2</td>\n",
       "      <td>93.85</td>\n",
       "      <td>83.81</td>\n",
       "      <td>20.10</td>\n",
       "      <td>-26.98</td>\n",
       "      <td>-39.56</td>\n",
       "      <td>-124.71</td>\n",
       "      <td>-135.18</td>\n",
       "      <td>-96.27</td>\n",
       "      <td>-79.89</td>\n",
       "      <td>-160.17</td>\n",
       "      <td>-207.47</td>\n",
       "      <td>-154.88</td>\n",
       "      <td>-173.71</td>\n",
       "      <td>-146.56</td>\n",
       "      <td>-120.26</td>\n",
       "      <td>-102.85</td>\n",
       "      <td>-98.71</td>\n",
       "      <td>-48.42</td>\n",
       "      <td>-86.57</td>\n",
       "      <td>-0.84</td>\n",
       "      <td>-25.85</td>\n",
       "      <td>-67.39</td>\n",
       "      <td>-36.55</td>\n",
       "      <td>-87.01</td>\n",
       "      <td>-97.72</td>\n",
       "      <td>-131.59</td>\n",
       "      <td>-134.80</td>\n",
       "      <td>-186.97</td>\n",
       "      <td>-244.32</td>\n",
       "      <td>-225.76</td>\n",
       "      <td>-229.60</td>\n",
       "      <td>-253.48</td>\n",
       "      <td>-145.74</td>\n",
       "      <td>-145.74</td>\n",
       "      <td>30.47</td>\n",
       "      <td>-173.39</td>\n",
       "      <td>-187.56</td>\n",
       "      <td>-192.88</td>\n",
       "      <td>-182.76</td>\n",
       "      <td>-195.99</td>\n",
       "      <td>-208.31</td>\n",
       "      <td>-103.22</td>\n",
       "      <td>-193.85</td>\n",
       "      <td>-187.64</td>\n",
       "      <td>-92.25</td>\n",
       "      <td>-119.25</td>\n",
       "      <td>-87.50</td>\n",
       "      <td>-1.86</td>\n",
       "      <td>-4.99</td>\n",
       "      <td>18.01</td>\n",
       "      <td>11.12</td>\n",
       "      <td>...</td>\n",
       "      <td>-178.96</td>\n",
       "      <td>-20.76</td>\n",
       "      <td>101.27</td>\n",
       "      <td>2.15</td>\n",
       "      <td>-6.04</td>\n",
       "      <td>-58.44</td>\n",
       "      <td>-29.64</td>\n",
       "      <td>-90.71</td>\n",
       "      <td>-90.71</td>\n",
       "      <td>-265.25</td>\n",
       "      <td>-367.84</td>\n",
       "      <td>-317.51</td>\n",
       "      <td>-167.69</td>\n",
       "      <td>-56.86</td>\n",
       "      <td>7.56</td>\n",
       "      <td>37.40</td>\n",
       "      <td>-81.13</td>\n",
       "      <td>-20.10</td>\n",
       "      <td>-30.34</td>\n",
       "      <td>-320.48</td>\n",
       "      <td>-320.48</td>\n",
       "      <td>-287.72</td>\n",
       "      <td>-351.25</td>\n",
       "      <td>-70.07</td>\n",
       "      <td>-194.34</td>\n",
       "      <td>-106.47</td>\n",
       "      <td>-14.80</td>\n",
       "      <td>63.13</td>\n",
       "      <td>130.03</td>\n",
       "      <td>76.43</td>\n",
       "      <td>131.90</td>\n",
       "      <td>-193.16</td>\n",
       "      <td>-193.16</td>\n",
       "      <td>-89.26</td>\n",
       "      <td>-17.56</td>\n",
       "      <td>-17.31</td>\n",
       "      <td>125.62</td>\n",
       "      <td>68.87</td>\n",
       "      <td>100.01</td>\n",
       "      <td>-9.60</td>\n",
       "      <td>-25.39</td>\n",
       "      <td>-16.51</td>\n",
       "      <td>-78.07</td>\n",
       "      <td>-102.15</td>\n",
       "      <td>-102.15</td>\n",
       "      <td>25.13</td>\n",
       "      <td>48.57</td>\n",
       "      <td>92.54</td>\n",
       "      <td>39.32</td>\n",
       "      <td>61.42</td>\n",
       "      <td>5.08</td>\n",
       "      <td>-39.54</td>\n",
       "    </tr>\n",
       "    <tr>\n",
       "      <th>1</th>\n",
       "      <td>2</td>\n",
       "      <td>-38.88</td>\n",
       "      <td>-33.83</td>\n",
       "      <td>-58.54</td>\n",
       "      <td>-40.09</td>\n",
       "      <td>-79.31</td>\n",
       "      <td>-72.81</td>\n",
       "      <td>-86.55</td>\n",
       "      <td>-85.33</td>\n",
       "      <td>-83.97</td>\n",
       "      <td>-73.38</td>\n",
       "      <td>-86.51</td>\n",
       "      <td>-74.97</td>\n",
       "      <td>-73.15</td>\n",
       "      <td>-86.13</td>\n",
       "      <td>-76.57</td>\n",
       "      <td>-61.27</td>\n",
       "      <td>-37.23</td>\n",
       "      <td>-48.53</td>\n",
       "      <td>-30.96</td>\n",
       "      <td>-8.14</td>\n",
       "      <td>-5.54</td>\n",
       "      <td>15.79</td>\n",
       "      <td>45.71</td>\n",
       "      <td>10.61</td>\n",
       "      <td>40.66</td>\n",
       "      <td>16.70</td>\n",
       "      <td>15.18</td>\n",
       "      <td>11.98</td>\n",
       "      <td>-203.70</td>\n",
       "      <td>19.13</td>\n",
       "      <td>19.13</td>\n",
       "      <td>19.13</td>\n",
       "      <td>19.13</td>\n",
       "      <td>19.13</td>\n",
       "      <td>17.02</td>\n",
       "      <td>-8.50</td>\n",
       "      <td>-13.87</td>\n",
       "      <td>-29.10</td>\n",
       "      <td>-34.29</td>\n",
       "      <td>-24.68</td>\n",
       "      <td>-27.62</td>\n",
       "      <td>-31.21</td>\n",
       "      <td>-32.31</td>\n",
       "      <td>-37.52</td>\n",
       "      <td>-46.58</td>\n",
       "      <td>-46.20</td>\n",
       "      <td>-35.79</td>\n",
       "      <td>-42.09</td>\n",
       "      <td>-51.25</td>\n",
       "      <td>-46.61</td>\n",
       "      <td>-33.67</td>\n",
       "      <td>...</td>\n",
       "      <td>-25.49</td>\n",
       "      <td>-18.72</td>\n",
       "      <td>18.75</td>\n",
       "      <td>5.10</td>\n",
       "      <td>17.57</td>\n",
       "      <td>-16.46</td>\n",
       "      <td>21.43</td>\n",
       "      <td>-32.67</td>\n",
       "      <td>-32.67</td>\n",
       "      <td>-58.56</td>\n",
       "      <td>-51.99</td>\n",
       "      <td>-32.14</td>\n",
       "      <td>-36.75</td>\n",
       "      <td>-15.49</td>\n",
       "      <td>-13.24</td>\n",
       "      <td>20.46</td>\n",
       "      <td>-1.47</td>\n",
       "      <td>-0.40</td>\n",
       "      <td>27.80</td>\n",
       "      <td>-58.20</td>\n",
       "      <td>-58.20</td>\n",
       "      <td>-72.04</td>\n",
       "      <td>-58.01</td>\n",
       "      <td>-30.92</td>\n",
       "      <td>-13.42</td>\n",
       "      <td>-13.98</td>\n",
       "      <td>-5.43</td>\n",
       "      <td>8.71</td>\n",
       "      <td>1.80</td>\n",
       "      <td>36.59</td>\n",
       "      <td>-9.80</td>\n",
       "      <td>-19.53</td>\n",
       "      <td>-19.53</td>\n",
       "      <td>-24.32</td>\n",
       "      <td>-23.88</td>\n",
       "      <td>-33.07</td>\n",
       "      <td>-9.03</td>\n",
       "      <td>3.75</td>\n",
       "      <td>11.61</td>\n",
       "      <td>-12.66</td>\n",
       "      <td>-5.69</td>\n",
       "      <td>12.53</td>\n",
       "      <td>-3.28</td>\n",
       "      <td>-32.21</td>\n",
       "      <td>-32.21</td>\n",
       "      <td>-24.89</td>\n",
       "      <td>-4.86</td>\n",
       "      <td>0.76</td>\n",
       "      <td>-11.70</td>\n",
       "      <td>6.46</td>\n",
       "      <td>16.00</td>\n",
       "      <td>19.93</td>\n",
       "    </tr>\n",
       "    <tr>\n",
       "      <th>2</th>\n",
       "      <td>2</td>\n",
       "      <td>532.64</td>\n",
       "      <td>535.92</td>\n",
       "      <td>513.73</td>\n",
       "      <td>496.92</td>\n",
       "      <td>456.45</td>\n",
       "      <td>466.00</td>\n",
       "      <td>464.50</td>\n",
       "      <td>486.39</td>\n",
       "      <td>436.56</td>\n",
       "      <td>484.39</td>\n",
       "      <td>469.66</td>\n",
       "      <td>462.30</td>\n",
       "      <td>492.23</td>\n",
       "      <td>441.20</td>\n",
       "      <td>483.17</td>\n",
       "      <td>481.28</td>\n",
       "      <td>535.31</td>\n",
       "      <td>554.34</td>\n",
       "      <td>562.80</td>\n",
       "      <td>540.14</td>\n",
       "      <td>576.34</td>\n",
       "      <td>551.67</td>\n",
       "      <td>556.69</td>\n",
       "      <td>550.86</td>\n",
       "      <td>577.33</td>\n",
       "      <td>562.08</td>\n",
       "      <td>577.97</td>\n",
       "      <td>530.67</td>\n",
       "      <td>553.27</td>\n",
       "      <td>538.33</td>\n",
       "      <td>527.17</td>\n",
       "      <td>532.50</td>\n",
       "      <td>273.66</td>\n",
       "      <td>273.66</td>\n",
       "      <td>292.39</td>\n",
       "      <td>298.44</td>\n",
       "      <td>252.64</td>\n",
       "      <td>233.58</td>\n",
       "      <td>171.41</td>\n",
       "      <td>224.02</td>\n",
       "      <td>237.69</td>\n",
       "      <td>251.53</td>\n",
       "      <td>236.06</td>\n",
       "      <td>212.31</td>\n",
       "      <td>220.95</td>\n",
       "      <td>249.08</td>\n",
       "      <td>234.14</td>\n",
       "      <td>259.02</td>\n",
       "      <td>280.05</td>\n",
       "      <td>269.55</td>\n",
       "      <td>283.48</td>\n",
       "      <td>...</td>\n",
       "      <td>-62.94</td>\n",
       "      <td>-75.98</td>\n",
       "      <td>-33.38</td>\n",
       "      <td>-45.09</td>\n",
       "      <td>-50.22</td>\n",
       "      <td>-97.19</td>\n",
       "      <td>-64.22</td>\n",
       "      <td>-123.17</td>\n",
       "      <td>-123.17</td>\n",
       "      <td>-144.86</td>\n",
       "      <td>-106.97</td>\n",
       "      <td>-56.38</td>\n",
       "      <td>-51.09</td>\n",
       "      <td>-33.30</td>\n",
       "      <td>-61.53</td>\n",
       "      <td>-89.61</td>\n",
       "      <td>-69.17</td>\n",
       "      <td>-86.47</td>\n",
       "      <td>-140.91</td>\n",
       "      <td>-84.20</td>\n",
       "      <td>-84.20</td>\n",
       "      <td>-89.09</td>\n",
       "      <td>-55.44</td>\n",
       "      <td>-61.05</td>\n",
       "      <td>-29.17</td>\n",
       "      <td>-63.80</td>\n",
       "      <td>-57.61</td>\n",
       "      <td>2.70</td>\n",
       "      <td>-31.25</td>\n",
       "      <td>-47.09</td>\n",
       "      <td>-6.53</td>\n",
       "      <td>14.00</td>\n",
       "      <td>14.00</td>\n",
       "      <td>-25.05</td>\n",
       "      <td>-34.98</td>\n",
       "      <td>-32.08</td>\n",
       "      <td>-17.06</td>\n",
       "      <td>-27.77</td>\n",
       "      <td>7.86</td>\n",
       "      <td>-70.77</td>\n",
       "      <td>-64.44</td>\n",
       "      <td>-83.83</td>\n",
       "      <td>-71.69</td>\n",
       "      <td>13.31</td>\n",
       "      <td>13.31</td>\n",
       "      <td>-29.89</td>\n",
       "      <td>-20.88</td>\n",
       "      <td>5.06</td>\n",
       "      <td>-11.80</td>\n",
       "      <td>-28.91</td>\n",
       "      <td>-70.02</td>\n",
       "      <td>-96.67</td>\n",
       "    </tr>\n",
       "    <tr>\n",
       "      <th>3</th>\n",
       "      <td>2</td>\n",
       "      <td>326.52</td>\n",
       "      <td>347.39</td>\n",
       "      <td>302.35</td>\n",
       "      <td>298.13</td>\n",
       "      <td>317.74</td>\n",
       "      <td>312.70</td>\n",
       "      <td>322.33</td>\n",
       "      <td>311.31</td>\n",
       "      <td>312.42</td>\n",
       "      <td>323.33</td>\n",
       "      <td>311.14</td>\n",
       "      <td>326.19</td>\n",
       "      <td>313.11</td>\n",
       "      <td>313.89</td>\n",
       "      <td>317.96</td>\n",
       "      <td>330.92</td>\n",
       "      <td>341.10</td>\n",
       "      <td>360.58</td>\n",
       "      <td>370.29</td>\n",
       "      <td>369.71</td>\n",
       "      <td>339.00</td>\n",
       "      <td>336.24</td>\n",
       "      <td>319.31</td>\n",
       "      <td>321.56</td>\n",
       "      <td>308.02</td>\n",
       "      <td>296.82</td>\n",
       "      <td>279.34</td>\n",
       "      <td>275.78</td>\n",
       "      <td>289.67</td>\n",
       "      <td>281.33</td>\n",
       "      <td>285.37</td>\n",
       "      <td>281.87</td>\n",
       "      <td>88.75</td>\n",
       "      <td>88.75</td>\n",
       "      <td>67.71</td>\n",
       "      <td>74.46</td>\n",
       "      <td>69.34</td>\n",
       "      <td>76.51</td>\n",
       "      <td>80.26</td>\n",
       "      <td>70.31</td>\n",
       "      <td>63.67</td>\n",
       "      <td>75.00</td>\n",
       "      <td>70.73</td>\n",
       "      <td>70.29</td>\n",
       "      <td>95.44</td>\n",
       "      <td>100.57</td>\n",
       "      <td>114.93</td>\n",
       "      <td>103.45</td>\n",
       "      <td>107.80</td>\n",
       "      <td>115.08</td>\n",
       "      <td>105.44</td>\n",
       "      <td>...</td>\n",
       "      <td>-16.97</td>\n",
       "      <td>24.42</td>\n",
       "      <td>-16.04</td>\n",
       "      <td>-18.86</td>\n",
       "      <td>-11.27</td>\n",
       "      <td>-19.92</td>\n",
       "      <td>-1.99</td>\n",
       "      <td>-13.49</td>\n",
       "      <td>-13.49</td>\n",
       "      <td>-27.74</td>\n",
       "      <td>-30.46</td>\n",
       "      <td>-32.40</td>\n",
       "      <td>-2.75</td>\n",
       "      <td>14.29</td>\n",
       "      <td>-14.18</td>\n",
       "      <td>-25.14</td>\n",
       "      <td>-13.43</td>\n",
       "      <td>-14.74</td>\n",
       "      <td>2.24</td>\n",
       "      <td>-31.07</td>\n",
       "      <td>-31.07</td>\n",
       "      <td>-50.27</td>\n",
       "      <td>-39.22</td>\n",
       "      <td>-51.33</td>\n",
       "      <td>-18.53</td>\n",
       "      <td>-1.99</td>\n",
       "      <td>10.43</td>\n",
       "      <td>-1.97</td>\n",
       "      <td>-15.32</td>\n",
       "      <td>-23.38</td>\n",
       "      <td>-27.71</td>\n",
       "      <td>-36.12</td>\n",
       "      <td>-36.12</td>\n",
       "      <td>-15.65</td>\n",
       "      <td>6.63</td>\n",
       "      <td>10.66</td>\n",
       "      <td>-8.57</td>\n",
       "      <td>-8.29</td>\n",
       "      <td>-21.90</td>\n",
       "      <td>-25.80</td>\n",
       "      <td>-29.86</td>\n",
       "      <td>7.42</td>\n",
       "      <td>5.71</td>\n",
       "      <td>-3.73</td>\n",
       "      <td>-3.73</td>\n",
       "      <td>30.05</td>\n",
       "      <td>20.03</td>\n",
       "      <td>-12.67</td>\n",
       "      <td>-8.77</td>\n",
       "      <td>-17.31</td>\n",
       "      <td>-17.35</td>\n",
       "      <td>13.98</td>\n",
       "    </tr>\n",
       "    <tr>\n",
       "      <th>4</th>\n",
       "      <td>2</td>\n",
       "      <td>-1107.21</td>\n",
       "      <td>-1112.59</td>\n",
       "      <td>-1118.95</td>\n",
       "      <td>-1095.10</td>\n",
       "      <td>-1057.55</td>\n",
       "      <td>-1034.48</td>\n",
       "      <td>-998.34</td>\n",
       "      <td>-1022.71</td>\n",
       "      <td>-989.57</td>\n",
       "      <td>-970.88</td>\n",
       "      <td>-933.30</td>\n",
       "      <td>-889.49</td>\n",
       "      <td>-888.66</td>\n",
       "      <td>-853.95</td>\n",
       "      <td>-800.91</td>\n",
       "      <td>-754.48</td>\n",
       "      <td>-717.24</td>\n",
       "      <td>-649.34</td>\n",
       "      <td>-605.71</td>\n",
       "      <td>-575.62</td>\n",
       "      <td>-526.37</td>\n",
       "      <td>-490.12</td>\n",
       "      <td>-458.73</td>\n",
       "      <td>-447.76</td>\n",
       "      <td>-419.54</td>\n",
       "      <td>-410.76</td>\n",
       "      <td>-404.10</td>\n",
       "      <td>-425.38</td>\n",
       "      <td>-397.29</td>\n",
       "      <td>-412.73</td>\n",
       "      <td>-446.49</td>\n",
       "      <td>-413.46</td>\n",
       "      <td>-1006.21</td>\n",
       "      <td>-1006.21</td>\n",
       "      <td>-973.29</td>\n",
       "      <td>-986.01</td>\n",
       "      <td>-975.88</td>\n",
       "      <td>-982.20</td>\n",
       "      <td>-953.73</td>\n",
       "      <td>-964.35</td>\n",
       "      <td>-956.60</td>\n",
       "      <td>-911.57</td>\n",
       "      <td>-885.15</td>\n",
       "      <td>-859.38</td>\n",
       "      <td>-806.16</td>\n",
       "      <td>-752.20</td>\n",
       "      <td>-792.40</td>\n",
       "      <td>-703.91</td>\n",
       "      <td>-686.70</td>\n",
       "      <td>-651.26</td>\n",
       "      <td>-578.90</td>\n",
       "      <td>...</td>\n",
       "      <td>-797.99</td>\n",
       "      <td>-767.66</td>\n",
       "      <td>-700.02</td>\n",
       "      <td>-674.90</td>\n",
       "      <td>-705.88</td>\n",
       "      <td>-708.77</td>\n",
       "      <td>-844.59</td>\n",
       "      <td>-1023.12</td>\n",
       "      <td>-1023.12</td>\n",
       "      <td>-935.68</td>\n",
       "      <td>-848.88</td>\n",
       "      <td>-732.66</td>\n",
       "      <td>-694.76</td>\n",
       "      <td>-705.01</td>\n",
       "      <td>-625.24</td>\n",
       "      <td>-604.16</td>\n",
       "      <td>-668.26</td>\n",
       "      <td>-742.18</td>\n",
       "      <td>-820.55</td>\n",
       "      <td>-874.76</td>\n",
       "      <td>-874.76</td>\n",
       "      <td>-853.68</td>\n",
       "      <td>-808.62</td>\n",
       "      <td>-777.88</td>\n",
       "      <td>-712.62</td>\n",
       "      <td>-694.01</td>\n",
       "      <td>-655.74</td>\n",
       "      <td>-599.74</td>\n",
       "      <td>-617.30</td>\n",
       "      <td>-602.98</td>\n",
       "      <td>-539.29</td>\n",
       "      <td>-672.71</td>\n",
       "      <td>-672.71</td>\n",
       "      <td>-594.49</td>\n",
       "      <td>-597.60</td>\n",
       "      <td>-560.77</td>\n",
       "      <td>-501.95</td>\n",
       "      <td>-461.62</td>\n",
       "      <td>-468.59</td>\n",
       "      <td>-513.24</td>\n",
       "      <td>-504.70</td>\n",
       "      <td>-521.95</td>\n",
       "      <td>-594.37</td>\n",
       "      <td>-401.66</td>\n",
       "      <td>-401.66</td>\n",
       "      <td>-357.24</td>\n",
       "      <td>-443.76</td>\n",
       "      <td>-438.54</td>\n",
       "      <td>-399.71</td>\n",
       "      <td>-384.65</td>\n",
       "      <td>-411.79</td>\n",
       "      <td>-510.54</td>\n",
       "    </tr>\n",
       "  </tbody>\n",
       "</table>\n",
       "<p>5 rows × 3198 columns</p>\n",
       "</div>"
      ],
      "text/plain": [
       "   LABEL   FLUX.1   FLUX.2   FLUX.3   FLUX.4  ...  FLUX.3193  FLUX.3194  FLUX.3195  FLUX.3196  FLUX.3197\n",
       "0      2    93.85    83.81    20.10   -26.98  ...      92.54      39.32      61.42       5.08     -39.54\n",
       "1      2   -38.88   -33.83   -58.54   -40.09  ...       0.76     -11.70       6.46      16.00      19.93\n",
       "2      2   532.64   535.92   513.73   496.92  ...       5.06     -11.80     -28.91     -70.02     -96.67\n",
       "3      2   326.52   347.39   302.35   298.13  ...     -12.67      -8.77     -17.31     -17.35      13.98\n",
       "4      2 -1107.21 -1112.59 -1118.95 -1095.10  ...    -438.54    -399.71    -384.65    -411.79    -510.54\n",
       "\n",
       "[5 rows x 3198 columns]"
      ]
     },
     "metadata": {},
     "output_type": "display_data"
    },
    {
     "data": {
      "text/html": [
       "<div>\n",
       "<style scoped>\n",
       "    .dataframe tbody tr th:only-of-type {\n",
       "        vertical-align: middle;\n",
       "    }\n",
       "\n",
       "    .dataframe tbody tr th {\n",
       "        vertical-align: top;\n",
       "    }\n",
       "\n",
       "    .dataframe thead th {\n",
       "        text-align: right;\n",
       "    }\n",
       "</style>\n",
       "<table border=\"1\" class=\"dataframe\">\n",
       "  <thead>\n",
       "    <tr style=\"text-align: right;\">\n",
       "      <th></th>\n",
       "      <th>LABEL</th>\n",
       "      <th>FLUX.1</th>\n",
       "      <th>FLUX.2</th>\n",
       "      <th>FLUX.3</th>\n",
       "      <th>FLUX.4</th>\n",
       "      <th>FLUX.5</th>\n",
       "      <th>FLUX.6</th>\n",
       "      <th>FLUX.7</th>\n",
       "      <th>FLUX.8</th>\n",
       "      <th>FLUX.9</th>\n",
       "      <th>FLUX.10</th>\n",
       "      <th>FLUX.11</th>\n",
       "      <th>FLUX.12</th>\n",
       "      <th>FLUX.13</th>\n",
       "      <th>FLUX.14</th>\n",
       "      <th>FLUX.15</th>\n",
       "      <th>FLUX.16</th>\n",
       "      <th>FLUX.17</th>\n",
       "      <th>FLUX.18</th>\n",
       "      <th>FLUX.19</th>\n",
       "      <th>FLUX.20</th>\n",
       "      <th>FLUX.21</th>\n",
       "      <th>FLUX.22</th>\n",
       "      <th>FLUX.23</th>\n",
       "      <th>FLUX.24</th>\n",
       "      <th>FLUX.25</th>\n",
       "      <th>FLUX.26</th>\n",
       "      <th>FLUX.27</th>\n",
       "      <th>FLUX.28</th>\n",
       "      <th>FLUX.29</th>\n",
       "      <th>FLUX.30</th>\n",
       "      <th>FLUX.31</th>\n",
       "      <th>FLUX.32</th>\n",
       "      <th>FLUX.33</th>\n",
       "      <th>FLUX.34</th>\n",
       "      <th>FLUX.35</th>\n",
       "      <th>FLUX.36</th>\n",
       "      <th>FLUX.37</th>\n",
       "      <th>FLUX.38</th>\n",
       "      <th>FLUX.39</th>\n",
       "      <th>FLUX.40</th>\n",
       "      <th>FLUX.41</th>\n",
       "      <th>FLUX.42</th>\n",
       "      <th>FLUX.43</th>\n",
       "      <th>FLUX.44</th>\n",
       "      <th>FLUX.45</th>\n",
       "      <th>FLUX.46</th>\n",
       "      <th>FLUX.47</th>\n",
       "      <th>FLUX.48</th>\n",
       "      <th>FLUX.49</th>\n",
       "      <th>FLUX.50</th>\n",
       "      <th>FLUX.51</th>\n",
       "      <th>...</th>\n",
       "      <th>FLUX.3146</th>\n",
       "      <th>FLUX.3147</th>\n",
       "      <th>FLUX.3148</th>\n",
       "      <th>FLUX.3149</th>\n",
       "      <th>FLUX.3150</th>\n",
       "      <th>FLUX.3151</th>\n",
       "      <th>FLUX.3152</th>\n",
       "      <th>FLUX.3153</th>\n",
       "      <th>FLUX.3154</th>\n",
       "      <th>FLUX.3155</th>\n",
       "      <th>FLUX.3156</th>\n",
       "      <th>FLUX.3157</th>\n",
       "      <th>FLUX.3158</th>\n",
       "      <th>FLUX.3159</th>\n",
       "      <th>FLUX.3160</th>\n",
       "      <th>FLUX.3161</th>\n",
       "      <th>FLUX.3162</th>\n",
       "      <th>FLUX.3163</th>\n",
       "      <th>FLUX.3164</th>\n",
       "      <th>FLUX.3165</th>\n",
       "      <th>FLUX.3166</th>\n",
       "      <th>FLUX.3167</th>\n",
       "      <th>FLUX.3168</th>\n",
       "      <th>FLUX.3169</th>\n",
       "      <th>FLUX.3170</th>\n",
       "      <th>FLUX.3171</th>\n",
       "      <th>FLUX.3172</th>\n",
       "      <th>FLUX.3173</th>\n",
       "      <th>FLUX.3174</th>\n",
       "      <th>FLUX.3175</th>\n",
       "      <th>FLUX.3176</th>\n",
       "      <th>FLUX.3177</th>\n",
       "      <th>FLUX.3178</th>\n",
       "      <th>FLUX.3179</th>\n",
       "      <th>FLUX.3180</th>\n",
       "      <th>FLUX.3181</th>\n",
       "      <th>FLUX.3182</th>\n",
       "      <th>FLUX.3183</th>\n",
       "      <th>FLUX.3184</th>\n",
       "      <th>FLUX.3185</th>\n",
       "      <th>FLUX.3186</th>\n",
       "      <th>FLUX.3187</th>\n",
       "      <th>FLUX.3188</th>\n",
       "      <th>FLUX.3189</th>\n",
       "      <th>FLUX.3190</th>\n",
       "      <th>FLUX.3191</th>\n",
       "      <th>FLUX.3192</th>\n",
       "      <th>FLUX.3193</th>\n",
       "      <th>FLUX.3194</th>\n",
       "      <th>FLUX.3195</th>\n",
       "      <th>FLUX.3196</th>\n",
       "      <th>FLUX.3197</th>\n",
       "    </tr>\n",
       "  </thead>\n",
       "  <tbody>\n",
       "    <tr>\n",
       "      <th>0</th>\n",
       "      <td>2</td>\n",
       "      <td>119.88</td>\n",
       "      <td>100.21</td>\n",
       "      <td>86.46</td>\n",
       "      <td>48.68</td>\n",
       "      <td>46.12</td>\n",
       "      <td>39.39</td>\n",
       "      <td>18.57</td>\n",
       "      <td>6.98</td>\n",
       "      <td>6.63</td>\n",
       "      <td>-21.97</td>\n",
       "      <td>-23.17</td>\n",
       "      <td>-29.26</td>\n",
       "      <td>-33.99</td>\n",
       "      <td>-6.25</td>\n",
       "      <td>-28.12</td>\n",
       "      <td>-27.24</td>\n",
       "      <td>-32.28</td>\n",
       "      <td>-12.29</td>\n",
       "      <td>-16.57</td>\n",
       "      <td>-23.86</td>\n",
       "      <td>-5.69</td>\n",
       "      <td>9.24</td>\n",
       "      <td>35.52</td>\n",
       "      <td>81.20</td>\n",
       "      <td>116.49</td>\n",
       "      <td>133.99</td>\n",
       "      <td>148.97</td>\n",
       "      <td>174.15</td>\n",
       "      <td>187.77</td>\n",
       "      <td>215.30</td>\n",
       "      <td>246.80</td>\n",
       "      <td>-56.68</td>\n",
       "      <td>-56.68</td>\n",
       "      <td>-56.68</td>\n",
       "      <td>-52.05</td>\n",
       "      <td>-31.52</td>\n",
       "      <td>-31.15</td>\n",
       "      <td>-48.53</td>\n",
       "      <td>-38.93</td>\n",
       "      <td>-26.06</td>\n",
       "      <td>6.63</td>\n",
       "      <td>29.13</td>\n",
       "      <td>64.70</td>\n",
       "      <td>79.74</td>\n",
       "      <td>12.21</td>\n",
       "      <td>12.21</td>\n",
       "      <td>-19.94</td>\n",
       "      <td>-28.60</td>\n",
       "      <td>-20.54</td>\n",
       "      <td>51.39</td>\n",
       "      <td>22.06</td>\n",
       "      <td>...</td>\n",
       "      <td>9.23</td>\n",
       "      <td>2.08</td>\n",
       "      <td>14.70</td>\n",
       "      <td>-11.44</td>\n",
       "      <td>-21.86</td>\n",
       "      <td>-16.38</td>\n",
       "      <td>-7.24</td>\n",
       "      <td>22.69</td>\n",
       "      <td>22.69</td>\n",
       "      <td>7.10</td>\n",
       "      <td>3.45</td>\n",
       "      <td>6.49</td>\n",
       "      <td>-2.55</td>\n",
       "      <td>12.26</td>\n",
       "      <td>-7.06</td>\n",
       "      <td>-23.53</td>\n",
       "      <td>2.54</td>\n",
       "      <td>30.21</td>\n",
       "      <td>38.87</td>\n",
       "      <td>-22.86</td>\n",
       "      <td>-22.86</td>\n",
       "      <td>-4.37</td>\n",
       "      <td>2.27</td>\n",
       "      <td>-16.27</td>\n",
       "      <td>-30.84</td>\n",
       "      <td>-7.21</td>\n",
       "      <td>-4.27</td>\n",
       "      <td>13.60</td>\n",
       "      <td>15.62</td>\n",
       "      <td>31.96</td>\n",
       "      <td>49.89</td>\n",
       "      <td>86.93</td>\n",
       "      <td>86.93</td>\n",
       "      <td>42.99</td>\n",
       "      <td>48.76</td>\n",
       "      <td>22.82</td>\n",
       "      <td>32.79</td>\n",
       "      <td>30.76</td>\n",
       "      <td>14.55</td>\n",
       "      <td>10.92</td>\n",
       "      <td>22.68</td>\n",
       "      <td>5.91</td>\n",
       "      <td>14.52</td>\n",
       "      <td>19.29</td>\n",
       "      <td>14.44</td>\n",
       "      <td>-1.62</td>\n",
       "      <td>13.33</td>\n",
       "      <td>45.50</td>\n",
       "      <td>31.93</td>\n",
       "      <td>35.78</td>\n",
       "      <td>269.43</td>\n",
       "      <td>57.72</td>\n",
       "    </tr>\n",
       "    <tr>\n",
       "      <th>1</th>\n",
       "      <td>2</td>\n",
       "      <td>5736.59</td>\n",
       "      <td>5699.98</td>\n",
       "      <td>5717.16</td>\n",
       "      <td>5692.73</td>\n",
       "      <td>5663.83</td>\n",
       "      <td>5631.16</td>\n",
       "      <td>5626.39</td>\n",
       "      <td>5569.47</td>\n",
       "      <td>5550.44</td>\n",
       "      <td>5458.80</td>\n",
       "      <td>5329.39</td>\n",
       "      <td>5191.38</td>\n",
       "      <td>5031.39</td>\n",
       "      <td>4769.89</td>\n",
       "      <td>4419.66</td>\n",
       "      <td>4218.92</td>\n",
       "      <td>3924.73</td>\n",
       "      <td>3605.30</td>\n",
       "      <td>3326.55</td>\n",
       "      <td>3021.20</td>\n",
       "      <td>2800.61</td>\n",
       "      <td>2474.48</td>\n",
       "      <td>2258.33</td>\n",
       "      <td>1951.69</td>\n",
       "      <td>1749.86</td>\n",
       "      <td>1585.38</td>\n",
       "      <td>1575.48</td>\n",
       "      <td>1568.41</td>\n",
       "      <td>1661.08</td>\n",
       "      <td>1977.33</td>\n",
       "      <td>2425.62</td>\n",
       "      <td>2889.61</td>\n",
       "      <td>3847.64</td>\n",
       "      <td>3847.64</td>\n",
       "      <td>3741.20</td>\n",
       "      <td>3453.47</td>\n",
       "      <td>3202.61</td>\n",
       "      <td>2923.73</td>\n",
       "      <td>2694.84</td>\n",
       "      <td>2474.22</td>\n",
       "      <td>2195.09</td>\n",
       "      <td>1962.83</td>\n",
       "      <td>1705.44</td>\n",
       "      <td>1468.27</td>\n",
       "      <td>3730.77</td>\n",
       "      <td>3730.77</td>\n",
       "      <td>3833.30</td>\n",
       "      <td>3822.06</td>\n",
       "      <td>3803.47</td>\n",
       "      <td>3813.12</td>\n",
       "      <td>3726.64</td>\n",
       "      <td>...</td>\n",
       "      <td>427.80</td>\n",
       "      <td>61.86</td>\n",
       "      <td>-422.34</td>\n",
       "      <td>-971.42</td>\n",
       "      <td>-1327.75</td>\n",
       "      <td>-1864.69</td>\n",
       "      <td>-2148.34</td>\n",
       "      <td>1166.45</td>\n",
       "      <td>1166.45</td>\n",
       "      <td>934.66</td>\n",
       "      <td>574.19</td>\n",
       "      <td>-216.31</td>\n",
       "      <td>-3470.75</td>\n",
       "      <td>-4510.72</td>\n",
       "      <td>-5013.41</td>\n",
       "      <td>-3636.05</td>\n",
       "      <td>-2324.27</td>\n",
       "      <td>-2688.55</td>\n",
       "      <td>-2813.66</td>\n",
       "      <td>-586.22</td>\n",
       "      <td>-586.22</td>\n",
       "      <td>-756.80</td>\n",
       "      <td>-1090.23</td>\n",
       "      <td>-1388.61</td>\n",
       "      <td>-1745.36</td>\n",
       "      <td>-2015.28</td>\n",
       "      <td>-2359.06</td>\n",
       "      <td>-2516.66</td>\n",
       "      <td>-2699.31</td>\n",
       "      <td>-2777.55</td>\n",
       "      <td>-2732.97</td>\n",
       "      <td>1167.39</td>\n",
       "      <td>1167.39</td>\n",
       "      <td>1368.89</td>\n",
       "      <td>1434.80</td>\n",
       "      <td>1360.75</td>\n",
       "      <td>1148.44</td>\n",
       "      <td>1117.67</td>\n",
       "      <td>714.86</td>\n",
       "      <td>419.02</td>\n",
       "      <td>57.06</td>\n",
       "      <td>-175.66</td>\n",
       "      <td>-581.91</td>\n",
       "      <td>-984.09</td>\n",
       "      <td>-1230.89</td>\n",
       "      <td>-1600.45</td>\n",
       "      <td>-1824.53</td>\n",
       "      <td>-2061.17</td>\n",
       "      <td>-2265.98</td>\n",
       "      <td>-2366.19</td>\n",
       "      <td>-2294.86</td>\n",
       "      <td>-2034.72</td>\n",
       "    </tr>\n",
       "    <tr>\n",
       "      <th>2</th>\n",
       "      <td>2</td>\n",
       "      <td>844.48</td>\n",
       "      <td>817.49</td>\n",
       "      <td>770.07</td>\n",
       "      <td>675.01</td>\n",
       "      <td>605.52</td>\n",
       "      <td>499.45</td>\n",
       "      <td>440.77</td>\n",
       "      <td>362.95</td>\n",
       "      <td>207.27</td>\n",
       "      <td>150.46</td>\n",
       "      <td>85.49</td>\n",
       "      <td>-20.12</td>\n",
       "      <td>-35.88</td>\n",
       "      <td>-65.59</td>\n",
       "      <td>-15.12</td>\n",
       "      <td>16.60</td>\n",
       "      <td>-25.70</td>\n",
       "      <td>61.88</td>\n",
       "      <td>53.18</td>\n",
       "      <td>64.32</td>\n",
       "      <td>72.38</td>\n",
       "      <td>100.35</td>\n",
       "      <td>67.26</td>\n",
       "      <td>14.71</td>\n",
       "      <td>-16.41</td>\n",
       "      <td>-147.46</td>\n",
       "      <td>-231.27</td>\n",
       "      <td>-320.29</td>\n",
       "      <td>-407.82</td>\n",
       "      <td>-450.48</td>\n",
       "      <td>-146.99</td>\n",
       "      <td>-146.99</td>\n",
       "      <td>-146.99</td>\n",
       "      <td>-146.99</td>\n",
       "      <td>-166.30</td>\n",
       "      <td>-139.90</td>\n",
       "      <td>-96.41</td>\n",
       "      <td>-23.49</td>\n",
       "      <td>13.59</td>\n",
       "      <td>67.59</td>\n",
       "      <td>32.09</td>\n",
       "      <td>76.65</td>\n",
       "      <td>58.30</td>\n",
       "      <td>5.41</td>\n",
       "      <td>61.66</td>\n",
       "      <td>61.66</td>\n",
       "      <td>126.79</td>\n",
       "      <td>20.80</td>\n",
       "      <td>-16.95</td>\n",
       "      <td>13.37</td>\n",
       "      <td>-24.29</td>\n",
       "      <td>...</td>\n",
       "      <td>-74.91</td>\n",
       "      <td>9.95</td>\n",
       "      <td>-42.54</td>\n",
       "      <td>-28.46</td>\n",
       "      <td>-38.15</td>\n",
       "      <td>-61.43</td>\n",
       "      <td>-127.18</td>\n",
       "      <td>-12.15</td>\n",
       "      <td>-12.15</td>\n",
       "      <td>-80.84</td>\n",
       "      <td>-112.96</td>\n",
       "      <td>-129.34</td>\n",
       "      <td>-35.24</td>\n",
       "      <td>-70.13</td>\n",
       "      <td>-35.30</td>\n",
       "      <td>-56.48</td>\n",
       "      <td>-74.60</td>\n",
       "      <td>-115.18</td>\n",
       "      <td>-8.91</td>\n",
       "      <td>-37.59</td>\n",
       "      <td>-37.59</td>\n",
       "      <td>-37.43</td>\n",
       "      <td>-104.23</td>\n",
       "      <td>-101.45</td>\n",
       "      <td>-107.35</td>\n",
       "      <td>-109.82</td>\n",
       "      <td>-126.27</td>\n",
       "      <td>-170.32</td>\n",
       "      <td>-117.85</td>\n",
       "      <td>-32.30</td>\n",
       "      <td>-70.18</td>\n",
       "      <td>314.29</td>\n",
       "      <td>314.29</td>\n",
       "      <td>314.29</td>\n",
       "      <td>149.71</td>\n",
       "      <td>54.60</td>\n",
       "      <td>12.60</td>\n",
       "      <td>-133.68</td>\n",
       "      <td>-78.16</td>\n",
       "      <td>-52.30</td>\n",
       "      <td>-8.55</td>\n",
       "      <td>-19.73</td>\n",
       "      <td>17.82</td>\n",
       "      <td>-51.66</td>\n",
       "      <td>-48.29</td>\n",
       "      <td>-59.99</td>\n",
       "      <td>-82.10</td>\n",
       "      <td>-174.54</td>\n",
       "      <td>-95.23</td>\n",
       "      <td>-162.68</td>\n",
       "      <td>-36.79</td>\n",
       "      <td>30.63</td>\n",
       "    </tr>\n",
       "    <tr>\n",
       "      <th>3</th>\n",
       "      <td>2</td>\n",
       "      <td>-826.00</td>\n",
       "      <td>-827.31</td>\n",
       "      <td>-846.12</td>\n",
       "      <td>-836.03</td>\n",
       "      <td>-745.50</td>\n",
       "      <td>-784.69</td>\n",
       "      <td>-791.22</td>\n",
       "      <td>-746.50</td>\n",
       "      <td>-709.53</td>\n",
       "      <td>-679.56</td>\n",
       "      <td>-706.03</td>\n",
       "      <td>-720.56</td>\n",
       "      <td>-631.12</td>\n",
       "      <td>-659.16</td>\n",
       "      <td>-672.03</td>\n",
       "      <td>-665.06</td>\n",
       "      <td>-667.94</td>\n",
       "      <td>-660.84</td>\n",
       "      <td>-672.75</td>\n",
       "      <td>-644.91</td>\n",
       "      <td>-680.53</td>\n",
       "      <td>-620.50</td>\n",
       "      <td>-570.34</td>\n",
       "      <td>-530.00</td>\n",
       "      <td>-537.88</td>\n",
       "      <td>-578.38</td>\n",
       "      <td>-532.34</td>\n",
       "      <td>-532.38</td>\n",
       "      <td>-491.03</td>\n",
       "      <td>-485.03</td>\n",
       "      <td>-427.19</td>\n",
       "      <td>-380.84</td>\n",
       "      <td>-329.50</td>\n",
       "      <td>-286.91</td>\n",
       "      <td>-283.81</td>\n",
       "      <td>-298.19</td>\n",
       "      <td>-271.03</td>\n",
       "      <td>-268.50</td>\n",
       "      <td>-209.56</td>\n",
       "      <td>-180.44</td>\n",
       "      <td>-136.25</td>\n",
       "      <td>-136.22</td>\n",
       "      <td>-68.03</td>\n",
       "      <td>2.88</td>\n",
       "      <td>-732.94</td>\n",
       "      <td>-732.94</td>\n",
       "      <td>-613.06</td>\n",
       "      <td>-591.62</td>\n",
       "      <td>-506.53</td>\n",
       "      <td>-491.91</td>\n",
       "      <td>-459.53</td>\n",
       "      <td>...</td>\n",
       "      <td>139.03</td>\n",
       "      <td>33.22</td>\n",
       "      <td>-3.19</td>\n",
       "      <td>-128.00</td>\n",
       "      <td>-219.88</td>\n",
       "      <td>-247.56</td>\n",
       "      <td>-287.50</td>\n",
       "      <td>-135.41</td>\n",
       "      <td>-135.41</td>\n",
       "      <td>40.19</td>\n",
       "      <td>81.06</td>\n",
       "      <td>110.88</td>\n",
       "      <td>16.50</td>\n",
       "      <td>-1286.59</td>\n",
       "      <td>-1286.59</td>\n",
       "      <td>-1286.59</td>\n",
       "      <td>-1286.59</td>\n",
       "      <td>-1286.59</td>\n",
       "      <td>-1286.59</td>\n",
       "      <td>-1286.59</td>\n",
       "      <td>-1286.59</td>\n",
       "      <td>-14.94</td>\n",
       "      <td>64.09</td>\n",
       "      <td>8.38</td>\n",
       "      <td>45.31</td>\n",
       "      <td>100.72</td>\n",
       "      <td>91.53</td>\n",
       "      <td>46.69</td>\n",
       "      <td>20.34</td>\n",
       "      <td>30.94</td>\n",
       "      <td>-36.81</td>\n",
       "      <td>-33.28</td>\n",
       "      <td>-69.62</td>\n",
       "      <td>-208.00</td>\n",
       "      <td>-280.28</td>\n",
       "      <td>-340.41</td>\n",
       "      <td>-337.41</td>\n",
       "      <td>-268.03</td>\n",
       "      <td>-245.00</td>\n",
       "      <td>-230.62</td>\n",
       "      <td>-129.59</td>\n",
       "      <td>-35.47</td>\n",
       "      <td>122.34</td>\n",
       "      <td>93.03</td>\n",
       "      <td>93.03</td>\n",
       "      <td>68.81</td>\n",
       "      <td>9.81</td>\n",
       "      <td>20.75</td>\n",
       "      <td>20.25</td>\n",
       "      <td>-120.81</td>\n",
       "      <td>-257.56</td>\n",
       "      <td>-215.41</td>\n",
       "    </tr>\n",
       "    <tr>\n",
       "      <th>4</th>\n",
       "      <td>2</td>\n",
       "      <td>-39.57</td>\n",
       "      <td>-15.88</td>\n",
       "      <td>-9.16</td>\n",
       "      <td>-6.37</td>\n",
       "      <td>-16.13</td>\n",
       "      <td>-24.05</td>\n",
       "      <td>-0.90</td>\n",
       "      <td>-45.20</td>\n",
       "      <td>-5.04</td>\n",
       "      <td>14.62</td>\n",
       "      <td>-19.52</td>\n",
       "      <td>-11.43</td>\n",
       "      <td>-49.80</td>\n",
       "      <td>25.84</td>\n",
       "      <td>11.62</td>\n",
       "      <td>3.18</td>\n",
       "      <td>-9.59</td>\n",
       "      <td>14.49</td>\n",
       "      <td>8.82</td>\n",
       "      <td>32.32</td>\n",
       "      <td>-28.90</td>\n",
       "      <td>-28.90</td>\n",
       "      <td>-14.09</td>\n",
       "      <td>-30.87</td>\n",
       "      <td>-18.99</td>\n",
       "      <td>-38.60</td>\n",
       "      <td>-27.79</td>\n",
       "      <td>9.65</td>\n",
       "      <td>29.60</td>\n",
       "      <td>7.88</td>\n",
       "      <td>42.87</td>\n",
       "      <td>27.59</td>\n",
       "      <td>27.05</td>\n",
       "      <td>20.26</td>\n",
       "      <td>29.48</td>\n",
       "      <td>9.71</td>\n",
       "      <td>22.84</td>\n",
       "      <td>25.99</td>\n",
       "      <td>-667.55</td>\n",
       "      <td>-1336.24</td>\n",
       "      <td>-1207.88</td>\n",
       "      <td>-310.07</td>\n",
       "      <td>6.18</td>\n",
       "      <td>18.24</td>\n",
       "      <td>48.23</td>\n",
       "      <td>7.60</td>\n",
       "      <td>34.93</td>\n",
       "      <td>20.13</td>\n",
       "      <td>4.88</td>\n",
       "      <td>17.68</td>\n",
       "      <td>-5.74</td>\n",
       "      <td>...</td>\n",
       "      <td>-52.13</td>\n",
       "      <td>-39.21</td>\n",
       "      <td>-37.46</td>\n",
       "      <td>-28.68</td>\n",
       "      <td>62.41</td>\n",
       "      <td>93.07</td>\n",
       "      <td>-217.29</td>\n",
       "      <td>-217.29</td>\n",
       "      <td>-217.29</td>\n",
       "      <td>-217.29</td>\n",
       "      <td>-203.96</td>\n",
       "      <td>-171.62</td>\n",
       "      <td>-122.12</td>\n",
       "      <td>-32.01</td>\n",
       "      <td>-47.15</td>\n",
       "      <td>-56.45</td>\n",
       "      <td>-41.71</td>\n",
       "      <td>-34.13</td>\n",
       "      <td>-43.12</td>\n",
       "      <td>-53.63</td>\n",
       "      <td>-53.63</td>\n",
       "      <td>-53.63</td>\n",
       "      <td>-24.29</td>\n",
       "      <td>22.29</td>\n",
       "      <td>25.18</td>\n",
       "      <td>1.84</td>\n",
       "      <td>-22.29</td>\n",
       "      <td>-26.43</td>\n",
       "      <td>-12.12</td>\n",
       "      <td>-33.05</td>\n",
       "      <td>-21.66</td>\n",
       "      <td>-228.32</td>\n",
       "      <td>-228.32</td>\n",
       "      <td>-228.32</td>\n",
       "      <td>-187.35</td>\n",
       "      <td>-166.23</td>\n",
       "      <td>-115.54</td>\n",
       "      <td>-50.18</td>\n",
       "      <td>-37.96</td>\n",
       "      <td>-22.37</td>\n",
       "      <td>-4.74</td>\n",
       "      <td>-35.82</td>\n",
       "      <td>-37.87</td>\n",
       "      <td>-61.85</td>\n",
       "      <td>-27.15</td>\n",
       "      <td>-21.18</td>\n",
       "      <td>-33.76</td>\n",
       "      <td>-85.34</td>\n",
       "      <td>-81.46</td>\n",
       "      <td>-61.98</td>\n",
       "      <td>-69.34</td>\n",
       "      <td>-17.84</td>\n",
       "    </tr>\n",
       "  </tbody>\n",
       "</table>\n",
       "<p>5 rows × 3198 columns</p>\n",
       "</div>"
      ],
      "text/plain": [
       "   LABEL   FLUX.1   FLUX.2   FLUX.3   FLUX.4  ...  FLUX.3193  FLUX.3194  FLUX.3195  FLUX.3196  FLUX.3197\n",
       "0      2   119.88   100.21    86.46    48.68  ...      45.50      31.93      35.78     269.43      57.72\n",
       "1      2  5736.59  5699.98  5717.16  5692.73  ...   -2061.17   -2265.98   -2366.19   -2294.86   -2034.72\n",
       "2      2   844.48   817.49   770.07   675.01  ...    -174.54     -95.23    -162.68     -36.79      30.63\n",
       "3      2  -826.00  -827.31  -846.12  -836.03  ...      20.75      20.25    -120.81    -257.56    -215.41\n",
       "4      2   -39.57   -15.88    -9.16    -6.37  ...     -85.34     -81.46     -61.98     -69.34     -17.84\n",
       "\n",
       "[5 rows x 3198 columns]"
      ]
     },
     "metadata": {},
     "output_type": "display_data"
    }
   ],
   "source": [
    "display(train.head(), test.head())"
   ]
  },
  {
   "cell_type": "markdown",
   "metadata": {},
   "source": [
    "# Scrub"
   ]
  },
  {
   "cell_type": "code",
   "execution_count": 33,
   "metadata": {
    "ExecuteTime": {
     "end_time": "2020-03-23T19:32:39.702389Z",
     "start_time": "2020-03-23T19:32:39.666284Z"
    }
   },
   "outputs": [
    {
     "data": {
      "text/plain": [
       "(5087, 3198)"
      ]
     },
     "metadata": {},
     "output_type": "display_data"
    },
    {
     "data": {
      "text/plain": [
       "(570, 3198)"
      ]
     },
     "metadata": {},
     "output_type": "display_data"
    }
   ],
   "source": [
    "display(train.shape,test.shape)"
   ]
  },
  {
   "cell_type": "code",
   "execution_count": 34,
   "metadata": {
    "ExecuteTime": {
     "end_time": "2020-03-23T19:32:39.800791Z",
     "start_time": "2020-03-23T19:32:39.727887Z"
    }
   },
   "outputs": [
    {
     "data": {
      "text/plain": [
       "1    5050\n",
       "2      37\n",
       "Name: LABEL, dtype: int64"
      ]
     },
     "metadata": {},
     "output_type": "display_data"
    },
    {
     "data": {
      "text/plain": [
       "1    565\n",
       "2      5\n",
       "Name: LABEL, dtype: int64"
      ]
     },
     "metadata": {},
     "output_type": "display_data"
    }
   ],
   "source": [
    "# checking for imbalanced classes\n",
    "display(train['LABEL'].value_counts(),test['LABEL'].value_counts())"
   ]
  },
  {
   "cell_type": "code",
   "execution_count": 35,
   "metadata": {
    "ExecuteTime": {
     "end_time": "2020-03-23T19:32:41.279536Z",
     "start_time": "2020-03-23T19:32:39.819022Z"
    }
   },
   "outputs": [
    {
     "data": {
      "text/plain": [
       "0    3198\n",
       "dtype: int64"
      ]
     },
     "execution_count": 35,
     "metadata": {},
     "output_type": "execute_result"
    }
   ],
   "source": [
    "train.isna().sum().value_counts()"
   ]
  },
  {
   "cell_type": "code",
   "execution_count": 36,
   "metadata": {
    "ExecuteTime": {
     "end_time": "2020-03-23T19:32:41.354419Z",
     "start_time": "2020-03-23T19:32:41.291118Z"
    }
   },
   "outputs": [
    {
     "data": {
      "text/plain": [
       "0    3198\n",
       "dtype: int64"
      ]
     },
     "execution_count": 36,
     "metadata": {},
     "output_type": "execute_result"
    }
   ],
   "source": [
    "test.isna().sum().value_counts()"
   ]
  },
  {
   "cell_type": "markdown",
   "metadata": {},
   "source": [
    "# Explore"
   ]
  },
  {
   "cell_type": "markdown",
   "metadata": {},
   "source": [
    "## Compare: Exoplanet vs Non-exoplanet Host Stars"
   ]
  },
  {
   "cell_type": "code",
   "execution_count": 42,
   "metadata": {
    "ExecuteTime": {
     "end_time": "2020-03-23T19:39:52.250211Z",
     "start_time": "2020-03-23T19:39:52.227082Z"
    }
   },
   "outputs": [
    {
     "data": {
      "text/plain": [
       "LABEL      2.00\n",
       "FLUX.1    93.85\n",
       "FLUX.2    83.81\n",
       "FLUX.3    20.10\n",
       "FLUX.4   -26.98\n",
       "Name: 0, dtype: float64"
      ]
     },
     "execution_count": 42,
     "metadata": {},
     "output_type": "execute_result"
    }
   ],
   "source": [
    "# look at the first Star in the dataset (label = 2 means confirmed host of exoplanet)\n",
    "star0 = train.iloc[0, :]\n",
    "star0.head()"
   ]
  },
  {
   "cell_type": "code",
   "execution_count": 38,
   "metadata": {
    "ExecuteTime": {
     "end_time": "2020-03-23T19:32:41.652376Z",
     "start_time": "2020-03-23T19:32:41.496734Z"
    }
   },
   "outputs": [
    {
     "data": {
      "text/plain": [
       "LABEL       1.00\n",
       "FLUX.1    323.28\n",
       "FLUX.2    306.36\n",
       "FLUX.3    293.16\n",
       "FLUX.4    287.67\n",
       "Name: 5086, dtype: float64"
      ]
     },
     "execution_count": 38,
     "metadata": {},
     "output_type": "execute_result"
    }
   ],
   "source": [
    "# look at the last Star in the dataset (label = 1 means NOT a confirmed exoplanet host)\n",
    "star5086 = train.iloc[-1, :]\n",
    "star5086.head()"
   ]
  },
  {
   "cell_type": "code",
   "execution_count": 39,
   "metadata": {
    "ExecuteTime": {
     "end_time": "2020-03-23T19:33:00.954887Z",
     "start_time": "2020-03-23T19:32:41.690690Z"
    },
    "code_folding": [],
    "scrolled": false
   },
   "outputs": [
    {
     "data": {
      "image/png": "[encoded data removed]",
      "text/plain": [
       "<Figure size 1080x360 with 1 Axes>"
      ]
     },
     "metadata": {},
     "output_type": "display_data"
    },
    {
     "data": {
      "image/png": "[encoded data removed]",
      "text/plain": [
       "<Figure size 1080x360 with 1 Axes>"
      ]
     },
     "metadata": {},
     "output_type": "display_data"
    },
    {
     "data": {
      "image/png": "[encoded data removed]",
      "text/plain": [
       "<Figure size 1080x360 with 1 Axes>"
      ]
     },
     "metadata": {},
     "output_type": "display_data"
    },
    {
     "data": {
      "image/png": "[encoded data removed]",
      "text/plain": [
       "<Figure size 1080x360 with 1 Axes>"
      ]
     },
     "metadata": {},
     "output_type": "display_data"
    }
   ],
   "source": [
    "# Scatter Plot For First Star\n",
    "plt.figure(figsize=(15, 5))\n",
    "plt.scatter(pd.Series([i for i in range(1, len(star0))]), star0[1:])\n",
    "plt.ylabel('Flux')\n",
    "plt.xlabel('Time')\n",
    "plt.title('Flux for Star 0 - scatterplot')\n",
    "plt.show()\n",
    "\n",
    "# Line Plot For First Star\n",
    "plt.figure(figsize=(15, 5))\n",
    "plt.plot(pd.Series([i for i in range(1, len(star0))]), star0[1:])\n",
    "plt.ylabel('Flux')\n",
    "plt.xlabel('Time')\n",
    "plt.title('Flux for Star 0 - line plot')\n",
    "plt.show()\n",
    "\n",
    "\n",
    "# Scatter Plot For Last Star\n",
    "plt.figure(figsize=(15, 5))\n",
    "plt.scatter(pd.Series([i for i in range(1, len(star5086))]), star5086[1:])\n",
    "plt.ylabel('Flux')\n",
    "plt.xlabel('Time')\n",
    "plt.title('Flux for Star 5087 - scatterplot')\n",
    "plt.show()\n",
    "\n",
    "# Line Plot For last Star\n",
    "plt.figure(figsize=(15, 5))\n",
    "plt.plot(pd.Series([i for i in range(1, len(star5086))]), star5086[1:])\n",
    "plt.ylabel('Flux')\n",
    "plt.xlabel('Time')\n",
    "plt.title('Flux for Star 5086 - line plot')\n",
    "plt.show()"
   ]
  },
  {
   "cell_type": "markdown",
   "metadata": {},
   "source": [
    "## Closer Look: Exoplanet Host Star"
   ]
  },
  {
   "cell_type": "code",
   "execution_count": 43,
   "metadata": {
    "ExecuteTime": {
     "end_time": "2020-03-23T19:40:23.115883Z",
     "start_time": "2020-03-23T19:40:23.102595Z"
    }
   },
   "outputs": [
    {
     "data": {
      "text/plain": [
       "Index(['LABEL', 'FLUX.1', 'FLUX.2', 'FLUX.3', 'FLUX.4', 'FLUX.5', 'FLUX.6',\n",
       "       'FLUX.7', 'FLUX.8', 'FLUX.9',\n",
       "       ...\n",
       "       'FLUX.3188', 'FLUX.3189', 'FLUX.3190', 'FLUX.3191', 'FLUX.3192',\n",
       "       'FLUX.3193', 'FLUX.3194', 'FLUX.3195', 'FLUX.3196', 'FLUX.3197'],\n",
       "      dtype='object', length=3198)"
      ]
     },
     "execution_count": 43,
     "metadata": {},
     "output_type": "execute_result"
    }
   ],
   "source": [
    "#X_star0 = star0.drop(columns='LABEL', axis=1, inplace=True)\n",
    "flux = star0.copy()\n",
    "flux.index\n"
   ]
  },
  {
   "cell_type": "code",
   "execution_count": 45,
   "metadata": {
    "ExecuteTime": {
     "end_time": "2020-03-23T19:41:23.845375Z",
     "start_time": "2020-03-23T19:41:23.828743Z"
    }
   },
   "outputs": [],
   "source": [
    "\n",
    "# flux = star0.drop(labels=['LABEL','FLUX.3197','FLUX.3196'])\n",
    "# flux"
   ]
  },
  {
   "cell_type": "code",
   "execution_count": 51,
   "metadata": {
    "ExecuteTime": {
     "end_time": "2020-03-23T19:50:04.489616Z",
     "start_time": "2020-03-23T19:50:04.464942Z"
    }
   },
   "outputs": [
    {
     "data": {
      "text/plain": [
       "FLUX.1       93.85\n",
       "FLUX.2       83.81\n",
       "FLUX.3       20.10\n",
       "FLUX.4      -26.98\n",
       "FLUX.5      -39.56\n",
       "             ...  \n",
       "FLUX.3193    92.54\n",
       "FLUX.3194    39.32\n",
       "FLUX.3195    61.42\n",
       "FLUX.3196     5.08\n",
       "FLUX.3197   -39.54\n",
       "Name: 0, Length: 3197, dtype: float64"
      ]
     },
     "execution_count": 51,
     "metadata": {},
     "output_type": "execute_result"
    }
   ],
   "source": [
    "flux = star0.drop(labels=['LABEL'])\n",
    "flux"
   ]
  },
  {
   "cell_type": "code",
   "execution_count": 64,
   "metadata": {
    "ExecuteTime": {
     "end_time": "2020-03-23T20:02:56.973370Z",
     "start_time": "2020-03-23T20:02:56.966617Z"
    }
   },
   "outputs": [],
   "source": [
    "x = np.array(flux)"
   ]
  },
  {
   "cell_type": "code",
   "execution_count": 71,
   "metadata": {
    "ExecuteTime": {
     "end_time": "2020-03-23T20:05:52.094516Z",
     "start_time": "2020-03-23T20:05:52.063016Z"
    }
   },
   "outputs": [],
   "source": []
  },
  {
   "cell_type": "code",
   "execution_count": 73,
   "metadata": {
    "ExecuteTime": {
     "end_time": "2020-03-23T20:07:21.891026Z",
     "start_time": "2020-03-23T20:07:20.352007Z"
    }
   },
   "outputs": [
    {
     "ename": "TypeError",
     "evalue": "unsupported operand type(s) for /: 'int' and 'NoneType'",
     "output_type": "error",
     "traceback": [
      "\u001b[0;31m---------------------------------------------------------------------------\u001b[0m",
      "\u001b[0;31mTypeError\u001b[0m                                 Traceback (most recent call last)",
      "\u001b[0;32m<ipython-input-73-8ceed4bcb252>\u001b[0m in \u001b[0;36m<module>\u001b[0;34m\u001b[0m\n\u001b[1;32m      9\u001b[0m \u001b[0mfig\u001b[0m\u001b[0;34m,\u001b[0m \u001b[0;34m(\u001b[0m\u001b[0max1\u001b[0m\u001b[0;34m,\u001b[0m \u001b[0max2\u001b[0m\u001b[0;34m)\u001b[0m \u001b[0;34m=\u001b[0m \u001b[0mplt\u001b[0m\u001b[0;34m.\u001b[0m\u001b[0msubplots\u001b[0m\u001b[0;34m(\u001b[0m\u001b[0mnrows\u001b[0m\u001b[0;34m=\u001b[0m\u001b[0;36m2\u001b[0m\u001b[0;34m)\u001b[0m\u001b[0;34m\u001b[0m\u001b[0;34m\u001b[0m\u001b[0m\n\u001b[1;32m     10\u001b[0m \u001b[0;31m# ax1.plot(t, x)\u001b[0m\u001b[0;34m\u001b[0m\u001b[0;34m\u001b[0m\u001b[0;34m\u001b[0m\u001b[0m\n\u001b[0;32m---> 11\u001b[0;31m \u001b[0mPxx\u001b[0m\u001b[0;34m,\u001b[0m \u001b[0mfreqs\u001b[0m\u001b[0;34m,\u001b[0m \u001b[0mbins\u001b[0m\u001b[0;34m,\u001b[0m \u001b[0mim\u001b[0m \u001b[0;34m=\u001b[0m \u001b[0mplt\u001b[0m\u001b[0;34m.\u001b[0m\u001b[0mspecgram\u001b[0m\u001b[0;34m(\u001b[0m\u001b[0mx\u001b[0m\u001b[0;34m,\u001b[0m \u001b[0mpad_to\u001b[0m\u001b[0;34m=\u001b[0m\u001b[0;36m3000\u001b[0m\u001b[0;34m,\u001b[0m \u001b[0mNFFT\u001b[0m\u001b[0;34m=\u001b[0m\u001b[0mNFFT\u001b[0m\u001b[0;34m)\u001b[0m\u001b[0;34m\u001b[0m\u001b[0;34m\u001b[0m\u001b[0m\n\u001b[0m",
      "\u001b[0;32m~/opt/anaconda3/envs/learn-env/lib/python3.6/site-packages/matplotlib/pyplot.py\u001b[0m in \u001b[0;36mspecgram\u001b[0;34m(x, NFFT, Fs, Fc, detrend, window, noverlap, cmap, xextent, pad_to, sides, scale_by_freq, mode, scale, vmin, vmax, data, **kwargs)\u001b[0m\n\u001b[1;32m   2875\u001b[0m         \u001b[0msides\u001b[0m\u001b[0;34m=\u001b[0m\u001b[0msides\u001b[0m\u001b[0;34m,\u001b[0m \u001b[0mscale_by_freq\u001b[0m\u001b[0;34m=\u001b[0m\u001b[0mscale_by_freq\u001b[0m\u001b[0;34m,\u001b[0m \u001b[0mmode\u001b[0m\u001b[0;34m=\u001b[0m\u001b[0mmode\u001b[0m\u001b[0;34m,\u001b[0m\u001b[0;34m\u001b[0m\u001b[0;34m\u001b[0m\u001b[0m\n\u001b[1;32m   2876\u001b[0m         scale=scale, vmin=vmin, vmax=vmax, **({\"data\": data} if data\n\u001b[0;32m-> 2877\u001b[0;31m         is not None else {}), **kwargs)\n\u001b[0m\u001b[1;32m   2878\u001b[0m     \u001b[0msci\u001b[0m\u001b[0;34m(\u001b[0m\u001b[0m__ret\u001b[0m\u001b[0;34m[\u001b[0m\u001b[0;34m-\u001b[0m\u001b[0;36m1\u001b[0m\u001b[0;34m]\u001b[0m\u001b[0;34m)\u001b[0m\u001b[0;34m\u001b[0m\u001b[0;34m\u001b[0m\u001b[0m\n\u001b[1;32m   2879\u001b[0m     \u001b[0;32mreturn\u001b[0m \u001b[0m__ret\u001b[0m\u001b[0;34m\u001b[0m\u001b[0;34m\u001b[0m\u001b[0m\n",
      "\u001b[0;32m~/opt/anaconda3/envs/learn-env/lib/python3.6/site-packages/matplotlib/__init__.py\u001b[0m in \u001b[0;36minner\u001b[0;34m(ax, data, *args, **kwargs)\u001b[0m\n\u001b[1;32m   1597\u001b[0m     \u001b[0;32mdef\u001b[0m \u001b[0minner\u001b[0m\u001b[0;34m(\u001b[0m\u001b[0max\u001b[0m\u001b[0;34m,\u001b[0m \u001b[0;34m*\u001b[0m\u001b[0margs\u001b[0m\u001b[0;34m,\u001b[0m \u001b[0mdata\u001b[0m\u001b[0;34m=\u001b[0m\u001b[0;32mNone\u001b[0m\u001b[0;34m,\u001b[0m \u001b[0;34m**\u001b[0m\u001b[0mkwargs\u001b[0m\u001b[0;34m)\u001b[0m\u001b[0;34m:\u001b[0m\u001b[0;34m\u001b[0m\u001b[0;34m\u001b[0m\u001b[0m\n\u001b[1;32m   1598\u001b[0m         \u001b[0;32mif\u001b[0m \u001b[0mdata\u001b[0m \u001b[0;32mis\u001b[0m \u001b[0;32mNone\u001b[0m\u001b[0;34m:\u001b[0m\u001b[0;34m\u001b[0m\u001b[0;34m\u001b[0m\u001b[0m\n\u001b[0;32m-> 1599\u001b[0;31m             \u001b[0;32mreturn\u001b[0m \u001b[0mfunc\u001b[0m\u001b[0;34m(\u001b[0m\u001b[0max\u001b[0m\u001b[0;34m,\u001b[0m \u001b[0;34m*\u001b[0m\u001b[0mmap\u001b[0m\u001b[0;34m(\u001b[0m\u001b[0msanitize_sequence\u001b[0m\u001b[0;34m,\u001b[0m \u001b[0margs\u001b[0m\u001b[0;34m)\u001b[0m\u001b[0;34m,\u001b[0m \u001b[0;34m**\u001b[0m\u001b[0mkwargs\u001b[0m\u001b[0;34m)\u001b[0m\u001b[0;34m\u001b[0m\u001b[0;34m\u001b[0m\u001b[0m\n\u001b[0m\u001b[1;32m   1600\u001b[0m \u001b[0;34m\u001b[0m\u001b[0m\n\u001b[1;32m   1601\u001b[0m         \u001b[0mbound\u001b[0m \u001b[0;34m=\u001b[0m \u001b[0mnew_sig\u001b[0m\u001b[0;34m.\u001b[0m\u001b[0mbind\u001b[0m\u001b[0;34m(\u001b[0m\u001b[0max\u001b[0m\u001b[0;34m,\u001b[0m \u001b[0;34m*\u001b[0m\u001b[0margs\u001b[0m\u001b[0;34m,\u001b[0m \u001b[0;34m**\u001b[0m\u001b[0mkwargs\u001b[0m\u001b[0;34m)\u001b[0m\u001b[0;34m\u001b[0m\u001b[0;34m\u001b[0m\u001b[0m\n",
      "\u001b[0;32m~/opt/anaconda3/envs/learn-env/lib/python3.6/site-packages/matplotlib/axes/_axes.py\u001b[0m in \u001b[0;36mspecgram\u001b[0;34m(self, x, NFFT, Fs, Fc, detrend, window, noverlap, cmap, xextent, pad_to, sides, scale_by_freq, mode, scale, vmin, vmax, **kwargs)\u001b[0m\n\u001b[1;32m   7755\u001b[0m         \u001b[0;32mif\u001b[0m \u001b[0mxextent\u001b[0m \u001b[0;32mis\u001b[0m \u001b[0;32mNone\u001b[0m\u001b[0;34m:\u001b[0m\u001b[0;34m\u001b[0m\u001b[0;34m\u001b[0m\u001b[0m\n\u001b[1;32m   7756\u001b[0m             \u001b[0;31m# padding is needed for first and last segment:\u001b[0m\u001b[0;34m\u001b[0m\u001b[0;34m\u001b[0m\u001b[0;34m\u001b[0m\u001b[0m\n\u001b[0;32m-> 7757\u001b[0;31m             \u001b[0mpad_xextent\u001b[0m \u001b[0;34m=\u001b[0m \u001b[0;34m(\u001b[0m\u001b[0mNFFT\u001b[0m\u001b[0;34m-\u001b[0m\u001b[0mnoverlap\u001b[0m\u001b[0;34m)\u001b[0m \u001b[0;34m/\u001b[0m \u001b[0mFs\u001b[0m \u001b[0;34m/\u001b[0m \u001b[0;36m2\u001b[0m\u001b[0;34m\u001b[0m\u001b[0;34m\u001b[0m\u001b[0m\n\u001b[0m\u001b[1;32m   7758\u001b[0m             \u001b[0mxextent\u001b[0m \u001b[0;34m=\u001b[0m \u001b[0mnp\u001b[0m\u001b[0;34m.\u001b[0m\u001b[0mmin\u001b[0m\u001b[0;34m(\u001b[0m\u001b[0mt\u001b[0m\u001b[0;34m)\u001b[0m \u001b[0;34m-\u001b[0m \u001b[0mpad_xextent\u001b[0m\u001b[0;34m,\u001b[0m \u001b[0mnp\u001b[0m\u001b[0;34m.\u001b[0m\u001b[0mmax\u001b[0m\u001b[0;34m(\u001b[0m\u001b[0mt\u001b[0m\u001b[0;34m)\u001b[0m \u001b[0;34m+\u001b[0m \u001b[0mpad_xextent\u001b[0m\u001b[0;34m\u001b[0m\u001b[0;34m\u001b[0m\u001b[0m\n\u001b[1;32m   7759\u001b[0m         \u001b[0mxmin\u001b[0m\u001b[0;34m,\u001b[0m \u001b[0mxmax\u001b[0m \u001b[0;34m=\u001b[0m \u001b[0mxextent\u001b[0m\u001b[0;34m\u001b[0m\u001b[0;34m\u001b[0m\u001b[0m\n",
      "\u001b[0;31mTypeError\u001b[0m: unsupported operand type(s) for /: 'int' and 'NoneType'"
     ]
    },
    {
     "data": {
      "image/png": "[encoded data removed]",
      "text/plain": [
       "<Figure size 432x288 with 2 Axes>"
      ]
     },
     "metadata": {},
     "output_type": "display_data"
    }
   ],
   "source": [
    "import matplotlib.pyplot as plt\n",
    "import numpy as np\n",
    "NFFT = 500  # the length of the windowing segments\n",
    "Fs = 500  #int(1.0 / dt)  # the sampling frequency\n",
    "pad_to = 3000\n",
    "# dt = 0.0005\n",
    "# t = np.arange( dt)\n",
    "\n",
    "fig, (ax1, ax2) = plt.subplots(nrows=2)\n",
    "# ax1.plot(t, x)\n",
    "Pxx, freqs, bins, im = plt.specgram(x, pad_to=3000, NFFT=NFFT)"
   ]
  },
  {
   "cell_type": "code",
   "execution_count": 67,
   "metadata": {
    "ExecuteTime": {
     "end_time": "2020-03-23T20:03:07.988976Z",
     "start_time": "2020-03-23T20:03:07.866029Z"
    }
   },
   "outputs": [
    {
     "ename": "TypeError",
     "evalue": "unsupported operand type(s) for /: 'int' and 'NoneType'",
     "output_type": "error",
     "traceback": [
      "\u001b[0;31m---------------------------------------------------------------------------\u001b[0m",
      "\u001b[0;31mTypeError\u001b[0m                                 Traceback (most recent call last)",
      "\u001b[0;32m<ipython-input-67-3d462bb71ba4>\u001b[0m in \u001b[0;36m<module>\u001b[0;34m\u001b[0m\n\u001b[0;32m----> 1\u001b[0;31m \u001b[0mPxx\u001b[0m\u001b[0;34m,\u001b[0m \u001b[0mfreqs\u001b[0m\u001b[0;34m,\u001b[0m \u001b[0mbins\u001b[0m\u001b[0;34m,\u001b[0m \u001b[0mim\u001b[0m \u001b[0;34m=\u001b[0m \u001b[0max2\u001b[0m\u001b[0;34m.\u001b[0m\u001b[0mspecgram\u001b[0m\u001b[0;34m(\u001b[0m\u001b[0mx\u001b[0m\u001b[0;34m)\u001b[0m\u001b[0;34m\u001b[0m\u001b[0;34m\u001b[0m\u001b[0m\n\u001b[0m",
      "\u001b[0;32m~/opt/anaconda3/envs/learn-env/lib/python3.6/site-packages/matplotlib/__init__.py\u001b[0m in \u001b[0;36minner\u001b[0;34m(ax, data, *args, **kwargs)\u001b[0m\n\u001b[1;32m   1597\u001b[0m     \u001b[0;32mdef\u001b[0m \u001b[0minner\u001b[0m\u001b[0;34m(\u001b[0m\u001b[0max\u001b[0m\u001b[0;34m,\u001b[0m \u001b[0;34m*\u001b[0m\u001b[0margs\u001b[0m\u001b[0;34m,\u001b[0m \u001b[0mdata\u001b[0m\u001b[0;34m=\u001b[0m\u001b[0;32mNone\u001b[0m\u001b[0;34m,\u001b[0m \u001b[0;34m**\u001b[0m\u001b[0mkwargs\u001b[0m\u001b[0;34m)\u001b[0m\u001b[0;34m:\u001b[0m\u001b[0;34m\u001b[0m\u001b[0;34m\u001b[0m\u001b[0m\n\u001b[1;32m   1598\u001b[0m         \u001b[0;32mif\u001b[0m \u001b[0mdata\u001b[0m \u001b[0;32mis\u001b[0m \u001b[0;32mNone\u001b[0m\u001b[0;34m:\u001b[0m\u001b[0;34m\u001b[0m\u001b[0;34m\u001b[0m\u001b[0m\n\u001b[0;32m-> 1599\u001b[0;31m             \u001b[0;32mreturn\u001b[0m \u001b[0mfunc\u001b[0m\u001b[0;34m(\u001b[0m\u001b[0max\u001b[0m\u001b[0;34m,\u001b[0m \u001b[0;34m*\u001b[0m\u001b[0mmap\u001b[0m\u001b[0;34m(\u001b[0m\u001b[0msanitize_sequence\u001b[0m\u001b[0;34m,\u001b[0m \u001b[0margs\u001b[0m\u001b[0;34m)\u001b[0m\u001b[0;34m,\u001b[0m \u001b[0;34m**\u001b[0m\u001b[0mkwargs\u001b[0m\u001b[0;34m)\u001b[0m\u001b[0;34m\u001b[0m\u001b[0;34m\u001b[0m\u001b[0m\n\u001b[0m\u001b[1;32m   1600\u001b[0m \u001b[0;34m\u001b[0m\u001b[0m\n\u001b[1;32m   1601\u001b[0m         \u001b[0mbound\u001b[0m \u001b[0;34m=\u001b[0m \u001b[0mnew_sig\u001b[0m\u001b[0;34m.\u001b[0m\u001b[0mbind\u001b[0m\u001b[0;34m(\u001b[0m\u001b[0max\u001b[0m\u001b[0;34m,\u001b[0m \u001b[0;34m*\u001b[0m\u001b[0margs\u001b[0m\u001b[0;34m,\u001b[0m \u001b[0;34m**\u001b[0m\u001b[0mkwargs\u001b[0m\u001b[0;34m)\u001b[0m\u001b[0;34m\u001b[0m\u001b[0;34m\u001b[0m\u001b[0m\n",
      "\u001b[0;32m~/opt/anaconda3/envs/learn-env/lib/python3.6/site-packages/matplotlib/axes/_axes.py\u001b[0m in \u001b[0;36mspecgram\u001b[0;34m(self, x, NFFT, Fs, Fc, detrend, window, noverlap, cmap, xextent, pad_to, sides, scale_by_freq, mode, scale, vmin, vmax, **kwargs)\u001b[0m\n\u001b[1;32m   7755\u001b[0m         \u001b[0;32mif\u001b[0m \u001b[0mxextent\u001b[0m \u001b[0;32mis\u001b[0m \u001b[0;32mNone\u001b[0m\u001b[0;34m:\u001b[0m\u001b[0;34m\u001b[0m\u001b[0;34m\u001b[0m\u001b[0m\n\u001b[1;32m   7756\u001b[0m             \u001b[0;31m# padding is needed for first and last segment:\u001b[0m\u001b[0;34m\u001b[0m\u001b[0;34m\u001b[0m\u001b[0;34m\u001b[0m\u001b[0m\n\u001b[0;32m-> 7757\u001b[0;31m             \u001b[0mpad_xextent\u001b[0m \u001b[0;34m=\u001b[0m \u001b[0;34m(\u001b[0m\u001b[0mNFFT\u001b[0m\u001b[0;34m-\u001b[0m\u001b[0mnoverlap\u001b[0m\u001b[0;34m)\u001b[0m \u001b[0;34m/\u001b[0m \u001b[0mFs\u001b[0m \u001b[0;34m/\u001b[0m \u001b[0;36m2\u001b[0m\u001b[0;34m\u001b[0m\u001b[0;34m\u001b[0m\u001b[0m\n\u001b[0m\u001b[1;32m   7758\u001b[0m             \u001b[0mxextent\u001b[0m \u001b[0;34m=\u001b[0m \u001b[0mnp\u001b[0m\u001b[0;34m.\u001b[0m\u001b[0mmin\u001b[0m\u001b[0;34m(\u001b[0m\u001b[0mt\u001b[0m\u001b[0;34m)\u001b[0m \u001b[0;34m-\u001b[0m \u001b[0mpad_xextent\u001b[0m\u001b[0;34m,\u001b[0m \u001b[0mnp\u001b[0m\u001b[0;34m.\u001b[0m\u001b[0mmax\u001b[0m\u001b[0;34m(\u001b[0m\u001b[0mt\u001b[0m\u001b[0;34m)\u001b[0m \u001b[0;34m+\u001b[0m \u001b[0mpad_xextent\u001b[0m\u001b[0;34m\u001b[0m\u001b[0;34m\u001b[0m\u001b[0m\n\u001b[1;32m   7759\u001b[0m         \u001b[0mxmin\u001b[0m\u001b[0;34m,\u001b[0m \u001b[0mxmax\u001b[0m \u001b[0;34m=\u001b[0m \u001b[0mxextent\u001b[0m\u001b[0;34m\u001b[0m\u001b[0;34m\u001b[0m\u001b[0m\n",
      "\u001b[0;31mTypeError\u001b[0m: unsupported operand type(s) for /: 'int' and 'NoneType'"
     ]
    }
   ],
   "source": []
  },
  {
   "cell_type": "code",
   "execution_count": null,
   "metadata": {},
   "outputs": [],
   "source": []
  },
  {
   "cell_type": "code",
   "execution_count": 54,
   "metadata": {
    "ExecuteTime": {
     "end_time": "2020-03-23T19:52:31.983113Z",
     "start_time": "2020-03-23T19:52:31.952868Z"
    }
   },
   "outputs": [],
   "source": [
    "dt = 0.0005\n",
    "t = np.arange(0.0, 20.0, dt)\n",
    "s1 = np.sin(2 * np.pi * 100 * t)\n",
    "s2 = 2 * np.sin(2 * np.pi * 400 * t)"
   ]
  },
  {
   "cell_type": "code",
   "execution_count": null,
   "metadata": {},
   "outputs": [],
   "source": [
    "import matplotlib.pyplot as plt\n",
    "import numpy as np\n",
    "\n",
    "# Fixing random state for reproducibility\n",
    "np.random.seed(19680801)\n",
    "\n",
    "dt = 0.0005\n",
    "t = np.arange(0.0, 20.0, dt)\n",
    "s1 = np.sin(2 * np.pi * 100 * t)\n",
    "s2 = 2 * np.sin(2 * np.pi * 400 * t)\n",
    "\n",
    "# create a transient \"chirp\"\n",
    "s2[t <= 10] = s2[12 <= t] = 0\n",
    "\n",
    "# add some noise into the mix\n",
    "nse = 0.01 * np.random.random(size=len(t))\n",
    "\n",
    "x = s1 + s2 + nse  # the signal\n",
    "NFFT = 1024  # the length of the windowing segments\n",
    "Fs = int(1.0 / dt)  # the sampling frequency\n",
    "\n",
    "fig, (ax1, ax2) = plt.subplots(nrows=2)\n",
    "ax1.plot(t, x)\n",
    "Pxx, freqs, bins, im = ax2.specgram(x, NFFT=NFFT, Fs=Fs, noverlap=900)\n",
    "# The `specgram` method returns 4 objects. They are:\n",
    "# - Pxx: the periodogram\n",
    "# - freqs: the frequency vector\n",
    "# - bins: the centers of the time bins\n",
    "# - im: the matplotlib.image.AxesImage instance representing the data in the plot\n",
    "plt.show()"
   ]
  },
  {
   "cell_type": "code",
   "execution_count": null,
   "metadata": {},
   "outputs": [],
   "source": []
  },
  {
   "cell_type": "code",
   "execution_count": null,
   "metadata": {},
   "outputs": [],
   "source": []
  },
  {
   "cell_type": "code",
   "execution_count": null,
   "metadata": {
    "ExecuteTime": {
     "end_time": "2020-03-23T19:33:01.337065Z",
     "start_time": "2020-03-23T19:30:18.584Z"
    }
   },
   "outputs": [],
   "source": [
    "# Get index of Maximum flux value\n",
    "idx_peak = np.nanargmax(star0)\n",
    "idx_peak"
   ]
  },
  {
   "cell_type": "code",
   "execution_count": null,
   "metadata": {
    "ExecuteTime": {
     "end_time": "2020-03-23T19:33:01.354640Z",
     "start_time": "2020-03-23T19:30:18.596Z"
    }
   },
   "outputs": [],
   "source": [
    "f_peak = star0[idx_peak]\n",
    "f_peak"
   ]
  },
  {
   "cell_type": "code",
   "execution_count": null,
   "metadata": {
    "ExecuteTime": {
     "end_time": "2020-03-23T19:33:01.383917Z",
     "start_time": "2020-03-23T19:30:18.625Z"
    }
   },
   "outputs": [],
   "source": [
    "#X_star0 = star0.drop(columns='LABEL', axis=1, inplace=True)\n",
    "X_star0 = star0.copy()\n",
    "X_star0.index"
   ]
  },
  {
   "cell_type": "code",
   "execution_count": null,
   "metadata": {
    "ExecuteTime": {
     "end_time": "2020-03-23T19:33:01.452642Z",
     "start_time": "2020-03-23T19:30:18.645Z"
    }
   },
   "outputs": [],
   "source": [
    "X_star0.shape"
   ]
  },
  {
   "cell_type": "code",
   "execution_count": null,
   "metadata": {
    "ExecuteTime": {
     "end_time": "2020-03-23T19:33:01.475526Z",
     "start_time": "2020-03-23T19:30:18.662Z"
    }
   },
   "outputs": [],
   "source": [
    "X_star0 = X_star0.drop(labels=['LABEL','FLUX.3197','FLUX.3196'])\n",
    "X_star0"
   ]
  },
  {
   "cell_type": "code",
   "execution_count": null,
   "metadata": {
    "ExecuteTime": {
     "end_time": "2020-03-23T19:33:01.500416Z",
     "start_time": "2020-03-23T19:30:18.677Z"
    }
   },
   "outputs": [],
   "source": [
    "3195/9 # 355"
   ]
  },
  {
   "cell_type": "code",
   "execution_count": null,
   "metadata": {
    "ExecuteTime": {
     "end_time": "2020-03-23T19:33:01.520840Z",
     "start_time": "2020-03-23T19:30:18.692Z"
    }
   },
   "outputs": [],
   "source": [
    "X_star0 = np.array(X_star0)\n",
    "X_star0"
   ]
  },
  {
   "cell_type": "code",
   "execution_count": null,
   "metadata": {
    "ExecuteTime": {
     "end_time": "2020-03-23T19:33:01.578647Z",
     "start_time": "2020-03-23T19:30:18.713Z"
    }
   },
   "outputs": [],
   "source": [
    "\n",
    "import pandas as pd\n",
    "from astropy.table import QTable\n",
    "import astropy.units as u\n",
    "from astropy.time import Time, TimeDelta\n",
    "from astropy.coordinates import SkyCoord"
   ]
  },
  {
   "cell_type": "code",
   "execution_count": null,
   "metadata": {},
   "outputs": [],
   "source": []
  },
  {
   "cell_type": "code",
   "execution_count": null,
   "metadata": {},
   "outputs": [],
   "source": []
  },
  {
   "cell_type": "code",
   "execution_count": null,
   "metadata": {},
   "outputs": [],
   "source": []
  },
  {
   "cell_type": "code",
   "execution_count": null,
   "metadata": {},
   "outputs": [],
   "source": []
  },
  {
   "cell_type": "code",
   "execution_count": null,
   "metadata": {},
   "outputs": [],
   "source": []
  },
  {
   "cell_type": "code",
   "execution_count": null,
   "metadata": {
    "ExecuteTime": {
     "end_time": "2020-03-23T19:33:01.672127Z",
     "start_time": "2020-03-23T19:30:18.762Z"
    },
    "code_folding": [
     6
    ]
   },
   "outputs": [],
   "source": [
    "# Astronomic Unit Conversion and Time Series Manipulation Helper Packages\n",
    "import logging\n",
    "import sys\n",
    "import os\n",
    "import warnings\n",
    "\n",
    "from astropy.visualization import (PercentileInterval, ImageNormalize,\n",
    "                                   SqrtStretch, LinearStretch)\n",
    "from astropy.time import Time\n",
    "\n",
    "from astropy.table import vstack, hstack, Table\n",
    "from astropy import units as u\n",
    "from astropy.timeseries import TimeSeries\n",
    "\n",
    "#bkjd_to_astropy_time(bkjd, bjdref=2454833.)\n",
    "# bkjd = np.atleast_1d(bkjd)\n",
    "# jd = bkjd + bjdref\n",
    "# # Some data products have missing time values;\n",
    "# # we need to set these to zero or `Time` cannot be instantiated.\n",
    "# jd[~np.isfinite(jd)] = 0\n",
    "# if isinstance(bkjd, float):  # If user entered a float, return a float\n",
    "#     jd = jd[0]\n",
    "# return Time(jd, format='jd', scale='tdb')\n",
    "\n",
    "\n",
    "\n",
    "# def bkjd_to_astropy_time(bkjd, bjdref=2454833.):\n",
    "#     \"\"\"Converts Kepler Barycentric Julian Day (BKJD) time values to an\n",
    "#     `astropy.time.Time` object.\n",
    "\n",
    "#     Kepler Barycentric Julian Day (BKJD) is a Julian day minus 2454833.0\n",
    "#     (UTC=January 1, 2009 12:00:00) and corrected to the arrival times\n",
    "#     at the barycenter of the Solar System.\n",
    "#     BKJD is the format in which times are recorded in the Kepler data products.\n",
    "#     The time is in the Barycentric Dynamical Time frame (TDB), which is a\n",
    "#     time system that is not affected by leap seconds.\n",
    "#     See Section 2.3.2 in the Kepler Archive Manual for details.\n",
    "\n",
    "#     Parameters\n",
    "#     ----------\n",
    "#     bkjd : float or array of floats\n",
    "#         Barycentric Kepler Julian Day.\n",
    "#     bjdref : float\n",
    "#         BJD reference date, for Kepler this is 2454833.\n",
    "\n",
    "#     Returns\n",
    "#     -------\n",
    "#     time : `astropy.time.Time` object\n",
    "#         Resulting time object.\n",
    "#     \"\"\""
   ]
  },
  {
   "cell_type": "code",
   "execution_count": null,
   "metadata": {
    "ExecuteTime": {
     "end_time": "2020-03-23T19:33:01.681813Z",
     "start_time": "2020-03-23T19:30:18.780Z"
    }
   },
   "outputs": [],
   "source": [
    "bkjd = np.atleast_1d(bkjd)\n",
    "jd = bkjd + bjdref\n",
    "    \n",
    "Time(jd, format='jd', scale='tdb')\n",
    "    # np.nanargmax(data)\n",
    "    \n",
    "    "
   ]
  },
  {
   "cell_type": "code",
   "execution_count": null,
   "metadata": {
    "ExecuteTime": {
     "end_time": "2020-03-23T19:33:01.690437Z",
     "start_time": "2020-03-23T19:30:18.798Z"
    }
   },
   "outputs": [],
   "source": [
    "!pip install specviz\n",
    "# from specviz import specutils\n",
    "# specutils.analysis.line_flux()"
   ]
  },
  {
   "cell_type": "code",
   "execution_count": null,
   "metadata": {
    "ExecuteTime": {
     "end_time": "2020-03-23T19:33:01.699661Z",
     "start_time": "2020-03-23T19:30:18.814Z"
    }
   },
   "outputs": [],
   "source": [
    "# Univariate Hermite series.\n",
    "from astropy.modeling import polynomial\n",
    "\n",
    "polynomial.Hermitee1D()"
   ]
  },
  {
   "cell_type": "code",
   "execution_count": null,
   "metadata": {
    "ExecuteTime": {
     "end_time": "2020-03-23T19:33:01.707084Z",
     "start_time": "2020-03-23T19:30:18.825Z"
    }
   },
   "outputs": [],
   "source": [
    "# polynomial.Hermite1D(\n",
    "#     degree, \n",
    "#     domain=None, \n",
    "#     window=[-1, 1], \n",
    "#     n_models=None, \n",
    "#     model_set_axis=None, \n",
    "#     name=None, \n",
    "#     meta=None, \n",
    "#     **params)\n",
    "\n",
    "\n",
    "# It is defined as:\n",
    "\n",
    "# 𝑃(𝑥)=∑𝑖=0𝑖=𝑛𝐶𝑖∗𝐻𝑖(𝑥)\n",
    "# where H_i(x) is the corresponding Hermite polynomial (“Physicist’s kind”)."
   ]
  },
  {
   "cell_type": "markdown",
   "metadata": {},
   "source": [
    "# Matching Kaggle Labeled Datasets to MAST API dataset\n",
    "\n",
    "    Pointing\n",
    "    RA: 336.66534641439 degrees\n",
    "    Dec: -11.096663792177 degrees\n",
    "    Roll: -158.494818065985 degrees\n",
    "\n",
    "    Targets With Data Available at MAST\n",
    "    16,833 EPIC IDs in long cadence (LC).\n",
    "    216 EPIC IDs in short cadence (LC).\n",
    "    Several custom targets (see below)\n",
    "\n",
    "    Full Frame Images (FFI)\n",
    "    ktwo2014331202630-c03_ffi-cal.fits\n",
    "    ktwo2015008010551-c03_ffi-cal.fits\n",
    "\n",
    "    First cadence\n",
    "    Time: 2014-11-15 14:06:05.515 UTC\n",
    "    Long Cadence Number: 99599\n",
    "    Short Cadence Number: 2976430\n",
    "\n",
    "    Last cadence\n",
    "    Time: 2015-01-23 18:37:04.488 UTC\n",
    "    Long Cadence Number: 102984\n",
    "    Short Cadence Number: 3078009\n",
    "    Most Recent Processing Version\n",
    "    Data Release 26"
   ]
  },
  {
   "cell_type": "code",
   "execution_count": null,
   "metadata": {
    "ExecuteTime": {
     "end_time": "2020-03-23T19:33:01.719050Z",
     "start_time": "2020-03-23T19:30:19.449Z"
    }
   },
   "outputs": [],
   "source": [
    "#pip install specviz\n",
    "\n",
    "# # Mean\n",
    "# astropy.units.Quantity.mean\n",
    "\n",
    "# # Median:\n",
    "# numpy.median\n",
    "\n",
    "# # Std Dev:\n",
    "# astropy.units.Quantity.std\n",
    "\n",
    "# # Centroid:\n",
    "# specutils.analysis.centroid()\n",
    "\n",
    "# # RMS:\n",
    "# numpy.sqrt(flux.dot(flux) / len(flux))\n",
    "\n",
    "# # SNR:\n",
    "# specutils.analysis.snr()\n",
    "\n",
    "# # FWHM:\n",
    "# specutils.analysis.fwhm()\n",
    "\n",
    "# # Eq Width:\n",
    "# specutils.analysis.equivalent_width()\n",
    "\n",
    "# # Max:\n",
    "# astropy.units.quantity.Quantity.max\n",
    "\n",
    "# # Min:\n",
    "# astropy.units.quantity.Quantity.min\n",
    "\n",
    "# # Count Total:\n",
    "# specutils.analysis.line_flux()"
   ]
  },
  {
   "cell_type": "code",
   "execution_count": null,
   "metadata": {
    "ExecuteTime": {
     "end_time": "2020-03-23T19:33:01.724981Z",
     "start_time": "2020-03-23T19:30:19.495Z"
    }
   },
   "outputs": [],
   "source": [
    "# total number of observations: length of N rows (train and test combined)\n",
    "print(len(train) + len(test)) #5657\n",
    "\n",
    "# flux values per observation\n",
    "print(len(train.columns))"
   ]
  },
  {
   "cell_type": "code",
   "execution_count": null,
   "metadata": {
    "ExecuteTime": {
     "end_time": "2020-03-23T19:33:01.736623Z",
     "start_time": "2020-03-23T19:30:19.518Z"
    }
   },
   "outputs": [],
   "source": [
    "train.shape"
   ]
  },
  {
   "cell_type": "code",
   "execution_count": null,
   "metadata": {
    "ExecuteTime": {
     "end_time": "2020-03-23T19:33:01.740611Z",
     "start_time": "2020-03-23T19:30:19.548Z"
    }
   },
   "outputs": [],
   "source": [
    "test.shape"
   ]
  },
  {
   "cell_type": "code",
   "execution_count": null,
   "metadata": {
    "ExecuteTime": {
     "end_time": "2020-03-23T19:33:01.747448Z",
     "start_time": "2020-03-23T19:30:19.568Z"
    }
   },
   "outputs": [],
   "source": [
    "# since we don't know the units, we'll create a timeseries and assign\n",
    "# units based on original K2 Long Cadence time intervals from Campaign 3 \n",
    "# (Note the Exodata dataset includes all values from Campaign 3)"
   ]
  },
  {
   "cell_type": "code",
   "execution_count": null,
   "metadata": {
    "ExecuteTime": {
     "end_time": "2020-03-23T19:33:01.756517Z",
     "start_time": "2020-03-23T19:30:19.589Z"
    }
   },
   "outputs": [],
   "source": [
    "from astropy.units import cds\n",
    "cds.enable() \n",
    "\n",
    "# spherical_to_cartesian(r, lat, lon)\n",
    "\n",
    "# Converts spherical polar coordinates to rectangular cartesian coordinates.\n",
    "# parallax()\n",
    "\n",
    "# Returns a list of equivalence pairs that handle the conversion between parallax angle and distance.\n",
    "\n",
    "# spectral()\n",
    "# Returns a list of equivalence pairs that handle spectral wavelength, wave number, frequency, and energy equivalences."
   ]
  },
  {
   "cell_type": "code",
   "execution_count": null,
   "metadata": {
    "ExecuteTime": {
     "end_time": "2020-03-23T19:33:01.771057Z",
     "start_time": "2020-03-23T19:30:19.599Z"
    }
   },
   "outputs": [],
   "source": [
    "input_flux_ex1 = 1e-13 * u.Jy\n",
    "input_wave_ex1 = 1 * u.micron\n",
    "abmag_ex1 = input_flux_ex1.to(u.ABmag, u.spectral_density(input_wave_ex1))\n",
    "print('{:.2f}'.format(abmag_ex1))"
   ]
  },
  {
   "cell_type": "code",
   "execution_count": null,
   "metadata": {
    "ExecuteTime": {
     "end_time": "2020-03-23T19:33:01.835831Z",
     "start_time": "2020-03-23T19:30:19.616Z"
    }
   },
   "outputs": [],
   "source": [
    "# start date for Campaign 3 in UTC format\n",
    "tstart = '2014-11-15T15:06:05'\n",
    "tstart = Time(tstart, scale = 'utc')\n",
    "print(tstart)"
   ]
  },
  {
   "cell_type": "code",
   "execution_count": null,
   "metadata": {},
   "outputs": [],
   "source": []
  },
  {
   "cell_type": "code",
   "execution_count": null,
   "metadata": {
    "ExecuteTime": {
     "end_time": "2020-03-23T19:33:01.874510Z",
     "start_time": "2020-03-23T19:30:19.649Z"
    }
   },
   "outputs": [],
   "source": [
    "# # K2 campaign 3 start was Nov 15 2014 at 15:06:05 \n",
    "idx_train = TimeSeries(time_start='2014-11-15T15:06:05', \n",
    "                       time_delta = 30 * u.min, \n",
    "                       n_samples = 5087, data={'flux'})\n",
    "# print(idx_train)"
   ]
  },
  {
   "cell_type": "code",
   "execution_count": null,
   "metadata": {
    "ExecuteTime": {
     "end_time": "2020-03-23T19:33:01.895610Z",
     "start_time": "2020-03-23T19:30:19.662Z"
    }
   },
   "outputs": [],
   "source": [
    "# K2 campaign 3 start was Nov 15 2014 at 15:06:05 \n",
    "idx_test = TimeSeries(time_start='2015-01-18T05:12:05',\n",
    "                      time_delta = 18 * u.min,\n",
    "                      n_samples = 570)\n",
    "print(idx_test)"
   ]
  },
  {
   "cell_type": "code",
   "execution_count": null,
   "metadata": {
    "ExecuteTime": {
     "end_time": "2020-03-23T19:33:01.904182Z",
     "start_time": "2020-03-23T19:30:19.681Z"
    }
   },
   "outputs": [],
   "source": [
    "idx_train.time.mjd"
   ]
  },
  {
   "cell_type": "code",
   "execution_count": null,
   "metadata": {
    "ExecuteTime": {
     "end_time": "2020-03-23T19:33:01.914935Z",
     "start_time": "2020-03-23T19:30:19.700Z"
    }
   },
   "outputs": [],
   "source": [
    "train['time'] = idx_train.time.mjd\n",
    "test['time'] = idx_test.time.mjd"
   ]
  },
  {
   "cell_type": "code",
   "execution_count": null,
   "metadata": {
    "ExecuteTime": {
     "end_time": "2020-03-23T19:33:01.928326Z",
     "start_time": "2020-03-23T19:30:19.727Z"
    }
   },
   "outputs": [],
   "source": [
    "ts_train = train.set_index('time')"
   ]
  },
  {
   "cell_type": "code",
   "execution_count": null,
   "metadata": {
    "ExecuteTime": {
     "end_time": "2020-03-23T19:33:01.936790Z",
     "start_time": "2020-03-23T19:30:19.738Z"
    },
    "scrolled": false
   },
   "outputs": [],
   "source": [
    "ts_test = test.set_index('time')"
   ]
  },
  {
   "cell_type": "code",
   "execution_count": null,
   "metadata": {
    "ExecuteTime": {
     "end_time": "2020-03-23T19:33:01.941955Z",
     "start_time": "2020-03-23T19:30:19.763Z"
    }
   },
   "outputs": [],
   "source": [
    "# stack train and test data - we will do our own train-test split later on\n",
    "k2c3 = ts_train.append(ts_test)"
   ]
  },
  {
   "cell_type": "code",
   "execution_count": null,
   "metadata": {
    "ExecuteTime": {
     "end_time": "2020-03-23T19:33:01.945965Z",
     "start_time": "2020-03-23T19:30:19.848Z"
    }
   },
   "outputs": [],
   "source": [
    "k2c3"
   ]
  },
  {
   "cell_type": "code",
   "execution_count": null,
   "metadata": {
    "ExecuteTime": {
     "end_time": "2020-03-23T19:33:01.954692Z",
     "start_time": "2020-03-23T19:30:19.863Z"
    }
   },
   "outputs": [],
   "source": [
    "# Drop last two columns so we can make equally divided frequency folds\n",
    "k2c3.drop(columns={'FLUX.3196','FLUX.3197'}, axis=1, inplace=True)"
   ]
  },
  {
   "cell_type": "code",
   "execution_count": null,
   "metadata": {
    "ExecuteTime": {
     "end_time": "2020-03-23T19:33:01.961131Z",
     "start_time": "2020-03-23T19:30:19.892Z"
    }
   },
   "outputs": [],
   "source": [
    "k2c3.shape"
   ]
  },
  {
   "cell_type": "code",
   "execution_count": null,
   "metadata": {
    "ExecuteTime": {
     "end_time": "2020-03-23T19:33:01.970820Z",
     "start_time": "2020-03-23T19:30:19.910Z"
    }
   },
   "outputs": [],
   "source": [
    "k2c3_y = k2c3['LABEL'].copy()\n",
    "\n",
    "k2c3_X = k2c3.drop(columns='LABEL', axis=1)"
   ]
  },
  {
   "cell_type": "code",
   "execution_count": null,
   "metadata": {
    "ExecuteTime": {
     "end_time": "2020-03-23T19:33:01.979322Z",
     "start_time": "2020-03-23T19:30:19.927Z"
    }
   },
   "outputs": [],
   "source": [
    "flux = k2c3.iloc[0,1:]\n",
    "flux"
   ]
  },
  {
   "cell_type": "code",
   "execution_count": null,
   "metadata": {
    "ExecuteTime": {
     "end_time": "2020-03-23T19:33:01.983887Z",
     "start_time": "2020-03-23T19:30:19.952Z"
    }
   },
   "outputs": [],
   "source": [
    "flux1 = np.array(flux.iloc[:1065])\n",
    "# flux2 = flux.iloc[1065:-1065]\n",
    "# flux3 = flux.iloc[-1065:]\n",
    "flux1"
   ]
  },
  {
   "cell_type": "code",
   "execution_count": null,
   "metadata": {
    "ExecuteTime": {
     "end_time": "2020-03-23T19:33:01.992566Z",
     "start_time": "2020-03-23T19:30:19.994Z"
    }
   },
   "outputs": [],
   "source": [
    "max1 = flux1.max()\n",
    "min1 = flux1.min()\n",
    "print(max1, min1)"
   ]
  },
  {
   "cell_type": "code",
   "execution_count": null,
   "metadata": {
    "ExecuteTime": {
     "end_time": "2020-03-23T19:33:01.999642Z",
     "start_time": "2020-03-23T19:30:20.032Z"
    }
   },
   "outputs": [],
   "source": [
    "max2 = flux2.max()\n",
    "min2= flux2.min()\n",
    "print(max2,min2)"
   ]
  },
  {
   "cell_type": "code",
   "execution_count": null,
   "metadata": {
    "ExecuteTime": {
     "end_time": "2020-03-23T19:33:02.003979Z",
     "start_time": "2020-03-23T19:30:20.059Z"
    }
   },
   "outputs": [],
   "source": [
    "max3 = flux3.max()\n",
    "min3 = flux3.min()\n",
    "print(max3,min3)"
   ]
  },
  {
   "cell_type": "code",
   "execution_count": null,
   "metadata": {
    "ExecuteTime": {
     "end_time": "2020-03-23T19:33:02.009701Z",
     "start_time": "2020-03-23T19:30:20.072Z"
    }
   },
   "outputs": [],
   "source": [
    "thirds = np.array(flux).reshape(3,1065)\n",
    "thirds"
   ]
  },
  {
   "cell_type": "code",
   "execution_count": null,
   "metadata": {
    "ExecuteTime": {
     "end_time": "2020-03-23T19:33:02.017146Z",
     "start_time": "2020-03-23T19:30:20.100Z"
    }
   },
   "outputs": [],
   "source": [
    "thirds.max(axis=1)"
   ]
  },
  {
   "cell_type": "code",
   "execution_count": null,
   "metadata": {
    "ExecuteTime": {
     "end_time": "2020-03-23T19:33:02.023559Z",
     "start_time": "2020-03-23T19:30:20.125Z"
    }
   },
   "outputs": [],
   "source": [
    "thirds.min(axis=1)"
   ]
  },
  {
   "cell_type": "code",
   "execution_count": null,
   "metadata": {
    "ExecuteTime": {
     "end_time": "2020-03-23T19:33:02.121690Z",
     "start_time": "2020-03-23T19:30:20.149Z"
    }
   },
   "outputs": [],
   "source": [
    "thirds.max(axis=1).mean()"
   ]
  },
  {
   "cell_type": "code",
   "execution_count": null,
   "metadata": {
    "ExecuteTime": {
     "end_time": "2020-03-23T19:33:02.128201Z",
     "start_time": "2020-03-23T19:30:20.164Z"
    }
   },
   "outputs": [],
   "source": [
    "thirds.min(axis=1).mean()"
   ]
  },
  {
   "cell_type": "markdown",
   "metadata": {},
   "source": [
    "# ƒast ƒourier transform\n",
    "\n",
    "The routine ``np.fft.fftfreq(n)`` returns an array giving the frequencies\n",
    "of corresponding elements in the output.  The routine\n",
    "``np.fft.fftshift(A)`` shifts transforms and their frequencies to put the\n",
    "zero-frequency components in the middle, and ``np.fft.ifftshift(A)`` undoes\n",
    "that shift.\n",
    "\n",
    "--------\n",
    "    `signal = np.array([-2, 8, 6, 4, 1, 0, 3, 5], dtype=float)`\n",
    "    `fourier = np.fft.fft(signal)`\n",
    "    `n = signal.size`\n",
    "    `timestep = 0.1`\n",
    "    `freq = np.fft.fftfreq(n, d=timestep)`\n",
    "    `freq`\n",
    "    `array([ 0.  ,  1.25,  2.5 ,  3.75, -5.  , -3.75, -2.5 , -1.25])`"
   ]
  },
  {
   "cell_type": "code",
   "execution_count": null,
   "metadata": {
    "ExecuteTime": {
     "end_time": "2020-03-23T19:33:02.139495Z",
     "start_time": "2020-03-23T19:30:21.049Z"
    }
   },
   "outputs": [],
   "source": [
    "# Return the Discrete Fourier Transform sample frequencies.\n",
    "# The returned float array f contains the frequency bin centers in cycles per unit \n",
    "# of the sample spacing (with zero at the start). For instance, if the sample spacing\n",
    "# is in seconds, then the frequency unit is cycles/second.\n",
    "\n",
    "\n",
    "# Shift the zero-frequency component to the center of the spectrum.\n",
    "\n",
    "# This function swaps half-spaces for all axes listed (defaults to all). \n",
    "# Note that y[0] is the Nyquist component only if len(x) is even.\n",
    "\n",
    "# >>> freqs = np.fft.fftfreq(10, 0.1)\n",
    "# >>> freqs\n",
    "# array([ 0.,  1.,  2., ..., -3., -2., -1.])\n",
    "\n",
    "# >>> np.fft.fftshift(freqs)\n",
    "# array([-5., -4., -3., -2., -1.,  0.,  1.,  2.,  3.,  4.])\n",
    "\n",
    "# Shift the zero-frequency component only along the second axis:\n",
    "# >>>\n",
    "# >>> freqs = np.fft.fftfreq(9, d=1./9).reshape(3, 3)\n",
    "# >>> freqs\n",
    "# array([[ 0.,  1.,  2.],\n",
    "#        [ 3.,  4., -4.],\n",
    "#        [-3., -2., -1.]])\n",
    "\n",
    "# >>> np.fft.fftshift(freqs, axes=(1,))\n",
    "# array([[ 2.,  0.,  1.],\n",
    "#        [-4.,  3.,  4.],\n",
    "#        [-1., -3., -2.]])"
   ]
  },
  {
   "cell_type": "code",
   "execution_count": null,
   "metadata": {
    "ExecuteTime": {
     "end_time": "2020-03-23T19:33:02.144298Z",
     "start_time": "2020-03-23T19:30:21.064Z"
    }
   },
   "outputs": [],
   "source": [
    "signal = np.array(flux)"
   ]
  },
  {
   "cell_type": "code",
   "execution_count": null,
   "metadata": {
    "ExecuteTime": {
     "end_time": "2020-03-23T19:33:02.162905Z",
     "start_time": "2020-03-23T19:30:21.082Z"
    }
   },
   "outputs": [],
   "source": [
    "fourier = np.fft.fft(signal)\n",
    "print(fourier)"
   ]
  },
  {
   "cell_type": "code",
   "execution_count": null,
   "metadata": {
    "ExecuteTime": {
     "end_time": "2020-03-23T19:33:02.173763Z",
     "start_time": "2020-03-23T19:30:21.093Z"
    }
   },
   "outputs": [],
   "source": [
    "plt.plot(fourier);"
   ]
  },
  {
   "cell_type": "code",
   "execution_count": null,
   "metadata": {
    "ExecuteTime": {
     "end_time": "2020-03-23T19:33:02.180178Z",
     "start_time": "2020-03-23T19:30:21.104Z"
    }
   },
   "outputs": [],
   "source": [
    "n = signal.size\n",
    "n"
   ]
  },
  {
   "cell_type": "code",
   "execution_count": null,
   "metadata": {
    "ExecuteTime": {
     "end_time": "2020-03-23T19:33:02.188548Z",
     "start_time": "2020-03-23T19:30:21.116Z"
    }
   },
   "outputs": [],
   "source": [
    "timestep = 0.1"
   ]
  },
  {
   "cell_type": "code",
   "execution_count": null,
   "metadata": {
    "ExecuteTime": {
     "end_time": "2020-03-23T19:33:02.204169Z",
     "start_time": "2020-03-23T19:30:21.132Z"
    }
   },
   "outputs": [],
   "source": [
    "freq = np.fft.fftfreq(n, d=timestep)\n",
    "freq"
   ]
  },
  {
   "cell_type": "code",
   "execution_count": null,
   "metadata": {
    "ExecuteTime": {
     "end_time": "2020-03-23T19:33:02.215192Z",
     "start_time": "2020-03-23T19:30:21.149Z"
    }
   },
   "outputs": [],
   "source": [
    "# Shift the zero-frequency component to the center of the spectrum\n",
    "zshift = np.fft.fftshift(freq)\n",
    "print(zshift)"
   ]
  },
  {
   "cell_type": "code",
   "execution_count": null,
   "metadata": {
    "ExecuteTime": {
     "end_time": "2020-03-23T19:33:02.223668Z",
     "start_time": "2020-03-23T19:30:21.172Z"
    }
   },
   "outputs": [],
   "source": [
    "plt.plot(zshift);"
   ]
  },
  {
   "cell_type": "code",
   "execution_count": null,
   "metadata": {
    "ExecuteTime": {
     "end_time": "2020-03-23T19:33:02.235495Z",
     "start_time": "2020-03-23T19:30:21.194Z"
    }
   },
   "outputs": [],
   "source": [
    "# Shift the zero-frequency component only along the second axis:\n",
    "# sig = np.array(thirds)\n",
    "# n3 = thirds.size #3195\n",
    "zerofreq = np.fft.fftshift(thirds,axes=(1,))\n",
    "print(zerofreq)"
   ]
  },
  {
   "cell_type": "code",
   "execution_count": null,
   "metadata": {
    "ExecuteTime": {
     "end_time": "2020-03-23T19:33:02.239683Z",
     "start_time": "2020-03-23T19:30:21.224Z"
    }
   },
   "outputs": [],
   "source": [
    "plt.plot(freq);"
   ]
  },
  {
   "cell_type": "code",
   "execution_count": null,
   "metadata": {
    "ExecuteTime": {
     "end_time": "2020-03-23T19:33:02.244252Z",
     "start_time": "2020-03-23T19:30:21.249Z"
    }
   },
   "outputs": [],
   "source": [
    "plt.plot(zerofreq);"
   ]
  },
  {
   "cell_type": "code",
   "execution_count": null,
   "metadata": {
    "ExecuteTime": {
     "end_time": "2020-03-23T19:33:02.251816Z",
     "start_time": "2020-03-23T19:30:21.277Z"
    }
   },
   "outputs": [],
   "source": [
    "1065/5"
   ]
  },
  {
   "cell_type": "code",
   "execution_count": null,
   "metadata": {
    "ExecuteTime": {
     "end_time": "2020-03-23T19:33:02.256243Z",
     "start_time": "2020-03-23T19:30:21.357Z"
    }
   },
   "outputs": [],
   "source": [
    "flux[:71]"
   ]
  },
  {
   "cell_type": "code",
   "execution_count": null,
   "metadata": {
    "ExecuteTime": {
     "end_time": "2020-03-23T19:33:02.261204Z",
     "start_time": "2020-03-23T19:30:21.416Z"
    }
   },
   "outputs": [],
   "source": [
    "signal = np.array(flux1)\n",
    "n = signal.size\n",
    "n"
   ]
  },
  {
   "cell_type": "code",
   "execution_count": null,
   "metadata": {
    "ExecuteTime": {
     "end_time": "2020-03-23T19:33:02.271674Z",
     "start_time": "2020-03-23T19:30:21.439Z"
    }
   },
   "outputs": [],
   "source": [
    "1065/3"
   ]
  },
  {
   "cell_type": "code",
   "execution_count": null,
   "metadata": {
    "ExecuteTime": {
     "end_time": "2020-03-23T19:33:02.284473Z",
     "start_time": "2020-03-23T19:30:21.468Z"
    }
   },
   "outputs": [],
   "source": [
    "matrix = np.array(flux1).reshape(3,355)\n",
    "matrix"
   ]
  },
  {
   "cell_type": "code",
   "execution_count": null,
   "metadata": {
    "ExecuteTime": {
     "end_time": "2020-03-23T19:33:02.322756Z",
     "start_time": "2020-03-23T19:30:21.524Z"
    }
   },
   "outputs": [],
   "source": [
    "# # K2 campaign 3 start was Nov 15 2014 at 15:06:05 \n",
    "ts = TimeSeries(time_start='2015-01-18T05:12:05',\n",
    "                    time_delta = .01 * u.s,\n",
    "                    data={'flux': k2c3_0 * u.Jy})\n",
    "\n",
    "\n",
    "print(ts)"
   ]
  },
  {
   "cell_type": "code",
   "execution_count": null,
   "metadata": {
    "ExecuteTime": {
     "end_time": "2020-03-23T19:33:02.339444Z",
     "start_time": "2020-03-23T19:30:21.557Z"
    }
   },
   "outputs": [],
   "source": [
    "ts.time.scale"
   ]
  },
  {
   "cell_type": "code",
   "execution_count": null,
   "metadata": {
    "ExecuteTime": {
     "end_time": "2020-03-23T19:33:02.347918Z",
     "start_time": "2020-03-23T19:30:21.627Z"
    }
   },
   "outputs": [],
   "source": [
    "flux = ts['flux'].quantity\n",
    "flux"
   ]
  },
  {
   "cell_type": "code",
   "execution_count": null,
   "metadata": {
    "ExecuteTime": {
     "end_time": "2020-03-23T19:33:02.354711Z",
     "start_time": "2020-03-23T19:30:21.656Z"
    }
   },
   "outputs": [],
   "source": [
    "flux_arr = np.array(flux)\n",
    "flux_arr"
   ]
  },
  {
   "cell_type": "code",
   "execution_count": null,
   "metadata": {
    "ExecuteTime": {
     "end_time": "2020-03-23T19:33:02.360490Z",
     "start_time": "2020-03-23T19:30:21.691Z"
    }
   },
   "outputs": [],
   "source": [
    "# Max:\n",
    "ind = np.unravel_index(np.argmax(flux_arr), flux_arr.shape, order='F')\n",
    "ind"
   ]
  },
  {
   "cell_type": "code",
   "execution_count": null,
   "metadata": {
    "ExecuteTime": {
     "end_time": "2020-03-23T19:33:02.371191Z",
     "start_time": "2020-03-23T19:30:21.715Z"
    }
   },
   "outputs": [],
   "source": [
    "flux_arr[ind]"
   ]
  },
  {
   "cell_type": "code",
   "execution_count": null,
   "metadata": {
    "ExecuteTime": {
     "end_time": "2020-03-23T19:33:02.375622Z",
     "start_time": "2020-03-23T19:30:21.759Z"
    }
   },
   "outputs": [],
   "source": [
    "# Folding\n",
    "# The TimeSeries class has a fold() method that can be used to return a new time\n",
    "# series with a relative and folded time axis. This method takes the period as a \n",
    "# Quantity, and optionally takes an epoch as a Time, which defines a zero time \n",
    "# offset:\n",
    "\n",
    "ts_0_folded = ts_0.fold(period=(2*np.pi)\n",
    "ts_0_folded"
   ]
  },
  {
   "cell_type": "code",
   "execution_count": null,
   "metadata": {
    "ExecuteTime": {
     "end_time": "2020-03-23T19:33:02.381127Z",
     "start_time": "2020-03-23T19:30:21.785Z"
    }
   },
   "outputs": [],
   "source": [
    "# plt.plot(ts_0_folded.time, ts_0_folded['flux'], 'k.', markersize=1)\n",
    "# plt.xlabel('Time from midpoint epoch (days)')\n",
    "# plt.ylabel('SAP Flux (e-/s)')\n",
    "\n",
    "from astropy.timeseries import aggregate_downsample\n",
    "ts_0_binned = aggregate_downsample(ts_0, time_bin_size= 10.65 * u.s, aggregate_func=np.nanmedian)\n",
    "\n",
    "# plt.plot(ts_0.time.utc, ts_0['flux'], 'k.', markersize=1)\n",
    "# plt.plot(ts_0_binned.time_bin_start.utc, ts_0_binned['flux'], 'r-', drawstyle='steps-pre')\n",
    "# plt.xlabel('Mod Julian Date')\n",
    "# plt.ylabel('SAP Flux (e-/s)')"
   ]
  },
  {
   "cell_type": "code",
   "execution_count": null,
   "metadata": {
    "ExecuteTime": {
     "end_time": "2020-03-23T19:33:02.390789Z",
     "start_time": "2020-03-23T19:30:21.813Z"
    }
   },
   "outputs": [],
   "source": [
    "# X_train, X_test, y_train, y_test = train_test_split()"
   ]
  },
  {
   "cell_type": "code",
   "execution_count": null,
   "metadata": {
    "ExecuteTime": {
     "end_time": "2020-03-23T19:33:02.408261Z",
     "start_time": "2020-03-23T19:30:21.833Z"
    }
   },
   "outputs": [],
   "source": [
    "# # \n",
    "\n",
    "\n",
    "# Min:\n",
    "astropy.units.quantity.Quantity.min\n",
    "\n",
    "# 3195/3\n",
    "# freq1 = np.array(train.iloc[:4])\n",
    "# freq1.shape\n",
    "# data = np.array(train)\n",
    "# data = pd.DataFrame(data)\n",
    "# print(data)\n",
    "\n",
    "# row372 = keplerTest.iloc[372,1:]\n",
    "# row372 = np.array(row372)\n",
    "# plt.plot(row372)\n",
    "\n",
    "a = np.mgrid[:3, :3, :3][0]\n",
    "a\n",
    "delta_p = delta_t.value * u.day / period"
   ]
  },
  {
   "cell_type": "code",
   "execution_count": null,
   "metadata": {
    "ExecuteTime": {
     "end_time": "2020-03-23T19:33:02.423168Z",
     "start_time": "2020-03-23T19:30:21.865Z"
    }
   },
   "outputs": [],
   "source": [
    "### from KeplerAI docs on github \n",
    "\n",
    "\n",
    "\n",
    "# dataN = NormaliseRows(data, 0, 1)\n",
    "# dataN = pd.Series(dataN)\n",
    "# dataN = dataN.values.reshape(4,7)\n",
    "# dataN = pd.DataFrame(dataN)\n",
    "# dataN = dataN.iloc[:,1:]\n",
    "# print(dataN)\n",
    "\n",
    "# plt.plot(dataN.iloc[0,])\n",
    "# plt.plot(dataN.iloc[1,])\n",
    "# plt.plot(dataN.iloc[2,])\n",
    "# plt.plot(dataN.iloc[3,])\n",
    "\n",
    "# row124 = keplerTest.iloc[124,1:]\n",
    "# row124N = np.array(row124)\n",
    "# plt.plot(row124N)\n",
    "\n",
    "\n",
    "# row372 = keplerTest.iloc[372,1:]\n",
    "# row372 = np.array(row372)\n",
    "# plt.plot(row372)\n",
    "\n",
    "\n",
    "\n",
    "def NormaliseRows(dataFrame, newMinimum, newMaximum):\n",
    "    \n",
    "    dataFrameN = []\n",
    "    \n",
    "    for row in dataFrame.itertuples():\n",
    "        \n",
    "        rowMin = min(row)\n",
    "        rowMax = max(row)\n",
    "        \n",
    "        for cell in row:\n",
    "            cellN = (((cell - rowMin) / (rowMax - rowMin)) * (newMaximum - newMinimum)) + newMinimum\n",
    "            dataFrameN.append(cellN)\n",
    "    \n",
    "    return dataFrameN\n",
    "\n",
    "# k2_0 = NormaliseRows()"
   ]
  },
  {
   "cell_type": "code",
   "execution_count": null,
   "metadata": {},
   "outputs": [],
   "source": []
  },
  {
   "cell_type": "code",
   "execution_count": null,
   "metadata": {
    "ExecuteTime": {
     "end_time": "2020-03-23T19:33:02.456574Z",
     "start_time": "2020-03-23T19:30:21.927Z"
    }
   },
   "outputs": [],
   "source": [
    "\n",
    "# Given a window length n and a sample spacing d:\n",
    "# f = [0, 1, ...,   n/2-1,     -n/2, ..., -1] / (d*n)   if n is even\n",
    "# f = [0, 1, ..., (n-1)/2, -(n-1)/2, ..., -1] / (d*n)   if n is odd\n",
    "\n",
    "# >>> signal = np.array([-2, 8, 6, 4, 1, 0, 3, 5], dtype=float)\n",
    "# >>> fourier = np.fft.fft(signal)\n",
    "# >>> n = signal.size\n",
    "# >>> timestep = 0.1\n",
    "# >>> freq = np.fft.fftfreq(n, d=timestep)\n",
    "# >>> freq\n",
    "# array([ 0.  ,  1.25,  2.5 , ..., -3.75, -2.5 , -1.25])\n",
    "\n",
    "\n",
    "signal = np.array(star0, dtype=float)\n",
    "ƒ = np.fft.fft(signal)\n",
    "\n",
    "n = signal.size\n",
    "timestep=.1\n",
    "freq = np.fft.fftfreq(n, d=timestep)\n",
    "freq"
   ]
  },
  {
   "cell_type": "code",
   "execution_count": null,
   "metadata": {
    "ExecuteTime": {
     "end_time": "2020-03-23T19:33:02.472735Z",
     "start_time": "2020-03-23T19:30:21.949Z"
    }
   },
   "outputs": [],
   "source": [
    "plt.plot(freq);"
   ]
  },
  {
   "cell_type": "code",
   "execution_count": null,
   "metadata": {
    "ExecuteTime": {
     "end_time": "2020-03-23T19:33:02.476918Z",
     "start_time": "2020-03-23T19:30:21.965Z"
    }
   },
   "outputs": [],
   "source": [
    "ƒ"
   ]
  },
  {
   "cell_type": "code",
   "execution_count": null,
   "metadata": {
    "ExecuteTime": {
     "end_time": "2020-03-23T19:33:02.481668Z",
     "start_time": "2020-03-23T19:30:21.997Z"
    }
   },
   "outputs": [],
   "source": [
    "plt.plot(ƒ);"
   ]
  },
  {
   "cell_type": "code",
   "execution_count": null,
   "metadata": {
    "ExecuteTime": {
     "end_time": "2020-03-23T19:33:02.487584Z",
     "start_time": "2020-03-23T19:30:22.028Z"
    }
   },
   "outputs": [],
   "source": [
    "signal"
   ]
  },
  {
   "cell_type": "code",
   "execution_count": null,
   "metadata": {
    "ExecuteTime": {
     "end_time": "2020-03-23T19:33:02.494147Z",
     "start_time": "2020-03-23T19:30:22.051Z"
    }
   },
   "outputs": [],
   "source": [
    "j = np.conj(ƒ.T) - signal\n",
    "j"
   ]
  },
  {
   "cell_type": "code",
   "execution_count": null,
   "metadata": {
    "ExecuteTime": {
     "end_time": "2020-03-23T19:33:02.501488Z",
     "start_time": "2020-03-23T19:30:22.089Z"
    }
   },
   "outputs": [],
   "source": [
    "plt.plot(j);"
   ]
  },
  {
   "cell_type": "code",
   "execution_count": null,
   "metadata": {
    "ExecuteTime": {
     "end_time": "2020-03-23T19:33:02.508103Z",
     "start_time": "2020-03-23T19:30:22.114Z"
    }
   },
   "outputs": [],
   "source": [
    "freq_spectrum = np.fft.hfft(ƒ)"
   ]
  },
  {
   "cell_type": "code",
   "execution_count": null,
   "metadata": {
    "ExecuteTime": {
     "end_time": "2020-03-23T19:33:02.513927Z",
     "start_time": "2020-03-23T19:30:22.145Z"
    }
   },
   "outputs": [],
   "source": [
    "freq_spectrum"
   ]
  },
  {
   "cell_type": "code",
   "execution_count": null,
   "metadata": {
    "ExecuteTime": {
     "end_time": "2020-03-23T19:33:02.518844Z",
     "start_time": "2020-03-23T19:30:22.176Z"
    }
   },
   "outputs": [],
   "source": [
    "plt.plot(freq_spectrum);"
   ]
  },
  {
   "cell_type": "code",
   "execution_count": null,
   "metadata": {
    "ExecuteTime": {
     "end_time": "2020-03-23T19:33:02.527658Z",
     "start_time": "2020-03-23T19:30:22.194Z"
    }
   },
   "outputs": [],
   "source": [
    "arr = np.array(star0)\n",
    "arr"
   ]
  },
  {
   "cell_type": "code",
   "execution_count": null,
   "metadata": {
    "ExecuteTime": {
     "end_time": "2020-03-23T19:33:02.538253Z",
     "start_time": "2020-03-23T19:30:22.215Z"
    }
   },
   "outputs": [],
   "source": [
    "freqs = np.arange(arr.size/2+1, dtype=float)\n",
    "freqs"
   ]
  },
  {
   "cell_type": "code",
   "execution_count": null,
   "metadata": {
    "ExecuteTime": {
     "end_time": "2020-03-23T19:33:02.542123Z",
     "start_time": "2020-03-23T19:30:22.232Z"
    }
   },
   "outputs": [],
   "source": [
    "plt.plot(freqs);"
   ]
  },
  {
   "cell_type": "code",
   "execution_count": null,
   "metadata": {
    "ExecuteTime": {
     "end_time": "2020-03-23T19:33:02.547211Z",
     "start_time": "2020-03-23T19:30:22.256Z"
    }
   },
   "outputs": [],
   "source": [
    "# Scatter Plot For First Star\n",
    "plt.figure(figsize=(15, 5))\n",
    "#plt.scatter(pd.Series([i for i in range(1, len(star0))]), star0[1:])\n",
    "plt.plot(pd.Series([i for i in range(1, len(freqs))]), freqs[1:], color='r',alpha=.5)\n",
    "plt.plot(pd.Series([ƒ for ƒ in ƒ]))\n",
    "plt.ylabel('Flux')\n",
    "plt.xlabel('Time')\n",
    "plt.title('Flux for Star 0 - scatterplot')\n",
    "plt.show()"
   ]
  },
  {
   "cell_type": "code",
   "execution_count": null,
   "metadata": {},
   "outputs": [],
   "source": []
  },
  {
   "cell_type": "code",
   "execution_count": null,
   "metadata": {
    "ExecuteTime": {
     "end_time": "2020-03-23T19:33:02.553215Z",
     "start_time": "2020-03-23T19:30:22.295Z"
    }
   },
   "outputs": [],
   "source": [
    "\n",
    "\n",
    "from astropy.utils.data import download_file\n",
    "from astropy.io import fits  # We use fits to open the actual data file\n",
    "from astropy.utils import data\n",
    "data.conf.remote_timeout = 60\n",
    "from spectral_cube import SpectralCube\n",
    "from astroquery.esasky import ESASky\n",
    "from astroquery.utils import TableList\n",
    "from astropy.wcs import WCS\n",
    "# from reproject import reproject_interp\n"
   ]
  },
  {
   "cell_type": "code",
   "execution_count": null,
   "metadata": {
    "ExecuteTime": {
     "end_time": "2020-03-23T19:33:02.556982Z",
     "start_time": "2020-03-23T19:30:22.331Z"
    }
   },
   "outputs": [],
   "source": [
    "# https://exoplanetarchive.ipac.caltech.edu/cgi-bin/TblSearch/nph-tblSearchInit?app=ExoTbls&config=k2targets\n",
    "\n",
    "from astroquery.mast import Observations\n",
    "print(Observations.list_missions())\n",
    "\n",
    "\n",
    "# ['BEFS', 'EUVE', 'FUSE', 'GALEX', 'HLA', 'HLSP', 'HST', 'HUT', 'IUE', 'JWST', \n",
    "# 'K2', 'K2FFI', 'Kepler', 'KeplerFFI', 'PS1', 'SPITZER_SHA', 'SWIFT', 'TESS', \n",
    "# 'TUES', 'WUPPE']\n",
    "\n",
    "\n",
    "meta_table = Observations.get_metadata(\"observations\")\n",
    "print(meta_table[:5])\n",
    "\n",
    "\n",
    "Observations.query_region()"
   ]
  },
  {
   "cell_type": "code",
   "execution_count": null,
   "metadata": {
    "ExecuteTime": {
     "end_time": "2020-03-23T19:33:02.563763Z",
     "start_time": "2020-03-23T19:30:22.356Z"
    }
   },
   "outputs": [],
   "source": [
    "# Converting times\n",
    "# `astropy.time <http://docs.astropy.org/en/stable/time/index.html>`__ provides methods to convert times and dates between different systems and formats. Since the ESO FITS headers already contain the time of the observation in different systems, we could just read the keyword in the time system we like, but we will use astropy.time to make this conversion here. astropy.time.Time will parse many common input formats (strings, floats), but unless the format is unambiguous the format needs to be specified (e.g. a number could mean JD or MJD or year). Also, the time system needs to be given (e.g. UTC). Below are several examples, initialized from different header keywords.\n",
    "\n",
    "from astropy.time import Time\n",
    "t1 = Time(ƒ, format='jd',scale='tt')\n",
    "t1"
   ]
  },
  {
   "cell_type": "code",
   "execution_count": null,
   "metadata": {
    "ExecuteTime": {
     "end_time": "2020-03-23T19:33:02.570883Z",
     "start_time": "2020-03-23T19:30:22.392Z"
    }
   },
   "outputs": [],
   "source": [
    "\n",
    "obs_times = Time(t1, scale = 'tt')"
   ]
  },
  {
   "cell_type": "code",
   "execution_count": null,
   "metadata": {
    "ExecuteTime": {
     "end_time": "2020-03-23T19:33:02.587444Z",
     "start_time": "2020-03-23T19:30:22.430Z"
    }
   },
   "outputs": [],
   "source": [
    "obs_times"
   ]
  },
  {
   "cell_type": "code",
   "execution_count": null,
   "metadata": {
    "ExecuteTime": {
     "end_time": "2020-03-23T19:33:02.594929Z",
     "start_time": "2020-03-23T19:30:22.451Z"
    }
   },
   "outputs": [],
   "source": [
    "\n",
    "delta_t = obs_times - Time(t1[0], scale = 'utc')\n"
   ]
  },
  {
   "cell_type": "code",
   "execution_count": null,
   "metadata": {
    "ExecuteTime": {
     "end_time": "2020-03-23T19:33:02.605834Z",
     "start_time": "2020-03-23T19:30:22.474Z"
    }
   },
   "outputs": [],
   "source": [
    "delta_t"
   ]
  },
  {
   "cell_type": "code",
   "execution_count": null,
   "metadata": {
    "ExecuteTime": {
     "end_time": "2020-03-23T19:33:02.612035Z",
     "start_time": "2020-03-23T19:30:22.496Z"
    }
   },
   "outputs": [],
   "source": [
    "pi = np.pi"
   ]
  },
  {
   "cell_type": "code",
   "execution_count": null,
   "metadata": {
    "ExecuteTime": {
     "end_time": "2020-03-23T19:33:02.618970Z",
     "start_time": "2020-03-23T19:30:22.529Z"
    }
   },
   "outputs": [],
   "source": [
    "period = 2*pi"
   ]
  },
  {
   "cell_type": "code",
   "execution_count": null,
   "metadata": {
    "ExecuteTime": {
     "end_time": "2020-03-23T19:33:02.624168Z",
     "start_time": "2020-03-23T19:30:22.550Z"
    }
   },
   "outputs": [],
   "source": [
    "T = 1/period\n",
    "T"
   ]
  },
  {
   "cell_type": "code",
   "execution_count": null,
   "metadata": {
    "ExecuteTime": {
     "end_time": "2020-03-23T19:33:02.634772Z",
     "start_time": "2020-03-23T19:30:22.575Z"
    }
   },
   "outputs": [],
   "source": [
    "delta_p[2]"
   ]
  },
  {
   "cell_type": "code",
   "execution_count": null,
   "metadata": {
    "ExecuteTime": {
     "end_time": "2020-03-23T19:33:02.640481Z",
     "start_time": "2020-03-23T19:30:22.609Z"
    }
   },
   "outputs": [],
   "source": [
    "delta_p[2]*u.AA\n",
    "\n",
    "\n",
    "    \n",
    "    "
   ]
  },
  {
   "cell_type": "markdown",
   "metadata": {},
   "source": [
    " Time Series (at varying $\\phi$)📓"
   ]
  },
  {
   "cell_type": "code",
   "execution_count": null,
   "metadata": {
    "ExecuteTime": {
     "end_time": "2020-03-23T19:33:02.646914Z",
     "start_time": "2020-03-23T19:30:24.887Z"
    }
   },
   "outputs": [],
   "source": [
    "np.fft.fftn(a, axes=(1, 2))"
   ]
  },
  {
   "cell_type": "code",
   "execution_count": null,
   "metadata": {
    "ExecuteTime": {
     "end_time": "2020-03-23T19:33:02.653136Z",
     "start_time": "2020-03-23T19:30:24.913Z"
    }
   },
   "outputs": [],
   "source": [
    " np.fft.fftn(a, (2, 2), axes=(0, 1))"
   ]
  },
  {
   "cell_type": "code",
   "execution_count": null,
   "metadata": {
    "ExecuteTime": {
     "end_time": "2020-03-23T19:33:02.689213Z",
     "start_time": "2020-03-23T19:30:24.935Z"
    }
   },
   "outputs": [],
   "source": [
    "[X, Y] = np.meshgrid(2 * np.pi * np.arange(200) / 12,\n",
    "                     2 * np.pi * np.arange(200) / 34)\n",
    "[X,Y]"
   ]
  },
  {
   "cell_type": "code",
   "execution_count": null,
   "metadata": {
    "ExecuteTime": {
     "end_time": "2020-03-23T19:33:02.701950Z",
     "start_time": "2020-03-23T19:30:24.962Z"
    }
   },
   "outputs": [],
   "source": [
    "plt.plot(X, Y);"
   ]
  },
  {
   "cell_type": "code",
   "execution_count": null,
   "metadata": {
    "ExecuteTime": {
     "end_time": "2020-03-23T19:33:02.707732Z",
     "start_time": "2020-03-23T19:30:24.991Z"
    }
   },
   "outputs": [],
   "source": [
    "S = np.sin(X) + np.cos(Y) + np.random.uniform(0, 1, X.shape)\n",
    "S"
   ]
  },
  {
   "cell_type": "code",
   "execution_count": null,
   "metadata": {
    "ExecuteTime": {
     "end_time": "2020-03-23T19:33:02.713539Z",
     "start_time": "2020-03-23T19:30:25.015Z"
    }
   },
   "outputs": [],
   "source": [
    "plt.plot(S);"
   ]
  },
  {
   "cell_type": "code",
   "execution_count": null,
   "metadata": {
    "ExecuteTime": {
     "end_time": "2020-03-23T19:33:02.719942Z",
     "start_time": "2020-03-23T19:30:25.032Z"
    }
   },
   "outputs": [],
   "source": [
    "FS = np.fft.fftn(S)\n",
    "FS"
   ]
  },
  {
   "cell_type": "code",
   "execution_count": null,
   "metadata": {
    "ExecuteTime": {
     "end_time": "2020-03-23T19:33:02.727727Z",
     "start_time": "2020-03-23T19:30:25.060Z"
    }
   },
   "outputs": [],
   "source": [
    "plt.figure(figsize=(15, 5))\n",
    "plt.plot(FS);"
   ]
  },
  {
   "cell_type": "code",
   "execution_count": null,
   "metadata": {
    "ExecuteTime": {
     "end_time": "2020-03-23T19:33:02.739261Z",
     "start_time": "2020-03-23T19:30:25.098Z"
    }
   },
   "outputs": [],
   "source": [
    "plt.imshow(np.log(np.abs(np.fft.fftshift(FS))**2))\n",
    "\n",
    "plt.show()"
   ]
  },
  {
   "cell_type": "code",
   "execution_count": null,
   "metadata": {
    "ExecuteTime": {
     "end_time": "2020-03-23T19:33:02.743791Z",
     "start_time": "2020-03-23T19:30:25.144Z"
    }
   },
   "outputs": [],
   "source": [
    "plt.plot(np.log(np.abs(np.fft.fftshift(FS))**2));"
   ]
  },
  {
   "cell_type": "code",
   "execution_count": null,
   "metadata": {
    "ExecuteTime": {
     "end_time": "2020-03-23T19:33:02.753009Z",
     "start_time": "2020-03-23T19:30:25.157Z"
    }
   },
   "outputs": [],
   "source": [
    "k2c3_exodata = pd.read_csv('https://raw.githubusercontent.com/danxhuber/galclassify/master/galclassifyk2/output/k2c3_stparas.txt', delimiter='|')"
   ]
  },
  {
   "cell_type": "code",
   "execution_count": null,
   "metadata": {
    "ExecuteTime": {
     "end_time": "2020-03-23T19:33:02.756316Z",
     "start_time": "2020-03-23T19:30:25.178Z"
    }
   },
   "outputs": [],
   "source": [
    "k2c3_exodata.head()"
   ]
  },
  {
   "cell_type": "markdown",
   "metadata": {},
   "source": [
    "# Model"
   ]
  },
  {
   "cell_type": "code",
   "execution_count": null,
   "metadata": {
    "ExecuteTime": {
     "end_time": "2020-03-23T19:33:02.764012Z",
     "start_time": "2020-03-23T19:30:27.178Z"
    }
   },
   "outputs": [],
   "source": [
    "# logistic regression\n",
    "pipe_lr = Pipeline([('scl', StandardScaler()),\n",
    "                   ('pca', PCA(n_components=2)),\n",
    "                   ('clf', LogisticRegression(class_weight='balanced'))])\n",
    "\n",
    "# support vector\n",
    "pipe_svm = Pipeline([('scl', StandardScaler()),\n",
    "                    ('pca', PCA(n_components=2)),\n",
    "                    ('clf', svm.SVC(class_weight='balanced'))])\n",
    "\n",
    "\n",
    "# decision tree\n",
    "pipe_dt = Pipeline([('scl', StandardScaler()),\n",
    "                   ('pca', PCA(n_components=2)),\n",
    "                    ('clf', tree.DecisionTreeClassifier(class_weight='balanced'))])\n",
    "\n",
    "# xgboost\n",
    "pipe_xgb = Pipeline([('xgb', StandardScaler()),\n",
    "                    ('pca', PCA(n_components=2)),\n",
    "                     ('clf', XGBClassifier(class_weight='balanced'))])"
   ]
  },
  {
   "cell_type": "code",
   "execution_count": null,
   "metadata": {},
   "outputs": [],
   "source": []
  }
 ],
 "metadata": {
  "file_extension": ".py",
  "kernelspec": {
   "display_name": "Python [conda env:learn-env] *",
   "language": "python",
   "name": "conda-env-learn-env-py"
  },
  "language_info": {
   "codemirror_mode": {
    "name": "ipython",
    "version": 3
   },
   "file_extension": ".py",
   "mimetype": "text/x-python",
   "name": "python",
   "nbconvert_exporter": "python",
   "pygments_lexer": "ipython3",
   "version": "3.6.10"
  },
  "latex_envs": {
   "LaTeX_envs_menu_present": true,
   "autoclose": false,
   "autocomplete": true,
   "bibliofile": "biblio.bib",
   "cite_by": "apalike",
   "current_citInitial": 1,
   "eqLabelWithNumbers": true,
   "eqNumInitial": 1,
   "hotkeys": {
    "equation": "Ctrl-E",
    "itemize": "Ctrl-I"
   },
   "labels_anchors": false,
   "latex_user_defs": false,
   "report_style_numbering": false,
   "user_envs_cfg": false
  },
  "mimetype": "text/x-python",
  "name": "python",
  "npconvert_exporter": "python",
  "pygments_lexer": "ipython3",
  "toc": {
   "base_numbering": 1,
   "nav_menu": {},
   "number_sections": false,
   "sideBar": true,
   "skip_h1_title": false,
   "title_cell": "Table of Contents",
   "title_sidebar": "Contents",
   "toc_cell": false,
   "toc_position": {
    "height": "766px",
    "left": "66px",
    "top": "110px",
    "width": "209.797px"
   },
   "toc_section_display": true,
   "toc_window_display": true
  },
  "version": 3
 },
 "nbformat": 4,
 "nbformat_minor": 2
}
