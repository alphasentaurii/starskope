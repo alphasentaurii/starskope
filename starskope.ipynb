{
 "cells": [
  {
   "cell_type": "markdown",
   "metadata": {},
   "source": [
    "# `STARSKØPE`\n",
    "\n",
    "\n",
    "\n",
    "**Building a Cyberoptic Artificial Telescope for Astrophysical Object Classification**\n",
    "\n",
    "> Flatiron School Capstone Project\n",
    "* `Author: Ru Keïn`\n",
    "* `Instructor: James Irving PhD`\n",
    "* `Data Science Full-Time Program`\n",
    "* `Blog post:` http://www.hakkeray.com/datascience/2020/03/22/planetX-hunter-classification-algorithms.html\n",
    "* `Non-Technical Presentation`: Datascience-CAPSTONE-starskope.pdf"
   ]
  },
  {
   "cell_type": "markdown",
   "metadata": {},
   "source": [
    "    Note: this project is divided into 3 notebooks:\n",
    "\n",
    "    starskøpe I : Binary Classification of K2 Timeseries Photometry Data using a Convolutional Neural Network (CNN)\n",
    "    starskøpe II: Autoencoding Restricted Boltzmann Machines for Image Classification of Raw Spectographs\n",
    "    starskøpe III: Stacking RBMs into single robust Deep Boltzmann Machine"
   ]
  },
  {
   "cell_type": "markdown",
   "metadata": {},
   "source": [
    "# Mission Brief\n",
    "\n",
    "## ABSTRACT\n",
    "\n",
    "> \"Mathematicians [...] are often led astray when 'studying' physics because they lose sight of the physics. \n",
    "They say: *'Look, these differential equations--the Maxwell equations--are all there is to electrodynamics; it is admitted by the physicists that there is nothing which is not contained in the equations. The equations are complicated, but after all they are only mathematical equations and if I understand them mathematically inside out, I will understand the physics inside out.'* Only it doesn't work that way. Mathematicians who study physics with that point of view--and there have been many of them--usually make little contribution to physics and, in fact, little to mathematics. They fail because the actual physical situations in the real world are so complicated that it is necessary to have a much broader understanding of the equations.\"\n",
    "**-Richard Feynman, *The Feynman Lectures on Physics: Volume 2*, Chapter 2-1: \"Differential Calculus of Vector Fields\"**\n",
    "\n",
    "---\n",
    "\n",
    "**INTRODUCTION**\n",
    "One of the reasons I quote Mr. Feynman above is because I set out to work on this project with only one year of high school physics under my belt. Despite loving the subject and even getting an A- in that one class, for some reason I did not continue pursuing physics while in school. I bought the Feynman lectures a few years back (on a whim? who does that?) and as soon as I began preparing for this project I felt intuitively that it would be somewhat ridiculous for me to build neural networks for classifying astrophysical data if I didn't fully grasp how and why the equations used to calculate my findings actually work.  \n",
    "\n",
    "**QUESTIONS**\n",
    "The specific questions this project seeks to answer are as follows: \n",
    "\n",
    "    1. Can a transiting exoplanet be detected strictly by analyzing the raw flux values of a given star? \n",
    "    \n",
    "    2. What is the best approach for pre-processing photometric timeseries data and what are some of the issues we might encounter in choosing how the data is prepared for classification modeling?\n",
    "    \n",
    "    3. How much signal-to-noise ratio is too much? That is, if the classes are highly imbalanced, for instance only a few planets can be confirmed out of thousands of stars, does the imbalance make for an unreliable or inaccurate model? \n",
    "    4. How do we test and validate that?\n",
    "  \n",
    "\n",
    "**DATASET**\n",
    "To answer the above questions, I started the analysis with a small labeled timeseries dataset from Kaggle posted by NASA several years ago. The reason I chose this particular dataset is because in terms of the type of information we typically need to know in order to solve a physics problem -- the primary one being UNITS, otherwise it's a math problem! -- this one is barren. The author who posted the dataset (`Winter Delta` or `W∆`) does however give us a few hints on how we *could* determine the units, and the dimensions, and a lot of other important physics-related information, if we do a little research. The biggest hint is that this dataset is from the K2 space telescope's Campaign 3 observations in which only 42 confirmed exoplanets are detected in a set of over 5,000 stars. Looking at the dataset on its own (before doing any digging), we are given little information about how long the time period covers, and we know do not know what the time intervals between flux values are. So far, this has not stopped any data scientists from attempting to tackle the classification model without gathering any additional information. \n",
    "\n",
    "**MODEL**\n",
    "To answer the question, I first set out to build a model for the data as is, \"sans-physics\". The baseline model is a neural network using the Keras API in a sci-kit learn wrapper.  \n",
    "\n",
    "**RESULTS**\n",
    "I was able to identify with 99% accuracy the handful of stars (5) in the test dataset that have a confirmed exoplanet in their orbit. \n",
    "\n",
    "**CONCLUSION**\n",
    "This baseline model is mathematically accurate, but it does not \"understand physics\". The conclusion we need to make about the model is whether or not this lack of physics embedded in the training process (or even pre-training process) is acceptable or not.\n",
    "\n",
    "While it is possible to create a 99% accurate machine learning model for detecting exoplanets using the raw flux values, without any sense of the actual time intervals, and with a highly imbalanced data set (imbalanced meaning only a few positive examples in a sea of negatives) - it is unclear that we can \"get away with\" this in every case. Furthermore, it is unlikely that could feel completely sure that we aren't missing out on critical information - such as detecting the existence of an earth-like exoplanet transiting a star - if we don't use our understanding of physics to further de-noise, normalize, and scale the data before training the model (and possibly even embed this into a pre-training phase). As a case in point, if you read any of the space telescope handbooks, you will quickly learn just how complex the instruments that are producng this data are, and that the way their technology works, when and where in the sky they were pointing, as well as what actually happened during their missions, you'd know that should all probably be taken into account in your model! The K2 data in particular, for instance, has a unique issue that every so often its thrusters would fire to adjust/maintain its position in the sky, causing data at multiple points to be completely useless. \n",
    "\n",
    "*Why that matters...*\n",
    "This type of noise cannot be removed without knowing what exact times the thrusters fired, as well as what times each of the observations of the dataset occurred. Even if we do manage to throw the bad data out, we are still stuck with the problem of not having any data for that time period, and once again might miss our potential planet's threshold crossing event! If we know where and when those missing pieces occur, we could use that to collect our missing data from another telescope like TESS, which has overlapping targets of observation. A model that can combine data from two different space telescopes, and be smart enough to know based on the telescope it came from how to handle the data, would make truly accurate predictions, and much more useful classifications. \n",
    "\n",
    "*What we can do about that...*\n",
    "This is the type of model I will set out to build in my future work. This is what we would call a cyberoptic artificial telescope - one that can aggregate large datasets from multiple missions and give us a more accurate, more detailed picture of the stars and planets than what we have available to us in the limited view of a single picture from a single telescope at a single point in time. This is the vision for *STARSKØPE* which will come out of this project.\n",
    "\n",
    "**RECOMMENDATIONS**\n",
    "My recommendations are the following:\n",
    "\n",
    "   1. Use datasets from the MAST website (via API) to incorporate other calculations of the star's properties as features to be used for classification algorithms. Furthermore, attempt other types of transformations and normalizations on the data before running the model - for instance, apply a Fourier transform.\n",
    "\n",
    "   2. Combine data from multiple campaigns and perhaps even multiple telescopes (for instance, matching sky coordinates and time intervals between K2, Kepler, and TESS for a batch of stars that have overlapping observations - this would be critical for finding transit periods that are longer than the campaigns of a single telecope's observation period).\n",
    "\n",
    "   3. Explore using computer vision on not only the Full Frame images we can collect from telescopes like TESS, but also on spectographs of the flux values themselves. The beauty of machine learning is our ability to rely on the computer to pick up very small nuances in differences that we ourselves cannot see with our own eyes. \n",
    "   \n",
    "   4. Explore using autoencoded machine learning algorithms with Restricted Boltzmann Machines - this type of model has proven to be incredibly effective in the image analysis of handwriting as we've seen applied the MNIST dataset - let's find out if the same is true for images of stars, be they the Full Frame Images or spectographs.\n",
    "\n",
    "**FUTURE WORK**\n",
    "To continue this project, I'll take another approach for detecting exoplanets using computer vision to analyze images of spectographs of this same star flux data set. Please go to the notebook `[starskøpe-2]` to see how I use a Restricted Boltzmann Machines neural network model to classify stars as exoplanet hosts using spectograph images of the flux values to find transiting exoplanets. Following this, I will apply the same algorithm to spectographs of Fourier transformed data, as you will see in `[starskøpe-3]`. \n",
    "\n",
    "Additional future work following this project will be to develop my \"cyberoptic artificial telescope\" as a machine learning driven application that any astrophysicist can use to look at a single or collection of stars and have the model classify them according not only to exoplanet predictions, but also predict what type of star it is, and other key properties that would be of interest for astrophysical science applications.\n"
   ]
  },
  {
   "cell_type": "markdown",
   "metadata": {},
   "source": [
    "# Obtain\n",
    "\n",
    "Begin by importing libraries and code packages for basic analysis, as well as the kaggle dataset."
   ]
  },
  {
   "cell_type": "code",
   "execution_count": null,
   "metadata": {
    "ExecuteTime": {
     "end_time": "2020-04-29T20:23:50.931878Z",
     "start_time": "2020-04-29T20:23:49.350984Z"
    }
   },
   "outputs": [],
   "source": [
    "# Import code packages and libraries\n",
    "import numpy as np\n",
    "import pandas as pd\n",
    "import matplotlib as mpl\n",
    "%matplotlib inline\n",
    "from matplotlib.colors import LogNorm\n",
    "\n",
    "import seaborn as sns\n",
    "sns.set_style('whitegrid')\n",
    "import matplotlib.pyplot as plt\n",
    "plt.style.use('seaborn-bright')\n",
    " \n",
    "\n",
    "font_dict={'family':'\"Titillium Web\", monospace','size':16}\n",
    "mpl.rc('font',**font_dict)\n",
    "\n",
    "\n",
    "#ignore pink warnings\n",
    "import warnings\n",
    "warnings.filterwarnings('ignore')\n",
    "# Allow for large # columns\n",
    "pd.set_option('display.max_columns', 0)\n",
    "# pd.set_option('display.max_rows','')"
   ]
  },
  {
   "cell_type": "code",
   "execution_count": null,
   "metadata": {
    "ExecuteTime": {
     "end_time": "2020-04-29T20:23:53.264571Z",
     "start_time": "2020-04-29T20:23:50.934734Z"
    }
   },
   "outputs": [],
   "source": [
    "# fsds_1007219  v0.7.20 loaded.  Read the docs: https://fsds.readthedocs.io/en/latest/ \n",
    "#!pip install fsds_100719\n",
    "import fsds_100719\n",
    "from fsds_100719.imports import *"
   ]
  },
  {
   "cell_type": "markdown",
   "metadata": {},
   "source": [
    "Import dataset which has already been split into train and test sets, `exoTrain.csv.zip` and `exoTest.csv.zip` (I compressed them from their original csv format since the training set is > 240 MB so we'll to unzip them)."
   ]
  },
  {
   "cell_type": "code",
   "execution_count": null,
   "metadata": {
    "ExecuteTime": {
     "end_time": "2020-04-29T20:23:53.274866Z",
     "start_time": "2020-04-29T20:23:53.269291Z"
    }
   },
   "outputs": [],
   "source": [
    "# SET DIRECTORY PATHS\n",
    "import os, glob, sys\n",
    "\n",
    "HOME = os.path.abspath(os.curdir)\n",
    "DATA = HOME+'/DATA'"
   ]
  },
  {
   "cell_type": "code",
   "execution_count": null,
   "metadata": {
    "ExecuteTime": {
     "end_time": "2020-04-29T20:23:53.284951Z",
     "start_time": "2020-04-29T20:23:53.277962Z"
    }
   },
   "outputs": [],
   "source": [
    "# glob puts matching filenames into a list for us - handy for working with multiple datasets\n",
    "files = glob.glob(DATA+'/*.zip')"
   ]
  },
  {
   "cell_type": "code",
   "execution_count": null,
   "metadata": {
    "ExecuteTime": {
     "end_time": "2020-04-29T20:23:53.296238Z",
     "start_time": "2020-04-29T20:23:53.289712Z"
    }
   },
   "outputs": [],
   "source": [
    "os.chdir(DATA)"
   ]
  },
  {
   "cell_type": "code",
   "execution_count": null,
   "metadata": {
    "ExecuteTime": {
     "end_time": "2020-04-29T20:23:53.303661Z",
     "start_time": "2020-04-29T20:23:53.300106Z"
    }
   },
   "outputs": [],
   "source": [
    "# Uncomment to unzip \n",
    "# !unzip -q '{files[0]}'\n",
    "# !unzip -q '{files[1]}'"
   ]
  },
  {
   "cell_type": "code",
   "execution_count": null,
   "metadata": {
    "ExecuteTime": {
     "end_time": "2020-04-29T20:24:00.603770Z",
     "start_time": "2020-04-29T20:23:53.307437Z"
    },
    "slideshow": {
     "slide_type": "-"
    }
   },
   "outputs": [],
   "source": [
    "train = pd.read_csv('exoTrain.csv')\n",
    "test = pd.read_csv('exoTest.csv')"
   ]
  },
  {
   "cell_type": "code",
   "execution_count": null,
   "metadata": {
    "ExecuteTime": {
     "end_time": "2020-04-29T20:24:00.610230Z",
     "start_time": "2020-04-29T20:24:00.607076Z"
    }
   },
   "outputs": [],
   "source": [
    "os.chdir(HOME)"
   ]
  },
  {
   "cell_type": "markdown",
   "metadata": {},
   "source": [
    "# Scrub\n",
    "\n",
    "**Initial inspection of data, reviewing the features, target (if any), datatypes, and checking for nulls.**\n",
    "\n",
    "-- What we are NOT going to scrub (in this version at least) --\n",
    "\n",
    "Each star's light frequency makes up a single row of data collected over the course of the campaign (#3), which in this case for K2 campaign 3 was a little over 60 days (campaigns are normally ~80 days but c3 ended early due to data storage capacity issues. \n",
    "\n",
    "If we crunched the numbers (which I did elsewhere), it's 29.4 minutes between each flux measurement, also known as the cadence. This matches the information available in the K2 handbook/MAST website/NASA. Knowing the units and time intervals would allow us to scale and normalize the data very methodically. However, since our initial (math-based) model doesn't 'care' about units, the scrubbing will not take any of the physics into account. This is intentional.\n",
    "\n",
    "This is something we DO want to come back to for comparison with future models that *will* have the astrophysical properties embedded in their pre-learning process, and in particular the SCRUBBING: remember, this is a *timeseries*...it's hard to do any normalizing, scaling, de-noising to a timeseries if we don't know anything about the time units. And that's only ONE of the dimensions being completely ignored by our strict mathematical approach. The question is, will it matter? "
   ]
  },
  {
   "cell_type": "markdown",
   "metadata": {},
   "source": [
    "## Initial Inspection"
   ]
  },
  {
   "cell_type": "code",
   "execution_count": null,
   "metadata": {
    "ExecuteTime": {
     "end_time": "2020-04-29T20:24:00.629251Z",
     "start_time": "2020-04-29T20:24:00.613885Z"
    }
   },
   "outputs": [],
   "source": [
    "# Check the value counts \n",
    "display(train['LABEL'].value_counts(),test['LABEL'].value_counts())"
   ]
  },
  {
   "cell_type": "code",
   "execution_count": null,
   "metadata": {
    "ExecuteTime": {
     "end_time": "2020-04-29T20:24:01.009793Z",
     "start_time": "2020-04-29T20:24:00.632203Z"
    }
   },
   "outputs": [],
   "source": [
    "# comparing train and test datasets\n",
    "display(train.head(), test.head())"
   ]
  },
  {
   "cell_type": "markdown",
   "metadata": {},
   "source": [
    "Our target column `LABEL` assigns each star with a 1 or a 2 to designate whether or not there is a confirmed exoplanet that was found in the star's orbit. This is precisely what we are trying to classify in our model below.\n",
    "\n",
    "Notice there are a total of only 42 stars that are labeled \"2\", ie confirmed exoplanet orbiting this star. \n",
    "There are 37 exoplanet host stars in the training set, and only 5 in the test set. Such highly imbalanced classes will be something we need to deal with carefully in our model."
   ]
  },
  {
   "cell_type": "markdown",
   "metadata": {},
   "source": [
    "## Check Nulls"
   ]
  },
  {
   "cell_type": "code",
   "execution_count": null,
   "metadata": {
    "ExecuteTime": {
     "end_time": "2020-04-29T20:24:01.100775Z",
     "start_time": "2020-04-29T20:24:01.012080Z"
    }
   },
   "outputs": [],
   "source": [
    "# check for nulls\n",
    "print('Train Nulls:',train.isna().sum().value_counts())\n",
    "print('Test Nulls:',test.isna().sum().value_counts())"
   ]
  },
  {
   "cell_type": "markdown",
   "metadata": {},
   "source": [
    "# Explore"
   ]
  },
  {
   "cell_type": "markdown",
   "metadata": {},
   "source": [
    "## Planet Host vs Non-Host Stars\n",
    "\n",
    "Since we are setting out to classify stars as being either a planet-host or non-host, it would be useful to compare the data visually and see if we can pick up on any significant differences in the flux values with just our eyeballs. The simplest way to do this is plot the signals of each target class for a couple of stars and look at the scatter plots and a line plots."
   ]
  },
  {
   "cell_type": "markdown",
   "metadata": {},
   "source": [
    "### Threshold Crossing Event (TCE)\n",
    "TCE is determined by a significant dip in the flux values, the assumption being something crossed in front of the star blocking its light for some period of time that the telescope has designated as suspect of an orbiting planet! The occurrence of a TCE means that star is flagged as a 'Target of Interest' or in K2's case, 'Kepler Object of Ineterst' (KOI). The KOIs for each campaign have to be confirmed by a human, of course, usually an astrophysicist, and that is precisely where machine learning comes in - there are billions and billions of stars, and thus billions of billions of potential data points. \"Looking for a needle in a haystack\" doesn't even work as a metaphor for a scale this immense. This is the ultimate challenge for data scientists! Let's see what this looks like."
   ]
  },
  {
   "cell_type": "code",
   "execution_count": null,
   "metadata": {
    "ExecuteTime": {
     "end_time": "2020-04-29T20:24:01.133589Z",
     "start_time": "2020-04-29T20:24:01.103160Z"
    }
   },
   "outputs": [],
   "source": [
    "# grab first row of observations to create pandas series \n",
    "\n",
    "# first row is label = 2 which is a confirmed exoplanet host star\n",
    "# TCE \"Threshold Crossing Event\"\n",
    "tce1 = train.iloc[0, :]\n",
    "tce2 = train.iloc[1, :]\n",
    "\n",
    "# last row is label = 1 (no tce meaning no evidence this star hosts a planet)\n",
    "no_tce1 = train.iloc[-1, :]\n",
    "no_tce2 = train.iloc[-2, :]\n",
    "\n",
    "display(tce1.head(),tce2.head(),no_tce1.head(), no_tce2.head())"
   ]
  },
  {
   "cell_type": "markdown",
   "metadata": {},
   "source": [
    "# A Word on Units.."
   ]
  },
  {
   "cell_type": "markdown",
   "metadata": {},
   "source": [
    "After doing a little research (mostly by reading the K2 Handbook and visiting the MAST website where NASA houses all of its space telescope data) we learn that the flux values for campaign 3 that are in the Kaggle dataset have been put through a de-noising process. Prior to this particular de-noising process, the flux values would be called `SAP Flux` however in this case we are dealing with `PDC_SAP Flux`. At the moment the units may not seem to matter much, since we assume they are consist across all observations. However, as with anything relating to physics, and science for that matter, the units MATTER. All that to say, for now we are at least going to label the axes accurately so that later down the line if we want to compare this dataset to another from the archive, we will know the units! :)"
   ]
  },
  {
   "cell_type": "code",
   "execution_count": null,
   "metadata": {
    "ExecuteTime": {
     "end_time": "2020-04-29T20:24:01.141863Z",
     "start_time": "2020-04-29T20:24:01.136365Z"
    }
   },
   "outputs": [],
   "source": [
    "# Custom library of helper functions I created called \"Spacekit\"\n",
    "import spacekit\n",
    "from spacekit import signal"
   ]
  },
  {
   "cell_type": "code",
   "execution_count": null,
   "metadata": {
    "ExecuteTime": {
     "end_time": "2020-04-29T20:24:01.147086Z",
     "start_time": "2020-04-29T20:24:01.143991Z"
    }
   },
   "outputs": [],
   "source": [
    "# signal.Flux.analyzers()"
   ]
  },
  {
   "cell_type": "code",
   "execution_count": null,
   "metadata": {
    "ExecuteTime": {
     "end_time": "2020-04-29T20:24:02.864719Z",
     "start_time": "2020-04-29T20:24:01.149310Z"
    }
   },
   "outputs": [],
   "source": [
    "signal.Flux.analyzers(signal=tce1, label_col='LABEL', classes=[1,2],\n",
    "                         class_names=['No Planet', 'Planet'],\n",
    "                          y_units='PDC_SAP Flux', x_units='Time')\n",
    "\n",
    "signal.Flux.analyzers(signal=tce2, label_col='LABEL', classes=[1,2],\n",
    "                         class_names=['No Planet', 'Planet'],\n",
    "                          y_units='PDC_SAP Flux', x_units='Time') "
   ]
  },
  {
   "cell_type": "markdown",
   "metadata": {},
   "source": [
    "This second star's flux signal pattern looks very different - are we to assume that each one of those dips is a transit event? Perhaps more than one planet is orbiting? Otherwise that would be a fairly short period. Let's compare these to the NON planet host stars:"
   ]
  },
  {
   "cell_type": "code",
   "execution_count": null,
   "metadata": {
    "ExecuteTime": {
     "end_time": "2020-04-29T20:24:04.410027Z",
     "start_time": "2020-04-29T20:24:02.868394Z"
    }
   },
   "outputs": [],
   "source": [
    "signal.Flux.analyzers(signal=no_tce1, label_col='LABEL', classes=[1,2],\n",
    "                         class_names=['No Planet', 'Planet'],\n",
    "                          y_units='PDC_SAP Flux', x_units='Time')\n",
    "\n",
    "signal.Flux.analyzers(signal=no_tce2, label_col='LABEL', classes=[1,2],\n",
    "                         class_names=['No Planet', 'Planet'],\n",
    "                          y_units='PDC_SAP Flux', x_units='Time') "
   ]
  },
  {
   "cell_type": "markdown",
   "metadata": {},
   "source": [
    "It's hard to make a fair comparison with these plots without being able to see much in detail. We need to \"zoom in\" - this can be accomplished through normalizing and scaling techniques, but the standard procedure for this type of data would be to perform phase-folding based on the estimated period of the transiting planets."
   ]
  },
  {
   "cell_type": "markdown",
   "metadata": {},
   "source": [
    "## Pre-processing"
   ]
  },
  {
   "cell_type": "code",
   "execution_count": null,
   "metadata": {
    "ExecuteTime": {
     "end_time": "2020-04-29T20:24:04.416178Z",
     "start_time": "2020-04-29T20:24:04.412441Z"
    }
   },
   "outputs": [],
   "source": [
    "# import additional libraries from sklearn\n",
    "# from sklearn.linear_model import LinearRegression\n",
    "# from sklearn.preprocessing import StandardScaler\n",
    "from scipy.ndimage.filters import uniform_filter1d\n",
    "from sklearn.model_selection import train_test_split\n",
    "from sklearn import preprocessing\n",
    "import random"
   ]
  },
  {
   "cell_type": "code",
   "execution_count": null,
   "metadata": {
    "ExecuteTime": {
     "end_time": "2020-04-29T20:24:04.421874Z",
     "start_time": "2020-04-29T20:24:04.418618Z"
    },
    "code_folding": [
     0
    ]
   },
   "outputs": [],
   "source": [
    "# # spacekit.transformer.array_gun()\n",
    "\n",
    "# # Using Numpy to create the 1-dimensional arrays\n",
    "# def array_gun(path_to_train, path_to_test):\n",
    "#     \"\"\"\n",
    "#     import data as 1-dimensional arrays using numpy\n",
    "#     separate target classes (y) for training and test data\n",
    "#     assumes y (target) is first column in dataframe\n",
    "#     #TODO: option to pass in column index loc for `y` if not default (0) \n",
    "#     #TODO: option for `y` to already be 0 or 1 (don't subtract 1)\n",
    "#     #TODO: allow option for `y` to be categorical (convert via binarizer)\n",
    "#     \"\"\"\n",
    "#     import numpy as np\n",
    "    \n",
    "#     Train = np.loadtxt(path_to_train, skiprows=1, delimiter=',')\n",
    "#     X_train = Train[:, 1:]\n",
    "#     y_train = Train[:, 0, np.newaxis] - 1.\n",
    "    \n",
    "#     Test = np.loadtxt(path_to_test, skiprows=1, delimiter=',')\n",
    "#     X_test = Test[:, 1:]\n",
    "#     y_test = Test[:, 0, np.newaxis] - 1.\n",
    "    \n",
    "#     del Train,Test\n",
    "#     print(\"X_train: \", X_train.shape)\n",
    "#     print(\"y_train: \", y_train.shape)\n",
    "#     print(\"X_test: \", X_test.shape)\n",
    "#     print(\"y_test: \", y_test.shape)\n",
    "    \n",
    "#     return X_train, X_test, y_train, y_test"
   ]
  },
  {
   "cell_type": "code",
   "execution_count": null,
   "metadata": {
    "ExecuteTime": {
     "end_time": "2020-04-29T20:24:04.428450Z",
     "start_time": "2020-04-29T20:24:04.424038Z"
    }
   },
   "outputs": [],
   "source": [
    "from spacekit import transformer"
   ]
  },
  {
   "cell_type": "code",
   "execution_count": null,
   "metadata": {
    "ExecuteTime": {
     "end_time": "2020-04-29T20:24:04.433649Z",
     "start_time": "2020-04-29T20:24:04.430486Z"
    }
   },
   "outputs": [],
   "source": [
    "atomic_vector_plotter = transformer.Transformer()"
   ]
  },
  {
   "cell_type": "code",
   "execution_count": null,
   "metadata": {
    "ExecuteTime": {
     "end_time": "2020-04-29T20:24:18.740635Z",
     "start_time": "2020-04-29T20:24:04.435659Z"
    }
   },
   "outputs": [],
   "source": [
    "X_train,X_test,y_train,y_test = atomic_vector_plotter.array_gun(DATA+'/exoTrain.csv', \n",
    "                                          DATA+'/exoTest.csv') "
   ]
  },
  {
   "cell_type": "code",
   "execution_count": null,
   "metadata": {
    "ExecuteTime": {
     "end_time": "2020-04-29T20:24:18.745608Z",
     "start_time": "2020-04-29T20:24:18.742770Z"
    }
   },
   "outputs": [],
   "source": [
    "# # Recombine datasets - we'll do our own splitting for train and test\n",
    "# exodata = train.append(test)\n",
    "# # X = np.asarray(exodata.iloc[:,1:])\n",
    "# # y = np.asarray(exodata.iloc[:,0])\n",
    "# display(exodata.shape)"
   ]
  },
  {
   "cell_type": "markdown",
   "metadata": {},
   "source": [
    "## Scaling\n",
    "\n",
    "Scale each observation to zero mean and unit variance."
   ]
  },
  {
   "cell_type": "code",
   "execution_count": null,
   "metadata": {
    "ExecuteTime": {
     "end_time": "2020-04-29T20:24:18.759126Z",
     "start_time": "2020-04-29T20:24:18.754448Z"
    },
    "code_folding": [
     0
    ]
   },
   "outputs": [],
   "source": [
    "# def protocol_zero(matrix1, matrix2=None):\n",
    "#         \"\"\"\n",
    "#         Scales each array of a matrix to zero mean and unit variance.\n",
    "#         returns matrix/matrices of same shape as input but scaled\n",
    "#         matrix2 is optional - useful if data was already train-test split\n",
    "#         example: matrix1=X_train, matrix2=X_test\n",
    "        \n",
    "#         \"\"\"\n",
    "#         import numpy as np\n",
    "        \n",
    "            \n",
    "#         matrix1 = ((matrix1 - np.mean(matrix1, axis=1).reshape(-1,1)) / \n",
    "#             np.std(matrix1, axis=1).reshape(-1,1))\n",
    "        \n",
    "#         print(\"Mean: \",matrix1[0].mean())\n",
    "#         print(\"Variance: \",matrix1[0].std())\n",
    "        \n",
    "#         if matrix2 is not None:\n",
    "#             matrix2 = ((matrix2 - np.mean(matrix2, axis=1).reshape(-1,1)) / \n",
    "#                 np.std(matrix2, axis=1).reshape(-1,1))\n",
    "        \n",
    "#             print(\"Mean: \",matrix2[0].mean())\n",
    "#             print(\"Variance: \",matrix2[0].std())\n",
    "#             return matrix1,matrix2\n",
    "#         else:\n",
    "#             return matrix1"
   ]
  },
  {
   "cell_type": "code",
   "execution_count": null,
   "metadata": {
    "ExecuteTime": {
     "end_time": "2020-04-29T20:24:19.163310Z",
     "start_time": "2020-04-29T20:24:18.764730Z"
    }
   },
   "outputs": [],
   "source": [
    "# spacekit.signals.protocol_zero()\n",
    "hypersonic_pliers = transformer.Transformer()\n",
    "# Scale each row to zero mean and unit variance.\n",
    "X_train, X_test = hypersonic_pliers.protocol_zero(X_train, X_test)"
   ]
  },
  {
   "cell_type": "markdown",
   "metadata": {},
   "source": [
    "## De-noising"
   ]
  },
  {
   "cell_type": "markdown",
   "metadata": {},
   "source": [
    "In order to reduce the amount of high frequency noise that is likely to have an adverse effect on the neural network's learning outcomes, we can pass a uniform 1-D filter on our scaled train and test data then stack the arrays along the second axis. There are other techniques we might want to apply for further de-noising but for now we'll start with this for the baseline."
   ]
  },
  {
   "cell_type": "code",
   "execution_count": null,
   "metadata": {
    "ExecuteTime": {
     "end_time": "2020-04-29T20:24:19.169296Z",
     "start_time": "2020-04-29T20:24:19.165292Z"
    }
   },
   "outputs": [],
   "source": [
    "print(X_train.shape)\n",
    "print(y_train.shape)"
   ]
  },
  {
   "cell_type": "code",
   "execution_count": null,
   "metadata": {
    "ExecuteTime": {
     "end_time": "2020-04-29T20:24:19.175613Z",
     "start_time": "2020-04-29T20:24:19.171804Z"
    },
    "code_folding": [
     0
    ]
   },
   "outputs": [],
   "source": [
    "# # spacekit.transformer.noise_filter()\n",
    "\n",
    "# def noise_filter(matrix1, matrix2=None, step_size=None, axis=2):\n",
    "#         \"\"\"        \n",
    "#         Adds an input corresponding to the running average over a set number\n",
    "#         of time steps. This helps the neural network to ignore high frequency \n",
    "#         noise by passing in a uniform 1-D filter and stacking the arrays. \n",
    "        \n",
    "#         **ARGS\n",
    "#         step_size: integer, # timesteps for 1D filter. defaults to 200\n",
    "#         axis: which axis to stack the arrays\n",
    "        \n",
    "#         ex:\n",
    "#         noise_filter(matrix1=X_train, matrix2=X_test, step_size=200)\n",
    "#         \"\"\"\n",
    "#         import numpy as np\n",
    "#         from scipy.ndimage.filters import uniform_filter1d\n",
    "        \n",
    "#         if step_size is None:\n",
    "#             step_size=200\n",
    "            \n",
    "#         # calc input for flux signal rolling avgs \n",
    "#         filter1 = uniform_filter1d(matrix1, axis=1, size=step_size)\n",
    "#         # store in array and stack on 2nd axis for each obs of X data\n",
    "#         matrix1 = np.stack([matrix1, filter1], axis=2)\n",
    "        \n",
    "#         if matrix2 is not None:\n",
    "#             filter2 = uniform_filter1d(matrix2, axis=1, size=step_size)\n",
    "#             matrix2 = np.stack([matrix2, filter2], axis=2)\n",
    "#             print(matrix1.shape,matrix2.shape)\n",
    "#             return matrix1,matrix2\n",
    "#         else:\n",
    "#             print(matrix1.shape)\n",
    "#             return matrix1"
   ]
  },
  {
   "cell_type": "code",
   "execution_count": null,
   "metadata": {
    "ExecuteTime": {
     "end_time": "2020-04-29T20:24:19.716027Z",
     "start_time": "2020-04-29T20:24:19.177824Z"
    }
   },
   "outputs": [],
   "source": [
    "# we now have a 2-dimensional array for every star\n",
    "thermo_fusion_chisel = transformer.Transformer()\n",
    "X_train, X_test = thermo_fusion_chisel.noise_filter(X_train, X_test, step_size=200, axis=2)"
   ]
  },
  {
   "cell_type": "code",
   "execution_count": null,
   "metadata": {
    "ExecuteTime": {
     "end_time": "2020-04-29T20:24:20.167369Z",
     "start_time": "2020-04-29T20:24:19.718368Z"
    }
   },
   "outputs": [],
   "source": [
    "# array on 2nd axis\n",
    "print('\\nx_train[-1] flux signal rolling avgs\\n')\n",
    "# plot arrays\n",
    "rolling = X_train[1][:,1]\n",
    "print(rolling)\n",
    "plt.plot(rolling)"
   ]
  },
  {
   "cell_type": "code",
   "execution_count": null,
   "metadata": {
    "ExecuteTime": {
     "end_time": "2020-04-29T20:24:20.648906Z",
     "start_time": "2020-04-29T20:24:20.170091Z"
    }
   },
   "outputs": [],
   "source": [
    "# viewed together...\n",
    "plt.plot(X_train[1][:,0])\n",
    "plt.plot(rolling)"
   ]
  },
  {
   "cell_type": "markdown",
   "metadata": {},
   "source": [
    "# Model"
   ]
  },
  {
   "cell_type": "code",
   "execution_count": null,
   "metadata": {
    "ExecuteTime": {
     "end_time": "2020-04-29T20:24:20.654213Z",
     "start_time": "2020-04-29T20:24:20.651451Z"
    }
   },
   "outputs": [],
   "source": [
    "# !pip install keras\n",
    "# !pip install tensorflow"
   ]
  },
  {
   "cell_type": "code",
   "execution_count": null,
   "metadata": {
    "ExecuteTime": {
     "end_time": "2020-04-29T20:24:24.596072Z",
     "start_time": "2020-04-29T20:24:20.656561Z"
    }
   },
   "outputs": [],
   "source": [
    "# import additional libraries for keras\n",
    "import keras\n",
    "from keras.utils.np_utils import to_categorical\n",
    "\n",
    "# from keras.preprocessing.text import Tokenizer\n",
    "from keras import models, layers, optimizers\n",
    "from keras.models import Sequential, Model\n",
    "from keras.layers import Conv1D, MaxPool1D, Dense, Dropout, Flatten, \\\n",
    "BatchNormalization, Input, concatenate, Activation\n",
    "from keras.optimizers import Adam\n",
    "from keras.wrappers.scikit_learn import KerasClassifier\n",
    "from sklearn.model_selection import cross_val_score"
   ]
  },
  {
   "cell_type": "markdown",
   "metadata": {},
   "source": [
    "## Build Model"
   ]
  },
  {
   "cell_type": "markdown",
   "metadata": {},
   "source": [
    "### **Tactical Decisions**\n",
    "\n",
    "Since I'm building the baseline model from scratch, a few considerations need to be made. While we can run a gridsearch (or randomizedsearchCV) to get the parameters for us, we still need to decide what type of model would be most ideal for this dataset, knowing what we know so far based on the work done so far. From there, we can go with best practices, assess the initial outcomes, and tune the hyperparameters with each iteration. \n",
    "\n",
    "**CNN**\n",
    "The baseline will consist of a one-dimensional convolutional neural network (CNN). This is ideal for working with this particular dataset in which we will pass one row of the timeseries flux values as an array. This is very similar to how we would process image data (and that's strategically useful if we want to develop the model in the future to handle Full-Frame Images from Tess, for instance, or spectographs of the flux frequences, for instance. \n",
    "\n",
    "**1-Layer at a time**\n",
    "We'll be using the Keras API which makes it easy to add in the layers one at a time. Each 1D convolutional layer corresponds to a local filter, and then a pooling layer reduces the data length by approximately a factor 4. At the end, there are two dense layers. Again, this is similar to the approach taken for a typical image classifier. \n",
    "\n",
    "**Activation Function**\n",
    "The RELU activation function is closest to how real neurons actually work and often produces the best results compared to the other options, so we'll at least start with this for the baseline.\n",
    "\n",
    "**Batch Normalization**\n",
    "Finally, the batch normalization layers are what help to speed up convergence. "
   ]
  },
  {
   "cell_type": "markdown",
   "metadata": {},
   "source": [
    "## Batch Generator"
   ]
  },
  {
   "cell_type": "markdown",
   "metadata": {},
   "source": [
    "To correct for the extremely unbalanced dataset, we'll ensure that the network sees 50% of the positive sample over each batch. We will also apply augmentation by rotating each of the samples randomly each time, thus generating new data. This is similar to image classification when we rotate or shift the samples each time."
   ]
  },
  {
   "cell_type": "code",
   "execution_count": null,
   "metadata": {
    "ExecuteTime": {
     "end_time": "2020-04-29T20:24:24.603005Z",
     "start_time": "2020-04-29T20:24:24.598101Z"
    }
   },
   "outputs": [],
   "source": [
    "X_train.shape"
   ]
  },
  {
   "cell_type": "code",
   "execution_count": null,
   "metadata": {
    "ExecuteTime": {
     "end_time": "2020-04-29T20:24:24.613980Z",
     "start_time": "2020-04-29T20:24:24.606641Z"
    }
   },
   "outputs": [],
   "source": [
    "y_train.shape"
   ]
  },
  {
   "cell_type": "code",
   "execution_count": null,
   "metadata": {
    "ExecuteTime": {
     "end_time": "2020-04-29T20:24:24.621989Z",
     "start_time": "2020-04-29T20:24:24.616393Z"
    },
    "code_folding": [
     0
    ]
   },
   "outputs": [],
   "source": [
    "# def batch_maker(X_train, y_train, batch_size=32):\n",
    "#     \"\"\"\n",
    "#     Gives equal number of positive and negative samples rotating randomly\n",
    "    \n",
    "#     generator: A generator or an instance of `keras.utils.Sequence`\n",
    "        \n",
    "#     The output of the generator must be either\n",
    "#     - a tuple `(inputs, targets)`\n",
    "#     - a tuple `(inputs, targets, sample_weights)`.\n",
    "\n",
    "#     This tuple (a single output of the generator) makes a single\n",
    "#     batch. Therefore, all arrays in this tuple must have the same\n",
    "#     length (equal to the size of this batch). Different batches may have \n",
    "#     different sizes. \n",
    "\n",
    "#     For example, the last batch of the epoch\n",
    "#     is commonly smaller than the others, if the size of the dataset\n",
    "#     is not divisible by the batch size.\n",
    "#     The generator is expected to loop over its data\n",
    "#     indefinitely. An epoch finishes when `steps_per_epoch`\n",
    "#     batches have been seen by the model.\n",
    "    \n",
    "#     \"\"\"\n",
    "#     import numpy\n",
    "#     import random\n",
    "#     # hb: half-batch\n",
    "#     hb = batch_size // 2\n",
    "    \n",
    "#     # Returns a new array of given shape and type, without initializing.\n",
    "#     # x_train.shape = (5087, 3197, 2)\n",
    "#     xb = np.empty((batch_size, X_train.shape[1], X_train.shape[2]), dtype='float32')\n",
    "    \n",
    "#     #y_train.shape = (5087, 1)\n",
    "#     yb = np.empty((batch_size, y_train.shape[1]), dtype='float32')\n",
    "    \n",
    "#     pos = np.where(y_train[:,0] == 1.)[0]\n",
    "#     neg = np.where(y_train[:,0] == 0.)[0]\n",
    "\n",
    "#     # rotating each of the samples randomly\n",
    "#     while True:\n",
    "#         np.random.shuffle(pos)\n",
    "#         np.random.shuffle(neg)\n",
    "    \n",
    "#         xb[:hb] = X_train[pos[:hb]]\n",
    "#         xb[hb:] = X_train[neg[hb:batch_size]]\n",
    "#         yb[:hb] = y_train[pos[:hb]]\n",
    "#         yb[hb:] = y_train[neg[hb:batch_size]]\n",
    "    \n",
    "#         for i in range(batch_size):\n",
    "#             size = np.random.randint(xb.shape[1])\n",
    "#             xb[i] = np.roll(xb[i], size, axis=0)\n",
    "     \n",
    "#         yield xb, yb"
   ]
  },
  {
   "cell_type": "markdown",
   "metadata": {},
   "source": [
    "## Train Model"
   ]
  },
  {
   "cell_type": "code",
   "execution_count": null,
   "metadata": {
    "ExecuteTime": {
     "start_time": "2020-04-29T23:43:49.796Z"
    },
    "code_folding": [
     0
    ],
    "run_control": {
     "marked": false
    }
   },
   "outputs": [],
   "source": [
    "# def build_CNN(kernel_size=11, activation='relu', \n",
    "#                    input_shape=X_train.shape[1:], strides=4, optimizer=Adam, \n",
    "#                    learning_rate=1e-5, loss='binary_crossentropy', \n",
    "#                    metrics=['accuracy'], validation_data=(X_test, y_test), \n",
    "#                    verbose=2, epochs=5, steps_per_epoch=(X_train.shape[1]//32), \n",
    "#                    batch_size=32):\n",
    "\n",
    "#     \"\"\"\n",
    "#     Builds and compiles a linear CNN using Keras API\n",
    "\n",
    "#     \"\"\"\n",
    "#     model=Sequential()\n",
    "#     #layer1: takes input shape\n",
    "#     model.add(Conv1D(filters=8, kernel_size=kernel_size, \n",
    "#                      activation=activation, input_shape=input_shape))\n",
    "#     model.add(MaxPool1D(strides=strides))\n",
    "#     model.add(BatchNormalization())\n",
    "#     #layer2\n",
    "#     model.add(Conv1D(filters=16, kernel_size=kernel_size, \n",
    "#                      activation=activation))\n",
    "#     model.add(MaxPool1D(strides=strides))\n",
    "#     model.add(BatchNormalization())\n",
    "#     #layer3\n",
    "#     model.add(Conv1D(filters=32, kernel_size=kernel_size, \n",
    "#                      activation=activation))\n",
    "#     model.add(MaxPool1D(strides=strides))\n",
    "#     model.add(BatchNormalization())\n",
    "#     #layer4\n",
    "#     model.add(Conv1D(filters=64, kernel_size=kernel_size, \n",
    "#                      activation=activation))\n",
    "#     model.add(MaxPool1D(strides=strides))\n",
    "#     model.add(Flatten())\n",
    "    \n",
    "#     # Full Connection\n",
    "#     model.add(Dropout(0.5))\n",
    "#     model.add(Dense(64, activation=activation))\n",
    "#     model.add(Dropout(0.25))\n",
    "#     model.add(Dense(64, activation=activation))\n",
    "\n",
    "#     # cost function\n",
    "#     model.add(Dense(1, activation='sigmoid'))\n",
    " \n",
    "#     ##### COMPILE #####\n",
    "#     model.compile(optimizer=optimizer(learning_rate), loss=loss, \n",
    "#                   metrics=metrics)\n",
    " \n",
    "#     return model"
   ]
  },
  {
   "cell_type": "code",
   "execution_count": null,
   "metadata": {},
   "outputs": [],
   "source": [
    "       \n",
    "#     print(\"FITTING\")\n",
    "#     history = model.fit_generator(batch_maker(X_train, y_train, batch_size), \n",
    "#                                   validation_data=validation_data, \n",
    "#                                   verbose=verbose, epochs=epochs, \n",
    "#                                   steps_per_epoch=steps_per_epoch)\n",
    "    "
   ]
  },
  {
   "cell_type": "markdown",
   "metadata": {},
   "source": [
    "# `Model 1`\n",
    "\n",
    "We'll begin creating a baseline model with a lower than usual learning rate and then speed things up and fine-tune parameters for optimization in the next iterations. (The lower learning rate will help to ensure convergence.) \n",
    "\n",
    "We'll increase the learning rate in Model2 iteration and also tune any other parameters as necessary. The first iteration uses the Adam optimizer, however, SGD is also a good option we could try here."
   ]
  },
  {
   "cell_type": "code",
   "execution_count": null,
   "metadata": {
    "ExecuteTime": {
     "end_time": "2020-04-29T20:24:24.786832Z",
     "start_time": "2020-04-29T20:24:24.625641Z"
    }
   },
   "outputs": [],
   "source": [
    "from spacekit import model\n",
    "from spacekit.model import Keras"
   ]
  },
  {
   "cell_type": "code",
   "execution_count": null,
   "metadata": {
    "ExecuteTime": {
     "end_time": "2020-04-29T20:26:14.940341Z",
     "start_time": "2020-04-29T20:24:24.798795Z"
    }
   },
   "outputs": [],
   "source": [
    "import \n",
    "m1 = Keras.build_CNN(X_train, X_test, y_train, y_test, kernel_size=11, \n",
    "                     activation='relu', input_shape=X_train.shape[1:], \n",
    "                     strides=4, optimizer=Adam, learning_rate=1e-5, \n",
    "                     loss='binary_crossentropy', metrics=['accuracy'])"
   ]
  },
  {
   "cell_type": "code",
   "execution_count": null,
   "metadata": {
    "ExecuteTime": {
     "end_time": "2020-04-29T19:50:50.522958Z",
     "start_time": "2020-04-29T19:50:50.519645Z"
    }
   },
   "outputs": [],
   "source": [
    "h1 = m1.fit_generator(validation_data=(X_test, y_test), verbose=2, epochs=5, \n",
    "                       steps_per_epoch=(X_train.shape[1]//32), batch_size=32)"
   ]
  },
  {
   "cell_type": "code",
   "execution_count": null,
   "metadata": {},
   "outputs": [],
   "source": [
    "m1.save_weights('')"
   ]
  },
  {
   "cell_type": "code",
   "execution_count": null,
   "metadata": {},
   "outputs": [],
   "source": [
    "# keras.callbacks.callbacks.ModelCheckpoint(filepath, monitor='val_loss', \n",
    "#                                           verbose=0, save_best_only=False, \n",
    "#                                           save_weights_only=False, \n",
    "#                                           mode='auto', period=1)"
   ]
  },
  {
   "cell_type": "code",
   "execution_count": null,
   "metadata": {},
   "outputs": [],
   "source": [
    "#     cnn = make_cnn(180)\n",
    "#     history = cnn.fit(X, y, batch_size=batch_size, epochs=nb_epoch,\n",
    "#               verbose=1, validation_split=0.0, validation_data=None)\n",
    "\n",
    "#     cnn.save_weights('tess_cnn1d.h5')\n",
    "\n",
    "#     score = cnn.evaluate(X, y, verbose=1)\n",
    "#     fn,fp = pn_rates(cnn,X,y)\n",
    "#     print('\\nTrain loss:', score[0])\n",
    "#     print('Train accuracy:', score[1])\n",
    "#     print('Train FP:',fp)\n",
    "#     print('Train FN:',fn)"
   ]
  },
  {
   "cell_type": "markdown",
   "metadata": {},
   "source": [
    "## Summary (M1)"
   ]
  },
  {
   "cell_type": "code",
   "execution_count": null,
   "metadata": {
    "ExecuteTime": {
     "end_time": "2020-04-29T20:40:29.495243Z",
     "start_time": "2020-04-29T20:40:28.899849Z"
    }
   },
   "outputs": [],
   "source": [
    "m1.summary()"
   ]
  },
  {
   "cell_type": "markdown",
   "metadata": {},
   "source": [
    "## Evaluate (M1)\n",
    "\n",
    "Let's assess the model thus far before tuning parameters. We'll create a few helper functions for calculating metrics and analyzing results visually. "
   ]
  },
  {
   "cell_type": "markdown",
   "metadata": {},
   "source": [
    "## Class Predictions\n",
    "\n",
    "\n",
    "\n",
    "=======================\n",
    "Probability calibration : `sklearn.calibration` / *non-parametric isotonic calibration*\n",
    "\n",
    "When performing classification you often want not only to predict the class\n",
    "label, but also obtain a probability of the respective label. This probability\n",
    "gives you some kind of confidence on the prediction. Some models can give you\n",
    "poor estimates of the class probabilities and some even do not support\n",
    "probability prediction. The calibration module allows you to better calibrate\n",
    "the probabilities of a given model, or to add support for probability\n",
    "prediction.\n",
    "\n",
    "Well calibrated classifiers are probabilistic classifiers for which the output\n",
    "of the predict_proba method can be directly interpreted as a confidence level.\n",
    "For instance, a well calibrated (binary) classifier should classify the samples\n",
    "such that among the samples to which it gave a predict_proba value close to 0.8,\n",
    "approximately 80% actually belong to the positive class."
   ]
  },
  {
   "cell_type": "code",
   "execution_count": null,
   "metadata": {
    "ExecuteTime": {
     "end_time": "2020-04-29T20:49:05.274231Z",
     "start_time": "2020-04-29T20:49:05.271015Z"
    }
   },
   "outputs": [],
   "source": [
    "from spacekit import metriks\n",
    "from spacekit.metriks import Metriks"
   ]
  },
  {
   "cell_type": "code",
   "execution_count": null,
   "metadata": {
    "ExecuteTime": {
     "end_time": "2020-04-29T20:35:23.138936Z",
     "start_time": "2020-04-29T20:35:19.434152Z"
    }
   },
   "outputs": [],
   "source": [
    "y_true, y_pred = metriks.Metriks.get_preds(X_test,y_test,store=False,\n",
    "                                           model=m1,verbose=True)"
   ]
  },
  {
   "cell_type": "code",
   "execution_count": null,
   "metadata": {
    "ExecuteTime": {
     "end_time": "2020-04-29T20:39:31.948714Z",
     "start_time": "2020-04-29T20:39:31.944418Z"
    }
   },
   "outputs": [],
   "source": [
    "train_fn, train_fp = metriks.Metriks.fnfp(m1,X_train,y_train)\n",
    "print(train_fn, train_fp)"
   ]
  },
  {
   "cell_type": "code",
   "execution_count": null,
   "metadata": {
    "ExecuteTime": {
     "end_time": "2020-04-29T20:39:51.206968Z",
     "start_time": "2020-04-29T20:39:50.057675Z"
    }
   },
   "outputs": [],
   "source": [
    "test_fn, test_fp = metriks.Metriks.fnfp(m1,X_test,y_test)\n",
    "print(test_fn, test_fp)"
   ]
  },
  {
   "cell_type": "code",
   "execution_count": null,
   "metadata": {
    "ExecuteTime": {
     "end_time": "2020-04-29T20:53:59.822041Z",
     "start_time": "2020-04-29T20:53:59.819419Z"
    }
   },
   "outputs": [],
   "source": [
    "# y_hat = m1.predict(X_test)\n",
    "# roc = Metriks.roc_plots(y_test, y_hat)\n"
   ]
  },
  {
   "cell_type": "markdown",
   "metadata": {},
   "source": [
    "### Classification Report\n",
    "\n",
    "Sci-kit learn has a nice built-in method for evaluating our model:"
   ]
  },
  {
   "cell_type": "code",
   "execution_count": null,
   "metadata": {
    "ExecuteTime": {
     "end_time": "2020-04-29T20:54:15.253953Z",
     "start_time": "2020-04-29T20:54:15.240834Z"
    }
   },
   "outputs": [],
   "source": [
    "from sklearn import metrics\n",
    "from sklearn.metrics import accuracy_score, f1_score, recall_score\n",
    "\n",
    "report = metrics.classification_report(y_test,y_pred)\n",
    "print(report)"
   ]
  },
  {
   "cell_type": "markdown",
   "metadata": {},
   "source": [
    "### Interpret Scores\n",
    "With only 5 epochs, the model performed high in precision. However, because this such an imbalanced dataset, recall is a more critical metric and this could definitely be improved (0.70). We'll tune some of the hyperparameters, specifically adjusting the learning rate and increasing the number of epochs up to 40. "
   ]
  },
  {
   "cell_type": "markdown",
   "metadata": {},
   "source": [
    "While 79% is far from optimal, we have to look at some other metrics such as recall and F1 to make a true assessment of the model's accuracy. These other metrics are especially important when working with highly imbalanced classes."
   ]
  },
  {
   "cell_type": "markdown",
   "metadata": {},
   "source": [
    "### History Metrics\n",
    "\n",
    "The baseline model is not meant to give us optimal results - the real test will be in our final model below. First let's take a look at some of the visuals to understand what the scores really mean. This will help us decide how to proceed in tuning the model appropriately."
   ]
  },
  {
   "cell_type": "code",
   "execution_count": null,
   "metadata": {
    "ExecuteTime": {
     "end_time": "2020-04-29T20:48:39.225803Z",
     "start_time": "2020-04-29T20:48:39.222674Z"
    }
   },
   "outputs": [],
   "source": [
    "#Metriks.keras_history(model=m1, history=h1.history)"
   ]
  },
  {
   "cell_type": "code",
   "execution_count": null,
   "metadata": {
    "ExecuteTime": {
     "end_time": "2020-04-29T20:58:30.349781Z",
     "start_time": "2020-04-29T20:58:30.338297Z"
    },
    "code_folding": [
     0
    ]
   },
   "outputs": [],
   "source": [
    "# def keras_history(history,figsize=(10,4),subplot_kws={}):\n",
    "#     if hasattr(history,'history'):\n",
    "#         history=history.history\n",
    "#     figsize=(10,4)\n",
    "#     subplot_kws={}\n",
    "\n",
    "#     acc_keys = list(filter(lambda x: 'acc' in x,history.keys()))\n",
    "#     loss_keys = list(filter(lambda x: 'loss' in x,history.keys()))\n",
    "\n",
    "#     fig,axes=plt.subplots(ncols=2,figsize=figsize,**subplot_kws)\n",
    "#     axes = axes.flatten()\n",
    "\n",
    "#     y_labels= ['Accuracy','Loss']\n",
    "#     for a, metric in enumerate([acc_keys,loss_keys]):\n",
    "#         for i in range(len(metric)):\n",
    "#             ax = pd.Series(history[metric[i]],\n",
    "#                         name=metric[i]).plot(ax=axes[a],label=metric[i])\n",
    "#     [ax.legend() for ax in axes]\n",
    "#     [ax.xaxis.set_major_locator(mpl.ticker.MaxNLocator(integer=True)) for ax in axes]\n",
    "#     [ax.set(xlabel='Epochs') for ax in axes]\n",
    "#     plt.suptitle('Model Training Results',y=1.01)\n",
    "#     plt.tight_layout()\n",
    "#     plt.show()"
   ]
  },
  {
   "cell_type": "markdown",
   "metadata": {},
   "source": [
    "With only a few epochs, and a small learning rate, it's obvious that our training parameters has room for improvement. This is good - we will definitely need to adjust the learning rate. If that doesn't go far enough in producing desired results, we can also try using a different optimizer such as SGD instead of Adam. For now let's lok at what the predictions actually were in plain terms."
   ]
  },
  {
   "cell_type": "markdown",
   "metadata": {},
   "source": [
    "## Confusion Matrix"
   ]
  },
  {
   "cell_type": "markdown",
   "metadata": {},
   "source": [
    "As always, it is much easier to interpret these numbers in a plot! Better yet, build a function for the plot for reuse later on:"
   ]
  },
  {
   "cell_type": "code",
   "execution_count": null,
   "metadata": {
    "ExecuteTime": {
     "end_time": "2020-04-29T20:50:38.758758Z",
     "start_time": "2020-04-29T20:50:38.486182Z"
    }
   },
   "outputs": [],
   "source": [
    "fusion1 = Metriks.fusion_matrix(matrix=(y_true,y_pred), classes=None, normalize=False, \n",
    "                      title='Fusion Matrix', cmap='Blues',print_raw=False,\n",
    "                      figsize=(7,8))"
   ]
  },
  {
   "cell_type": "markdown",
   "metadata": {},
   "source": [
    "Our baseline model missed three planets/TCEs in the test set, while incorrectly classifying 169 non-TCEs as TCE/planet positive. This is what 80% accuracy gives us."
   ]
  },
  {
   "cell_type": "markdown",
   "metadata": {},
   "source": [
    "## ROC AUC\n",
    "\n",
    "Plot the ROC area under the curve"
   ]
  },
  {
   "cell_type": "code",
   "execution_count": null,
   "metadata": {
    "ExecuteTime": {
     "end_time": "2020-04-29T20:55:23.969936Z",
     "start_time": "2020-04-29T20:55:23.960352Z"
    },
    "code_folding": [
     0
    ]
   },
   "outputs": [],
   "source": [
    "# def roc_plots(y_test, y_hat):\n",
    "#     from sklearn import metrics\n",
    "#     from sklearn.metrics import roc_curve, roc_auc_score, accuracy_score\n",
    "#     y_true = (y_test[:, 0] + 0.5).astype(\"int\")   \n",
    "#     fpr, tpr, thresholds = roc_curve(y_true, y_hat) \n",
    "#     fpr, tpr, thresholds = roc_curve(y_true, y_hat)\n",
    "\n",
    "#     # Threshold Cutoff for predictions\n",
    "#     crossover_index = np.min(np.where(1.-fpr <= tpr))\n",
    "#     crossover_cutoff = thresholds[crossover_index]\n",
    "#     crossover_specificity = 1.-fpr[crossover_index]\n",
    "#     #print(\"Crossover at {0:.2f} with specificity {1:.2f}\".format(crossover_cutoff, crossover_specificity))\n",
    "    \n",
    "#     plt.plot(thresholds, 1.-fpr)\n",
    "#     plt.plot(thresholds, tpr)\n",
    "#     plt.title(\"Crossover at {0:.2f} with specificity {1:.2f}\".format(crossover_cutoff, crossover_specificity))\n",
    "\n",
    "#     plt.show()\n",
    "\n",
    "\n",
    "#     plt.plot(fpr, tpr)\n",
    "#     plt.title(\"ROC area under curve is {0:.2f}\".format(roc_auc_score(y_true, y_hat)))\n",
    "#     plt.show()\n",
    "    \n",
    "#     score = roc_auc_score(y_true,y_hat)\n",
    "#     print(\"ROC_AUC SCORE:\",score)\n",
    "#     #print(\"ROC area under curve is {0:.2f}\".format(roc_auc_score(y_true, y_hat)))"
   ]
  },
  {
   "cell_type": "code",
   "execution_count": null,
   "metadata": {
    "ExecuteTime": {
     "end_time": "2020-04-29T20:55:36.006196Z",
     "start_time": "2020-04-29T20:55:35.276432Z"
    },
    "run_control": {
     "marked": false
    }
   },
   "outputs": [],
   "source": [
    "roc = Metriks.roc_plots(y_test, y_hat)"
   ]
  },
  {
   "cell_type": "markdown",
   "metadata": {},
   "source": [
    "# `Model 2`\n",
    "\n",
    "Revising the function for training the model and tuning just two parameters: adjust learning rate to 4e-3, and increase epochs to 40. "
   ]
  },
  {
   "cell_type": "markdown",
   "metadata": {},
   "source": [
    "## Tuning Parameters\n",
    "\n",
    "This time we will create dictionaries for plugging in parameters to the model. We could do a grid search, or more likely, a randomsearch from sklearn to find the optimal parameters, but for now let's finish building the function to take in the parameter dictionaries with an adjusted learning rate."
   ]
  },
  {
   "cell_type": "code",
   "execution_count": null,
   "metadata": {
    "ExecuteTime": {
     "end_time": "2020-04-29T21:13:22.574226Z",
     "start_time": "2020-04-29T21:02:07.852552Z"
    },
    "code_folding": [],
    "run_control": {
     "marked": false
    }
   },
   "outputs": [],
   "source": [
    "#### MODEL 2 \n",
    "# adjust learning rate to 4e-3\n",
    "# increase number of epochs to 40\n",
    "m2,h2 = Keras.build_CNN(X_train,X_test,y_train,y_test,kernel_size=11, \n",
    "                        activation='relu', input_shape=X_train.shape[1:], \n",
    "                        strides=4, optimizer=Adam, learning_rate=4e-3,\n",
    "                        loss='binary_crossentropy', metrics=['accuracy'], \n",
    "                        validation_data=(X_test, y_test), verbose=2, epochs=40, \n",
    "                        steps_per_epoch=(X_train.shape[1]//32), batch_size=32)"
   ]
  },
  {
   "cell_type": "markdown",
   "metadata": {},
   "source": [
    "## Summary (M2)"
   ]
  },
  {
   "cell_type": "code",
   "execution_count": null,
   "metadata": {
    "ExecuteTime": {
     "end_time": "2020-04-29T21:13:33.619405Z",
     "start_time": "2020-04-29T21:13:32.912244Z"
    }
   },
   "outputs": [],
   "source": [
    "m2.summary()"
   ]
  },
  {
   "cell_type": "markdown",
   "metadata": {},
   "source": [
    "## Evaluate M2"
   ]
  },
  {
   "cell_type": "code",
   "execution_count": null,
   "metadata": {
    "ExecuteTime": {
     "end_time": "2020-04-29T21:42:07.844551Z",
     "start_time": "2020-04-29T21:42:07.804727Z"
    },
    "code_folding": [
     64
    ]
   },
   "outputs": [],
   "source": [
    "from spacekit import computer\n",
    "\n"
   ]
  },
  {
   "cell_type": "code",
   "execution_count": null,
   "metadata": {
    "ExecuteTime": {
     "end_time": "2020-04-29T21:42:44.317804Z",
     "start_time": "2020-04-29T21:42:42.826399Z"
    }
   },
   "outputs": [],
   "source": [
    "# score2 = Metriks.score(X_test, y_test, model=m2)\n",
    "score_m2 = evaluator(X_test, y_test, model=m2, hist=h2)"
   ]
  },
  {
   "cell_type": "markdown",
   "metadata": {},
   "source": [
    "# `MODEL 3`\n",
    "\n",
    "Let's compare the performance of Model 2 with another optimizer, SGD."
   ]
  },
  {
   "cell_type": "code",
   "execution_count": null,
   "metadata": {
    "ExecuteTime": {
     "end_time": "2020-04-29T21:59:09.817888Z",
     "start_time": "2020-04-29T21:47:45.050384Z"
    }
   },
   "outputs": [],
   "source": [
    "from keras.optimizers import SGD\n",
    "\n",
    "#### MODEL 3\n",
    "# adjust learning rate to 4e-3\n",
    "# increase number of epochs to 40\n",
    "m3,h3 = Keras.build_CNN(X_train,X_test,y_train,y_test,kernel_size=11, \n",
    "                        activation='relu', input_shape=X_train.shape[1:], \n",
    "                        strides=4, optimizer=SGD, learning_rate=4e-3,\n",
    "                        loss='binary_crossentropy', metrics=['accuracy'], \n",
    "                        validation_data=(X_test, y_test), verbose=2, epochs=40, \n",
    "                        steps_per_epoch=(X_train.shape[1]//32), batch_size=32)"
   ]
  },
  {
   "cell_type": "code",
   "execution_count": null,
   "metadata": {
    "ExecuteTime": {
     "end_time": "2020-04-29T22:04:46.663008Z",
     "start_time": "2020-04-29T22:04:45.111628Z"
    }
   },
   "outputs": [],
   "source": [
    "m3.summary()"
   ]
  },
  {
   "cell_type": "markdown",
   "metadata": {},
   "source": [
    "# Interpret Results"
   ]
  },
  {
   "cell_type": "markdown",
   "metadata": {},
   "source": [
    "## Conclusion\n",
    "\n",
    "Above, we were able to identify with 99% accuracy 5 of 5 stars that have an exoplanet in their orbit. The model incorrectly predicted just 3 stars as being a planet host / threshold crossing event when they were in fact not."
   ]
  },
  {
   "cell_type": "markdown",
   "metadata": {},
   "source": [
    "# Recommendations\n",
    "\n",
    "While it is possible to create a near-perfect classification model for detecting exoplanets using the raw flux values of an imbalanced data set, the model would benefit from further validation using additional data from either K2 or another telescope such as TESS. One issue with this model is that it doesn't reveal how it makes the decision on each prediction, an insight that would be extremely useful for astrophysicists and for developing and improving the model itself. A better, more robust and useful model, therefore, would be one which gives such insight without sacrificing accuracy or recall. \n",
    "\n",
    "My recommendations are the following:\n",
    "\n",
    "   1. Use datasets from the MAST website (via API) to incorporate other calculations of the star's properties as features to be used for classification algorithms. Furthermore, attempt other types of transformations and normalizations on the data before running the model - for instance, apply Fourier transform and phase folding.\n",
    "\n",
    "   2. Combine data from multiple campaigns and perhaps even multiple telescopes (for instance, matching sky coordinates and time intervals between K2, Kepler, and TESS for a batch of stars that have overlapping observations - this would be critical for finding transit periods that are longer than the campaigns of a single telecope's observation period).\n",
    "\n",
    "   3. Explore using computer vision on not only the Full Frame images we can collect from telescopes like TESS, but also on spectographs of the flux values themselves. The beauty of machine learning is our ability to rely on the computer to pick up very small nuances in differences that we ourselves cannot see with our own eyes. \n",
    "   \n",
    "   4. Explore using autoencoded machine learning algorithms with Restricted Boltzmann Machines - this type of model has proven to be incredibly effective in the image analysis of handwriting as we've seen applied the MNIST dataset - let's find out if the same is true for images of stars, be they the Full Frame Images or spectographs."
   ]
  },
  {
   "cell_type": "markdown",
   "metadata": {},
   "source": [
    "# Future Work\n",
    "\n",
    "To continue this project, I'll take another approach for detecting exoplanets using computer vision to analyze images of spectographs of this same star flux data set. In part II (notebook `[starskøpe-2]`) I use Restricted Boltzmann Machines on Fourier-transformed spectograph images of the Flux data for K2. These are then stacked on top of each other as layers in a Deep Boltzmann Machine neural network. In part III (notebook `[starskøpe-3]`) I will apply a similar technique using data from TESS."
   ]
  },
  {
   "cell_type": "code",
   "execution_count": null,
   "metadata": {},
   "outputs": [],
   "source": []
  }
 ],
 "metadata": {
  "file_extension": ".py",
  "kernelspec": {
   "display_name": "learn-env",
   "language": "python",
   "name": "learn-env"
  },
  "language_info": {
   "codemirror_mode": {
    "name": "ipython",
    "version": 3
   },
   "file_extension": ".py",
   "mimetype": "text/x-python",
   "name": "python",
   "nbconvert_exporter": "python",
   "pygments_lexer": "ipython3",
   "version": "3.7.4"
  },
  "latex_envs": {
   "LaTeX_envs_menu_present": true,
   "autoclose": false,
   "autocomplete": true,
   "bibliofile": "biblio.bib",
   "cite_by": "apalike",
   "current_citInitial": 1,
   "eqLabelWithNumbers": true,
   "eqNumInitial": 1,
   "hotkeys": {
    "equation": "Ctrl-E",
    "itemize": "Ctrl-I"
   },
   "labels_anchors": false,
   "latex_user_defs": false,
   "report_style_numbering": false,
   "user_envs_cfg": false
  },
  "mimetype": "text/x-python",
  "name": "python",
  "npconvert_exporter": "python",
  "pygments_lexer": "ipython3",
  "toc": {
   "base_numbering": 1,
   "nav_menu": {},
   "number_sections": false,
   "sideBar": true,
   "skip_h1_title": false,
   "title_cell": "Table of Contents",
   "title_sidebar": "Contents",
   "toc_cell": false,
   "toc_position": {
    "height": "766px",
    "left": "65px",
    "top": "110px",
    "width": "209.797px"
   },
   "toc_section_display": true,
   "toc_window_display": true
  },
  "varInspector": {
   "cols": {
    "lenName": 16,
    "lenType": 16,
    "lenVar": 40
   },
   "kernels_config": {
    "python": {
     "delete_cmd_postfix": "",
     "delete_cmd_prefix": "del ",
     "library": "var_list.py",
     "varRefreshCmd": "print(var_dic_list())"
    },
    "r": {
     "delete_cmd_postfix": ") ",
     "delete_cmd_prefix": "rm(",
     "library": "var_list.r",
     "varRefreshCmd": "cat(var_dic_list()) "
    }
   },
   "position": {
    "height": "750px",
    "left": "918px",
    "right": "20px",
    "top": "120px",
    "width": "456px"
   },
   "types_to_exclude": [
    "module",
    "function",
    "builtin_function_or_method",
    "instance",
    "_Feature"
   ],
   "window_display": false
  },
  "version": 3
 },
 "nbformat": 4,
 "nbformat_minor": 2
}
