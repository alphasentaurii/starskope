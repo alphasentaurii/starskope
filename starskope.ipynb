{
 "cells": [
  {
   "cell_type": "markdown",
   "metadata": {},
   "source": [
    "# `STARSKØPE`\n",
    "\n",
    "\n",
    "\n",
    "**Building a Cyberoptic Artificial Telescope for Astrophysical Object Classification**\n",
    "\n",
    "> Flatiron School Capstone Project\n",
    "* `Author: Ru Keïn`\n",
    "* `Instructor: James Irving PhD`\n",
    "* `Data Science Full-Time Program`\n",
    "* `Blog post:` http://www.hakkeray.com/datascience/2020/03/22/planetX-hunter-classification-algorithms.html\n",
    "* `Non-Technical Presentation`: Datascience-CAPSTONE-starskope.pdf"
   ]
  },
  {
   "cell_type": "markdown",
   "metadata": {},
   "source": [
    "    Note: this project is divided into 3 notebooks:\n",
    "\n",
    "    starskøpe I : Binary Classification of K2 Timeseries Photometry Data using a Convolutional Neural Network (CNN)\n",
    "    starskøpe II: Autoencoding Restricted Boltzmann Machines for Image Classification of Raw Spectographs\n",
    "    starskøpe III: Stacking RBMs into single robust Deep Boltzmann Machine"
   ]
  },
  {
   "cell_type": "markdown",
   "metadata": {},
   "source": [
    "# Mission Brief\n",
    "\n",
    "## ABSTRACT\n",
    "\n",
    "> \"Mathematicians [...] are often led astray when 'studying' physics because they lose sight of the physics. \n",
    "They say: *'Look, these differential equations--the Maxwell equations--are all there is to electrodynamics; it is admitted by the physicists that there is nothing which is not contained in the equations. The equations are complicated, but after all they are only mathematical equations and if I understand them mathematically inside out, I will understand the physics inside out.'* Only it doesn't work that way. Mathematicians who study physics with that point of view--and there have been many of them--usually make little contribution to physics and, in fact, little to mathematics. They fail because the actual physical situations in the real world are so complicated that it is necessary to have a much broader understanding of the equations.\"\n",
    "**-Richard Feynman, *The Feynman Lectures on Physics: Volume 2*, Chapter 2-1: \"Differential Calculus of Vector Fields\"**\n",
    "\n",
    "---\n",
    "\n",
    "**INTRODUCTION**\n",
    "One of the reasons I quote Mr. Feynman above is because I set out to work on this project with only one year of high school physics under my belt. Despite loving the subject and even getting an A- in that one class, for some reason I did not continue pursuing physics while in school. I bought the Feynman lectures a few years back (on a whim? who does that?) and as soon as I began preparing for this project I felt intuitively that it would be somewhat ridiculous for me to build neural networks for classifying astrophysical data if I didn't fully grasp how and why the equations used to calculate my findings actually work.  \n",
    "\n",
    "**QUESTIONS**\n",
    "The specific questions this project seeks to answer are as follows: \n",
    "\n",
    "    1. Can a transiting exoplanet be detected strictly by analyzing the raw flux values of a given star? \n",
    "    \n",
    "    2. What is the best approach for pre-processing photometric timeseries data and what are some of the issues we might encounter in choosing how the data is prepared for classification modeling?\n",
    "    \n",
    "    3. How much signal-to-noise ratio is too much? That is, if the classes are highly imbalanced, for instance only a few planets can be confirmed out of thousands of stars, does the imbalance make for an unreliable or inaccurate model? \n",
    "    4. How do we test and validate that?\n",
    "  \n",
    "\n",
    "**DATASET**\n",
    "To answer the above questions, I started the analysis with a small labeled timeseries dataset from Kaggle posted by NASA several years ago. The reason I chose this particular dataset is because in terms of the type of information we typically need to know in order to solve a physics problem -- the primary one being UNITS, otherwise it's a math problem! -- this one is barren. The author who posted the dataset (`Winter Delta` or `W∆`) does however give us a few hints on how we *could* determine the units, and the dimensions, and a lot of other important physics-related information, if we do a little research. The biggest hint is that this dataset is from the K2 space telescope's Campaign 3 observations in which only 42 confirmed exoplanets are detected in a set of over 5,000 stars. Looking at the dataset on its own (before doing any digging), we are given little information about how long the time period covers, and we know do not know what the time intervals between flux values are. So far, this has not stopped any data scientists from attempting to tackle the classification model without gathering any additional information. \n",
    "\n",
    "**MODEL**\n",
    "To answer the question, I first set out to build a model for the data as is, \"sans-physics\". The baseline model is a neural network using the Keras API in a sci-kit learn wrapper.  \n",
    "\n",
    "**RESULTS**\n",
    "I was able to identify with 99% accuracy the handful of stars (5) in the test dataset that have a confirmed exoplanet in their orbit. \n",
    "\n",
    "**CONCLUSION**\n",
    "This baseline model is mathematically accurate, but it does not \"understand physics\". The conclusion we need to make about the model is whether or not this lack of physics embedded in the training process (or even pre-training process) is acceptable or not.\n",
    "\n",
    "While it is possible to create a 99% accurate machine learning model for detecting exoplanets using the raw flux values, without any sense of the actual time intervals, and with a highly imbalanced data set (imbalanced meaning only a few positive examples in a sea of negatives) - it is unclear that we can \"get away with\" this in every case. Furthermore, it is unlikely that could feel completely sure that we aren't missing out on critical information - such as detecting the existence of an earth-like exoplanet transiting a star - if we don't use our understanding of physics to further de-noise, normalize, and scale the data before training the model (and possibly even embed this into a pre-training phase). As a case in point, if you read any of the space telescope handbooks, you will quickly learn just how complex the instruments that are producng this data are, and that the way their technology works, when and where in the sky they were pointing, as well as what actually happened during their missions, you'd know that should all probably be taken into account in your model! The K2 data in particular, for instance, has a unique issue that every so often its thrusters would fire to adjust/maintain its position in the sky, causing data at multiple points to be completely useless. \n",
    "\n",
    "*Why that matters...*\n",
    "This type of noise cannot be removed without knowing what exact times the thrusters fired, as well as what times each of the observations of the dataset occurred. Even if we do manage to throw the bad data out, we are still stuck with the problem of not having any data for that time period, and once again might miss our potential planet's threshold crossing event! If we know where and when those missing pieces occur, we could use that to collect our missing data from another telescope like TESS, which has overlapping targets of observation. A model that can combine data from two different space telescopes, and be smart enough to know based on the telescope it came from how to handle the data, would make truly accurate predictions, and much more useful classifications. \n",
    "\n",
    "*What we can do about that...*\n",
    "This is the type of model I will set out to build in my future work. This is what we would call a cyberoptic artificial telescope - one that can aggregate large datasets from multiple missions and give us a more accurate, more detailed picture of the stars and planets than what we have available to us in the limited view of a single picture from a single telescope at a single point in time. This is the vision for *STARSKØPE* which will come out of this project.\n",
    "\n",
    "**RECOMMENDATIONS**\n",
    "My recommendations are the following:\n",
    "\n",
    "   1. Use datasets from the MAST website (via API) to incorporate other calculations of the star's properties as features to be used for classification algorithms. Furthermore, attempt other types of transformations and normalizations on the data before running the model - for instance, apply a Fourier transform.\n",
    "\n",
    "   2. Combine data from multiple campaigns and perhaps even multiple telescopes (for instance, matching sky coordinates and time intervals between K2, Kepler, and TESS for a batch of stars that have overlapping observations - this would be critical for finding transit periods that are longer than the campaigns of a single telecope's observation period).\n",
    "\n",
    "   3. Explore using computer vision on not only the Full Frame images we can collect from telescopes like TESS, but also on spectographs of the flux values themselves. The beauty of machine learning is our ability to rely on the computer to pick up very small nuances in differences that we ourselves cannot see with our own eyes. \n",
    "   \n",
    "   4. Explore using autoencoded machine learning algorithms with Restricted Boltzmann Machines - this type of model has proven to be incredibly effective in the image analysis of handwriting as we've seen applied the MNIST dataset - let's find out if the same is true for images of stars, be they the Full Frame Images or spectographs.\n",
    "\n",
    "**FUTURE WORK**\n",
    "To continue this project, I'll take another approach for detecting exoplanets using computer vision to analyze images of spectographs of this same star flux data set. Please go to the notebook `[starskøpe-2]` to see how I use a Restricted Boltzmann Machines neural network model to classify stars as exoplanet hosts using spectograph images of the flux values to find transiting exoplanets. Following this, I will apply the same algorithm to spectographs of Fourier transformed data, as you will see in `[starskøpe-3]`. \n",
    "\n",
    "Additional future work following this project will be to develop my \"cyberoptic artificial telescope\" as a machine learning driven application that any astrophysicist can use to look at a single or collection of stars and have the model classify them according not only to exoplanet predictions, but also predict what type of star it is, and other key properties that would be of interest for astrophysical science applications.\n"
   ]
  },
  {
   "cell_type": "markdown",
   "metadata": {},
   "source": [
    "# Obtain\n",
    "\n",
    "Begin by importing libraries and code packages for basic analysis, as well as the kaggle dataset."
   ]
  },
  {
   "cell_type": "code",
   "execution_count": 1,
   "metadata": {
    "ExecuteTime": {
     "end_time": "2020-04-17T08:37:43.628970Z",
     "start_time": "2020-04-17T08:37:41.687557Z"
    }
   },
   "outputs": [],
   "source": [
    "# Import code packages and libraries\n",
    "import numpy as np\n",
    "import pandas as pd\n",
    "import matplotlib as mpl\n",
    "%matplotlib inline\n",
    "from matplotlib.colors import LogNorm\n",
    "\n",
    "import seaborn as sns\n",
    "sns.set_style('whitegrid')\n",
    "import matplotlib.pyplot as plt\n",
    "plt.style.use('seaborn-bright')\n",
    " \n",
    "\n",
    "font_dict={'family':'\"Titillium Web\", monospace','size':16}\n",
    "mpl.rc('font',**font_dict)\n",
    "\n",
    "\n",
    "#ignore pink warnings\n",
    "import warnings\n",
    "warnings.filterwarnings('ignore')\n",
    "# Allow for large # columns\n",
    "pd.set_option('display.max_columns', 0)\n",
    "# pd.set_option('display.max_rows','')"
   ]
  },
  {
   "cell_type": "code",
   "execution_count": 2,
   "metadata": {
    "ExecuteTime": {
     "end_time": "2020-04-18T06:41:25.140010Z",
     "start_time": "2020-04-18T06:41:24.889979Z"
    }
   },
   "outputs": [
    {
     "name": "stdout",
     "output_type": "stream",
     "text": [
      "fsds_1007219  v0.7.20 loaded.  Read the docs: https://fsds.readthedocs.io/en/latest/ \n"
     ]
    },
    {
     "data": {
      "text/html": [
       "<style  type=\"text/css\" >\n",
       "</style><table id=\"T_b48cb960_88e4_11ea_8f16_14109fdfaded\" ><caption>Loaded Packages and Handles</caption><thead>    <tr>        <th class=\"col_heading level0 col0\" >Handle</th>        <th class=\"col_heading level0 col1\" >Package</th>        <th class=\"col_heading level0 col2\" >Description</th>    </tr></thead><tbody>\n",
       "                <tr>\n",
       "                                <td id=\"T_b48cb960_88e4_11ea_8f16_14109fdfadedrow0_col0\" class=\"data row0 col0\" >dp</td>\n",
       "                        <td id=\"T_b48cb960_88e4_11ea_8f16_14109fdfadedrow0_col1\" class=\"data row0 col1\" >IPython.display</td>\n",
       "                        <td id=\"T_b48cb960_88e4_11ea_8f16_14109fdfadedrow0_col2\" class=\"data row0 col2\" >Display modules with helpful display and clearing commands.</td>\n",
       "            </tr>\n",
       "            <tr>\n",
       "                                <td id=\"T_b48cb960_88e4_11ea_8f16_14109fdfadedrow1_col0\" class=\"data row1 col0\" >fs</td>\n",
       "                        <td id=\"T_b48cb960_88e4_11ea_8f16_14109fdfadedrow1_col1\" class=\"data row1 col1\" >fsds_100719</td>\n",
       "                        <td id=\"T_b48cb960_88e4_11ea_8f16_14109fdfadedrow1_col2\" class=\"data row1 col2\" >Custom data science bootcamp student package</td>\n",
       "            </tr>\n",
       "            <tr>\n",
       "                                <td id=\"T_b48cb960_88e4_11ea_8f16_14109fdfadedrow2_col0\" class=\"data row2 col0\" >mpl</td>\n",
       "                        <td id=\"T_b48cb960_88e4_11ea_8f16_14109fdfadedrow2_col1\" class=\"data row2 col1\" >matplotlib</td>\n",
       "                        <td id=\"T_b48cb960_88e4_11ea_8f16_14109fdfadedrow2_col2\" class=\"data row2 col2\" >Matplotlib's base OOP module with formatting artists</td>\n",
       "            </tr>\n",
       "            <tr>\n",
       "                                <td id=\"T_b48cb960_88e4_11ea_8f16_14109fdfadedrow3_col0\" class=\"data row3 col0\" >plt</td>\n",
       "                        <td id=\"T_b48cb960_88e4_11ea_8f16_14109fdfadedrow3_col1\" class=\"data row3 col1\" >matplotlib.pyplot</td>\n",
       "                        <td id=\"T_b48cb960_88e4_11ea_8f16_14109fdfadedrow3_col2\" class=\"data row3 col2\" >Matplotlib's matlab-like plotting module</td>\n",
       "            </tr>\n",
       "            <tr>\n",
       "                                <td id=\"T_b48cb960_88e4_11ea_8f16_14109fdfadedrow4_col0\" class=\"data row4 col0\" >np</td>\n",
       "                        <td id=\"T_b48cb960_88e4_11ea_8f16_14109fdfadedrow4_col1\" class=\"data row4 col1\" >numpy</td>\n",
       "                        <td id=\"T_b48cb960_88e4_11ea_8f16_14109fdfadedrow4_col2\" class=\"data row4 col2\" >scientific computing with Python</td>\n",
       "            </tr>\n",
       "            <tr>\n",
       "                                <td id=\"T_b48cb960_88e4_11ea_8f16_14109fdfadedrow5_col0\" class=\"data row5 col0\" >pd</td>\n",
       "                        <td id=\"T_b48cb960_88e4_11ea_8f16_14109fdfadedrow5_col1\" class=\"data row5 col1\" >pandas</td>\n",
       "                        <td id=\"T_b48cb960_88e4_11ea_8f16_14109fdfadedrow5_col2\" class=\"data row5 col2\" >High performance data structures and tools</td>\n",
       "            </tr>\n",
       "            <tr>\n",
       "                                <td id=\"T_b48cb960_88e4_11ea_8f16_14109fdfadedrow6_col0\" class=\"data row6 col0\" >sns</td>\n",
       "                        <td id=\"T_b48cb960_88e4_11ea_8f16_14109fdfadedrow6_col1\" class=\"data row6 col1\" >seaborn</td>\n",
       "                        <td id=\"T_b48cb960_88e4_11ea_8f16_14109fdfadedrow6_col2\" class=\"data row6 col2\" >High-level data visualization library based on matplotlib</td>\n",
       "            </tr>\n",
       "    </tbody></table>"
      ],
      "text/plain": [
       "<pandas.io.formats.style.Styler at 0x1c1ca97e10>"
      ]
     },
     "metadata": {},
     "output_type": "display_data"
    },
    {
     "data": {
      "text/html": [
       "        <script type=\"text/javascript\">\n",
       "        window.PlotlyConfig = {MathJaxConfig: 'local'};\n",
       "        if (window.MathJax) {MathJax.Hub.Config({SVG: {font: \"STIX-Web\"}});}\n",
       "        if (typeof require !== 'undefined') {\n",
       "        require.undef(\"plotly\");\n",
       "        requirejs.config({\n",
       "            paths: {\n",
       "                'plotly': ['https://cdn.plot.ly/plotly-latest.min']\n",
       "            }\n",
       "        });\n",
       "        require(['plotly'], function(Plotly) {\n",
       "            window._Plotly = Plotly;\n",
       "        });\n",
       "        }\n",
       "        </script>\n",
       "        "
      ]
     },
     "metadata": {},
     "output_type": "display_data"
    },
    {
     "name": "stdout",
     "output_type": "stream",
     "text": [
      "[i] Pandas .iplot() method activated.\n"
     ]
    }
   ],
   "source": [
    "# fsds_1007219  v0.7.20 loaded.  Read the docs: https://fsds.readthedocs.io/en/latest/ \n",
    "#!pip install fsds_100719\n",
    "import fsds_100719\n",
    "from fsds_100719.imports import *"
   ]
  },
  {
   "cell_type": "markdown",
   "metadata": {},
   "source": [
    "Import dataset which has already been split into train and test sets, `exoTrain.csv.zip` and `exoTest.csv.zip` (I compressed them from their original csv format since the training set is > 240 MB so we'll to unzip them)."
   ]
  },
  {
   "cell_type": "code",
   "execution_count": 3,
   "metadata": {},
   "outputs": [
    {
     "name": "stdout",
     "output_type": "stream",
     "text": [
      "\u001b[1m\u001b[36m__MACOSX\u001b[m\u001b[m/         exoTest.csv.zip   exoTrain.csv.zip\r\n",
      "exoTest.csv       exoTrain.csv\r\n"
     ]
    }
   ],
   "source": [
    "# SET DIRECTORY PATHS\n",
    "import os, glob, sys\n",
    "\n",
    "HOME = os.path.abspath(os.curdir)\n",
    "DATA = HOME+'/DATA'\n",
    "%ls DATA"
   ]
  },
  {
   "cell_type": "code",
   "execution_count": 5,
   "metadata": {},
   "outputs": [],
   "source": [
    "# glob puts matching filenames into a list for us - handy for working with multiple datasets\n",
    "files = glob.glob(DATA+'/*.zip')"
   ]
  },
  {
   "cell_type": "code",
   "execution_count": 6,
   "metadata": {
    "ExecuteTime": {
     "end_time": "2020-04-18T03:32:34.098330Z",
     "start_time": "2020-04-18T03:32:34.095678Z"
    }
   },
   "outputs": [],
   "source": [
    "os.chdir(DATA)"
   ]
  },
  {
   "cell_type": "code",
   "execution_count": 7,
   "metadata": {},
   "outputs": [],
   "source": [
    "# Uncomment to unzip \n",
    "# !unzip -q '{files[0]}'\n",
    "# !unzip -q '{files[1]}'"
   ]
  },
  {
   "cell_type": "code",
   "execution_count": 8,
   "metadata": {
    "ExecuteTime": {
     "end_time": "2020-04-18T03:32:48.315532Z",
     "start_time": "2020-04-18T03:32:40.899375Z"
    },
    "slideshow": {
     "slide_type": "-"
    }
   },
   "outputs": [],
   "source": [
    "train = pd.read_csv('exoTrain.csv')\n",
    "test = pd.read_csv('exoTest.csv')"
   ]
  },
  {
   "cell_type": "code",
   "execution_count": 9,
   "metadata": {
    "ExecuteTime": {
     "end_time": "2020-04-18T04:21:24.177087Z",
     "start_time": "2020-04-18T04:21:24.168729Z"
    }
   },
   "outputs": [],
   "source": [
    "os.chdir(HOME)"
   ]
  },
  {
   "cell_type": "code",
   "execution_count": null,
   "metadata": {},
   "outputs": [],
   "source": []
  },
  {
   "cell_type": "markdown",
   "metadata": {},
   "source": [
    "# Scrub\n",
    "\n",
    "**Initial inspection of data, reviewing the features, target (if any), datatypes, and checking for nulls.**\n",
    "\n",
    "-- What we are NOT going to scrub (in this version at least) --\n",
    "\n",
    "Each star's light frequency makes up a single row of data collected over the course of the campaign (#3), which in this case for K2 campaign 3 was a little over 60 days (campaigns are normally ~80 days but c3 ended early due to data storage capacity issues. \n",
    "\n",
    "If we crunched the numbers (which I did elsewhere), it's 29.4 minutes between each flux measurement, also known as the cadence. This matches the information available in the K2 handbook/MAST website/NASA. Knowing the units and time intervals would allow us to scale and normalize the data very methodically. However, since our initial (math-based) model doesn't 'care' about units, the scrubbing will not take any of the physics into account. This is intentional.\n",
    "\n",
    "This is something we DO want to come back to for comparison with future models that *will* have the astrophysical properties embedded in their pre-learning process, and in particular the SCRUBBING: remember, this is a *timeseries*...it's hard to do any normalizing, scaling, de-noising to a timeseries if we don't know anything about the time units. And that's only ONE of the dimensions being completely ignored by our strict mathematical approach. The question is, will it matter? "
   ]
  },
  {
   "cell_type": "markdown",
   "metadata": {},
   "source": [
    "## Initial Inspection"
   ]
  },
  {
   "cell_type": "code",
   "execution_count": 19,
   "metadata": {
    "ExecuteTime": {
     "end_time": "2020-04-15T05:24:07.838688Z",
     "start_time": "2020-04-15T05:24:07.799777Z"
    }
   },
   "outputs": [
    {
     "data": {
      "text/plain": [
       "1    5050\n",
       "2      37\n",
       "Name: LABEL, dtype: int64"
      ]
     },
     "metadata": {},
     "output_type": "display_data"
    },
    {
     "data": {
      "text/plain": [
       "1    565\n",
       "2      5\n",
       "Name: LABEL, dtype: int64"
      ]
     },
     "metadata": {},
     "output_type": "display_data"
    }
   ],
   "source": [
    "# Check the value counts \n",
    "display(train['LABEL'].value_counts(),test['LABEL'].value_counts())"
   ]
  },
  {
   "cell_type": "code",
   "execution_count": 20,
   "metadata": {
    "ExecuteTime": {
     "end_time": "2020-04-15T05:24:10.283454Z",
     "start_time": "2020-04-15T05:24:09.739008Z"
    }
   },
   "outputs": [
    {
     "data": {
      "text/html": [
       "<div>\n",
       "<style scoped>\n",
       "    .dataframe tbody tr th:only-of-type {\n",
       "        vertical-align: middle;\n",
       "    }\n",
       "\n",
       "    .dataframe tbody tr th {\n",
       "        vertical-align: top;\n",
       "    }\n",
       "\n",
       "    .dataframe thead th {\n",
       "        text-align: right;\n",
       "    }\n",
       "</style>\n",
       "<table border=\"1\" class=\"dataframe\">\n",
       "  <thead>\n",
       "    <tr style=\"text-align: right;\">\n",
       "      <th></th>\n",
       "      <th>LABEL</th>\n",
       "      <th>FLUX.1</th>\n",
       "      <th>FLUX.2</th>\n",
       "      <th>FLUX.3</th>\n",
       "      <th>FLUX.4</th>\n",
       "      <th>FLUX.5</th>\n",
       "      <th>FLUX.6</th>\n",
       "      <th>FLUX.7</th>\n",
       "      <th>FLUX.8</th>\n",
       "      <th>FLUX.9</th>\n",
       "      <th>FLUX.10</th>\n",
       "      <th>FLUX.11</th>\n",
       "      <th>FLUX.12</th>\n",
       "      <th>FLUX.13</th>\n",
       "      <th>FLUX.14</th>\n",
       "      <th>FLUX.15</th>\n",
       "      <th>FLUX.16</th>\n",
       "      <th>FLUX.17</th>\n",
       "      <th>FLUX.18</th>\n",
       "      <th>FLUX.19</th>\n",
       "      <th>FLUX.20</th>\n",
       "      <th>FLUX.21</th>\n",
       "      <th>FLUX.22</th>\n",
       "      <th>FLUX.23</th>\n",
       "      <th>FLUX.24</th>\n",
       "      <th>FLUX.25</th>\n",
       "      <th>FLUX.26</th>\n",
       "      <th>FLUX.27</th>\n",
       "      <th>FLUX.28</th>\n",
       "      <th>FLUX.29</th>\n",
       "      <th>FLUX.30</th>\n",
       "      <th>FLUX.31</th>\n",
       "      <th>FLUX.32</th>\n",
       "      <th>FLUX.33</th>\n",
       "      <th>FLUX.34</th>\n",
       "      <th>FLUX.35</th>\n",
       "      <th>FLUX.36</th>\n",
       "      <th>FLUX.37</th>\n",
       "      <th>FLUX.38</th>\n",
       "      <th>FLUX.39</th>\n",
       "      <th>FLUX.40</th>\n",
       "      <th>FLUX.41</th>\n",
       "      <th>FLUX.42</th>\n",
       "      <th>FLUX.43</th>\n",
       "      <th>FLUX.44</th>\n",
       "      <th>FLUX.45</th>\n",
       "      <th>FLUX.46</th>\n",
       "      <th>FLUX.47</th>\n",
       "      <th>FLUX.48</th>\n",
       "      <th>...</th>\n",
       "      <th>FLUX.3149</th>\n",
       "      <th>FLUX.3150</th>\n",
       "      <th>FLUX.3151</th>\n",
       "      <th>FLUX.3152</th>\n",
       "      <th>FLUX.3153</th>\n",
       "      <th>FLUX.3154</th>\n",
       "      <th>FLUX.3155</th>\n",
       "      <th>FLUX.3156</th>\n",
       "      <th>FLUX.3157</th>\n",
       "      <th>FLUX.3158</th>\n",
       "      <th>FLUX.3159</th>\n",
       "      <th>FLUX.3160</th>\n",
       "      <th>FLUX.3161</th>\n",
       "      <th>FLUX.3162</th>\n",
       "      <th>FLUX.3163</th>\n",
       "      <th>FLUX.3164</th>\n",
       "      <th>FLUX.3165</th>\n",
       "      <th>FLUX.3166</th>\n",
       "      <th>FLUX.3167</th>\n",
       "      <th>FLUX.3168</th>\n",
       "      <th>FLUX.3169</th>\n",
       "      <th>FLUX.3170</th>\n",
       "      <th>FLUX.3171</th>\n",
       "      <th>FLUX.3172</th>\n",
       "      <th>FLUX.3173</th>\n",
       "      <th>FLUX.3174</th>\n",
       "      <th>FLUX.3175</th>\n",
       "      <th>FLUX.3176</th>\n",
       "      <th>FLUX.3177</th>\n",
       "      <th>FLUX.3178</th>\n",
       "      <th>FLUX.3179</th>\n",
       "      <th>FLUX.3180</th>\n",
       "      <th>FLUX.3181</th>\n",
       "      <th>FLUX.3182</th>\n",
       "      <th>FLUX.3183</th>\n",
       "      <th>FLUX.3184</th>\n",
       "      <th>FLUX.3185</th>\n",
       "      <th>FLUX.3186</th>\n",
       "      <th>FLUX.3187</th>\n",
       "      <th>FLUX.3188</th>\n",
       "      <th>FLUX.3189</th>\n",
       "      <th>FLUX.3190</th>\n",
       "      <th>FLUX.3191</th>\n",
       "      <th>FLUX.3192</th>\n",
       "      <th>FLUX.3193</th>\n",
       "      <th>FLUX.3194</th>\n",
       "      <th>FLUX.3195</th>\n",
       "      <th>FLUX.3196</th>\n",
       "      <th>FLUX.3197</th>\n",
       "    </tr>\n",
       "  </thead>\n",
       "  <tbody>\n",
       "    <tr>\n",
       "      <td>0</td>\n",
       "      <td>2</td>\n",
       "      <td>93.85</td>\n",
       "      <td>83.81</td>\n",
       "      <td>20.10</td>\n",
       "      <td>-26.98</td>\n",
       "      <td>-39.56</td>\n",
       "      <td>-124.71</td>\n",
       "      <td>-135.18</td>\n",
       "      <td>-96.27</td>\n",
       "      <td>-79.89</td>\n",
       "      <td>-160.17</td>\n",
       "      <td>-207.47</td>\n",
       "      <td>-154.88</td>\n",
       "      <td>-173.71</td>\n",
       "      <td>-146.56</td>\n",
       "      <td>-120.26</td>\n",
       "      <td>-102.85</td>\n",
       "      <td>-98.71</td>\n",
       "      <td>-48.42</td>\n",
       "      <td>-86.57</td>\n",
       "      <td>-0.84</td>\n",
       "      <td>-25.85</td>\n",
       "      <td>-67.39</td>\n",
       "      <td>-36.55</td>\n",
       "      <td>-87.01</td>\n",
       "      <td>-97.72</td>\n",
       "      <td>-131.59</td>\n",
       "      <td>-134.80</td>\n",
       "      <td>-186.97</td>\n",
       "      <td>-244.32</td>\n",
       "      <td>-225.76</td>\n",
       "      <td>-229.60</td>\n",
       "      <td>-253.48</td>\n",
       "      <td>-145.74</td>\n",
       "      <td>-145.74</td>\n",
       "      <td>30.47</td>\n",
       "      <td>-173.39</td>\n",
       "      <td>-187.56</td>\n",
       "      <td>-192.88</td>\n",
       "      <td>-182.76</td>\n",
       "      <td>-195.99</td>\n",
       "      <td>-208.31</td>\n",
       "      <td>-103.22</td>\n",
       "      <td>-193.85</td>\n",
       "      <td>-187.64</td>\n",
       "      <td>-92.25</td>\n",
       "      <td>-119.25</td>\n",
       "      <td>-87.50</td>\n",
       "      <td>-1.86</td>\n",
       "      <td>...</td>\n",
       "      <td>2.15</td>\n",
       "      <td>-6.04</td>\n",
       "      <td>-58.44</td>\n",
       "      <td>-29.64</td>\n",
       "      <td>-90.71</td>\n",
       "      <td>-90.71</td>\n",
       "      <td>-265.25</td>\n",
       "      <td>-367.84</td>\n",
       "      <td>-317.51</td>\n",
       "      <td>-167.69</td>\n",
       "      <td>-56.86</td>\n",
       "      <td>7.56</td>\n",
       "      <td>37.40</td>\n",
       "      <td>-81.13</td>\n",
       "      <td>-20.10</td>\n",
       "      <td>-30.34</td>\n",
       "      <td>-320.48</td>\n",
       "      <td>-320.48</td>\n",
       "      <td>-287.72</td>\n",
       "      <td>-351.25</td>\n",
       "      <td>-70.07</td>\n",
       "      <td>-194.34</td>\n",
       "      <td>-106.47</td>\n",
       "      <td>-14.80</td>\n",
       "      <td>63.13</td>\n",
       "      <td>130.03</td>\n",
       "      <td>76.43</td>\n",
       "      <td>131.90</td>\n",
       "      <td>-193.16</td>\n",
       "      <td>-193.16</td>\n",
       "      <td>-89.26</td>\n",
       "      <td>-17.56</td>\n",
       "      <td>-17.31</td>\n",
       "      <td>125.62</td>\n",
       "      <td>68.87</td>\n",
       "      <td>100.01</td>\n",
       "      <td>-9.60</td>\n",
       "      <td>-25.39</td>\n",
       "      <td>-16.51</td>\n",
       "      <td>-78.07</td>\n",
       "      <td>-102.15</td>\n",
       "      <td>-102.15</td>\n",
       "      <td>25.13</td>\n",
       "      <td>48.57</td>\n",
       "      <td>92.54</td>\n",
       "      <td>39.32</td>\n",
       "      <td>61.42</td>\n",
       "      <td>5.08</td>\n",
       "      <td>-39.54</td>\n",
       "    </tr>\n",
       "    <tr>\n",
       "      <td>1</td>\n",
       "      <td>2</td>\n",
       "      <td>-38.88</td>\n",
       "      <td>-33.83</td>\n",
       "      <td>-58.54</td>\n",
       "      <td>-40.09</td>\n",
       "      <td>-79.31</td>\n",
       "      <td>-72.81</td>\n",
       "      <td>-86.55</td>\n",
       "      <td>-85.33</td>\n",
       "      <td>-83.97</td>\n",
       "      <td>-73.38</td>\n",
       "      <td>-86.51</td>\n",
       "      <td>-74.97</td>\n",
       "      <td>-73.15</td>\n",
       "      <td>-86.13</td>\n",
       "      <td>-76.57</td>\n",
       "      <td>-61.27</td>\n",
       "      <td>-37.23</td>\n",
       "      <td>-48.53</td>\n",
       "      <td>-30.96</td>\n",
       "      <td>-8.14</td>\n",
       "      <td>-5.54</td>\n",
       "      <td>15.79</td>\n",
       "      <td>45.71</td>\n",
       "      <td>10.61</td>\n",
       "      <td>40.66</td>\n",
       "      <td>16.70</td>\n",
       "      <td>15.18</td>\n",
       "      <td>11.98</td>\n",
       "      <td>-203.70</td>\n",
       "      <td>19.13</td>\n",
       "      <td>19.13</td>\n",
       "      <td>19.13</td>\n",
       "      <td>19.13</td>\n",
       "      <td>19.13</td>\n",
       "      <td>17.02</td>\n",
       "      <td>-8.50</td>\n",
       "      <td>-13.87</td>\n",
       "      <td>-29.10</td>\n",
       "      <td>-34.29</td>\n",
       "      <td>-24.68</td>\n",
       "      <td>-27.62</td>\n",
       "      <td>-31.21</td>\n",
       "      <td>-32.31</td>\n",
       "      <td>-37.52</td>\n",
       "      <td>-46.58</td>\n",
       "      <td>-46.20</td>\n",
       "      <td>-35.79</td>\n",
       "      <td>-42.09</td>\n",
       "      <td>...</td>\n",
       "      <td>5.10</td>\n",
       "      <td>17.57</td>\n",
       "      <td>-16.46</td>\n",
       "      <td>21.43</td>\n",
       "      <td>-32.67</td>\n",
       "      <td>-32.67</td>\n",
       "      <td>-58.56</td>\n",
       "      <td>-51.99</td>\n",
       "      <td>-32.14</td>\n",
       "      <td>-36.75</td>\n",
       "      <td>-15.49</td>\n",
       "      <td>-13.24</td>\n",
       "      <td>20.46</td>\n",
       "      <td>-1.47</td>\n",
       "      <td>-0.40</td>\n",
       "      <td>27.80</td>\n",
       "      <td>-58.20</td>\n",
       "      <td>-58.20</td>\n",
       "      <td>-72.04</td>\n",
       "      <td>-58.01</td>\n",
       "      <td>-30.92</td>\n",
       "      <td>-13.42</td>\n",
       "      <td>-13.98</td>\n",
       "      <td>-5.43</td>\n",
       "      <td>8.71</td>\n",
       "      <td>1.80</td>\n",
       "      <td>36.59</td>\n",
       "      <td>-9.80</td>\n",
       "      <td>-19.53</td>\n",
       "      <td>-19.53</td>\n",
       "      <td>-24.32</td>\n",
       "      <td>-23.88</td>\n",
       "      <td>-33.07</td>\n",
       "      <td>-9.03</td>\n",
       "      <td>3.75</td>\n",
       "      <td>11.61</td>\n",
       "      <td>-12.66</td>\n",
       "      <td>-5.69</td>\n",
       "      <td>12.53</td>\n",
       "      <td>-3.28</td>\n",
       "      <td>-32.21</td>\n",
       "      <td>-32.21</td>\n",
       "      <td>-24.89</td>\n",
       "      <td>-4.86</td>\n",
       "      <td>0.76</td>\n",
       "      <td>-11.70</td>\n",
       "      <td>6.46</td>\n",
       "      <td>16.00</td>\n",
       "      <td>19.93</td>\n",
       "    </tr>\n",
       "    <tr>\n",
       "      <td>2</td>\n",
       "      <td>2</td>\n",
       "      <td>532.64</td>\n",
       "      <td>535.92</td>\n",
       "      <td>513.73</td>\n",
       "      <td>496.92</td>\n",
       "      <td>456.45</td>\n",
       "      <td>466.00</td>\n",
       "      <td>464.50</td>\n",
       "      <td>486.39</td>\n",
       "      <td>436.56</td>\n",
       "      <td>484.39</td>\n",
       "      <td>469.66</td>\n",
       "      <td>462.30</td>\n",
       "      <td>492.23</td>\n",
       "      <td>441.20</td>\n",
       "      <td>483.17</td>\n",
       "      <td>481.28</td>\n",
       "      <td>535.31</td>\n",
       "      <td>554.34</td>\n",
       "      <td>562.80</td>\n",
       "      <td>540.14</td>\n",
       "      <td>576.34</td>\n",
       "      <td>551.67</td>\n",
       "      <td>556.69</td>\n",
       "      <td>550.86</td>\n",
       "      <td>577.33</td>\n",
       "      <td>562.08</td>\n",
       "      <td>577.97</td>\n",
       "      <td>530.67</td>\n",
       "      <td>553.27</td>\n",
       "      <td>538.33</td>\n",
       "      <td>527.17</td>\n",
       "      <td>532.50</td>\n",
       "      <td>273.66</td>\n",
       "      <td>273.66</td>\n",
       "      <td>292.39</td>\n",
       "      <td>298.44</td>\n",
       "      <td>252.64</td>\n",
       "      <td>233.58</td>\n",
       "      <td>171.41</td>\n",
       "      <td>224.02</td>\n",
       "      <td>237.69</td>\n",
       "      <td>251.53</td>\n",
       "      <td>236.06</td>\n",
       "      <td>212.31</td>\n",
       "      <td>220.95</td>\n",
       "      <td>249.08</td>\n",
       "      <td>234.14</td>\n",
       "      <td>259.02</td>\n",
       "      <td>...</td>\n",
       "      <td>-45.09</td>\n",
       "      <td>-50.22</td>\n",
       "      <td>-97.19</td>\n",
       "      <td>-64.22</td>\n",
       "      <td>-123.17</td>\n",
       "      <td>-123.17</td>\n",
       "      <td>-144.86</td>\n",
       "      <td>-106.97</td>\n",
       "      <td>-56.38</td>\n",
       "      <td>-51.09</td>\n",
       "      <td>-33.30</td>\n",
       "      <td>-61.53</td>\n",
       "      <td>-89.61</td>\n",
       "      <td>-69.17</td>\n",
       "      <td>-86.47</td>\n",
       "      <td>-140.91</td>\n",
       "      <td>-84.20</td>\n",
       "      <td>-84.20</td>\n",
       "      <td>-89.09</td>\n",
       "      <td>-55.44</td>\n",
       "      <td>-61.05</td>\n",
       "      <td>-29.17</td>\n",
       "      <td>-63.80</td>\n",
       "      <td>-57.61</td>\n",
       "      <td>2.70</td>\n",
       "      <td>-31.25</td>\n",
       "      <td>-47.09</td>\n",
       "      <td>-6.53</td>\n",
       "      <td>14.00</td>\n",
       "      <td>14.00</td>\n",
       "      <td>-25.05</td>\n",
       "      <td>-34.98</td>\n",
       "      <td>-32.08</td>\n",
       "      <td>-17.06</td>\n",
       "      <td>-27.77</td>\n",
       "      <td>7.86</td>\n",
       "      <td>-70.77</td>\n",
       "      <td>-64.44</td>\n",
       "      <td>-83.83</td>\n",
       "      <td>-71.69</td>\n",
       "      <td>13.31</td>\n",
       "      <td>13.31</td>\n",
       "      <td>-29.89</td>\n",
       "      <td>-20.88</td>\n",
       "      <td>5.06</td>\n",
       "      <td>-11.80</td>\n",
       "      <td>-28.91</td>\n",
       "      <td>-70.02</td>\n",
       "      <td>-96.67</td>\n",
       "    </tr>\n",
       "    <tr>\n",
       "      <td>3</td>\n",
       "      <td>2</td>\n",
       "      <td>326.52</td>\n",
       "      <td>347.39</td>\n",
       "      <td>302.35</td>\n",
       "      <td>298.13</td>\n",
       "      <td>317.74</td>\n",
       "      <td>312.70</td>\n",
       "      <td>322.33</td>\n",
       "      <td>311.31</td>\n",
       "      <td>312.42</td>\n",
       "      <td>323.33</td>\n",
       "      <td>311.14</td>\n",
       "      <td>326.19</td>\n",
       "      <td>313.11</td>\n",
       "      <td>313.89</td>\n",
       "      <td>317.96</td>\n",
       "      <td>330.92</td>\n",
       "      <td>341.10</td>\n",
       "      <td>360.58</td>\n",
       "      <td>370.29</td>\n",
       "      <td>369.71</td>\n",
       "      <td>339.00</td>\n",
       "      <td>336.24</td>\n",
       "      <td>319.31</td>\n",
       "      <td>321.56</td>\n",
       "      <td>308.02</td>\n",
       "      <td>296.82</td>\n",
       "      <td>279.34</td>\n",
       "      <td>275.78</td>\n",
       "      <td>289.67</td>\n",
       "      <td>281.33</td>\n",
       "      <td>285.37</td>\n",
       "      <td>281.87</td>\n",
       "      <td>88.75</td>\n",
       "      <td>88.75</td>\n",
       "      <td>67.71</td>\n",
       "      <td>74.46</td>\n",
       "      <td>69.34</td>\n",
       "      <td>76.51</td>\n",
       "      <td>80.26</td>\n",
       "      <td>70.31</td>\n",
       "      <td>63.67</td>\n",
       "      <td>75.00</td>\n",
       "      <td>70.73</td>\n",
       "      <td>70.29</td>\n",
       "      <td>95.44</td>\n",
       "      <td>100.57</td>\n",
       "      <td>114.93</td>\n",
       "      <td>103.45</td>\n",
       "      <td>...</td>\n",
       "      <td>-18.86</td>\n",
       "      <td>-11.27</td>\n",
       "      <td>-19.92</td>\n",
       "      <td>-1.99</td>\n",
       "      <td>-13.49</td>\n",
       "      <td>-13.49</td>\n",
       "      <td>-27.74</td>\n",
       "      <td>-30.46</td>\n",
       "      <td>-32.40</td>\n",
       "      <td>-2.75</td>\n",
       "      <td>14.29</td>\n",
       "      <td>-14.18</td>\n",
       "      <td>-25.14</td>\n",
       "      <td>-13.43</td>\n",
       "      <td>-14.74</td>\n",
       "      <td>2.24</td>\n",
       "      <td>-31.07</td>\n",
       "      <td>-31.07</td>\n",
       "      <td>-50.27</td>\n",
       "      <td>-39.22</td>\n",
       "      <td>-51.33</td>\n",
       "      <td>-18.53</td>\n",
       "      <td>-1.99</td>\n",
       "      <td>10.43</td>\n",
       "      <td>-1.97</td>\n",
       "      <td>-15.32</td>\n",
       "      <td>-23.38</td>\n",
       "      <td>-27.71</td>\n",
       "      <td>-36.12</td>\n",
       "      <td>-36.12</td>\n",
       "      <td>-15.65</td>\n",
       "      <td>6.63</td>\n",
       "      <td>10.66</td>\n",
       "      <td>-8.57</td>\n",
       "      <td>-8.29</td>\n",
       "      <td>-21.90</td>\n",
       "      <td>-25.80</td>\n",
       "      <td>-29.86</td>\n",
       "      <td>7.42</td>\n",
       "      <td>5.71</td>\n",
       "      <td>-3.73</td>\n",
       "      <td>-3.73</td>\n",
       "      <td>30.05</td>\n",
       "      <td>20.03</td>\n",
       "      <td>-12.67</td>\n",
       "      <td>-8.77</td>\n",
       "      <td>-17.31</td>\n",
       "      <td>-17.35</td>\n",
       "      <td>13.98</td>\n",
       "    </tr>\n",
       "    <tr>\n",
       "      <td>4</td>\n",
       "      <td>2</td>\n",
       "      <td>-1107.21</td>\n",
       "      <td>-1112.59</td>\n",
       "      <td>-1118.95</td>\n",
       "      <td>-1095.10</td>\n",
       "      <td>-1057.55</td>\n",
       "      <td>-1034.48</td>\n",
       "      <td>-998.34</td>\n",
       "      <td>-1022.71</td>\n",
       "      <td>-989.57</td>\n",
       "      <td>-970.88</td>\n",
       "      <td>-933.30</td>\n",
       "      <td>-889.49</td>\n",
       "      <td>-888.66</td>\n",
       "      <td>-853.95</td>\n",
       "      <td>-800.91</td>\n",
       "      <td>-754.48</td>\n",
       "      <td>-717.24</td>\n",
       "      <td>-649.34</td>\n",
       "      <td>-605.71</td>\n",
       "      <td>-575.62</td>\n",
       "      <td>-526.37</td>\n",
       "      <td>-490.12</td>\n",
       "      <td>-458.73</td>\n",
       "      <td>-447.76</td>\n",
       "      <td>-419.54</td>\n",
       "      <td>-410.76</td>\n",
       "      <td>-404.10</td>\n",
       "      <td>-425.38</td>\n",
       "      <td>-397.29</td>\n",
       "      <td>-412.73</td>\n",
       "      <td>-446.49</td>\n",
       "      <td>-413.46</td>\n",
       "      <td>-1006.21</td>\n",
       "      <td>-1006.21</td>\n",
       "      <td>-973.29</td>\n",
       "      <td>-986.01</td>\n",
       "      <td>-975.88</td>\n",
       "      <td>-982.20</td>\n",
       "      <td>-953.73</td>\n",
       "      <td>-964.35</td>\n",
       "      <td>-956.60</td>\n",
       "      <td>-911.57</td>\n",
       "      <td>-885.15</td>\n",
       "      <td>-859.38</td>\n",
       "      <td>-806.16</td>\n",
       "      <td>-752.20</td>\n",
       "      <td>-792.40</td>\n",
       "      <td>-703.91</td>\n",
       "      <td>...</td>\n",
       "      <td>-674.90</td>\n",
       "      <td>-705.88</td>\n",
       "      <td>-708.77</td>\n",
       "      <td>-844.59</td>\n",
       "      <td>-1023.12</td>\n",
       "      <td>-1023.12</td>\n",
       "      <td>-935.68</td>\n",
       "      <td>-848.88</td>\n",
       "      <td>-732.66</td>\n",
       "      <td>-694.76</td>\n",
       "      <td>-705.01</td>\n",
       "      <td>-625.24</td>\n",
       "      <td>-604.16</td>\n",
       "      <td>-668.26</td>\n",
       "      <td>-742.18</td>\n",
       "      <td>-820.55</td>\n",
       "      <td>-874.76</td>\n",
       "      <td>-874.76</td>\n",
       "      <td>-853.68</td>\n",
       "      <td>-808.62</td>\n",
       "      <td>-777.88</td>\n",
       "      <td>-712.62</td>\n",
       "      <td>-694.01</td>\n",
       "      <td>-655.74</td>\n",
       "      <td>-599.74</td>\n",
       "      <td>-617.30</td>\n",
       "      <td>-602.98</td>\n",
       "      <td>-539.29</td>\n",
       "      <td>-672.71</td>\n",
       "      <td>-672.71</td>\n",
       "      <td>-594.49</td>\n",
       "      <td>-597.60</td>\n",
       "      <td>-560.77</td>\n",
       "      <td>-501.95</td>\n",
       "      <td>-461.62</td>\n",
       "      <td>-468.59</td>\n",
       "      <td>-513.24</td>\n",
       "      <td>-504.70</td>\n",
       "      <td>-521.95</td>\n",
       "      <td>-594.37</td>\n",
       "      <td>-401.66</td>\n",
       "      <td>-401.66</td>\n",
       "      <td>-357.24</td>\n",
       "      <td>-443.76</td>\n",
       "      <td>-438.54</td>\n",
       "      <td>-399.71</td>\n",
       "      <td>-384.65</td>\n",
       "      <td>-411.79</td>\n",
       "      <td>-510.54</td>\n",
       "    </tr>\n",
       "  </tbody>\n",
       "</table>\n",
       "<p>5 rows × 3198 columns</p>\n",
       "</div>"
      ],
      "text/plain": [
       "   LABEL   FLUX.1   FLUX.2   FLUX.3  ...  FLUX.3194  FLUX.3195  FLUX.3196  FLUX.3197\n",
       "0      2    93.85    83.81    20.10  ...      39.32      61.42       5.08     -39.54\n",
       "1      2   -38.88   -33.83   -58.54  ...     -11.70       6.46      16.00      19.93\n",
       "2      2   532.64   535.92   513.73  ...     -11.80     -28.91     -70.02     -96.67\n",
       "3      2   326.52   347.39   302.35  ...      -8.77     -17.31     -17.35      13.98\n",
       "4      2 -1107.21 -1112.59 -1118.95  ...    -399.71    -384.65    -411.79    -510.54\n",
       "\n",
       "[5 rows x 3198 columns]"
      ]
     },
     "metadata": {},
     "output_type": "display_data"
    },
    {
     "data": {
      "text/html": [
       "<div>\n",
       "<style scoped>\n",
       "    .dataframe tbody tr th:only-of-type {\n",
       "        vertical-align: middle;\n",
       "    }\n",
       "\n",
       "    .dataframe tbody tr th {\n",
       "        vertical-align: top;\n",
       "    }\n",
       "\n",
       "    .dataframe thead th {\n",
       "        text-align: right;\n",
       "    }\n",
       "</style>\n",
       "<table border=\"1\" class=\"dataframe\">\n",
       "  <thead>\n",
       "    <tr style=\"text-align: right;\">\n",
       "      <th></th>\n",
       "      <th>LABEL</th>\n",
       "      <th>FLUX.1</th>\n",
       "      <th>FLUX.2</th>\n",
       "      <th>FLUX.3</th>\n",
       "      <th>FLUX.4</th>\n",
       "      <th>FLUX.5</th>\n",
       "      <th>FLUX.6</th>\n",
       "      <th>FLUX.7</th>\n",
       "      <th>FLUX.8</th>\n",
       "      <th>FLUX.9</th>\n",
       "      <th>FLUX.10</th>\n",
       "      <th>FLUX.11</th>\n",
       "      <th>FLUX.12</th>\n",
       "      <th>FLUX.13</th>\n",
       "      <th>FLUX.14</th>\n",
       "      <th>FLUX.15</th>\n",
       "      <th>FLUX.16</th>\n",
       "      <th>FLUX.17</th>\n",
       "      <th>FLUX.18</th>\n",
       "      <th>FLUX.19</th>\n",
       "      <th>FLUX.20</th>\n",
       "      <th>FLUX.21</th>\n",
       "      <th>FLUX.22</th>\n",
       "      <th>FLUX.23</th>\n",
       "      <th>FLUX.24</th>\n",
       "      <th>FLUX.25</th>\n",
       "      <th>FLUX.26</th>\n",
       "      <th>FLUX.27</th>\n",
       "      <th>FLUX.28</th>\n",
       "      <th>FLUX.29</th>\n",
       "      <th>FLUX.30</th>\n",
       "      <th>FLUX.31</th>\n",
       "      <th>FLUX.32</th>\n",
       "      <th>FLUX.33</th>\n",
       "      <th>FLUX.34</th>\n",
       "      <th>FLUX.35</th>\n",
       "      <th>FLUX.36</th>\n",
       "      <th>FLUX.37</th>\n",
       "      <th>FLUX.38</th>\n",
       "      <th>FLUX.39</th>\n",
       "      <th>FLUX.40</th>\n",
       "      <th>FLUX.41</th>\n",
       "      <th>FLUX.42</th>\n",
       "      <th>FLUX.43</th>\n",
       "      <th>FLUX.44</th>\n",
       "      <th>FLUX.45</th>\n",
       "      <th>FLUX.46</th>\n",
       "      <th>FLUX.47</th>\n",
       "      <th>FLUX.48</th>\n",
       "      <th>...</th>\n",
       "      <th>FLUX.3149</th>\n",
       "      <th>FLUX.3150</th>\n",
       "      <th>FLUX.3151</th>\n",
       "      <th>FLUX.3152</th>\n",
       "      <th>FLUX.3153</th>\n",
       "      <th>FLUX.3154</th>\n",
       "      <th>FLUX.3155</th>\n",
       "      <th>FLUX.3156</th>\n",
       "      <th>FLUX.3157</th>\n",
       "      <th>FLUX.3158</th>\n",
       "      <th>FLUX.3159</th>\n",
       "      <th>FLUX.3160</th>\n",
       "      <th>FLUX.3161</th>\n",
       "      <th>FLUX.3162</th>\n",
       "      <th>FLUX.3163</th>\n",
       "      <th>FLUX.3164</th>\n",
       "      <th>FLUX.3165</th>\n",
       "      <th>FLUX.3166</th>\n",
       "      <th>FLUX.3167</th>\n",
       "      <th>FLUX.3168</th>\n",
       "      <th>FLUX.3169</th>\n",
       "      <th>FLUX.3170</th>\n",
       "      <th>FLUX.3171</th>\n",
       "      <th>FLUX.3172</th>\n",
       "      <th>FLUX.3173</th>\n",
       "      <th>FLUX.3174</th>\n",
       "      <th>FLUX.3175</th>\n",
       "      <th>FLUX.3176</th>\n",
       "      <th>FLUX.3177</th>\n",
       "      <th>FLUX.3178</th>\n",
       "      <th>FLUX.3179</th>\n",
       "      <th>FLUX.3180</th>\n",
       "      <th>FLUX.3181</th>\n",
       "      <th>FLUX.3182</th>\n",
       "      <th>FLUX.3183</th>\n",
       "      <th>FLUX.3184</th>\n",
       "      <th>FLUX.3185</th>\n",
       "      <th>FLUX.3186</th>\n",
       "      <th>FLUX.3187</th>\n",
       "      <th>FLUX.3188</th>\n",
       "      <th>FLUX.3189</th>\n",
       "      <th>FLUX.3190</th>\n",
       "      <th>FLUX.3191</th>\n",
       "      <th>FLUX.3192</th>\n",
       "      <th>FLUX.3193</th>\n",
       "      <th>FLUX.3194</th>\n",
       "      <th>FLUX.3195</th>\n",
       "      <th>FLUX.3196</th>\n",
       "      <th>FLUX.3197</th>\n",
       "    </tr>\n",
       "  </thead>\n",
       "  <tbody>\n",
       "    <tr>\n",
       "      <td>0</td>\n",
       "      <td>2</td>\n",
       "      <td>119.88</td>\n",
       "      <td>100.21</td>\n",
       "      <td>86.46</td>\n",
       "      <td>48.68</td>\n",
       "      <td>46.12</td>\n",
       "      <td>39.39</td>\n",
       "      <td>18.57</td>\n",
       "      <td>6.98</td>\n",
       "      <td>6.63</td>\n",
       "      <td>-21.97</td>\n",
       "      <td>-23.17</td>\n",
       "      <td>-29.26</td>\n",
       "      <td>-33.99</td>\n",
       "      <td>-6.25</td>\n",
       "      <td>-28.12</td>\n",
       "      <td>-27.24</td>\n",
       "      <td>-32.28</td>\n",
       "      <td>-12.29</td>\n",
       "      <td>-16.57</td>\n",
       "      <td>-23.86</td>\n",
       "      <td>-5.69</td>\n",
       "      <td>9.24</td>\n",
       "      <td>35.52</td>\n",
       "      <td>81.20</td>\n",
       "      <td>116.49</td>\n",
       "      <td>133.99</td>\n",
       "      <td>148.97</td>\n",
       "      <td>174.15</td>\n",
       "      <td>187.77</td>\n",
       "      <td>215.30</td>\n",
       "      <td>246.80</td>\n",
       "      <td>-56.68</td>\n",
       "      <td>-56.68</td>\n",
       "      <td>-56.68</td>\n",
       "      <td>-52.05</td>\n",
       "      <td>-31.52</td>\n",
       "      <td>-31.15</td>\n",
       "      <td>-48.53</td>\n",
       "      <td>-38.93</td>\n",
       "      <td>-26.06</td>\n",
       "      <td>6.63</td>\n",
       "      <td>29.13</td>\n",
       "      <td>64.70</td>\n",
       "      <td>79.74</td>\n",
       "      <td>12.21</td>\n",
       "      <td>12.21</td>\n",
       "      <td>-19.94</td>\n",
       "      <td>-28.60</td>\n",
       "      <td>...</td>\n",
       "      <td>-11.44</td>\n",
       "      <td>-21.86</td>\n",
       "      <td>-16.38</td>\n",
       "      <td>-7.24</td>\n",
       "      <td>22.69</td>\n",
       "      <td>22.69</td>\n",
       "      <td>7.10</td>\n",
       "      <td>3.45</td>\n",
       "      <td>6.49</td>\n",
       "      <td>-2.55</td>\n",
       "      <td>12.26</td>\n",
       "      <td>-7.06</td>\n",
       "      <td>-23.53</td>\n",
       "      <td>2.54</td>\n",
       "      <td>30.21</td>\n",
       "      <td>38.87</td>\n",
       "      <td>-22.86</td>\n",
       "      <td>-22.86</td>\n",
       "      <td>-4.37</td>\n",
       "      <td>2.27</td>\n",
       "      <td>-16.27</td>\n",
       "      <td>-30.84</td>\n",
       "      <td>-7.21</td>\n",
       "      <td>-4.27</td>\n",
       "      <td>13.60</td>\n",
       "      <td>15.62</td>\n",
       "      <td>31.96</td>\n",
       "      <td>49.89</td>\n",
       "      <td>86.93</td>\n",
       "      <td>86.93</td>\n",
       "      <td>42.99</td>\n",
       "      <td>48.76</td>\n",
       "      <td>22.82</td>\n",
       "      <td>32.79</td>\n",
       "      <td>30.76</td>\n",
       "      <td>14.55</td>\n",
       "      <td>10.92</td>\n",
       "      <td>22.68</td>\n",
       "      <td>5.91</td>\n",
       "      <td>14.52</td>\n",
       "      <td>19.29</td>\n",
       "      <td>14.44</td>\n",
       "      <td>-1.62</td>\n",
       "      <td>13.33</td>\n",
       "      <td>45.50</td>\n",
       "      <td>31.93</td>\n",
       "      <td>35.78</td>\n",
       "      <td>269.43</td>\n",
       "      <td>57.72</td>\n",
       "    </tr>\n",
       "    <tr>\n",
       "      <td>1</td>\n",
       "      <td>2</td>\n",
       "      <td>5736.59</td>\n",
       "      <td>5699.98</td>\n",
       "      <td>5717.16</td>\n",
       "      <td>5692.73</td>\n",
       "      <td>5663.83</td>\n",
       "      <td>5631.16</td>\n",
       "      <td>5626.39</td>\n",
       "      <td>5569.47</td>\n",
       "      <td>5550.44</td>\n",
       "      <td>5458.80</td>\n",
       "      <td>5329.39</td>\n",
       "      <td>5191.38</td>\n",
       "      <td>5031.39</td>\n",
       "      <td>4769.89</td>\n",
       "      <td>4419.66</td>\n",
       "      <td>4218.92</td>\n",
       "      <td>3924.73</td>\n",
       "      <td>3605.30</td>\n",
       "      <td>3326.55</td>\n",
       "      <td>3021.20</td>\n",
       "      <td>2800.61</td>\n",
       "      <td>2474.48</td>\n",
       "      <td>2258.33</td>\n",
       "      <td>1951.69</td>\n",
       "      <td>1749.86</td>\n",
       "      <td>1585.38</td>\n",
       "      <td>1575.48</td>\n",
       "      <td>1568.41</td>\n",
       "      <td>1661.08</td>\n",
       "      <td>1977.33</td>\n",
       "      <td>2425.62</td>\n",
       "      <td>2889.61</td>\n",
       "      <td>3847.64</td>\n",
       "      <td>3847.64</td>\n",
       "      <td>3741.20</td>\n",
       "      <td>3453.47</td>\n",
       "      <td>3202.61</td>\n",
       "      <td>2923.73</td>\n",
       "      <td>2694.84</td>\n",
       "      <td>2474.22</td>\n",
       "      <td>2195.09</td>\n",
       "      <td>1962.83</td>\n",
       "      <td>1705.44</td>\n",
       "      <td>1468.27</td>\n",
       "      <td>3730.77</td>\n",
       "      <td>3730.77</td>\n",
       "      <td>3833.30</td>\n",
       "      <td>3822.06</td>\n",
       "      <td>...</td>\n",
       "      <td>-971.42</td>\n",
       "      <td>-1327.75</td>\n",
       "      <td>-1864.69</td>\n",
       "      <td>-2148.34</td>\n",
       "      <td>1166.45</td>\n",
       "      <td>1166.45</td>\n",
       "      <td>934.66</td>\n",
       "      <td>574.19</td>\n",
       "      <td>-216.31</td>\n",
       "      <td>-3470.75</td>\n",
       "      <td>-4510.72</td>\n",
       "      <td>-5013.41</td>\n",
       "      <td>-3636.05</td>\n",
       "      <td>-2324.27</td>\n",
       "      <td>-2688.55</td>\n",
       "      <td>-2813.66</td>\n",
       "      <td>-586.22</td>\n",
       "      <td>-586.22</td>\n",
       "      <td>-756.80</td>\n",
       "      <td>-1090.23</td>\n",
       "      <td>-1388.61</td>\n",
       "      <td>-1745.36</td>\n",
       "      <td>-2015.28</td>\n",
       "      <td>-2359.06</td>\n",
       "      <td>-2516.66</td>\n",
       "      <td>-2699.31</td>\n",
       "      <td>-2777.55</td>\n",
       "      <td>-2732.97</td>\n",
       "      <td>1167.39</td>\n",
       "      <td>1167.39</td>\n",
       "      <td>1368.89</td>\n",
       "      <td>1434.80</td>\n",
       "      <td>1360.75</td>\n",
       "      <td>1148.44</td>\n",
       "      <td>1117.67</td>\n",
       "      <td>714.86</td>\n",
       "      <td>419.02</td>\n",
       "      <td>57.06</td>\n",
       "      <td>-175.66</td>\n",
       "      <td>-581.91</td>\n",
       "      <td>-984.09</td>\n",
       "      <td>-1230.89</td>\n",
       "      <td>-1600.45</td>\n",
       "      <td>-1824.53</td>\n",
       "      <td>-2061.17</td>\n",
       "      <td>-2265.98</td>\n",
       "      <td>-2366.19</td>\n",
       "      <td>-2294.86</td>\n",
       "      <td>-2034.72</td>\n",
       "    </tr>\n",
       "    <tr>\n",
       "      <td>2</td>\n",
       "      <td>2</td>\n",
       "      <td>844.48</td>\n",
       "      <td>817.49</td>\n",
       "      <td>770.07</td>\n",
       "      <td>675.01</td>\n",
       "      <td>605.52</td>\n",
       "      <td>499.45</td>\n",
       "      <td>440.77</td>\n",
       "      <td>362.95</td>\n",
       "      <td>207.27</td>\n",
       "      <td>150.46</td>\n",
       "      <td>85.49</td>\n",
       "      <td>-20.12</td>\n",
       "      <td>-35.88</td>\n",
       "      <td>-65.59</td>\n",
       "      <td>-15.12</td>\n",
       "      <td>16.60</td>\n",
       "      <td>-25.70</td>\n",
       "      <td>61.88</td>\n",
       "      <td>53.18</td>\n",
       "      <td>64.32</td>\n",
       "      <td>72.38</td>\n",
       "      <td>100.35</td>\n",
       "      <td>67.26</td>\n",
       "      <td>14.71</td>\n",
       "      <td>-16.41</td>\n",
       "      <td>-147.46</td>\n",
       "      <td>-231.27</td>\n",
       "      <td>-320.29</td>\n",
       "      <td>-407.82</td>\n",
       "      <td>-450.48</td>\n",
       "      <td>-146.99</td>\n",
       "      <td>-146.99</td>\n",
       "      <td>-146.99</td>\n",
       "      <td>-146.99</td>\n",
       "      <td>-166.30</td>\n",
       "      <td>-139.90</td>\n",
       "      <td>-96.41</td>\n",
       "      <td>-23.49</td>\n",
       "      <td>13.59</td>\n",
       "      <td>67.59</td>\n",
       "      <td>32.09</td>\n",
       "      <td>76.65</td>\n",
       "      <td>58.30</td>\n",
       "      <td>5.41</td>\n",
       "      <td>61.66</td>\n",
       "      <td>61.66</td>\n",
       "      <td>126.79</td>\n",
       "      <td>20.80</td>\n",
       "      <td>...</td>\n",
       "      <td>-28.46</td>\n",
       "      <td>-38.15</td>\n",
       "      <td>-61.43</td>\n",
       "      <td>-127.18</td>\n",
       "      <td>-12.15</td>\n",
       "      <td>-12.15</td>\n",
       "      <td>-80.84</td>\n",
       "      <td>-112.96</td>\n",
       "      <td>-129.34</td>\n",
       "      <td>-35.24</td>\n",
       "      <td>-70.13</td>\n",
       "      <td>-35.30</td>\n",
       "      <td>-56.48</td>\n",
       "      <td>-74.60</td>\n",
       "      <td>-115.18</td>\n",
       "      <td>-8.91</td>\n",
       "      <td>-37.59</td>\n",
       "      <td>-37.59</td>\n",
       "      <td>-37.43</td>\n",
       "      <td>-104.23</td>\n",
       "      <td>-101.45</td>\n",
       "      <td>-107.35</td>\n",
       "      <td>-109.82</td>\n",
       "      <td>-126.27</td>\n",
       "      <td>-170.32</td>\n",
       "      <td>-117.85</td>\n",
       "      <td>-32.30</td>\n",
       "      <td>-70.18</td>\n",
       "      <td>314.29</td>\n",
       "      <td>314.29</td>\n",
       "      <td>314.29</td>\n",
       "      <td>149.71</td>\n",
       "      <td>54.60</td>\n",
       "      <td>12.60</td>\n",
       "      <td>-133.68</td>\n",
       "      <td>-78.16</td>\n",
       "      <td>-52.30</td>\n",
       "      <td>-8.55</td>\n",
       "      <td>-19.73</td>\n",
       "      <td>17.82</td>\n",
       "      <td>-51.66</td>\n",
       "      <td>-48.29</td>\n",
       "      <td>-59.99</td>\n",
       "      <td>-82.10</td>\n",
       "      <td>-174.54</td>\n",
       "      <td>-95.23</td>\n",
       "      <td>-162.68</td>\n",
       "      <td>-36.79</td>\n",
       "      <td>30.63</td>\n",
       "    </tr>\n",
       "    <tr>\n",
       "      <td>3</td>\n",
       "      <td>2</td>\n",
       "      <td>-826.00</td>\n",
       "      <td>-827.31</td>\n",
       "      <td>-846.12</td>\n",
       "      <td>-836.03</td>\n",
       "      <td>-745.50</td>\n",
       "      <td>-784.69</td>\n",
       "      <td>-791.22</td>\n",
       "      <td>-746.50</td>\n",
       "      <td>-709.53</td>\n",
       "      <td>-679.56</td>\n",
       "      <td>-706.03</td>\n",
       "      <td>-720.56</td>\n",
       "      <td>-631.12</td>\n",
       "      <td>-659.16</td>\n",
       "      <td>-672.03</td>\n",
       "      <td>-665.06</td>\n",
       "      <td>-667.94</td>\n",
       "      <td>-660.84</td>\n",
       "      <td>-672.75</td>\n",
       "      <td>-644.91</td>\n",
       "      <td>-680.53</td>\n",
       "      <td>-620.50</td>\n",
       "      <td>-570.34</td>\n",
       "      <td>-530.00</td>\n",
       "      <td>-537.88</td>\n",
       "      <td>-578.38</td>\n",
       "      <td>-532.34</td>\n",
       "      <td>-532.38</td>\n",
       "      <td>-491.03</td>\n",
       "      <td>-485.03</td>\n",
       "      <td>-427.19</td>\n",
       "      <td>-380.84</td>\n",
       "      <td>-329.50</td>\n",
       "      <td>-286.91</td>\n",
       "      <td>-283.81</td>\n",
       "      <td>-298.19</td>\n",
       "      <td>-271.03</td>\n",
       "      <td>-268.50</td>\n",
       "      <td>-209.56</td>\n",
       "      <td>-180.44</td>\n",
       "      <td>-136.25</td>\n",
       "      <td>-136.22</td>\n",
       "      <td>-68.03</td>\n",
       "      <td>2.88</td>\n",
       "      <td>-732.94</td>\n",
       "      <td>-732.94</td>\n",
       "      <td>-613.06</td>\n",
       "      <td>-591.62</td>\n",
       "      <td>...</td>\n",
       "      <td>-128.00</td>\n",
       "      <td>-219.88</td>\n",
       "      <td>-247.56</td>\n",
       "      <td>-287.50</td>\n",
       "      <td>-135.41</td>\n",
       "      <td>-135.41</td>\n",
       "      <td>40.19</td>\n",
       "      <td>81.06</td>\n",
       "      <td>110.88</td>\n",
       "      <td>16.50</td>\n",
       "      <td>-1286.59</td>\n",
       "      <td>-1286.59</td>\n",
       "      <td>-1286.59</td>\n",
       "      <td>-1286.59</td>\n",
       "      <td>-1286.59</td>\n",
       "      <td>-1286.59</td>\n",
       "      <td>-1286.59</td>\n",
       "      <td>-1286.59</td>\n",
       "      <td>-14.94</td>\n",
       "      <td>64.09</td>\n",
       "      <td>8.38</td>\n",
       "      <td>45.31</td>\n",
       "      <td>100.72</td>\n",
       "      <td>91.53</td>\n",
       "      <td>46.69</td>\n",
       "      <td>20.34</td>\n",
       "      <td>30.94</td>\n",
       "      <td>-36.81</td>\n",
       "      <td>-33.28</td>\n",
       "      <td>-69.62</td>\n",
       "      <td>-208.00</td>\n",
       "      <td>-280.28</td>\n",
       "      <td>-340.41</td>\n",
       "      <td>-337.41</td>\n",
       "      <td>-268.03</td>\n",
       "      <td>-245.00</td>\n",
       "      <td>-230.62</td>\n",
       "      <td>-129.59</td>\n",
       "      <td>-35.47</td>\n",
       "      <td>122.34</td>\n",
       "      <td>93.03</td>\n",
       "      <td>93.03</td>\n",
       "      <td>68.81</td>\n",
       "      <td>9.81</td>\n",
       "      <td>20.75</td>\n",
       "      <td>20.25</td>\n",
       "      <td>-120.81</td>\n",
       "      <td>-257.56</td>\n",
       "      <td>-215.41</td>\n",
       "    </tr>\n",
       "    <tr>\n",
       "      <td>4</td>\n",
       "      <td>2</td>\n",
       "      <td>-39.57</td>\n",
       "      <td>-15.88</td>\n",
       "      <td>-9.16</td>\n",
       "      <td>-6.37</td>\n",
       "      <td>-16.13</td>\n",
       "      <td>-24.05</td>\n",
       "      <td>-0.90</td>\n",
       "      <td>-45.20</td>\n",
       "      <td>-5.04</td>\n",
       "      <td>14.62</td>\n",
       "      <td>-19.52</td>\n",
       "      <td>-11.43</td>\n",
       "      <td>-49.80</td>\n",
       "      <td>25.84</td>\n",
       "      <td>11.62</td>\n",
       "      <td>3.18</td>\n",
       "      <td>-9.59</td>\n",
       "      <td>14.49</td>\n",
       "      <td>8.82</td>\n",
       "      <td>32.32</td>\n",
       "      <td>-28.90</td>\n",
       "      <td>-28.90</td>\n",
       "      <td>-14.09</td>\n",
       "      <td>-30.87</td>\n",
       "      <td>-18.99</td>\n",
       "      <td>-38.60</td>\n",
       "      <td>-27.79</td>\n",
       "      <td>9.65</td>\n",
       "      <td>29.60</td>\n",
       "      <td>7.88</td>\n",
       "      <td>42.87</td>\n",
       "      <td>27.59</td>\n",
       "      <td>27.05</td>\n",
       "      <td>20.26</td>\n",
       "      <td>29.48</td>\n",
       "      <td>9.71</td>\n",
       "      <td>22.84</td>\n",
       "      <td>25.99</td>\n",
       "      <td>-667.55</td>\n",
       "      <td>-1336.24</td>\n",
       "      <td>-1207.88</td>\n",
       "      <td>-310.07</td>\n",
       "      <td>6.18</td>\n",
       "      <td>18.24</td>\n",
       "      <td>48.23</td>\n",
       "      <td>7.60</td>\n",
       "      <td>34.93</td>\n",
       "      <td>20.13</td>\n",
       "      <td>...</td>\n",
       "      <td>-28.68</td>\n",
       "      <td>62.41</td>\n",
       "      <td>93.07</td>\n",
       "      <td>-217.29</td>\n",
       "      <td>-217.29</td>\n",
       "      <td>-217.29</td>\n",
       "      <td>-217.29</td>\n",
       "      <td>-203.96</td>\n",
       "      <td>-171.62</td>\n",
       "      <td>-122.12</td>\n",
       "      <td>-32.01</td>\n",
       "      <td>-47.15</td>\n",
       "      <td>-56.45</td>\n",
       "      <td>-41.71</td>\n",
       "      <td>-34.13</td>\n",
       "      <td>-43.12</td>\n",
       "      <td>-53.63</td>\n",
       "      <td>-53.63</td>\n",
       "      <td>-53.63</td>\n",
       "      <td>-24.29</td>\n",
       "      <td>22.29</td>\n",
       "      <td>25.18</td>\n",
       "      <td>1.84</td>\n",
       "      <td>-22.29</td>\n",
       "      <td>-26.43</td>\n",
       "      <td>-12.12</td>\n",
       "      <td>-33.05</td>\n",
       "      <td>-21.66</td>\n",
       "      <td>-228.32</td>\n",
       "      <td>-228.32</td>\n",
       "      <td>-228.32</td>\n",
       "      <td>-187.35</td>\n",
       "      <td>-166.23</td>\n",
       "      <td>-115.54</td>\n",
       "      <td>-50.18</td>\n",
       "      <td>-37.96</td>\n",
       "      <td>-22.37</td>\n",
       "      <td>-4.74</td>\n",
       "      <td>-35.82</td>\n",
       "      <td>-37.87</td>\n",
       "      <td>-61.85</td>\n",
       "      <td>-27.15</td>\n",
       "      <td>-21.18</td>\n",
       "      <td>-33.76</td>\n",
       "      <td>-85.34</td>\n",
       "      <td>-81.46</td>\n",
       "      <td>-61.98</td>\n",
       "      <td>-69.34</td>\n",
       "      <td>-17.84</td>\n",
       "    </tr>\n",
       "  </tbody>\n",
       "</table>\n",
       "<p>5 rows × 3198 columns</p>\n",
       "</div>"
      ],
      "text/plain": [
       "   LABEL   FLUX.1   FLUX.2   FLUX.3  ...  FLUX.3194  FLUX.3195  FLUX.3196  FLUX.3197\n",
       "0      2   119.88   100.21    86.46  ...      31.93      35.78     269.43      57.72\n",
       "1      2  5736.59  5699.98  5717.16  ...   -2265.98   -2366.19   -2294.86   -2034.72\n",
       "2      2   844.48   817.49   770.07  ...     -95.23    -162.68     -36.79      30.63\n",
       "3      2  -826.00  -827.31  -846.12  ...      20.25    -120.81    -257.56    -215.41\n",
       "4      2   -39.57   -15.88    -9.16  ...     -81.46     -61.98     -69.34     -17.84\n",
       "\n",
       "[5 rows x 3198 columns]"
      ]
     },
     "metadata": {},
     "output_type": "display_data"
    }
   ],
   "source": [
    "# comparing train and test datasets\n",
    "display(train.head(), test.head())"
   ]
  },
  {
   "cell_type": "markdown",
   "metadata": {},
   "source": [
    "Our target column `LABEL` assigns each star with a 1 or a 2 to designate whether or not there is a confirmed exoplanet that was found in the star's orbit. This is precisely what we are trying to classify in our model below.\n",
    "\n",
    "Notice there are a total of only 42 stars that are labeled \"2\", ie confirmed exoplanet orbiting this star. \n",
    "There are 37 exoplanet host stars in the training set, and only 5 in the test set. Such highly imbalanced classes will be something we need to deal with carefully in our model."
   ]
  },
  {
   "cell_type": "markdown",
   "metadata": {},
   "source": [
    "## Check Nulls"
   ]
  },
  {
   "cell_type": "code",
   "execution_count": 21,
   "metadata": {
    "ExecuteTime": {
     "end_time": "2020-04-15T05:24:17.135778Z",
     "start_time": "2020-04-15T05:24:16.993521Z"
    }
   },
   "outputs": [
    {
     "name": "stdout",
     "output_type": "stream",
     "text": [
      "Train Nulls: 0    3198\n",
      "dtype: int64\n",
      "Test Nulls: 0    3198\n",
      "dtype: int64\n"
     ]
    }
   ],
   "source": [
    "# check for nulls\n",
    "print('Train Nulls:',train.isna().sum().value_counts())\n",
    "print('Test Nulls:',test.isna().sum().value_counts())"
   ]
  },
  {
   "cell_type": "markdown",
   "metadata": {},
   "source": [
    "# Explore"
   ]
  },
  {
   "cell_type": "markdown",
   "metadata": {},
   "source": [
    "## Planet Host vs Non-Host Stars\n",
    "\n",
    "Since we are setting out to classify stars as being either a planet-host or non-host, it would be useful to compare the data visually and see if we can pick up on any significant differences in the flux values with just our eyeballs. The simplest way to do this is plot the signals of each target class for a couple of stars and look at the scatter plots and a line plots."
   ]
  },
  {
   "cell_type": "code",
   "execution_count": 22,
   "metadata": {
    "ExecuteTime": {
     "end_time": "2020-04-15T05:24:21.234296Z",
     "start_time": "2020-04-15T05:24:21.212108Z"
    }
   },
   "outputs": [
    {
     "data": {
      "text/plain": [
       "LABEL      2.00\n",
       "FLUX.1    93.85\n",
       "FLUX.2    83.81\n",
       "FLUX.3    20.10\n",
       "FLUX.4   -26.98\n",
       "Name: 0, dtype: float64"
      ]
     },
     "metadata": {},
     "output_type": "display_data"
    },
    {
     "data": {
      "text/plain": [
       "LABEL       1.00\n",
       "FLUX.1    323.28\n",
       "FLUX.2    306.36\n",
       "FLUX.3    293.16\n",
       "FLUX.4    287.67\n",
       "Name: 5086, dtype: float64"
      ]
     },
     "metadata": {},
     "output_type": "display_data"
    }
   ],
   "source": [
    "# grab first row of observations to create pandas series \n",
    "\n",
    "# first row is label = 2 which is a confirmed exoplanet host star\n",
    "tce = train.iloc[0, :]\n",
    "\n",
    "# last row is label = 1 which shows no sign of a TCE (threshold crossing event)\n",
    "no_tce = train.iloc[-1, :]\n",
    "\n",
    "display(tce.head(),no_tce.head())"
   ]
  },
  {
   "cell_type": "markdown",
   "metadata": {},
   "source": [
    "### Threshold Crossing Event (TCE)\n",
    "TCE is determined by a significant dip in the flux values, the assumption being something crossed in front of the star blocking its light for some period of time that the telescope has designated as suspect of an orbiting planet! The occurrence of a TCE means that star is flagged as a 'Target of Interest' or in K2's case, 'Kepler Object of Ineterst' (KOI). The KOIs for each campaign have to be confirmed by a human, of course, usually an astrophysicist, and that is precisely where machine learning comes in - there are billions and billions of stars, and thus billions of billions of potential data points. \"Looking for a needle in a haystack\" doesn't even work as a metaphor for a scale this immense. This is the ultimate challenge for data scientists! Let's see what this looks like."
   ]
  },
  {
   "cell_type": "markdown",
   "metadata": {},
   "source": [
    "# A Word on Units.."
   ]
  },
  {
   "cell_type": "markdown",
   "metadata": {},
   "source": [
    "After doing a little research (mostly by reading the K2 Handbook and visiting the MAST website where NASA houses all of its space telescope data) we learn that the flux values for campaign 3 that are in the Kaggle dataset have been put through a de-noising process. Prior to this particular de-noising process, the flux values would be called `SAP Flux` however in this case we are dealing with `PDC_SAP Flux`. At the moment the units may not seem to matter much, since we assume they are consist across all observations. However, as with anything relating to physics, and science for that matter, the units MATTER. All that to say, for now we are at least going to label the axes accurately so that later down the line if we want to compare this dataset to another from the archive, we will know the units! :)"
   ]
  },
  {
   "cell_type": "code",
   "execution_count": 29,
   "metadata": {},
   "outputs": [],
   "source": [
    "import spacekit as spk\n",
    "from spacekit import analyzers\n",
    "from spacekit.analyzers import signal"
   ]
  },
  {
   "cell_type": "code",
   "execution_count": 41,
   "metadata": {},
   "outputs": [
    {
     "data": {
      "image/png": "[encoded data removed]",
      "text/plain": [
       "<Figure size 1080x360 with 1 Axes>"
      ]
     },
     "metadata": {
      "needs_background": "light"
     },
     "output_type": "display_data"
    },
    {
     "data": {
      "image/png": "[encoded data removed]",
      "text/plain": [
       "<Figure size 1080x360 with 1 Axes>"
      ]
     },
     "metadata": {
      "needs_background": "light"
     },
     "output_type": "display_data"
    },
    {
     "data": {
      "image/png": "[encoded data removed]",
      "text/plain": [
       "<Figure size 1080x360 with 1 Axes>"
      ]
     },
     "metadata": {
      "needs_background": "light"
     },
     "output_type": "display_data"
    },
    {
     "data": {
      "image/png": "[encoded data removed]",
      "text/plain": [
       "<Figure size 1080x360 with 1 Axes>"
      ]
     },
     "metadata": {
      "needs_background": "light"
     },
     "output_type": "display_data"
    }
   ],
   "source": [
    "signal.Flux.signal_plots(signal=tce, label_col='LABEL', classes=[1,2],\n",
    "                         class_names=['No Planet', 'Planet'],\n",
    "                          y_units='PDC_SAP Flux', x_units='Time')\n",
    "\n",
    "signal.Flux.signal_plots(signal=no_tce, label_col='LABEL', classes=[1,2],\n",
    "                         class_names=['No Planet', 'Planet'],\n",
    "                          y_units='PDC_SAP Flux', x_units='Time') "
   ]
  },
  {
   "cell_type": "markdown",
   "metadata": {},
   "source": [
    "# Model"
   ]
  },
  {
   "cell_type": "code",
   "execution_count": 42,
   "metadata": {
    "ExecuteTime": {
     "end_time": "2020-04-15T05:24:42.761249Z",
     "start_time": "2020-04-15T05:24:41.777336Z"
    }
   },
   "outputs": [],
   "source": [
    "# import additional libraries from sklearn\n",
    "# from sklearn.linear_model import LinearRegression\n",
    "# from sklearn.preprocessing import StandardScaler\n",
    "from scipy.ndimage.filters import uniform_filter1d\n",
    "from sklearn.model_selection import train_test_split\n",
    "from sklearn import preprocessing\n",
    "import random"
   ]
  },
  {
   "cell_type": "code",
   "execution_count": null,
   "metadata": {
    "ExecuteTime": {
     "end_time": "2020-04-15T05:24:43.817740Z",
     "start_time": "2020-04-15T05:24:43.811010Z"
    }
   },
   "outputs": [],
   "source": [
    "# !pip install keras\n",
    "# !pip install tensorflow"
   ]
  },
  {
   "cell_type": "code",
   "execution_count": 43,
   "metadata": {
    "ExecuteTime": {
     "end_time": "2020-04-15T05:24:51.037929Z",
     "start_time": "2020-04-15T05:24:44.910951Z"
    }
   },
   "outputs": [
    {
     "name": "stderr",
     "output_type": "stream",
     "text": [
      "Using TensorFlow backend.\n"
     ]
    }
   ],
   "source": [
    "# import additional libraries for keras\n",
    "import keras\n",
    "from keras.utils.np_utils import to_categorical\n",
    "\n",
    "# from keras.preprocessing.text import Tokenizer\n",
    "from keras import models, layers, optimizers\n",
    "\n",
    "\n",
    "from keras.models import Sequential, Model\n",
    "from keras.layers import Conv1D, MaxPool1D, Dense, Dropout, Flatten, \\\n",
    "BatchNormalization, Input, concatenate, Activation\n",
    "from keras.optimizers import Adam"
   ]
  },
  {
   "cell_type": "code",
   "execution_count": 44,
   "metadata": {},
   "outputs": [],
   "source": [
    "from keras.wrappers.scikit_learn import KerasClassifier\n",
    "from sklearn.model_selection import cross_val_score\n",
    "# from keras.models import Sequential # initialize neural network library\n",
    "# from keras.layers import Dense # build our layers library"
   ]
  },
  {
   "cell_type": "markdown",
   "metadata": {},
   "source": [
    "## Train-Test Split"
   ]
  },
  {
   "cell_type": "code",
   "execution_count": 46,
   "metadata": {
    "ExecuteTime": {
     "end_time": "2020-04-15T20:53:40.259811Z",
     "start_time": "2020-04-15T20:53:40.245199Z"
    }
   },
   "outputs": [
    {
     "data": {
      "text/plain": [
       "(5657, 3197)"
      ]
     },
     "metadata": {},
     "output_type": "display_data"
    },
    {
     "data": {
      "text/plain": [
       "(5657,)"
      ]
     },
     "metadata": {},
     "output_type": "display_data"
    }
   ],
   "source": [
    "exodata = train.append(test)\n",
    "X = np.asarray(exodata.iloc[:,1:])\n",
    "y = np.asarray(exodata.iloc[:,0])\n",
    "display(X.shape,y.shape)"
   ]
  },
  {
   "cell_type": "code",
   "execution_count": 47,
   "metadata": {},
   "outputs": [],
   "source": [
    "X = (X - np.min(X, 0)) / (np.max(X, 0) + 0.0001)  # 0-1 scaling"
   ]
  },
  {
   "cell_type": "code",
   "execution_count": 51,
   "metadata": {},
   "outputs": [],
   "source": [
    "X_train, X_test, Y_train, Y_test = train_test_split(X, y, test_size=0.2)"
   ]
  },
  {
   "cell_type": "code",
   "execution_count": 52,
   "metadata": {
    "scrolled": true
   },
   "outputs": [
    {
     "name": "stdout",
     "output_type": "stream",
     "text": [
      "\n",
      "[i] Length of Splits:\n",
      "X_train=5091, X_test=1132, X_val=566\n"
     ]
    }
   ],
   "source": [
    "X_train,X_val,y_train,y_val = train_test_split(X,y,test_size=0.1)\n",
    "print('\\n[i] Length of Splits:')\n",
    "print(f\"X_train={len(X_train)}, X_test={len(X_test)}, X_val={len(X_val)}\")"
   ]
  },
  {
   "cell_type": "code",
   "execution_count": null,
   "metadata": {
    "ExecuteTime": {
     "end_time": "2020-04-15T20:55:57.876297Z",
     "start_time": "2020-04-15T20:55:36.390055Z"
    }
   },
   "outputs": [],
   "source": [
    "# # split data into train and test sets as 1-dimensional arrays\n",
    "# x_train, y_train, x_test, y_test = process.numpy_train_test_split(data_folder='data/', \n",
    "#                                                           train_set='exoTrain.csv', \n",
    "#                                                           test_set='exoTest.csv')"
   ]
  },
  {
   "cell_type": "code",
   "execution_count": null,
   "metadata": {
    "ExecuteTime": {
     "end_time": "2020-04-15T21:03:12.603588Z",
     "start_time": "2020-04-15T21:03:12.549514Z"
    },
    "scrolled": false
   },
   "outputs": [],
   "source": [
    "# # inspect changes made to the data by splitting function\n",
    "# display(x_train, x_test)"
   ]
  },
  {
   "cell_type": "code",
   "execution_count": null,
   "metadata": {
    "ExecuteTime": {
     "end_time": "2020-04-15T21:03:54.771010Z",
     "start_time": "2020-04-15T21:03:54.760763Z"
    }
   },
   "outputs": [],
   "source": [
    "# # notice that the above function converted the target classes into binary\n",
    "# display(y_train)"
   ]
  },
  {
   "cell_type": "markdown",
   "metadata": {},
   "source": [
    "## Scaling\n",
    "\n",
    "Scale each observation to zero mean and unit variance."
   ]
  },
  {
   "cell_type": "code",
   "execution_count": 64,
   "metadata": {
    "ExecuteTime": {
     "end_time": "2020-04-16T08:54:22.948517Z",
     "start_time": "2020-04-16T08:54:22.938107Z"
    }
   },
   "outputs": [],
   "source": [
    "# TODO \n",
    "from spacekit import models\n",
    "from spacekit.models import *"
   ]
  },
  {
   "cell_type": "code",
   "execution_count": 65,
   "metadata": {},
   "outputs": [],
   "source": [
    "def zero_scaler(x_train, x_test):\n",
    "        \"\"\"\n",
    "        Scales each observation of an array to zero mean and unit variance.\n",
    "        Takes array for train and test data separately.\n",
    "        \"\"\"\n",
    "        import numpy as np\n",
    "            \n",
    "        x_train = ((x_train - np.mean(x_train, axis=1).reshape(-1,1)) / \n",
    "            np.std(x_train, axis=1).reshape(-1,1))\n",
    "        \n",
    "        x_test = ((x_test - np.mean(x_test, axis=1).reshape(-1,1)) / \n",
    "                np.std(x_test, axis=1).reshape(-1,1))\n",
    "    \n",
    "        return x_train, x_test"
   ]
  },
  {
   "cell_type": "code",
   "execution_count": 67,
   "metadata": {
    "ExecuteTime": {
     "end_time": "2020-04-15T21:05:19.835840Z",
     "start_time": "2020-04-15T21:05:19.165705Z"
    }
   },
   "outputs": [
    {
     "data": {
      "text/plain": [
       "array([[-0.60123698, -0.57003911, -0.58259588, ...,  1.11541803,\n",
       "         1.10873504,  0.93044858],\n",
       "       [-0.6012229 , -0.57001991, -0.58258113, ...,  1.11534536,\n",
       "         1.10868244,  0.93036424],\n",
       "       [-0.60118595, -0.56998207, -0.58255509, ...,  1.11494938,\n",
       "         1.10829514,  0.93000335],\n",
       "       ...,\n",
       "       [-0.60122973, -0.57002719, -0.58258743, ...,  1.11545615,\n",
       "         1.10870744,  0.93037827],\n",
       "       [-0.60121879, -0.57001556, -0.58257006, ...,  1.11498443,\n",
       "         1.1083428 ,  0.92998602],\n",
       "       [-0.60125176, -0.57004143, -0.58259595, ...,  1.11535379,\n",
       "         1.10869558,  0.93033433]])"
      ]
     },
     "metadata": {},
     "output_type": "display_data"
    },
    {
     "data": {
      "text/plain": [
       "array([[-0.60123224, -0.57002825, -0.58258895, ...,  1.11532784,\n",
       "         1.10866787,  0.93034267],\n",
       "       [-0.60125973, -0.57001124, -0.58248862, ...,  1.11627327,\n",
       "         1.10979905,  0.93109119],\n",
       "       [-0.6012446 , -0.57004077, -0.5826007 , ...,  1.11530091,\n",
       "         1.10861326,  0.93030494],\n",
       "       ...,\n",
       "       [-0.60123121, -0.5700278 , -0.58258938, ...,  1.11534566,\n",
       "         1.10868368,  0.9303588 ],\n",
       "       [-0.60124437, -0.57005023, -0.58259342, ...,  1.1150467 ,\n",
       "         1.10834331,  0.93002055],\n",
       "       [-0.60174473, -0.5704891 , -0.5829634 , ...,  1.09948343,\n",
       "         1.0916713 ,  0.91271037]])"
      ]
     },
     "metadata": {},
     "output_type": "display_data"
    }
   ],
   "source": [
    "# Scale each row to zero mean and unit variance.\n",
    "X_train, X_test = zero_scaler(X_train, X_test)\n",
    "\n",
    "# inspect changes\n",
    "display(X_train, X_test)"
   ]
  },
  {
   "cell_type": "code",
   "execution_count": 73,
   "metadata": {},
   "outputs": [],
   "source": [
    "X_train, X_test = zero_scaler(X_train, X_val)"
   ]
  },
  {
   "cell_type": "code",
   "execution_count": null,
   "metadata": {},
   "outputs": [],
   "source": [
    "X_train, X_val = zero_scaler(X_train, X_val)"
   ]
  },
  {
   "cell_type": "code",
   "execution_count": 74,
   "metadata": {
    "ExecuteTime": {
     "end_time": "2020-04-15T21:05:40.697796Z",
     "start_time": "2020-04-15T21:05:40.686696Z"
    }
   },
   "outputs": [
    {
     "data": {
      "text/plain": [
       "7.112094946613452e-17"
      ]
     },
     "execution_count": 74,
     "metadata": {},
     "output_type": "execute_result"
    }
   ],
   "source": [
    "# verify mean is zero by checking one of the rows\n",
    "X_train[0].mean()"
   ]
  },
  {
   "cell_type": "code",
   "execution_count": 70,
   "metadata": {
    "ExecuteTime": {
     "end_time": "2020-04-15T21:06:53.081800Z",
     "start_time": "2020-04-15T21:06:53.070789Z"
    }
   },
   "outputs": [
    {
     "data": {
      "text/plain": [
       "0.9999999999999998"
      ]
     },
     "execution_count": 70,
     "metadata": {},
     "output_type": "execute_result"
    }
   ],
   "source": [
    "# verify std is equal to 1 (unit variance)\n",
    "X_train[0].std()"
   ]
  },
  {
   "cell_type": "markdown",
   "metadata": {},
   "source": [
    "## De-noising"
   ]
  },
  {
   "cell_type": "markdown",
   "metadata": {},
   "source": [
    "In order to reduce the amount of high frequency noise that is likely to have an adverse effect on the neural network's learning outcomes, we can pass a uniform 1-D filter on our scaled train and test data then stack the arrays along the second axis. There are other techniques we might want to apply for further de-noising but for now we'll start with this for the baseline."
   ]
  },
  {
   "cell_type": "code",
   "execution_count": 71,
   "metadata": {
    "ExecuteTime": {
     "end_time": "2020-04-15T21:20:25.066474Z",
     "start_time": "2020-04-15T21:20:25.057335Z"
    }
   },
   "outputs": [
    {
     "name": "stdout",
     "output_type": "stream",
     "text": [
      "(5091, 3197)\n",
      "(4525,)\n"
     ]
    }
   ],
   "source": [
    "print(X_train.shape)\n",
    "print(Y_train.shape)"
   ]
  },
  {
   "cell_type": "code",
   "execution_count": 75,
   "metadata": {},
   "outputs": [],
   "source": [
    "def time_filter(x_train, x_test, step_size=None, axis=2):\n",
    "        \"\"\"\n",
    "        Adds an input corresponding to the running average over a set number\n",
    "        of time steps. This helps the neural network to ignore high frequency \n",
    "        noise by passing in a uniform 1-D filter and stacking the arrays. \n",
    "        \n",
    "        **ARGS\n",
    "        step_size: integer, # timesteps for 1D filter. defaults to 200\n",
    "        axis: which axis to stack the arrays\n",
    "        \"\"\"\n",
    "        import numpy as np\n",
    "        from scipy.ndimage.filters import uniform_filter1d\n",
    "        \n",
    "        if step_size is None:\n",
    "            step_size=200\n",
    "        \n",
    "        train_filter = uniform_filter1d(x_train, axis=1, size=step_size)\n",
    "        test_filter = uniform_filter1d(x_test, axis=1, size=step_size)\n",
    "        \n",
    "        x_train = np.stack([x_train, train_filter], axis=2)\n",
    "        x_test = np.stack([x_test, test_filter], axis=2)\n",
    "\n",
    "        return x_train, x_test\n",
    "\n",
    "    "
   ]
  },
  {
   "cell_type": "code",
   "execution_count": 77,
   "metadata": {
    "ExecuteTime": {
     "end_time": "2020-04-16T08:54:31.393266Z",
     "start_time": "2020-04-16T08:54:31.369544Z"
    }
   },
   "outputs": [],
   "source": [
    "# calc input for flux signal rolling avgs \n",
    "# store in array and stack on 2nd axis for each obs\n",
    "# of X data\n",
    "\n",
    "X_train, X_test = time_filter(X_train, X_test, step_size=200, axis=2)"
   ]
  },
  {
   "cell_type": "code",
   "execution_count": 79,
   "metadata": {},
   "outputs": [],
   "source": [
    "X_train, X_val = time_filter(X_train, X_val, step_size=200, axis=2)"
   ]
  },
  {
   "cell_type": "code",
   "execution_count": 78,
   "metadata": {
    "ExecuteTime": {
     "end_time": "2020-04-15T23:06:15.615861Z",
     "start_time": "2020-04-15T23:06:15.603139Z"
    }
   },
   "outputs": [
    {
     "data": {
      "text/plain": [
       "(5091, 3197, 2)"
      ]
     },
     "metadata": {},
     "output_type": "display_data"
    },
    {
     "data": {
      "text/plain": [
       "(4525,)"
      ]
     },
     "metadata": {},
     "output_type": "display_data"
    }
   ],
   "source": [
    "# we now have a 2-dimensional array for every star\n",
    "display(X_train.shape,Y_train.shape)"
   ]
  },
  {
   "cell_type": "code",
   "execution_count": 80,
   "metadata": {
    "ExecuteTime": {
     "end_time": "2020-04-16T10:22:33.395768Z",
     "start_time": "2020-04-16T10:22:32.254427Z"
    }
   },
   "outputs": [
    {
     "name": "stdout",
     "output_type": "stream",
     "text": [
      "\n",
      "x_train[0] scaled flux signals\n",
      "\n",
      "[[[-0.60123698 -0.48491786]\n",
      "  [-0.48491786 -0.47930413]]\n",
      "\n",
      " [[-0.57003911 -0.48493142]\n",
      "  [-0.48493142 -0.47929932]]\n",
      "\n",
      " [[-0.58259588 -0.48499196]\n",
      "  [-0.48499196 -0.47928573]]\n",
      "\n",
      " ...\n",
      "\n",
      " [[ 1.11541803  0.19996068]\n",
      "  [ 0.19996068  0.16796223]]\n",
      "\n",
      " [[ 1.10873504  0.19388154]\n",
      "  [ 0.19388154  0.16798966]]\n",
      "\n",
      " [[ 0.93044858  0.19010133]\n",
      "  [ 0.19010133  0.16801247]]]\n",
      "\n",
      "x_train[0] flux signal rolling avgs\n",
      "\n"
     ]
    },
    {
     "data": {
      "text/plain": [
       "[<matplotlib.lines.Line2D at 0x1c2d6eaad0>,\n",
       " <matplotlib.lines.Line2D at 0x1c2d6ead50>]"
      ]
     },
     "execution_count": 80,
     "metadata": {},
     "output_type": "execute_result"
    },
    {
     "data": {
      "image/png": "[encoded data removed]",
      "text/plain": [
       "<Figure size 432x288 with 1 Axes>"
      ]
     },
     "metadata": {
      "needs_background": "light"
     },
     "output_type": "display_data"
    }
   ],
   "source": [
    "# inspect changes\n",
    "print('\\nx_train[0] scaled flux signals\\n')\n",
    "print(X_train[0])\n",
    "# array on 2nd axis\n",
    "print('\\nx_train[0] flux signal rolling avgs\\n')\n",
    "# plot arrays\n",
    "rolling = X_train[0][:,1]\n",
    "#plt.plot(x_train[0][:,0])\n",
    "plt.plot(rolling)"
   ]
  },
  {
   "cell_type": "code",
   "execution_count": null,
   "metadata": {
    "ExecuteTime": {
     "end_time": "2020-04-15T20:52:27.219367Z",
     "start_time": "2020-04-15T20:52:27.035744Z"
    }
   },
   "outputs": [],
   "source": []
  },
  {
   "cell_type": "code",
   "execution_count": null,
   "metadata": {
    "ExecuteTime": {
     "end_time": "2020-04-15T20:52:47.780908Z",
     "start_time": "2020-04-15T20:52:47.585476Z"
    }
   },
   "outputs": [],
   "source": []
  },
  {
   "cell_type": "code",
   "execution_count": null,
   "metadata": {
    "ExecuteTime": {
     "end_time": "2020-04-15T23:10:01.771483Z",
     "start_time": "2020-04-15T23:10:01.759284Z"
    }
   },
   "outputs": [],
   "source": []
  },
  {
   "cell_type": "code",
   "execution_count": null,
   "metadata": {
    "ExecuteTime": {
     "end_time": "2020-04-16T04:08:32.747191Z",
     "start_time": "2020-04-16T04:08:32.736770Z"
    }
   },
   "outputs": [],
   "source": []
  },
  {
   "cell_type": "code",
   "execution_count": null,
   "metadata": {},
   "outputs": [],
   "source": []
  },
  {
   "cell_type": "code",
   "execution_count": 81,
   "metadata": {
    "ExecuteTime": {
     "end_time": "2020-04-16T06:33:40.815718Z",
     "start_time": "2020-04-16T06:33:40.800846Z"
    }
   },
   "outputs": [],
   "source": [
    "import numpy as np\n",
    "import matplotlib.pyplot as plt\n",
    "\n",
    "from scipy.ndimage import convolve\n",
    "from sklearn import linear_model, datasets, metrics\n",
    "from sklearn.model_selection import train_test_split\n",
    "from sklearn.neural_network import BernoulliRBM\n",
    "from sklearn.pipeline import Pipeline\n",
    "from sklearn.base import clone"
   ]
  },
  {
   "cell_type": "markdown",
   "metadata": {},
   "source": [
    "## Build Model"
   ]
  },
  {
   "cell_type": "markdown",
   "metadata": {},
   "source": [
    "### **Tactical Decisions**\n",
    "\n",
    "Since I'm building the baseline model from scratch, a few considerations need to be made. While we can run a gridsearch (or randomizedsearchCV) to get the parameters for us, we still need to decide what type of model would be most ideal for this dataset, knowing what we know so far based on the work done so far. From there, we can go with best practices, assess the initial outcomes, and tune the hyperparameters with each iteration. \n",
    "\n",
    "**CNN**\n",
    "The baseline will consist of a one-dimensional convolutional neural network (CNN). This is ideal for working with this particular dataset in which we will pass one row of the timeseries flux values as an array. This is very similar to how we would process image data (and that's strategically useful if we want to develop the model in the future to handle Full-Frame Images from Tess, for instance, or spectographs of the flux frequences, for instance. \n",
    "\n",
    "**1-Layer at a time**\n",
    "We'll be using the Keras API which makes it easy to add in the layers one at a time. Each 1D convolutional layer corresponds to a local filter, and then a pooling layer reduces the data length by approximately a factor 4. At the end, there are two dense layers. Again, this is similar to the approach taken for a typical image classifier. \n",
    "\n",
    "**Activation Function**\n",
    "The RELU activation function is closest to how real neurons actually work and often produces the best results compared to the other options, so we'll at least start with this for the baseline.\n",
    "\n",
    "**Batch Normalization**\n",
    "Finally, the batch normalization layers are what help to speed up convergence. "
   ]
  },
  {
   "cell_type": "markdown",
   "metadata": {},
   "source": [
    "## Batch Generator"
   ]
  },
  {
   "cell_type": "markdown",
   "metadata": {},
   "source": [
    "To correct for the extremely unbalanced dataset, we'll ensure that the network sees 50% of the positive sample over each batch. We will also apply augmentation by rotating each of the samples randomly each time, thus generating new data. This is similar to image classification when we rotate or shift the samples each time."
   ]
  },
  {
   "cell_type": "code",
   "execution_count": 82,
   "metadata": {
    "ExecuteTime": {
     "end_time": "2020-04-15T04:16:26.421009Z",
     "start_time": "2020-04-15T04:16:26.408199Z"
    },
    "code_folding": [
     0
    ]
   },
   "outputs": [],
   "source": [
    "def batch_maker(x_train, y_train, batch_size=32):\n",
    "    \"\"\"\n",
    "    Gives equal number of positive and negative samples rotating randomly\n",
    "    \n",
    "    generator: A generator or an instance of `keras.utils.Sequence`\n",
    "        \n",
    "    The output of the generator must be either\n",
    "    - a tuple `(inputs, targets)`\n",
    "    - a tuple `(inputs, targets, sample_weights)`.\n",
    "\n",
    "    This tuple (a single output of the generator) makes a single\n",
    "    batch. Therefore, all arrays in this tuple must have the same\n",
    "    length (equal to the size of this batch). Different batches may have \n",
    "    different sizes. \n",
    "\n",
    "    For example, the last batch of the epoch\n",
    "    is commonly smaller than the others, if the size of the dataset\n",
    "    is not divisible by the batch size.\n",
    "    The generator is expected to loop over its data\n",
    "    indefinitely. An epoch finishes when `steps_per_epoch`\n",
    "    batches have been seen by the model.\n",
    "    \n",
    "    \"\"\"\n",
    "    import numpy\n",
    "    import random\n",
    "\n",
    "    half_batch = batch_size // 2\n",
    "    \n",
    "    # Returns a new array of given shape and type, without initializing entries.\n",
    "    # x_train.shape = (5087, 3197, 2)\n",
    "    x_batch = np.empty((batch_size, x_train.shape[1], x_train.shape[2]), dtype='float32')\n",
    "    #y_train.shape = (5087, 1)\n",
    "    y_batch = np.empty((batch_size, y_train.shape[1]), dtype='float32')\n",
    "    \n",
    "    pos_idx = np.where(y_train[:,0] == 1.)[0]\n",
    "    neg_idx = np.where(y_train[:,0] == 0.)[0]\n",
    "\n",
    "    # rotating each of the samples randomly\n",
    "    while True:\n",
    "        np.random.shuffle(pos_idx)\n",
    "        np.random.shuffle(neg_idx)\n",
    "    \n",
    "        x_batch[:half_batch] = x_train[pos_idx[:half_batch]]\n",
    "        x_batch[half_batch:] = x_train[neg_idx[half_batch:batch_size]]\n",
    "        y_batch[:half_batch] = y_train[pos_idx[:half_batch]]\n",
    "        y_batch[half_batch:] = y_train[neg_idx[half_batch:batch_size]]\n",
    "    \n",
    "        for i in range(batch_size):\n",
    "            sz = np.random.randint(x_batch.shape[1])\n",
    "            x_batch[i] = np.roll(x_batch[i], sz, axis = 0)\n",
    "     \n",
    "        yield x_batch, y_batch"
   ]
  },
  {
   "cell_type": "markdown",
   "metadata": {},
   "source": [
    "## Train Model"
   ]
  },
  {
   "cell_type": "code",
   "execution_count": 84,
   "metadata": {
    "ExecuteTime": {
     "end_time": "2020-04-16T12:49:07.987478Z",
     "start_time": "2020-04-16T12:49:07.897392Z"
    }
   },
   "outputs": [],
   "source": [
    "# x_train.shape[1:]\n",
    "def keras_kit(build_fn=None, kernel_size=11, activation='relu', \n",
    "                 input_shape=None, strides=4,\n",
    "                 compiler=None, params=None, batch_size=32):\n",
    "    \"\"\"\n",
    "    Builds, compiles and fits a keras model\n",
    "    Takes in dictionaries of parameters for both compiler and\n",
    "    fit_generator.\n",
    "    \n",
    "    *ARGS\n",
    "    build_fn: build function for creating model, can also pass in a model\n",
    "    compiler : dict of paramaters for model.compile()\n",
    "    params : dict of parameters for model.fit_generator\n",
    "\n",
    "    \"\"\"\n",
    "    # set default parameters if not made explicit\n",
    "    \n",
    "#     def keras_1D(, kernel_size=11, \n",
    "#                            activation='relu', \n",
    "#                            input_shape=x_train.shape[1:], strides=4):\n",
    "    model=Sequential()\n",
    "    \n",
    "    #layer1: takes input shape\n",
    "    model.add(Conv1D(filters=8, kernel_size=kernel_size, \n",
    "                     activation=activation, input_shape=input_shape))\n",
    "    model.add(MaxPool1D(strides=strides))\n",
    "    model.add(BatchNormalization())\n",
    "\n",
    "    #layer2\n",
    "    model.add(Conv1D(filters=16, kernel_size=kernel_size, \n",
    "                     activation=activation))\n",
    "    model.add(MaxPool1D(strides=strides))\n",
    "    model.add(BatchNormalization())\n",
    "    \n",
    "    #layer3\n",
    "    model.add(Conv1D(filters=32, kernel_size=kernel_size, \n",
    "                     activation=activation))\n",
    "    model.add(MaxPool1D(strides=strides))\n",
    "    model.add(BatchNormalization())\n",
    "    \n",
    "    #layer4\n",
    "    model.add(Conv1D(filters=64, kernel_size=kernel_size, \n",
    "                     activation=activation))\n",
    "    model.add(MaxPool1D(strides=strides))\n",
    "    model.add(Flatten())\n",
    "    \n",
    "    # Full Connection\n",
    "    model.add(Dropout(0.5))\n",
    "    model.add(Dense(64, activation=activation))\n",
    "    model.add(Dropout(0.25))\n",
    "    model.add(Dense(64, activation=activation))\n",
    "    \n",
    "    # sigmoid function\n",
    "    model.add(Dense(1, activation='sigmoid'))\n",
    "\n",
    "    # COMPILE vars\n",
    "    if compiler:   \n",
    "        optimizer=compiler['optimizer']\n",
    "        learning_rate=compiler['learning_rate'] \n",
    "        loss=compiler['loss']\n",
    "        metrics=compiler['metrics']\n",
    "     \n",
    "    else:\n",
    "        optimizer=Adam\n",
    "        learning_rate=1e-5\n",
    "        loss='binary_crossentropy'\n",
    "        metrics=['accuracy']\n",
    "        \n",
    "        \n",
    "    ##### COMPILE AND FIT #####\n",
    "    model.compile(optimizer=optimizer(learning_rate), loss=loss, \n",
    "                  metrics=metrics)\n",
    "    \n",
    "    # HISTORY vars\n",
    "#     if generator is None:\n",
    "#         generator = batch_maker(x_train, y_train, batch_size)\n",
    "    \n",
    "    if params:\n",
    "        validation_data = params['validation_data']\n",
    "        verbose = params['verbose']\n",
    "        epochs = params['epochs']\n",
    "        steps_per_epoch = params['steps_per_epoch']\n",
    "    else:\n",
    "        validation_data = (x_test, y_test)\n",
    "        verbose=0\n",
    "        epochs=5\n",
    "        steps_per_epoch=x_train.shape[1]//32\n",
    "    \n",
    "    history = model.fit_generator(batch_maker(x_train, y_train, batch_size), \n",
    "                                  validation_data=validation_data, \n",
    "                                  verbose=verbose, epochs=epochs, \n",
    "                                  steps_per_epoch=steps_per_epoch)\n",
    "    \n",
    "    return model, history"
   ]
  },
  {
   "cell_type": "markdown",
   "metadata": {},
   "source": [
    "# `Model 1`\n",
    "\n",
    "We'll begin creating a baseline model with a lower than usual learning rate and then speed things up and fine-tune parameters for optimization in the next iterations. (The lower learning rate will help to ensure convergence.) \n",
    "\n",
    "We'll increase the learning rate in Model2 iteration and also tune any other parameters as necessary. The first iteration uses the Adam optimizer, however, SGD is also a good option we could try here."
   ]
  },
  {
   "cell_type": "code",
   "execution_count": 86,
   "metadata": {
    "ExecuteTime": {
     "end_time": "2020-04-15T04:16:29.826973Z",
     "start_time": "2020-04-15T04:16:29.822169Z"
    }
   },
   "outputs": [],
   "source": [
    "# create params dict for compiling model\n",
    "compiler = dict(optimizer=Adam,\n",
    "                learning_rate=1e-5,\n",
    "                loss='binary_crossentropy',\n",
    "                metrics=['accuracy'])\n",
    "\n",
    "# create dict for fit_generator parameters\n",
    "params = dict(validation_data = (X_test, Y_test), \n",
    "              verbose=2, \n",
    "              epochs=5, \n",
    "              steps_per_epoch=(X_train.shape[1]//32))"
   ]
  },
  {
   "cell_type": "code",
   "execution_count": 87,
   "metadata": {
    "ExecuteTime": {
     "end_time": "2020-04-15T04:16:24.118991Z",
     "start_time": "2020-04-15T04:16:23.672543Z"
    }
   },
   "outputs": [
    {
     "ename": "ValueError",
     "evalue": "Input 0 is incompatible with layer conv1d_1: expected ndim=3, found ndim=4",
     "output_type": "error",
     "traceback": [
      "\u001b[0;31m---------------------------------------------------------------------------\u001b[0m",
      "\u001b[0;31mValueError\u001b[0m                                Traceback (most recent call last)",
      "\u001b[0;32m<ipython-input-87-21813fd3329a>\u001b[0m in \u001b[0;36m<module>\u001b[0;34m\u001b[0m\n\u001b[1;32m      1\u001b[0m keras_kit(build_fn=None, kernel_size=11, activation='relu', \n\u001b[1;32m      2\u001b[0m                  \u001b[0minput_shape\u001b[0m\u001b[0;34m=\u001b[0m\u001b[0mX_train\u001b[0m\u001b[0;34m.\u001b[0m\u001b[0mshape\u001b[0m\u001b[0;34m[\u001b[0m\u001b[0;36m1\u001b[0m\u001b[0;34m:\u001b[0m\u001b[0;34m]\u001b[0m\u001b[0;34m,\u001b[0m \u001b[0mstrides\u001b[0m\u001b[0;34m=\u001b[0m\u001b[0;36m4\u001b[0m\u001b[0;34m,\u001b[0m\u001b[0;34m\u001b[0m\u001b[0;34m\u001b[0m\u001b[0m\n\u001b[0;32m----> 3\u001b[0;31m                  compiler=None, params=None, batch_size=32)\n\u001b[0m",
      "\u001b[0;32m<ipython-input-84-8de599c2185e>\u001b[0m in \u001b[0;36mkeras_kit\u001b[0;34m(build_fn, kernel_size, activation, input_shape, strides, compiler, params, batch_size)\u001b[0m\n\u001b[1;32m     23\u001b[0m     \u001b[0;31m#layer1: takes input shape\u001b[0m\u001b[0;34m\u001b[0m\u001b[0;34m\u001b[0m\u001b[0;34m\u001b[0m\u001b[0m\n\u001b[1;32m     24\u001b[0m     model.add(Conv1D(filters=8, kernel_size=kernel_size, \n\u001b[0;32m---> 25\u001b[0;31m                      activation=activation, input_shape=input_shape))\n\u001b[0m\u001b[1;32m     26\u001b[0m     \u001b[0mmodel\u001b[0m\u001b[0;34m.\u001b[0m\u001b[0madd\u001b[0m\u001b[0;34m(\u001b[0m\u001b[0mMaxPool1D\u001b[0m\u001b[0;34m(\u001b[0m\u001b[0mstrides\u001b[0m\u001b[0;34m=\u001b[0m\u001b[0mstrides\u001b[0m\u001b[0;34m)\u001b[0m\u001b[0;34m)\u001b[0m\u001b[0;34m\u001b[0m\u001b[0;34m\u001b[0m\u001b[0m\n\u001b[1;32m     27\u001b[0m     \u001b[0mmodel\u001b[0m\u001b[0;34m.\u001b[0m\u001b[0madd\u001b[0m\u001b[0;34m(\u001b[0m\u001b[0mBatchNormalization\u001b[0m\u001b[0;34m(\u001b[0m\u001b[0;34m)\u001b[0m\u001b[0;34m)\u001b[0m\u001b[0;34m\u001b[0m\u001b[0;34m\u001b[0m\u001b[0m\n",
      "\u001b[0;32m~/opt/anaconda3/lib/python3.7/site-packages/keras/engine/sequential.py\u001b[0m in \u001b[0;36madd\u001b[0;34m(self, layer)\u001b[0m\n\u001b[1;32m    164\u001b[0m                     \u001b[0;31m# and create the node connecting the current layer\u001b[0m\u001b[0;34m\u001b[0m\u001b[0;34m\u001b[0m\u001b[0;34m\u001b[0m\u001b[0m\n\u001b[1;32m    165\u001b[0m                     \u001b[0;31m# to the input layer we just created.\u001b[0m\u001b[0;34m\u001b[0m\u001b[0;34m\u001b[0m\u001b[0;34m\u001b[0m\u001b[0m\n\u001b[0;32m--> 166\u001b[0;31m                     \u001b[0mlayer\u001b[0m\u001b[0;34m(\u001b[0m\u001b[0mx\u001b[0m\u001b[0;34m)\u001b[0m\u001b[0;34m\u001b[0m\u001b[0;34m\u001b[0m\u001b[0m\n\u001b[0m\u001b[1;32m    167\u001b[0m                     \u001b[0mset_inputs\u001b[0m \u001b[0;34m=\u001b[0m \u001b[0;32mTrue\u001b[0m\u001b[0;34m\u001b[0m\u001b[0;34m\u001b[0m\u001b[0m\n\u001b[1;32m    168\u001b[0m             \u001b[0;32melse\u001b[0m\u001b[0;34m:\u001b[0m\u001b[0;34m\u001b[0m\u001b[0;34m\u001b[0m\u001b[0m\n",
      "\u001b[0;32m~/opt/anaconda3/lib/python3.7/site-packages/keras/engine/base_layer.py\u001b[0m in \u001b[0;36m__call__\u001b[0;34m(self, inputs, **kwargs)\u001b[0m\n\u001b[1;32m    444\u001b[0m                 \u001b[0;31m# Raise exceptions in case the input is not compatible\u001b[0m\u001b[0;34m\u001b[0m\u001b[0;34m\u001b[0m\u001b[0;34m\u001b[0m\u001b[0m\n\u001b[1;32m    445\u001b[0m                 \u001b[0;31m# with the input_spec specified in the layer constructor.\u001b[0m\u001b[0;34m\u001b[0m\u001b[0;34m\u001b[0m\u001b[0;34m\u001b[0m\u001b[0m\n\u001b[0;32m--> 446\u001b[0;31m                 \u001b[0mself\u001b[0m\u001b[0;34m.\u001b[0m\u001b[0massert_input_compatibility\u001b[0m\u001b[0;34m(\u001b[0m\u001b[0minputs\u001b[0m\u001b[0;34m)\u001b[0m\u001b[0;34m\u001b[0m\u001b[0;34m\u001b[0m\u001b[0m\n\u001b[0m\u001b[1;32m    447\u001b[0m \u001b[0;34m\u001b[0m\u001b[0m\n\u001b[1;32m    448\u001b[0m                 \u001b[0;31m# Collect input shapes to build layer.\u001b[0m\u001b[0;34m\u001b[0m\u001b[0;34m\u001b[0m\u001b[0;34m\u001b[0m\u001b[0m\n",
      "\u001b[0;32m~/opt/anaconda3/lib/python3.7/site-packages/keras/engine/base_layer.py\u001b[0m in \u001b[0;36massert_input_compatibility\u001b[0;34m(self, inputs)\u001b[0m\n\u001b[1;32m    340\u001b[0m                                      \u001b[0mself\u001b[0m\u001b[0;34m.\u001b[0m\u001b[0mname\u001b[0m \u001b[0;34m+\u001b[0m \u001b[0;34m': expected ndim='\u001b[0m \u001b[0;34m+\u001b[0m\u001b[0;34m\u001b[0m\u001b[0;34m\u001b[0m\u001b[0m\n\u001b[1;32m    341\u001b[0m                                      \u001b[0mstr\u001b[0m\u001b[0;34m(\u001b[0m\u001b[0mspec\u001b[0m\u001b[0;34m.\u001b[0m\u001b[0mndim\u001b[0m\u001b[0;34m)\u001b[0m \u001b[0;34m+\u001b[0m \u001b[0;34m', found ndim='\u001b[0m \u001b[0;34m+\u001b[0m\u001b[0;34m\u001b[0m\u001b[0;34m\u001b[0m\u001b[0m\n\u001b[0;32m--> 342\u001b[0;31m                                      str(K.ndim(x)))\n\u001b[0m\u001b[1;32m    343\u001b[0m             \u001b[0;32mif\u001b[0m \u001b[0mspec\u001b[0m\u001b[0;34m.\u001b[0m\u001b[0mmax_ndim\u001b[0m \u001b[0;32mis\u001b[0m \u001b[0;32mnot\u001b[0m \u001b[0;32mNone\u001b[0m\u001b[0;34m:\u001b[0m\u001b[0;34m\u001b[0m\u001b[0;34m\u001b[0m\u001b[0m\n\u001b[1;32m    344\u001b[0m                 \u001b[0mndim\u001b[0m \u001b[0;34m=\u001b[0m \u001b[0mK\u001b[0m\u001b[0;34m.\u001b[0m\u001b[0mndim\u001b[0m\u001b[0;34m(\u001b[0m\u001b[0mx\u001b[0m\u001b[0;34m)\u001b[0m\u001b[0;34m\u001b[0m\u001b[0;34m\u001b[0m\u001b[0m\n",
      "\u001b[0;31mValueError\u001b[0m: Input 0 is incompatible with layer conv1d_1: expected ndim=3, found ndim=4"
     ]
    }
   ],
   "source": [
    "keras_kit(build_fn=None, kernel_size=11, activation='relu', \n",
    "                 input_shape=X_train.shape[1:], strides=4,\n",
    "                 compiler=None, params=None, batch_size=32)"
   ]
  },
  {
   "cell_type": "code",
   "execution_count": null,
   "metadata": {
    "ExecuteTime": {
     "end_time": "2020-04-15T04:17:17.496908Z",
     "start_time": "2020-04-15T04:16:32.446474Z"
    }
   },
   "outputs": [],
   "source": [
    "# MODEL 1\n",
    "# using the baseline model as our build model function\n",
    "m1, h1 = scikit_keras(build_fn=keras_train, compiler=compiler, params=params)"
   ]
  },
  {
   "cell_type": "markdown",
   "metadata": {},
   "source": [
    "## Summary (M1)"
   ]
  },
  {
   "cell_type": "code",
   "execution_count": null,
   "metadata": {
    "ExecuteTime": {
     "end_time": "2020-04-15T04:17:25.110311Z",
     "start_time": "2020-04-15T04:17:25.099651Z"
    }
   },
   "outputs": [],
   "source": [
    "m1.summary()"
   ]
  },
  {
   "cell_type": "markdown",
   "metadata": {},
   "source": [
    "## Class Predictions\n",
    "\n",
    "\n",
    "\n",
    "=======================\n",
    "Probability calibration : `sklearn.calibration` / *non-parametric isotonic calibration*\n",
    "\n",
    "When performing classification you often want not only to predict the class\n",
    "label, but also obtain a probability of the respective label. This probability\n",
    "gives you some kind of confidence on the prediction. Some models can give you\n",
    "poor estimates of the class probabilities and some even do not support\n",
    "probability prediction. The calibration module allows you to better calibrate\n",
    "the probabilities of a given model, or to add support for probability\n",
    "prediction.\n",
    "\n",
    "Well calibrated classifiers are probabilistic classifiers for which the output\n",
    "of the predict_proba method can be directly interpreted as a confidence level.\n",
    "For instance, a well calibrated (binary) classifier should classify the samples\n",
    "such that among the samples to which it gave a predict_proba value close to 0.8,\n",
    "approximately 80% actually belong to the positive class."
   ]
  },
  {
   "cell_type": "markdown",
   "metadata": {},
   "source": [
    "### Probability Values"
   ]
  },
  {
   "cell_type": "code",
   "execution_count": null,
   "metadata": {
    "ExecuteTime": {
     "end_time": "2020-04-15T04:17:29.048080Z",
     "start_time": "2020-04-15T04:17:28.638741Z"
    }
   },
   "outputs": [],
   "source": [
    "# the probability values of the predictions\n",
    "# y_hat = m1.predict(x_test)[:,0] \n",
    "m1.predict(x_test).flatten()"
   ]
  },
  {
   "cell_type": "markdown",
   "metadata": {},
   "source": [
    "### Class Predictions"
   ]
  },
  {
   "cell_type": "code",
   "execution_count": null,
   "metadata": {
    "ExecuteTime": {
     "end_time": "2020-04-15T04:17:30.737725Z",
     "start_time": "2020-04-15T04:17:30.417780Z"
    }
   },
   "outputs": [],
   "source": [
    "# Generate class predictions for test set\n",
    "m1.predict_classes(x_test).flatten() # binary class predictions"
   ]
  },
  {
   "cell_type": "markdown",
   "metadata": {},
   "source": [
    "## Evaluate (M1)\n",
    "\n",
    "Let's assess the model thus far before tuning parameters. We'll create a few helper functions for calculating metrics and analyzing results visually. "
   ]
  },
  {
   "cell_type": "code",
   "execution_count": null,
   "metadata": {
    "ExecuteTime": {
     "end_time": "2020-04-15T04:18:15.400619Z",
     "start_time": "2020-04-15T04:18:15.396531Z"
    }
   },
   "outputs": [],
   "source": [
    "import spacekit\n",
    "from spacekit.metriks import *"
   ]
  },
  {
   "cell_type": "code",
   "execution_count": null,
   "metadata": {
    "ExecuteTime": {
     "end_time": "2020-04-15T04:20:10.660341Z",
     "start_time": "2020-04-15T04:20:10.451145Z"
    }
   },
   "outputs": [],
   "source": [
    "spacekit.metriks.plots.plot_confusion_matrix()"
   ]
  },
  {
   "cell_type": "markdown",
   "metadata": {},
   "source": [
    "### Classification Report\n",
    "\n",
    "Sci-kit learn has a nice built-in method for evaluating our model:"
   ]
  },
  {
   "cell_type": "code",
   "execution_count": null,
   "metadata": {
    "ExecuteTime": {
     "end_time": "2020-04-15T04:17:33.450348Z",
     "start_time": "2020-04-15T04:17:33.429270Z"
    }
   },
   "outputs": [],
   "source": [
    "from sklearn import metrics\n",
    "from sklearn.metrics import accuracy_score, f1_score, recall_score\n",
    "\n",
    "report = metrics.classification_report(y_test,y_pred)\n",
    "print(report)"
   ]
  },
  {
   "cell_type": "markdown",
   "metadata": {},
   "source": [
    "### Interpret Scores\n",
    "Not the most promising results. These scores are abysmal, however we are simply working with a baseline and the numbers should (hopefully) improve with some simply tuning of the hyperparameters, specifically with our learning rate and the number of epochs. "
   ]
  },
  {
   "cell_type": "markdown",
   "metadata": {},
   "source": [
    "While 79% is far from optimal, we have to look at some other metrics such as recall and F1 to make a true assessment of the model's accuracy. These other metrics are especially important when working with highly imbalanced classes."
   ]
  },
  {
   "cell_type": "markdown",
   "metadata": {},
   "source": [
    "### History Metrics\n",
    "\n",
    "The baseline model is not meant to give us optimal results - the real test will be in our final model below. First let's take a look at some of the visuals to understand what the scores really mean. This will help us decide how to proceed in tuning the model appropriately."
   ]
  },
  {
   "cell_type": "code",
   "execution_count": null,
   "metadata": {
    "ExecuteTime": {
     "end_time": "2020-04-14T21:12:12.339555Z",
     "start_time": "2020-04-14T21:12:12.317224Z"
    }
   },
   "outputs": [],
   "source": [
    "# def plot_keras_history(history,figsize=(10,4),subplot_kws={}):\n",
    "#     if hasattr(history,'history'):\n",
    "#         history=history.history\n",
    "#     figsize=(10,4)\n",
    "#     subplot_kws={}\n",
    "\n",
    "#     acc_keys = list(filter(lambda x: 'acc' in x,history.keys()))\n",
    "#     loss_keys = list(filter(lambda x: 'loss' in x,history.keys()))\n",
    "\n",
    "#     fig,axes=plt.subplots(ncols=2,figsize=figsize,**subplot_kws)\n",
    "#     axes = axes.flatten()\n",
    "\n",
    "#     y_labels= ['Accuracy','Loss']\n",
    "#     for a, metric in enumerate([acc_keys,loss_keys]):\n",
    "#         for i in range(len(metric)):\n",
    "#             ax = pd.Series(history[metric[i]],\n",
    "#                         name=metric[i]).plot(ax=axes[a],label=metric[i])\n",
    "#     [ax.legend() for ax in axes]\n",
    "#     [ax.xaxis.set_major_locator(mpl.ticker.MaxNLocator(integer=True)) for ax in axes]\n",
    "#     [ax.set(xlabel='Epochs') for ax in axes]\n",
    "#     plt.suptitle('Model Training Results',y=1.01)\n",
    "#     plt.tight_layout()\n",
    "#     plt.show()"
   ]
  },
  {
   "cell_type": "code",
   "execution_count": null,
   "metadata": {
    "ExecuteTime": {
     "end_time": "2020-04-14T21:12:13.468340Z",
     "start_time": "2020-04-14T21:12:12.343789Z"
    }
   },
   "outputs": [],
   "source": [
    "# plot convergence\n",
    "# plot_keras_history(h1)"
   ]
  },
  {
   "cell_type": "markdown",
   "metadata": {},
   "source": [
    "With only a few epochs, and a small learning rate, it's obvious that our training parameters has room for improvement. This is good - we will definitely need to adjust the learning rate. If that doesn't go far enough in producing desired results, we can also try using a different optimizer such as SGD instead of Adam. For now let's lok at what the predictions actually were in plain terms."
   ]
  },
  {
   "cell_type": "markdown",
   "metadata": {},
   "source": [
    "## Confusion Matrix"
   ]
  },
  {
   "cell_type": "code",
   "execution_count": null,
   "metadata": {
    "ExecuteTime": {
     "end_time": "2020-04-14T21:12:13.485908Z",
     "start_time": "2020-04-14T21:12:13.471577Z"
    }
   },
   "outputs": [],
   "source": [
    "# # generate a confusion matrix\n",
    "# from sklearn.metrics import confusion_matrix\n",
    "\n",
    "# cm = confusion_matrix(y_true, y_pred, labels=[0,1])\n",
    "# cm"
   ]
  },
  {
   "cell_type": "markdown",
   "metadata": {},
   "source": [
    "As always, it is much easier to interpret these numbers in a plot! Better yet, build a function for the plot for reuse later on:"
   ]
  },
  {
   "cell_type": "code",
   "execution_count": null,
   "metadata": {
    "ExecuteTime": {
     "end_time": "2020-04-14T21:12:13.509783Z",
     "start_time": "2020-04-14T21:12:13.488527Z"
    },
    "code_folding": []
   },
   "outputs": [],
   "source": [
    "# # PLOT Confusion Matrices\n",
    "\n",
    "# def plot_confusion_matrix(cm, classes=None,\n",
    "#                           normalize=False,\n",
    "#                           title='Confusion matrix',cmap=plt.cm.Blues):\n",
    "    \n",
    "#     import itertools\n",
    "#     # Check if normalize is set to True\n",
    "#     # If so, normalize the raw confusion matrix before visualizing\n",
    "#     if normalize:\n",
    "#         cm = cm.astype('float') / cm.sum(axis=1)[:, np.newaxis]\n",
    "#         print(\"Normalized confusion matrix\")\n",
    "#     else:\n",
    "#         print('Confusion matrix, without normalization')\n",
    "\n",
    "\n",
    "    \n",
    "#     fig, ax = plt.subplots(figsize=(10,10))\n",
    "#     #mask = np.zeros_like(cm, dtype=np.bool)\n",
    "#     #idx = np.triu_indices_from(mask)\n",
    "    \n",
    "#     #mask[idx] = True\n",
    "\n",
    "#     plt.imshow(cm, cmap=cmap, aspect='equal')\n",
    "    \n",
    "#     # Add title and axis labels \n",
    "#     plt.title('Confusion Matrix') \n",
    "#     plt.ylabel('True label') \n",
    "#     plt.xlabel('Predicted label')\n",
    "    \n",
    "#     # Add appropriate axis scales\n",
    "#     tick_marks = np.arange(len(classes))\n",
    "#     plt.xticks(tick_marks, classes, rotation=45)\n",
    "#     plt.yticks(tick_marks, classes)\n",
    "#     #ax.set_ylim(len(cm), -.5,.5)\n",
    "    \n",
    "#     # Text formatting\n",
    "#     fmt = '.2f' if normalize else 'd'\n",
    "#     # Add labels to each cell\n",
    "#     thresh = cm.max() / 2.\n",
    "#     # iterate thru matrix and append labels  \n",
    "#     for i, j in itertools.product(range(cm.shape[0]), range(cm.shape[1])):\n",
    "#         plt.text(j, i, format(cm[i, j], fmt),\n",
    "#                  horizontalalignment='center',\n",
    "#                  color='darkgray' if cm[i, j] > thresh else 'black',\n",
    "#                 size=14, weight='bold')\n",
    "    \n",
    "#     # Add a legend\n",
    "#     plt.colorbar()\n",
    "#     plt.show() "
   ]
  },
  {
   "cell_type": "code",
   "execution_count": null,
   "metadata": {
    "ExecuteTime": {
     "end_time": "2020-04-15T01:59:01.001062Z",
     "start_time": "2020-04-15T01:59:00.715271Z"
    }
   },
   "outputs": [],
   "source": [
    "# Plot confusion matrix\n",
    "cm1 = plot_confusion_matrix(cm, classes=['No Planet', 'Planet'], normalize=False,\n",
    "                      title='Normalized confusion matrix')\n",
    "cm1"
   ]
  },
  {
   "cell_type": "markdown",
   "metadata": {},
   "source": [
    "There it is. Our baseline model missed ALL FIVE planets in the test set! It predicted 111 planets in the training set, when we know there were only 37. This is what 80% accuracy gives us. Note the recall score above was 0 - this (as well as F1 and Jaccard, both of which include recall in their calculations) are critical scores for assessing the model. "
   ]
  },
  {
   "cell_type": "markdown",
   "metadata": {},
   "source": [
    "## ROC AUC\n",
    "\n",
    "Plot the ROC area under the curve"
   ]
  },
  {
   "cell_type": "code",
   "execution_count": null,
   "metadata": {
    "ExecuteTime": {
     "end_time": "2020-04-14T21:12:14.674644Z",
     "start_time": "2020-04-14T21:12:14.660298Z"
    }
   },
   "outputs": [],
   "source": [
    "# def roc_plots(y_test, y_hat):\n",
    "#     from sklearn import metrics\n",
    "#     from sklearn.metrics import roc_curve, roc_auc_score, accuracy_score\n",
    "#     y_true = (y_test[:, 0] + 0.5).astype(\"int\")   \n",
    "#     fpr, tpr, thresholds = roc_curve(y_true, y_hat) \n",
    "#     fpr, tpr, thresholds = roc_curve(y_true, y_hat)\n",
    "\n",
    "#     # Threshold Cutoff for predictions\n",
    "#     crossover_index = np.min(np.where(1.-fpr <= tpr))\n",
    "#     crossover_cutoff = thresholds[crossover_index]\n",
    "#     crossover_specificity = 1.-fpr[crossover_index]\n",
    "#     #print(\"Crossover at {0:.2f} with specificity {1:.2f}\".format(crossover_cutoff, crossover_specificity))\n",
    "    \n",
    "#     plt.plot(thresholds, 1.-fpr)\n",
    "#     plt.plot(thresholds, tpr)\n",
    "#     plt.title(\"Crossover at {0:.2f} with specificity {1:.2f}\".format(crossover_cutoff, crossover_specificity))\n",
    "\n",
    "#     plt.show()\n",
    "\n",
    "\n",
    "#     plt.plot(fpr, tpr)\n",
    "#     plt.title(\"ROC area under curve is {0:.2f}\".format(roc_auc_score(y_true, y_hat)))\n",
    "#     plt.show()\n",
    "    \n",
    "#     score = roc_auc_score(y_true,y_hat)\n",
    "#     print(\"ROC_AUC SCORE:\",score)\n",
    "#     #print(\"ROC area under curve is {0:.2f}\".format(roc_auc_score(y_true, y_hat)))"
   ]
  },
  {
   "cell_type": "code",
   "execution_count": null,
   "metadata": {
    "ExecuteTime": {
     "end_time": "2020-04-14T21:12:15.855089Z",
     "start_time": "2020-04-14T21:12:14.678666Z"
    }
   },
   "outputs": [],
   "source": [
    "roc_plots(y_test, y_hat)"
   ]
  },
  {
   "cell_type": "markdown",
   "metadata": {},
   "source": [
    "# `Model 2`\n",
    "\n",
    "Revising the function for training the model and tuning just two parameters: adjust learning rate to 4e-3, and increase epochs to 40. "
   ]
  },
  {
   "cell_type": "markdown",
   "metadata": {},
   "source": [
    "## Tuning Parameters\n",
    "\n",
    "This time we will create dictionaries for plugging in parameters to the model. We could do a grid search, or more likely, a randomsearch from sklearn to find the optimal parameters, but for now let's finish building the function to take in the parameter dictionaries with an adjusted learning rate."
   ]
  },
  {
   "cell_type": "code",
   "execution_count": null,
   "metadata": {
    "ExecuteTime": {
     "end_time": "2020-04-14T21:12:16.852518Z",
     "start_time": "2020-04-14T21:12:15.859117Z"
    }
   },
   "outputs": [],
   "source": [
    "# # set our build function to use the baseline model we built initially\n",
    "# keras_train = keras_1D(model=Sequential(), kernel_size=11, activation='relu', \n",
    "#                            input_shape=x_train.shape[1:], strides=4)"
   ]
  },
  {
   "cell_type": "code",
   "execution_count": null,
   "metadata": {
    "ExecuteTime": {
     "end_time": "2020-04-14T21:12:16.864957Z",
     "start_time": "2020-04-14T21:12:16.857000Z"
    }
   },
   "outputs": [],
   "source": [
    "# create params dict for compiling model\n",
    "# adjust learning rate to 4e-3\n",
    "\n",
    "compiler = dict(optimizer=Adam,\n",
    "                learning_rate=4e-3,\n",
    "                loss='binary_crossentropy',\n",
    "                metrics=['accuracy'])\n",
    "\n",
    "# create dict for fit_generator parameters\n",
    "# increase verbose to 2 and number of epochs to 40\n",
    "\n",
    "params = dict(validation_data = (x_test, y_test), \n",
    "              verbose=2, \n",
    "              epochs=40, \n",
    "              steps_per_epoch=(x_train.shape[1]//32))"
   ]
  },
  {
   "cell_type": "markdown",
   "metadata": {},
   "source": [
    "## Compile/Fit (M2)"
   ]
  },
  {
   "cell_type": "code",
   "execution_count": null,
   "metadata": {
    "ExecuteTime": {
     "end_time": "2020-04-14T21:18:50.978742Z",
     "start_time": "2020-04-14T21:12:16.868995Z"
    }
   },
   "outputs": [],
   "source": [
    "# MODEL 2\n",
    "# using the baseline model as our build model function\n",
    "\n",
    "m2, h2 = scikit_keras(build_fn=keras_train, compiler=compiler, params=params)"
   ]
  },
  {
   "cell_type": "markdown",
   "metadata": {},
   "source": [
    "## Summary (M2)"
   ]
  },
  {
   "cell_type": "code",
   "execution_count": null,
   "metadata": {
    "ExecuteTime": {
     "end_time": "2020-04-14T21:21:51.900965Z",
     "start_time": "2020-04-14T21:21:51.888010Z"
    }
   },
   "outputs": [],
   "source": [
    "m2.summary()"
   ]
  },
  {
   "cell_type": "markdown",
   "metadata": {},
   "source": [
    "## Class Predictions\n",
    "\n",
    "We then use our trained neural network to classify the test set:"
   ]
  },
  {
   "cell_type": "code",
   "execution_count": null,
   "metadata": {
    "ExecuteTime": {
     "end_time": "2020-04-15T03:09:35.062074Z",
     "start_time": "2020-04-15T03:09:34.516977Z"
    }
   },
   "outputs": [],
   "source": [
    "from spacekit import metriks\n",
    "from spacekit.metriks import *"
   ]
  },
  {
   "cell_type": "code",
   "execution_count": null,
   "metadata": {
    "ExecuteTime": {
     "end_time": "2020-04-15T02:03:11.122784Z",
     "start_time": "2020-04-15T02:03:10.842481Z"
    }
   },
   "outputs": [],
   "source": [
    "y_true2,y_pred2 = predictions.get_preds(x_test,y_test,model=m2,verbose=True)"
   ]
  },
  {
   "cell_type": "code",
   "execution_count": null,
   "metadata": {
    "ExecuteTime": {
     "end_time": "2020-04-15T03:09:43.006822Z",
     "start_time": "2020-04-15T03:09:42.678651Z"
    }
   },
   "outputs": [],
   "source": [
    "### renamed keras_history and moved under plots class\n",
    "\n",
    "plots.keras_history(history=h2, figsize=(21,11))\n",
    "#predictions.plot_keras_history(history=h2,figsize=(21,11))"
   ]
  },
  {
   "cell_type": "code",
   "execution_count": null,
   "metadata": {},
   "outputs": [],
   "source": []
  },
  {
   "cell_type": "code",
   "execution_count": null,
   "metadata": {
    "ExecuteTime": {
     "end_time": "2020-04-15T02:08:48.504334Z",
     "start_time": "2020-04-15T02:08:48.500823Z"
    }
   },
   "outputs": [],
   "source": [
    "# def evaluate_model(x_test, y_test, model=None, **kwargs):\n",
    "#     \"\"\"\n",
    "    \n",
    "#     \"\"\"\n",
    "#     from sklearn import metrics\n",
    "#     from sklearn.metrics import jaccard_score\n",
    "#     from sklearn.metrics import confusion_matrix\n",
    "    \n",
    "\n",
    "#     # make predictons using test set\n",
    "# #     y_true = y_test.flatten()\n",
    "# #     y_pred = model.predict_classes(x_test).flatten() # class predictions \n",
    "#     y_true, y_pred = get_preds(x_test,y_test,model,**kwargs)\n",
    "    \n",
    "#     # ROC Area Under Curve\n",
    "#     roc = roc_plots(y_test, y_pred)\n",
    "    \n",
    "#     #Plot Model Training Results (PLOT KERAS HISTORY)\n",
    "#     if history:\n",
    "#         plot_keras_history(history)\n",
    "\n",
    "#     # Print CLASSIFICATION REPORT\n",
    "#     num_dashes=20\n",
    "#     print('\\n')\n",
    "#     print('---'*num_dashes)\n",
    "#     print('\\tCLASSIFICATION REPORT:')\n",
    "#     print('---'*num_dashes)\n",
    "#     report = metrics.classification_report(y_true,y_pred)\n",
    "#     print(report)\n",
    "    \n",
    "#     # jaccard similarity score  \n",
    "#     jaccard = jaccard_score(y_test, y_pred)\n",
    "#     print('Jaccard Similarity Score:',jaccard)\n",
    "    \n",
    "#     # CONFUSION MATRIX\n",
    "#     cm = confusion_matrix(y_true, y_pred, labels=[0,1])\n",
    "#     # Plot normalized confusion matrix\n",
    "#     fig = plot_confusion_matrix(cm, classes=['No Planet', 'Planet'], \n",
    "#                                 normalize=False,                               \n",
    "#                                 title='Normalized confusion matrix')\n",
    "#     plt.show()\n"
   ]
  },
  {
   "cell_type": "code",
   "execution_count": null,
   "metadata": {
    "ExecuteTime": {
     "end_time": "2020-04-14T23:49:15.932730Z",
     "start_time": "2020-04-14T23:49:14.860200Z"
    }
   },
   "outputs": [],
   "source": [
    "evaluate_model(x_test, y_test,model=m2,history=h2)"
   ]
  },
  {
   "cell_type": "markdown",
   "metadata": {},
   "source": [
    "# `MODEL 3`\n",
    "\n",
    "Another optimizer we can try is SGD instead of Adam - this may produce better outcomes. We will also adjust the learning rate."
   ]
  },
  {
   "cell_type": "code",
   "execution_count": null,
   "metadata": {
    "ExecuteTime": {
     "end_time": "2020-04-14T21:18:54.170209Z",
     "start_time": "2020-04-14T21:10:37.363Z"
    }
   },
   "outputs": [],
   "source": [
    "from keras.optimizers import SGD"
   ]
  },
  {
   "cell_type": "code",
   "execution_count": null,
   "metadata": {
    "ExecuteTime": {
     "end_time": "2020-04-14T21:18:54.172178Z",
     "start_time": "2020-04-14T21:10:37.369Z"
    }
   },
   "outputs": [],
   "source": [
    "# create params dict for compiling model\n",
    "# adjust learning rate to 4e-3\n",
    "\n",
    "compiler = dict(optimizer=SGD,\n",
    "                learning_rate=4e-2,\n",
    "                loss='binary_crossentropy',\n",
    "                metrics=['accuracy'])\n",
    "\n",
    "# create dict for fit_generator parameters\n",
    "# increase verbose to 2 and number of epochs to 40\n",
    "\n",
    "params = dict(validation_data = (x_test, y_test), \n",
    "              verbose=2, \n",
    "              epochs=40, \n",
    "              steps_per_epoch=(x_train.shape[1]//32))"
   ]
  },
  {
   "cell_type": "code",
   "execution_count": null,
   "metadata": {
    "ExecuteTime": {
     "end_time": "2020-04-14T21:18:54.174193Z",
     "start_time": "2020-04-14T21:10:37.374Z"
    }
   },
   "outputs": [],
   "source": [
    "# MODEL 3: using the baseline model as our build model function\n",
    "\n",
    "m3, h3 = scikit_keras(build_fn=keras_train, compiler=compiler, params=params)"
   ]
  },
  {
   "cell_type": "code",
   "execution_count": null,
   "metadata": {
    "ExecuteTime": {
     "end_time": "2020-04-14T21:18:54.175661Z",
     "start_time": "2020-04-14T21:10:37.379Z"
    }
   },
   "outputs": [],
   "source": [
    "cm = confusion_matrix(y_true, y_pred, labels=[0,1])\n",
    "cm"
   ]
  },
  {
   "cell_type": "code",
   "execution_count": null,
   "metadata": {
    "ExecuteTime": {
     "end_time": "2020-04-14T21:18:54.178158Z",
     "start_time": "2020-04-14T21:10:37.384Z"
    }
   },
   "outputs": [],
   "source": [
    "evaluate_model(x_test, y_test, h3)"
   ]
  },
  {
   "cell_type": "markdown",
   "metadata": {},
   "source": [
    "# `MODEL 4`"
   ]
  },
  {
   "cell_type": "code",
   "execution_count": null,
   "metadata": {
    "ExecuteTime": {
     "end_time": "2020-04-14T21:18:54.180023Z",
     "start_time": "2020-04-14T21:10:37.390Z"
    }
   },
   "outputs": [],
   "source": [
    "# create params dict for compiling model\n",
    "# adjust learning rate to 4e-3\n",
    "\n",
    "compiler = dict(optimizer=SGD,\n",
    "                learning_rate=4e-2,\n",
    "                loss='binary_crossentropy',\n",
    "                metrics=['accuracy'])\n",
    "\n",
    "# create dict for fit_generator parameters\n",
    "# increase verbose to 2 and number of epochs to 40\n",
    "\n",
    "params = dict(validation_data = (x_test, y_test), \n",
    "              verbose=2, \n",
    "              epochs=40, \n",
    "              steps_per_epoch=(x_train.shape[1]/23))\n",
    "\n",
    "# MODEL 4\n",
    "# using the baseline model as our build model function\n",
    "\n",
    "m4, h4 = scikit_keras(build_fn=keras_train, compiler=compiler, params=params, \n",
    "                      batch_size=23)"
   ]
  },
  {
   "cell_type": "markdown",
   "metadata": {},
   "source": [
    "# Interpret Results"
   ]
  },
  {
   "cell_type": "markdown",
   "metadata": {},
   "source": [
    "## Conclusion\n",
    "\n",
    "Above, we were able to identify with 99% accuracy 3 of 5 stars that have an exoplanet in their orbit. "
   ]
  },
  {
   "cell_type": "markdown",
   "metadata": {},
   "source": [
    "# Recommendations\n",
    "\n",
    "While it is possible to create a fairly accurate model for detecting exoplanets using the raw flux values of an imbalanced data set (imbalanced meaning only a few positive examples in a sea of negatives) - it is clear that important information is misclassified. When it comes to astrophysics, we need to be much more accurate than this, and we need to feel like the model is fully reliable. I cannot conclude that this model is adequately reliable for performing an accurate analysis on this type of data.\n",
    "\n",
    "My recommendations are the following:\n",
    "\n",
    "   1. Use datasets from the MAST website (via API) to incorporate other calculations of the star's properties as features to be used for classification algorithms. Furthermore, attempt other types of transformations and normalizations on the data before running the model - for instance, apply a Fourier transform.\n",
    "\n",
    "   2. Combine data from multiple campaigns and perhaps even multiple telescopes (for instance, matching sky coordinates and time intervals between K2, Kepler, and TESS for a batch of stars that have overlapping observations - this would be critical for finding transit periods that are longer than the campaigns of a single telecope's observation period).\n",
    "\n",
    "   3. Explore using computer vision on not only the Full Frame images we can collect from telescopes like TESS, but also on spectographs of the flux values themselves. The beauty of machine learning is our ability to rely on the computer to pick up very small nuances in differences that we ourselves cannot see with our own eyes. \n",
    "   \n",
    "   4. Explore using autoencoded machine learning algorithms with Restricted Boltzmann Machines - this type of model has proven to be incredibly effective in the image analysis of handwriting as we've seen applied the MNIST dataset - let's find out if the same is true for images of stars, be they the Full Frame Images or spectographs."
   ]
  },
  {
   "cell_type": "markdown",
   "metadata": {},
   "source": [
    "# Future Work\n",
    "\n",
    "To continue this project, I'll take another approach for detecting exoplanets using computer vision to analyze images of spectographs of this same star flux data set. Please go to the notebook `[starskøpe-2]` to see how I use a Restricted Boltzmann Machines neural network model to classify stars as exoplanet hosts using spectograph images of the flux values to find transiting exoplanets. Following this, I will apply the same algorithm to spectographs of Fourier transformed data, as you will see in `[starskøpe-3]`. \n",
    "\n",
    "Additional future work following this project will be to develop my \"cyberoptic artificial telescope\" as a machine learning driven application that any astrophysicist can use to look at a single or collection of stars and have the model classify them according not only to exoplanet predictions, but also predict what type of star it is, and other key properties that would be of interest for astrophysical science applications.\n"
   ]
  }
 ],
 "metadata": {
  "file_extension": ".py",
  "kernelspec": {
   "display_name": "learn-env",
   "language": "python",
   "name": "learn-env"
  },
  "language_info": {
   "codemirror_mode": {
    "name": "ipython",
    "version": 3
   },
   "file_extension": ".py",
   "mimetype": "text/x-python",
   "name": "python",
   "nbconvert_exporter": "python",
   "pygments_lexer": "ipython3",
   "version": "3.7.4"
  },
  "latex_envs": {
   "LaTeX_envs_menu_present": true,
   "autoclose": false,
   "autocomplete": true,
   "bibliofile": "biblio.bib",
   "cite_by": "apalike",
   "current_citInitial": 1,
   "eqLabelWithNumbers": true,
   "eqNumInitial": 1,
   "hotkeys": {
    "equation": "Ctrl-E",
    "itemize": "Ctrl-I"
   },
   "labels_anchors": false,
   "latex_user_defs": false,
   "report_style_numbering": false,
   "user_envs_cfg": false
  },
  "mimetype": "text/x-python",
  "name": "python",
  "npconvert_exporter": "python",
  "pygments_lexer": "ipython3",
  "toc": {
   "base_numbering": 1,
   "nav_menu": {},
   "number_sections": false,
   "sideBar": true,
   "skip_h1_title": false,
   "title_cell": "Table of Contents",
   "title_sidebar": "Contents",
   "toc_cell": false,
   "toc_position": {
    "height": "766px",
    "left": "65px",
    "top": "110px",
    "width": "209.797px"
   },
   "toc_section_display": true,
   "toc_window_display": true
  },
  "varInspector": {
   "cols": {
    "lenName": 16,
    "lenType": 16,
    "lenVar": 40
   },
   "kernels_config": {
    "python": {
     "delete_cmd_postfix": "",
     "delete_cmd_prefix": "del ",
     "library": "var_list.py",
     "varRefreshCmd": "print(var_dic_list())"
    },
    "r": {
     "delete_cmd_postfix": ") ",
     "delete_cmd_prefix": "rm(",
     "library": "var_list.r",
     "varRefreshCmd": "cat(var_dic_list()) "
    }
   },
   "position": {
    "height": "750px",
    "left": "918px",
    "right": "20px",
    "top": "120px",
    "width": "456px"
   },
   "types_to_exclude": [
    "module",
    "function",
    "builtin_function_or_method",
    "instance",
    "_Feature"
   ],
   "window_display": false
  },
  "version": 3
 },
 "nbformat": 4,
 "nbformat_minor": 2
}
