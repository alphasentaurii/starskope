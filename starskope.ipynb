{
 "cells": [
  {
   "cell_type": "markdown",
   "metadata": {},
   "source": [
    "# `STARSKØPE`\n",
    "\n",
    "\n",
    "\n",
    "**Building a Cyberoptic Neural Network Telescope for Astrophysical Object Classification**\n",
    "\n",
    "> Flatiron School Capstone Project\n",
    "* `Author: Ru Keïn`\n",
    "* `Instructor: James Irving PhD`\n",
    "* `Data Science Full-Time Program`\n",
    "* `Blog post URL:` http://www.hakkeray.com/datascience/2020/03/22/planetX-hunter-classification-algorithms.html\n",
    "* `Non-Technical Presentation`: Datascience-CAPSTONE-starskope.pdf"
   ]
  },
  {
   "cell_type": "markdown",
   "metadata": {},
   "source": [
    "    Note: this project is divided into 3 notebooks:\n",
    "\n",
    "    starskøpe I : Keras Neural Network Model (this notebook)\n",
    "    starskøpe II: Computer Vision/Restricted Boltzmann Machines for Spectographs\n",
    "    starskøpe III: CV/RBMs for Fourier Transformed Spectographs"
   ]
  },
  {
   "cell_type": "markdown",
   "metadata": {},
   "source": [
    "# Mission Brief\n",
    "\n",
    "## ABSTRACT\n",
    "\n",
    "> \"Mathematicians [...] are often led astray when 'studying' physics because they lose sight of the physics. \n",
    "They say: *'Look, these differential equations--the Maxwell equations--are all there is to electrodynamics; it is admitted by the physicists that there is nothing which is not contained in the equations. The equations are complicated, but after all they are only mathematical equations and if I understand them mathematically inside out, I will understand the physics inside out.'* Only it doesn't work that way. Mathematicians who study physics with that point of view--and there have been many of them--usually make little contribution to physics and, in fact, little to mathematics. They fail because the actual physical situations in the real world are so complicated that it is necessary to have a much broader understanding of the equations.\"\n",
    "**-Richard Feynman, *The Feynman Lectures on Physics: Volume 2*, Chapter 2-1: \"Differential Calculus of Vector Fields\"**\n",
    "\n",
    "---\n",
    "\n",
    "**INTRODUCTION**\n",
    "One of the reasons I quote Mr. Feynman above is because I set out to work on this project with only one year of high school physics under my belt. Despite loving the subject and even getting an A- in that one class, for some reason I did not continue pursuing physics while in school. I bought the Feynman lectures a few years back (on a whim? who does that?) and as soon as I began preparing for this project I felt intuitively that it would be somewhat ridiculous for me to build neural networks for classifying astrophysical data if I had no idea what the data meant beyond a surface level (i.e. Google), let alone on an intimate, perhaps even quantum scale. \n",
    "\n",
    "**BACKGROUND**\n",
    "I'm intensely curious about why things work the way they do, and I'm not satisified by the answer unless I know the math behind it too. During the course of this Capstone project, I somehow managed to (that is, found it extremely necessary to) read almost all of Parts I and II of the Feynman lectures. I did that because I wanted to understand the physics, not just the math. The underlying question I am asking  -- and the ultimate argument I am proposing for astrophysics-related applications of machine learning in general -- is one that I believe Richard Feynman would agree with, were he around still today: *machine learning models for physics need to take physics into account, not simply the math.* After all, we train our own brains' neurons by learning physics before we go around making statements and predictions about the universe. Shouldn't we do the same for our algorithms?\n",
    "\n",
    "**QUESTIONS**\n",
    "For this project, the specific questions I am looking to answer are as follows: \n",
    "\n",
    "    1. Can a transiting exoplanet be detected strictly by analyzing the raw flux values of a given star? \n",
    "    2. What kind of normalization, de-noising, and/or unit conversion is necessary in order for the analysis to be accurate? \n",
    "    3. How much signal-to-noise ratio is too much? That is, if the classes are highly imbalanced, for instance only a few planets can be confirmed out of thousands of stars, does the imbalance make for an unreliable or inaccurate model? \n",
    "    4. How do we test and validate that?\n",
    "  \n",
    "To recap, the overall question is: how much actual physics do we need to know and understand as data scientists in order to make good (or preferably, great) data scientists for the world of space exploration (and thus the fields of astrophysics, astronomy, and aerospace)?\n",
    "\n",
    "**DATASET**\n",
    "To answer the above questions, I started the analysis with a labeled timeseries dataset from Kaggle posted by NASA several years ago. The reason I chose this particular dataset is because in terms of the type of information we typically need to know in order to solve a physics problem -- the primary one being UNITS, otherwise it's a math problem! -- this one is barren. The author who posted the dataset (`Winter Delta` or `W∆`) does however give us a few hints on how we *could* determine the units, and the dimensions, and a lot of other important physics-related information, if we do a little research. The biggest hint is that this dataset is from the K2 space telescope's Campaign 3 observations in which only 42 confirmed exoplanets are detected in a set of over 5,000 stars. Looking at the dataset on its own (before doing any digging), we are given little information about how long the time period covers, and we know do not know what the time intervals between flux values are. So far, this has not stopped any data scientists from attempting to tackle the classification model without gathering any additional information. \n",
    "\n",
    "**MODEL**\n",
    "To answer the question, I first set out to build a model for the data as is, \"sans-physics\". The baseline model is a neural network using the Keras API in a sci-kit learn wrapper.  \n",
    "\n",
    "**RESULTS**\n",
    "I was able to identify with 99% accuracy the handful of stars (5) in the test dataset that have a confirmed exoplanet in their orbit. \n",
    "\n",
    "**CONCLUSION**\n",
    "This baseline model is mathematically accurate, but it does not \"understand physics\". The conclusion we need to make about the model is whether or not this lack of physics embedded in the training process (or even pre-training process) is acceptable or not.\n",
    "\n",
    "While it is possible to create a 99% accurate machine learning model for detecting exoplanets using the raw flux values, without any sense of the actual time intervals, and with a highly imbalanced data set (imbalanced meaning only a few positive examples in a sea of negatives) - it is unclear that we can \"get away with\" this in every case. Furthermore, it is unlikely that could feel completely sure that we aren't missing out on critical information - such as detecting the existence of an earth-like exoplanet transiting a star - if we don't use our understanding of physics to further de-noise, normalize, and scale the data before training the model (and possibly even embed this into a pre-training phase). As a case in point, if you read any of the space telescope handbooks, you will quickly learn just how complex the instruments that are producng this data are, and that the way their technology works, when and where in the sky they were pointing, as well as what actually happened during their missions, you'd know that should all probably be taken into account in your model! The K2 data in particular, for instance, has a unique issue that every so often its thrusters would fire to adjust/maintain its position in the sky, causing data at multiple points to be completely useless. \n",
    "\n",
    "*Why that matters...*\n",
    "This type of noise cannot be removed without knowing what exact times the thrusters fired, as well as what times each of the observations of the dataset occurred. Even if we do manage to throw the bad data out, we are still stuck with the problem of not having any data for that time period, and once again might miss our potential planet's threshold crossing event! If we know where and when those missing pieces occur, we could use that to collect our missing data from another telescope like TESS, which has overlapping targets of observation. A model that can combine data from two different space telescopes, and be smart enough to know based on the telescope it came from how to handle the data, would make truly accurate predictions, and much more useful classifications. \n",
    "\n",
    "*What we can do about that...*\n",
    "This is the type of model I will set out to build in my future work. This is what we would call a cyberoptic artificial telescope - one that can aggregate large datasets from multiple missions and give us a more accurate, more detailed picture of the stars and planets than what we have available to us in the limited view of a single picture from a single telescope at a single point in time. This is the vision for *STARSKØPE* which will come out of this project.\n",
    "\n",
    "**RECOMMENDATIONS**\n",
    "My recommendations are the following:\n",
    "\n",
    "   1. Use datasets from the MAST website (via API) to incorporate other calculations of the star's properties as features to be used for classification algorithms. Furthermore, attempt other types of transformations and normalizations on the data before running the model - for instance, apply a Fourier transform.\n",
    "\n",
    "   2. Combine data from multiple campaigns and perhaps even multiple telescopes (for instance, matching sky coordinates and time intervals between K2, Kepler, and TESS for a batch of stars that have overlapping observations - this would be critical for finding transit periods that are longer than the campaigns of a single telecope's observation period).\n",
    "\n",
    "   3. Explore using computer vision on not only the Full Frame images we can collect from telescopes like TESS, but also on spectographs of the flux values themselves. The beauty of machine learning is our ability to rely on the computer to pick up very small nuances in differences that we ourselves cannot see with our own eyes. \n",
    "   \n",
    "   4. Explore using autoencoded machine learning algorithms with Restricted Boltzmann Machines - this type of model has proven to be incredibly effective in the image analysis of handwriting as we've seen applied the MNIST dataset - let's find out if the same is true for images of stars, be they the Full Frame Images or spectographs.\n",
    "\n",
    "**FUTURE WORK**\n",
    "To continue this project, I'll take another approach for detecting exoplanets using computer vision to analyze images of spectographs of this same star flux data set. Please go to the notebook `[starskøpe-2]` to see how I use a Restricted Boltzmann Machines neural network model to classify stars as exoplanet hosts using spectograph images of the flux values to find transiting exoplanets. Following this, I will apply the same algorithm to spectographs of Fourier transformed data, as you will see in `[starskøpe-3]`. \n",
    "\n",
    "Additional future work following this project will be to develop my \"cyberoptic artificial telescope\" as a machine learning driven application that any astrophysicist can use to look at a single or collection of stars and have the model classify them according not only to exoplanet predictions, but also predict what type of star it is, and other key properties that would be of interest for astrophysical science applications.\n"
   ]
  },
  {
   "cell_type": "markdown",
   "metadata": {},
   "source": [
    "# Obtain\n",
    "\n",
    "Begin by importing libraries and code packages for basic analysis, as well as the kaggle dataset."
   ]
  },
  {
   "cell_type": "code",
   "execution_count": 5,
   "metadata": {
    "ExecuteTime": {
     "end_time": "2020-04-14T09:53:26.131052Z",
     "start_time": "2020-04-14T09:53:24.487545Z"
    }
   },
   "outputs": [],
   "source": [
    "# Import code packages and libraries\n",
    "import numpy as np\n",
    "import pandas as pd\n",
    "import matplotlib as mpl\n",
    "%matplotlib inline\n",
    "from matplotlib.colors import LogNorm\n",
    "\n",
    "import seaborn as sns\n",
    "sns.set_style('whitegrid')\n",
    "import matplotlib.pyplot as plt\n",
    "plt.style.use('seaborn-bright')\n",
    " \n",
    "\n",
    "font_dict={'family':'\"Titillium Web\", monospace','size':16}\n",
    "mpl.rc('font',**font_dict)\n",
    "\n",
    "\n",
    "#ignore pink warnings\n",
    "import warnings\n",
    "warnings.filterwarnings('ignore')\n",
    "# Allow for large # columns\n",
    "pd.set_option('display.max_columns', 0)\n",
    "# pd.set_option('display.max_rows','')"
   ]
  },
  {
   "cell_type": "markdown",
   "metadata": {},
   "source": [
    "Import dataset which has already been split into train and test sets, `exoTrain.csv.zip` and `exoTest.csv.zip` (I compressed them from their original csv format since the training set is > 240 MB so we'll to unzip them)."
   ]
  },
  {
   "cell_type": "code",
   "execution_count": 6,
   "metadata": {
    "ExecuteTime": {
     "end_time": "2020-04-14T09:53:28.872365Z",
     "start_time": "2020-04-14T09:53:28.864495Z"
    }
   },
   "outputs": [
    {
     "data": {
      "text/plain": [
       "['Datascience-CAPSTONE-starskope.pdf',\n",
       " '.DS_Store',\n",
       " 'LICENSE',\n",
       " 'starskope-2.ipynb',\n",
       " '288_planetbleed1600.jpeg',\n",
       " 'README.md',\n",
       " 'starskope.ipynb',\n",
       " 'starskope-2-colab.ipynb',\n",
       " '.gitignore',\n",
       " '_config.yml',\n",
       " '.ipynb_checkpoints',\n",
       " '.git',\n",
       " 'DATA']"
      ]
     },
     "execution_count": 6,
     "metadata": {},
     "output_type": "execute_result"
    }
   ],
   "source": [
    "import os, glob, sys\n",
    "\n",
    "home = os.path.abspath(os.curdir)\n",
    "\n",
    "os.listdir(home)"
   ]
  },
  {
   "cell_type": "code",
   "execution_count": 7,
   "metadata": {
    "ExecuteTime": {
     "end_time": "2020-04-14T09:53:29.787700Z",
     "start_time": "2020-04-14T09:53:29.652863Z"
    }
   },
   "outputs": [
    {
     "name": "stdout",
     "output_type": "stream",
     "text": [
      "/Users/hakkeray/CODE/CAPSTONE/starskope/DATA\n",
      "\u001b[1m\u001b[36m__MACOSX\u001b[m\u001b[m/         exoTest.csv       exoTrain.csv\r\n",
      "exoTableDraw.R    exoTest.csv.zip   exoTrain.csv.zip\r\n"
     ]
    }
   ],
   "source": [
    "# %cd ../\n",
    "%cd data\n",
    "%ls"
   ]
  },
  {
   "cell_type": "code",
   "execution_count": 8,
   "metadata": {
    "ExecuteTime": {
     "end_time": "2020-04-14T09:53:30.420755Z",
     "start_time": "2020-04-14T09:53:30.417664Z"
    }
   },
   "outputs": [],
   "source": [
    "# uncomment below if you need to unzip the data files\n",
    "# !unzip -q 'exoTrain.csv.zip'\n",
    "# !unzip -q 'exoTest.csv.zip'\n",
    "# %ls"
   ]
  },
  {
   "cell_type": "code",
   "execution_count": 9,
   "metadata": {
    "ExecuteTime": {
     "end_time": "2020-04-14T09:53:38.376119Z",
     "start_time": "2020-04-14T09:53:31.049713Z"
    }
   },
   "outputs": [],
   "source": [
    "train = pd.read_csv('exoTrain.csv')\n",
    "test = pd.read_csv('exoTest.csv')"
   ]
  },
  {
   "cell_type": "code",
   "execution_count": 10,
   "metadata": {
    "ExecuteTime": {
     "end_time": "2020-04-14T09:53:44.127616Z",
     "start_time": "2020-04-14T09:53:44.122650Z"
    }
   },
   "outputs": [
    {
     "name": "stdout",
     "output_type": "stream",
     "text": [
      "/Users/hakkeray/CODE/CAPSTONE/starskope\n"
     ]
    }
   ],
   "source": [
    "# cd backto home / root directory\n",
    "%cd ../"
   ]
  },
  {
   "cell_type": "markdown",
   "metadata": {},
   "source": [
    "# Scrub\n",
    "\n",
    "Initial inspection of data, reviewing the features, target (if any), datatypes, and checking for nulls."
   ]
  },
  {
   "cell_type": "markdown",
   "metadata": {},
   "source": [
    "LABEL is our target column, the remaining 3197 columns are the \"features\" which in this case make up the frequency of the signal from each star.\n",
    "\n",
    "Each star's light frequency makes up a single row of data collected over the course of the campaign (#3), which in this case for K2 campaign 3 was a little over 60 days (campaigns are normally ~80 days but c3 ended early due to data storage capacity issues. \n",
    "\n",
    "If we crunch the numbers we'll see this means it's 29.4 minutes between each flux measurement, also known as the cadence. This also lines up with the information available in the K2 handbook."
   ]
  },
  {
   "cell_type": "code",
   "execution_count": 11,
   "metadata": {
    "ExecuteTime": {
     "end_time": "2020-04-14T09:53:47.672250Z",
     "start_time": "2020-04-14T09:53:47.247696Z"
    }
   },
   "outputs": [
    {
     "data": {
      "text/html": [
       "<div>\n",
       "<style scoped>\n",
       "    .dataframe tbody tr th:only-of-type {\n",
       "        vertical-align: middle;\n",
       "    }\n",
       "\n",
       "    .dataframe tbody tr th {\n",
       "        vertical-align: top;\n",
       "    }\n",
       "\n",
       "    .dataframe thead th {\n",
       "        text-align: right;\n",
       "    }\n",
       "</style>\n",
       "<table border=\"1\" class=\"dataframe\">\n",
       "  <thead>\n",
       "    <tr style=\"text-align: right;\">\n",
       "      <th></th>\n",
       "      <th>LABEL</th>\n",
       "      <th>FLUX.1</th>\n",
       "      <th>FLUX.2</th>\n",
       "      <th>FLUX.3</th>\n",
       "      <th>FLUX.4</th>\n",
       "      <th>FLUX.5</th>\n",
       "      <th>FLUX.6</th>\n",
       "      <th>FLUX.7</th>\n",
       "      <th>FLUX.8</th>\n",
       "      <th>FLUX.9</th>\n",
       "      <th>FLUX.10</th>\n",
       "      <th>FLUX.11</th>\n",
       "      <th>FLUX.12</th>\n",
       "      <th>FLUX.13</th>\n",
       "      <th>FLUX.14</th>\n",
       "      <th>FLUX.15</th>\n",
       "      <th>FLUX.16</th>\n",
       "      <th>FLUX.17</th>\n",
       "      <th>FLUX.18</th>\n",
       "      <th>FLUX.19</th>\n",
       "      <th>FLUX.20</th>\n",
       "      <th>FLUX.21</th>\n",
       "      <th>FLUX.22</th>\n",
       "      <th>FLUX.23</th>\n",
       "      <th>FLUX.24</th>\n",
       "      <th>FLUX.25</th>\n",
       "      <th>FLUX.26</th>\n",
       "      <th>FLUX.27</th>\n",
       "      <th>FLUX.28</th>\n",
       "      <th>FLUX.29</th>\n",
       "      <th>FLUX.30</th>\n",
       "      <th>FLUX.31</th>\n",
       "      <th>FLUX.32</th>\n",
       "      <th>FLUX.33</th>\n",
       "      <th>FLUX.34</th>\n",
       "      <th>FLUX.35</th>\n",
       "      <th>FLUX.36</th>\n",
       "      <th>FLUX.37</th>\n",
       "      <th>FLUX.38</th>\n",
       "      <th>FLUX.39</th>\n",
       "      <th>FLUX.40</th>\n",
       "      <th>FLUX.41</th>\n",
       "      <th>FLUX.42</th>\n",
       "      <th>FLUX.43</th>\n",
       "      <th>FLUX.44</th>\n",
       "      <th>FLUX.45</th>\n",
       "      <th>FLUX.46</th>\n",
       "      <th>FLUX.47</th>\n",
       "      <th>...</th>\n",
       "      <th>FLUX.3150</th>\n",
       "      <th>FLUX.3151</th>\n",
       "      <th>FLUX.3152</th>\n",
       "      <th>FLUX.3153</th>\n",
       "      <th>FLUX.3154</th>\n",
       "      <th>FLUX.3155</th>\n",
       "      <th>FLUX.3156</th>\n",
       "      <th>FLUX.3157</th>\n",
       "      <th>FLUX.3158</th>\n",
       "      <th>FLUX.3159</th>\n",
       "      <th>FLUX.3160</th>\n",
       "      <th>FLUX.3161</th>\n",
       "      <th>FLUX.3162</th>\n",
       "      <th>FLUX.3163</th>\n",
       "      <th>FLUX.3164</th>\n",
       "      <th>FLUX.3165</th>\n",
       "      <th>FLUX.3166</th>\n",
       "      <th>FLUX.3167</th>\n",
       "      <th>FLUX.3168</th>\n",
       "      <th>FLUX.3169</th>\n",
       "      <th>FLUX.3170</th>\n",
       "      <th>FLUX.3171</th>\n",
       "      <th>FLUX.3172</th>\n",
       "      <th>FLUX.3173</th>\n",
       "      <th>FLUX.3174</th>\n",
       "      <th>FLUX.3175</th>\n",
       "      <th>FLUX.3176</th>\n",
       "      <th>FLUX.3177</th>\n",
       "      <th>FLUX.3178</th>\n",
       "      <th>FLUX.3179</th>\n",
       "      <th>FLUX.3180</th>\n",
       "      <th>FLUX.3181</th>\n",
       "      <th>FLUX.3182</th>\n",
       "      <th>FLUX.3183</th>\n",
       "      <th>FLUX.3184</th>\n",
       "      <th>FLUX.3185</th>\n",
       "      <th>FLUX.3186</th>\n",
       "      <th>FLUX.3187</th>\n",
       "      <th>FLUX.3188</th>\n",
       "      <th>FLUX.3189</th>\n",
       "      <th>FLUX.3190</th>\n",
       "      <th>FLUX.3191</th>\n",
       "      <th>FLUX.3192</th>\n",
       "      <th>FLUX.3193</th>\n",
       "      <th>FLUX.3194</th>\n",
       "      <th>FLUX.3195</th>\n",
       "      <th>FLUX.3196</th>\n",
       "      <th>FLUX.3197</th>\n",
       "    </tr>\n",
       "  </thead>\n",
       "  <tbody>\n",
       "    <tr>\n",
       "      <td>0</td>\n",
       "      <td>2</td>\n",
       "      <td>93.85</td>\n",
       "      <td>83.81</td>\n",
       "      <td>20.10</td>\n",
       "      <td>-26.98</td>\n",
       "      <td>-39.56</td>\n",
       "      <td>-124.71</td>\n",
       "      <td>-135.18</td>\n",
       "      <td>-96.27</td>\n",
       "      <td>-79.89</td>\n",
       "      <td>-160.17</td>\n",
       "      <td>-207.47</td>\n",
       "      <td>-154.88</td>\n",
       "      <td>-173.71</td>\n",
       "      <td>-146.56</td>\n",
       "      <td>-120.26</td>\n",
       "      <td>-102.85</td>\n",
       "      <td>-98.71</td>\n",
       "      <td>-48.42</td>\n",
       "      <td>-86.57</td>\n",
       "      <td>-0.84</td>\n",
       "      <td>-25.85</td>\n",
       "      <td>-67.39</td>\n",
       "      <td>-36.55</td>\n",
       "      <td>-87.01</td>\n",
       "      <td>-97.72</td>\n",
       "      <td>-131.59</td>\n",
       "      <td>-134.80</td>\n",
       "      <td>-186.97</td>\n",
       "      <td>-244.32</td>\n",
       "      <td>-225.76</td>\n",
       "      <td>-229.60</td>\n",
       "      <td>-253.48</td>\n",
       "      <td>-145.74</td>\n",
       "      <td>-145.74</td>\n",
       "      <td>30.47</td>\n",
       "      <td>-173.39</td>\n",
       "      <td>-187.56</td>\n",
       "      <td>-192.88</td>\n",
       "      <td>-182.76</td>\n",
       "      <td>-195.99</td>\n",
       "      <td>-208.31</td>\n",
       "      <td>-103.22</td>\n",
       "      <td>-193.85</td>\n",
       "      <td>-187.64</td>\n",
       "      <td>-92.25</td>\n",
       "      <td>-119.25</td>\n",
       "      <td>-87.50</td>\n",
       "      <td>...</td>\n",
       "      <td>-6.04</td>\n",
       "      <td>-58.44</td>\n",
       "      <td>-29.64</td>\n",
       "      <td>-90.71</td>\n",
       "      <td>-90.71</td>\n",
       "      <td>-265.25</td>\n",
       "      <td>-367.84</td>\n",
       "      <td>-317.51</td>\n",
       "      <td>-167.69</td>\n",
       "      <td>-56.86</td>\n",
       "      <td>7.56</td>\n",
       "      <td>37.40</td>\n",
       "      <td>-81.13</td>\n",
       "      <td>-20.10</td>\n",
       "      <td>-30.34</td>\n",
       "      <td>-320.48</td>\n",
       "      <td>-320.48</td>\n",
       "      <td>-287.72</td>\n",
       "      <td>-351.25</td>\n",
       "      <td>-70.07</td>\n",
       "      <td>-194.34</td>\n",
       "      <td>-106.47</td>\n",
       "      <td>-14.80</td>\n",
       "      <td>63.13</td>\n",
       "      <td>130.03</td>\n",
       "      <td>76.43</td>\n",
       "      <td>131.90</td>\n",
       "      <td>-193.16</td>\n",
       "      <td>-193.16</td>\n",
       "      <td>-89.26</td>\n",
       "      <td>-17.56</td>\n",
       "      <td>-17.31</td>\n",
       "      <td>125.62</td>\n",
       "      <td>68.87</td>\n",
       "      <td>100.01</td>\n",
       "      <td>-9.60</td>\n",
       "      <td>-25.39</td>\n",
       "      <td>-16.51</td>\n",
       "      <td>-78.07</td>\n",
       "      <td>-102.15</td>\n",
       "      <td>-102.15</td>\n",
       "      <td>25.13</td>\n",
       "      <td>48.57</td>\n",
       "      <td>92.54</td>\n",
       "      <td>39.32</td>\n",
       "      <td>61.42</td>\n",
       "      <td>5.08</td>\n",
       "      <td>-39.54</td>\n",
       "    </tr>\n",
       "    <tr>\n",
       "      <td>1</td>\n",
       "      <td>2</td>\n",
       "      <td>-38.88</td>\n",
       "      <td>-33.83</td>\n",
       "      <td>-58.54</td>\n",
       "      <td>-40.09</td>\n",
       "      <td>-79.31</td>\n",
       "      <td>-72.81</td>\n",
       "      <td>-86.55</td>\n",
       "      <td>-85.33</td>\n",
       "      <td>-83.97</td>\n",
       "      <td>-73.38</td>\n",
       "      <td>-86.51</td>\n",
       "      <td>-74.97</td>\n",
       "      <td>-73.15</td>\n",
       "      <td>-86.13</td>\n",
       "      <td>-76.57</td>\n",
       "      <td>-61.27</td>\n",
       "      <td>-37.23</td>\n",
       "      <td>-48.53</td>\n",
       "      <td>-30.96</td>\n",
       "      <td>-8.14</td>\n",
       "      <td>-5.54</td>\n",
       "      <td>15.79</td>\n",
       "      <td>45.71</td>\n",
       "      <td>10.61</td>\n",
       "      <td>40.66</td>\n",
       "      <td>16.70</td>\n",
       "      <td>15.18</td>\n",
       "      <td>11.98</td>\n",
       "      <td>-203.70</td>\n",
       "      <td>19.13</td>\n",
       "      <td>19.13</td>\n",
       "      <td>19.13</td>\n",
       "      <td>19.13</td>\n",
       "      <td>19.13</td>\n",
       "      <td>17.02</td>\n",
       "      <td>-8.50</td>\n",
       "      <td>-13.87</td>\n",
       "      <td>-29.10</td>\n",
       "      <td>-34.29</td>\n",
       "      <td>-24.68</td>\n",
       "      <td>-27.62</td>\n",
       "      <td>-31.21</td>\n",
       "      <td>-32.31</td>\n",
       "      <td>-37.52</td>\n",
       "      <td>-46.58</td>\n",
       "      <td>-46.20</td>\n",
       "      <td>-35.79</td>\n",
       "      <td>...</td>\n",
       "      <td>17.57</td>\n",
       "      <td>-16.46</td>\n",
       "      <td>21.43</td>\n",
       "      <td>-32.67</td>\n",
       "      <td>-32.67</td>\n",
       "      <td>-58.56</td>\n",
       "      <td>-51.99</td>\n",
       "      <td>-32.14</td>\n",
       "      <td>-36.75</td>\n",
       "      <td>-15.49</td>\n",
       "      <td>-13.24</td>\n",
       "      <td>20.46</td>\n",
       "      <td>-1.47</td>\n",
       "      <td>-0.40</td>\n",
       "      <td>27.80</td>\n",
       "      <td>-58.20</td>\n",
       "      <td>-58.20</td>\n",
       "      <td>-72.04</td>\n",
       "      <td>-58.01</td>\n",
       "      <td>-30.92</td>\n",
       "      <td>-13.42</td>\n",
       "      <td>-13.98</td>\n",
       "      <td>-5.43</td>\n",
       "      <td>8.71</td>\n",
       "      <td>1.80</td>\n",
       "      <td>36.59</td>\n",
       "      <td>-9.80</td>\n",
       "      <td>-19.53</td>\n",
       "      <td>-19.53</td>\n",
       "      <td>-24.32</td>\n",
       "      <td>-23.88</td>\n",
       "      <td>-33.07</td>\n",
       "      <td>-9.03</td>\n",
       "      <td>3.75</td>\n",
       "      <td>11.61</td>\n",
       "      <td>-12.66</td>\n",
       "      <td>-5.69</td>\n",
       "      <td>12.53</td>\n",
       "      <td>-3.28</td>\n",
       "      <td>-32.21</td>\n",
       "      <td>-32.21</td>\n",
       "      <td>-24.89</td>\n",
       "      <td>-4.86</td>\n",
       "      <td>0.76</td>\n",
       "      <td>-11.70</td>\n",
       "      <td>6.46</td>\n",
       "      <td>16.00</td>\n",
       "      <td>19.93</td>\n",
       "    </tr>\n",
       "    <tr>\n",
       "      <td>2</td>\n",
       "      <td>2</td>\n",
       "      <td>532.64</td>\n",
       "      <td>535.92</td>\n",
       "      <td>513.73</td>\n",
       "      <td>496.92</td>\n",
       "      <td>456.45</td>\n",
       "      <td>466.00</td>\n",
       "      <td>464.50</td>\n",
       "      <td>486.39</td>\n",
       "      <td>436.56</td>\n",
       "      <td>484.39</td>\n",
       "      <td>469.66</td>\n",
       "      <td>462.30</td>\n",
       "      <td>492.23</td>\n",
       "      <td>441.20</td>\n",
       "      <td>483.17</td>\n",
       "      <td>481.28</td>\n",
       "      <td>535.31</td>\n",
       "      <td>554.34</td>\n",
       "      <td>562.80</td>\n",
       "      <td>540.14</td>\n",
       "      <td>576.34</td>\n",
       "      <td>551.67</td>\n",
       "      <td>556.69</td>\n",
       "      <td>550.86</td>\n",
       "      <td>577.33</td>\n",
       "      <td>562.08</td>\n",
       "      <td>577.97</td>\n",
       "      <td>530.67</td>\n",
       "      <td>553.27</td>\n",
       "      <td>538.33</td>\n",
       "      <td>527.17</td>\n",
       "      <td>532.50</td>\n",
       "      <td>273.66</td>\n",
       "      <td>273.66</td>\n",
       "      <td>292.39</td>\n",
       "      <td>298.44</td>\n",
       "      <td>252.64</td>\n",
       "      <td>233.58</td>\n",
       "      <td>171.41</td>\n",
       "      <td>224.02</td>\n",
       "      <td>237.69</td>\n",
       "      <td>251.53</td>\n",
       "      <td>236.06</td>\n",
       "      <td>212.31</td>\n",
       "      <td>220.95</td>\n",
       "      <td>249.08</td>\n",
       "      <td>234.14</td>\n",
       "      <td>...</td>\n",
       "      <td>-50.22</td>\n",
       "      <td>-97.19</td>\n",
       "      <td>-64.22</td>\n",
       "      <td>-123.17</td>\n",
       "      <td>-123.17</td>\n",
       "      <td>-144.86</td>\n",
       "      <td>-106.97</td>\n",
       "      <td>-56.38</td>\n",
       "      <td>-51.09</td>\n",
       "      <td>-33.30</td>\n",
       "      <td>-61.53</td>\n",
       "      <td>-89.61</td>\n",
       "      <td>-69.17</td>\n",
       "      <td>-86.47</td>\n",
       "      <td>-140.91</td>\n",
       "      <td>-84.20</td>\n",
       "      <td>-84.20</td>\n",
       "      <td>-89.09</td>\n",
       "      <td>-55.44</td>\n",
       "      <td>-61.05</td>\n",
       "      <td>-29.17</td>\n",
       "      <td>-63.80</td>\n",
       "      <td>-57.61</td>\n",
       "      <td>2.70</td>\n",
       "      <td>-31.25</td>\n",
       "      <td>-47.09</td>\n",
       "      <td>-6.53</td>\n",
       "      <td>14.00</td>\n",
       "      <td>14.00</td>\n",
       "      <td>-25.05</td>\n",
       "      <td>-34.98</td>\n",
       "      <td>-32.08</td>\n",
       "      <td>-17.06</td>\n",
       "      <td>-27.77</td>\n",
       "      <td>7.86</td>\n",
       "      <td>-70.77</td>\n",
       "      <td>-64.44</td>\n",
       "      <td>-83.83</td>\n",
       "      <td>-71.69</td>\n",
       "      <td>13.31</td>\n",
       "      <td>13.31</td>\n",
       "      <td>-29.89</td>\n",
       "      <td>-20.88</td>\n",
       "      <td>5.06</td>\n",
       "      <td>-11.80</td>\n",
       "      <td>-28.91</td>\n",
       "      <td>-70.02</td>\n",
       "      <td>-96.67</td>\n",
       "    </tr>\n",
       "    <tr>\n",
       "      <td>3</td>\n",
       "      <td>2</td>\n",
       "      <td>326.52</td>\n",
       "      <td>347.39</td>\n",
       "      <td>302.35</td>\n",
       "      <td>298.13</td>\n",
       "      <td>317.74</td>\n",
       "      <td>312.70</td>\n",
       "      <td>322.33</td>\n",
       "      <td>311.31</td>\n",
       "      <td>312.42</td>\n",
       "      <td>323.33</td>\n",
       "      <td>311.14</td>\n",
       "      <td>326.19</td>\n",
       "      <td>313.11</td>\n",
       "      <td>313.89</td>\n",
       "      <td>317.96</td>\n",
       "      <td>330.92</td>\n",
       "      <td>341.10</td>\n",
       "      <td>360.58</td>\n",
       "      <td>370.29</td>\n",
       "      <td>369.71</td>\n",
       "      <td>339.00</td>\n",
       "      <td>336.24</td>\n",
       "      <td>319.31</td>\n",
       "      <td>321.56</td>\n",
       "      <td>308.02</td>\n",
       "      <td>296.82</td>\n",
       "      <td>279.34</td>\n",
       "      <td>275.78</td>\n",
       "      <td>289.67</td>\n",
       "      <td>281.33</td>\n",
       "      <td>285.37</td>\n",
       "      <td>281.87</td>\n",
       "      <td>88.75</td>\n",
       "      <td>88.75</td>\n",
       "      <td>67.71</td>\n",
       "      <td>74.46</td>\n",
       "      <td>69.34</td>\n",
       "      <td>76.51</td>\n",
       "      <td>80.26</td>\n",
       "      <td>70.31</td>\n",
       "      <td>63.67</td>\n",
       "      <td>75.00</td>\n",
       "      <td>70.73</td>\n",
       "      <td>70.29</td>\n",
       "      <td>95.44</td>\n",
       "      <td>100.57</td>\n",
       "      <td>114.93</td>\n",
       "      <td>...</td>\n",
       "      <td>-11.27</td>\n",
       "      <td>-19.92</td>\n",
       "      <td>-1.99</td>\n",
       "      <td>-13.49</td>\n",
       "      <td>-13.49</td>\n",
       "      <td>-27.74</td>\n",
       "      <td>-30.46</td>\n",
       "      <td>-32.40</td>\n",
       "      <td>-2.75</td>\n",
       "      <td>14.29</td>\n",
       "      <td>-14.18</td>\n",
       "      <td>-25.14</td>\n",
       "      <td>-13.43</td>\n",
       "      <td>-14.74</td>\n",
       "      <td>2.24</td>\n",
       "      <td>-31.07</td>\n",
       "      <td>-31.07</td>\n",
       "      <td>-50.27</td>\n",
       "      <td>-39.22</td>\n",
       "      <td>-51.33</td>\n",
       "      <td>-18.53</td>\n",
       "      <td>-1.99</td>\n",
       "      <td>10.43</td>\n",
       "      <td>-1.97</td>\n",
       "      <td>-15.32</td>\n",
       "      <td>-23.38</td>\n",
       "      <td>-27.71</td>\n",
       "      <td>-36.12</td>\n",
       "      <td>-36.12</td>\n",
       "      <td>-15.65</td>\n",
       "      <td>6.63</td>\n",
       "      <td>10.66</td>\n",
       "      <td>-8.57</td>\n",
       "      <td>-8.29</td>\n",
       "      <td>-21.90</td>\n",
       "      <td>-25.80</td>\n",
       "      <td>-29.86</td>\n",
       "      <td>7.42</td>\n",
       "      <td>5.71</td>\n",
       "      <td>-3.73</td>\n",
       "      <td>-3.73</td>\n",
       "      <td>30.05</td>\n",
       "      <td>20.03</td>\n",
       "      <td>-12.67</td>\n",
       "      <td>-8.77</td>\n",
       "      <td>-17.31</td>\n",
       "      <td>-17.35</td>\n",
       "      <td>13.98</td>\n",
       "    </tr>\n",
       "    <tr>\n",
       "      <td>4</td>\n",
       "      <td>2</td>\n",
       "      <td>-1107.21</td>\n",
       "      <td>-1112.59</td>\n",
       "      <td>-1118.95</td>\n",
       "      <td>-1095.10</td>\n",
       "      <td>-1057.55</td>\n",
       "      <td>-1034.48</td>\n",
       "      <td>-998.34</td>\n",
       "      <td>-1022.71</td>\n",
       "      <td>-989.57</td>\n",
       "      <td>-970.88</td>\n",
       "      <td>-933.30</td>\n",
       "      <td>-889.49</td>\n",
       "      <td>-888.66</td>\n",
       "      <td>-853.95</td>\n",
       "      <td>-800.91</td>\n",
       "      <td>-754.48</td>\n",
       "      <td>-717.24</td>\n",
       "      <td>-649.34</td>\n",
       "      <td>-605.71</td>\n",
       "      <td>-575.62</td>\n",
       "      <td>-526.37</td>\n",
       "      <td>-490.12</td>\n",
       "      <td>-458.73</td>\n",
       "      <td>-447.76</td>\n",
       "      <td>-419.54</td>\n",
       "      <td>-410.76</td>\n",
       "      <td>-404.10</td>\n",
       "      <td>-425.38</td>\n",
       "      <td>-397.29</td>\n",
       "      <td>-412.73</td>\n",
       "      <td>-446.49</td>\n",
       "      <td>-413.46</td>\n",
       "      <td>-1006.21</td>\n",
       "      <td>-1006.21</td>\n",
       "      <td>-973.29</td>\n",
       "      <td>-986.01</td>\n",
       "      <td>-975.88</td>\n",
       "      <td>-982.20</td>\n",
       "      <td>-953.73</td>\n",
       "      <td>-964.35</td>\n",
       "      <td>-956.60</td>\n",
       "      <td>-911.57</td>\n",
       "      <td>-885.15</td>\n",
       "      <td>-859.38</td>\n",
       "      <td>-806.16</td>\n",
       "      <td>-752.20</td>\n",
       "      <td>-792.40</td>\n",
       "      <td>...</td>\n",
       "      <td>-705.88</td>\n",
       "      <td>-708.77</td>\n",
       "      <td>-844.59</td>\n",
       "      <td>-1023.12</td>\n",
       "      <td>-1023.12</td>\n",
       "      <td>-935.68</td>\n",
       "      <td>-848.88</td>\n",
       "      <td>-732.66</td>\n",
       "      <td>-694.76</td>\n",
       "      <td>-705.01</td>\n",
       "      <td>-625.24</td>\n",
       "      <td>-604.16</td>\n",
       "      <td>-668.26</td>\n",
       "      <td>-742.18</td>\n",
       "      <td>-820.55</td>\n",
       "      <td>-874.76</td>\n",
       "      <td>-874.76</td>\n",
       "      <td>-853.68</td>\n",
       "      <td>-808.62</td>\n",
       "      <td>-777.88</td>\n",
       "      <td>-712.62</td>\n",
       "      <td>-694.01</td>\n",
       "      <td>-655.74</td>\n",
       "      <td>-599.74</td>\n",
       "      <td>-617.30</td>\n",
       "      <td>-602.98</td>\n",
       "      <td>-539.29</td>\n",
       "      <td>-672.71</td>\n",
       "      <td>-672.71</td>\n",
       "      <td>-594.49</td>\n",
       "      <td>-597.60</td>\n",
       "      <td>-560.77</td>\n",
       "      <td>-501.95</td>\n",
       "      <td>-461.62</td>\n",
       "      <td>-468.59</td>\n",
       "      <td>-513.24</td>\n",
       "      <td>-504.70</td>\n",
       "      <td>-521.95</td>\n",
       "      <td>-594.37</td>\n",
       "      <td>-401.66</td>\n",
       "      <td>-401.66</td>\n",
       "      <td>-357.24</td>\n",
       "      <td>-443.76</td>\n",
       "      <td>-438.54</td>\n",
       "      <td>-399.71</td>\n",
       "      <td>-384.65</td>\n",
       "      <td>-411.79</td>\n",
       "      <td>-510.54</td>\n",
       "    </tr>\n",
       "  </tbody>\n",
       "</table>\n",
       "<p>5 rows × 3198 columns</p>\n",
       "</div>"
      ],
      "text/plain": [
       "   LABEL   FLUX.1   FLUX.2   FLUX.3  ...  FLUX.3194  FLUX.3195  FLUX.3196  FLUX.3197\n",
       "0      2    93.85    83.81    20.10  ...      39.32      61.42       5.08     -39.54\n",
       "1      2   -38.88   -33.83   -58.54  ...     -11.70       6.46      16.00      19.93\n",
       "2      2   532.64   535.92   513.73  ...     -11.80     -28.91     -70.02     -96.67\n",
       "3      2   326.52   347.39   302.35  ...      -8.77     -17.31     -17.35      13.98\n",
       "4      2 -1107.21 -1112.59 -1118.95  ...    -399.71    -384.65    -411.79    -510.54\n",
       "\n",
       "[5 rows x 3198 columns]"
      ]
     },
     "metadata": {},
     "output_type": "display_data"
    },
    {
     "data": {
      "text/html": [
       "<div>\n",
       "<style scoped>\n",
       "    .dataframe tbody tr th:only-of-type {\n",
       "        vertical-align: middle;\n",
       "    }\n",
       "\n",
       "    .dataframe tbody tr th {\n",
       "        vertical-align: top;\n",
       "    }\n",
       "\n",
       "    .dataframe thead th {\n",
       "        text-align: right;\n",
       "    }\n",
       "</style>\n",
       "<table border=\"1\" class=\"dataframe\">\n",
       "  <thead>\n",
       "    <tr style=\"text-align: right;\">\n",
       "      <th></th>\n",
       "      <th>LABEL</th>\n",
       "      <th>FLUX.1</th>\n",
       "      <th>FLUX.2</th>\n",
       "      <th>FLUX.3</th>\n",
       "      <th>FLUX.4</th>\n",
       "      <th>FLUX.5</th>\n",
       "      <th>FLUX.6</th>\n",
       "      <th>FLUX.7</th>\n",
       "      <th>FLUX.8</th>\n",
       "      <th>FLUX.9</th>\n",
       "      <th>FLUX.10</th>\n",
       "      <th>FLUX.11</th>\n",
       "      <th>FLUX.12</th>\n",
       "      <th>FLUX.13</th>\n",
       "      <th>FLUX.14</th>\n",
       "      <th>FLUX.15</th>\n",
       "      <th>FLUX.16</th>\n",
       "      <th>FLUX.17</th>\n",
       "      <th>FLUX.18</th>\n",
       "      <th>FLUX.19</th>\n",
       "      <th>FLUX.20</th>\n",
       "      <th>FLUX.21</th>\n",
       "      <th>FLUX.22</th>\n",
       "      <th>FLUX.23</th>\n",
       "      <th>FLUX.24</th>\n",
       "      <th>FLUX.25</th>\n",
       "      <th>FLUX.26</th>\n",
       "      <th>FLUX.27</th>\n",
       "      <th>FLUX.28</th>\n",
       "      <th>FLUX.29</th>\n",
       "      <th>FLUX.30</th>\n",
       "      <th>FLUX.31</th>\n",
       "      <th>FLUX.32</th>\n",
       "      <th>FLUX.33</th>\n",
       "      <th>FLUX.34</th>\n",
       "      <th>FLUX.35</th>\n",
       "      <th>FLUX.36</th>\n",
       "      <th>FLUX.37</th>\n",
       "      <th>FLUX.38</th>\n",
       "      <th>FLUX.39</th>\n",
       "      <th>FLUX.40</th>\n",
       "      <th>FLUX.41</th>\n",
       "      <th>FLUX.42</th>\n",
       "      <th>FLUX.43</th>\n",
       "      <th>FLUX.44</th>\n",
       "      <th>FLUX.45</th>\n",
       "      <th>FLUX.46</th>\n",
       "      <th>FLUX.47</th>\n",
       "      <th>...</th>\n",
       "      <th>FLUX.3150</th>\n",
       "      <th>FLUX.3151</th>\n",
       "      <th>FLUX.3152</th>\n",
       "      <th>FLUX.3153</th>\n",
       "      <th>FLUX.3154</th>\n",
       "      <th>FLUX.3155</th>\n",
       "      <th>FLUX.3156</th>\n",
       "      <th>FLUX.3157</th>\n",
       "      <th>FLUX.3158</th>\n",
       "      <th>FLUX.3159</th>\n",
       "      <th>FLUX.3160</th>\n",
       "      <th>FLUX.3161</th>\n",
       "      <th>FLUX.3162</th>\n",
       "      <th>FLUX.3163</th>\n",
       "      <th>FLUX.3164</th>\n",
       "      <th>FLUX.3165</th>\n",
       "      <th>FLUX.3166</th>\n",
       "      <th>FLUX.3167</th>\n",
       "      <th>FLUX.3168</th>\n",
       "      <th>FLUX.3169</th>\n",
       "      <th>FLUX.3170</th>\n",
       "      <th>FLUX.3171</th>\n",
       "      <th>FLUX.3172</th>\n",
       "      <th>FLUX.3173</th>\n",
       "      <th>FLUX.3174</th>\n",
       "      <th>FLUX.3175</th>\n",
       "      <th>FLUX.3176</th>\n",
       "      <th>FLUX.3177</th>\n",
       "      <th>FLUX.3178</th>\n",
       "      <th>FLUX.3179</th>\n",
       "      <th>FLUX.3180</th>\n",
       "      <th>FLUX.3181</th>\n",
       "      <th>FLUX.3182</th>\n",
       "      <th>FLUX.3183</th>\n",
       "      <th>FLUX.3184</th>\n",
       "      <th>FLUX.3185</th>\n",
       "      <th>FLUX.3186</th>\n",
       "      <th>FLUX.3187</th>\n",
       "      <th>FLUX.3188</th>\n",
       "      <th>FLUX.3189</th>\n",
       "      <th>FLUX.3190</th>\n",
       "      <th>FLUX.3191</th>\n",
       "      <th>FLUX.3192</th>\n",
       "      <th>FLUX.3193</th>\n",
       "      <th>FLUX.3194</th>\n",
       "      <th>FLUX.3195</th>\n",
       "      <th>FLUX.3196</th>\n",
       "      <th>FLUX.3197</th>\n",
       "    </tr>\n",
       "  </thead>\n",
       "  <tbody>\n",
       "    <tr>\n",
       "      <td>0</td>\n",
       "      <td>2</td>\n",
       "      <td>119.88</td>\n",
       "      <td>100.21</td>\n",
       "      <td>86.46</td>\n",
       "      <td>48.68</td>\n",
       "      <td>46.12</td>\n",
       "      <td>39.39</td>\n",
       "      <td>18.57</td>\n",
       "      <td>6.98</td>\n",
       "      <td>6.63</td>\n",
       "      <td>-21.97</td>\n",
       "      <td>-23.17</td>\n",
       "      <td>-29.26</td>\n",
       "      <td>-33.99</td>\n",
       "      <td>-6.25</td>\n",
       "      <td>-28.12</td>\n",
       "      <td>-27.24</td>\n",
       "      <td>-32.28</td>\n",
       "      <td>-12.29</td>\n",
       "      <td>-16.57</td>\n",
       "      <td>-23.86</td>\n",
       "      <td>-5.69</td>\n",
       "      <td>9.24</td>\n",
       "      <td>35.52</td>\n",
       "      <td>81.20</td>\n",
       "      <td>116.49</td>\n",
       "      <td>133.99</td>\n",
       "      <td>148.97</td>\n",
       "      <td>174.15</td>\n",
       "      <td>187.77</td>\n",
       "      <td>215.30</td>\n",
       "      <td>246.80</td>\n",
       "      <td>-56.68</td>\n",
       "      <td>-56.68</td>\n",
       "      <td>-56.68</td>\n",
       "      <td>-52.05</td>\n",
       "      <td>-31.52</td>\n",
       "      <td>-31.15</td>\n",
       "      <td>-48.53</td>\n",
       "      <td>-38.93</td>\n",
       "      <td>-26.06</td>\n",
       "      <td>6.63</td>\n",
       "      <td>29.13</td>\n",
       "      <td>64.70</td>\n",
       "      <td>79.74</td>\n",
       "      <td>12.21</td>\n",
       "      <td>12.21</td>\n",
       "      <td>-19.94</td>\n",
       "      <td>...</td>\n",
       "      <td>-21.86</td>\n",
       "      <td>-16.38</td>\n",
       "      <td>-7.24</td>\n",
       "      <td>22.69</td>\n",
       "      <td>22.69</td>\n",
       "      <td>7.10</td>\n",
       "      <td>3.45</td>\n",
       "      <td>6.49</td>\n",
       "      <td>-2.55</td>\n",
       "      <td>12.26</td>\n",
       "      <td>-7.06</td>\n",
       "      <td>-23.53</td>\n",
       "      <td>2.54</td>\n",
       "      <td>30.21</td>\n",
       "      <td>38.87</td>\n",
       "      <td>-22.86</td>\n",
       "      <td>-22.86</td>\n",
       "      <td>-4.37</td>\n",
       "      <td>2.27</td>\n",
       "      <td>-16.27</td>\n",
       "      <td>-30.84</td>\n",
       "      <td>-7.21</td>\n",
       "      <td>-4.27</td>\n",
       "      <td>13.60</td>\n",
       "      <td>15.62</td>\n",
       "      <td>31.96</td>\n",
       "      <td>49.89</td>\n",
       "      <td>86.93</td>\n",
       "      <td>86.93</td>\n",
       "      <td>42.99</td>\n",
       "      <td>48.76</td>\n",
       "      <td>22.82</td>\n",
       "      <td>32.79</td>\n",
       "      <td>30.76</td>\n",
       "      <td>14.55</td>\n",
       "      <td>10.92</td>\n",
       "      <td>22.68</td>\n",
       "      <td>5.91</td>\n",
       "      <td>14.52</td>\n",
       "      <td>19.29</td>\n",
       "      <td>14.44</td>\n",
       "      <td>-1.62</td>\n",
       "      <td>13.33</td>\n",
       "      <td>45.50</td>\n",
       "      <td>31.93</td>\n",
       "      <td>35.78</td>\n",
       "      <td>269.43</td>\n",
       "      <td>57.72</td>\n",
       "    </tr>\n",
       "    <tr>\n",
       "      <td>1</td>\n",
       "      <td>2</td>\n",
       "      <td>5736.59</td>\n",
       "      <td>5699.98</td>\n",
       "      <td>5717.16</td>\n",
       "      <td>5692.73</td>\n",
       "      <td>5663.83</td>\n",
       "      <td>5631.16</td>\n",
       "      <td>5626.39</td>\n",
       "      <td>5569.47</td>\n",
       "      <td>5550.44</td>\n",
       "      <td>5458.80</td>\n",
       "      <td>5329.39</td>\n",
       "      <td>5191.38</td>\n",
       "      <td>5031.39</td>\n",
       "      <td>4769.89</td>\n",
       "      <td>4419.66</td>\n",
       "      <td>4218.92</td>\n",
       "      <td>3924.73</td>\n",
       "      <td>3605.30</td>\n",
       "      <td>3326.55</td>\n",
       "      <td>3021.20</td>\n",
       "      <td>2800.61</td>\n",
       "      <td>2474.48</td>\n",
       "      <td>2258.33</td>\n",
       "      <td>1951.69</td>\n",
       "      <td>1749.86</td>\n",
       "      <td>1585.38</td>\n",
       "      <td>1575.48</td>\n",
       "      <td>1568.41</td>\n",
       "      <td>1661.08</td>\n",
       "      <td>1977.33</td>\n",
       "      <td>2425.62</td>\n",
       "      <td>2889.61</td>\n",
       "      <td>3847.64</td>\n",
       "      <td>3847.64</td>\n",
       "      <td>3741.20</td>\n",
       "      <td>3453.47</td>\n",
       "      <td>3202.61</td>\n",
       "      <td>2923.73</td>\n",
       "      <td>2694.84</td>\n",
       "      <td>2474.22</td>\n",
       "      <td>2195.09</td>\n",
       "      <td>1962.83</td>\n",
       "      <td>1705.44</td>\n",
       "      <td>1468.27</td>\n",
       "      <td>3730.77</td>\n",
       "      <td>3730.77</td>\n",
       "      <td>3833.30</td>\n",
       "      <td>...</td>\n",
       "      <td>-1327.75</td>\n",
       "      <td>-1864.69</td>\n",
       "      <td>-2148.34</td>\n",
       "      <td>1166.45</td>\n",
       "      <td>1166.45</td>\n",
       "      <td>934.66</td>\n",
       "      <td>574.19</td>\n",
       "      <td>-216.31</td>\n",
       "      <td>-3470.75</td>\n",
       "      <td>-4510.72</td>\n",
       "      <td>-5013.41</td>\n",
       "      <td>-3636.05</td>\n",
       "      <td>-2324.27</td>\n",
       "      <td>-2688.55</td>\n",
       "      <td>-2813.66</td>\n",
       "      <td>-586.22</td>\n",
       "      <td>-586.22</td>\n",
       "      <td>-756.80</td>\n",
       "      <td>-1090.23</td>\n",
       "      <td>-1388.61</td>\n",
       "      <td>-1745.36</td>\n",
       "      <td>-2015.28</td>\n",
       "      <td>-2359.06</td>\n",
       "      <td>-2516.66</td>\n",
       "      <td>-2699.31</td>\n",
       "      <td>-2777.55</td>\n",
       "      <td>-2732.97</td>\n",
       "      <td>1167.39</td>\n",
       "      <td>1167.39</td>\n",
       "      <td>1368.89</td>\n",
       "      <td>1434.80</td>\n",
       "      <td>1360.75</td>\n",
       "      <td>1148.44</td>\n",
       "      <td>1117.67</td>\n",
       "      <td>714.86</td>\n",
       "      <td>419.02</td>\n",
       "      <td>57.06</td>\n",
       "      <td>-175.66</td>\n",
       "      <td>-581.91</td>\n",
       "      <td>-984.09</td>\n",
       "      <td>-1230.89</td>\n",
       "      <td>-1600.45</td>\n",
       "      <td>-1824.53</td>\n",
       "      <td>-2061.17</td>\n",
       "      <td>-2265.98</td>\n",
       "      <td>-2366.19</td>\n",
       "      <td>-2294.86</td>\n",
       "      <td>-2034.72</td>\n",
       "    </tr>\n",
       "    <tr>\n",
       "      <td>2</td>\n",
       "      <td>2</td>\n",
       "      <td>844.48</td>\n",
       "      <td>817.49</td>\n",
       "      <td>770.07</td>\n",
       "      <td>675.01</td>\n",
       "      <td>605.52</td>\n",
       "      <td>499.45</td>\n",
       "      <td>440.77</td>\n",
       "      <td>362.95</td>\n",
       "      <td>207.27</td>\n",
       "      <td>150.46</td>\n",
       "      <td>85.49</td>\n",
       "      <td>-20.12</td>\n",
       "      <td>-35.88</td>\n",
       "      <td>-65.59</td>\n",
       "      <td>-15.12</td>\n",
       "      <td>16.60</td>\n",
       "      <td>-25.70</td>\n",
       "      <td>61.88</td>\n",
       "      <td>53.18</td>\n",
       "      <td>64.32</td>\n",
       "      <td>72.38</td>\n",
       "      <td>100.35</td>\n",
       "      <td>67.26</td>\n",
       "      <td>14.71</td>\n",
       "      <td>-16.41</td>\n",
       "      <td>-147.46</td>\n",
       "      <td>-231.27</td>\n",
       "      <td>-320.29</td>\n",
       "      <td>-407.82</td>\n",
       "      <td>-450.48</td>\n",
       "      <td>-146.99</td>\n",
       "      <td>-146.99</td>\n",
       "      <td>-146.99</td>\n",
       "      <td>-146.99</td>\n",
       "      <td>-166.30</td>\n",
       "      <td>-139.90</td>\n",
       "      <td>-96.41</td>\n",
       "      <td>-23.49</td>\n",
       "      <td>13.59</td>\n",
       "      <td>67.59</td>\n",
       "      <td>32.09</td>\n",
       "      <td>76.65</td>\n",
       "      <td>58.30</td>\n",
       "      <td>5.41</td>\n",
       "      <td>61.66</td>\n",
       "      <td>61.66</td>\n",
       "      <td>126.79</td>\n",
       "      <td>...</td>\n",
       "      <td>-38.15</td>\n",
       "      <td>-61.43</td>\n",
       "      <td>-127.18</td>\n",
       "      <td>-12.15</td>\n",
       "      <td>-12.15</td>\n",
       "      <td>-80.84</td>\n",
       "      <td>-112.96</td>\n",
       "      <td>-129.34</td>\n",
       "      <td>-35.24</td>\n",
       "      <td>-70.13</td>\n",
       "      <td>-35.30</td>\n",
       "      <td>-56.48</td>\n",
       "      <td>-74.60</td>\n",
       "      <td>-115.18</td>\n",
       "      <td>-8.91</td>\n",
       "      <td>-37.59</td>\n",
       "      <td>-37.59</td>\n",
       "      <td>-37.43</td>\n",
       "      <td>-104.23</td>\n",
       "      <td>-101.45</td>\n",
       "      <td>-107.35</td>\n",
       "      <td>-109.82</td>\n",
       "      <td>-126.27</td>\n",
       "      <td>-170.32</td>\n",
       "      <td>-117.85</td>\n",
       "      <td>-32.30</td>\n",
       "      <td>-70.18</td>\n",
       "      <td>314.29</td>\n",
       "      <td>314.29</td>\n",
       "      <td>314.29</td>\n",
       "      <td>149.71</td>\n",
       "      <td>54.60</td>\n",
       "      <td>12.60</td>\n",
       "      <td>-133.68</td>\n",
       "      <td>-78.16</td>\n",
       "      <td>-52.30</td>\n",
       "      <td>-8.55</td>\n",
       "      <td>-19.73</td>\n",
       "      <td>17.82</td>\n",
       "      <td>-51.66</td>\n",
       "      <td>-48.29</td>\n",
       "      <td>-59.99</td>\n",
       "      <td>-82.10</td>\n",
       "      <td>-174.54</td>\n",
       "      <td>-95.23</td>\n",
       "      <td>-162.68</td>\n",
       "      <td>-36.79</td>\n",
       "      <td>30.63</td>\n",
       "    </tr>\n",
       "    <tr>\n",
       "      <td>3</td>\n",
       "      <td>2</td>\n",
       "      <td>-826.00</td>\n",
       "      <td>-827.31</td>\n",
       "      <td>-846.12</td>\n",
       "      <td>-836.03</td>\n",
       "      <td>-745.50</td>\n",
       "      <td>-784.69</td>\n",
       "      <td>-791.22</td>\n",
       "      <td>-746.50</td>\n",
       "      <td>-709.53</td>\n",
       "      <td>-679.56</td>\n",
       "      <td>-706.03</td>\n",
       "      <td>-720.56</td>\n",
       "      <td>-631.12</td>\n",
       "      <td>-659.16</td>\n",
       "      <td>-672.03</td>\n",
       "      <td>-665.06</td>\n",
       "      <td>-667.94</td>\n",
       "      <td>-660.84</td>\n",
       "      <td>-672.75</td>\n",
       "      <td>-644.91</td>\n",
       "      <td>-680.53</td>\n",
       "      <td>-620.50</td>\n",
       "      <td>-570.34</td>\n",
       "      <td>-530.00</td>\n",
       "      <td>-537.88</td>\n",
       "      <td>-578.38</td>\n",
       "      <td>-532.34</td>\n",
       "      <td>-532.38</td>\n",
       "      <td>-491.03</td>\n",
       "      <td>-485.03</td>\n",
       "      <td>-427.19</td>\n",
       "      <td>-380.84</td>\n",
       "      <td>-329.50</td>\n",
       "      <td>-286.91</td>\n",
       "      <td>-283.81</td>\n",
       "      <td>-298.19</td>\n",
       "      <td>-271.03</td>\n",
       "      <td>-268.50</td>\n",
       "      <td>-209.56</td>\n",
       "      <td>-180.44</td>\n",
       "      <td>-136.25</td>\n",
       "      <td>-136.22</td>\n",
       "      <td>-68.03</td>\n",
       "      <td>2.88</td>\n",
       "      <td>-732.94</td>\n",
       "      <td>-732.94</td>\n",
       "      <td>-613.06</td>\n",
       "      <td>...</td>\n",
       "      <td>-219.88</td>\n",
       "      <td>-247.56</td>\n",
       "      <td>-287.50</td>\n",
       "      <td>-135.41</td>\n",
       "      <td>-135.41</td>\n",
       "      <td>40.19</td>\n",
       "      <td>81.06</td>\n",
       "      <td>110.88</td>\n",
       "      <td>16.50</td>\n",
       "      <td>-1286.59</td>\n",
       "      <td>-1286.59</td>\n",
       "      <td>-1286.59</td>\n",
       "      <td>-1286.59</td>\n",
       "      <td>-1286.59</td>\n",
       "      <td>-1286.59</td>\n",
       "      <td>-1286.59</td>\n",
       "      <td>-1286.59</td>\n",
       "      <td>-14.94</td>\n",
       "      <td>64.09</td>\n",
       "      <td>8.38</td>\n",
       "      <td>45.31</td>\n",
       "      <td>100.72</td>\n",
       "      <td>91.53</td>\n",
       "      <td>46.69</td>\n",
       "      <td>20.34</td>\n",
       "      <td>30.94</td>\n",
       "      <td>-36.81</td>\n",
       "      <td>-33.28</td>\n",
       "      <td>-69.62</td>\n",
       "      <td>-208.00</td>\n",
       "      <td>-280.28</td>\n",
       "      <td>-340.41</td>\n",
       "      <td>-337.41</td>\n",
       "      <td>-268.03</td>\n",
       "      <td>-245.00</td>\n",
       "      <td>-230.62</td>\n",
       "      <td>-129.59</td>\n",
       "      <td>-35.47</td>\n",
       "      <td>122.34</td>\n",
       "      <td>93.03</td>\n",
       "      <td>93.03</td>\n",
       "      <td>68.81</td>\n",
       "      <td>9.81</td>\n",
       "      <td>20.75</td>\n",
       "      <td>20.25</td>\n",
       "      <td>-120.81</td>\n",
       "      <td>-257.56</td>\n",
       "      <td>-215.41</td>\n",
       "    </tr>\n",
       "    <tr>\n",
       "      <td>4</td>\n",
       "      <td>2</td>\n",
       "      <td>-39.57</td>\n",
       "      <td>-15.88</td>\n",
       "      <td>-9.16</td>\n",
       "      <td>-6.37</td>\n",
       "      <td>-16.13</td>\n",
       "      <td>-24.05</td>\n",
       "      <td>-0.90</td>\n",
       "      <td>-45.20</td>\n",
       "      <td>-5.04</td>\n",
       "      <td>14.62</td>\n",
       "      <td>-19.52</td>\n",
       "      <td>-11.43</td>\n",
       "      <td>-49.80</td>\n",
       "      <td>25.84</td>\n",
       "      <td>11.62</td>\n",
       "      <td>3.18</td>\n",
       "      <td>-9.59</td>\n",
       "      <td>14.49</td>\n",
       "      <td>8.82</td>\n",
       "      <td>32.32</td>\n",
       "      <td>-28.90</td>\n",
       "      <td>-28.90</td>\n",
       "      <td>-14.09</td>\n",
       "      <td>-30.87</td>\n",
       "      <td>-18.99</td>\n",
       "      <td>-38.60</td>\n",
       "      <td>-27.79</td>\n",
       "      <td>9.65</td>\n",
       "      <td>29.60</td>\n",
       "      <td>7.88</td>\n",
       "      <td>42.87</td>\n",
       "      <td>27.59</td>\n",
       "      <td>27.05</td>\n",
       "      <td>20.26</td>\n",
       "      <td>29.48</td>\n",
       "      <td>9.71</td>\n",
       "      <td>22.84</td>\n",
       "      <td>25.99</td>\n",
       "      <td>-667.55</td>\n",
       "      <td>-1336.24</td>\n",
       "      <td>-1207.88</td>\n",
       "      <td>-310.07</td>\n",
       "      <td>6.18</td>\n",
       "      <td>18.24</td>\n",
       "      <td>48.23</td>\n",
       "      <td>7.60</td>\n",
       "      <td>34.93</td>\n",
       "      <td>...</td>\n",
       "      <td>62.41</td>\n",
       "      <td>93.07</td>\n",
       "      <td>-217.29</td>\n",
       "      <td>-217.29</td>\n",
       "      <td>-217.29</td>\n",
       "      <td>-217.29</td>\n",
       "      <td>-203.96</td>\n",
       "      <td>-171.62</td>\n",
       "      <td>-122.12</td>\n",
       "      <td>-32.01</td>\n",
       "      <td>-47.15</td>\n",
       "      <td>-56.45</td>\n",
       "      <td>-41.71</td>\n",
       "      <td>-34.13</td>\n",
       "      <td>-43.12</td>\n",
       "      <td>-53.63</td>\n",
       "      <td>-53.63</td>\n",
       "      <td>-53.63</td>\n",
       "      <td>-24.29</td>\n",
       "      <td>22.29</td>\n",
       "      <td>25.18</td>\n",
       "      <td>1.84</td>\n",
       "      <td>-22.29</td>\n",
       "      <td>-26.43</td>\n",
       "      <td>-12.12</td>\n",
       "      <td>-33.05</td>\n",
       "      <td>-21.66</td>\n",
       "      <td>-228.32</td>\n",
       "      <td>-228.32</td>\n",
       "      <td>-228.32</td>\n",
       "      <td>-187.35</td>\n",
       "      <td>-166.23</td>\n",
       "      <td>-115.54</td>\n",
       "      <td>-50.18</td>\n",
       "      <td>-37.96</td>\n",
       "      <td>-22.37</td>\n",
       "      <td>-4.74</td>\n",
       "      <td>-35.82</td>\n",
       "      <td>-37.87</td>\n",
       "      <td>-61.85</td>\n",
       "      <td>-27.15</td>\n",
       "      <td>-21.18</td>\n",
       "      <td>-33.76</td>\n",
       "      <td>-85.34</td>\n",
       "      <td>-81.46</td>\n",
       "      <td>-61.98</td>\n",
       "      <td>-69.34</td>\n",
       "      <td>-17.84</td>\n",
       "    </tr>\n",
       "  </tbody>\n",
       "</table>\n",
       "<p>5 rows × 3198 columns</p>\n",
       "</div>"
      ],
      "text/plain": [
       "   LABEL   FLUX.1   FLUX.2   FLUX.3  ...  FLUX.3194  FLUX.3195  FLUX.3196  FLUX.3197\n",
       "0      2   119.88   100.21    86.46  ...      31.93      35.78     269.43      57.72\n",
       "1      2  5736.59  5699.98  5717.16  ...   -2265.98   -2366.19   -2294.86   -2034.72\n",
       "2      2   844.48   817.49   770.07  ...     -95.23    -162.68     -36.79      30.63\n",
       "3      2  -826.00  -827.31  -846.12  ...      20.25    -120.81    -257.56    -215.41\n",
       "4      2   -39.57   -15.88    -9.16  ...     -81.46     -61.98     -69.34     -17.84\n",
       "\n",
       "[5 rows x 3198 columns]"
      ]
     },
     "metadata": {},
     "output_type": "display_data"
    }
   ],
   "source": [
    "# comparing train and test datasets\n",
    "display(train.head(), test.head())"
   ]
  },
  {
   "cell_type": "markdown",
   "metadata": {},
   "source": [
    "Our target column `LABEL` assigns each star with a 1 or a 2 to designate whether or not there is a confirmed exoplanet that was found in the star's orbit. This is precisely what we are trying to classify in our model below.\n",
    "\n",
    "Notice there are a total of only 42 stars that are labeled \"2\", ie confirmed exoplanet orbiting this star. \n",
    "There are 37 exoplanet host stars in the training set, and only 5 in the test set. Such highly imbalanced classes will be something we need to deal with carefully in our model."
   ]
  },
  {
   "cell_type": "code",
   "execution_count": 12,
   "metadata": {
    "ExecuteTime": {
     "end_time": "2020-04-14T09:53:50.624641Z",
     "start_time": "2020-04-14T09:53:50.614605Z"
    }
   },
   "outputs": [
    {
     "data": {
      "text/plain": [
       "1    5050\n",
       "2      37\n",
       "Name: LABEL, dtype: int64"
      ]
     },
     "metadata": {},
     "output_type": "display_data"
    },
    {
     "data": {
      "text/plain": [
       "1    565\n",
       "2      5\n",
       "Name: LABEL, dtype: int64"
      ]
     },
     "metadata": {},
     "output_type": "display_data"
    }
   ],
   "source": [
    "# Check the value counts \n",
    "display(train['LABEL'].value_counts(),test['LABEL'].value_counts())"
   ]
  },
  {
   "cell_type": "markdown",
   "metadata": {},
   "source": [
    "Much of the heavy lifting has already been applied to this data set, at least as far as there not being any missing data..."
   ]
  },
  {
   "cell_type": "code",
   "execution_count": 13,
   "metadata": {
    "ExecuteTime": {
     "end_time": "2020-04-14T09:53:54.524894Z",
     "start_time": "2020-04-14T09:53:54.438989Z"
    }
   },
   "outputs": [
    {
     "name": "stdout",
     "output_type": "stream",
     "text": [
      "Train Nulls: 0    3198\n",
      "dtype: int64\n",
      "Test Nulls: 0    3198\n",
      "dtype: int64\n"
     ]
    }
   ],
   "source": [
    "# check for nulls\n",
    "print('Train Nulls:',train.isna().sum().value_counts())\n",
    "print('Test Nulls:',test.isna().sum().value_counts())"
   ]
  },
  {
   "cell_type": "markdown",
   "metadata": {},
   "source": [
    "# Explore"
   ]
  },
  {
   "cell_type": "markdown",
   "metadata": {},
   "source": [
    "## Planet Host vs Non-Host Stars\n",
    "\n",
    "Since we are setting out to classify stars as being either a planet-host or non-host, it would be useful to compare the data visually and see if we can pick up on any significant differences in the flux values. The simplest way to do this is plot the signals of each type as a scatter plot and a line plot."
   ]
  },
  {
   "cell_type": "markdown",
   "metadata": {},
   "source": [
    "### Threshold Crossing Event (TCE)\n",
    "TCE is determined by a significant dip in the flux values, the assumption being something crossed in front of the star blocking its light and this could be an orbiting planet! "
   ]
  },
  {
   "cell_type": "code",
   "execution_count": 14,
   "metadata": {
    "ExecuteTime": {
     "end_time": "2020-04-14T09:53:57.293525Z",
     "start_time": "2020-04-14T09:53:57.279194Z"
    }
   },
   "outputs": [
    {
     "data": {
      "text/plain": [
       "LABEL      2.00\n",
       "FLUX.1    93.85\n",
       "FLUX.2    83.81\n",
       "FLUX.3    20.10\n",
       "FLUX.4   -26.98\n",
       "Name: 0, dtype: float64"
      ]
     },
     "metadata": {},
     "output_type": "display_data"
    },
    {
     "data": {
      "text/plain": [
       "LABEL       1.00\n",
       "FLUX.1    323.28\n",
       "FLUX.2    306.36\n",
       "FLUX.3    293.16\n",
       "FLUX.4    287.67\n",
       "Name: 5086, dtype: float64"
      ]
     },
     "metadata": {},
     "output_type": "display_data"
    }
   ],
   "source": [
    "# grab first row of observations to create pandas series \n",
    "# first row is label = 2 which is a confirmed exoplanet host star\n",
    "star_signal_alpha = train.iloc[0, :]\n",
    "# last row is label = 1 which shows no sign of a TCE (threshold crossing event)\n",
    "star_signal_beta = train.iloc[-1, :]\n",
    "\n",
    "display(star_signal_alpha.head(),star_signal_beta.head())"
   ]
  },
  {
   "cell_type": "code",
   "execution_count": 15,
   "metadata": {
    "ExecuteTime": {
     "end_time": "2020-04-14T09:53:59.234825Z",
     "start_time": "2020-04-14T09:53:59.220107Z"
    }
   },
   "outputs": [],
   "source": [
    "def star_signals(signal, label_col=None, classes=None, \n",
    "                 class_names=None, figsize=(15,5), y_units=None, x_units=None):\n",
    "    \"\"\"\n",
    "    Plots a scatter plot and line plot of time series signal values.  \n",
    "    \n",
    "    **ARGS\n",
    "    signal: pandas series or numpy array\n",
    "    label_col: name of the label column if using labeled pandas series\n",
    "        -use default None for numpy array or unlabeled series.\n",
    "        -this is simply for customizing plot Title to include classification    \n",
    "    classes: (optional- req labeled data) tuple if binary, array if multiclass\n",
    "    class_names: tuple or array of strings denoting what the classes mean\n",
    "    figsize: size of the figures (default = (15,5))\n",
    "    ******\n",
    "    \n",
    "    Ex1: Labeled timeseries passing 1st row of pandas dataframe\n",
    "    > first create the signal:\n",
    "    star_signal_alpha = train.iloc[0, :]\n",
    "    > then plot:\n",
    "    star_signals(star_signal_alpha, label_col='LABEL',classes=[1,2], \n",
    "                 class_names=['No Planet', 'Planet']), figsize=(15,5))\n",
    "    \n",
    "    \n",
    "    Ex2: numpy array without any labels\n",
    "    > first create the signal:\n",
    "    \n",
    "    >then plot:\n",
    "    star_signals(signal, figsize=(15,5))\n",
    "    \"\"\"\n",
    "    \n",
    "    # pass None to label_col if unlabeled data, creates generic title\n",
    "    if label_col is None:\n",
    "        label = None\n",
    "        title_scatter = \"Scatterplot of Star Flux Signals\"\n",
    "        title_line = \"Line Plot of Star Flux Signals\"\n",
    "        color='black'\n",
    "        \n",
    "    # store target column as variable \n",
    "    elif label_col is not None:\n",
    "        label = signal[label_col]\n",
    "        # for labeled timeseries\n",
    "        if label == 1:\n",
    "            cls = classes[0]\n",
    "            cn = class_names[0]\n",
    "            color='red'\n",
    "\n",
    "        elif label == 2:\n",
    "            cls = classes[1]\n",
    "            cn = class_names[1] \n",
    "            color='blue'\n",
    "    #create appropriate title acc to class_names    \n",
    "        title_scatter = f\"Scatterplot for Star Flux Signal: {cn}\"\n",
    "        title_line = f\"Line Plot for Star Flux Signal: {cn}\"\n",
    "    \n",
    "    # Set x and y axis labels according to units\n",
    "    # if the units are unknown, we will default to \"Flux\"\n",
    "    if y_units == None:\n",
    "        y_units = 'Flux'\n",
    "    else:\n",
    "        y_units = y_units\n",
    "    # it is assumed this is a timeseries, default to \"time\"   \n",
    "    if x_units == None:\n",
    "        x_units = 'Time'\n",
    "    else:\n",
    "        x_units = x_units\n",
    "    \n",
    "    # Scatter Plot \n",
    "    \n",
    "    plt.figure(figsize=figsize)\n",
    "    plt.scatter(pd.Series([i for i in range(1, len(signal))]), \n",
    "                signal[1:], marker=4, color=color, alpha=0.7)\n",
    "    plt.ylabel(y_units)\n",
    "    plt.xlabel(x_units)\n",
    "    plt.title(title_scatter)\n",
    "    plt.show();\n",
    "\n",
    "    # Line Plot\n",
    "    plt.figure(figsize=figsize)\n",
    "    plt.plot(pd.Series([i for i in range(1, len(signal))]), \n",
    "             signal[1:], color=color, alpha=0.7)\n",
    "    plt.ylabel(y_units)\n",
    "    plt.xlabel(x_units)\n",
    "    plt.title(title_line)\n",
    "    plt.show();"
   ]
  },
  {
   "cell_type": "markdown",
   "metadata": {},
   "source": [
    "# A Word on Units.."
   ]
  },
  {
   "cell_type": "markdown",
   "metadata": {},
   "source": [
    "After doing a little research (mostly by reading the K2 Handbook and visiting the MAST website where NASA houses all of its space telescope data) we learn that the flux values for campaign 3 that are in the Kaggle dataset have been put through a de-noising process. Prior to this particular de-noising process, the flux values would be called `SAP Flux` however in this case we are dealing with `PDC_SAP Flux`. At the moment the units may not seem to matter much, since we assume they are consist across all observations. However, as with anything relating to physics, and science for that matter, the units MATTER. All that to say, for now we are at least going to label the axes accurately so that later down the line if we want to compare this dataset to another from the archive, we will know the units! :)"
   ]
  },
  {
   "cell_type": "code",
   "execution_count": 16,
   "metadata": {
    "ExecuteTime": {
     "end_time": "2020-04-14T09:54:03.080017Z",
     "start_time": "2020-04-14T09:54:01.483894Z"
    },
    "scrolled": false
   },
   "outputs": [
    {
     "data": {
      "image/png": "[encoded data removed]",
      "text/plain": [
       "<Figure size 936x360 with 1 Axes>"
      ]
     },
     "metadata": {
      "needs_background": "light"
     },
     "output_type": "display_data"
    },
    {
     "data": {
      "image/png": "[encoded data removed]",
      "text/plain": [
       "<Figure size 936x360 with 1 Axes>"
      ]
     },
     "metadata": {
      "needs_background": "light"
     },
     "output_type": "display_data"
    },
    {
     "data": {
      "image/png": "[encoded data removed]",
      "text/plain": [
       "<Figure size 936x360 with 1 Axes>"
      ]
     },
     "metadata": {
      "needs_background": "light"
     },
     "output_type": "display_data"
    },
    {
     "data": {
      "image/png": "[encoded data removed]",
      "text/plain": [
       "<Figure size 936x360 with 1 Axes>"
      ]
     },
     "metadata": {
      "needs_background": "light"
     },
     "output_type": "display_data"
    }
   ],
   "source": [
    "# plot scatterplots and line plots for both signals\n",
    "\n",
    "star_signals(signal=star_signal_alpha, label_col='LABEL', classes=[1,2], \n",
    "                 class_names=['No Planet', 'Planet'], figsize=(13,5), y_units='PDC_SAP Flux', x_units='Time')\n",
    "\n",
    "star_signals(signal=star_signal_beta, label_col='LABEL', classes=[1,2], \n",
    "                 class_names=['No Planet', 'Planet'], figsize=(13,5),y_units='PDC_SAP Flux', x_units='Time')"
   ]
  },
  {
   "cell_type": "markdown",
   "metadata": {},
   "source": [
    "# Model"
   ]
  },
  {
   "cell_type": "code",
   "execution_count": 17,
   "metadata": {
    "ExecuteTime": {
     "end_time": "2020-04-14T09:54:08.435049Z",
     "start_time": "2020-04-14T09:54:07.788605Z"
    }
   },
   "outputs": [],
   "source": [
    "# import additional libraries from sklearn\n",
    "# from sklearn.linear_model import LinearRegression\n",
    "# from sklearn.preprocessing import StandardScaler\n",
    "from scipy.ndimage.filters import uniform_filter1d\n",
    "from sklearn.model_selection import train_test_split\n",
    "from sklearn import preprocessing\n",
    "import random"
   ]
  },
  {
   "cell_type": "code",
   "execution_count": 18,
   "metadata": {
    "ExecuteTime": {
     "end_time": "2020-04-14T09:54:10.045540Z",
     "start_time": "2020-04-14T09:54:10.042769Z"
    }
   },
   "outputs": [],
   "source": [
    "# !pip install keras\n",
    "# !pip install tensorflow"
   ]
  },
  {
   "cell_type": "code",
   "execution_count": 19,
   "metadata": {
    "ExecuteTime": {
     "end_time": "2020-04-14T09:54:14.149417Z",
     "start_time": "2020-04-14T09:54:11.893112Z"
    }
   },
   "outputs": [
    {
     "name": "stderr",
     "output_type": "stream",
     "text": [
      "Using TensorFlow backend.\n"
     ]
    }
   ],
   "source": [
    "# import additional libraries for keras\n",
    "import keras\n",
    "from keras.utils.np_utils import to_categorical\n",
    "\n",
    "# from keras.preprocessing.text import Tokenizer\n",
    "from keras import models, layers, optimizers\n",
    "\n",
    "\n",
    "from keras.models import Sequential, Model\n",
    "from keras.layers import Conv1D, MaxPool1D, Dense, Dropout, Flatten, \\\n",
    "BatchNormalization, Input, concatenate, Activation\n",
    "from keras.optimizers import Adam"
   ]
  },
  {
   "cell_type": "markdown",
   "metadata": {},
   "source": [
    "## Train-Test Split"
   ]
  },
  {
   "cell_type": "code",
   "execution_count": 20,
   "metadata": {
    "ExecuteTime": {
     "end_time": "2020-04-14T09:54:15.915722Z",
     "start_time": "2020-04-14T09:54:15.908923Z"
    }
   },
   "outputs": [],
   "source": [
    "# Using Numpy instead of Pandas to create the 1-dimensional arrays\n",
    "def numpy_train_test_split(data_folder, train_set, test_set):\n",
    "    \"\"\"\n",
    "    create target classes for training and test data using numpy\n",
    "    \"\"\"\n",
    "    import numpy as np\n",
    "    \n",
    "    train = np.loadtxt(data_folder+train_set, skiprows=1, delimiter=',')\n",
    "    x_train = train[:, 1:]\n",
    "    y_train = train[:, 0, np.newaxis] - 1.\n",
    "    \n",
    "    test = np.loadtxt(data_folder+test_set, skiprows=1, delimiter=',')\n",
    "    x_test = test[:, 1:]\n",
    "    y_test = test[:, 0, np.newaxis] - 1.\n",
    "    \n",
    "    train,test\n",
    "    \n",
    "    return x_train, y_train, x_test, y_test"
   ]
  },
  {
   "cell_type": "code",
   "execution_count": 21,
   "metadata": {
    "ExecuteTime": {
     "end_time": "2020-04-14T09:54:33.048785Z",
     "start_time": "2020-04-14T09:54:18.225332Z"
    }
   },
   "outputs": [],
   "source": [
    "x_train, y_train, x_test, y_test = numpy_train_test_split(data_folder='data/', \n",
    "                                                          train_set='exoTrain.csv', \n",
    "                                                          test_set='exoTest.csv')"
   ]
  },
  {
   "cell_type": "markdown",
   "metadata": {},
   "source": [
    "## Scaling\n",
    "\n",
    "Scale each observation to zero mean and unit variance."
   ]
  },
  {
   "cell_type": "code",
   "execution_count": 22,
   "metadata": {
    "ExecuteTime": {
     "end_time": "2020-04-14T09:54:34.757967Z",
     "start_time": "2020-04-14T09:54:34.751520Z"
    }
   },
   "outputs": [],
   "source": [
    "def zero_scaler(x_train, x_test):\n",
    "    \"\"\"\n",
    "    Scales each observation of an array to zero mean and unit variance.\n",
    "    Takes array for train and test data separately.\n",
    "    \"\"\"\n",
    "    import numpy as np\n",
    "        \n",
    "    x_train = ((x_train - np.mean(x_train, axis=1).reshape(-1,1)) / \n",
    "           np.std(x_train, axis=1).reshape(-1,1))\n",
    "    \n",
    "    x_test = ((x_test - np.mean(x_test, axis=1).reshape(-1,1)) / \n",
    "              np.std(x_test, axis=1).reshape(-1,1))\n",
    " \n",
    "    return x_train, x_test"
   ]
  },
  {
   "cell_type": "code",
   "execution_count": 23,
   "metadata": {
    "ExecuteTime": {
     "end_time": "2020-04-14T09:54:36.745388Z",
     "start_time": "2020-04-14T09:54:36.393090Z"
    }
   },
   "outputs": [],
   "source": [
    "x_train,x_test = zero_scaler(x_train, x_test)"
   ]
  },
  {
   "cell_type": "markdown",
   "metadata": {},
   "source": [
    "## De-noising"
   ]
  },
  {
   "cell_type": "markdown",
   "metadata": {},
   "source": [
    "In order to reduce the amount of high frequency noise that is likely to have an adverse effect on the neural network's learning outcomes, we can try passing a uniform 1-D filter on our scaled train and test data then stack the arrays along the second axis. There are other ways of accomplishing the de-noising (not to mention the scaling and also normalization), but for now we'll take this approach in order to complete the process of building our initial baseline model."
   ]
  },
  {
   "cell_type": "code",
   "execution_count": null,
   "metadata": {},
   "outputs": [],
   "source": [
    "def time_filter(x_train, x_test, step_size=None, axis=2):\n",
    "    \"\"\"\n",
    "    Adds an input corresponding to the running average over a set number\n",
    "    of time steps. This helps the neural network to ignore high frequency \n",
    "    noise by passing in a uniform 1-D filter and stacking the arrays. \n",
    "    \n",
    "    **ARGS\n",
    "    step_size: integer, # timesteps for 1D filter. defaults to 200\n",
    "    axis: which axis to stack the arrays\n",
    "    \"\"\"\n",
    "    import numpy as np\n",
    "    from scipy.ndimage.filters import uniform_filter1d\n",
    "    \n",
    "    if step_size is None:\n",
    "        step_size=200\n",
    "    \n",
    "    train_filter = uniform_filter1d(x_train, axis=1, size=step_size)\n",
    "    test_filter = unifor_filter1d(x_test, axis=1, size=step_size)\n",
    "    \n",
    "    x_train = np.stack([x_train, train_filter], axis=2)\n",
    "    x_test = np.stack([x_test, test_filter], axis=2)\n",
    "#     x_train = np.stack([x_train, uniform_filter1d(x_train, axis=1, \n",
    "#                                                  size=time_steps)], axis=2)\n",
    "#     x_test = np.stack([x_test, uniform_filter1d(x_test, axis=1, \n",
    "#                                                size=time_steps)], axis=2)\n",
    "    \n",
    "    return x_train, x_test"
   ]
  },
  {
   "cell_type": "code",
   "execution_count": 25,
   "metadata": {
    "ExecuteTime": {
     "end_time": "2020-04-14T09:54:53.497806Z",
     "start_time": "2020-04-14T09:54:53.158510Z"
    }
   },
   "outputs": [],
   "source": [
    "x_train, x_test = time_filter(x_train, x_test, step_size=200, axis=2)"
   ]
  },
  {
   "cell_type": "code",
   "execution_count": 24,
   "metadata": {
    "ExecuteTime": {
     "end_time": "2020-04-14T09:54:51.491790Z",
     "start_time": "2020-04-14T09:54:51.485973Z"
    }
   },
   "outputs": [],
   "source": [
    "# def time_stepper(x_train, x_test, time_steps=):\n",
    "#     \"\"\"\n",
    "#     Adds an input corresponding to the running average over 200 time steps. \n",
    "#     This helps the neural network to ignore high frequency noise\n",
    "    \n",
    "    \n",
    "#     \"\"\"\n",
    "#     import numpy as np\n",
    "#     from scipy.ndimage.filters import uniform_filter1d\n",
    "    \n",
    "#     filter_1D = uniform_filter1d(x_train, axis=1, size=time_steps)\n",
    "       \n",
    "    \n",
    "#     x_train = np.stack([x_train, uniform_filter1d(x_train, axis=1, \n",
    "#                                                  size=time_steps)], axis=2)\n",
    "#     x_test = np.stack([x_test, uniform_filter1d(x_test, axis=1, \n",
    "#                                                size=time_steps)], axis=2)\n",
    "    \n",
    "#     return x_train, x_test"
   ]
  },
  {
   "cell_type": "code",
   "execution_count": 26,
   "metadata": {
    "ExecuteTime": {
     "end_time": "2020-04-14T09:54:55.485019Z",
     "start_time": "2020-04-14T09:54:55.480857Z"
    }
   },
   "outputs": [
    {
     "name": "stdout",
     "output_type": "stream",
     "text": [
      "(5087, 3197, 2)\n",
      "(5087, 1)\n"
     ]
    }
   ],
   "source": [
    "print(x_train.shape)\n",
    "print(y_train.shape)"
   ]
  },
  {
   "cell_type": "code",
   "execution_count": 27,
   "metadata": {
    "ExecuteTime": {
     "end_time": "2020-04-14T09:54:57.235739Z",
     "start_time": "2020-04-14T09:54:57.231667Z"
    }
   },
   "outputs": [
    {
     "name": "stdout",
     "output_type": "stream",
     "text": [
      "(570, 3197, 2)\n",
      "(570, 1)\n"
     ]
    }
   ],
   "source": [
    "print(x_test.shape)\n",
    "print(y_test.shape)"
   ]
  },
  {
   "cell_type": "markdown",
   "metadata": {},
   "source": [
    "## Build Model"
   ]
  },
  {
   "cell_type": "markdown",
   "metadata": {},
   "source": [
    "### **Tactical Decisions**\n",
    "\n",
    "Since I'm building the baseline model from scratch, a few considerations need to be made. While we can run a gridsearch (or randomizedsearchCV) to get the parameters for us, we still need to decide what type of model would be most ideal for this dataset, knowing what we know so far based on the work done so far. From there, we can go with best practices, assess the initial outcomes, and tune the hyperparameters with each iteration. \n",
    "\n",
    "**CNN**\n",
    "The baseline will consist of a one-dimensional convolutional neural network (CNN). This is ideal for working with this particular dataset in which we will pass one row of the timeseries flux values as an array. This is very similar to how we would process image data (and that's strategically useful if we want to develop the model in the future to handle Full-Frame Images from Tess, for instance, or spectographs of the flux frequences, for instance. \n",
    "\n",
    "**1-Layer at a time**\n",
    "We'll be using the Keras API which makes it easy to add in the layers one at a time. Each 1D convolutional layer corresponds to a local filter, and then a pooling layer reduces the data length by approximately a factor 4. At the end, there are two dense layers. Again, this is similar to the approach taken for a typical image classifier. \n",
    "\n",
    "**Activation Function**\n",
    "The RELU activation function is closest to how real neurons actually work and often produces the best results compared to the other options, so we'll at least start with this for the baseline.\n",
    "\n",
    "**Batch Normalization**\n",
    "Finally, the batch normalization layers are what help to speed up convergence. "
   ]
  },
  {
   "cell_type": "code",
   "execution_count": 421,
   "metadata": {
    "ExecuteTime": {
     "end_time": "2020-04-14T19:47:46.142122Z",
     "start_time": "2020-04-14T19:47:46.036796Z"
    }
   },
   "outputs": [],
   "source": [
    "def keras_1D(model=Sequential(), kernel_size=11, \n",
    "                           activation='relu', \n",
    "                           input_shape=x_train.shape[1:], strides=4):\n",
    "    \"\"\"\n",
    "    Linear neural network model using the Keras API\n",
    "    \"\"\"\n",
    "    model = model\n",
    "    #layer1: the first layer will receive an input shape\n",
    "    model.add(Conv1D(filters=8, kernel_size=kernel_size, \n",
    "                     activation=activation, input_shape=input_shape))\n",
    "    model.add(MaxPool1D(strides=strides))\n",
    "    model.add(BatchNormalization())\n",
    "    #layer2\n",
    "    model.add(Conv1D(filters=16, kernel_size=kernel_size, \n",
    "                     activation=activation))\n",
    "    model.add(MaxPool1D(strides=strides))\n",
    "    model.add(BatchNormalization())\n",
    "    #layer3\n",
    "    model.add(Conv1D(filters=32, kernel_size=kernel_size, \n",
    "                     activation=activation))\n",
    "    model.add(MaxPool1D(strides=strides))\n",
    "    model.add(BatchNormalization())\n",
    "    #layer4\n",
    "    model.add(Conv1D(filters=64, kernel_size=kernel_size, \n",
    "                     activation=activation))\n",
    "    model.add(MaxPool1D(strides=strides))\n",
    "    model.add(Flatten())\n",
    "    \n",
    "    #dropout layer1 with automatic shape inference\n",
    "    model.add(Dropout(0.5))\n",
    "    model.add(Dense(64, activation=activation))\n",
    "    #dropout layer2\n",
    "    model.add(Dropout(0.25))\n",
    "    model.add(Dense(64, activation=activation))\n",
    "    # sigmoid layer\n",
    "    model.add(Dense(1, activation='sigmoid'))\n",
    "    \n",
    "    return model"
   ]
  },
  {
   "cell_type": "code",
   "execution_count": 337,
   "metadata": {
    "ExecuteTime": {
     "end_time": "2020-04-14T13:49:46.939778Z",
     "start_time": "2020-04-14T13:49:46.516871Z"
    }
   },
   "outputs": [],
   "source": [
    "keras_model = keras_1D(model=Sequential(), kernel_size=11, activation='relu', \n",
    "                           input_shape=x_train.shape[1:], strides=4)"
   ]
  },
  {
   "cell_type": "markdown",
   "metadata": {},
   "source": [
    "## Batch Generator"
   ]
  },
  {
   "cell_type": "markdown",
   "metadata": {},
   "source": [
    "To correct for the extremely unbalanced dataset, we'll ensure that the network sees 50% of the positive sample over each batch. We will also apply augmentation by rotating each of the samples randomly each time, thus generating new data. This is similar to image classification when we rotate or shift the samples each time."
   ]
  },
  {
   "cell_type": "code",
   "execution_count": 30,
   "metadata": {
    "ExecuteTime": {
     "end_time": "2020-04-14T09:56:35.126283Z",
     "start_time": "2020-04-14T09:56:35.115474Z"
    }
   },
   "outputs": [],
   "source": [
    "def batch_maker(x_train, y_train, batch_size=115):\n",
    "    \"\"\"\n",
    "    Gives equal number of positive and negative samples rotating randomly\n",
    "    \n",
    "    generator: A generator or an instance of `keras.utils.Sequence`\n",
    "        \n",
    "    The output of the generator must be either\n",
    "    - a tuple `(inputs, targets)`\n",
    "    - a tuple `(inputs, targets, sample_weights)`.\n",
    "\n",
    "    This tuple (a single output of the generator) makes a single\n",
    "    batch. Therefore, all arrays in this tuple must have the same\n",
    "    length (equal to the size of this batch). Different batches may have \n",
    "    different sizes. \n",
    "\n",
    "    For example, the last batch of the epoch\n",
    "    is commonly smaller than the others, if the size of the dataset\n",
    "    is not divisible by the batch size.\n",
    "    The generator is expected to loop over its data\n",
    "    indefinitely. An epoch finishes when `steps_per_epoch`\n",
    "    batches have been seen by the model.\n",
    "    \n",
    "    \"\"\"\n",
    "    import numpy\n",
    "    import random\n",
    "\n",
    "    half_batch = batch_size // 2\n",
    "    \n",
    "    # Returns a new array of given shape and type, without initializing entries.\n",
    "    # x_train.shape = (5087, 3197, 2)\n",
    "    x_batch = np.empty((batch_size, x_train.shape[1], x_train.shape[2]), dtype='float32')\n",
    "    \n",
    "    #y_train.shape = (5087, 1)\n",
    "    y_batch = np.empty((batch_size, y_train.shape[1]), dtype='float32')\n",
    "    \n",
    "    pos_idx = np.where(y_train[:,0] == 1.)[0]\n",
    "    neg_idx = np.where(y_train[:,0] == 0.)[0]\n",
    "\n",
    "    # rotating each of the samples randomly\n",
    "    while True:\n",
    "        np.random.shuffle(pos_idx)\n",
    "        np.random.shuffle(neg_idx)\n",
    "    \n",
    "        x_batch[:half_batch] = x_train[pos_idx[:half_batch]]\n",
    "        x_batch[half_batch:] = x_train[neg_idx[half_batch:batch_size]]\n",
    "        y_batch[:half_batch] = y_train[pos_idx[:half_batch]]\n",
    "        y_batch[half_batch:] = y_train[neg_idx[half_batch:batch_size]]\n",
    "    \n",
    "        for i in range(batch_size):\n",
    "            sz = np.random.randint(x_batch.shape[1])\n",
    "            x_batch[i] = np.roll(x_batch[i], sz, axis = 0)\n",
    "     \n",
    "        yield x_batch, y_batch"
   ]
  },
  {
   "cell_type": "markdown",
   "metadata": {},
   "source": [
    "## Train Model"
   ]
  },
  {
   "cell_type": "code",
   "execution_count": null,
   "metadata": {},
   "outputs": [],
   "source": [
    "def scikit_keras(build_fn=None, compiler=None, params=None, generator=batch_maker, batch_size=32):\n",
    "    \"\"\"\n",
    "    Builds, compiles and fits a keras model\n",
    "    Takes in dictionaries of parameters for both compiler and\n",
    "    fit_generator.\n",
    "    \n",
    "    *ARGS\n",
    "    build_fn: build function for creating model, can also pass in a model\n",
    "    compiler : dict of paramaters for model.compile()\n",
    "    params : dict of parameters for model.fit_generator\n",
    "    note: batch\n",
    "    \n",
    "    \n",
    "    \"\"\"\n",
    "    # set default parameters if not made explicit\n",
    "    \n",
    "    # BUILD vars\n",
    "    if build_fn:\n",
    "        model=build_fn\n",
    "    else:\n",
    "        model = keras_1D(model=Sequential(), kernel_size=11, activation='relu', \n",
    "                           input_shape=x_train.shape[1:], strides=4)\n",
    "\n",
    "    # COMPILE vars\n",
    "    if compiler:   \n",
    "        optimizer=compiler['optimizer']\n",
    "        learning_rate=compiler['learning_rate'] \n",
    "        loss=compiler['loss']\n",
    "        metrics=compiler['metrics']\n",
    "     \n",
    "    else:\n",
    "        optimizer=Adam\n",
    "        learning_rate=1e-5\n",
    "        loss='binary_crossentropy'\n",
    "        metrics=['accuracy']\n",
    "        \n",
    "        \n",
    "    ##### COMPILE AND FIT #####\n",
    "    model.compile(optimizer=optimizer(learning_rate), loss=loss, \n",
    "                  metrics=metrics)\n",
    "    \n",
    "    # HISTORY vars\n",
    "#     if generator is None:\n",
    "#         generator = batch_maker(x_train, y_train, batch_size)\n",
    "    \n",
    "    if params:\n",
    "        validation_data = params['validation_data']\n",
    "        verbose = params['verbose']\n",
    "        epochs = params['epochs']\n",
    "        steps_per_epoch = params['steps_per_epoch']\n",
    "    else:\n",
    "        validation_data = (x_test, y_test)\n",
    "        verbose=0\n",
    "        epochs=5\n",
    "        steps_per_epoch=x_train.shape[1]//32\n",
    "    \n",
    "    history = model.fit_generator(batch_maker(x_train, y_train, batch_size), \n",
    "                                  validation_data=validation_data, \n",
    "                                  verbose=verbose, epochs=epochs, \n",
    "                                  steps_per_epoch=steps_per_epoch)\n",
    "    \n",
    "    return model, history"
   ]
  },
  {
   "cell_type": "markdown",
   "metadata": {},
   "source": [
    "# `Model 1`\n",
    "\n",
    "We'll begin creating a baseline model with a lower than usual learning rate and then speed things up and fine-tune parameters for optimization in the next iterations. (The lower learning rate will help to ensure convergence.) \n",
    "\n",
    "We'll increase the learning rate in Model2 iteration and also tune any other parameters as necessary. The first iteration uses the Adam optimizer, however, SGD is also a good option we could try here."
   ]
  },
  {
   "cell_type": "code",
   "execution_count": 31,
   "metadata": {
    "ExecuteTime": {
     "end_time": "2020-04-14T09:56:46.235889Z",
     "start_time": "2020-04-14T09:56:46.229502Z"
    }
   },
   "outputs": [],
   "source": [
    "# #Start with a slightly lower learning rate, to ensure convergence\n",
    "\n",
    "# def keras_model(optimizer=Adam, learning_rate=1e-5, loss='binary_crossentropy',\n",
    "#                metrics=['accuracy'], verbose=0, epochs=5, steps_per_epoch=x_train.shape[1]//32):\n",
    "    \n",
    "#     model.compile(optimizer=optimizer(learning_rate), loss=loss, \n",
    "#                   metrics=metrics)\n",
    "\n",
    "#     history = model.fit_generator(batch_maker(x_train, y_train, 32), \n",
    "#                            validation_data=(x_test, y_test), \n",
    "#                            verbose=0, epochs=epochs,\n",
    "#                            steps_per_epoch=steps_per_epoch,)\n",
    "#     return model, history"
   ]
  },
  {
   "cell_type": "code",
   "execution_count": 32,
   "metadata": {
    "ExecuteTime": {
     "end_time": "2020-04-14T09:57:27.164178Z",
     "start_time": "2020-04-14T09:56:48.839749Z"
    }
   },
   "outputs": [
    {
     "name": "stdout",
     "output_type": "stream",
     "text": [
      "WARNING:tensorflow:From /Users/hakkeray/opt/anaconda3/lib/python3.7/site-packages/tensorflow/python/ops/math_ops.py:3066: to_int32 (from tensorflow.python.ops.math_ops) is deprecated and will be removed in a future version.\n",
      "Instructions for updating:\n",
      "Use tf.cast instead.\n"
     ]
    }
   ],
   "source": [
    "m1, h1 = keras_model(optimizer=Adam, learning_rate=1e-5, loss='binary_crossentropy',\n",
    "               metrics=['accuracy'], verbose=0, epochs=5, steps_per_epoch=x_train.shape[1]//32)"
   ]
  },
  {
   "cell_type": "markdown",
   "metadata": {},
   "source": [
    "## Summary (M1)"
   ]
  },
  {
   "cell_type": "code",
   "execution_count": 33,
   "metadata": {
    "ExecuteTime": {
     "end_time": "2020-04-14T09:57:29.043553Z",
     "start_time": "2020-04-14T09:57:29.032895Z"
    }
   },
   "outputs": [
    {
     "name": "stdout",
     "output_type": "stream",
     "text": [
      "Model: \"sequential_2\"\n",
      "_________________________________________________________________\n",
      "Layer (type)                 Output Shape              Param #   \n",
      "=================================================================\n",
      "conv1d_1 (Conv1D)            (None, 3187, 8)           184       \n",
      "_________________________________________________________________\n",
      "max_pooling1d_1 (MaxPooling1 (None, 797, 8)            0         \n",
      "_________________________________________________________________\n",
      "batch_normalization_1 (Batch (None, 797, 8)            32        \n",
      "_________________________________________________________________\n",
      "conv1d_2 (Conv1D)            (None, 787, 16)           1424      \n",
      "_________________________________________________________________\n",
      "max_pooling1d_2 (MaxPooling1 (None, 197, 16)           0         \n",
      "_________________________________________________________________\n",
      "batch_normalization_2 (Batch (None, 197, 16)           64        \n",
      "_________________________________________________________________\n",
      "conv1d_3 (Conv1D)            (None, 187, 32)           5664      \n",
      "_________________________________________________________________\n",
      "max_pooling1d_3 (MaxPooling1 (None, 47, 32)            0         \n",
      "_________________________________________________________________\n",
      "batch_normalization_3 (Batch (None, 47, 32)            128       \n",
      "_________________________________________________________________\n",
      "conv1d_4 (Conv1D)            (None, 37, 64)            22592     \n",
      "_________________________________________________________________\n",
      "max_pooling1d_4 (MaxPooling1 (None, 9, 64)             0         \n",
      "_________________________________________________________________\n",
      "flatten_1 (Flatten)          (None, 576)               0         \n",
      "_________________________________________________________________\n",
      "dropout_1 (Dropout)          (None, 576)               0         \n",
      "_________________________________________________________________\n",
      "dense_1 (Dense)              (None, 64)                36928     \n",
      "_________________________________________________________________\n",
      "dropout_2 (Dropout)          (None, 64)                0         \n",
      "_________________________________________________________________\n",
      "dense_2 (Dense)              (None, 64)                4160      \n",
      "_________________________________________________________________\n",
      "dense_3 (Dense)              (None, 1)                 65        \n",
      "=================================================================\n",
      "Total params: 71,241\n",
      "Trainable params: 71,129\n",
      "Non-trainable params: 112\n",
      "_________________________________________________________________\n"
     ]
    }
   ],
   "source": [
    "# TODO: model.summary\n",
    "m1.summary()"
   ]
  },
  {
   "cell_type": "markdown",
   "metadata": {},
   "source": [
    "## Class Predictions"
   ]
  },
  {
   "cell_type": "markdown",
   "metadata": {},
   "source": [
    "### Probability Values"
   ]
  },
  {
   "cell_type": "code",
   "execution_count": 44,
   "metadata": {
    "ExecuteTime": {
     "end_time": "2020-04-14T10:05:47.990286Z",
     "start_time": "2020-04-14T10:05:47.732640Z"
    }
   },
   "outputs": [
    {
     "data": {
      "text/plain": [
       "array([0.42910177, 0.48358345, 0.45294467, 0.2676693 , 0.4256755 ,\n",
       "       0.46985337, 0.48914728, 0.35947162, 0.35610247, 0.3468445 ,\n",
       "       0.2069723 , 0.4831366 , 0.41886085, 0.40276882, 0.3889534 ,\n",
       "       0.42960358, 0.4412235 , 0.5175849 , 0.40092856, 0.5257785 ,\n",
       "       0.35095736, 0.44293794, 0.41298622, 0.45449734, 0.3160503 ,\n",
       "       0.4435249 , 0.4231542 , 0.5076784 , 0.43749383, 0.22944742,\n",
       "       0.3146807 , 0.5926414 , 0.29757547, 0.27229178, 0.55171525,\n",
       "       0.36040193, 0.34355682, 0.4029869 , 0.40525904, 0.62172776,\n",
       "       0.3465082 , 0.39095414, 0.37274677, 0.40019196, 0.31173486,\n",
       "       0.36978114, 0.4096555 , 0.37669837, 0.45310578, 0.42781997,\n",
       "       0.34566373, 0.41439074, 0.51938754, 0.56075835, 0.57668656,\n",
       "       0.29057637, 0.42347056, 0.6146313 , 0.4778975 , 0.3942731 ,\n",
       "       0.37894067, 0.37239733, 0.28019565, 0.45912433, 0.44473264,\n",
       "       0.44835922, 0.40877032, 0.3699206 , 0.48506296, 0.37775367,\n",
       "       0.38456705, 0.38621795, 0.3475938 , 0.29230377, 0.34690452,\n",
       "       0.48316276, 0.40411037, 0.41623583, 0.42725456, 0.34887362,\n",
       "       0.4246736 , 0.4931088 , 0.5083189 , 0.2830891 , 0.51295483,\n",
       "       0.65573525, 0.42084134, 0.48778394, 0.40267098, 0.46052963,\n",
       "       0.3345099 , 0.47997314, 0.43374562, 0.4188381 , 0.4116146 ,\n",
       "       0.5046539 , 0.36853105, 0.36935383, 0.39693186, 0.6443818 ,\n",
       "       0.2853359 , 0.35126346, 0.23720783, 0.4136497 , 0.55847317,\n",
       "       0.25141585, 0.44297013, 0.5051715 , 0.42281452, 0.3427893 ,\n",
       "       0.38467455, 0.41477972, 0.5434004 , 0.31281316, 0.51453537,\n",
       "       0.36068577, 0.31755555, 0.5205451 , 0.76437616, 0.34971935,\n",
       "       0.48983186, 0.23619026, 0.36523414, 0.3484127 , 0.4190895 ,\n",
       "       0.30937934, 0.23154655, 0.2606749 , 0.41949722, 0.5259427 ,\n",
       "       0.41621774, 0.40012538, 0.34584832, 0.4474988 , 0.5026612 ,\n",
       "       0.41113567, 0.5213967 , 0.61220837, 0.45409262, 0.4807287 ,\n",
       "       0.35660186, 0.47427422, 0.3539265 , 0.2383269 , 0.40517724,\n",
       "       0.29251075, 0.42106164, 0.5152859 , 0.51556903, 0.38026223,\n",
       "       0.5512741 , 0.27772623, 0.32771677, 0.3296497 , 0.5289502 ,\n",
       "       0.38908178, 0.2239638 , 0.21194428, 0.17543346, 0.45263782,\n",
       "       0.44301707, 0.39527184, 0.40994093, 0.40405285, 0.53151363,\n",
       "       0.37520963, 0.2637985 , 0.31147522, 0.4770468 , 0.4948617 ,\n",
       "       0.4490812 , 0.45968303, 0.28573906, 0.52479964, 0.36758062,\n",
       "       0.5041833 , 0.5041532 , 0.54353106, 0.4724828 , 0.49512637,\n",
       "       0.30600765, 0.4321741 , 0.35493523, 0.53874195, 0.52851987,\n",
       "       0.5253953 , 0.28076464, 0.33489627, 0.5870107 , 0.43533856,\n",
       "       0.3758065 , 0.44576666, 0.37942705, 0.46381235, 0.32406253,\n",
       "       0.30683586, 0.32750314, 0.5137387 , 0.4294644 , 0.4007122 ,\n",
       "       0.43408906, 0.41956505, 0.4939702 , 0.5420516 , 0.4904204 ,\n",
       "       0.45740107, 0.47989374, 0.493962  , 0.39946842, 0.40159932,\n",
       "       0.432428  , 0.31173316, 0.48341852, 0.35337335, 0.35053098,\n",
       "       0.40907624, 0.42842442, 0.4284396 , 0.31037098, 0.44813597,\n",
       "       0.5563319 , 0.5285596 , 0.4344544 , 0.184203  , 0.3838221 ,\n",
       "       0.5390449 , 0.30347547, 0.37410146, 0.41728878, 0.61437035,\n",
       "       0.54619807, 0.41277656, 0.4294863 , 0.4172254 , 0.37293807,\n",
       "       0.4605821 , 0.47289225, 0.54608047, 0.32293755, 0.38740462,\n",
       "       0.21327093, 0.4408735 , 0.4339542 , 0.4862981 , 0.31181154,\n",
       "       0.3951182 , 0.54026353, 0.49623993, 0.3867597 , 0.48525184,\n",
       "       0.5462166 , 0.4188978 , 0.328551  , 0.39757368, 0.37199268,\n",
       "       0.2535649 , 0.38401952, 0.23425165, 0.42540717, 0.4191663 ,\n",
       "       0.33352885, 0.5387221 , 0.44716707, 0.548025  , 0.46776724,\n",
       "       0.49420485, 0.23504859, 0.42022553, 0.4231757 , 0.36010876,\n",
       "       0.38788813, 0.39470282, 0.34645727, 0.34064656, 0.37416506,\n",
       "       0.29239786, 0.6192015 , 0.50671244, 0.5419675 , 0.3935471 ,\n",
       "       0.5002567 , 0.47032332, 0.29388285, 0.3793796 , 0.40804017,\n",
       "       0.35803792, 0.2985198 , 0.4219361 , 0.37596047, 0.34194773,\n",
       "       0.33453384, 0.5316086 , 0.31313884, 0.44947132, 0.5186767 ,\n",
       "       0.48381785, 0.34933937, 0.27451098, 0.44766402, 0.4622835 ,\n",
       "       0.4127013 , 0.3673244 , 0.3337146 , 0.3529726 , 0.60861367,\n",
       "       0.24725702, 0.37044597, 0.48383826, 0.43880397, 0.41099524,\n",
       "       0.5123191 , 0.46243703, 0.59189934, 0.5179201 , 0.5031372 ,\n",
       "       0.45676684, 0.27555197, 0.2029691 , 0.4462201 , 0.5471646 ,\n",
       "       0.54808426, 0.39462698, 0.3944182 , 0.3137018 , 0.4626843 ,\n",
       "       0.5013706 , 0.312207  , 0.501949  , 0.3619004 , 0.36207208,\n",
       "       0.35579756, 0.47452742, 0.3961171 , 0.5009234 , 0.39053774,\n",
       "       0.50189084, 0.19610062, 0.41465485, 0.45426005, 0.5448824 ,\n",
       "       0.45469382, 0.4517959 , 0.28940368, 0.32269   , 0.4140834 ,\n",
       "       0.45600688, 0.39784753, 0.32960021, 0.261281  , 0.5671334 ,\n",
       "       0.45583817, 0.43655124, 0.5096648 , 0.5598385 , 0.32134217,\n",
       "       0.49231088, 0.26402092, 0.39485347, 0.6092483 , 0.5450366 ,\n",
       "       0.5637622 , 0.42236567, 0.46257225, 0.54886836, 0.38811183,\n",
       "       0.31559706, 0.61726063, 0.5829853 , 0.48908353, 0.49558023,\n",
       "       0.50645626, 0.40584326, 0.32533836, 0.3090709 , 0.5192313 ,\n",
       "       0.4648994 , 0.39690363, 0.31839436, 0.39952746, 0.3227655 ,\n",
       "       0.45092258, 0.45006782, 0.44017845, 0.32708102, 0.5156034 ,\n",
       "       0.42139065, 0.43528438, 0.44354662, 0.36418855, 0.4711568 ,\n",
       "       0.53461814, 0.42004693, 0.30525595, 0.42586127, 0.33934706,\n",
       "       0.28304338, 0.5938817 , 0.31952137, 0.36773548, 0.46847913,\n",
       "       0.69977134, 0.40749985, 0.5075707 , 0.43305343, 0.39534703,\n",
       "       0.22751293, 0.37024528, 0.29739442, 0.30735096, 0.2512344 ,\n",
       "       0.38015845, 0.51212096, 0.47404212, 0.31508476, 0.4628964 ,\n",
       "       0.61808217, 0.64709306, 0.49754733, 0.37976724, 0.31878042,\n",
       "       0.15085918, 0.39124352, 0.36072642, 0.32512262, 0.26277474,\n",
       "       0.2248039 , 0.19813448, 0.50768965, 0.06657085, 0.2294403 ,\n",
       "       0.42586017, 0.46053907, 0.47430348, 0.42717293, 0.39880392,\n",
       "       0.46644297, 0.47207838, 0.4152712 , 0.3989977 , 0.36163908,\n",
       "       0.34150594, 0.42373133, 0.4849578 , 0.3326148 , 0.36303714,\n",
       "       0.58848   , 0.5528246 , 0.6150173 , 0.19953707, 0.44140974,\n",
       "       0.30396295, 0.32809365, 0.2967239 , 0.3127296 , 0.35507953,\n",
       "       0.3708012 , 0.4138503 , 0.27521002, 0.37851793, 0.3596692 ,\n",
       "       0.604424  , 0.40396202, 0.7019139 , 0.43092737, 0.6486579 ,\n",
       "       0.4891043 , 0.39900112, 0.28232524, 0.31446558, 0.35134882,\n",
       "       0.38399914, 0.40386835, 0.29182005, 0.26974425, 0.53876585,\n",
       "       0.55604815, 0.4013644 , 0.41048026, 0.24302405, 0.46019104,\n",
       "       0.33225137, 0.4973166 , 0.45876414, 0.38136023, 0.43644047,\n",
       "       0.63655263, 0.49388564, 0.39416796, 0.57341546, 0.30369025,\n",
       "       0.5202717 , 0.5067572 , 0.34790277, 0.46163878, 0.4216057 ,\n",
       "       0.4548711 , 0.45195147, 0.3821001 , 0.39241433, 0.4410129 ,\n",
       "       0.5052845 , 0.49363285, 0.4768952 , 0.3961051 , 0.49883708,\n",
       "       0.32600147, 0.48743322, 0.29686493, 0.33738053, 0.53506464,\n",
       "       0.3261897 , 0.5692184 , 0.40855244, 0.4937999 , 0.30262643,\n",
       "       0.38725376, 0.3773024 , 0.3074339 , 0.38509187, 0.34287292,\n",
       "       0.49453822, 0.34721792, 0.29646665, 0.42662007, 0.4669892 ,\n",
       "       0.381933  , 0.47457194, 0.5755259 , 0.3520398 , 0.38451904,\n",
       "       0.18691352, 0.5151641 , 0.4765484 , 0.24775416, 0.43784845,\n",
       "       0.4923047 , 0.53966796, 0.44450694, 0.4928152 , 0.41000366,\n",
       "       0.39800695, 0.29921746, 0.35645297, 0.45140275, 0.45110613,\n",
       "       0.4521562 , 0.31196344, 0.277091  , 0.49272618, 0.6147698 ,\n",
       "       0.5361586 , 0.42642906, 0.47845408, 0.4636134 , 0.2152215 ,\n",
       "       0.38808316, 0.29229987, 0.4339006 , 0.36371332, 0.6356416 ,\n",
       "       0.34471577, 0.31580603, 0.34242016, 0.5109243 , 0.5885897 ,\n",
       "       0.41555578, 0.41110468, 0.4462903 , 0.3468215 , 0.49536115],\n",
       "      dtype=float32)"
      ]
     },
     "execution_count": 44,
     "metadata": {},
     "output_type": "execute_result"
    }
   ],
   "source": [
    "# the probability values of the predictions\n",
    "# these need to be converted into binary values to be understood as far \n",
    "# what the class predictions are\n",
    "y_hat = model.predict(x_test)[:,0] \n",
    "y_hat"
   ]
  },
  {
   "cell_type": "markdown",
   "metadata": {},
   "source": [
    "### Target Values"
   ]
  },
  {
   "cell_type": "code",
   "execution_count": 43,
   "metadata": {
    "ExecuteTime": {
     "end_time": "2020-04-14T10:05:38.626702Z",
     "start_time": "2020-04-14T10:05:38.615958Z"
    }
   },
   "outputs": [
    {
     "data": {
      "text/plain": [
       "array([1, 1, 1, 1, 1, 0, 0, 0, 0, 0, 0, 0, 0, 0, 0, 0, 0, 0, 0, 0, 0, 0,\n",
       "       0, 0, 0, 0, 0, 0, 0, 0, 0, 0, 0, 0, 0, 0, 0, 0, 0, 0, 0, 0, 0, 0,\n",
       "       0, 0, 0, 0, 0, 0, 0, 0, 0, 0, 0, 0, 0, 0, 0, 0, 0, 0, 0, 0, 0, 0,\n",
       "       0, 0, 0, 0, 0, 0, 0, 0, 0, 0, 0, 0, 0, 0, 0, 0, 0, 0, 0, 0, 0, 0,\n",
       "       0, 0, 0, 0, 0, 0, 0, 0, 0, 0, 0, 0, 0, 0, 0, 0, 0, 0, 0, 0, 0, 0,\n",
       "       0, 0, 0, 0, 0, 0, 0, 0, 0, 0, 0, 0, 0, 0, 0, 0, 0, 0, 0, 0, 0, 0,\n",
       "       0, 0, 0, 0, 0, 0, 0, 0, 0, 0, 0, 0, 0, 0, 0, 0, 0, 0, 0, 0, 0, 0,\n",
       "       0, 0, 0, 0, 0, 0, 0, 0, 0, 0, 0, 0, 0, 0, 0, 0, 0, 0, 0, 0, 0, 0,\n",
       "       0, 0, 0, 0, 0, 0, 0, 0, 0, 0, 0, 0, 0, 0, 0, 0, 0, 0, 0, 0, 0, 0,\n",
       "       0, 0, 0, 0, 0, 0, 0, 0, 0, 0, 0, 0, 0, 0, 0, 0, 0, 0, 0, 0, 0, 0,\n",
       "       0, 0, 0, 0, 0, 0, 0, 0, 0, 0, 0, 0, 0, 0, 0, 0, 0, 0, 0, 0, 0, 0,\n",
       "       0, 0, 0, 0, 0, 0, 0, 0, 0, 0, 0, 0, 0, 0, 0, 0, 0, 0, 0, 0, 0, 0,\n",
       "       0, 0, 0, 0, 0, 0, 0, 0, 0, 0, 0, 0, 0, 0, 0, 0, 0, 0, 0, 0, 0, 0,\n",
       "       0, 0, 0, 0, 0, 0, 0, 0, 0, 0, 0, 0, 0, 0, 0, 0, 0, 0, 0, 0, 0, 0,\n",
       "       0, 0, 0, 0, 0, 0, 0, 0, 0, 0, 0, 0, 0, 0, 0, 0, 0, 0, 0, 0, 0, 0,\n",
       "       0, 0, 0, 0, 0, 0, 0, 0, 0, 0, 0, 0, 0, 0, 0, 0, 0, 0, 0, 0, 0, 0,\n",
       "       0, 0, 0, 0, 0, 0, 0, 0, 0, 0, 0, 0, 0, 0, 0, 0, 0, 0, 0, 0, 0, 0,\n",
       "       0, 0, 0, 0, 0, 0, 0, 0, 0, 0, 0, 0, 0, 0, 0, 0, 0, 0, 0, 0, 0, 0,\n",
       "       0, 0, 0, 0, 0, 0, 0, 0, 0, 0, 0, 0, 0, 0, 0, 0, 0, 0, 0, 0, 0, 0,\n",
       "       0, 0, 0, 0, 0, 0, 0, 0, 0, 0, 0, 0, 0, 0, 0, 0, 0, 0, 0, 0, 0, 0,\n",
       "       0, 0, 0, 0, 0, 0, 0, 0, 0, 0, 0, 0, 0, 0, 0, 0, 0, 0, 0, 0, 0, 0,\n",
       "       0, 0, 0, 0, 0, 0, 0, 0, 0, 0, 0, 0, 0, 0, 0, 0, 0, 0, 0, 0, 0, 0,\n",
       "       0, 0, 0, 0, 0, 0, 0, 0, 0, 0, 0, 0, 0, 0, 0, 0, 0, 0, 0, 0, 0, 0,\n",
       "       0, 0, 0, 0, 0, 0, 0, 0, 0, 0, 0, 0, 0, 0, 0, 0, 0, 0, 0, 0, 0, 0,\n",
       "       0, 0, 0, 0, 0, 0, 0, 0, 0, 0, 0, 0, 0, 0, 0, 0, 0, 0, 0, 0, 0, 0,\n",
       "       0, 0, 0, 0, 0, 0, 0, 0, 0, 0, 0, 0, 0, 0, 0, 0, 0, 0, 0, 0])"
      ]
     },
     "execution_count": 43,
     "metadata": {},
     "output_type": "execute_result"
    }
   ],
   "source": [
    "# the test set's true values for our target class:\n",
    "y_true = (y_test[:, 0] + 0.5).astype(\"int\")\n",
    "y_true"
   ]
  },
  {
   "cell_type": "markdown",
   "metadata": {},
   "source": [
    "### Class Predictions"
   ]
  },
  {
   "cell_type": "code",
   "execution_count": 46,
   "metadata": {
    "ExecuteTime": {
     "end_time": "2020-04-14T10:06:29.925718Z",
     "start_time": "2020-04-14T10:06:29.659471Z"
    }
   },
   "outputs": [
    {
     "data": {
      "text/plain": [
       "array([0, 0, 0, 0, 0, 0, 0, 0, 0, 0, 0, 0, 0, 0, 0, 0, 0, 1, 0, 1, 0, 0,\n",
       "       0, 0, 0, 0, 0, 1, 0, 0, 0, 1, 0, 0, 1, 0, 0, 0, 0, 1, 0, 0, 0, 0,\n",
       "       0, 0, 0, 0, 0, 0, 0, 0, 1, 1, 1, 0, 0, 1, 0, 0, 0, 0, 0, 0, 0, 0,\n",
       "       0, 0, 0, 0, 0, 0, 0, 0, 0, 0, 0, 0, 0, 0, 0, 0, 1, 0, 1, 1, 0, 0,\n",
       "       0, 0, 0, 0, 0, 0, 0, 1, 0, 0, 0, 1, 0, 0, 0, 0, 1, 0, 0, 1, 0, 0,\n",
       "       0, 0, 1, 0, 1, 0, 0, 1, 1, 0, 0, 0, 0, 0, 0, 0, 0, 0, 0, 1, 0, 0,\n",
       "       0, 0, 1, 0, 1, 1, 0, 0, 0, 0, 0, 0, 0, 0, 0, 1, 1, 0, 1, 0, 0, 0,\n",
       "       1, 0, 0, 0, 0, 0, 0, 0, 0, 0, 1, 0, 0, 0, 0, 0, 0, 0, 0, 1, 0, 1,\n",
       "       1, 1, 0, 0, 0, 0, 0, 1, 1, 1, 0, 0, 1, 0, 0, 0, 0, 0, 0, 0, 0, 1,\n",
       "       0, 0, 0, 0, 0, 1, 0, 0, 0, 0, 0, 0, 0, 0, 0, 0, 0, 0, 0, 0, 0, 0,\n",
       "       1, 1, 0, 0, 0, 1, 0, 0, 0, 1, 1, 0, 0, 0, 0, 0, 0, 1, 0, 0, 0, 0,\n",
       "       0, 0, 0, 0, 1, 0, 0, 0, 1, 0, 0, 0, 0, 0, 0, 0, 0, 0, 0, 1, 0, 1,\n",
       "       0, 0, 0, 0, 0, 0, 0, 0, 0, 0, 0, 0, 1, 1, 1, 0, 1, 0, 0, 0, 0, 0,\n",
       "       0, 0, 0, 0, 0, 1, 0, 0, 1, 0, 0, 0, 0, 0, 0, 0, 0, 0, 1, 0, 0, 0,\n",
       "       0, 0, 1, 0, 1, 1, 1, 0, 0, 0, 0, 1, 1, 0, 0, 0, 0, 1, 0, 1, 0, 0,\n",
       "       0, 0, 0, 1, 0, 1, 0, 0, 0, 1, 0, 0, 0, 0, 0, 0, 0, 0, 0, 1, 0, 0,\n",
       "       1, 1, 0, 0, 0, 0, 1, 1, 1, 0, 0, 1, 0, 0, 1, 1, 0, 0, 1, 0, 0, 0,\n",
       "       1, 0, 0, 0, 0, 0, 0, 0, 0, 0, 1, 0, 0, 0, 0, 0, 1, 0, 0, 0, 0, 0,\n",
       "       1, 0, 0, 0, 1, 0, 1, 0, 0, 0, 0, 0, 0, 0, 0, 1, 0, 0, 0, 1, 1, 0,\n",
       "       0, 0, 0, 0, 0, 0, 0, 0, 0, 1, 0, 0, 0, 0, 0, 0, 0, 0, 0, 0, 0, 0,\n",
       "       0, 0, 0, 0, 0, 1, 1, 1, 0, 0, 0, 0, 0, 0, 0, 0, 0, 0, 0, 0, 1, 0,\n",
       "       1, 0, 1, 0, 0, 0, 0, 0, 0, 0, 0, 0, 1, 1, 0, 0, 0, 0, 0, 0, 0, 0,\n",
       "       0, 1, 0, 0, 1, 0, 1, 1, 0, 0, 0, 0, 0, 0, 0, 0, 1, 0, 0, 0, 0, 0,\n",
       "       0, 0, 0, 1, 0, 1, 0, 0, 0, 0, 0, 0, 0, 0, 0, 0, 0, 0, 0, 0, 0, 1,\n",
       "       0, 0, 0, 1, 0, 0, 0, 0, 1, 0, 0, 0, 0, 0, 0, 0, 0, 0, 0, 0, 0, 1,\n",
       "       1, 0, 0, 0, 0, 0, 0, 0, 0, 1, 0, 0, 0, 1, 1, 0, 0, 0, 0, 0],\n",
       "      dtype=int32)"
      ]
     },
     "execution_count": 46,
     "metadata": {},
     "output_type": "execute_result"
    }
   ],
   "source": [
    "# Generate class predictions for test set\n",
    "y_pred = model.predict_classes(x_test).flatten() # class predictions in binary\n",
    "y_pred"
   ]
  },
  {
   "cell_type": "code",
   "execution_count": 333,
   "metadata": {
    "ExecuteTime": {
     "end_time": "2020-04-14T13:42:03.438836Z",
     "start_time": "2020-04-14T13:42:03.427674Z"
    }
   },
   "outputs": [],
   "source": [
    "# Build these values into a function for efficiency in next model iterations:\n",
    "\n",
    "def get_preds(x_test,y_test,history=None):\n",
    "    y_true = (y_test[:, 0] + 0.5).astype(\"int\") # flatten and make integer\n",
    "    y_hat = model.predict(x_test)[:,0] \n",
    "    y_pred = model.predict_classes(x_test).flatten() # class predictions \n",
    "    \n",
    "    \n",
    "    yhat_val = pd.Series(y_pred).value_counts(normalize=False)\n",
    "    yhat_pct = pd.Series(y_pred).value_counts(normalize=True)*100\n",
    "\n",
    "    print(f\"y_hat_vals:\\n {yhat_val}\")\n",
    "    print(\"\\n\")\n",
    "    print(f\"y_pred:\\n {yhat_pct}\")\n",
    "    from sklearn import metrics\n",
    "    from sklearn.metrics import accuracy_score\n",
    "    acc = accuracy_score(y_true, y_pred)\n",
    "    print('\\nAccuracy Score:', acc)\n",
    "\n",
    "    from sklearn.metrics import confusion_matrix\n",
    "\n",
    "    cm = confusion_matrix(y_true, y_pred, labels=[0,1])\n",
    "    print(\"\\nConfusion Matrix\")\n",
    "    display(cm)"
   ]
  },
  {
   "cell_type": "markdown",
   "metadata": {},
   "source": [
    "## Evaluate (M1)\n",
    "\n",
    "Let's assess the model thus far before tuning parameters. We'll create a few helper functions for calculating metrics and analyzing results visually. "
   ]
  },
  {
   "cell_type": "markdown",
   "metadata": {},
   "source": [
    "### Scores"
   ]
  },
  {
   "cell_type": "code",
   "execution_count": 334,
   "metadata": {
    "ExecuteTime": {
     "end_time": "2020-04-14T13:42:10.183197Z",
     "start_time": "2020-04-14T13:42:09.681199Z"
    }
   },
   "outputs": [
    {
     "name": "stdout",
     "output_type": "stream",
     "text": [
      "y_hat_vals:\n",
      " 0    497\n",
      "1     73\n",
      "dtype: int64\n",
      "\n",
      "\n",
      "y_pred:\n",
      " 0    87.192982\n",
      "1    12.807018\n",
      "dtype: float64\n",
      "\n",
      "Accuracy Score: 0.8736842105263158\n",
      "\n",
      "Confusion Matrix\n"
     ]
    },
    {
     "data": {
      "text/plain": [
       "array([[495,  70],\n",
       "       [  2,   3]])"
      ]
     },
     "metadata": {},
     "output_type": "display_data"
    }
   ],
   "source": [
    "get_preds(x_test,y_test,history=None)"
   ]
  },
  {
   "cell_type": "markdown",
   "metadata": {},
   "source": [
    "### Interpret Scores\n",
    "Not the most promising results. These scores are abysmal, however we are simply working with a baseline and the numbers should (hopefully) improve with some simply tuning of the hyperparameters, specifically with our learning rate and the number of epochs. "
   ]
  },
  {
   "cell_type": "markdown",
   "metadata": {},
   "source": [
    "While 79% is far from optimal, we have to look at some other metrics such as recall and F1 to make a true assessment of the model's accuracy. These other metrics are especially important when working with highly imbalanced classes."
   ]
  },
  {
   "cell_type": "markdown",
   "metadata": {},
   "source": [
    "### Classification Report\n",
    "\n",
    "Sci-kit learn has a nice built-in method for evaluating our model:"
   ]
  },
  {
   "cell_type": "code",
   "execution_count": 325,
   "metadata": {
    "ExecuteTime": {
     "end_time": "2020-04-14T13:35:47.054160Z",
     "start_time": "2020-04-14T13:35:47.043513Z"
    }
   },
   "outputs": [
    {
     "name": "stdout",
     "output_type": "stream",
     "text": [
      "              precision    recall  f1-score   support\n",
      "\n",
      "         0.0       0.99      0.80      0.89       565\n",
      "         1.0       0.00      0.00      0.00         5\n",
      "\n",
      "    accuracy                           0.80       570\n",
      "   macro avg       0.49      0.40      0.44       570\n",
      "weighted avg       0.98      0.80      0.88       570\n",
      "\n"
     ]
    }
   ],
   "source": [
    "from sklearn import metrics\n",
    "from sklearn.metrics import roc_curve, roc_auc_score, accuracy_score, jaccard_score, f1_score, recall_score\n",
    "\n",
    "report = metrics.classification_report(y_test,y_hat_test)\n",
    "print(report)"
   ]
  },
  {
   "cell_type": "markdown",
   "metadata": {},
   "source": [
    "## History Metrics\n",
    "\n",
    "The baseline model is not meant to give us optimal results - the real test will be in our final model below. First let's take a look at some of the visuals to understand what the scores really mean. This will help us decide how to proceed in tuning the model appropriately."
   ]
  },
  {
   "cell_type": "code",
   "execution_count": 71,
   "metadata": {
    "ExecuteTime": {
     "end_time": "2020-04-14T10:34:33.640331Z",
     "start_time": "2020-04-14T10:34:33.628361Z"
    }
   },
   "outputs": [],
   "source": [
    "def plot_keras_history(history,figsize=(10,4),subplot_kws={}):\n",
    "    if hasattr(history,'history'):\n",
    "        history=history.history\n",
    "    figsize=(10,4)\n",
    "    subplot_kws={}\n",
    "\n",
    "    acc_keys = list(filter(lambda x: 'acc' in x,history.keys()))\n",
    "    loss_keys = list(filter(lambda x: 'loss' in x,history.keys()))\n",
    "\n",
    "    fig,axes=plt.subplots(ncols=2,figsize=figsize,**subplot_kws)\n",
    "    axes = axes.flatten()\n",
    "\n",
    "    y_labels= ['Accuracy','Loss']\n",
    "    for a, metric in enumerate([acc_keys,loss_keys]):\n",
    "        for i in range(len(metric)):\n",
    "            ax = pd.Series(history[metric[i]],\n",
    "                        name=metric[i]).plot(ax=axes[a],label=metric[i])\n",
    "    [ax.legend() for ax in axes]\n",
    "    [ax.xaxis.set_major_locator(mpl.ticker.MaxNLocator(integer=True)) for ax in axes]\n",
    "    [ax.set(xlabel='Epochs') for ax in axes]\n",
    "    plt.suptitle('Model Training Results',y=1.01)\n",
    "    plt.tight_layout()\n",
    "    plt.show()"
   ]
  },
  {
   "cell_type": "code",
   "execution_count": 72,
   "metadata": {
    "ExecuteTime": {
     "end_time": "2020-04-14T10:34:36.052152Z",
     "start_time": "2020-04-14T10:34:35.417375Z"
    }
   },
   "outputs": [
    {
     "data": {
      "image/png": "[encoded data removed]",
      "text/plain": [
       "<Figure size 720x288 with 2 Axes>"
      ]
     },
     "metadata": {
      "needs_background": "light"
     },
     "output_type": "display_data"
    }
   ],
   "source": [
    "# plot convergence\n",
    "plot_keras_history(h1)"
   ]
  },
  {
   "cell_type": "markdown",
   "metadata": {},
   "source": [
    "With only a few epochs, and a small learning rate, it's obvious that our training parameters has room for improvement. This is good - we will definitely need to adjust the learning rate. If that doesn't go far enough in producing desired results, we can also try using a different optimizer such as SGD instead of Adam. For now let's lok at what the predictions actually were in plain terms."
   ]
  },
  {
   "cell_type": "markdown",
   "metadata": {},
   "source": [
    "## Confusion Matrix"
   ]
  },
  {
   "cell_type": "code",
   "execution_count": 326,
   "metadata": {
    "ExecuteTime": {
     "end_time": "2020-04-14T13:36:23.754638Z",
     "start_time": "2020-04-14T13:36:23.747453Z"
    }
   },
   "outputs": [
    {
     "data": {
      "text/plain": [
       "array([[495,  70],\n",
       "       [  2,   3]])"
      ]
     },
     "execution_count": 326,
     "metadata": {},
     "output_type": "execute_result"
    }
   ],
   "source": [
    "# generate a confusion matrix\n",
    "from sklearn.metrics import confusion_matrix\n",
    "\n",
    "cm = confusion_matrix(y_true, y_pred, labels=[0,1])\n",
    "cm"
   ]
  },
  {
   "cell_type": "markdown",
   "metadata": {},
   "source": [
    "As always, it is much easier to interpret these numbers in a plot! Better yet, build a function for the plot for reuse later on:"
   ]
  },
  {
   "cell_type": "code",
   "execution_count": 74,
   "metadata": {
    "ExecuteTime": {
     "end_time": "2020-04-14T10:34:44.803318Z",
     "start_time": "2020-04-14T10:34:44.788502Z"
    }
   },
   "outputs": [],
   "source": [
    "# PLOT Confusion Matrices\n",
    "\n",
    "def plot_confusion_matrix(cm, classes=None,\n",
    "                          normalize=False,\n",
    "                          title='Confusion matrix',cmap=plt.cm.Blues):\n",
    "    \n",
    "    import itertools\n",
    "    # Check if normalize is set to True\n",
    "    # If so, normalize the raw confusion matrix before visualizing\n",
    "    if normalize:\n",
    "        cm = cm.astype('float') / cm.sum(axis=1)[:, np.newaxis]\n",
    "        print(\"Normalized confusion matrix\")\n",
    "    else:\n",
    "        print('Confusion matrix, without normalization')\n",
    "\n",
    "\n",
    "    \n",
    "    fig, ax = plt.subplots(figsize=(10,10))\n",
    "    #mask = np.zeros_like(cm, dtype=np.bool)\n",
    "    #idx = np.triu_indices_from(mask)\n",
    "    \n",
    "    #mask[idx] = True\n",
    "\n",
    "    plt.imshow(cm, cmap=cmap, aspect='equal')\n",
    "    \n",
    "    # Add title and axis labels \n",
    "    plt.title('Confusion Matrix') \n",
    "    plt.ylabel('True label') \n",
    "    plt.xlabel('Predicted label')\n",
    "    \n",
    "    # Add appropriate axis scales\n",
    "    tick_marks = np.arange(len(classes))\n",
    "    plt.xticks(tick_marks, classes, rotation=45)\n",
    "    plt.yticks(tick_marks, classes)\n",
    "    #ax.set_ylim(len(cm), -.5,.5)\n",
    "    \n",
    "    # Text formatting\n",
    "    fmt = '.2f' if normalize else 'd'\n",
    "    # Add labels to each cell\n",
    "    thresh = cm.max() / 2.\n",
    "    # iterate thru matrix and append labels  \n",
    "    for i, j in itertools.product(range(cm.shape[0]), range(cm.shape[1])):\n",
    "        plt.text(j, i, format(cm[i, j], fmt),\n",
    "                 horizontalalignment='center',\n",
    "                 color='darkgray' if cm[i, j] > thresh else 'black',\n",
    "                size=14, weight='bold')\n",
    "    \n",
    "    # Add a legend\n",
    "    plt.colorbar()\n",
    "    plt.show() "
   ]
  },
  {
   "cell_type": "code",
   "execution_count": 75,
   "metadata": {
    "ExecuteTime": {
     "end_time": "2020-04-14T10:34:47.082311Z",
     "start_time": "2020-04-14T10:34:46.804122Z"
    }
   },
   "outputs": [
    {
     "name": "stdout",
     "output_type": "stream",
     "text": [
      "Normalized confusion matrix\n"
     ]
    },
    {
     "data": {
      "image/png": "[encoded data removed]",
      "text/plain": [
       "<Figure size 720x720 with 2 Axes>"
      ]
     },
     "metadata": {
      "needs_background": "light"
     },
     "output_type": "display_data"
    }
   ],
   "source": [
    "# Plot normalized confusion matrix\n",
    "conf1a = plot_confusion_matrix(cm, classes=['No Planet', 'Planet'], normalize=True,\n",
    "                      title='Normalized confusion matrix')\n",
    "conf1a"
   ]
  },
  {
   "cell_type": "code",
   "execution_count": 76,
   "metadata": {
    "ExecuteTime": {
     "end_time": "2020-04-14T10:34:49.232562Z",
     "start_time": "2020-04-14T10:34:48.953767Z"
    }
   },
   "outputs": [
    {
     "name": "stdout",
     "output_type": "stream",
     "text": [
      "Confusion matrix, without normalization\n"
     ]
    },
    {
     "data": {
      "image/png": "[encoded data removed]",
      "text/plain": [
       "<Figure size 720x720 with 2 Axes>"
      ]
     },
     "metadata": {
      "needs_background": "light"
     },
     "output_type": "display_data"
    }
   ],
   "source": [
    "# Plot NON normalized confusion matrix\n",
    "conf1b = plot_confusion_matrix(cm, classes=['No Planet', 'Planet'], normalize=False,\n",
    "                      title='Normalized confusion matrix')\n",
    "conf1b"
   ]
  },
  {
   "cell_type": "markdown",
   "metadata": {},
   "source": [
    "There it is. Our baseline model missed ALL FIVE planets in the test set! It predicted 111 planets in the training set, when we know there were only 37. This is what 80% accuracy gives us. Note the recall score above was 0 - this (as well as F1 and Jaccard, both of which include recall in their calculations) are critical scores for assessing the model. "
   ]
  },
  {
   "cell_type": "markdown",
   "metadata": {},
   "source": [
    "## ROC AUC\n",
    "\n",
    "Plot the ROC area under the curve"
   ]
  },
  {
   "cell_type": "code",
   "execution_count": 317,
   "metadata": {
    "ExecuteTime": {
     "end_time": "2020-04-14T13:31:02.487557Z",
     "start_time": "2020-04-14T13:31:02.477575Z"
    }
   },
   "outputs": [],
   "source": [
    "def roc_plots(y_test, y_hat):\n",
    "    from sklearn import metrics\n",
    "    from sklearn.metrics import roc_curve, roc_auc_score, accuracy_score\n",
    "    y_true = (y_test[:, 0] + 0.5).astype(\"int\")   \n",
    "    fpr, tpr, thresholds = roc_curve(y_true, y_hat) \n",
    "    fpr, tpr, thresholds = roc_curve(y_true, y_hat)\n",
    "\n",
    "    # Threshold Cutoff for predictions\n",
    "    crossover_index = np.min(np.where(1.-fpr <= tpr))\n",
    "    crossover_cutoff = thresholds[crossover_index]\n",
    "    crossover_specificity = 1.-fpr[crossover_index]\n",
    "    #print(\"Crossover at {0:.2f} with specificity {1:.2f}\".format(crossover_cutoff, crossover_specificity))\n",
    "    \n",
    "    plt.plot(thresholds, 1.-fpr)\n",
    "    plt.plot(thresholds, tpr)\n",
    "    plt.title(\"Crossover at {0:.2f} with specificity {1:.2f}\".format(crossover_cutoff, crossover_specificity))\n",
    "\n",
    "    plt.show()\n",
    "\n",
    "\n",
    "    plt.plot(fpr, tpr)\n",
    "    plt.title(\"ROC area under curve is {0:.2f}\".format(roc_auc_score(y_true, y_hat)))\n",
    "    plt.show()\n",
    "    \n",
    "    score = roc_auc_score(y_true,y_hat)\n",
    "    print(\"ROC_AUC SCORE:\",score)\n",
    "    #print(\"ROC area under curve is {0:.2f}\".format(roc_auc_score(y_true, y_hat)))"
   ]
  },
  {
   "cell_type": "code",
   "execution_count": 318,
   "metadata": {
    "ExecuteTime": {
     "end_time": "2020-04-14T13:31:05.183538Z",
     "start_time": "2020-04-14T13:31:04.436756Z"
    }
   },
   "outputs": [
    {
     "data": {
      "image/png": "[encoded data removed]",
      "text/plain": [
       "<Figure size 432x288 with 1 Axes>"
      ]
     },
     "metadata": {
      "needs_background": "light"
     },
     "output_type": "display_data"
    },
    {
     "data": {
      "image/png": "[encoded data removed]",
      "text/plain": [
       "<Figure size 432x288 with 1 Axes>"
      ]
     },
     "metadata": {
      "needs_background": "light"
     },
     "output_type": "display_data"
    },
    {
     "name": "stdout",
     "output_type": "stream",
     "text": [
      "ROC_AUC SCORE: 0.9391150442477877\n"
     ]
    }
   ],
   "source": [
    "# This \n",
    "roc_plots(y_test, y_hat)"
   ]
  },
  {
   "cell_type": "markdown",
   "metadata": {},
   "source": [
    "# `Model 2`\n",
    "\n",
    "Revising the function for training the model and tuning just two parameters: adjust learning rate to 4e-3, and increase epochs to 40. "
   ]
  },
  {
   "cell_type": "markdown",
   "metadata": {},
   "source": [
    "## Tuning Parameters\n",
    "\n",
    "This time we will create dictionaries for plugging in parameters to the model. We could do a grid search, or more likely, a randomsearch from sklearn to find the optimal parameters, but for now let's finish building the function to take in the parameter dictionaries with an adjusted learning rate."
   ]
  },
  {
   "cell_type": "code",
   "execution_count": 204,
   "metadata": {
    "ExecuteTime": {
     "end_time": "2020-04-14T12:01:49.619233Z",
     "start_time": "2020-04-14T12:01:49.166590Z"
    }
   },
   "outputs": [],
   "source": [
    "# set our build function to use the baseline model we built initially\n",
    "keras_train = keras_1D(model=Sequential(), kernel_size=11, activation='relu', \n",
    "                           input_shape=x_train.shape[1:], strides=4)"
   ]
  },
  {
   "cell_type": "code",
   "execution_count": 338,
   "metadata": {
    "ExecuteTime": {
     "end_time": "2020-04-14T13:58:26.462654Z",
     "start_time": "2020-04-14T13:58:26.447656Z"
    }
   },
   "outputs": [],
   "source": [
    "# create params dict for compiling model\n",
    "# adjust learning rate to 4e-3\n",
    "\n",
    "compiler = dict(optimizer=Adam,\n",
    "                learning_rate=4e-3,\n",
    "                loss='binary_crossentropy',\n",
    "                metrics=['accuracy'])\n",
    "\n",
    "# create dict for fit_generator parameters\n",
    "# increase verbose to 2 and number of epochs to 40\n",
    "\n",
    "params = dict(validation_data = (x_test, y_test), \n",
    "              verbose=2, \n",
    "              epochs=40, \n",
    "              steps_per_epoch=(x_train.shape[1]//32))"
   ]
  },
  {
   "cell_type": "markdown",
   "metadata": {},
   "source": [
    "## Compile/Fit (M2)"
   ]
  },
  {
   "cell_type": "code",
   "execution_count": 205,
   "metadata": {
    "ExecuteTime": {
     "end_time": "2020-04-14T12:06:45.038958Z",
     "start_time": "2020-04-14T12:01:51.486035Z"
    }
   },
   "outputs": [
    {
     "name": "stdout",
     "output_type": "stream",
     "text": [
      "Epoch 1/40\n",
      " - 9s - loss: 0.5702 - accuracy: 0.7128 - val_loss: 0.4382 - val_accuracy: 0.8140\n",
      "Epoch 2/40\n",
      " - 7s - loss: 0.3590 - accuracy: 0.8557 - val_loss: 0.5047 - val_accuracy: 0.7526\n",
      "Epoch 3/40\n",
      " - 7s - loss: 0.2023 - accuracy: 0.9201 - val_loss: 0.1275 - val_accuracy: 0.9719\n",
      "Epoch 4/40\n",
      " - 7s - loss: 0.1191 - accuracy: 0.9571 - val_loss: 0.0478 - val_accuracy: 0.9912\n",
      "Epoch 5/40\n",
      " - 7s - loss: 0.0846 - accuracy: 0.9656 - val_loss: 0.0922 - val_accuracy: 0.9825\n",
      "Epoch 6/40\n",
      " - 8s - loss: 0.0742 - accuracy: 0.9751 - val_loss: 0.1155 - val_accuracy: 0.9667\n",
      "Epoch 7/40\n",
      " - 7s - loss: 0.0653 - accuracy: 0.9760 - val_loss: 0.0900 - val_accuracy: 0.9737\n",
      "Epoch 8/40\n",
      " - 7s - loss: 0.0647 - accuracy: 0.9814 - val_loss: 0.1154 - val_accuracy: 0.9509\n",
      "Epoch 9/40\n",
      " - 7s - loss: 0.0513 - accuracy: 0.9826 - val_loss: 0.0499 - val_accuracy: 0.9912\n",
      "Epoch 10/40\n",
      " - 7s - loss: 0.0608 - accuracy: 0.9842 - val_loss: 0.0459 - val_accuracy: 0.9877\n",
      "Epoch 11/40\n",
      " - 8s - loss: 0.0418 - accuracy: 0.9845 - val_loss: 0.0550 - val_accuracy: 0.9860\n",
      "Epoch 12/40\n",
      " - 7s - loss: 0.0500 - accuracy: 0.9855 - val_loss: 0.0250 - val_accuracy: 0.9930\n",
      "Epoch 13/40\n",
      " - 7s - loss: 0.0636 - accuracy: 0.9792 - val_loss: 0.0443 - val_accuracy: 0.9912\n",
      "Epoch 14/40\n",
      " - 7s - loss: 0.0459 - accuracy: 0.9867 - val_loss: 0.0078 - val_accuracy: 0.9965\n",
      "Epoch 15/40\n",
      " - 7s - loss: 0.0415 - accuracy: 0.9871 - val_loss: 0.0490 - val_accuracy: 0.9877\n",
      "Epoch 16/40\n",
      " - 8s - loss: 0.0452 - accuracy: 0.9858 - val_loss: 0.0482 - val_accuracy: 0.9912\n",
      "Epoch 17/40\n",
      " - 7s - loss: 0.0399 - accuracy: 0.9867 - val_loss: 0.0490 - val_accuracy: 0.9895\n",
      "Epoch 18/40\n",
      " - 7s - loss: 0.0368 - accuracy: 0.9896 - val_loss: 0.0353 - val_accuracy: 0.9947\n",
      "Epoch 19/40\n",
      " - 7s - loss: 0.0396 - accuracy: 0.9877 - val_loss: 0.0499 - val_accuracy: 0.9895\n",
      "Epoch 20/40\n",
      " - 7s - loss: 0.0470 - accuracy: 0.9817 - val_loss: 0.0455 - val_accuracy: 0.9877\n",
      "Epoch 21/40\n",
      " - 7s - loss: 0.0317 - accuracy: 0.9896 - val_loss: 0.0860 - val_accuracy: 0.9842\n",
      "Epoch 22/40\n",
      " - 7s - loss: 0.0414 - accuracy: 0.9890 - val_loss: 9.1555e-04 - val_accuracy: 1.0000\n",
      "Epoch 23/40\n",
      " - 7s - loss: 0.0267 - accuracy: 0.9899 - val_loss: 0.0019 - val_accuracy: 1.0000\n",
      "Epoch 24/40\n",
      " - 7s - loss: 0.0311 - accuracy: 0.9915 - val_loss: 0.0232 - val_accuracy: 0.9965\n",
      "Epoch 25/40\n",
      " - 7s - loss: 0.0256 - accuracy: 0.9934 - val_loss: 0.0389 - val_accuracy: 0.9895\n",
      "Epoch 26/40\n",
      " - 7s - loss: 0.0455 - accuracy: 0.9890 - val_loss: 0.0412 - val_accuracy: 0.9947\n",
      "Epoch 27/40\n",
      " - 8s - loss: 0.0361 - accuracy: 0.9896 - val_loss: 0.0523 - val_accuracy: 0.9807\n",
      "Epoch 28/40\n",
      " - 8s - loss: 0.0349 - accuracy: 0.9905 - val_loss: 0.0392 - val_accuracy: 0.9895\n",
      "Epoch 29/40\n",
      " - 8s - loss: 0.0267 - accuracy: 0.9899 - val_loss: 0.0340 - val_accuracy: 0.9947\n",
      "Epoch 30/40\n",
      " - 7s - loss: 0.0490 - accuracy: 0.9874 - val_loss: 0.0407 - val_accuracy: 0.9895\n",
      "Epoch 31/40\n",
      " - 7s - loss: 0.0194 - accuracy: 0.9946 - val_loss: 0.0354 - val_accuracy: 0.9965\n",
      "Epoch 32/40\n",
      " - 7s - loss: 0.0315 - accuracy: 0.9883 - val_loss: 0.0368 - val_accuracy: 0.9965\n",
      "Epoch 33/40\n",
      " - 7s - loss: 0.0244 - accuracy: 0.9934 - val_loss: 0.0494 - val_accuracy: 0.9930\n",
      "Epoch 34/40\n",
      " - 7s - loss: 0.0330 - accuracy: 0.9912 - val_loss: 0.0322 - val_accuracy: 0.9965\n",
      "Epoch 35/40\n",
      " - 7s - loss: 0.0326 - accuracy: 0.9883 - val_loss: 0.0143 - val_accuracy: 0.9982\n",
      "Epoch 36/40\n",
      " - 7s - loss: 0.0332 - accuracy: 0.9886 - val_loss: 0.0198 - val_accuracy: 0.9982\n",
      "Epoch 37/40\n",
      " - 7s - loss: 0.0357 - accuracy: 0.9883 - val_loss: 0.0056 - val_accuracy: 0.9982\n",
      "Epoch 38/40\n",
      " - 7s - loss: 0.0357 - accuracy: 0.9877 - val_loss: 0.0449 - val_accuracy: 0.9912\n",
      "Epoch 39/40\n",
      " - 7s - loss: 0.0280 - accuracy: 0.9924 - val_loss: 0.1658 - val_accuracy: 0.9404\n",
      "Epoch 40/40\n",
      " - 7s - loss: 0.0291 - accuracy: 0.9883 - val_loss: 0.0515 - val_accuracy: 0.9912\n"
     ]
    }
   ],
   "source": [
    "# MODEL 2\n",
    "# using the baseline model as our build model function\n",
    "\n",
    "m2, h2 = scikit_keras(build_fn=keras_train, compiler=compiler, params=params)"
   ]
  },
  {
   "cell_type": "markdown",
   "metadata": {},
   "source": [
    "## Summary (M2)"
   ]
  },
  {
   "cell_type": "code",
   "execution_count": 211,
   "metadata": {
    "ExecuteTime": {
     "end_time": "2020-04-14T12:17:41.288694Z",
     "start_time": "2020-04-14T12:17:41.277671Z"
    }
   },
   "outputs": [
    {
     "name": "stdout",
     "output_type": "stream",
     "text": [
      "Model: \"sequential_2\"\n",
      "_________________________________________________________________\n",
      "Layer (type)                 Output Shape              Param #   \n",
      "=================================================================\n",
      "conv1d_1 (Conv1D)            (None, 3187, 8)           184       \n",
      "_________________________________________________________________\n",
      "max_pooling1d_1 (MaxPooling1 (None, 797, 8)            0         \n",
      "_________________________________________________________________\n",
      "batch_normalization_1 (Batch (None, 797, 8)            32        \n",
      "_________________________________________________________________\n",
      "conv1d_2 (Conv1D)            (None, 787, 16)           1424      \n",
      "_________________________________________________________________\n",
      "max_pooling1d_2 (MaxPooling1 (None, 197, 16)           0         \n",
      "_________________________________________________________________\n",
      "batch_normalization_2 (Batch (None, 197, 16)           64        \n",
      "_________________________________________________________________\n",
      "conv1d_3 (Conv1D)            (None, 187, 32)           5664      \n",
      "_________________________________________________________________\n",
      "max_pooling1d_3 (MaxPooling1 (None, 47, 32)            0         \n",
      "_________________________________________________________________\n",
      "batch_normalization_3 (Batch (None, 47, 32)            128       \n",
      "_________________________________________________________________\n",
      "conv1d_4 (Conv1D)            (None, 37, 64)            22592     \n",
      "_________________________________________________________________\n",
      "max_pooling1d_4 (MaxPooling1 (None, 9, 64)             0         \n",
      "_________________________________________________________________\n",
      "flatten_1 (Flatten)          (None, 576)               0         \n",
      "_________________________________________________________________\n",
      "dropout_1 (Dropout)          (None, 576)               0         \n",
      "_________________________________________________________________\n",
      "dense_1 (Dense)              (None, 64)                36928     \n",
      "_________________________________________________________________\n",
      "dropout_2 (Dropout)          (None, 64)                0         \n",
      "_________________________________________________________________\n",
      "dense_2 (Dense)              (None, 64)                4160      \n",
      "_________________________________________________________________\n",
      "dense_3 (Dense)              (None, 1)                 65        \n",
      "=================================================================\n",
      "Total params: 71,241\n",
      "Trainable params: 71,129\n",
      "Non-trainable params: 112\n",
      "_________________________________________________________________\n"
     ]
    }
   ],
   "source": [
    "model.summary()"
   ]
  },
  {
   "cell_type": "markdown",
   "metadata": {},
   "source": [
    "## Class Predictions\n",
    "\n",
    "We then use our trained neural network to classify the test set:"
   ]
  },
  {
   "cell_type": "code",
   "execution_count": 238,
   "metadata": {
    "ExecuteTime": {
     "end_time": "2020-04-14T12:29:12.837668Z",
     "start_time": "2020-04-14T12:29:12.560084Z"
    }
   },
   "outputs": [],
   "source": [
    "y_pred = model.predict_classes(x_test).flatten()"
   ]
  },
  {
   "cell_type": "code",
   "execution_count": 239,
   "metadata": {
    "ExecuteTime": {
     "end_time": "2020-04-14T12:29:14.581310Z",
     "start_time": "2020-04-14T12:29:14.574179Z"
    }
   },
   "outputs": [
    {
     "data": {
      "text/plain": [
       "array([0, 1, 0, 1, 1, 0, 0, 0, 0, 0, 0, 0, 0, 1, 0, 0, 0, 0, 0, 0, 0, 1,\n",
       "       0, 1, 0, 0, 0, 1, 0, 0, 0, 0, 0, 0, 0, 0, 0, 0, 0, 1, 0, 0, 1, 0,\n",
       "       0, 0, 0, 0, 0, 0, 0, 0, 0, 0, 1, 0, 0, 0, 0, 0, 0, 1, 0, 1, 0, 0,\n",
       "       0, 0, 0, 0, 0, 0, 0, 0, 0, 0, 0, 0, 0, 0, 0, 0, 0, 0, 1, 1, 0, 1,\n",
       "       0, 1, 0, 0, 0, 0, 0, 0, 0, 0, 0, 0, 0, 0, 0, 0, 1, 0, 0, 0, 0, 1,\n",
       "       0, 0, 0, 0, 0, 0, 0, 1, 0, 0, 1, 0, 0, 0, 0, 0, 0, 0, 0, 0, 0, 1,\n",
       "       0, 0, 0, 0, 1, 1, 0, 0, 0, 1, 0, 0, 0, 0, 0, 0, 1, 0, 0, 0, 0, 0,\n",
       "       0, 0, 0, 0, 0, 1, 0, 0, 0, 0, 1, 0, 0, 0, 0, 0, 0, 0, 0, 0, 0, 0,\n",
       "       0, 0, 0, 0, 0, 0, 0, 1, 0, 1, 0, 0, 0, 0, 0, 0, 0, 0, 0, 0, 0, 0,\n",
       "       0, 0, 0, 1, 0, 0, 0, 0, 0, 0, 0, 0, 0, 0, 0, 0, 0, 0, 0, 0, 0, 0,\n",
       "       1, 0, 0, 0, 0, 1, 0, 0, 0, 1, 1, 0, 0, 0, 0, 0, 0, 0, 0, 0, 0, 0,\n",
       "       0, 0, 0, 0, 1, 1, 0, 0, 0, 0, 0, 0, 0, 0, 0, 0, 1, 0, 0, 0, 0, 1,\n",
       "       0, 0, 0, 0, 0, 0, 0, 0, 0, 0, 0, 0, 0, 0, 1, 1, 0, 0, 0, 0, 0, 1,\n",
       "       0, 0, 0, 0, 0, 0, 0, 0, 1, 0, 0, 0, 0, 0, 0, 0, 0, 0, 1, 0, 0, 0,\n",
       "       0, 0, 1, 0, 0, 0, 0, 0, 0, 0, 0, 0, 0, 0, 0, 0, 0, 0, 0, 0, 0, 0,\n",
       "       0, 0, 0, 0, 0, 0, 0, 0, 0, 1, 0, 0, 0, 0, 0, 0, 0, 0, 0, 1, 0, 0,\n",
       "       1, 0, 0, 0, 0, 0, 0, 0, 1, 0, 0, 1, 0, 0, 1, 0, 0, 0, 0, 0, 1, 0,\n",
       "       0, 0, 0, 0, 0, 0, 0, 0, 0, 0, 0, 0, 1, 0, 0, 0, 0, 0, 0, 0, 0, 0,\n",
       "       0, 0, 0, 0, 1, 0, 1, 0, 0, 0, 0, 0, 0, 0, 0, 0, 0, 0, 0, 1, 0, 1,\n",
       "       0, 0, 0, 1, 0, 0, 0, 0, 0, 0, 0, 0, 0, 0, 0, 0, 0, 0, 1, 0, 0, 0,\n",
       "       0, 0, 0, 0, 0, 0, 0, 0, 0, 0, 0, 0, 0, 0, 0, 0, 0, 0, 0, 0, 1, 0,\n",
       "       0, 0, 1, 0, 0, 0, 0, 0, 0, 0, 0, 0, 0, 0, 0, 0, 0, 0, 0, 0, 0, 0,\n",
       "       0, 1, 0, 1, 1, 0, 0, 0, 0, 0, 0, 0, 1, 0, 1, 0, 0, 0, 0, 0, 0, 0,\n",
       "       1, 0, 0, 1, 0, 0, 0, 0, 0, 0, 0, 0, 0, 0, 0, 0, 0, 0, 0, 0, 0, 1,\n",
       "       0, 0, 0, 0, 0, 0, 0, 1, 0, 0, 0, 0, 0, 0, 0, 0, 0, 1, 0, 0, 0, 1,\n",
       "       0, 0, 0, 0, 0, 0, 0, 0, 0, 0, 0, 0, 0, 0, 1, 1, 0, 0, 0, 0],\n",
       "      dtype=int32)"
      ]
     },
     "execution_count": 239,
     "metadata": {},
     "output_type": "execute_result"
    }
   ],
   "source": [
    "y_pred"
   ]
  },
  {
   "cell_type": "markdown",
   "metadata": {},
   "source": [
    "## Validation\n",
    "\n",
    "Evaluate our model using the same helper functions as before, this time embedded into one single function to handle all the work."
   ]
  },
  {
   "cell_type": "code",
   "execution_count": 236,
   "metadata": {
    "ExecuteTime": {
     "end_time": "2020-04-14T12:28:49.115776Z",
     "start_time": "2020-04-14T12:28:49.106368Z"
    }
   },
   "outputs": [
    {
     "data": {
      "text/plain": [
       "array([[495,  70],\n",
       "       [  2,   3]])"
      ]
     },
     "execution_count": 236,
     "metadata": {},
     "output_type": "execute_result"
    }
   ],
   "source": [
    "cm = confusion_matrix(y_test, y_pred, labels=[0,1])\n",
    "cm"
   ]
  },
  {
   "cell_type": "code",
   "execution_count": 244,
   "metadata": {
    "ExecuteTime": {
     "end_time": "2020-04-14T12:31:42.084313Z",
     "start_time": "2020-04-14T12:31:42.072747Z"
    }
   },
   "outputs": [],
   "source": [
    "def evaluate_model(x_test, y_test, history=None):\n",
    "    \n",
    "    # make predictons using test set\n",
    "    y_true = (y_test[:, 0] + 0.5).astype(\"int\") # flatten and make integer\n",
    "    y_hat = model.predict(x_test)[:,0] \n",
    "    y_pred = model.predict_classes(x_test).flatten() # class predictions \n",
    "    \n",
    "    \n",
    "    #Plot Model Training Results (PLOT KERAS HISTORY)\n",
    "    from sklearn import metrics\n",
    "    if y_true.ndim>1:\n",
    "        y_true = y_true.argmax(axis=1)\n",
    "    if y_pred.ndim>1:\n",
    "        y_pred = y_pred.argmax(axis=1)   \n",
    "    try:    \n",
    "        if history is not None:\n",
    "            plot_keras_history(history)\n",
    "    except:\n",
    "        pass\n",
    "    \n",
    "    # Print CLASSIFICATION REPORT\n",
    "    num_dashes=20\n",
    "    print('\\n')\n",
    "    print('---'*num_dashes)\n",
    "    print('\\tCLASSIFICATION REPORT:')\n",
    "    print('---'*num_dashes)\n",
    "#     try:\n",
    "#         print(metrics.classification_report(y_true,y_pred))\n",
    "         #fig = plot_confusion_matrix((y_true,y_pred))\n",
    "#     except Exception as e:\n",
    "#         print(f\"[!] Error during model evaluation:\\n\\t{e}\")\n",
    "\n",
    "    from sklearn import metrics\n",
    "    report = metrics.classification_report(y_true,y_pred)\n",
    "    print(report)\n",
    "    \n",
    "    # Adding additional metrics not in sklearn's report   \n",
    "    from sklearn.metrics import jaccard_score\n",
    "    jaccard = jaccard_score(y_test, y_hat_test)\n",
    "    print('Jaccard Similarity Score:',jaccard)\n",
    "    \n",
    "    \n",
    "    # CONFUSION MATRIX\n",
    "    from sklearn.metrics import confusion_matrix\n",
    "    cm = confusion_matrix(y_true, y_pred, labels=[0,1])\n",
    "    # Plot normalized confusion matrix\n",
    "    fig = plot_confusion_matrix(cm, classes=['No Planet', 'Planet'], \n",
    "                                normalize=False,                               \n",
    "                                title='Normalized confusion matrix')\n",
    "    plt.show()\n",
    "\n",
    "    \n",
    "    # ROC Area Under Curve\n",
    "    roc_plots(y_test, y_hat_test)\n",
    "    "
   ]
  },
  {
   "cell_type": "code",
   "execution_count": 245,
   "metadata": {
    "ExecuteTime": {
     "end_time": "2020-04-14T12:31:46.392515Z",
     "start_time": "2020-04-14T12:31:43.990190Z"
    }
   },
   "outputs": [
    {
     "data": {
      "image/png": "[encoded data removed]",
      "text/plain": [
       "<Figure size 720x288 with 2 Axes>"
      ]
     },
     "metadata": {
      "needs_background": "light"
     },
     "output_type": "display_data"
    },
    {
     "name": "stdout",
     "output_type": "stream",
     "text": [
      "\n",
      "\n",
      "------------------------------------------------------------\n",
      "\tCLASSIFICATION REPORT:\n",
      "------------------------------------------------------------\n",
      "              precision    recall  f1-score   support\n",
      "\n",
      "           0       1.00      0.88      0.93       565\n",
      "           1       0.04      0.60      0.08         5\n",
      "\n",
      "    accuracy                           0.87       570\n",
      "   macro avg       0.52      0.74      0.50       570\n",
      "weighted avg       0.99      0.87      0.92       570\n",
      "\n",
      "Jaccard Similarity Score: 0.0\n",
      "Confusion matrix, without normalization\n"
     ]
    },
    {
     "data": {
      "image/png": "[encoded data removed]",
      "text/plain": [
       "<Figure size 720x720 with 2 Axes>"
      ]
     },
     "metadata": {
      "needs_background": "light"
     },
     "output_type": "display_data"
    },
    {
     "data": {
      "image/png": "[encoded data removed]",
      "text/plain": [
       "<Figure size 432x288 with 1 Axes>"
      ]
     },
     "metadata": {
      "needs_background": "light"
     },
     "output_type": "display_data"
    },
    {
     "data": {
      "image/png": "[encoded data removed]",
      "text/plain": [
       "<Figure size 432x288 with 1 Axes>"
      ]
     },
     "metadata": {
      "needs_background": "light"
     },
     "output_type": "display_data"
    }
   ],
   "source": [
    "evaluate_model(x_test, y_test, h2)"
   ]
  },
  {
   "cell_type": "markdown",
   "metadata": {},
   "source": [
    "# `MODEL 3`\n",
    "\n",
    "Another optimizer we can try is SGD instead of Adam - this may produce better outcomes. We will also adjust the learning rate."
   ]
  },
  {
   "cell_type": "code",
   "execution_count": 278,
   "metadata": {
    "ExecuteTime": {
     "end_time": "2020-04-14T12:51:41.896679Z",
     "start_time": "2020-04-14T12:51:41.893609Z"
    }
   },
   "outputs": [],
   "source": [
    "from keras.optimizers import SGD"
   ]
  },
  {
   "cell_type": "code",
   "execution_count": 294,
   "metadata": {
    "ExecuteTime": {
     "end_time": "2020-04-14T13:04:05.946216Z",
     "start_time": "2020-04-14T13:04:05.941310Z"
    }
   },
   "outputs": [],
   "source": [
    "# create params dict for compiling model\n",
    "# adjust learning rate to 4e-3\n",
    "\n",
    "compiler = dict(optimizer=SGD,\n",
    "                learning_rate=4e-2,\n",
    "                loss='binary_crossentropy',\n",
    "                metrics=['accuracy'])\n",
    "\n",
    "# create dict for fit_generator parameters\n",
    "# increase verbose to 2 and number of epochs to 40\n",
    "\n",
    "params = dict(validation_data = (x_test, y_test), \n",
    "              verbose=2, \n",
    "              epochs=40, \n",
    "              steps_per_epoch=(x_train.shape[1]//32))"
   ]
  },
  {
   "cell_type": "code",
   "execution_count": 295,
   "metadata": {
    "ExecuteTime": {
     "end_time": "2020-04-14T13:08:32.908728Z",
     "start_time": "2020-04-14T13:04:07.801812Z"
    }
   },
   "outputs": [
    {
     "name": "stdout",
     "output_type": "stream",
     "text": [
      "Epoch 1/40\n",
      " - 8s - loss: 0.0147 - accuracy: 0.9953 - val_loss: 0.0359 - val_accuracy: 0.9947\n",
      "Epoch 2/40\n",
      " - 7s - loss: 0.0176 - accuracy: 0.9940 - val_loss: 0.0107 - val_accuracy: 0.9947\n",
      "Epoch 3/40\n",
      " - 7s - loss: 0.0119 - accuracy: 0.9959 - val_loss: 0.0155 - val_accuracy: 0.9930\n",
      "Epoch 4/40\n",
      " - 6s - loss: 0.0151 - accuracy: 0.9956 - val_loss: 0.0088 - val_accuracy: 0.9982\n",
      "Epoch 5/40\n",
      " - 7s - loss: 0.0167 - accuracy: 0.9940 - val_loss: 0.0238 - val_accuracy: 0.9947\n",
      "Epoch 6/40\n",
      " - 7s - loss: 0.0079 - accuracy: 0.9975 - val_loss: 0.0309 - val_accuracy: 0.9947\n",
      "Epoch 7/40\n",
      " - 6s - loss: 0.0086 - accuracy: 0.9978 - val_loss: 0.0263 - val_accuracy: 0.9965\n",
      "Epoch 8/40\n",
      " - 6s - loss: 0.0128 - accuracy: 0.9965 - val_loss: 0.0238 - val_accuracy: 0.9965\n",
      "Epoch 9/40\n",
      " - 6s - loss: 0.0122 - accuracy: 0.9965 - val_loss: 0.0328 - val_accuracy: 0.9965\n",
      "Epoch 10/40\n",
      " - 6s - loss: 0.0214 - accuracy: 0.9937 - val_loss: 0.0223 - val_accuracy: 0.9965\n",
      "Epoch 11/40\n",
      " - 6s - loss: 0.0117 - accuracy: 0.9972 - val_loss: 0.0064 - val_accuracy: 0.9965\n",
      "Epoch 12/40\n",
      " - 6s - loss: 0.0165 - accuracy: 0.9946 - val_loss: 0.0318 - val_accuracy: 0.9965\n",
      "Epoch 13/40\n",
      " - 6s - loss: 0.0110 - accuracy: 0.9959 - val_loss: 0.0227 - val_accuracy: 0.9965\n",
      "Epoch 14/40\n",
      " - 7s - loss: 0.0078 - accuracy: 0.9978 - val_loss: 0.0254 - val_accuracy: 0.9947\n",
      "Epoch 15/40\n",
      " - 7s - loss: 0.0090 - accuracy: 0.9962 - val_loss: 0.0130 - val_accuracy: 0.9965\n",
      "Epoch 16/40\n",
      " - 6s - loss: 0.0121 - accuracy: 0.9975 - val_loss: 0.0173 - val_accuracy: 0.9982\n",
      "Epoch 17/40\n",
      " - 7s - loss: 0.0096 - accuracy: 0.9965 - val_loss: 0.0154 - val_accuracy: 0.9947\n",
      "Epoch 18/40\n",
      " - 7s - loss: 0.0106 - accuracy: 0.9946 - val_loss: 0.0180 - val_accuracy: 0.9965\n",
      "Epoch 19/40\n",
      " - 7s - loss: 0.0130 - accuracy: 0.9972 - val_loss: 0.0191 - val_accuracy: 0.9965\n",
      "Epoch 20/40\n",
      " - 7s - loss: 0.0082 - accuracy: 0.9959 - val_loss: 0.0136 - val_accuracy: 0.9982\n",
      "Epoch 21/40\n",
      " - 7s - loss: 0.0156 - accuracy: 0.9962 - val_loss: 0.0051 - val_accuracy: 0.9982\n",
      "Epoch 22/40\n",
      " - 6s - loss: 0.0148 - accuracy: 0.9965 - val_loss: 0.0170 - val_accuracy: 0.9965\n",
      "Epoch 23/40\n",
      " - 7s - loss: 0.0121 - accuracy: 0.9965 - val_loss: 0.0040 - val_accuracy: 0.9965\n",
      "Epoch 24/40\n",
      " - 6s - loss: 0.0178 - accuracy: 0.9949 - val_loss: 0.0092 - val_accuracy: 0.9965\n",
      "Epoch 25/40\n",
      " - 6s - loss: 0.0087 - accuracy: 0.9975 - val_loss: 0.0049 - val_accuracy: 0.9965\n",
      "Epoch 26/40\n",
      " - 6s - loss: 0.0174 - accuracy: 0.9949 - val_loss: 0.0042 - val_accuracy: 0.9982\n",
      "Epoch 27/40\n",
      " - 6s - loss: 0.0261 - accuracy: 0.9921 - val_loss: 5.3859e-04 - val_accuracy: 1.0000\n",
      "Epoch 28/40\n",
      " - 7s - loss: 0.2505 - accuracy: 0.9274 - val_loss: 0.0324 - val_accuracy: 0.9895\n",
      "Epoch 29/40\n",
      " - 6s - loss: 0.0894 - accuracy: 0.9763 - val_loss: 0.1456 - val_accuracy: 0.9228\n",
      "Epoch 30/40\n",
      " - 7s - loss: 0.0555 - accuracy: 0.9751 - val_loss: 0.0332 - val_accuracy: 0.9947\n",
      "Epoch 31/40\n",
      " - 6s - loss: 0.0234 - accuracy: 0.9912 - val_loss: 0.0369 - val_accuracy: 0.9912\n",
      "Epoch 32/40\n",
      " - 6s - loss: 0.0195 - accuracy: 0.9946 - val_loss: 0.0343 - val_accuracy: 0.9930\n",
      "Epoch 33/40\n",
      " - 7s - loss: 0.0199 - accuracy: 0.9956 - val_loss: 0.0609 - val_accuracy: 0.9772\n",
      "Epoch 34/40\n",
      " - 6s - loss: 0.0204 - accuracy: 0.9931 - val_loss: 0.0351 - val_accuracy: 0.9912\n",
      "Epoch 35/40\n",
      " - 7s - loss: 0.0216 - accuracy: 0.9953 - val_loss: 0.0312 - val_accuracy: 0.9965\n",
      "Epoch 36/40\n",
      " - 6s - loss: 0.0180 - accuracy: 0.9940 - val_loss: 0.0325 - val_accuracy: 0.9947\n",
      "Epoch 37/40\n",
      " - 6s - loss: 0.0263 - accuracy: 0.9890 - val_loss: 0.0381 - val_accuracy: 0.9877\n",
      "Epoch 38/40\n",
      " - 7s - loss: 0.0156 - accuracy: 0.9953 - val_loss: 0.0311 - val_accuracy: 0.9947\n",
      "Epoch 39/40\n",
      " - 7s - loss: 0.0196 - accuracy: 0.9956 - val_loss: 0.0375 - val_accuracy: 0.9912\n",
      "Epoch 40/40\n",
      " - 7s - loss: 0.0235 - accuracy: 0.9927 - val_loss: 0.0201 - val_accuracy: 0.9930\n"
     ]
    }
   ],
   "source": [
    "# MODEL 3: using the baseline model as our build model function\n",
    "\n",
    "m3, h3 = scikit_keras(build_fn=keras_train, compiler=compiler, params=params)"
   ]
  },
  {
   "cell_type": "code",
   "execution_count": 297,
   "metadata": {
    "ExecuteTime": {
     "end_time": "2020-04-14T13:09:19.287496Z",
     "start_time": "2020-04-14T13:09:19.281012Z"
    }
   },
   "outputs": [
    {
     "data": {
      "text/plain": [
       "array([[495,  70],\n",
       "       [  2,   3]])"
      ]
     },
     "execution_count": 297,
     "metadata": {},
     "output_type": "execute_result"
    }
   ],
   "source": [
    "cm = confusion_matrix(y_true, y_pred, labels=[0,1])\n",
    "cm"
   ]
  },
  {
   "cell_type": "code",
   "execution_count": 298,
   "metadata": {
    "ExecuteTime": {
     "end_time": "2020-04-14T13:09:41.725446Z",
     "start_time": "2020-04-14T13:09:39.654406Z"
    }
   },
   "outputs": [
    {
     "data": {
      "image/png": "[encoded data removed]",
      "text/plain": [
       "<Figure size 720x288 with 2 Axes>"
      ]
     },
     "metadata": {
      "needs_background": "light"
     },
     "output_type": "display_data"
    },
    {
     "name": "stdout",
     "output_type": "stream",
     "text": [
      "\n",
      "\n",
      "------------------------------------------------------------\n",
      "\tCLASSIFICATION REPORT:\n",
      "------------------------------------------------------------\n",
      "              precision    recall  f1-score   support\n",
      "\n",
      "           0       1.00      0.88      0.93       565\n",
      "           1       0.04      0.60      0.08         5\n",
      "\n",
      "    accuracy                           0.87       570\n",
      "   macro avg       0.52      0.74      0.50       570\n",
      "weighted avg       0.99      0.87      0.92       570\n",
      "\n",
      "Jaccard Similarity Score: 0.0\n",
      "Confusion matrix, without normalization\n"
     ]
    },
    {
     "data": {
      "image/png": "[encoded data removed]",
      "text/plain": [
       "<Figure size 720x720 with 2 Axes>"
      ]
     },
     "metadata": {
      "needs_background": "light"
     },
     "output_type": "display_data"
    },
    {
     "data": {
      "image/png": "[encoded data removed]",
      "text/plain": [
       "<Figure size 432x288 with 1 Axes>"
      ]
     },
     "metadata": {
      "needs_background": "light"
     },
     "output_type": "display_data"
    },
    {
     "data": {
      "image/png": "[encoded data removed]",
      "text/plain": [
       "<Figure size 432x288 with 1 Axes>"
      ]
     },
     "metadata": {
      "needs_background": "light"
     },
     "output_type": "display_data"
    }
   ],
   "source": [
    "evaluate_model(x_test, y_test, h3)"
   ]
  },
  {
   "cell_type": "markdown",
   "metadata": {},
   "source": [
    "# `MODEL 4`"
   ]
  },
  {
   "cell_type": "code",
   "execution_count": 340,
   "metadata": {
    "ExecuteTime": {
     "end_time": "2020-04-14T14:07:05.580712Z",
     "start_time": "2020-04-14T14:02:10.156685Z"
    }
   },
   "outputs": [
    {
     "name": "stdout",
     "output_type": "stream",
     "text": [
      "Epoch 1/40\n",
      " - 9s - loss: 0.6193 - accuracy: 0.6525 - val_loss: 0.5519 - val_accuracy: 0.8053\n",
      "Epoch 2/40\n",
      " - 7s - loss: 0.5291 - accuracy: 0.7407 - val_loss: 1.0368 - val_accuracy: 0.5175\n",
      "Epoch 3/40\n",
      " - 7s - loss: 0.4742 - accuracy: 0.7857 - val_loss: 0.3842 - val_accuracy: 0.8579\n",
      "Epoch 4/40\n",
      " - 10s - loss: 0.4240 - accuracy: 0.8042 - val_loss: 0.2709 - val_accuracy: 0.8860\n",
      "Epoch 5/40\n",
      " - 9s - loss: 0.4148 - accuracy: 0.8054 - val_loss: 0.5505 - val_accuracy: 0.6947\n",
      "Epoch 6/40\n",
      " - 7s - loss: 0.3483 - accuracy: 0.8530 - val_loss: 0.2785 - val_accuracy: 0.8596\n",
      "Epoch 7/40\n",
      " - 8s - loss: 0.3489 - accuracy: 0.8524 - val_loss: 0.5974 - val_accuracy: 0.6842\n",
      "Epoch 8/40\n",
      " - 7s - loss: 0.3057 - accuracy: 0.8796 - val_loss: 0.3235 - val_accuracy: 0.8333\n",
      "Epoch 9/40\n",
      " - 8s - loss: 0.3270 - accuracy: 0.8592 - val_loss: 0.1956 - val_accuracy: 0.8982\n",
      "Epoch 10/40\n",
      " - 7s - loss: 0.2864 - accuracy: 0.8871 - val_loss: 0.0418 - val_accuracy: 0.9877\n",
      "Epoch 11/40\n",
      " - 7s - loss: 0.2667 - accuracy: 0.8940 - val_loss: 0.2727 - val_accuracy: 0.8702\n",
      "Epoch 12/40\n",
      " - 7s - loss: 0.2458 - accuracy: 0.9043 - val_loss: 0.1360 - val_accuracy: 0.9351\n",
      "Epoch 13/40\n",
      " - 8s - loss: 0.2684 - accuracy: 0.8918 - val_loss: 0.0485 - val_accuracy: 0.9877\n",
      "Epoch 14/40\n",
      " - 7s - loss: 0.2263 - accuracy: 0.9168 - val_loss: 0.0511 - val_accuracy: 0.9825\n",
      "Epoch 15/40\n",
      " - 7s - loss: 0.2009 - accuracy: 0.9252 - val_loss: 0.0465 - val_accuracy: 0.9842\n",
      "Epoch 16/40\n",
      " - 7s - loss: 0.2211 - accuracy: 0.9115 - val_loss: 0.1290 - val_accuracy: 0.9456\n",
      "Epoch 17/40\n",
      " - 7s - loss: 0.1744 - accuracy: 0.9324 - val_loss: 0.0522 - val_accuracy: 0.9807\n",
      "Epoch 18/40\n",
      " - 8s - loss: 0.1594 - accuracy: 0.9362 - val_loss: 0.0933 - val_accuracy: 0.9667\n",
      "Epoch 19/40\n",
      " - 7s - loss: 0.1329 - accuracy: 0.9534 - val_loss: 0.0692 - val_accuracy: 0.9807\n",
      "Epoch 20/40\n",
      " - 7s - loss: 0.1361 - accuracy: 0.9518 - val_loss: 0.0844 - val_accuracy: 0.9737\n",
      "Epoch 21/40\n",
      " - 7s - loss: 0.1380 - accuracy: 0.9521 - val_loss: 0.1199 - val_accuracy: 0.9561\n",
      "Epoch 22/40\n",
      " - 7s - loss: 0.1231 - accuracy: 0.9562 - val_loss: 0.0705 - val_accuracy: 0.9860\n",
      "Epoch 23/40\n",
      " - 7s - loss: 0.1322 - accuracy: 0.9568 - val_loss: 0.0581 - val_accuracy: 0.9860\n",
      "Epoch 24/40\n",
      " - 7s - loss: 0.0916 - accuracy: 0.9697 - val_loss: 0.0699 - val_accuracy: 0.9807\n",
      "Epoch 25/40\n",
      " - 9s - loss: 0.1030 - accuracy: 0.9665 - val_loss: 0.0652 - val_accuracy: 0.9825\n",
      "Epoch 26/40\n",
      " - 7s - loss: 0.0790 - accuracy: 0.9684 - val_loss: 0.0465 - val_accuracy: 0.9947\n",
      "Epoch 27/40\n",
      " - 7s - loss: 0.0898 - accuracy: 0.9697 - val_loss: 0.0559 - val_accuracy: 0.9895\n",
      "Epoch 28/40\n",
      " - 7s - loss: 0.0843 - accuracy: 0.9747 - val_loss: 0.0614 - val_accuracy: 0.9860\n",
      "Epoch 29/40\n",
      " - 7s - loss: 0.0605 - accuracy: 0.9784 - val_loss: 0.0493 - val_accuracy: 0.9912\n",
      "Epoch 30/40\n",
      " - 7s - loss: 0.0828 - accuracy: 0.9728 - val_loss: 0.0496 - val_accuracy: 0.9877\n",
      "Epoch 31/40\n",
      " - 7s - loss: 0.0685 - accuracy: 0.9772 - val_loss: 0.0439 - val_accuracy: 0.9895\n",
      "Epoch 32/40\n",
      " - 7s - loss: 0.0634 - accuracy: 0.9775 - val_loss: 0.0509 - val_accuracy: 0.9877\n",
      "Epoch 33/40\n",
      " - 7s - loss: 0.0500 - accuracy: 0.9831 - val_loss: 0.0401 - val_accuracy: 0.9912\n",
      "Epoch 34/40\n",
      " - 7s - loss: 0.0637 - accuracy: 0.9803 - val_loss: 0.0379 - val_accuracy: 0.9947\n",
      "Epoch 35/40\n",
      " - 7s - loss: 0.0582 - accuracy: 0.9781 - val_loss: 0.0497 - val_accuracy: 0.9895\n",
      "Epoch 36/40\n",
      " - 7s - loss: 0.0398 - accuracy: 0.9862 - val_loss: 0.0376 - val_accuracy: 0.9947\n",
      "Epoch 37/40\n",
      " - 7s - loss: 0.0430 - accuracy: 0.9872 - val_loss: 0.0306 - val_accuracy: 0.9982\n",
      "Epoch 38/40\n",
      " - 7s - loss: 0.0441 - accuracy: 0.9853 - val_loss: 0.0398 - val_accuracy: 0.9930\n",
      "Epoch 39/40\n",
      " - 7s - loss: 0.0457 - accuracy: 0.9862 - val_loss: 0.0497 - val_accuracy: 0.9930\n",
      "Epoch 40/40\n",
      " - 7s - loss: 0.0422 - accuracy: 0.9847 - val_loss: 0.0393 - val_accuracy: 0.9930\n"
     ]
    }
   ],
   "source": [
    "# create params dict for compiling model\n",
    "# adjust learning rate to 4e-3\n",
    "\n",
    "compiler = dict(optimizer=SGD,\n",
    "                learning_rate=4e-2,\n",
    "                loss='binary_crossentropy',\n",
    "                metrics=['accuracy'])\n",
    "\n",
    "# create dict for fit_generator parameters\n",
    "# increase verbose to 2 and number of epochs to 40\n",
    "\n",
    "params = dict(validation_data = (x_test, y_test), \n",
    "              verbose=2, \n",
    "              epochs=40, \n",
    "              steps_per_epoch=(x_train.shape[1]/23))\n",
    "\n",
    "# MODEL 4\n",
    "# using the baseline model as our build model function\n",
    "\n",
    "m4, h4 = scikit_keras(build_fn=keras_train, compiler=compiler, params=params, \n",
    "                      batch_size=23)"
   ]
  },
  {
   "cell_type": "markdown",
   "metadata": {},
   "source": [
    "# Interpret Results"
   ]
  },
  {
   "cell_type": "markdown",
   "metadata": {},
   "source": [
    "## Conclusion\n",
    "\n",
    "Above, we were able to identify with 99% accuracy 3 of 5 stars that have an exoplanet in their orbit. "
   ]
  },
  {
   "cell_type": "markdown",
   "metadata": {},
   "source": [
    "# Recommendations\n",
    "\n",
    "While it is possible to create a fairly accurate model for detecting exoplanets using the raw flux values of an imbalanced data set (imbalanced meaning only a few positive examples in a sea of negatives) - it is clear that important information is misclassified. When it comes to astrophysics, we need to be much more accurate than this, and we need to feel like the model is fully reliable. I cannot conclude that this model is adequately reliable for performing an accurate analysis on this type of data.\n",
    "\n",
    "My recommendations are the following:\n",
    "\n",
    "   1. Use datasets from the MAST website (via API) to incorporate other calculations of the star's properties as features to be used for classification algorithms. Furthermore, attempt other types of transformations and normalizations on the data before running the model - for instance, apply a Fourier transform.\n",
    "\n",
    "   2. Combine data from multiple campaigns and perhaps even multiple telescopes (for instance, matching sky coordinates and time intervals between K2, Kepler, and TESS for a batch of stars that have overlapping observations - this would be critical for finding transit periods that are longer than the campaigns of a single telecope's observation period).\n",
    "\n",
    "   3. Explore using computer vision on not only the Full Frame images we can collect from telescopes like TESS, but also on spectographs of the flux values themselves. The beauty of machine learning is our ability to rely on the computer to pick up very small nuances in differences that we ourselves cannot see with our own eyes. \n",
    "   \n",
    "   4. Explore using autoencoded machine learning algorithms with Restricted Boltzmann Machines - this type of model has proven to be incredibly effective in the image analysis of handwriting as we've seen applied the MNIST dataset - let's find out if the same is true for images of stars, be they the Full Frame Images or spectographs."
   ]
  },
  {
   "cell_type": "markdown",
   "metadata": {},
   "source": [
    "# Future Work\n",
    "\n",
    "To continue this project, I'll take another approach for detecting exoplanets using computer vision to analyze images of spectographs of this same star flux data set. Please go to the notebook `[starskøpe-2]` to see how I use a Restricted Boltzmann Machines neural network model to classify stars as exoplanet hosts using spectograph images of the flux values to find transiting exoplanets. Following this, I will apply the same algorithm to spectographs of Fourier transformed data, as you will see in `[starskøpe-3]`. \n",
    "\n",
    "Additional future work following this project will be to develop my \"cyberoptic artificial telescope\" as a machine learning driven application that any astrophysicist can use to look at a single or collection of stars and have the model classify them according not only to exoplanet predictions, but also predict what type of star it is, and other key properties that would be of interest for astrophysical science applications.\n"
   ]
  }
 ],
 "metadata": {
  "file_extension": ".py",
  "kernelspec": {
   "display_name": "learn-env",
   "language": "python",
   "name": "learn-env"
  },
  "language_info": {
   "codemirror_mode": {
    "name": "ipython",
    "version": 3
   },
   "file_extension": ".py",
   "mimetype": "text/x-python",
   "name": "python",
   "nbconvert_exporter": "python",
   "pygments_lexer": "ipython3",
   "version": "3.7.4"
  },
  "latex_envs": {
   "LaTeX_envs_menu_present": true,
   "autoclose": false,
   "autocomplete": true,
   "bibliofile": "biblio.bib",
   "cite_by": "apalike",
   "current_citInitial": 1,
   "eqLabelWithNumbers": true,
   "eqNumInitial": 1,
   "hotkeys": {
    "equation": "Ctrl-E",
    "itemize": "Ctrl-I"
   },
   "labels_anchors": false,
   "latex_user_defs": false,
   "report_style_numbering": false,
   "user_envs_cfg": false
  },
  "mimetype": "text/x-python",
  "name": "python",
  "npconvert_exporter": "python",
  "pygments_lexer": "ipython3",
  "toc": {
   "base_numbering": 1,
   "nav_menu": {},
   "number_sections": false,
   "sideBar": true,
   "skip_h1_title": false,
   "title_cell": "Table of Contents",
   "title_sidebar": "Contents",
   "toc_cell": false,
   "toc_position": {
    "height": "766px",
    "left": "65px",
    "top": "110px",
    "width": "209.797px"
   },
   "toc_section_display": true,
   "toc_window_display": true
  },
  "varInspector": {
   "cols": {
    "lenName": 16,
    "lenType": 16,
    "lenVar": 40
   },
   "kernels_config": {
    "python": {
     "delete_cmd_postfix": "",
     "delete_cmd_prefix": "del ",
     "library": "var_list.py",
     "varRefreshCmd": "print(var_dic_list())"
    },
    "r": {
     "delete_cmd_postfix": ") ",
     "delete_cmd_prefix": "rm(",
     "library": "var_list.r",
     "varRefreshCmd": "cat(var_dic_list()) "
    }
   },
   "types_to_exclude": [
    "module",
    "function",
    "builtin_function_or_method",
    "instance",
    "_Feature"
   ],
   "window_display": false
  },
  "version": 3
 },
 "nbformat": 4,
 "nbformat_minor": 2
}
