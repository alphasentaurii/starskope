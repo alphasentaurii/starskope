{
 "cells": [
  {
   "cell_type": "markdown",
   "metadata": {
    "colab_type": "text",
    "id": "cItRVIv8QpLR"
   },
   "source": [
    "# STARSKØPE\n",
    "\n",
    "## Part III: MAST API via AWS"
   ]
  },
  {
   "cell_type": "markdown",
   "metadata": {
    "colab_type": "text",
    "id": "Qc_g3hRiPP3p"
   },
   "source": [
    "**STARSKØPE Phase 3 Objectives**\n",
    "\n",
    "1. Use datasets from the MAST website (via API) to incorporate other calculations of the star's properties as features to be used for classification algorithms. Furthermore, attempt other types of transformations and normalizations on the data before running the model - for instance, apply a Fourier transform.\n",
    "\n",
    "2. Combine data from multiple campaigns and perhaps even multiple telescopes (for instance, matching sky coordinates and time intervals between K2, Kepler, and TESS for a batch of stars that have overlapping observations - this would be critical for finding transit periods that are longer than the campaigns of a single telecope's observation period)."
   ]
  },
  {
   "cell_type": "markdown",
   "metadata": {},
   "source": [
    "MAST archive from STScI: DOI 10.26133/NEA4"
   ]
  },
  {
   "cell_type": "markdown",
   "metadata": {},
   "source": [
    "[![Open In Colab](https://colab.research.google.com/assets/colab-badge.svg)](https://colab.research.google.com/drive/1MuPehwunnqjGgWI9-k30XKXpOKS59neD#scrollTo=tiR_zPCLZRws)"
   ]
  },
  {
   "cell_type": "markdown",
   "metadata": {},
   "source": [
    "# Import"
   ]
  },
  {
   "cell_type": "code",
   "execution_count": 1,
   "metadata": {},
   "outputs": [],
   "source": [
    "# Working with http://astroquery.readthedocs.io/en/latest/mast/mast.html\n",
    "# Make sure you're running the latest version of the following packages:\n",
    "\n",
    "# astroquery\n",
    "# astropy\n",
    "# boto3\n",
    "# awscli"
   ]
  },
  {
   "cell_type": "code",
   "execution_count": 14,
   "metadata": {},
   "outputs": [],
   "source": [
    "#!pip install astroquery"
   ]
  },
  {
   "cell_type": "code",
   "execution_count": 16,
   "metadata": {},
   "outputs": [],
   "source": [
    "#!pip install astropy"
   ]
  },
  {
   "cell_type": "code",
   "execution_count": 18,
   "metadata": {},
   "outputs": [],
   "source": [
    "#!pip install -U boto3"
   ]
  },
  {
   "cell_type": "code",
   "execution_count": 20,
   "metadata": {},
   "outputs": [],
   "source": [
    "#!pip install awscli"
   ]
  },
  {
   "cell_type": "code",
   "execution_count": 94,
   "metadata": {},
   "outputs": [],
   "source": [
    "#!pip install spacekit"
   ]
  },
  {
   "cell_type": "code",
   "execution_count": 1,
   "metadata": {},
   "outputs": [],
   "source": [
    "def reload(mod):\n",
    "    \"\"\"Reloads the module from file without restarting kernel.\n",
    "        Args:\n",
    "            mod (loaded mod or list of mod objects): name or handle of package (i.e.,[ pd, fs,np])\n",
    "        Returns:\n",
    "            reload each model.\n",
    "    Example:\n",
    "    # You pass in whatever name you imported as.\n",
    "    import my_functions_from_file as mf\n",
    "    # after editing the source file:\n",
    "    # mf.reload(mf)\"\"\"\n",
    "    from importlib import reload\n",
    "    print(f'Reloading...\\n')\n",
    "    \n",
    "    ## \n",
    "    if isinstance(mod,list):\n",
    "        return [reload(m) for m in mod]\n",
    "    else:\n",
    "        return  reload(mod)"
   ]
  },
  {
   "cell_type": "code",
   "execution_count": 2,
   "metadata": {},
   "outputs": [],
   "source": [
    "import pandas as pd\n",
    "import numpy as np\n",
    "import os,glob, sys\n",
    "import boto3\n",
    "from astroquery.mast import Observations\n",
    "from astroquery.mast import Catalogs\n",
    "from astroquery.sdss import SDSS\n",
    "from astropy.io import fits\n",
    "\n",
    "# spacekit - my custom python library for astrophysics ML\n",
    "import spacekit"
   ]
  },
  {
   "cell_type": "code",
   "execution_count": 3,
   "metadata": {
    "ExecuteTime": {
     "end_time": "2020-08-26T00:19:49.103462Z",
     "start_time": "2020-08-26T00:19:49.086139Z"
    },
    "colab": {},
    "colab_type": "code",
    "id": "8B6xSvu5PG7j"
   },
   "outputs": [],
   "source": [
    "import matplotlib as mpl\n",
    "%matplotlib inline\n",
    "from matplotlib.colors import LogNorm\n",
    "import matplotlib.pyplot as plt\n",
    "\n",
    "import seaborn as sns\n",
    "sns.set_style('whitegrid')\n",
    "import matplotlib.pyplot as plt\n",
    "plt.style.use('seaborn-bright')\n",
    " \n",
    "\n",
    "font_dict={'family':'\"Titillium Web\", monospace','size':16}\n",
    "mpl.rc('font',**font_dict)\n",
    "\n",
    "\n",
    "#ignore pink warnings\n",
    "import warnings\n",
    "warnings.filterwarnings('ignore')\n",
    "# Allow for large # columns\n",
    "pd.set_option('display.max_columns', 0)\n",
    "# pd.set_option('display.max_rows','')"
   ]
  },
  {
   "cell_type": "code",
   "execution_count": 4,
   "metadata": {},
   "outputs": [
    {
     "data": {
      "text/plain": [
       "'/Users/rkein/Code/starskope'"
      ]
     },
     "execution_count": 4,
     "metadata": {},
     "output_type": "execute_result"
    }
   ],
   "source": [
    "os.getcwd()"
   ]
  },
  {
   "cell_type": "code",
   "execution_count": 5,
   "metadata": {},
   "outputs": [
    {
     "data": {
      "text/plain": [
       "['LICENSE.md',\n",
       " '.DS_Store',\n",
       " 'config',\n",
       " 'Nontechnical-capstone.pdf',\n",
       " 'postman',\n",
       " 'models',\n",
       " '288_planetbleed1600.jpeg',\n",
       " 'README.md',\n",
       " 'starskope.ipynb',\n",
       " '.gitignore',\n",
       " '_config.yml',\n",
       " 'scripts',\n",
       " '._README.md',\n",
       " 'starskope_3.ipynb',\n",
       " 'starskope_4.ipynb',\n",
       " '.ipynb_checkpoints',\n",
       " 'spacekit',\n",
       " '.git',\n",
       " 'plot.tbl',\n",
       " 'DATA',\n",
       " 'outputs',\n",
       " 'starskope_2.ipynb',\n",
       " 'specs.zip']"
      ]
     },
     "execution_count": 5,
     "metadata": {},
     "output_type": "execute_result"
    }
   ],
   "source": [
    "# # If using Jupyter notebook/local\n",
    "HOME = os.getcwd() #'/Users/rkein/Code/starskope'\n",
    "os.listdir(HOME)\n",
    "\n",
    "# # If using Google Colabs\n",
    "# from google.colab import drive\n",
    "# drive.mount('/gdrive',force_remount=True)"
   ]
  },
  {
   "cell_type": "code",
   "execution_count": 5,
   "metadata": {},
   "outputs": [],
   "source": [
    "# # Jupyter Notebook\n",
    "# %mkdir ~/.aws/config\n",
    "\n",
    "# # Google Colab\n",
    "# %cd '/gdrive/My Drive/'\n",
    "# %mkdir config"
   ]
  },
  {
   "cell_type": "code",
   "execution_count": 6,
   "metadata": {},
   "outputs": [],
   "source": [
    "# # change the <tags> to your aws info\n",
    "\n",
    "# text = '''\n",
    "# [default]\n",
    "# aws_access_key_id = <YOUR_AWS_KEY_ID> \n",
    "# aws_secret_access_key = <YOUR_AWS_ACCESS_KEY>\n",
    "# region = us-east-1\n",
    "# '''"
   ]
  },
  {
   "cell_type": "code",
   "execution_count": 7,
   "metadata": {},
   "outputs": [],
   "source": [
    "# # Jupyter\n",
    "#path = \"~/.aws/config\"\n",
    "# with open(path, 'w') as f:\n",
    "#    f.write(text)\n",
    "# !cat ~/.aws/config\n",
    "\n",
    "# # Google Colabs\n",
    "# path = \"/gdrive/My Drive/config/awscli.ini\"\n",
    "# with open(path, 'w') as f:\n",
    "#    f.write(text)\n",
    "# !cat /gdrive/My\\ Drive/config/awscli.ini"
   ]
  },
  {
   "cell_type": "code",
   "execution_count": 6,
   "metadata": {},
   "outputs": [
    {
     "name": "stdout",
     "output_type": "stream",
     "text": [
      "./config/awscli.ini\n"
     ]
    }
   ],
   "source": [
    "# # Jupyter\n",
    "#!export AWS_SHARED_CREDENTIALS_FILE=~/.aws/config\n",
    "#path = '~/.aws/config'\n",
    "path = './config/awscli.ini'\n",
    "!export AWS_SHARED_CREDENTIALS_FILE=./config/awscli.ini\n",
    "os.environ['AWS_SHARED_CREDENTIALS_FILE'] = path\n",
    "print(os.environ['AWS_SHARED_CREDENTIALS_FILE'])\n",
    "\n",
    "# # Google Colabs\n",
    "# !export AWS_SHARED_CREDENTIALS_FILE=/gdrive/My\\ Drive/config/awscli.ini\n",
    "# path = path\n",
    "# os.environ['AWS_SHARED_CREDENTIALS_FILE'] = path\n",
    "# print(os.environ['AWS_SHARED_CREDENTIALS_FILE'])"
   ]
  },
  {
   "cell_type": "markdown",
   "metadata": {},
   "source": [
    "Kepler observed parts of a 10 by 10 degree patch of sky near the constellation of Cygnus for four years (17, 3-month quarters) starting in 2009. The mission downloaded small sections of the sky at a 30-minute (long cadence) and a 1-minute (short cadence) in order to measure the variability of stars and find planets transiting these stars. These data are now available in the public s3://stpubdata/kepler/public S3 bucket on AWS.\n",
    "\n",
    "\n",
    "https://mast-labs.stsci.io/\n",
    "\n",
    "These data are available under the same terms as the public dataset for Hubble and TESS, that is, if you compute against the data from the AWS US-East region, then data access is free."
   ]
  },
  {
   "cell_type": "code",
   "execution_count": 7,
   "metadata": {},
   "outputs": [],
   "source": [
    "# s3://stpubdata/kepler/public\n",
    "region = 'us-east-1'\n",
    "s3 = boto3.resource('s3', region_name=region)\n",
    "bucket = s3.Bucket('stpubdata')\n",
    "location = {'LocationConstraint': region}"
   ]
  },
  {
   "cell_type": "markdown",
   "metadata": {},
   "source": [
    "Cloud data access is enabled using the `enable_cloud_dataset` function, which will cause AWS to become the prefered source for data access until it is disabled (`disable_cloud_dataset`).\n",
    "\n",
    "When cloud access is enabled, the standard download function `download_products` will preferentially pull files from AWS when they are available. There is also a cloud_only flag, which when set to True will cause all data products not available in the cloud to be skipped."
   ]
  },
  {
   "cell_type": "code",
   "execution_count": 8,
   "metadata": {},
   "outputs": [
    {
     "name": "stdout",
     "output_type": "stream",
     "text": [
      "INFO: Using the S3 STScI public dataset [astroquery.mast.cloud]\n",
      "INFO: See Request Pricing in https://aws.amazon.com/s3/pricing/ for details [astroquery.mast.cloud]\n",
      "INFO: If you have not configured boto3, follow the instructions here: https://boto3.readthedocs.io/en/latest/guide/configuration.html [astroquery.mast.cloud]\n"
     ]
    },
    {
     "name": "stderr",
     "output_type": "stream",
     "text": [
      "WARNING: Your AWS account will be charged for access to the S3 bucket [astroquery.mast.cloud]\n"
     ]
    }
   ],
   "source": [
    "Observations.enable_cloud_dataset(provider='AWS', profile='default')"
   ]
  },
  {
   "cell_type": "code",
   "execution_count": 37,
   "metadata": {},
   "outputs": [],
   "source": [
    "#Observations.disable_cloud_dataset()"
   ]
  },
  {
   "cell_type": "markdown",
   "metadata": {},
   "source": [
    "This script queries MAST for TESS FFI data for a single sector/camera/chip combination and downloads the data from the AWS public dataset rather than from MAST servers."
   ]
  },
  {
   "cell_type": "code",
   "execution_count": 9,
   "metadata": {},
   "outputs": [
    {
     "name": "stdout",
     "output_type": "stream",
     "text": [
      "    ID    version  HIP TYC ...     e_Dec_orig     raddflag wdflag   objID   \n",
      "--------- -------- --- --- ... ------------------ -------- ------ ----------\n",
      "261459129 20190415  --  -- ...  0.200397148604244        1      0 1701625107\n",
      " 64575709 20190415  --  -- ...   0.21969663115091        1      0  595775997\n",
      "125413929 20190415  --  -- ...  0.293682765259495        1      0  579825059\n",
      " 81609218 20190415  --  -- ...  0.146788572369267        1      0  630541794\n",
      " 94322581 20190415  --  -- ...  0.205286802302475        1      0  606092549\n",
      "260216294 20190415  --  -- ...  0.187170498094167        1      0  683390717\n",
      "125414201 20190415  --  -- ...   0.22398993783274        1      0  579825329\n",
      "123585000 20190415  --  -- ...  0.618316068787371        0      0  574511442\n",
      "406300991 20190415  --  -- ... 0.0518318978617112        0      0 1411465651\n",
      "463721073 20190415  --  -- ...  0.489828592248652       -1      1  710312391\n",
      "282024596 20190415  --  -- ...  0.548806522539047        1      0  573765450\n",
      "282391528 20190415  --  -- ...   0.47766300834538        0      0  574723760\n",
      " 23868624 20190415  --  -- ...            355.949       --      0  916384285\n"
     ]
    }
   ],
   "source": [
    "# Example query (not using here but helpful)\n",
    "# catalog_data = Catalogs.query_criteria(catalog=\"Tic\",Bmag=[30,50],objType=\"STAR\")\n",
    "# print(catalog_data)"
   ]
  },
  {
   "cell_type": "code",
   "execution_count": 9,
   "metadata": {},
   "outputs": [
    {
     "name": "stdout",
     "output_type": "stream",
     "text": [
      "['BEFS', 'EUVE', 'FUSE', 'GALEX', 'HLA', 'HLSP', 'HST', 'HUT', 'IUE', 'JWST', 'K2', 'K2FFI', 'Kepler', 'KeplerFFI', 'PS1', 'SPITZER_SHA', 'SWIFT', 'TESS', 'TUES', 'WUPPE']\n"
     ]
    }
   ],
   "source": [
    "print(Observations.list_missions())"
   ]
  },
  {
   "cell_type": "code",
   "execution_count": 10,
   "metadata": {},
   "outputs": [],
   "source": [
    "target = \"K2-1\"\n",
    "#Do a cone search and find the K2 long cadence data for target\n",
    "obs = Observations.query_object(target,radius=\"0s\")\n",
    "want = (obs['obs_collection'] == \"K2\") & (obs['t_exptime'] ==1800.0)"
   ]
  },
  {
   "cell_type": "code",
   "execution_count": 11,
   "metadata": {},
   "outputs": [],
   "source": [
    "#Pick which data you want to retrieve\n",
    "data_prod = Observations.get_product_list(obs[want])"
   ]
  },
  {
   "cell_type": "code",
   "execution_count": 12,
   "metadata": {},
   "outputs": [
    {
     "data": {
      "text/html": [
       "<i>Table masked=True length=4</i>\n",
       "<table id=\"table140709997778512\" class=\"table-striped table-bordered table-condensed\">\n",
       "<thead><tr><th>obsID</th><th>obs_collection</th><th>dataproduct_type</th><th>obs_id</th><th>description</th><th>type</th><th>dataURI</th><th>productType</th><th>productGroupDescription</th><th>productSubGroupDescription</th><th>productDocumentationURL</th><th>project</th><th>prvversion</th><th>proposal_id</th><th>productFilename</th><th>size</th><th>parent_obsid</th></tr></thead>\n",
       "<thead><tr><th>str10</th><th>str2</th><th>str10</th><th>str20</th><th>str37</th><th>str1</th><th>str97</th><th>str9</th><th>str28</th><th>str8</th><th>str1</th><th>str2</th><th>str2</th><th>str63</th><th>str34</th><th>int64</th><th>str10</th></tr></thead>\n",
       "<tr><td>9500379213</td><td>K2</td><td>timeseries</td><td>ktwo246375295-c12_lc</td><td>Preview-Full</td><td>S</td><td>mast:K2/url/missions/k2/previews/c12/246300000/75000/ktwo246375295-c12_llc_bw_large.png</td><td>PREVIEW</td><td>--</td><td>--</td><td>--</td><td>K2</td><td>39</td><td>GO12062_GO12071_GO12085_GO12099_GO12122_GO12124_GO12902_GO12903</td><td>ktwo246375295-c12_llc_bw_large.png</td><td>23279</td><td>9500379213</td></tr>\n",
       "<tr><td>9500379213</td><td>K2</td><td>timeseries</td><td>ktwo246375295-c12_lc</td><td>Lightcurve Long Cadence (KLC) - C12</td><td>S</td><td>mast:K2/url/missions/k2/lightcurves/c12/246300000/75000/ktwo246375295-c12_llc.fits</td><td>SCIENCE</td><td>Minimum Recommended Products</td><td>LLC</td><td>--</td><td>K2</td><td>39</td><td>GO12062_GO12071_GO12085_GO12099_GO12122_GO12124_GO12902_GO12903</td><td>ktwo246375295-c12_llc.fits</td><td>417600</td><td>9500379213</td></tr>\n",
       "<tr><td>9500379213</td><td>K2</td><td>timeseries</td><td>ktwo246375295-c12_lc</td><td>Target Pixel Long Cadence (KTL) - C12</td><td>S</td><td>mast:K2/url/missions/k2/target_pixel_files/c12/246300000/75000/ktwo246375295-c12_lpd-targ.fits.gz</td><td>SCIENCE</td><td>Minimum Recommended Products</td><td>LPD-TARG</td><td>--</td><td>K2</td><td>39</td><td>GO12062_GO12071_GO12085_GO12099_GO12122_GO12124_GO12902_GO12903</td><td>ktwo246375295-c12_lpd-targ.fits.gz</td><td>6905351</td><td>9500379213</td></tr>\n",
       "<tr><td>9500379213</td><td>K2</td><td>timeseries</td><td>ktwo246375295-c12_lc</td><td>Preview-Thumb</td><td>S</td><td>mast:K2/url/missions/k2/previews/c12/246300000/75000/ktwo246375295-c12_llc_bw_thumb.png</td><td>THUMBNAIL</td><td>--</td><td>--</td><td>--</td><td>K2</td><td>39</td><td>GO12062_GO12071_GO12085_GO12099_GO12122_GO12124_GO12902_GO12903</td><td>ktwo246375295-c12_llc_bw_thumb.png</td><td>2104</td><td>9500379213</td></tr>\n",
       "</table>"
      ],
      "text/plain": [
       "<Table masked=True length=4>\n",
       "  obsID    obs_collection dataproduct_type ...   size  parent_obsid\n",
       "  str10         str2           str10       ...  int64     str10    \n",
       "---------- -------------- ---------------- ... ------- ------------\n",
       "9500379213             K2       timeseries ...   23279   9500379213\n",
       "9500379213             K2       timeseries ...  417600   9500379213\n",
       "9500379213             K2       timeseries ... 6905351   9500379213\n",
       "9500379213             K2       timeseries ...    2104   9500379213"
      ]
     },
     "execution_count": 12,
     "metadata": {},
     "output_type": "execute_result"
    }
   ],
   "source": [
    "data_prod"
   ]
  },
  {
   "cell_type": "code",
   "execution_count": 13,
   "metadata": {},
   "outputs": [
    {
     "data": {
      "text/html": [
       "<i>Table masked=True length=1</i>\n",
       "<table id=\"table140709726540560\" class=\"table-striped table-bordered table-condensed\">\n",
       "<thead><tr><th>obsID</th><th>obs_collection</th><th>dataproduct_type</th><th>obs_id</th><th>description</th><th>type</th><th>dataURI</th><th>productType</th><th>productGroupDescription</th><th>productSubGroupDescription</th><th>productDocumentationURL</th><th>project</th><th>prvversion</th><th>proposal_id</th><th>productFilename</th><th>size</th><th>parent_obsid</th></tr></thead>\n",
       "<thead><tr><th>str10</th><th>str2</th><th>str10</th><th>str20</th><th>str37</th><th>str1</th><th>str97</th><th>str9</th><th>str28</th><th>str8</th><th>str1</th><th>str2</th><th>str2</th><th>str63</th><th>str34</th><th>int64</th><th>str10</th></tr></thead>\n",
       "<tr><td>9500379213</td><td>K2</td><td>timeseries</td><td>ktwo246375295-c12_lc</td><td>Lightcurve Long Cadence (KLC) - C12</td><td>S</td><td>mast:K2/url/missions/k2/lightcurves/c12/246300000/75000/ktwo246375295-c12_llc.fits</td><td>SCIENCE</td><td>Minimum Recommended Products</td><td>LLC</td><td>--</td><td>K2</td><td>39</td><td>GO12062_GO12071_GO12085_GO12099_GO12122_GO12124_GO12902_GO12903</td><td>ktwo246375295-c12_llc.fits</td><td>417600</td><td>9500379213</td></tr>\n",
       "</table>"
      ],
      "text/plain": [
       "<Table masked=True length=1>\n",
       "  obsID    obs_collection dataproduct_type ...  size  parent_obsid\n",
       "  str10         str2           str10       ... int64     str10    \n",
       "---------- -------------- ---------------- ... ------ ------------\n",
       "9500379213             K2       timeseries ... 417600   9500379213"
      ]
     },
     "execution_count": 13,
     "metadata": {},
     "output_type": "execute_result"
    }
   ],
   "source": [
    "filt_prod = Observations.filter_products(data_prod, productSubGroupDescription=\"LLC\")\n",
    "\n",
    "filt_prod"
   ]
  },
  {
   "cell_type": "code",
   "execution_count": 10,
   "metadata": {},
   "outputs": [
    {
     "data": {
      "text/plain": [
       "'/Users/rkein/Code/starskope/DATA/mast'"
      ]
     },
     "execution_count": 10,
     "metadata": {},
     "output_type": "execute_result"
    }
   ],
   "source": [
    "# create dir for MAST data\n",
    "DATA = os.path.abspath(HOME+'/DATA')\n",
    "#%mkdir './data/mast'\n",
    "MAST = os.path.abspath(DATA+'/mast')\n",
    "MAST"
   ]
  },
  {
   "cell_type": "code",
   "execution_count": 11,
   "metadata": {},
   "outputs": [],
   "source": [
    "# Targets with confirmed exoplanets for K2 mission  \n",
    "K2_confirmed_planet_hosts = ['K2-1','K2-21','K2-28','K2-39','K2-54','K2-55','K2-57','K2-58',\n",
    "                        'K2-59','K2-60','K2-61','K2-62','K2-63','K2-64','K2-65','K2-66', \n",
    "                        'K2-68','K2-70','K2-71','K2-72','K2-73','K2-74','K2-75','K2-76',\n",
    "                        'K2-116','K2-167','K2-168','K2-169','K2-170','K2-171','K2-172']"
   ]
  },
  {
   "cell_type": "code",
   "execution_count": 12,
   "metadata": {},
   "outputs": [
    {
     "data": {
      "text/plain": [
       "31"
      ]
     },
     "execution_count": 12,
     "metadata": {},
     "output_type": "execute_result"
    }
   ],
   "source": [
    "len(K2_confirmed_planet_hosts)"
   ]
  },
  {
   "cell_type": "markdown",
   "metadata": {},
   "source": [
    "# Download from AWS"
   ]
  },
  {
   "cell_type": "code",
   "execution_count": 13,
   "metadata": {},
   "outputs": [
    {
     "data": {
      "text/plain": [
       "'/Users/rkein/Code/starskope'"
      ]
     },
     "execution_count": 13,
     "metadata": {},
     "output_type": "execute_result"
    }
   ],
   "source": [
    "os.getcwd()"
   ]
  },
  {
   "cell_type": "code",
   "execution_count": 14,
   "metadata": {},
   "outputs": [],
   "source": [
    "os.chdir(MAST)"
   ]
  },
  {
   "cell_type": "code",
   "execution_count": 26,
   "metadata": {},
   "outputs": [],
   "source": [
    "def get_uris(target_list):\n",
    "    s3_uris = []\n",
    "    #Do a cone search and find the K2 long cadence data for each target\n",
    "    for target in target_list:\n",
    "        obs = Observations.query_object(target,radius=\"0s\")\n",
    "        want = (obs['obs_collection'] == \"K2\") & (obs['t_exptime'] ==1800.0)\n",
    "        data_prod = Observations.get_product_list(obs[want])\n",
    "        filt_prod = Observations.filter_products(data_prod, productSubGroupDescription=\"LLC\")\n",
    "        s3_uris.append(Observations.get_cloud_uris(filt_prod)[0])\n",
    "    return s3_uris"
   ]
  },
  {
   "cell_type": "code",
   "execution_count": 27,
   "metadata": {},
   "outputs": [],
   "source": [
    "uris = get_uris(K2_confirmed_planet_hosts)"
   ]
  },
  {
   "cell_type": "code",
   "execution_count": 61,
   "metadata": {},
   "outputs": [
    {
     "data": {
      "text/plain": [
       "['s3://stpubdata/k2/public/lightcurves/c12/246300000/75000/ktwo246375295-c12_llc.fits',\n",
       " 's3://stpubdata/k2/public/lightcurves/c3/206000000/11000/ktwo206011691-c03_llc.fits',\n",
       " 's3://stpubdata/k2/public/lightcurves/c3/206300000/18000/ktwo206318379-c03_llc.fits',\n",
       " 's3://stpubdata/k2/public/lightcurves/c3/206200000/47000/ktwo206247743-c03_llc.fits',\n",
       " 's3://stpubdata/k2/public/lightcurves/c3/205900000/16000/ktwo205916793-c03_llc.fits']"
      ]
     },
     "execution_count": 61,
     "metadata": {},
     "output_type": "execute_result"
    }
   ],
   "source": [
    "uris[:5]"
   ]
  },
  {
   "cell_type": "code",
   "execution_count": 29,
   "metadata": {},
   "outputs": [
    {
     "data": {
      "text/plain": [
       "'s3://stpubdata/k2/public/lightcurves/c12/246300000/75000/ktwo246375295-c12_llc.fits'"
      ]
     },
     "execution_count": 29,
     "metadata": {},
     "output_type": "execute_result"
    }
   ],
   "source": [
    "uris[0]"
   ]
  },
  {
   "cell_type": "code",
   "execution_count": 352,
   "metadata": {},
   "outputs": [
    {
     "data": {
      "text/plain": [
       "'s3://stpubdata/k2/public/lightcurves/c3/206400000/32000/ktwo206432863-c03_llc.fits'"
      ]
     },
     "execution_count": 352,
     "metadata": {},
     "output_type": "execute_result"
    }
   ],
   "source": [
    "uris[23]"
   ]
  },
  {
   "cell_type": "code",
   "execution_count": 353,
   "metadata": {},
   "outputs": [
    {
     "data": {
      "text/plain": [
       "'K2-76'"
      ]
     },
     "execution_count": 353,
     "metadata": {},
     "output_type": "execute_result"
    }
   ],
   "source": [
    "K2_confirmed_planet_hosts[23]"
   ]
  },
  {
   "cell_type": "code",
   "execution_count": 30,
   "metadata": {},
   "outputs": [
    {
     "data": {
      "text/plain": [
       "31"
      ]
     },
     "execution_count": 30,
     "metadata": {},
     "output_type": "execute_result"
    }
   ],
   "source": [
    "len(uris)"
   ]
  },
  {
   "cell_type": "code",
   "execution_count": 32,
   "metadata": {},
   "outputs": [],
   "source": [
    "def download_fits(s3_uris):\n",
    "    count = 0\n",
    "    for uri in s3_uris:\n",
    "        print(f\"Downloading {uri}\")\n",
    "        key = uri.replace(\"s3://stpubdata/\", \"\")\n",
    "        root = uri.split('/')[-1]\n",
    "        bucket.download_file(key, root, ExtraArgs={\"RequestPayer\": \"requester\"})\n",
    "        count+=1\n",
    "    print(f\"Download Complete: {count} files\")"
   ]
  },
  {
   "cell_type": "code",
   "execution_count": 33,
   "metadata": {},
   "outputs": [
    {
     "name": "stdout",
     "output_type": "stream",
     "text": [
      "Downloading s3://stpubdata/k2/public/lightcurves/c12/246300000/75000/ktwo246375295-c12_llc.fits\n",
      "Downloading s3://stpubdata/k2/public/lightcurves/c3/206000000/11000/ktwo206011691-c03_llc.fits\n",
      "Downloading s3://stpubdata/k2/public/lightcurves/c3/206300000/18000/ktwo206318379-c03_llc.fits\n",
      "Downloading s3://stpubdata/k2/public/lightcurves/c3/206200000/47000/ktwo206247743-c03_llc.fits\n",
      "Downloading s3://stpubdata/k2/public/lightcurves/c3/205900000/16000/ktwo205916793-c03_llc.fits\n",
      "Downloading s3://stpubdata/k2/public/lightcurves/c3/205900000/24000/ktwo205924614-c03_llc.fits\n",
      "Downloading s3://stpubdata/k2/public/lightcurves/c3/206000000/26000/ktwo206026136-c03_llc.fits\n",
      "Downloading s3://stpubdata/k2/public/lightcurves/c3/206000000/26000/ktwo206026904-c03_llc.fits\n",
      "Downloading s3://stpubdata/k2/public/lightcurves/c3/206000000/27000/ktwo206027655-c03_llc.fits\n",
      "Downloading s3://stpubdata/k2/public/lightcurves/c3/206000000/38000/ktwo206038483-c03_llc.fits\n",
      "Downloading s3://stpubdata/k2/public/lightcurves/c3/206000000/44000/ktwo206044803-c03_llc.fits\n",
      "Downloading s3://stpubdata/k2/public/lightcurves/c3/206000000/96000/ktwo206096602-c03_llc.fits\n",
      "Downloading s3://stpubdata/k2/public/lightcurves/c3/206100000/01000/ktwo206101302-c03_llc.fits\n",
      "Downloading s3://stpubdata/k2/public/lightcurves/c3/206100000/25000/ktwo206125618-c03_llc.fits\n",
      "Downloading s3://stpubdata/k2/public/lightcurves/c3/206100000/44000/ktwo206144956-c03_llc.fits\n",
      "Downloading s3://stpubdata/k2/public/lightcurves/c3/206100000/53000/ktwo206153219-c03_llc.fits\n",
      "Downloading s3://stpubdata/k2/public/lightcurves/c3/206100000/59000/ktwo206159027-c03_llc.fits\n",
      "Downloading s3://stpubdata/k2/public/lightcurves/c3/206100000/81000/ktwo206181769-c03_llc.fits\n",
      "Downloading s3://stpubdata/k2/public/lightcurves/c3/206100000/92000/ktwo206192813-c03_llc.fits\n",
      "Downloading s3://stpubdata/k2/public/lightcurves/c3/206200000/09000/ktwo206209135-c03_llc.fits\n",
      "Downloading s3://stpubdata/k2/public/lightcurves/c3/206200000/45000/ktwo206245553-c03_llc.fits\n",
      "Downloading s3://stpubdata/k2/public/lightcurves/c3/206200000/68000/ktwo206268299-c03_llc.fits\n",
      "Downloading s3://stpubdata/k2/public/lightcurves/c3/206300000/48000/ktwo206348688-c03_llc.fits\n",
      "Downloading s3://stpubdata/k2/public/lightcurves/c3/206400000/32000/ktwo206432863-c03_llc.fits\n",
      "Downloading s3://stpubdata/k2/public/lightcurves/c3/206100000/19000/ktwo206119924-c03_llc.fits\n",
      "Downloading s3://stpubdata/k2/public/lightcurves/c3/205900000/04000/ktwo205904628-c03_llc.fits\n",
      "Downloading s3://stpubdata/k2/public/lightcurves/c3/205900000/50000/ktwo205950854-c03_llc.fits\n",
      "Downloading s3://stpubdata/k2/public/lightcurves/c3/206000000/07000/ktwo206007892-c03_llc.fits\n",
      "Downloading s3://stpubdata/k2/public/lightcurves/c3/206000000/08000/ktwo206008091-c03_llc.fits\n",
      "Downloading s3://stpubdata/k2/public/lightcurves/c3/206000000/49000/ktwo206049764-c03_llc.fits\n",
      "Downloading s3://stpubdata/k2/public/lightcurves/c3/206000000/82000/ktwo206082454-c03_llc.fits\n",
      "Download Complete: 31 files to \n"
     ]
    }
   ],
   "source": [
    "download_fits(uris)"
   ]
  },
  {
   "cell_type": "code",
   "execution_count": 34,
   "metadata": {},
   "outputs": [
    {
     "data": {
      "text/plain": [
       "['ktwo206181769-c03_llc.fits',\n",
       " 'ktwo206026136-c03_llc.fits',\n",
       " 'ktwo206209135-c03_llc.fits',\n",
       " 'ktwo206101302-c03_llc.fits',\n",
       " 'ktwo206153219-c03_llc.fits',\n",
       " 'ktwo206245553-c03_llc.fits',\n",
       " 'ktwo206038483-c03_llc.fits',\n",
       " 'ktwo246375295-c12_llc.fits',\n",
       " 'ktwo205924614-c03_llc.fits',\n",
       " 'ktwo206318379-c03_llc.fits',\n",
       " 'ktwo206159027-c03_llc.fits',\n",
       " 'ktwo206247743-c03_llc.fits',\n",
       " 'ktwo206007892-c03_llc.fits',\n",
       " 'ktwo205950854-c03_llc.fits',\n",
       " 'ktwo206027655-c03_llc.fits',\n",
       " 'ktwo206144956-c03_llc.fits',\n",
       " 'ktwo206049764-c03_llc.fits',\n",
       " 'ktwo206082454-c03_llc.fits',\n",
       " 'ktwo206011691-c03_llc.fits',\n",
       " 'ktwo206348688-c03_llc.fits',\n",
       " 'ktwo206044803-c03_llc.fits',\n",
       " 'ktwo206008091-c03_llc.fits',\n",
       " 'ktwo206192813-c03_llc.fits',\n",
       " 'ktwo205916793-c03_llc.fits',\n",
       " 'ktwo206268299-c03_llc.fits',\n",
       " 'ktwo205904628-c03_llc.fits',\n",
       " 'ktwo206432863-c03_llc.fits',\n",
       " 'ktwo206026904-c03_llc.fits',\n",
       " 'ktwo206125618-c03_llc.fits',\n",
       " 'ktwo206096602-c03_llc.fits',\n",
       " 'ktwo206119924-c03_llc.fits']"
      ]
     },
     "execution_count": 34,
     "metadata": {},
     "output_type": "execute_result"
    }
   ],
   "source": [
    "os.listdir(MAST)"
   ]
  },
  {
   "cell_type": "code",
   "execution_count": 33,
   "metadata": {},
   "outputs": [],
   "source": [
    "## from spacekit.radio import mast_aws\n",
    "## function for downloading data from MAST s3 bucket on AWS\n",
    "def mast_aws(target_list):\n",
    "    import boto3\n",
    "    from astroquery.mast import Observations\n",
    "    from astroquery.mast import Catalogs\n",
    "    # configure aws settings\n",
    "#     region = 'us-east-1'\n",
    "#     s3 = boto3.resource('s3', region_name=region)\n",
    "#     bucket = s3.Bucket('stpubdata')\n",
    "#     location = {'LocationConstraint': region}\n",
    "#     Observations.enable_cloud_dataset(provider='AWS', profile='default')\n",
    "    \n",
    "    for target in target_list:\n",
    "    #Do a cone search and find the K2 long cadence data for target\n",
    "        obs = Observations.query_object(target,radius=\"0s\")\n",
    "        want = (obs['obs_collection'] == \"K2\") & (obs['t_exptime'] ==1800.0)\n",
    "        data_prod = Observations.get_product_list(obs[want])\n",
    "        filt_prod = Observations.filter_products(data_prod, productSubGroupDescription=\"LLC\")\n",
    "        s3_uris = Observations.get_cloud_uris(filt_prod)\n",
    "        for url in s3_uris:\n",
    "        # Extract the S3 key from the S3 URL\n",
    "            fits_s3_key = url.replace(\"s3://stpubdata/\", \"\")\n",
    "            root = url.split('/')[-1]\n",
    "            bucket.download_file(fits_s3_key, root, ExtraArgs={\"RequestPayer\": \"requester\"})\n",
    "    #Observations.disable_cloud_dataset()\n",
    "    return print('Download Complete')"
   ]
  },
  {
   "cell_type": "code",
   "execution_count": 87,
   "metadata": {},
   "outputs": [],
   "source": [
    "class Radio:\n",
    "    def __init__(self, target_list):\n",
    "        self.target_list = target_list\n",
    "\n",
    "\n",
    "    # function for downloading data from MAST s3 bucket on AWS\n",
    "    def mast_aws(self):\n",
    "        import boto3\n",
    "        from astroquery.mast import Observations\n",
    "        from astroquery.mast import Catalogs\n",
    "        # configure aws settings\n",
    "        region = 'us-east-1'\n",
    "        s3 = boto3.resource('s3', region_name=region)\n",
    "        bucket = s3.Bucket('stpubdata')\n",
    "        location = {'LocationConstraint': region}\n",
    "        Observations.enable_cloud_dataset(provider='AWS', profile='default')\n",
    "        \n",
    "        for target in self.target_list:\n",
    "        #Do a cone search and find the K2 long cadence data for target\n",
    "            obs = Observations.query_object(target,radius=\"0s\")\n",
    "            want = (obs['obs_collection'] == \"K2\") & (obs['t_exptime'] ==1800.0)\n",
    "            data_prod = Observations.get_product_list(obs[want])\n",
    "            filt_prod = Observations.filter_products(data_prod, productSubGroupDescription=\"LLC\")\n",
    "            s3_uris = Observations.get_cloud_uri(filt_prod)\n",
    "            for url in s3_uris:\n",
    "            # Extract the S3 key from the S3 URL\n",
    "                fits_s3_key = url.replace(\"s3://stpubdata/\", \"\")\n",
    "                root = url.split('/')[-1]\n",
    "                bucket.download_file(fits_s3_key, root, ExtraArgs={\"RequestPayer\": \"requester\"})\n",
    "        Observations.disable_cloud_dataset()\n",
    "        return print('Download Complete')"
   ]
  },
  {
   "cell_type": "code",
   "execution_count": 35,
   "metadata": {},
   "outputs": [],
   "source": [
    "# #from spacekit import radio\n",
    "# radio = Radio(K2_confirmed_planets)\n",
    "# radio.mast_aws()"
   ]
  },
  {
   "cell_type": "code",
   "execution_count": 36,
   "metadata": {},
   "outputs": [],
   "source": [
    "# spacekit.radio.mast_aws(K2_confirmed_planets)"
   ]
  },
  {
   "cell_type": "markdown",
   "metadata": {},
   "source": [
    "# Nasa Exoplanet Archive API"
   ]
  },
  {
   "cell_type": "code",
   "execution_count": null,
   "metadata": {},
   "outputs": [],
   "source": [
    "# https://exoplanetarchive.ipac.caltech.edu/cgi-bin/TblView/nph-tblView?app=ExoTbls&config=PS&constraint=default_flag=1"
   ]
  },
  {
   "cell_type": "code",
   "execution_count": 37,
   "metadata": {},
   "outputs": [
    {
     "data": {
      "text/plain": [
       "requests.models.Response"
      ]
     },
     "execution_count": 37,
     "metadata": {},
     "output_type": "execute_result"
    }
   ],
   "source": [
    "import requests\n",
    "\n",
    "# Getting response from request\n",
    "#resp = requests.get('https://exoplanetarchive.ipac.caltech.edu/cgi-bin/nstedAPI/nph-nstedAPI?table=exoplanets')\n",
    "resp = requests.get('https://exoplanetarchive.ipac.caltech.edu/cgi-bin/nstedAPI/nph-nstedAPI?table=exoplanets&select=pl_hostname,ra,dec&where=pl_hostname like K2&format=json')\n",
    "type(resp)"
   ]
  },
  {
   "cell_type": "code",
   "execution_count": 38,
   "metadata": {},
   "outputs": [
    {
     "data": {
      "text/plain": [
       "200"
      ]
     },
     "execution_count": 38,
     "metadata": {},
     "output_type": "execute_result"
    }
   ],
   "source": [
    "requests.codes.ok"
   ]
  },
  {
   "cell_type": "code",
   "execution_count": 39,
   "metadata": {},
   "outputs": [
    {
     "name": "stdout",
     "output_type": "stream",
     "text": [
      "Response Code: 200\n",
      "Is it OK? True\n"
     ]
    }
   ],
   "source": [
    "print('Response Code:', resp.status_code)\n",
    "print('Is it OK?', resp.status_code == requests.codes.ok)"
   ]
  },
  {
   "cell_type": "code",
   "execution_count": 40,
   "metadata": {},
   "outputs": [],
   "source": [
    "\n",
    "# Note we can only do this becasue r.text() is in JSON format\n",
    "#r=requests.get('https://exoplanetarchive.ipac.caltech.edu/cgi-bin/nstedAPI/nph-nstedAPI?table=exoplanets&select=pl_hostname,ra,dec&where=pl_facility%like%K2')\n",
    "\n",
    "r=requests.get(\"https://exoplanetarchive.ipac.caltech.edu/cgi-bin/nstedAPI/nph-nstedAPI?table=exoplanets&format=json&select=pl_hostname&where=pl_hostname like '%K2%'\")\n",
    "results = r.json()"
   ]
  },
  {
   "cell_type": "code",
   "execution_count": 41,
   "metadata": {},
   "outputs": [
    {
     "data": {
      "text/plain": [
       "{'pl_hostname': 'K2-3'}"
      ]
     },
     "execution_count": 41,
     "metadata": {},
     "output_type": "execute_result"
    }
   ],
   "source": [
    "# Don't show your IP\n",
    "results[0]"
   ]
  },
  {
   "cell_type": "code",
   "execution_count": 42,
   "metadata": {},
   "outputs": [
    {
     "name": "stdout",
     "output_type": "stream",
     "text": [
      "https://exoplanetarchive.ipac.caltech.edu/cgi-bin/nstedAPI/nph-nstedAPI?table=exoplanets&format=json&select=pl_hostname&where=pl_hostname%20like%20'%25K2%25'\n"
     ]
    },
    {
     "data": {
      "text/plain": [
       "{'pl_hostname': 'K2-3'}"
      ]
     },
     "metadata": {},
     "output_type": "display_data"
    }
   ],
   "source": [
    "print(r.url)\n",
    "display(results[0])"
   ]
  },
  {
   "cell_type": "code",
   "execution_count": 43,
   "metadata": {},
   "outputs": [],
   "source": [
    "targets_df = pd.DataFrame.from_dict(results)\n",
    "\n",
    "k2_confirmed_total = list(targets_df['pl_hostname'].unique())"
   ]
  },
  {
   "cell_type": "code",
   "execution_count": 44,
   "metadata": {},
   "outputs": [
    {
     "data": {
      "text/html": [
       "<div>\n",
       "<style scoped>\n",
       "    .dataframe tbody tr th:only-of-type {\n",
       "        vertical-align: middle;\n",
       "    }\n",
       "\n",
       "    .dataframe tbody tr th {\n",
       "        vertical-align: top;\n",
       "    }\n",
       "\n",
       "    .dataframe thead th {\n",
       "        text-align: right;\n",
       "    }\n",
       "</style>\n",
       "<table border=\"1\" class=\"dataframe\">\n",
       "  <thead>\n",
       "    <tr style=\"text-align: right;\">\n",
       "      <th></th>\n",
       "      <th>pl_hostname</th>\n",
       "    </tr>\n",
       "  </thead>\n",
       "  <tbody>\n",
       "    <tr>\n",
       "      <th>0</th>\n",
       "      <td>K2-3</td>\n",
       "    </tr>\n",
       "    <tr>\n",
       "      <th>1</th>\n",
       "      <td>K2-3</td>\n",
       "    </tr>\n",
       "    <tr>\n",
       "      <th>2</th>\n",
       "      <td>K2-3</td>\n",
       "    </tr>\n",
       "    <tr>\n",
       "      <th>3</th>\n",
       "      <td>K2-25</td>\n",
       "    </tr>\n",
       "    <tr>\n",
       "      <th>4</th>\n",
       "      <td>K2-4</td>\n",
       "    </tr>\n",
       "    <tr>\n",
       "      <th>...</th>\n",
       "      <td>...</td>\n",
       "    </tr>\n",
       "    <tr>\n",
       "      <th>371</th>\n",
       "      <td>K2-263</td>\n",
       "    </tr>\n",
       "    <tr>\n",
       "      <th>372</th>\n",
       "      <td>K2-264</td>\n",
       "    </tr>\n",
       "    <tr>\n",
       "      <th>373</th>\n",
       "      <td>K2-264</td>\n",
       "    </tr>\n",
       "    <tr>\n",
       "      <th>374</th>\n",
       "      <td>K2-233</td>\n",
       "    </tr>\n",
       "    <tr>\n",
       "      <th>375</th>\n",
       "      <td>K2-233</td>\n",
       "    </tr>\n",
       "  </tbody>\n",
       "</table>\n",
       "<p>376 rows × 1 columns</p>\n",
       "</div>"
      ],
      "text/plain": [
       "    pl_hostname\n",
       "0          K2-3\n",
       "1          K2-3\n",
       "2          K2-3\n",
       "3         K2-25\n",
       "4          K2-4\n",
       "..          ...\n",
       "371      K2-263\n",
       "372      K2-264\n",
       "373      K2-264\n",
       "374      K2-233\n",
       "375      K2-233\n",
       "\n",
       "[376 rows x 1 columns]"
      ]
     },
     "execution_count": 44,
     "metadata": {},
     "output_type": "execute_result"
    }
   ],
   "source": [
    "targets_df"
   ]
  },
  {
   "cell_type": "code",
   "execution_count": 46,
   "metadata": {},
   "outputs": [
    {
     "data": {
      "text/plain": [
       "['K2-3',\n",
       " 'K2-25',\n",
       " 'K2-4',\n",
       " 'K2-5',\n",
       " 'K2-6',\n",
       " 'K2-7',\n",
       " 'K2-8',\n",
       " 'K2-9',\n",
       " 'K2-19',\n",
       " 'K2-10']"
      ]
     },
     "execution_count": 46,
     "metadata": {},
     "output_type": "execute_result"
    }
   ],
   "source": [
    "k2_confirmed_total[:10]"
   ]
  },
  {
   "cell_type": "code",
   "execution_count": 368,
   "metadata": {},
   "outputs": [],
   "source": [
    "k2_new_total = k2_confirmed_total\n",
    "\n",
    "for a in K2_confirmed_planet_hosts:\n",
    "    if a in k2_confirmed_total:\n",
    "        k2_new_total.remove(a)"
   ]
  },
  {
   "cell_type": "code",
   "execution_count": 369,
   "metadata": {},
   "outputs": [
    {
     "data": {
      "text/plain": [
       "248"
      ]
     },
     "execution_count": 369,
     "metadata": {},
     "output_type": "execute_result"
    }
   ],
   "source": [
    "len(k2_new_total)"
   ]
  },
  {
   "cell_type": "code",
   "execution_count": 373,
   "metadata": {},
   "outputs": [],
   "source": [
    "k2_targets = K2_confirmed_planet_hosts"
   ]
  },
  {
   "cell_type": "code",
   "execution_count": 375,
   "metadata": {},
   "outputs": [],
   "source": [
    "k2_targets.extend(k2_new_total)"
   ]
  },
  {
   "cell_type": "code",
   "execution_count": 376,
   "metadata": {},
   "outputs": [
    {
     "data": {
      "text/plain": [
       "279"
      ]
     },
     "execution_count": 376,
     "metadata": {},
     "output_type": "execute_result"
    }
   ],
   "source": [
    "len(k2_targets)"
   ]
  },
  {
   "cell_type": "code",
   "execution_count": 379,
   "metadata": {},
   "outputs": [],
   "source": [
    "k2_targets.remove('K2-288 B')"
   ]
  },
  {
   "cell_type": "code",
   "execution_count": 380,
   "metadata": {},
   "outputs": [],
   "source": [
    "k2_targets.append('K2-288')"
   ]
  },
  {
   "cell_type": "code",
   "execution_count": 381,
   "metadata": {},
   "outputs": [],
   "source": [
    "# removing targets with error: \"Could not resolve K2-XXX to a sky position\"\n",
    "k2_targets.remove('K2-316')\n",
    "k2_targets.remove('K2-317')\n",
    "k2_targets.remove('K2-318')\n",
    "k2_targets.remove('K2-319')\n",
    "k2_targets.remove('K2-315')\n",
    "k2_targets.remove('K2-320')\n",
    "k2_targets.remove('K2-321')\n",
    "k2_targets.remove('K2-322')\n",
    "k2_targets.remove('K2-323')\n",
    "k2_targets.remove('K2-324')\n",
    "k2_targets.remove('K2-325')\n",
    "k2_targets.remove('K2-326')"
   ]
  },
  {
   "cell_type": "code",
   "execution_count": 382,
   "metadata": {},
   "outputs": [
    {
     "data": {
      "text/plain": [
       "267"
      ]
     },
     "execution_count": 382,
     "metadata": {},
     "output_type": "execute_result"
    }
   ],
   "source": [
    "len(k2_targets)"
   ]
  },
  {
   "cell_type": "code",
   "execution_count": 452,
   "metadata": {},
   "outputs": [],
   "source": [
    "k2_targets = sorted(k2_targets)"
   ]
  },
  {
   "cell_type": "code",
   "execution_count": 267,
   "metadata": {},
   "outputs": [],
   "source": [
    "# Passing parameters\n",
    "\n",
    "# credentials = {'user_name': ru, 'password': 'password'}\n",
    "# r = requests.get('', params = credentials)"
   ]
  },
  {
   "cell_type": "markdown",
   "metadata": {},
   "source": [
    "# Download FITS files from MAST on AWS"
   ]
  },
  {
   "cell_type": "code",
   "execution_count": 95,
   "metadata": {},
   "outputs": [],
   "source": [
    "def get_uris(target_list):\n",
    "    s3_uris = []\n",
    "    #Do a cone search and find the K2 long cadence data for each target\n",
    "    for target in target_list:\n",
    "        obs = Observations.query_object(target,radius=\"0s\")\n",
    "        want = (obs['obs_collection'] == \"K2\") & (obs['t_exptime'] ==1800.0)\n",
    "        data_prod = Observations.get_product_list(obs[want])\n",
    "        filt_prod = Observations.filter_products(data_prod, productSubGroupDescription=\"LLC\")\n",
    "        try:\n",
    "            uri = Observations.get_cloud_uris(filt_prod)[0]\n",
    "            s3_uris.append(uri)\n",
    "        except ResolverError: \n",
    "            print(f\"Could not resolve {target} to a sky position.\")\n",
    "            continue\n",
    "        #s3_uris.append(Observations.get_cloud_uris(filt_prod)[0])\n",
    "    return s3_uris"
   ]
  },
  {
   "cell_type": "code",
   "execution_count": 97,
   "metadata": {},
   "outputs": [],
   "source": [
    "def download_fits(s3_uris):\n",
    "    count = 0\n",
    "    print(f\"Downloading {len(s3_uris)} FITS files from AWS (MAST))\")\n",
    "    for uri in s3_uris:\n",
    "        key = uri.replace(\"s3://stpubdata/\", \"\")\n",
    "        root = uri.split('/')[-1]\n",
    "        try:\n",
    "            bucket.download_file(key, root, ExtraArgs={\"RequestPayer\": \"requester\"})\n",
    "            count+=1\n",
    "        except FileExistsError:\n",
    "            continue\n",
    "    print(f\"Download Complete: {count} files\")"
   ]
  },
  {
   "cell_type": "code",
   "execution_count": 98,
   "metadata": {},
   "outputs": [
    {
     "name": "stdout",
     "output_type": "stream",
     "text": [
      "Downloading 100 FITS files from AWS (MAST))\n",
      "Download Complete: 100 files\n"
     ]
    }
   ],
   "source": [
    "# k2_batch1_targets = get_uris(k2_targets1)\n",
    "# download_fits(k2_batch1_targets)"
   ]
  },
  {
   "cell_type": "code",
   "execution_count": 101,
   "metadata": {},
   "outputs": [
    {
     "name": "stdout",
     "output_type": "stream",
     "text": [
      "Downloading 100 FITS files from AWS (MAST))\n",
      "Download Complete: 100 files\n"
     ]
    }
   ],
   "source": [
    "# k2_batch2_targets = get_uris(k2_targets2)\n",
    "# download_fits(k2_batch2_targets)"
   ]
  },
  {
   "cell_type": "code",
   "execution_count": 126,
   "metadata": {},
   "outputs": [
    {
     "name": "stdout",
     "output_type": "stream",
     "text": [
      "Downloading 65 FITS files from AWS (MAST))\n",
      "Download Complete: 65 files\n"
     ]
    }
   ],
   "source": [
    "# k2_batch3_targets = get_uris(k2_targets3)\n",
    "# download_fits(k2_batch3_targets)"
   ]
  },
  {
   "cell_type": "code",
   "execution_count": null,
   "metadata": {},
   "outputs": [],
   "source": [
    "k2_target_uris = get_uris(k2_targets)\n",
    "download_fits(k2_target_uris)"
   ]
  },
  {
   "cell_type": "code",
   "execution_count": 127,
   "metadata": {},
   "outputs": [],
   "source": [
    "Observations.disable_cloud_dataset()"
   ]
  },
  {
   "cell_type": "code",
   "execution_count": 289,
   "metadata": {},
   "outputs": [
    {
     "name": "stdout",
     "output_type": "stream",
     "text": [
      "INFO: Using the S3 STScI public dataset [astroquery.mast.cloud]\n",
      "INFO: See Request Pricing in https://aws.amazon.com/s3/pricing/ for details [astroquery.mast.cloud]\n",
      "INFO: If you have not configured boto3, follow the instructions here: https://boto3.readthedocs.io/en/latest/guide/configuration.html [astroquery.mast.cloud]\n"
     ]
    },
    {
     "name": "stderr",
     "output_type": "stream",
     "text": [
      "WARNING: Your AWS account will be charged for access to the S3 bucket [astroquery.mast.cloud]\n"
     ]
    },
    {
     "name": "stdout",
     "output_type": "stream",
     "text": [
      "Download Complete\n"
     ]
    }
   ],
   "source": [
    "# retrieve the remaining 166\n",
    "# radio.mast_aws(k2_targets[100:])"
   ]
  },
  {
   "cell_type": "markdown",
   "metadata": {},
   "source": [
    "https://arxiv.org/abs/1810.08835\n",
    "TESS's Sector 2 (Aug 22 - Sep 20, 2018) and K2 Campaign 19 (Sep 7 - Sep 26, 2018). The overlap region was 0.5 sq. deg. We identified 171 K2 targets that fell inside TESS Sector 2 field of view, all of which are observed at 30-minute cadence by both missions. The targets range in brightness in the TESS bandpass (Tmag) from 6.7-18.4, with 93 targets brighter than Tmag=15, and 17 brighter than Tmag=12. This dataset provides the first simultaneous, long-duration, high-precision observations of the same targets from different space-based observatories and presents an excellent opportunity to explore instrumental systematics present in the two telescopes."
   ]
  },
  {
   "cell_type": "code",
   "execution_count": 448,
   "metadata": {},
   "outputs": [],
   "source": [
    "batch_filenames = []\n",
    "for file in k2_target_uris:\n",
    "    batch_filenames.append(os.path.basename(file))"
   ]
  },
  {
   "cell_type": "code",
   "execution_count": 438,
   "metadata": {},
   "outputs": [],
   "source": [
    "targets_files = list(zip(k2_targets, batch_filenames))"
   ]
  },
  {
   "cell_type": "code",
   "execution_count": 439,
   "metadata": {},
   "outputs": [
    {
     "data": {
      "text/plain": [
       "('K2-10', 'ktwo201577035-c01_llc.fits')"
      ]
     },
     "execution_count": 439,
     "metadata": {},
     "output_type": "execute_result"
    }
   ],
   "source": [
    "targets_files[0]"
   ]
  },
  {
   "cell_type": "code",
   "execution_count": 496,
   "metadata": {},
   "outputs": [],
   "source": [
    "target_dict = {}\n",
    "for (target, file) in targets_files:\n",
    "    for uri in k2_target_uris:\n",
    "        target_dict[target] = [file, uri]"
   ]
  },
  {
   "cell_type": "code",
   "execution_count": 497,
   "metadata": {},
   "outputs": [],
   "source": [
    "df_target = pd.DataFrame.from_dict(target_dict, orient='index', columns={'file', 'uri'})"
   ]
  },
  {
   "cell_type": "code",
   "execution_count": 498,
   "metadata": {},
   "outputs": [
    {
     "data": {
      "text/html": [
       "<div>\n",
       "<style scoped>\n",
       "    .dataframe tbody tr th:only-of-type {\n",
       "        vertical-align: middle;\n",
       "    }\n",
       "\n",
       "    .dataframe tbody tr th {\n",
       "        vertical-align: top;\n",
       "    }\n",
       "\n",
       "    .dataframe thead th {\n",
       "        text-align: right;\n",
       "    }\n",
       "</style>\n",
       "<table border=\"1\" class=\"dataframe\">\n",
       "  <thead>\n",
       "    <tr style=\"text-align: right;\">\n",
       "      <th></th>\n",
       "      <th>file</th>\n",
       "      <th>uri</th>\n",
       "    </tr>\n",
       "  </thead>\n",
       "  <tbody>\n",
       "    <tr>\n",
       "      <th>K2-10</th>\n",
       "      <td>ktwo201577035-c01_llc.fits</td>\n",
       "      <td>s3://stpubdata/k2/public/lightcurves/c12/24630...</td>\n",
       "    </tr>\n",
       "    <tr>\n",
       "      <th>K2-100</th>\n",
       "      <td>ktwo211990866-c05_llc.fits</td>\n",
       "      <td>s3://stpubdata/k2/public/lightcurves/c12/24630...</td>\n",
       "    </tr>\n",
       "    <tr>\n",
       "      <th>K2-101</th>\n",
       "      <td>ktwo211913977-c05_llc.fits</td>\n",
       "      <td>s3://stpubdata/k2/public/lightcurves/c12/24630...</td>\n",
       "    </tr>\n",
       "    <tr>\n",
       "      <th>K2-102</th>\n",
       "      <td>ktwo211970147-c05_llc.fits</td>\n",
       "      <td>s3://stpubdata/k2/public/lightcurves/c12/24630...</td>\n",
       "    </tr>\n",
       "    <tr>\n",
       "      <th>K2-104</th>\n",
       "      <td>ktwo211969807-c05_llc.fits</td>\n",
       "      <td>s3://stpubdata/k2/public/lightcurves/c12/24630...</td>\n",
       "    </tr>\n",
       "    <tr>\n",
       "      <th>...</th>\n",
       "      <td>...</td>\n",
       "      <td>...</td>\n",
       "    </tr>\n",
       "    <tr>\n",
       "      <th>K2-97</th>\n",
       "      <td>ktwo211351816-c05_llc.fits</td>\n",
       "      <td>s3://stpubdata/k2/public/lightcurves/c12/24630...</td>\n",
       "    </tr>\n",
       "    <tr>\n",
       "      <th>K2-98</th>\n",
       "      <td>ktwo211391664-c05_llc.fits</td>\n",
       "      <td>s3://stpubdata/k2/public/lightcurves/c12/24630...</td>\n",
       "    </tr>\n",
       "    <tr>\n",
       "      <th>K2-99</th>\n",
       "      <td>ktwo212803289-c06_llc.fits</td>\n",
       "      <td>s3://stpubdata/k2/public/lightcurves/c12/24630...</td>\n",
       "    </tr>\n",
       "    <tr>\n",
       "      <th>K2-1</th>\n",
       "      <td>ktwo206432863-c03_llc.fits</td>\n",
       "      <td>s3://stpubdata/k2/public/lightcurves/c12/24630...</td>\n",
       "    </tr>\n",
       "    <tr>\n",
       "      <th>K2-76</th>\n",
       "      <td>ktwo246375295-c12_llc.fits</td>\n",
       "      <td>s3://stpubdata/k2/public/lightcurves/c12/24630...</td>\n",
       "    </tr>\n",
       "  </tbody>\n",
       "</table>\n",
       "<p>267 rows × 2 columns</p>\n",
       "</div>"
      ],
      "text/plain": [
       "                              file                                                uri\n",
       "K2-10   ktwo201577035-c01_llc.fits  s3://stpubdata/k2/public/lightcurves/c12/24630...\n",
       "K2-100  ktwo211990866-c05_llc.fits  s3://stpubdata/k2/public/lightcurves/c12/24630...\n",
       "K2-101  ktwo211913977-c05_llc.fits  s3://stpubdata/k2/public/lightcurves/c12/24630...\n",
       "K2-102  ktwo211970147-c05_llc.fits  s3://stpubdata/k2/public/lightcurves/c12/24630...\n",
       "K2-104  ktwo211969807-c05_llc.fits  s3://stpubdata/k2/public/lightcurves/c12/24630...\n",
       "...                            ...                                                ...\n",
       "K2-97   ktwo211351816-c05_llc.fits  s3://stpubdata/k2/public/lightcurves/c12/24630...\n",
       "K2-98   ktwo211391664-c05_llc.fits  s3://stpubdata/k2/public/lightcurves/c12/24630...\n",
       "K2-99   ktwo212803289-c06_llc.fits  s3://stpubdata/k2/public/lightcurves/c12/24630...\n",
       "K2-1    ktwo206432863-c03_llc.fits  s3://stpubdata/k2/public/lightcurves/c12/24630...\n",
       "K2-76   ktwo246375295-c12_llc.fits  s3://stpubdata/k2/public/lightcurves/c12/24630...\n",
       "\n",
       "[267 rows x 2 columns]"
      ]
     },
     "execution_count": 498,
     "metadata": {},
     "output_type": "execute_result"
    }
   ],
   "source": [
    "df_target"
   ]
  },
  {
   "cell_type": "code",
   "execution_count": 491,
   "metadata": {},
   "outputs": [],
   "source": [
    "import pickle\n",
    "os.chdir(DATA)\n",
    "df_target.to_pickle(\"k2_target_df.pkl\")"
   ]
  },
  {
   "cell_type": "code",
   "execution_count": 489,
   "metadata": {},
   "outputs": [],
   "source": [
    "os.remove('k2_target_df.pkl')"
   ]
  },
  {
   "cell_type": "code",
   "execution_count": 492,
   "metadata": {},
   "outputs": [],
   "source": [
    "mast_files = os.listdir(MAST)"
   ]
  },
  {
   "cell_type": "code",
   "execution_count": 493,
   "metadata": {},
   "outputs": [
    {
     "data": {
      "text/plain": [
       "'ktwo204890128-c02_llc.fits'"
      ]
     },
     "execution_count": 493,
     "metadata": {},
     "output_type": "execute_result"
    }
   ],
   "source": [
    "mast_files[0]"
   ]
  },
  {
   "cell_type": "code",
   "execution_count": 494,
   "metadata": {},
   "outputs": [
    {
     "data": {
      "text/plain": [
       "267"
      ]
     },
     "execution_count": 494,
     "metadata": {},
     "output_type": "execute_result"
    }
   ],
   "source": [
    "len(mast_files)"
   ]
  },
  {
   "cell_type": "markdown",
   "metadata": {},
   "source": [
    "# Campaign 3"
   ]
  },
  {
   "cell_type": "code",
   "execution_count": 542,
   "metadata": {},
   "outputs": [],
   "source": [
    "os.chdir(MAST)"
   ]
  },
  {
   "cell_type": "code",
   "execution_count": 583,
   "metadata": {},
   "outputs": [],
   "source": [
    "campaign3 = []\n",
    "for (target, file) in targets_files:\n",
    "    if file.split('_')[0].split('-c')[-1] == '03':\n",
    "        campaign3.append(target)"
   ]
  },
  {
   "cell_type": "code",
   "execution_count": 584,
   "metadata": {},
   "outputs": [
    {
     "data": {
      "text/plain": [
       "['K2-116',\n",
       " 'K2-167',\n",
       " 'K2-168',\n",
       " 'K2-169',\n",
       " 'K2-170',\n",
       " 'K2-171',\n",
       " 'K2-172',\n",
       " 'K2-21',\n",
       " 'K2-265',\n",
       " 'K2-28',\n",
       " 'K2-39',\n",
       " 'K2-54',\n",
       " 'K2-55',\n",
       " 'K2-57',\n",
       " 'K2-58',\n",
       " 'K2-59',\n",
       " 'K2-60',\n",
       " 'K2-61',\n",
       " 'K2-62',\n",
       " 'K2-63',\n",
       " 'K2-64',\n",
       " 'K2-65',\n",
       " 'K2-66',\n",
       " 'K2-68',\n",
       " 'K2-69',\n",
       " 'K2-70',\n",
       " 'K2-71',\n",
       " 'K2-72',\n",
       " 'K2-73',\n",
       " 'K2-74',\n",
       " 'K2-75',\n",
       " 'K2-1']"
      ]
     },
     "execution_count": 584,
     "metadata": {},
     "output_type": "execute_result"
    }
   ],
   "source": [
    "campaign3"
   ]
  },
  {
   "cell_type": "code",
   "execution_count": 585,
   "metadata": {},
   "outputs": [
    {
     "data": {
      "text/plain": [
       "32"
      ]
     },
     "execution_count": 585,
     "metadata": {},
     "output_type": "execute_result"
    }
   ],
   "source": [
    "len(campaign3)"
   ]
  },
  {
   "cell_type": "code",
   "execution_count": 586,
   "metadata": {},
   "outputs": [
    {
     "data": {
      "text/plain": [
       "['ktwo206119924-c03_llc.fits',\n",
       " 'ktwo205904628-c03_llc.fits',\n",
       " 'ktwo205950854-c03_llc.fits',\n",
       " 'ktwo206007892-c03_llc.fits',\n",
       " 'ktwo206008091-c03_llc.fits',\n",
       " 'ktwo206049764-c03_llc.fits',\n",
       " 'ktwo206082454-c03_llc.fits',\n",
       " 'ktwo206011691-c03_llc.fits',\n",
       " 'ktwo206011496-c03_llc.fits',\n",
       " 'ktwo206318379-c03_llc.fits',\n",
       " 'ktwo206247743-c03_llc.fits',\n",
       " 'ktwo205916793-c03_llc.fits',\n",
       " 'ktwo205924614-c03_llc.fits',\n",
       " 'ktwo206026136-c03_llc.fits',\n",
       " 'ktwo206026904-c03_llc.fits',\n",
       " 'ktwo206027655-c03_llc.fits',\n",
       " 'ktwo206038483-c03_llc.fits',\n",
       " 'ktwo206044803-c03_llc.fits',\n",
       " 'ktwo206096602-c03_llc.fits',\n",
       " 'ktwo206101302-c03_llc.fits',\n",
       " 'ktwo206125618-c03_llc.fits',\n",
       " 'ktwo206144956-c03_llc.fits',\n",
       " 'ktwo206153219-c03_llc.fits',\n",
       " 'ktwo206159027-c03_llc.fits',\n",
       " 'ktwo206162305-c03_llc.fits',\n",
       " 'ktwo206181769-c03_llc.fits',\n",
       " 'ktwo206192813-c03_llc.fits',\n",
       " 'ktwo206209135-c03_llc.fits',\n",
       " 'ktwo206245553-c03_llc.fits',\n",
       " 'ktwo206268299-c03_llc.fits',\n",
       " 'ktwo206348688-c03_llc.fits',\n",
       " 'ktwo206432863-c03_llc.fits']"
      ]
     },
     "execution_count": 586,
     "metadata": {},
     "output_type": "execute_result"
    }
   ],
   "source": [
    "c3_files = []\n",
    "for target in campaign3:\n",
    "    c3_files.append(df_target['file'].loc[target])\n",
    "c3_files"
   ]
  },
  {
   "cell_type": "code",
   "execution_count": 537,
   "metadata": {},
   "outputs": [],
   "source": [
    "k2_1 = df_target['file'].loc['K2-1']"
   ]
  },
  {
   "cell_type": "code",
   "execution_count": 540,
   "metadata": {},
   "outputs": [
    {
     "data": {
      "text/plain": [
       "'ktwo206432863-c03_llc.fits'"
      ]
     },
     "execution_count": 540,
     "metadata": {},
     "output_type": "execute_result"
    }
   ],
   "source": [
    "k2_1"
   ]
  },
  {
   "cell_type": "code",
   "execution_count": 538,
   "metadata": {},
   "outputs": [],
   "source": [
    "k2_21 = df_target['file'].loc['K2-21']"
   ]
  },
  {
   "cell_type": "code",
   "execution_count": 539,
   "metadata": {},
   "outputs": [
    {
     "data": {
      "text/plain": [
       "'ktwo206011691-c03_llc.fits'"
      ]
     },
     "execution_count": 539,
     "metadata": {},
     "output_type": "execute_result"
    }
   ],
   "source": [
    "k2_21"
   ]
  },
  {
   "cell_type": "markdown",
   "metadata": {},
   "source": [
    "# Light Curves"
   ]
  },
  {
   "cell_type": "code",
   "execution_count": 543,
   "metadata": {},
   "outputs": [
    {
     "name": "stdout",
     "output_type": "stream",
     "text": [
      "Filename: ktwo206432863-c03_llc.fits\n",
      "No.    Name      Ver    Type      Cards   Dimensions   Format\n",
      "  0  PRIMARY       1 PrimaryHDU      54   ()      \n",
      "  1  LIGHTCURVE    1 BinTableHDU    155   3386R x 20C   [D, E, J, E, E, E, E, E, E, J, D, E, D, E, D, E, D, E, E, E]   \n",
      "  2  APERTURE      1 ImageHDU        48   (13, 12)   int32   \n"
     ]
    }
   ],
   "source": [
    "#fits_file = 'ktwo204890128-c02_llc.fits'\n",
    "#fits_file = 'ktwo246067459-c12_llc.fits'\n",
    "fits_file = k2_1\n",
    "# hdul = fits.open(fits_image_filename)\n",
    "# hdul.info()\n",
    "\n",
    "with fits.open(fits_file) as hdul:\n",
    "    hdul.info()"
   ]
  },
  {
   "cell_type": "code",
   "execution_count": 544,
   "metadata": {},
   "outputs": [
    {
     "data": {
      "text/plain": [
       "ColDefs(\n",
       "    name = 'TIME'; format = 'D'; unit = 'BJD - 2454833'; disp = 'D14.7'\n",
       "    name = 'TIMECORR'; format = 'E'; unit = 'd'; disp = 'E13.6'\n",
       "    name = 'CADENCENO'; format = 'J'; disp = 'I10'\n",
       "    name = 'SAP_FLUX'; format = 'E'; unit = 'e-/s'; disp = 'E14.7'\n",
       "    name = 'SAP_FLUX_ERR'; format = 'E'; unit = 'e-/s'; disp = 'E14.7'\n",
       "    name = 'SAP_BKG'; format = 'E'; unit = 'e-/s'; disp = 'E14.7'\n",
       "    name = 'SAP_BKG_ERR'; format = 'E'; unit = 'e-/s'; disp = 'E14.7'\n",
       "    name = 'PDCSAP_FLUX'; format = 'E'; unit = 'e-/s'; disp = 'E14.7'\n",
       "    name = 'PDCSAP_FLUX_ERR'; format = 'E'; unit = 'e-/s'; disp = 'E14.7'\n",
       "    name = 'SAP_QUALITY'; format = 'J'; disp = 'B16.16'\n",
       "    name = 'PSF_CENTR1'; format = 'D'; unit = 'pixel'; disp = 'F10.5'\n",
       "    name = 'PSF_CENTR1_ERR'; format = 'E'; unit = 'pixel'; disp = 'E14.7'\n",
       "    name = 'PSF_CENTR2'; format = 'D'; unit = 'pixel'; disp = 'F10.5'\n",
       "    name = 'PSF_CENTR2_ERR'; format = 'E'; unit = 'pixel'; disp = 'E14.7'\n",
       "    name = 'MOM_CENTR1'; format = 'D'; unit = 'pixel'; disp = 'F10.5'\n",
       "    name = 'MOM_CENTR1_ERR'; format = 'E'; unit = 'pixel'; disp = 'E14.7'\n",
       "    name = 'MOM_CENTR2'; format = 'D'; unit = 'pixel'; disp = 'F10.5'\n",
       "    name = 'MOM_CENTR2_ERR'; format = 'E'; unit = 'pixel'; disp = 'E14.7'\n",
       "    name = 'POS_CORR1'; format = 'E'; unit = 'pixels'; disp = 'E14.7'\n",
       "    name = 'POS_CORR2'; format = 'E'; unit = 'pixels'; disp = 'E14.7'\n",
       ")"
      ]
     },
     "execution_count": 544,
     "metadata": {},
     "output_type": "execute_result"
    }
   ],
   "source": [
    "hdul[1].columns"
   ]
  },
  {
   "cell_type": "code",
   "execution_count": 545,
   "metadata": {},
   "outputs": [],
   "source": [
    "from astropy.timeseries import TimeSeries\n",
    "ts = TimeSeries.read(fits_file, format='kepler.fits') "
   ]
  },
  {
   "cell_type": "code",
   "execution_count": 546,
   "metadata": {},
   "outputs": [
    {
     "data": {
      "text/html": [
       "<i>TimeSeries length=3379</i>\n",
       "<table id=\"table140363034268432\" class=\"table-striped table-bordered table-condensed\">\n",
       "<thead><tr><th>time</th><th>timecorr</th><th>cadenceno</th><th>sap_flux</th><th>sap_flux_err</th><th>sap_bkg</th><th>sap_bkg_err</th><th>pdcsap_flux</th><th>pdcsap_flux_err</th><th>sap_quality</th><th>psf_centr1</th><th>psf_centr1_err</th><th>psf_centr2</th><th>psf_centr2_err</th><th>mom_centr1</th><th>mom_centr1_err</th><th>mom_centr2</th><th>mom_centr2_err</th><th>pos_corr1</th><th>pos_corr2</th></tr></thead>\n",
       "<thead><tr><th></th><th>d</th><th></th><th>electron / s</th><th>electron / s</th><th>electron / s</th><th>electron / s</th><th>electron / s</th><th>electron / s</th><th></th><th>pix</th><th>pix</th><th>pix</th><th>pix</th><th>pix</th><th>pix</th><th>pix</th><th>pix</th><th>pix</th><th>pix</th></tr></thead>\n",
       "<thead><tr><th>object</th><th>float32</th><th>int32</th><th>float32</th><th>float32</th><th>float32</th><th>float32</th><th>float32</th><th>float32</th><th>int32</th><th>float64</th><th>float32</th><th>float64</th><th>float32</th><th>float64</th><th>float32</th><th>float64</th><th>float32</th><th>float32</th><th>float32</th></tr></thead>\n",
       "<tr><td>2014-11-15T14:28:43.504</td><td>5.500672e-03</td><td>99599</td><td>7.9768555e+04</td><td>8.3463850e+00</td><td>3.2380928e+03</td><td>1.7390656e+00</td><td>nan</td><td>nan</td><td>10000000000000000000</td><td>799.48240</td><td>4.4634020e-05</td><td>153.42342</td><td>8.5304688e-05</td><td>799.49988</td><td>1.2932622e-04</td><td>153.44015</td><td>1.3487531e-04</td><td>2.2890513e-01</td><td>1.2846431e-01</td></tr>\n",
       "<tr><td>2014-11-15T14:58:08.869</td><td>5.499438e-03</td><td>99600</td><td>7.9771562e+04</td><td>8.3496199e+00</td><td>3.2398108e+03</td><td>1.7431647e+00</td><td>8.3294992e+04</td><td>8.6293488e+00</td><td>0</td><td>799.47295</td><td>4.5078839e-05</td><td>153.42841</td><td>8.5176813e-05</td><td>799.48929</td><td>1.2928569e-04</td><td>153.44470</td><td>1.3495611e-04</td><td>2.1829958e-01</td><td>1.3245548e-01</td></tr>\n",
       "<tr><td>2014-11-15T15:27:34.216</td><td>5.498203e-03</td><td>99601</td><td>7.9763500e+04</td><td>8.3481474e+00</td><td>3.2418232e+03</td><td>1.7391915e+00</td><td>8.3271242e+04</td><td>8.6357679e+00</td><td>0</td><td>799.46613</td><td>4.5598637e-05</td><td>153.42997</td><td>8.5196341e-05</td><td>799.48179</td><td>1.2925289e-04</td><td>153.44645</td><td>1.3501516e-04</td><td>2.1089090e-01</td><td>1.3368435e-01</td></tr>\n",
       "<tr><td>2014-11-15T15:56:59.581</td><td>5.496969e-03</td><td>99602</td><td>7.9804828e+04</td><td>8.3500891e+00</td><td>3.2373269e+03</td><td>1.7485135e+00</td><td>8.3339773e+04</td><td>8.6351480e+00</td><td>0</td><td>799.45315</td><td>4.6974477e-05</td><td>153.43976</td><td>8.3868639e-05</td><td>799.46677</td><td>1.2911676e-04</td><td>153.45467</td><td>1.3504918e-04</td><td>1.9658583e-01</td><td>1.4168289e-01</td></tr>\n",
       "<tr><td>2014-11-15T16:26:24.938</td><td>5.495733e-03</td><td>99603</td><td>7.9794445e+04</td><td>8.3473330e+00</td><td>3.2444006e+03</td><td>1.7434516e+00</td><td>8.3292219e+04</td><td>8.6420383e+00</td><td>0</td><td>799.44336</td><td>4.8108224e-05</td><td>153.44258</td><td>8.3144652e-05</td><td>799.45645</td><td>1.2908764e-04</td><td>153.45743</td><td>1.3513883e-04</td><td>1.8613765e-01</td><td>1.4411046e-01</td></tr>\n",
       "<tr><td>2014-11-15T16:55:50.285</td><td>5.494496e-03</td><td>99604</td><td>7.9797664e+04</td><td>8.3486977e+00</td><td>3.2384539e+03</td><td>1.7409093e+00</td><td>8.3278039e+04</td><td>8.6445456e+00</td><td>0</td><td>799.43085</td><td>4.9026043e-05</td><td>153.44986</td><td>8.1265978e-05</td><td>799.44256</td><td>1.2897524e-04</td><td>153.46384</td><td>1.3524739e-04</td><td>1.7281073e-01</td><td>1.5053929e-01</td></tr>\n",
       "<tr><td>2014-11-15T17:25:15.650</td><td>5.493259e-03</td><td>99605</td><td>7.9809336e+04</td><td>8.3465929e+00</td><td>3.2388191e+03</td><td>1.7380608e+00</td><td>8.3284953e+04</td><td>8.6406479e+00</td><td>0</td><td>799.41543</td><td>4.9929815e-05</td><td>153.45852</td><td>7.9556099e-05</td><td>799.42570</td><td>1.2884363e-04</td><td>153.47157</td><td>1.3533125e-04</td><td>1.5609671e-01</td><td>1.5769854e-01</td></tr>\n",
       "<tr><td>2014-11-15T17:54:41.006</td><td>5.492021e-03</td><td>99606</td><td>7.9821688e+04</td><td>8.3517170e+00</td><td>3.2359521e+03</td><td>1.7459368e+00</td><td>8.3297836e+04</td><td>8.6503124e+00</td><td>0</td><td>799.39811</td><td>5.1180203e-05</td><td>153.47006</td><td>7.9128426e-05</td><td>799.40694</td><td>1.2872764e-04</td><td>153.48209</td><td>1.3541868e-04</td><td>1.3717914e-01</td><td>1.6877685e-01</td></tr>\n",
       "<tr><td>2014-11-15T18:24:06.362</td><td>5.490783e-03</td><td>99607</td><td>7.9834766e+04</td><td>8.3512859e+00</td><td>3.2404104e+03</td><td>1.7453828e+00</td><td>8.3277664e+04</td><td>8.6571751e+00</td><td>0</td><td>799.38144</td><td>5.2239433e-05</td><td>153.48132</td><td>8.0222053e-05</td><td>799.38952</td><td>1.2860882e-04</td><td>153.49268</td><td>1.3550014e-04</td><td>1.1873143e-01</td><td>1.7931503e-01</td></tr>\n",
       "<tr><td>...</td><td>...</td><td>...</td><td>...</td><td>...</td><td>...</td><td>...</td><td>...</td><td>...</td><td>...</td><td>...</td><td>...</td><td>...</td><td>...</td><td>...</td><td>...</td><td>...</td><td>...</td><td>...</td><td>...</td></tr>\n",
       "<tr><td>2015-01-23T13:56:29.420</td><td>-7.311547e-04</td><td>102975</td><td>8.1451945e+04</td><td>8.5843725e+00</td><td>6.5945903e+03</td><td>1.8744266e+00</td><td>8.3734477e+04</td><td>8.9509134e+00</td><td>0</td><td>798.95439</td><td>6.4965985e-05</td><td>153.74364</td><td>5.4104574e-05</td><td>798.98463</td><td>1.3686583e-04</td><td>153.72955</td><td>1.4233054e-04</td><td>-3.1536683e-01</td><td>4.4203687e-01</td></tr>\n",
       "<tr><td>2015-01-23T14:25:54.710</td><td>-7.331625e-04</td><td>102976</td><td>8.1367195e+04</td><td>8.5821400e+00</td><td>6.5953950e+03</td><td>1.8790495e+00</td><td>8.3733758e+04</td><td>8.9539289e+00</td><td>0</td><td>798.93039</td><td>6.3519823e-05</td><td>153.76585</td><td>5.2790867e-05</td><td>798.96247</td><td>1.3739831e-04</td><td>153.75406</td><td>1.4248923e-04</td><td>-3.4021401e-01</td><td>4.6295404e-01</td></tr>\n",
       "<tr><td>2015-01-23T14:55:19.991</td><td>-7.351701e-04</td><td>102977</td><td>8.1234359e+04</td><td>8.5755777e+00</td><td>6.6034595e+03</td><td>1.8746893e+00</td><td>8.3667500e+04</td><td>8.9376040e+00</td><td>0</td><td>798.89148</td><td>6.2108229e-05</td><td>153.80037</td><td>4.7861246e-05</td><td>798.92647</td><td>1.3830217e-04</td><td>153.79444</td><td>1.4267657e-04</td><td>-3.7978861e-01</td><td>4.9460879e-01</td></tr>\n",
       "<tr><td>2015-01-23T15:24:45.289</td><td>-7.371776e-04</td><td>102978</td><td>8.1160000e+04</td><td>8.5754442e+00</td><td>6.6013843e+03</td><td>1.8785025e+00</td><td>8.3680625e+04</td><td>8.9423523e+00</td><td>0</td><td>798.87481</td><td>6.0615250e-05</td><td>153.81480</td><td>4.6029814e-05</td><td>798.91021</td><td>1.3871137e-04</td><td>153.81239</td><td>1.4276624e-04</td><td>-3.9659089e-01</td><td>5.0854379e-01</td></tr>\n",
       "<tr><td>2015-01-23T15:54:10.578</td><td>-7.391847e-04</td><td>102979</td><td>8.0986961e+04</td><td>8.5673990e+00</td><td>6.6005239e+03</td><td>1.8740786e+00</td><td>8.3643086e+04</td><td>8.9243259e+00</td><td>0</td><td>798.83707</td><td>5.9576858e-05</td><td>153.84251</td><td>4.5501478e-05</td><td>798.87426</td><td>1.3976013e-04</td><td>153.84860</td><td>1.4298623e-04</td><td>-4.3207324e-01</td><td>5.3553307e-01</td></tr>\n",
       "<tr><td>2015-01-23T16:23:35.868</td><td>-7.411918e-04</td><td>102980</td><td>8.1850203e+04</td><td>8.5921793e+00</td><td>6.6004141e+03</td><td>1.8608631e+00</td><td>nan</td><td>nan</td><td>100000000000000000000</td><td>799.24106</td><td>7.2600436e-05</td><td>153.53454</td><td>7.9263940e-05</td><td>799.21018</td><td>1.3477399e-04</td><td>153.51584</td><td>1.4159473e-04</td><td>-2.9378818e-02</td><td>2.1239820e-01</td></tr>\n",
       "<tr><td>2015-01-23T16:53:01.158</td><td>-7.431986e-04</td><td>102981</td><td>8.1988961e+04</td><td>8.5976582e+00</td><td>6.6045449e+03</td><td>1.8646361e+00</td><td>8.3746320e+04</td><td>8.9754810e+00</td><td>0</td><td>799.25772</td><td>6.7754278e-05</td><td>153.50308</td><td>8.0810030e-05</td><td>799.23791</td><td>1.3389325e-04</td><td>153.48352</td><td>1.4122487e-04</td><td>-3.9327051e-03</td><td>1.9855480e-01</td></tr>\n",
       "<tr><td>2015-01-23T17:22:26.447</td><td>-7.452052e-04</td><td>102982</td><td>8.1995891e+04</td><td>8.5985775e+00</td><td>6.6073877e+03</td><td>1.8666251e+00</td><td>8.3735023e+04</td><td>8.9771919e+00</td><td>0</td><td>799.21743</td><td>7.1362017e-05</td><td>153.53625</td><td>7.8026176e-05</td><td>799.20295</td><td>1.3385780e-04</td><td>153.51224</td><td>1.4128411e-04</td><td>-4.6487298e-02</td><td>2.3268215e-01</td></tr>\n",
       "<tr><td>2015-01-23T17:51:51.737</td><td>-7.472116e-04</td><td>102983</td><td>8.1980477e+04</td><td>8.6009111e+00</td><td>6.6091343e+03</td><td>1.8717710e+00</td><td>8.3774250e+04</td><td>8.9818926e+00</td><td>0</td><td>799.19603</td><td>7.3201903e-05</td><td>153.55644</td><td>7.4914104e-05</td><td>799.18497</td><td>1.3392160e-04</td><td>153.52975</td><td>1.4132641e-04</td><td>-6.9003597e-02</td><td>2.5276443e-01</td></tr>\n",
       "<tr><td>2015-01-23T18:21:17.027</td><td>-7.492178e-04</td><td>102984</td><td>8.1930492e+04</td><td>8.5970087e+00</td><td>6.6122642e+03</td><td>1.8627362e+00</td><td>8.3796383e+04</td><td>8.9794760e+00</td><td>10000000000000000000</td><td>799.15968</td><td>7.6776239e-05</td><td>153.58801</td><td>7.0668219e-05</td><td>799.15463</td><td>1.3411677e-04</td><td>153.55721</td><td>1.4146262e-04</td><td>-1.0721472e-01</td><td>2.8182840e-01</td></tr>\n",
       "</table>"
      ],
      "text/plain": [
       "<TimeSeries length=3379>\n",
       "          time             timecorr   ...   pos_corr1      pos_corr2   \n",
       "                              d       ...      pix            pix      \n",
       "         object            float32    ...    float32        float32    \n",
       "----------------------- ------------- ... -------------- --------------\n",
       "2014-11-15T14:28:43.504  5.500672e-03 ...  2.2890513e-01  1.2846431e-01\n",
       "2014-11-15T14:58:08.869  5.499438e-03 ...  2.1829958e-01  1.3245548e-01\n",
       "2014-11-15T15:27:34.216  5.498203e-03 ...  2.1089090e-01  1.3368435e-01\n",
       "2014-11-15T15:56:59.581  5.496969e-03 ...  1.9658583e-01  1.4168289e-01\n",
       "2014-11-15T16:26:24.938  5.495733e-03 ...  1.8613765e-01  1.4411046e-01\n",
       "2014-11-15T16:55:50.285  5.494496e-03 ...  1.7281073e-01  1.5053929e-01\n",
       "2014-11-15T17:25:15.650  5.493259e-03 ...  1.5609671e-01  1.5769854e-01\n",
       "2014-11-15T17:54:41.006  5.492021e-03 ...  1.3717914e-01  1.6877685e-01\n",
       "2014-11-15T18:24:06.362  5.490783e-03 ...  1.1873143e-01  1.7931503e-01\n",
       "                    ...           ... ...            ...            ...\n",
       "2015-01-23T13:56:29.420 -7.311547e-04 ... -3.1536683e-01  4.4203687e-01\n",
       "2015-01-23T14:25:54.710 -7.331625e-04 ... -3.4021401e-01  4.6295404e-01\n",
       "2015-01-23T14:55:19.991 -7.351701e-04 ... -3.7978861e-01  4.9460879e-01\n",
       "2015-01-23T15:24:45.289 -7.371776e-04 ... -3.9659089e-01  5.0854379e-01\n",
       "2015-01-23T15:54:10.578 -7.391847e-04 ... -4.3207324e-01  5.3553307e-01\n",
       "2015-01-23T16:23:35.868 -7.411918e-04 ... -2.9378818e-02  2.1239820e-01\n",
       "2015-01-23T16:53:01.158 -7.431986e-04 ... -3.9327051e-03  1.9855480e-01\n",
       "2015-01-23T17:22:26.447 -7.452052e-04 ... -4.6487298e-02  2.3268215e-01\n",
       "2015-01-23T17:51:51.737 -7.472116e-04 ... -6.9003597e-02  2.5276443e-01\n",
       "2015-01-23T18:21:17.027 -7.492178e-04 ... -1.0721472e-01  2.8182840e-01"
      ]
     },
     "execution_count": 546,
     "metadata": {},
     "output_type": "execute_result"
    }
   ],
   "source": [
    "ts"
   ]
  },
  {
   "cell_type": "code",
   "execution_count": 547,
   "metadata": {},
   "outputs": [
    {
     "data": {
      "text/html": [
       "<i>TimeSeries length=3379</i>\n",
       "<table id=\"table140362093157392\" class=\"table-striped table-bordered table-condensed\">\n",
       "<thead><tr><th>time</th><th>sap_flux</th><th>sap_flux_err</th></tr></thead>\n",
       "<thead><tr><th></th><th>electron / s</th><th>electron / s</th></tr></thead>\n",
       "<thead><tr><th>object</th><th>float32</th><th>float32</th></tr></thead>\n",
       "<tr><td>2014-11-15T14:28:43.504</td><td>7.9768555e+04</td><td>8.3463850e+00</td></tr>\n",
       "<tr><td>2014-11-15T14:58:08.869</td><td>7.9771562e+04</td><td>8.3496199e+00</td></tr>\n",
       "<tr><td>2014-11-15T15:27:34.216</td><td>7.9763500e+04</td><td>8.3481474e+00</td></tr>\n",
       "<tr><td>2014-11-15T15:56:59.581</td><td>7.9804828e+04</td><td>8.3500891e+00</td></tr>\n",
       "<tr><td>2014-11-15T16:26:24.938</td><td>7.9794445e+04</td><td>8.3473330e+00</td></tr>\n",
       "<tr><td>2014-11-15T16:55:50.285</td><td>7.9797664e+04</td><td>8.3486977e+00</td></tr>\n",
       "<tr><td>2014-11-15T17:25:15.650</td><td>7.9809336e+04</td><td>8.3465929e+00</td></tr>\n",
       "<tr><td>2014-11-15T17:54:41.006</td><td>7.9821688e+04</td><td>8.3517170e+00</td></tr>\n",
       "<tr><td>2014-11-15T18:24:06.362</td><td>7.9834766e+04</td><td>8.3512859e+00</td></tr>\n",
       "<tr><td>...</td><td>...</td><td>...</td></tr>\n",
       "<tr><td>2015-01-23T13:56:29.420</td><td>8.1451945e+04</td><td>8.5843725e+00</td></tr>\n",
       "<tr><td>2015-01-23T14:25:54.710</td><td>8.1367195e+04</td><td>8.5821400e+00</td></tr>\n",
       "<tr><td>2015-01-23T14:55:19.991</td><td>8.1234359e+04</td><td>8.5755777e+00</td></tr>\n",
       "<tr><td>2015-01-23T15:24:45.289</td><td>8.1160000e+04</td><td>8.5754442e+00</td></tr>\n",
       "<tr><td>2015-01-23T15:54:10.578</td><td>8.0986961e+04</td><td>8.5673990e+00</td></tr>\n",
       "<tr><td>2015-01-23T16:23:35.868</td><td>8.1850203e+04</td><td>8.5921793e+00</td></tr>\n",
       "<tr><td>2015-01-23T16:53:01.158</td><td>8.1988961e+04</td><td>8.5976582e+00</td></tr>\n",
       "<tr><td>2015-01-23T17:22:26.447</td><td>8.1995891e+04</td><td>8.5985775e+00</td></tr>\n",
       "<tr><td>2015-01-23T17:51:51.737</td><td>8.1980477e+04</td><td>8.6009111e+00</td></tr>\n",
       "<tr><td>2015-01-23T18:21:17.027</td><td>8.1930492e+04</td><td>8.5970087e+00</td></tr>\n",
       "</table>"
      ],
      "text/plain": [
       "<TimeSeries length=3379>\n",
       "          time             sap_flux     sap_flux_err \n",
       "                         electron / s   electron / s \n",
       "         object            float32        float32    \n",
       "----------------------- -------------- --------------\n",
       "2014-11-15T14:28:43.504  7.9768555e+04  8.3463850e+00\n",
       "2014-11-15T14:58:08.869  7.9771562e+04  8.3496199e+00\n",
       "2014-11-15T15:27:34.216  7.9763500e+04  8.3481474e+00\n",
       "2014-11-15T15:56:59.581  7.9804828e+04  8.3500891e+00\n",
       "2014-11-15T16:26:24.938  7.9794445e+04  8.3473330e+00\n",
       "2014-11-15T16:55:50.285  7.9797664e+04  8.3486977e+00\n",
       "2014-11-15T17:25:15.650  7.9809336e+04  8.3465929e+00\n",
       "2014-11-15T17:54:41.006  7.9821688e+04  8.3517170e+00\n",
       "2014-11-15T18:24:06.362  7.9834766e+04  8.3512859e+00\n",
       "                    ...            ...            ...\n",
       "2015-01-23T13:56:29.420  8.1451945e+04  8.5843725e+00\n",
       "2015-01-23T14:25:54.710  8.1367195e+04  8.5821400e+00\n",
       "2015-01-23T14:55:19.991  8.1234359e+04  8.5755777e+00\n",
       "2015-01-23T15:24:45.289  8.1160000e+04  8.5754442e+00\n",
       "2015-01-23T15:54:10.578  8.0986961e+04  8.5673990e+00\n",
       "2015-01-23T16:23:35.868  8.1850203e+04  8.5921793e+00\n",
       "2015-01-23T16:53:01.158  8.1988961e+04  8.5976582e+00\n",
       "2015-01-23T17:22:26.447  8.1995891e+04  8.5985775e+00\n",
       "2015-01-23T17:51:51.737  8.1980477e+04  8.6009111e+00\n",
       "2015-01-23T18:21:17.027  8.1930492e+04  8.5970087e+00"
      ]
     },
     "execution_count": 547,
     "metadata": {},
     "output_type": "execute_result"
    }
   ],
   "source": [
    "ts['time', 'sap_flux', 'sap_flux_err']"
   ]
  },
  {
   "cell_type": "code",
   "execution_count": 548,
   "metadata": {},
   "outputs": [
    {
     "data": {
      "text/plain": [
       "Text(0, 0.5, 'SAP Flux (e-/s)')"
      ]
     },
     "execution_count": 548,
     "metadata": {},
     "output_type": "execute_result"
    },
    {
     "data": {
      "image/png": "[encoded data removed]",
      "text/plain": [
       "<Figure size 1080x648 with 1 Axes>"
      ]
     },
     "metadata": {},
     "output_type": "display_data"
    }
   ],
   "source": [
    "fig = plt.figure(figsize=(15,9))\n",
    "plt.plot(ts.time.jd, ts['sap_flux'], 'k.', markersize=1)\n",
    "plt.xlabel('Julian Date')\n",
    "plt.ylabel('SAP Flux (e-/s)')"
   ]
  },
  {
   "cell_type": "markdown",
   "metadata": {},
   "source": [
    "## Box Least Squares"
   ]
  },
  {
   "cell_type": "code",
   "execution_count": 549,
   "metadata": {},
   "outputs": [],
   "source": [
    "# use box least squares to estimate period\n",
    "from astropy import units as u\n",
    "from astropy.timeseries import BoxLeastSquares\n",
    "periodogram = BoxLeastSquares.from_timeseries(ts, 'sap_flux','sap_flux_err')"
   ]
  },
  {
   "cell_type": "code",
   "execution_count": 550,
   "metadata": {},
   "outputs": [],
   "source": [
    "results = periodogram.autopower(0.2 * u.day)  \n",
    "best = np.argmax(results.power)  \n",
    "period = results.period[best] \n",
    "duration = results.duration[best]\n",
    "transit_time = results.transit_time[best]  "
   ]
  },
  {
   "cell_type": "code",
   "execution_count": 551,
   "metadata": {},
   "outputs": [
    {
     "name": "stdout",
     "output_type": "stream",
     "text": [
      "period: 28.87 d\n",
      "duration: 0.2 d\n",
      "transit: 2014-11-29T05:21:31.504\n"
     ]
    }
   ],
   "source": [
    "# peak statistics\n",
    "print(f'period: {np.round(period, 3)}')\n",
    "print(f'duration: {duration}')\n",
    "print(f'transit: {transit_time}')"
   ]
  },
  {
   "cell_type": "code",
   "execution_count": 552,
   "metadata": {},
   "outputs": [
    {
     "name": "stdout",
     "output_type": "stream",
     "text": [
      "transit time (JD): 2456991.0\n",
      "transit time (MJD): 56990.0\n"
     ]
    }
   ],
   "source": [
    "print(f'transit time (JD): {np.round(transit_time.jd)}')\n",
    "print(f'transit time (MJD): {np.round(transit_time.mjd)}')"
   ]
  },
  {
   "cell_type": "code",
   "execution_count": 553,
   "metadata": {},
   "outputs": [],
   "source": [
    "# fold the time series using the period \n",
    "ts_folded = ts.fold(period=period, epoch_time=transit_time)"
   ]
  },
  {
   "cell_type": "code",
   "execution_count": 554,
   "metadata": {},
   "outputs": [
    {
     "data": {
      "text/plain": [
       "Text(0, 0.5, 'SAP Flux (e-/s)')"
      ]
     },
     "execution_count": 554,
     "metadata": {},
     "output_type": "execute_result"
    },
    {
     "data": {
      "image/png": "[encoded data removed]",
      "text/plain": [
       "<Figure size 1080x648 with 1 Axes>"
      ]
     },
     "metadata": {},
     "output_type": "display_data"
    }
   ],
   "source": [
    "fig = plt.figure(figsize=(15,9))\n",
    "plt.plot(ts_folded.time.jd, ts_folded['sap_flux'], 'k.', markersize=1)\n",
    "plt.xlabel('Time (days)')\n",
    "plt.ylabel('SAP Flux (e-/s)')"
   ]
  },
  {
   "cell_type": "code",
   "execution_count": 555,
   "metadata": {},
   "outputs": [],
   "source": [
    "#normalize the flux by sigma-clipping the data to determine the baseline flux:\n",
    "from astropy.stats import sigma_clipped_stats\n",
    "mean, median, stddev = sigma_clipped_stats(ts_folded['sap_flux'])  \n",
    "ts_folded['sap_flux_norm'] = ts_folded['sap_flux'] / median  "
   ]
  },
  {
   "cell_type": "code",
   "execution_count": 556,
   "metadata": {},
   "outputs": [
    {
     "data": {
      "text/html": [
       "<i>BinnedTimeSeries length=962</i>\n",
       "<table id=\"table140361964037776\" class=\"table-striped table-bordered table-condensed\">\n",
       "<thead><tr><th>time_bin_start</th><th>time_bin_size</th><th>timecorr</th><th>cadenceno</th><th>sap_flux</th><th>sap_flux_err</th><th>sap_bkg</th><th>sap_bkg_err</th><th>pdcsap_flux</th><th>pdcsap_flux_err</th><th>sap_quality</th><th>psf_centr1</th><th>psf_centr1_err</th><th>psf_centr2</th><th>psf_centr2_err</th><th>mom_centr1</th><th>mom_centr1_err</th><th>mom_centr2</th><th>mom_centr2_err</th><th>pos_corr1</th><th>pos_corr2</th><th>sap_flux_norm</th></tr></thead>\n",
       "<thead><tr><th></th><th>s</th><th>d</th><th></th><th>electron / s</th><th>electron / s</th><th>electron / s</th><th>electron / s</th><th>electron / s</th><th>electron / s</th><th></th><th>pix</th><th>pix</th><th>pix</th><th>pix</th><th>pix</th><th>pix</th><th>pix</th><th>pix</th><th>pix</th><th>pix</th><th></th></tr></thead>\n",
       "<thead><tr><th>object</th><th>float64</th><th>float64</th><th>int32</th><th>float64</th><th>float64</th><th>float64</th><th>float64</th><th>float64</th><th>float64</th><th>int32</th><th>float64</th><th>float64</th><th>float64</th><th>float64</th><th>float64</th><th>float64</th><th>float64</th><th>float64</th><th>float64</th><th>float64</th><th>float64</th></tr></thead>\n",
       "<tr><td>-14.417320570818971</td><td>2592.0000000000023</td><td>0.0019018996972590685</td><td>101680</td><td>79603.65625</td><td>8.397594451904297</td><td>4435.31689453125</td><td>1.773240089416504</td><td>83346.28125</td><td>8.792403221130371</td><td>0</td><td>799.3709373047595</td><td>6.116450094850734e-05</td><td>153.2776179194962</td><td>7.070032734191045e-05</td><td>799.4017262603634</td><td>0.00013186455180402845</td><td>153.32269273569386</td><td>0.00013967958511784673</td><td>0.10486967861652374</td><td>-0.01996821165084839</td><td>1.0039499998092651</td></tr>\n",
       "<tr><td>-14.387320570818972</td><td>2591.9999999999977</td><td>0.0018989373929798603</td><td>101681</td><td>79326.28125</td><td>8.38899040222168</td><td>4436.1796875</td><td>1.7791523933410645</td><td>83340.921875</td><td>8.78489875793457</td><td>0</td><td>799.36329113853</td><td>6.325294089037925e-05</td><td>153.28520538993195</td><td>6.744185520801693e-05</td><td>799.4016302961022</td><td>0.00013227370800450444</td><td>153.32769718368695</td><td>0.0001400955079589039</td><td>0.09658189117908478</td><td>-0.012889780104160309</td><td>1.0004518032073975</td></tr>\n",
       "<tr><td>-14.35732057081897</td><td>2591.9999999999977</td><td>0.0018959748558700085</td><td>101683</td><td>80527.34375</td><td>8.434674263000488</td><td>4437.6259765625</td><td>1.7819409370422363</td><td>83328.1484375</td><td>8.852641105651855</td><td>262144</td><td>799.1605844378848</td><td>7.229168841149658e-05</td><td>153.4599171287</td><td>8.021256508072838e-05</td><td>799.1846205464725</td><td>0.00013087058323435485</td><td>153.47820727787942</td><td>0.00013859062164556235</td><td>-0.12410431355237961</td><td>0.15793728828430176</td><td>1.0155994892120361</td></tr>\n",
       "<tr><td>-14.327320570818971</td><td>2592.0000000000023</td><td>0.0018930119695141912</td><td>101684</td><td>80528.015625</td><td>8.434246063232422</td><td>4437.96435546875</td><td>1.7836132049560547</td><td>83348.5</td><td>8.829499244689941</td><td>0</td><td>799.1346123510231</td><td>6.904549081809819e-05</td><td>153.474114731628</td><td>7.859259494580328e-05</td><td>799.165048083795</td><td>0.00013116704940330237</td><td>153.49601670543046</td><td>0.00013859954196959734</td><td>-0.14473961293697357</td><td>0.17407307028770447</td><td>1.0156080722808838</td></tr>\n",
       "<tr><td>-14.297320570818972</td><td>2592.0000000000023</td><td>0.0018900487339124084</td><td>101686</td><td>80274.84375</td><td>8.424860000610352</td><td>4438.27783203125</td><td>1.7771204710006714</td><td>83366.7890625</td><td>8.792025566101074</td><td>262144</td><td>799.39939662403</td><td>5.5372533097397536e-05</td><td>153.27156664373098</td><td>8.415411866735667e-05</td><td>799.4038819470255</td><td>0.00013160193338990211</td><td>153.32311673920583</td><td>0.00013891364505980164</td><td>0.11632545292377472</td><td>-0.03676331788301468</td><td>1.0124150514602661</td></tr>\n",
       "<tr><td>-14.26732057081897</td><td>2591.9999999999977</td><td>0.001887085265479982</td><td>101687</td><td>80411.34375</td><td>8.426925659179688</td><td>4442.13427734375</td><td>1.7693241834640503</td><td>83379.640625</td><td>8.811727523803711</td><td>4096</td><td>799.3985429300867</td><td>5.3713003580924124e-05</td><td>153.26489736596903</td><td>8.148634515237063e-05</td><td>799.4071181159034</td><td>0.0001312327804043889</td><td>153.31501440559674</td><td>0.00013860815670341253</td><td>0.12666012346744537</td><td>-0.03787408024072647</td><td>1.014136552810669</td></tr>\n",
       "<tr><td>-14.237320570818971</td><td>2592.0</td><td>0.00188412144780159</td><td>101689</td><td>80388.3515625</td><td>8.429823875427246</td><td>4442.2216796875</td><td>1.7802624702453613</td><td>83323.828125</td><td>8.819391250610352</td><td>0</td><td>799.379637259886</td><td>5.416624480858445e-05</td><td>153.2782739475351</td><td>8.324642112711444e-05</td><td>799.3858527930743</td><td>0.00013114670582581311</td><td>153.3256231338096</td><td>0.0001386925287079066</td><td>0.11007142812013626</td><td>-0.02436129003763199</td><td>1.013846516609192</td></tr>\n",
       "<tr><td>-14.207320570818972</td><td>2592.0</td><td>0.0018811571644619107</td><td>101690</td><td>80341.203125</td><td>8.427919387817383</td><td>4441.60546875</td><td>1.7825775146484375</td><td>83298.7578125</td><td>8.822879791259766</td><td>0</td><td>799.3623606375871</td><td>5.770066491095349e-05</td><td>153.28980557060004</td><td>8.150291978381574e-05</td><td>799.3700988075057</td><td>0.0001310942170675844</td><td>153.3334509797264</td><td>0.00013874759315513074</td><td>0.09409298002719879</td><td>-0.013300798833370209</td><td>1.013251781463623</td></tr>\n",
       "<tr><td>-14.17732057081897</td><td>2592.0000000000023</td><td>0.0018781926482915878</td><td>101692</td><td>80255.984375</td><td>8.422734260559082</td><td>4448.376953125</td><td>1.7768503427505493</td><td>83339.0</td><td>8.8179349899292</td><td>0</td><td>799.34756050597</td><td>6.0111473430879414e-05</td><td>153.3011454105482</td><td>7.817077857907861e-05</td><td>799.3598294758403</td><td>0.00013112518354319036</td><td>153.3427811503288</td><td>0.00013885923544876277</td><td>0.0774637907743454</td><td>-0.0011464320123195648</td><td>1.0121771097183228</td></tr>\n",
       "<tr><td>...</td><td>...</td><td>...</td><td>...</td><td>...</td><td>...</td><td>...</td><td>...</td><td>...</td><td>...</td><td>...</td><td>...</td><td>...</td><td>...</td><td>...</td><td>...</td><td>...</td><td>...</td><td>...</td><td>...</td><td>...</td><td>...</td></tr>\n",
       "<tr><td>14.14267942918103</td><td>2592.0000000000023</td><td>0.0019315043464303017</td><td>101665</td><td>78679.0859375</td><td>8.361562728881836</td><td>4419.4580078125</td><td>1.7740411758422852</td><td>83390.3359375</td><td>8.747612953186035</td><td>0</td><td>799.5172053673692</td><td>5.465691356221214e-05</td><td>153.1616992619839</td><td>7.025592640275136e-05</td><td>799.5500076130656</td><td>0.0001329240039922297</td><td>153.2138859574771</td><td>0.00014099237159825861</td><td>0.2608191668987274</td><td>-0.14373217523097992</td><td>0.9922895431518555</td></tr>\n",
       "<tr><td>14.172679429181029</td><td>2592.0000000000023</td><td>0.0019285455346107483</td><td>101666</td><td>78519.8046875</td><td>8.35401725769043</td><td>4424.8544921875</td><td>1.77264404296875</td><td>83404.203125</td><td>8.739974021911621</td><td>0</td><td>799.4818623396511</td><td>6.0409362049540505e-05</td><td>153.18896631763764</td><td>6.75065239192918e-05</td><td>799.5196206948176</td><td>0.00013286888133734465</td><td>153.23222795445133</td><td>0.00014123912842478603</td><td>0.22437261044979095</td><td>-0.11782172322273254</td><td>0.9902806282043457</td></tr>\n",
       "<tr><td>14.202679429181028</td><td>2592.0000000000023</td><td>0.001925586024299264</td><td>101668</td><td>78218.140625</td><td>8.343036651611328</td><td>4424.5576171875</td><td>1.7733813524246216</td><td>83469.5</td><td>8.71884536743164</td><td>0</td><td>799.4548176209415</td><td>6.355058576446027e-05</td><td>153.21163376014053</td><td>6.555016443599015e-05</td><td>799.5009117430891</td><td>0.00013317944831214845</td><td>153.2483075385506</td><td>0.0001417365565430373</td><td>0.1957511156797409</td><td>-0.09287208318710327</td><td>0.9864761829376221</td></tr>\n",
       "<tr><td>14.23267942918103</td><td>2592.0000000000023</td><td>0.0019226263975724578</td><td>101669</td><td>77791.953125</td><td>8.326568603515625</td><td>4423.3173828125</td><td>1.7786880731582642</td><td>83263.7890625</td><td>8.894952774047852</td><td>4096</td><td>799.4339872931453</td><td>6.579363252967596e-05</td><td>153.23028022691534</td><td>5.941643030382693e-05</td><td>799.4900465929859</td><td>0.00013379755546338856</td><td>153.26032959224966</td><td>0.00014244610792957246</td><td>0.17483872175216675</td><td>-0.07548141479492188</td><td>0.9811011552810669</td></tr>\n",
       "<tr><td>14.262679429181029</td><td>2592.0000000000023</td><td>0.0019196664215996861</td><td>101671</td><td>80230.8984375</td><td>8.425830841064453</td><td>4422.01806640625</td><td>1.7866272926330566</td><td>83351.7734375</td><td>8.846177101135254</td><td>262144</td><td>799.1682364969756</td><td>6.141717312857509e-05</td><td>153.437751412127</td><td>7.163565896917135e-05</td><td>799.2019479940296</td><td>0.00013188875163905323</td><td>153.47184208568316</td><td>0.00013909258996136487</td><td>-0.11262320727109909</td><td>0.14506220817565918</td><td>1.011860728263855</td></tr>\n",
       "<tr><td>14.292679429181028</td><td>2591.9999999999927</td><td>0.001916706096380949</td><td>101672</td><td>80177.890625</td><td>8.422986030578613</td><td>4429.20166015625</td><td>1.785125494003296</td><td>83354.25</td><td>8.819131851196289</td><td>0</td><td>799.1282289423696</td><td>5.8290985180065036e-05</td><td>153.4709601815931</td><td>6.790531915612519e-05</td><td>799.166562182482</td><td>0.00013273263175506145</td><td>153.50873875198593</td><td>0.0001390919351251796</td><td>-0.1472785919904709</td><td>0.17484095692634583</td><td>1.0111922025680542</td></tr>\n",
       "<tr><td>14.32267942918103</td><td>2592.0000000000023</td><td>0.0019137454219162464</td><td>101674</td><td>79985.0625</td><td>8.400814056396484</td><td>4163.41064453125</td><td>1.7665640115737915</td><td>83392.21875</td><td>8.795149803161621</td><td>270344</td><td>799.3928522788498</td><td>5.4240994359133765e-05</td><td>153.24489067584352</td><td>8.080990664893761e-05</td><td>799.41028022291</td><td>0.00013094564201310277</td><td>153.30474038069306</td><td>0.0001386474323226139</td><td>0.12148097902536392</td><td>-0.05640896037220955</td><td>1.0087602138519287</td></tr>\n",
       "<tr><td>14.352679429181029</td><td>2591.9999999999927</td><td>0.0019107845146209002</td><td>101675</td><td>80159.6953125</td><td>8.417739868164062</td><td>4430.025390625</td><td>1.7749474048614502</td><td>83341.7890625</td><td>8.811302185058594</td><td>196608</td><td>799.3903965045004</td><td>5.5851203796919435e-05</td><td>153.2686394702582</td><td>8.049093594308943e-05</td><td>799.4014421753222</td><td>0.0001313259854214266</td><td>153.31584013103992</td><td>0.00013893097639083862</td><td>0.1229960173368454</td><td>-0.03379659727215767</td><td>1.010962724685669</td></tr>\n",
       "<tr><td>14.382679429181028</td><td>2592.0000000000023</td><td>0.0014329766854643822</td><td>101912</td><td>80488.71875</td><td>8.443764686584473</td><td>4697.0625</td><td>1.784876823425293</td><td>83288.9296875</td><td>8.8399019241333</td><td>0</td><td>799.3471652400326</td><td>5.9773617977043614e-05</td><td>153.32702079752332</td><td>7.87968238000758e-05</td><td>799.3524003690569</td><td>0.0001314121764153242</td><td>153.3567137816809</td><td>0.000139013456646353</td><td>0.08121466636657715</td><td>0.024023212492465973</td><td>1.0151124000549316</td></tr>\n",
       "<tr><td>14.41267942918103</td><td>2592.0000000000023</td><td>0.00238069542683661</td><td>101442</td><td>79415.703125</td><td>8.3783597946167</td><td>4169.8564453125</td><td>1.765644907951355</td><td>83366.46875</td><td>8.773309707641602</td><td>131072</td><td>799.4160238217224</td><td>5.315141243045218e-05</td><td>153.21684738181378</td><td>7.111398008419201e-05</td><td>799.4481718197294</td><td>0.0001315572444582358</td><td>153.28039996665115</td><td>0.00013940547069068998</td><td>0.14772345125675201</td><td>-0.08078359812498093</td><td>1.0015796422958374</td></tr>\n",
       "</table>"
      ],
      "text/plain": [
       "<BinnedTimeSeries length=962>\n",
       "   time_bin_start     time_bin_size    ...   sap_flux_norm   \n",
       "                            s          ...                   \n",
       "       object            float64       ...      float64      \n",
       "------------------- ------------------ ... ------------------\n",
       "-14.417320570818971 2592.0000000000023 ... 1.0039499998092651\n",
       "-14.387320570818972 2591.9999999999977 ... 1.0004518032073975\n",
       " -14.35732057081897 2591.9999999999977 ... 1.0155994892120361\n",
       "-14.327320570818971 2592.0000000000023 ... 1.0156080722808838\n",
       "-14.297320570818972 2592.0000000000023 ... 1.0124150514602661\n",
       " -14.26732057081897 2591.9999999999977 ...  1.014136552810669\n",
       "-14.237320570818971             2592.0 ...  1.013846516609192\n",
       "-14.207320570818972             2592.0 ...  1.013251781463623\n",
       " -14.17732057081897 2592.0000000000023 ... 1.0121771097183228\n",
       "                ...                ... ...                ...\n",
       "  14.14267942918103 2592.0000000000023 ... 0.9922895431518555\n",
       " 14.172679429181029 2592.0000000000023 ... 0.9902806282043457\n",
       " 14.202679429181028 2592.0000000000023 ... 0.9864761829376221\n",
       "  14.23267942918103 2592.0000000000023 ... 0.9811011552810669\n",
       " 14.262679429181029 2592.0000000000023 ...  1.011860728263855\n",
       " 14.292679429181028 2591.9999999999927 ... 1.0111922025680542\n",
       "  14.32267942918103 2592.0000000000023 ... 1.0087602138519287\n",
       " 14.352679429181029 2591.9999999999927 ...  1.010962724685669\n",
       " 14.382679429181028 2592.0000000000023 ... 1.0151124000549316\n",
       "  14.41267942918103 2592.0000000000023 ... 1.0015796422958374"
      ]
     },
     "execution_count": 556,
     "metadata": {},
     "output_type": "execute_result"
    }
   ],
   "source": [
    "# downsample the time series by binning the points into bins of equal time \n",
    "# - this returns a BinnedTimeSeries:\n",
    "from astropy.timeseries import aggregate_downsample\n",
    "ts_binned = aggregate_downsample(ts_folded, time_bin_size=0.03 * u.day)  \n",
    "ts_binned"
   ]
  },
  {
   "cell_type": "code",
   "execution_count": 557,
   "metadata": {},
   "outputs": [
    {
     "data": {
      "text/plain": [
       "Text(0, 0.5, 'Normalized flux')"
      ]
     },
     "execution_count": 557,
     "metadata": {},
     "output_type": "execute_result"
    },
    {
     "data": {
      "image/png": "[encoded data removed]",
      "text/plain": [
       "<Figure size 1080x648 with 1 Axes>"
      ]
     },
     "metadata": {},
     "output_type": "display_data"
    }
   ],
   "source": [
    "# final result\n",
    "fig = plt.figure(figsize=(15,9))\n",
    "plt.plot(ts_folded.time.jd, ts_folded['sap_flux_norm'], 'k.', markersize=1)\n",
    "plt.plot(ts_binned.time_bin_start.jd, ts_binned['sap_flux_norm'], 'r', drawstyle='steps-post')\n",
    "plt.xlabel('Time (days)')\n",
    "plt.ylabel('Normalized flux')"
   ]
  },
  {
   "cell_type": "code",
   "execution_count": 560,
   "metadata": {},
   "outputs": [],
   "source": [
    "from astropy.timeseries import TimeSeries\n",
    "import numpy as np\n",
    "from astropy import units as u\n",
    "from astropy.timeseries import BoxLeastSquares\n",
    "from astropy.stats import sigma_clipped_stats\n",
    "from astropy.timeseries import aggregate_downsample"
   ]
  },
  {
   "cell_type": "code",
   "execution_count": 562,
   "metadata": {},
   "outputs": [],
   "source": [
    "#meta = [['obs_id','campaign','lc_start','lc_end','transit_time','period','maxpow']]\n",
    "\n",
    "# read in file\n",
    "obs = {}\n",
    "meta = {}"
   ]
  },
  {
   "cell_type": "code",
   "execution_count": 563,
   "metadata": {},
   "outputs": [],
   "source": [
    "file = k2_21\n",
    "filename = test_file\n",
    "prefix = test_file.replace('ktwo','') \n",
    "suffix = prefix.replace('_llc.fits','')\n",
    "pair = suffix.split('-')\n",
    "campaign = pair[1]\n",
    "obs_id = pair[0]\n",
    "ts = TimeSeries.read(test_file, format='kepler.fits') # read in timeseries"
   ]
  },
  {
   "cell_type": "code",
   "execution_count": 564,
   "metadata": {},
   "outputs": [
    {
     "data": {
      "text/html": [
       "<i>TimeSeries length=3850</i>\n",
       "<table id=\"table140361969389136\" class=\"table-striped table-bordered table-condensed\">\n",
       "<thead><tr><th>time</th><th>timecorr</th><th>cadenceno</th><th>sap_flux</th><th>sap_flux_err</th><th>sap_bkg</th><th>sap_bkg_err</th><th>pdcsap_flux</th><th>pdcsap_flux_err</th><th>sap_quality</th><th>psf_centr1</th><th>psf_centr1_err</th><th>psf_centr2</th><th>psf_centr2_err</th><th>mom_centr1</th><th>mom_centr1_err</th><th>mom_centr2</th><th>mom_centr2_err</th><th>pos_corr1</th><th>pos_corr2</th></tr></thead>\n",
       "<thead><tr><th></th><th>d</th><th></th><th>electron / s</th><th>electron / s</th><th>electron / s</th><th>electron / s</th><th>electron / s</th><th>electron / s</th><th></th><th>pix</th><th>pix</th><th>pix</th><th>pix</th><th>pix</th><th>pix</th><th>pix</th><th>pix</th><th>pix</th><th>pix</th></tr></thead>\n",
       "<thead><tr><th>object</th><th>float32</th><th>int32</th><th>float32</th><th>float32</th><th>float32</th><th>float32</th><th>float32</th><th>float32</th><th>int32</th><th>float64</th><th>float32</th><th>float64</th><th>float32</th><th>float64</th><th>float32</th><th>float64</th><th>float32</th><th>float32</th><th>float32</th></tr></thead>\n",
       "<tr><td>2014-08-23T18:48:58.562</td><td>4.849409e-03</td><td>95497</td><td>nan</td><td>nan</td><td>nan</td><td>nan</td><td>nan</td><td>nan</td><td>10000000000000000100</td><td>nan</td><td>nan</td><td>nan</td><td>nan</td><td>nan</td><td>nan</td><td>nan</td><td>nan</td><td>nan</td><td>nan</td></tr>\n",
       "<tr><td>2014-08-23T19:18:23.908</td><td>4.847954e-03</td><td>95498</td><td>nan</td><td>nan</td><td>nan</td><td>nan</td><td>nan</td><td>nan</td><td>100</td><td>nan</td><td>nan</td><td>nan</td><td>nan</td><td>nan</td><td>nan</td><td>nan</td><td>nan</td><td>nan</td><td>nan</td></tr>\n",
       "<tr><td>2014-08-23T19:47:49.245</td><td>4.846498e-03</td><td>95499</td><td>nan</td><td>nan</td><td>nan</td><td>nan</td><td>nan</td><td>nan</td><td>100</td><td>nan</td><td>nan</td><td>nan</td><td>nan</td><td>nan</td><td>nan</td><td>nan</td><td>nan</td><td>nan</td><td>nan</td></tr>\n",
       "<tr><td>2014-08-23T20:17:14.573</td><td>4.845042e-03</td><td>95500</td><td>nan</td><td>nan</td><td>nan</td><td>nan</td><td>nan</td><td>nan</td><td>100</td><td>nan</td><td>nan</td><td>nan</td><td>nan</td><td>nan</td><td>nan</td><td>nan</td><td>nan</td><td>nan</td><td>nan</td></tr>\n",
       "<tr><td>2014-08-23T20:46:39.919</td><td>4.843586e-03</td><td>95501</td><td>nan</td><td>nan</td><td>nan</td><td>nan</td><td>nan</td><td>nan</td><td>100</td><td>nan</td><td>nan</td><td>nan</td><td>nan</td><td>nan</td><td>nan</td><td>nan</td><td>nan</td><td>nan</td><td>nan</td></tr>\n",
       "<tr><td>2014-08-23T21:16:05.256</td><td>4.842129e-03</td><td>95502</td><td>nan</td><td>nan</td><td>nan</td><td>nan</td><td>nan</td><td>nan</td><td>100</td><td>nan</td><td>nan</td><td>nan</td><td>nan</td><td>nan</td><td>nan</td><td>nan</td><td>nan</td><td>nan</td><td>nan</td></tr>\n",
       "<tr><td>2014-08-23T21:45:30.594</td><td>4.840672e-03</td><td>95503</td><td>nan</td><td>nan</td><td>nan</td><td>nan</td><td>nan</td><td>nan</td><td>100</td><td>nan</td><td>nan</td><td>nan</td><td>nan</td><td>nan</td><td>nan</td><td>nan</td><td>nan</td><td>nan</td><td>nan</td></tr>\n",
       "<tr><td>2014-08-23T22:14:55.931</td><td>4.839214e-03</td><td>95504</td><td>nan</td><td>nan</td><td>nan</td><td>nan</td><td>nan</td><td>nan</td><td>100</td><td>nan</td><td>nan</td><td>nan</td><td>nan</td><td>nan</td><td>nan</td><td>nan</td><td>nan</td><td>nan</td><td>nan</td></tr>\n",
       "<tr><td>2014-08-23T22:44:21.268</td><td>4.837756e-03</td><td>95505</td><td>nan</td><td>nan</td><td>nan</td><td>nan</td><td>nan</td><td>nan</td><td>100</td><td>nan</td><td>nan</td><td>nan</td><td>nan</td><td>nan</td><td>nan</td><td>nan</td><td>nan</td><td>nan</td><td>nan</td></tr>\n",
       "<tr><td>...</td><td>...</td><td>...</td><td>...</td><td>...</td><td>...</td><td>...</td><td>...</td><td>...</td><td>...</td><td>...</td><td>...</td><td>...</td><td>...</td><td>...</td><td>...</td><td>...</td><td>...</td><td>...</td><td>...</td></tr>\n",
       "<tr><td>2014-11-10T08:44:58.297</td><td>-2.240700e-03</td><td>99343</td><td>1.9239858e+05</td><td>1.2170841e+01</td><td>1.0875090e+04</td><td>2.3861785e+00</td><td>1.9975316e+05</td><td>1.2543783e+01</td><td>100000000000000</td><td>nan</td><td>nan</td><td>nan</td><td>nan</td><td>488.57772</td><td>6.4905187e-05</td><td>37.25281</td><td>7.3773015e-05</td><td>nan</td><td>nan</td></tr>\n",
       "<tr><td>2014-11-10T09:14:23.604</td><td>-2.242405e-03</td><td>99344</td><td>1.9139350e+05</td><td>1.2142404e+01</td><td>1.0873504e+04</td><td>2.3742399e+00</td><td>1.9973433e+05</td><td>1.2515515e+01</td><td>100000000000000</td><td>nan</td><td>nan</td><td>nan</td><td>nan</td><td>488.60336</td><td>6.5021472e-05</td><td>37.22862</td><td>7.4137461e-05</td><td>nan</td><td>nan</td></tr>\n",
       "<tr><td>2014-11-10T09:43:48.920</td><td>-2.244109e-03</td><td>99345</td><td>1.9085127e+05</td><td>1.2127616e+01</td><td>1.0878690e+04</td><td>2.3817682e+00</td><td>1.9970984e+05</td><td>1.2496629e+01</td><td>100000000000000</td><td>nan</td><td>nan</td><td>nan</td><td>nan</td><td>488.61446</td><td>6.5126747e-05</td><td>37.21759</td><td>7.4333228e-05</td><td>nan</td><td>nan</td></tr>\n",
       "<tr><td>2014-11-10T10:13:14.244</td><td>-2.245812e-03</td><td>99346</td><td>1.9355323e+05</td><td>1.2204155e+01</td><td>1.0873452e+04</td><td>2.3695636e+00</td><td>nan</td><td>nan</td><td>100000100000000000000</td><td>nan</td><td>nan</td><td>nan</td><td>nan</td><td>488.51176</td><td>6.4815482e-05</td><td>37.32789</td><td>7.2908835e-05</td><td>nan</td><td>nan</td></tr>\n",
       "<tr><td>2014-11-10T10:42:39.551</td><td>-2.247516e-03</td><td>99347</td><td>1.9503038e+05</td><td>1.2240023e+01</td><td>1.0889605e+04</td><td>2.3608491e+00</td><td>1.9981781e+05</td><td>1.2631701e+01</td><td>100000000000000</td><td>nan</td><td>nan</td><td>nan</td><td>nan</td><td>488.51231</td><td>6.4374079e-05</td><td>37.33531</td><td>7.2690484e-05</td><td>nan</td><td>nan</td></tr>\n",
       "<tr><td>2014-11-10T11:12:04.867</td><td>-2.249219e-03</td><td>99348</td><td>1.9429488e+05</td><td>1.2226809e+01</td><td>1.0896487e+04</td><td>2.3865905e+00</td><td>1.9973186e+05</td><td>1.2615817e+01</td><td>100000000000000</td><td>nan</td><td>nan</td><td>nan</td><td>nan</td><td>488.52073</td><td>6.4527616e-05</td><td>37.31366</td><td>7.3005998e-05</td><td>nan</td><td>nan</td></tr>\n",
       "<tr><td>2014-11-10T11:41:30.192</td><td>-2.250921e-03</td><td>99349</td><td>1.9388636e+05</td><td>1.2218229e+01</td><td>1.0905092e+04</td><td>2.4007120e+00</td><td>1.9979361e+05</td><td>1.2606430e+01</td><td>100000000000000</td><td>nan</td><td>nan</td><td>nan</td><td>nan</td><td>488.54070</td><td>6.4632230e-05</td><td>37.29402</td><td>7.3249350e-05</td><td>nan</td><td>nan</td></tr>\n",
       "<tr><td>2014-11-10T12:10:55.499</td><td>-2.252623e-03</td><td>99350</td><td>1.9315331e+05</td><td>1.2190362e+01</td><td>1.0918038e+04</td><td>2.3791909e+00</td><td>1.9980336e+05</td><td>1.2575044e+01</td><td>100000000000000</td><td>nan</td><td>nan</td><td>nan</td><td>nan</td><td>488.56564</td><td>6.4727021e-05</td><td>37.27142</td><td>7.3540272e-05</td><td>nan</td><td>nan</td></tr>\n",
       "<tr><td>2014-11-10T12:40:20.824</td><td>-2.254325e-03</td><td>99351</td><td>1.9229755e+05</td><td>1.2171987e+01</td><td>1.0929925e+04</td><td>2.3934023e+00</td><td>1.9974552e+05</td><td>1.2552217e+01</td><td>100000000000000</td><td>nan</td><td>nan</td><td>nan</td><td>nan</td><td>488.58436</td><td>6.4922519e-05</td><td>37.24982</td><td>7.3892232e-05</td><td>nan</td><td>nan</td></tr>\n",
       "<tr><td>2014-11-10T13:09:46.140</td><td>-2.256026e-03</td><td>99352</td><td>1.9157967e+05</td><td>1.2146645e+01</td><td>1.0922487e+04</td><td>2.3765869e+00</td><td>1.9981369e+05</td><td>1.2523536e+01</td><td>10000100000000000000</td><td>nan</td><td>nan</td><td>nan</td><td>nan</td><td>488.60097</td><td>6.5059234e-05</td><td>37.23101</td><td>7.4121635e-05</td><td>nan</td><td>nan</td></tr>\n",
       "</table>"
      ],
      "text/plain": [
       "<TimeSeries length=3850>\n",
       "          time             timecorr   ...   pos_corr1      pos_corr2   \n",
       "                              d       ...      pix            pix      \n",
       "         object            float32    ...    float32        float32    \n",
       "----------------------- ------------- ... -------------- --------------\n",
       "2014-08-23T18:48:58.562  4.849409e-03 ...            nan            nan\n",
       "2014-08-23T19:18:23.908  4.847954e-03 ...            nan            nan\n",
       "2014-08-23T19:47:49.245  4.846498e-03 ...            nan            nan\n",
       "2014-08-23T20:17:14.573  4.845042e-03 ...            nan            nan\n",
       "2014-08-23T20:46:39.919  4.843586e-03 ...            nan            nan\n",
       "2014-08-23T21:16:05.256  4.842129e-03 ...            nan            nan\n",
       "2014-08-23T21:45:30.594  4.840672e-03 ...            nan            nan\n",
       "2014-08-23T22:14:55.931  4.839214e-03 ...            nan            nan\n",
       "2014-08-23T22:44:21.268  4.837756e-03 ...            nan            nan\n",
       "                    ...           ... ...            ...            ...\n",
       "2014-11-10T08:44:58.297 -2.240700e-03 ...            nan            nan\n",
       "2014-11-10T09:14:23.604 -2.242405e-03 ...            nan            nan\n",
       "2014-11-10T09:43:48.920 -2.244109e-03 ...            nan            nan\n",
       "2014-11-10T10:13:14.244 -2.245812e-03 ...            nan            nan\n",
       "2014-11-10T10:42:39.551 -2.247516e-03 ...            nan            nan\n",
       "2014-11-10T11:12:04.867 -2.249219e-03 ...            nan            nan\n",
       "2014-11-10T11:41:30.192 -2.250921e-03 ...            nan            nan\n",
       "2014-11-10T12:10:55.499 -2.252623e-03 ...            nan            nan\n",
       "2014-11-10T12:40:20.824 -2.254325e-03 ...            nan            nan\n",
       "2014-11-10T13:09:46.140 -2.256026e-03 ...            nan            nan"
      ]
     },
     "execution_count": 564,
     "metadata": {},
     "output_type": "execute_result"
    }
   ],
   "source": [
    "ts"
   ]
  },
  {
   "cell_type": "code",
   "execution_count": 565,
   "metadata": {},
   "outputs": [
    {
     "data": {
      "text/latex": [
       "$[{\\rm NaN},~{\\rm NaN},~{\\rm NaN},~\\dots,~12.190362,~12.171987,~12.146645] \\; \\mathrm{\\frac{e^{-}}{s}}$"
      ],
      "text/plain": [
       "<Quantity [      nan,       nan,       nan, ..., 12.190362, 12.171987,\n",
       "           12.146645] electron / s>"
      ]
     },
     "execution_count": 565,
     "metadata": {},
     "output_type": "execute_result"
    }
   ],
   "source": [
    "ts['sap_flux_err']"
   ]
  },
  {
   "cell_type": "code",
   "execution_count": 566,
   "metadata": {},
   "outputs": [],
   "source": [
    "cols = list(ts.columns)"
   ]
  },
  {
   "cell_type": "code",
   "execution_count": 567,
   "metadata": {},
   "outputs": [
    {
     "data": {
      "text/plain": [
       "['time',\n",
       " 'timecorr',\n",
       " 'cadenceno',\n",
       " 'sap_flux',\n",
       " 'sap_flux_err',\n",
       " 'sap_bkg',\n",
       " 'sap_bkg_err',\n",
       " 'pdcsap_flux',\n",
       " 'pdcsap_flux_err',\n",
       " 'sap_quality',\n",
       " 'psf_centr1',\n",
       " 'psf_centr1_err',\n",
       " 'psf_centr2',\n",
       " 'psf_centr2_err',\n",
       " 'mom_centr1',\n",
       " 'mom_centr1_err',\n",
       " 'mom_centr2',\n",
       " 'mom_centr2_err',\n",
       " 'pos_corr1',\n",
       " 'pos_corr2']"
      ]
     },
     "execution_count": 567,
     "metadata": {},
     "output_type": "execute_result"
    }
   ],
   "source": [
    "cols"
   ]
  },
  {
   "cell_type": "code",
   "execution_count": 568,
   "metadata": {},
   "outputs": [],
   "source": [
    "# add to meta dict\n",
    "meta['fits'] = filename\n",
    "meta['obs_id'] = obs_id\n",
    "meta['campaign'] = campaign\n",
    "meta['lc_start'] = ts.time.jd[0]\n",
    "meta['lc_end'] = ts.time.jd[-1]\n",
    "meta['t_start'] = ts.time[0]\n",
    "meta['t_end'] = ts.time[-1]"
   ]
  },
  {
   "cell_type": "code",
   "execution_count": 590,
   "metadata": {},
   "outputs": [
    {
     "data": {
      "text/plain": [
       "{'fits': 'ktwo204890128-c02_llc.fits',\n",
       " 'obs_id': '204890128',\n",
       " 'campaign': 'c02',\n",
       " 'lc_start': 2456893.2840111293,\n",
       " 'lc_end': 2456972.0484506935,\n",
       " 't_start': <Time object: scale='tdb' format='isot' value=2014-08-23T18:48:58.562>,\n",
       " 't_end': <Time object: scale='tdb' format='isot' value=2014-11-10T13:09:46.140>,\n",
       " 'maxpower': 74771,\n",
       " 'period': <Quantity 38.82536845 d>,\n",
       " 'transit': <Time object: scale='tdb' format='isot' value=2014-08-27T18:51:17.398>}"
      ]
     },
     "execution_count": 590,
     "metadata": {},
     "output_type": "execute_result"
    }
   ],
   "source": [
    "meta"
   ]
  },
  {
   "cell_type": "code",
   "execution_count": 570,
   "metadata": {},
   "outputs": [],
   "source": [
    "if 'sap_flux_err' in list(ts.columns):\n",
    "    periodogram = BoxLeastSquares.from_timeseries(ts,'sap_flux','sap_flux_err')\n",
    "else:\n",
    "    periodogram = BoxLeastSquares.from_timeseries(ts, 'sap_flux')"
   ]
  },
  {
   "cell_type": "code",
   "execution_count": 571,
   "metadata": {},
   "outputs": [
    {
     "data": {
      "text/plain": [
       "<astropy.timeseries.periodograms.bls.core.BoxLeastSquares at 0x7fa8d0fcf050>"
      ]
     },
     "execution_count": 571,
     "metadata": {},
     "output_type": "execute_result"
    }
   ],
   "source": [
    "periodogram"
   ]
  },
  {
   "cell_type": "code",
   "execution_count": 572,
   "metadata": {},
   "outputs": [],
   "source": [
    "snr = False"
   ]
  },
  {
   "cell_type": "code",
   "execution_count": 573,
   "metadata": {},
   "outputs": [],
   "source": [
    "if snr is True:\n",
    "    results = periodogram.autopower(0.2*u.day, objective='snr')\n",
    "else:\n",
    "    results = periodogram.autopower(0.2*u.day)"
   ]
  },
  {
   "cell_type": "code",
   "execution_count": 574,
   "metadata": {},
   "outputs": [
    {
     "data": {
      "text/plain": [
       "          depth: <Quantity [  1948.51071465,   1966.98486962,   1959.08280705, ...,\n",
       "           170795.48609894, 172823.29083405, 170805.96604532] electron / s>\n",
       "      depth_err: <Quantity [0.38940918, 0.38940803, 0.38940802, ..., 1.31071744, 1.31804772,\n",
       "           1.31063191] electron / s>\n",
       "      depth_snr: <Quantity [  5003.76161931,   5051.21803084,   5030.92571321, ...,\n",
       "           130306.86879617, 131120.66277853, 130323.36929339]>\n",
       "       duration: <Quantity [0.2, 0.2, 0.2, ..., 0.2, 0.2, 0.2] d>\n",
       " log_likelihood: <Quantity [2.51231771e+07, 2.55758107e+07, 2.53703432e+07, ...,\n",
       "           8.68603559e+09, 8.79256137e+09, 8.68826234e+09]>\n",
       "      objective: 'likelihood'\n",
       "         period: <Quantity [ 0.4       ,  0.40000529,  0.40001059, ..., 38.77555084,\n",
       "           38.82536845, 38.87531423] d>\n",
       "          power: <Quantity [2.51231771e+07, 2.55758107e+07, 2.53703432e+07, ...,\n",
       "           8.68603559e+09, 8.79256137e+09, 8.68826234e+09]>\n",
       "   transit_time: <Time object: scale='tdb' format='isot' value=['2014-08-24T23:39:17.398' '2014-08-24T23:39:17.398'\n",
       " '2014-08-24T23:39:17.398' ... '2014-08-27T18:51:17.398'\n",
       " '2014-08-27T18:51:17.398' '2014-08-27T18:51:17.398']>"
      ]
     },
     "execution_count": 574,
     "metadata": {},
     "output_type": "execute_result"
    }
   ],
   "source": [
    "results"
   ]
  },
  {
   "cell_type": "code",
   "execution_count": 575,
   "metadata": {},
   "outputs": [],
   "source": [
    "maxpower = np.argmax(results.power)  \n",
    "period = results.period[maxpower] \n",
    "transit_time = results.transit_time[maxpower]\n",
    "meta['maxpower'] = maxpower\n",
    "meta['period'] = period\n",
    "meta['transit'] = transit_time"
   ]
  },
  {
   "cell_type": "code",
   "execution_count": 698,
   "metadata": {},
   "outputs": [],
   "source": [
    "c3_small = c3_files[:3]"
   ]
  },
  {
   "cell_type": "code",
   "execution_count": 815,
   "metadata": {},
   "outputs": [],
   "source": [
    "def planet_hunter(file_list=files, fmt='kepler.fits', error=False, snr=False, verbose=False): #,verbose=False):\n",
    "    \"\"\"\n",
    "    planet_hunter(f=files[9], fmt='kepler.fits')\n",
    "    \n",
    "    args:\n",
    "    - fits_files = takes array or single .fits file\n",
    "    \n",
    "    kwargs:\n",
    "    - format : 'kepler.fits' or  'tess.fits'\n",
    "    \"\"\"\n",
    "    from astropy.timeseries import TimeSeries\n",
    "    import numpy as np\n",
    "    from astropy import units as u\n",
    "    from astropy.timeseries import BoxLeastSquares\n",
    "    from astropy.stats import sigma_clipped_stats\n",
    "    from astropy.timeseries import aggregate_downsample\n",
    "\n",
    "    #meta = [['obs_id','campaign','lc_start','lc_end','transit_time','period','maxpow']]\n",
    "    \n",
    "    # read in file\n",
    "    transits = {}\n",
    "    for index, file in enumerate(file_list):\n",
    "        res = {}\n",
    "        prefix = file.replace('ktwo','') \n",
    "        suffix = prefix.replace('_llc.fits','')\n",
    "        pair = suffix.split('-')\n",
    "        obs_id = pair[0]\n",
    "        campaign = pair[1]\n",
    "        \n",
    "        ts = TimeSeries.read(file, format=fmt) # read in timeseries\n",
    "        \n",
    "        # add to meta dict\n",
    "        res['obs_id'] = obs_id\n",
    "        res['campaign'] = campaign\n",
    "        res['lc_start'] = ts.time.jd[0]\n",
    "        res['lc_end'] = ts.time.jd[-1]\n",
    "  \n",
    "        # use box least squares to estimate period\n",
    "        if error is True: # if error col data available\n",
    "            periodogram = BoxLeastSquares.from_timeseries(ts,'sap_flux','sap_flux_err')\n",
    "        else:\n",
    "            periodogram = BoxLeastSquares.from_timeseries(ts, 'sap_flux')\n",
    "        if snr is True:\n",
    "            results = periodogram.autopower(0.2*u.day, objective='snr')\n",
    "        else:\n",
    "            results = periodogram.autopower(0.2*u.day)\n",
    "        \n",
    "        maxpower = np.argmax(results.power)  \n",
    "        period = results.period[maxpower] \n",
    "        transit_time = results.transit_time[maxpower]\n",
    "        duration = results.duration[best]\n",
    "        \n",
    "        res['maxpower'] = maxpower\n",
    "        res['period'] = period\n",
    "        res['transit'] = transit_time\n",
    "        res['duration'] = duration\n",
    "        \n",
    "        #res['ts'] = ts\n",
    "        \n",
    "        # fold the time series using the period \n",
    "        ts_folded = ts.fold(period=period, epoch_time=transit_time)\n",
    "        \n",
    "        # folded time series plot\n",
    "        # plt.plot(ts_folded.time.jd, ts_folded['sap_flux'], 'k.', markersize=1)\n",
    "        # plt.xlabel('Time (days)')\n",
    "        # plt.ylabel('SAP Flux (e-/s)')\n",
    "\n",
    "        #normalize the flux by sigma-clipping the data to determine the baseline flux:\n",
    "        mean, median, stddev = sigma_clipped_stats(ts_folded['sap_flux'])\n",
    "        ts_folded['sap_flux_norm'] = ts_folded['sap_flux'] / median \n",
    "        res['mean'] = mean\n",
    "        res['median'] = median\n",
    "        res['stddev'] = stddev\n",
    "        res['sap_flux_norm'] = ts_folded['sap_flux_norm']\n",
    "        \n",
    "        # downsample the time series by binning the points into bins of equal time \n",
    "        ts_binned = aggregate_downsample(ts_folded, time_bin_size=0.03 * u.day)  \n",
    " \n",
    "        # final result\n",
    "        fig = plt.figure(figsize=(11,5))\n",
    "        ax = fig.gca()\n",
    "        ax.plot(ts_folded.time.jd, ts_folded['sap_flux_norm'], 'k.', markersize=1)\n",
    "        ax.plot(ts_binned.time_bin_start.jd, ts_binned['sap_flux_norm'], 'r-', drawstyle='steps-post')\n",
    "        ax.set_xlabel('Time (days)')\n",
    "        ax.set_ylabel('Normalized flux')\n",
    "        ax.set_title(obs_id)\n",
    "        ax.legend([np.round(period, 3)])\n",
    "        plt.close()\n",
    "        \n",
    "        res['fig'] = fig\n",
    "        \n",
    "        transits[index] = res\n",
    "        \n",
    "    df = pd.DataFrame.from_dict(transits, orient='index')\n",
    "        \n",
    "    return df"
   ]
  },
  {
   "cell_type": "code",
   "execution_count": 820,
   "metadata": {},
   "outputs": [],
   "source": [
    "c3_small_df = planet_hunter(file_list=c3_small, fmt='kepler.fits', error=True, snr=False, verbose=True)"
   ]
  },
  {
   "cell_type": "code",
   "execution_count": 821,
   "metadata": {},
   "outputs": [
    {
     "data": {
      "image/png": "[encoded data removed]",
      "text/plain": [
       "<Figure size 792x360 with 1 Axes>"
      ]
     },
     "execution_count": 821,
     "metadata": {},
     "output_type": "execute_result"
    }
   ],
   "source": [
    "c3_small_df['fig'][2]"
   ]
  },
  {
   "cell_type": "code",
   "execution_count": 822,
   "metadata": {},
   "outputs": [
    {
     "data": {
      "text/html": [
       "<div>\n",
       "<style scoped>\n",
       "    .dataframe tbody tr th:only-of-type {\n",
       "        vertical-align: middle;\n",
       "    }\n",
       "\n",
       "    .dataframe tbody tr th {\n",
       "        vertical-align: top;\n",
       "    }\n",
       "\n",
       "    .dataframe thead th {\n",
       "        text-align: right;\n",
       "    }\n",
       "</style>\n",
       "<table border=\"1\" class=\"dataframe\">\n",
       "  <thead>\n",
       "    <tr style=\"text-align: right;\">\n",
       "      <th></th>\n",
       "      <th>obs_id</th>\n",
       "      <th>campaign</th>\n",
       "      <th>lc_start</th>\n",
       "      <th>lc_end</th>\n",
       "      <th>maxpower</th>\n",
       "      <th>period</th>\n",
       "      <th>transit</th>\n",
       "      <th>duration</th>\n",
       "      <th>mean</th>\n",
       "      <th>median</th>\n",
       "      <th>stddev</th>\n",
       "      <th>sap_flux_norm</th>\n",
       "      <th>fig</th>\n",
       "    </tr>\n",
       "  </thead>\n",
       "  <tbody>\n",
       "    <tr>\n",
       "      <th>0</th>\n",
       "      <td>206119924</td>\n",
       "      <td>c03</td>\n",
       "      <td>2.456977e+06</td>\n",
       "      <td>2.457046e+06</td>\n",
       "      <td>59001</td>\n",
       "      <td>30.265101250430195 d</td>\n",
       "      <td>2014-12-08T22:09:16.505</td>\n",
       "      <td>0.2 d</td>\n",
       "      <td>986762.125 electron / s</td>\n",
       "      <td>990518.5625 electron / s</td>\n",
       "      <td>9846.611328125 electron / s</td>\n",
       "      <td>[0.9985837936401367, 0.9987229704856873, 0.998...</td>\n",
       "      <td>Figure(792x360)</td>\n",
       "    </tr>\n",
       "    <tr>\n",
       "      <th>1</th>\n",
       "      <td>205904628</td>\n",
       "      <td>c03</td>\n",
       "      <td>2.456977e+06</td>\n",
       "      <td>2.457046e+06</td>\n",
       "      <td>11035</td>\n",
       "      <td>0.4905320156305363 d</td>\n",
       "      <td>2014-11-15T15:39:29.826</td>\n",
       "      <td>0.2 d</td>\n",
       "      <td>7335161.0 electron / s</td>\n",
       "      <td>7335725.0 electron / s</td>\n",
       "      <td>5087.771484375 electron / s</td>\n",
       "      <td>[1.0013424158096313, 1.001400113105774, 1.0013...</td>\n",
       "      <td>Figure(792x360)</td>\n",
       "    </tr>\n",
       "    <tr>\n",
       "      <th>2</th>\n",
       "      <td>205950854</td>\n",
       "      <td>c03</td>\n",
       "      <td>2.456977e+06</td>\n",
       "      <td>2.457046e+06</td>\n",
       "      <td>58045</td>\n",
       "      <td>13.697307251100613 d</td>\n",
       "      <td>2014-11-27T08:13:38.048</td>\n",
       "      <td>0.2 d</td>\n",
       "      <td>186227.234375 electron / s</td>\n",
       "      <td>186165.0625 electron / s</td>\n",
       "      <td>1278.8638916015625 electron / s</td>\n",
       "      <td>[1.010563611984253, 1.0106163024902344, 1.0105...</td>\n",
       "      <td>Figure(792x360)</td>\n",
       "    </tr>\n",
       "  </tbody>\n",
       "</table>\n",
       "</div>"
      ],
      "text/plain": [
       "      obs_id campaign      lc_start        lc_end  maxpower  ...                        mean                    median                           stddev                                      sap_flux_norm              fig\n",
       "0  206119924      c03  2.456977e+06  2.457046e+06     59001  ...     986762.125 electron / s  990518.5625 electron / s      9846.611328125 electron / s  [0.9985837936401367, 0.9987229704856873, 0.998...  Figure(792x360)\n",
       "1  205904628      c03  2.456977e+06  2.457046e+06     11035  ...      7335161.0 electron / s    7335725.0 electron / s      5087.771484375 electron / s  [1.0013424158096313, 1.001400113105774, 1.0013...  Figure(792x360)\n",
       "2  205950854      c03  2.456977e+06  2.457046e+06     58045  ...  186227.234375 electron / s  186165.0625 electron / s  1278.8638916015625 electron / s  [1.010563611984253, 1.0106163024902344, 1.0105...  Figure(792x360)\n",
       "\n",
       "[3 rows x 13 columns]"
      ]
     },
     "execution_count": 822,
     "metadata": {},
     "output_type": "execute_result"
    }
   ],
   "source": [
    "c3_small_df"
   ]
  },
  {
   "cell_type": "code",
   "execution_count": 750,
   "metadata": {},
   "outputs": [],
   "source": [
    "c3_dict = dict(zip(campaign3, c3_files))"
   ]
  },
  {
   "cell_type": "code",
   "execution_count": 751,
   "metadata": {},
   "outputs": [
    {
     "data": {
      "text/plain": [
       "'ktwo206432863-c03_llc.fits'"
      ]
     },
     "execution_count": 751,
     "metadata": {},
     "output_type": "execute_result"
    }
   ],
   "source": [
    "c3_dict['K2-1']"
   ]
  },
  {
   "cell_type": "code",
   "execution_count": 754,
   "metadata": {},
   "outputs": [],
   "source": [
    "k2c3_df['target'] = campaign3"
   ]
  },
  {
   "cell_type": "code",
   "execution_count": 755,
   "metadata": {},
   "outputs": [
    {
     "data": {
      "text/plain": [
       "0     K2-116\n",
       "1     K2-167\n",
       "2     K2-168\n",
       "3     K2-169\n",
       "4     K2-170\n",
       "5     K2-171\n",
       "6     K2-172\n",
       "7      K2-21\n",
       "8     K2-265\n",
       "9      K2-28\n",
       "10     K2-39\n",
       "11     K2-54\n",
       "12     K2-55\n",
       "13     K2-57\n",
       "14     K2-58\n",
       "15     K2-59\n",
       "16     K2-60\n",
       "17     K2-61\n",
       "18     K2-62\n",
       "19     K2-63\n",
       "20     K2-64\n",
       "21     K2-65\n",
       "22     K2-66\n",
       "23     K2-68\n",
       "24     K2-69\n",
       "25     K2-70\n",
       "26     K2-71\n",
       "27     K2-72\n",
       "28     K2-73\n",
       "29     K2-74\n",
       "30     K2-75\n",
       "31      K2-1\n",
       "Name: target, dtype: object"
      ]
     },
     "execution_count": 755,
     "metadata": {},
     "output_type": "execute_result"
    }
   ],
   "source": [
    "k2c3_df['target']"
   ]
  },
  {
   "cell_type": "code",
   "execution_count": 762,
   "metadata": {},
   "outputs": [],
   "source": [
    "targ = campaign3[0]"
   ]
  },
  {
   "cell_type": "code",
   "execution_count": 773,
   "metadata": {},
   "outputs": [],
   "source": [
    "def light_curves(df, targets):\n",
    "    \"\"\"\n",
    "    planet_hunter(f=files[9], fmt='kepler.fits')\n",
    "    \n",
    "    args:\n",
    "    - fits_files = takes array or single .fits file\n",
    "    \n",
    "    kwargs:\n",
    "    - format : 'kepler.fits' or  'tess.fits'\n",
    "    \"\"\"\n",
    "    from astropy.timeseries import TimeSeries\n",
    "    import numpy as np\n",
    "    from astropy import units as u\n",
    "    from astropy.timeseries import BoxLeastSquares\n",
    "    from astropy.stats import sigma_clipped_stats\n",
    "    from astropy.timeseries import aggregate_downsample\n",
    "    \n",
    "    light_curves = {}\n",
    "    \n",
    "    for target in targets:\n",
    "        timeseries = {}\n",
    "        data = df.loc[df['target'] == targ]\n",
    "        ts = data['ts']\n",
    "        period = data['period']\n",
    "        transit_time = data['transit']\n",
    "    \n",
    "        # fold the time series using the period \n",
    "        ts_folded = data['ts_folded']#ts.fold(period=period, epoch_time=transit_time)\n",
    "    \n",
    "        ## folded time series plot\n",
    "        # plt.plot(ts_folded.time.jd, ts_folded['sap_flux'], 'k.', markersize=1)\n",
    "        # plt.xlabel('Time (days)')\n",
    "        # plt.ylabel('SAP Flux (e-/s)')\n",
    "        \n",
    "        # downsample the time series by binning the points into bins of equal time \n",
    "        ts_binned = data['ts_binned']\n",
    "        #ts_binned = aggregate_downsample(ts_folded, time_bin_size=0.03 * u.day)  \n",
    "        \n",
    "        # final result\n",
    "        fig = plt.figure(figsize=(11,5))\n",
    "        plt.plot(ts_folded.time.jd, ts_folded['sap_flux_norm'], 'k.', markersize=1)\n",
    "        plt.plot(ts_binned.time_bin_start.jd, ts_binned['sap_flux_norm'], 'r-', drawstyle='steps-post')\n",
    "        plt.xlabel('Time (days)')\n",
    "        plt.ylabel('Normalized flux')\n",
    "        \n",
    "        timeseries['fig'] = fig\n",
    "        \n",
    "        light_curves[target] = timeseries\n",
    "\n",
    "    df = pd.DataFrame.from_dict(light_curves, orient='index')\n",
    "    return df"
   ]
  },
  {
   "cell_type": "code",
   "execution_count": 736,
   "metadata": {},
   "outputs": [
    {
     "data": {
      "text/plain": [
       "'ktwo206119924-c03_llc.fits'"
      ]
     },
     "execution_count": 736,
     "metadata": {},
     "output_type": "execute_result"
    }
   ],
   "source": [
    "test_file = c3_files[0]\n",
    "test_file"
   ]
  },
  {
   "cell_type": "code",
   "execution_count": 769,
   "metadata": {},
   "outputs": [
    {
     "data": {
      "text/html": [
       "<div>\n",
       "<style scoped>\n",
       "    .dataframe tbody tr th:only-of-type {\n",
       "        vertical-align: middle;\n",
       "    }\n",
       "\n",
       "    .dataframe tbody tr th {\n",
       "        vertical-align: top;\n",
       "    }\n",
       "\n",
       "    .dataframe thead th {\n",
       "        text-align: right;\n",
       "    }\n",
       "</style>\n",
       "<table border=\"1\" class=\"dataframe\">\n",
       "  <thead>\n",
       "    <tr style=\"text-align: right;\">\n",
       "      <th></th>\n",
       "      <th>obs_id</th>\n",
       "      <th>campaign</th>\n",
       "      <th>lc_start</th>\n",
       "      <th>lc_end</th>\n",
       "      <th>maxpower</th>\n",
       "      <th>period</th>\n",
       "      <th>transit</th>\n",
       "      <th>ts</th>\n",
       "      <th>ts_folded</th>\n",
       "      <th>mean</th>\n",
       "      <th>median</th>\n",
       "      <th>stddev</th>\n",
       "      <th>ts_binned</th>\n",
       "      <th>target</th>\n",
       "    </tr>\n",
       "  </thead>\n",
       "  <tbody>\n",
       "    <tr>\n",
       "      <th>17</th>\n",
       "      <td>206044803</td>\n",
       "      <td>c03</td>\n",
       "      <td>2.456977e+06</td>\n",
       "      <td>2.457046e+06</td>\n",
       "      <td>58887</td>\n",
       "      <td>26.44445042473992 d</td>\n",
       "      <td>2014-11-29T05:21:27.182</td>\n",
       "      <td>[[2014-11-15T14:28:39.182, 0.00545065850019454...</td>\n",
       "      <td>[[12.824450424739918, 0.0054506585001945496 d,...</td>\n",
       "      <td>95882.84375 electron / s</td>\n",
       "      <td>95991.234375 electron / s</td>\n",
       "      <td>284.1104736328125 electron / s</td>\n",
       "      <td>[[-13.216763448283603, 2592.0 s, 0.00368113256...</td>\n",
       "      <td>K2-61</td>\n",
       "    </tr>\n",
       "  </tbody>\n",
       "</table>\n",
       "</div>"
      ],
      "text/plain": [
       "       obs_id campaign      lc_start        lc_end  maxpower  ...                      mean                     median                          stddev                                          ts_binned target\n",
       "17  206044803      c03  2.456977e+06  2.457046e+06     58887  ...  95882.84375 electron / s  95991.234375 electron / s  284.1104736328125 electron / s  [[-13.216763448283603, 2592.0 s, 0.00368113256...  K2-61\n",
       "\n",
       "[1 rows x 14 columns]"
      ]
     },
     "execution_count": 769,
     "metadata": {},
     "output_type": "execute_result"
    }
   ],
   "source": [
    "k2_61_df"
   ]
  },
  {
   "cell_type": "code",
   "execution_count": 766,
   "metadata": {},
   "outputs": [],
   "source": [
    "k2_61_df = k2c3_df.loc[k2c3_df['target'] == 'K2-61']"
   ]
  },
  {
   "cell_type": "code",
   "execution_count": 776,
   "metadata": {},
   "outputs": [
    {
     "ename": "AttributeError",
     "evalue": "'Series' object has no attribute 'time'",
     "output_type": "error",
     "traceback": [
      "\u001b[0;31m---------------------------------------------------------------------------\u001b[0m",
      "\u001b[0;31mAttributeError\u001b[0m                            Traceback (most recent call last)",
      "\u001b[0;32m<ipython-input-776-738e4857a4d1>\u001b[0m in \u001b[0;36m<module>\u001b[0;34m\u001b[0m\n\u001b[0;32m----> 1\u001b[0;31m \u001b[0mlight_curves\u001b[0m\u001b[0;34m(\u001b[0m\u001b[0mk2_61_df\u001b[0m\u001b[0;34m,\u001b[0m \u001b[0mtargets\u001b[0m\u001b[0;34m=\u001b[0m\u001b[0;34m'K2-61'\u001b[0m\u001b[0;34m)\u001b[0m\u001b[0;34m\u001b[0m\u001b[0;34m\u001b[0m\u001b[0m\n\u001b[0m",
      "\u001b[0;32m<ipython-input-773-3da593522cf1>\u001b[0m in \u001b[0;36mlight_curves\u001b[0;34m(df, targets)\u001b[0m\n\u001b[1;32m     39\u001b[0m         \u001b[0;31m# final result\u001b[0m\u001b[0;34m\u001b[0m\u001b[0;34m\u001b[0m\u001b[0;34m\u001b[0m\u001b[0m\n\u001b[1;32m     40\u001b[0m         \u001b[0mfig\u001b[0m \u001b[0;34m=\u001b[0m \u001b[0mplt\u001b[0m\u001b[0;34m.\u001b[0m\u001b[0mfigure\u001b[0m\u001b[0;34m(\u001b[0m\u001b[0mfigsize\u001b[0m\u001b[0;34m=\u001b[0m\u001b[0;34m(\u001b[0m\u001b[0;36m11\u001b[0m\u001b[0;34m,\u001b[0m\u001b[0;36m5\u001b[0m\u001b[0;34m)\u001b[0m\u001b[0;34m)\u001b[0m\u001b[0;34m\u001b[0m\u001b[0;34m\u001b[0m\u001b[0m\n\u001b[0;32m---> 41\u001b[0;31m         \u001b[0mplt\u001b[0m\u001b[0;34m.\u001b[0m\u001b[0mplot\u001b[0m\u001b[0;34m(\u001b[0m\u001b[0mts_folded\u001b[0m\u001b[0;34m.\u001b[0m\u001b[0mtime\u001b[0m\u001b[0;34m.\u001b[0m\u001b[0mjd\u001b[0m\u001b[0;34m,\u001b[0m \u001b[0mts_folded\u001b[0m\u001b[0;34m[\u001b[0m\u001b[0;34m'sap_flux_norm'\u001b[0m\u001b[0;34m]\u001b[0m\u001b[0;34m,\u001b[0m \u001b[0;34m'k.'\u001b[0m\u001b[0;34m,\u001b[0m \u001b[0mmarkersize\u001b[0m\u001b[0;34m=\u001b[0m\u001b[0;36m1\u001b[0m\u001b[0;34m)\u001b[0m\u001b[0;34m\u001b[0m\u001b[0;34m\u001b[0m\u001b[0m\n\u001b[0m\u001b[1;32m     42\u001b[0m         \u001b[0mplt\u001b[0m\u001b[0;34m.\u001b[0m\u001b[0mplot\u001b[0m\u001b[0;34m(\u001b[0m\u001b[0mts_binned\u001b[0m\u001b[0;34m.\u001b[0m\u001b[0mtime_bin_start\u001b[0m\u001b[0;34m.\u001b[0m\u001b[0mjd\u001b[0m\u001b[0;34m,\u001b[0m \u001b[0mts_binned\u001b[0m\u001b[0;34m[\u001b[0m\u001b[0;34m'sap_flux_norm'\u001b[0m\u001b[0;34m]\u001b[0m\u001b[0;34m,\u001b[0m \u001b[0;34m'r-'\u001b[0m\u001b[0;34m,\u001b[0m \u001b[0mdrawstyle\u001b[0m\u001b[0;34m=\u001b[0m\u001b[0;34m'steps-post'\u001b[0m\u001b[0;34m)\u001b[0m\u001b[0;34m\u001b[0m\u001b[0;34m\u001b[0m\u001b[0m\n\u001b[1;32m     43\u001b[0m         \u001b[0mplt\u001b[0m\u001b[0;34m.\u001b[0m\u001b[0mxlabel\u001b[0m\u001b[0;34m(\u001b[0m\u001b[0;34m'Time (days)'\u001b[0m\u001b[0;34m)\u001b[0m\u001b[0;34m\u001b[0m\u001b[0;34m\u001b[0m\u001b[0m\n",
      "\u001b[0;32m~/Code/ENV/spacekit-env/lib/python3.7/site-packages/pandas/core/generic.py\u001b[0m in \u001b[0;36m__getattr__\u001b[0;34m(self, name)\u001b[0m\n\u001b[1;32m   5134\u001b[0m             \u001b[0;32mif\u001b[0m \u001b[0mself\u001b[0m\u001b[0;34m.\u001b[0m\u001b[0m_info_axis\u001b[0m\u001b[0;34m.\u001b[0m\u001b[0m_can_hold_identifiers_and_holds_name\u001b[0m\u001b[0;34m(\u001b[0m\u001b[0mname\u001b[0m\u001b[0;34m)\u001b[0m\u001b[0;34m:\u001b[0m\u001b[0;34m\u001b[0m\u001b[0;34m\u001b[0m\u001b[0m\n\u001b[1;32m   5135\u001b[0m                 \u001b[0;32mreturn\u001b[0m \u001b[0mself\u001b[0m\u001b[0;34m[\u001b[0m\u001b[0mname\u001b[0m\u001b[0;34m]\u001b[0m\u001b[0;34m\u001b[0m\u001b[0;34m\u001b[0m\u001b[0m\n\u001b[0;32m-> 5136\u001b[0;31m             \u001b[0;32mreturn\u001b[0m \u001b[0mobject\u001b[0m\u001b[0;34m.\u001b[0m\u001b[0m__getattribute__\u001b[0m\u001b[0;34m(\u001b[0m\u001b[0mself\u001b[0m\u001b[0;34m,\u001b[0m \u001b[0mname\u001b[0m\u001b[0;34m)\u001b[0m\u001b[0;34m\u001b[0m\u001b[0;34m\u001b[0m\u001b[0m\n\u001b[0m\u001b[1;32m   5137\u001b[0m \u001b[0;34m\u001b[0m\u001b[0m\n\u001b[1;32m   5138\u001b[0m     \u001b[0;32mdef\u001b[0m \u001b[0m__setattr__\u001b[0m\u001b[0;34m(\u001b[0m\u001b[0mself\u001b[0m\u001b[0;34m,\u001b[0m \u001b[0mname\u001b[0m\u001b[0;34m:\u001b[0m \u001b[0mstr\u001b[0m\u001b[0;34m,\u001b[0m \u001b[0mvalue\u001b[0m\u001b[0;34m)\u001b[0m \u001b[0;34m->\u001b[0m \u001b[0;32mNone\u001b[0m\u001b[0;34m:\u001b[0m\u001b[0;34m\u001b[0m\u001b[0;34m\u001b[0m\u001b[0m\n",
      "\u001b[0;31mAttributeError\u001b[0m: 'Series' object has no attribute 'time'"
     ]
    },
    {
     "data": {
      "text/plain": [
       "<Figure size 792x360 with 0 Axes>"
      ]
     },
     "metadata": {},
     "output_type": "display_data"
    }
   ],
   "source": [
    "light_curves(k2_61_df, targets='K2-61')"
   ]
  },
  {
   "cell_type": "code",
   "execution_count": 730,
   "metadata": {},
   "outputs": [],
   "source": [
    "K2 = {}\n",
    "campaigns = ['c01','c02','c03','c04','c05','c06','c07','c08','c102',\n",
    "             'c111','c12','c13','c14','c15','c16','c17','c18','c19']\n",
    "for campaign in campaigns:\n",
    "    K2[campaign] = [file for file in files if '-' + campaign + '_' in file]"
   ]
  },
  {
   "cell_type": "code",
   "execution_count": 733,
   "metadata": {},
   "outputs": [
    {
     "data": {
      "text/plain": [
       "32"
      ]
     },
     "execution_count": 733,
     "metadata": {},
     "output_type": "execute_result"
    }
   ],
   "source": [
    "len(K2['c03'])"
   ]
  },
  {
   "cell_type": "code",
   "execution_count": 731,
   "metadata": {},
   "outputs": [
    {
     "data": {
      "text/plain": [
       "['ktwo201498078-c14_llc.fits',\n",
       " 'ktwo248435473-c14_llc.fits',\n",
       " 'ktwo248545986-c14_llc.fits']"
      ]
     },
     "execution_count": 731,
     "metadata": {},
     "output_type": "execute_result"
    }
   ],
   "source": [
    "K2['c14']"
   ]
  },
  {
   "cell_type": "code",
   "execution_count": 198,
   "metadata": {},
   "outputs": [
    {
     "name": "stdout",
     "output_type": "stream",
     "text": [
      "transit_time: 2017-06-02T08:22:12.614\n",
      "transit_time: 2017-06-24T14:07:23.408\n",
      "transit_time: 2017-06-01T14:36:18.225\n"
     ]
    },
    {
     "data": {
      "image/png": "[encoded data removed]",
      "text/plain": [
       "<Figure size 792x360 with 1 Axes>"
      ]
     },
     "metadata": {},
     "output_type": "display_data"
    },
    {
     "data": {
      "image/png": "[encoded data removed]",
      "text/plain": [
       "<Figure size 792x360 with 1 Axes>"
      ]
     },
     "metadata": {},
     "output_type": "display_data"
    },
    {
     "data": {
      "image/png": "[encoded data removed]",
      "text/plain": [
       "<Figure size 792x360 with 1 Axes>"
      ]
     },
     "metadata": {},
     "output_type": "display_data"
    }
   ],
   "source": [
    "planet_hunter(file_list=K2['c14'], fmt='kepler.fits')"
   ]
  },
  {
   "cell_type": "code",
   "execution_count": 199,
   "metadata": {},
   "outputs": [
    {
     "data": {
      "text/plain": [
       "['ktwo229426032-c111_llc.fits']"
      ]
     },
     "execution_count": 199,
     "metadata": {},
     "output_type": "execute_result"
    }
   ],
   "source": [
    "K2['c111']"
   ]
  },
  {
   "cell_type": "code",
   "execution_count": 202,
   "metadata": {},
   "outputs": [
    {
     "name": "stdout",
     "output_type": "stream",
     "text": [
      "transit_time: 2016-09-30T09:28:34.948\n"
     ]
    },
    {
     "data": {
      "image/png": "[encoded data removed]",
      "text/plain": [
       "<Figure size 792x360 with 1 Axes>"
      ]
     },
     "metadata": {},
     "output_type": "display_data"
    }
   ],
   "source": [
    "planet_hunter(K2['c111'])"
   ]
  },
  {
   "cell_type": "markdown",
   "metadata": {},
   "source": [
    "### Fourier Periodogram"
   ]
  },
  {
   "cell_type": "code",
   "execution_count": 285,
   "metadata": {},
   "outputs": [],
   "source": [
    "file = K2['c12'][0]\n",
    "ts = TimeSeries.read(file, format='kepler.fits')"
   ]
  },
  {
   "cell_type": "code",
   "execution_count": 294,
   "metadata": {},
   "outputs": [
    {
     "data": {
      "text/html": [
       "<i>TimeSeries length=3599</i>\n",
       "<table id=\"table140684223782192\" class=\"table-striped table-bordered table-condensed\">\n",
       "<thead><tr><th>time</th><th>timecorr</th><th>cadenceno</th><th>sap_flux</th><th>sap_flux_err</th><th>sap_bkg</th><th>sap_bkg_err</th><th>pdcsap_flux</th><th>pdcsap_flux_err</th><th>sap_quality</th><th>psf_centr1</th><th>psf_centr1_err</th><th>psf_centr2</th><th>psf_centr2_err</th><th>mom_centr1</th><th>mom_centr1_err</th><th>mom_centr2</th><th>mom_centr2_err</th><th>pos_corr1</th><th>pos_corr2</th></tr></thead>\n",
       "<thead><tr><th></th><th>d</th><th></th><th>electron / s</th><th>electron / s</th><th>electron / s</th><th>electron / s</th><th>electron / s</th><th>electron / s</th><th></th><th>pix</th><th>pix</th><th>pix</th><th>pix</th><th>pix</th><th>pix</th><th>pix</th><th>pix</th><th>pix</th><th>pix</th></tr></thead>\n",
       "<thead><tr><th>object</th><th>float32</th><th>int32</th><th>float32</th><th>float32</th><th>float32</th><th>float32</th><th>float32</th><th>float32</th><th>int32</th><th>float64</th><th>float32</th><th>float64</th><th>float32</th><th>float64</th><th>float32</th><th>float64</th><th>float32</th><th>float32</th><th>float32</th></tr></thead>\n",
       "<tr><td>2016-12-15T21:02:47.381</td><td>5.039264e-03</td><td>136855</td><td>4.1193602e+04</td><td>6.0429826e+00</td><td>1.8712344e+03</td><td>8.9095551e-01</td><td>nan</td><td>nan</td><td>10000000000000000000</td><td>1044.73196</td><td>7.6680488e-05</td><td>247.88943</td><td>8.3006111e-05</td><td>1044.78822</td><td>2.0011830e-04</td><td>247.93401</td><td>1.6174708e-04</td><td>-1.2001304e-01</td><td>-1.7544615e-01</td></tr>\n",
       "<tr><td>2016-12-15T21:32:12.721</td><td>5.037833e-03</td><td>136856</td><td>4.1070230e+04</td><td>6.0351734e+00</td><td>1.8742091e+03</td><td>8.8381660e-01</td><td>4.2273715e+04</td><td>6.7905793e+00</td><td>0</td><td>1044.69823</td><td>7.5580479e-05</td><td>247.88943</td><td>8.2519917e-05</td><td>1044.74637</td><td>2.0143474e-04</td><td>247.93612</td><td>1.6180836e-04</td><td>-1.5872276e-01</td><td>-1.7225918e-01</td></tr>\n",
       "<tr><td>2016-12-15T22:01:38.060</td><td>5.036402e-03</td><td>136857</td><td>4.0906270e+04</td><td>6.0280766e+00</td><td>1.8710625e+03</td><td>8.8939810e-01</td><td>4.2278039e+04</td><td>6.7842360e+00</td><td>0</td><td>1044.66626</td><td>7.4959280e-05</td><td>247.88706</td><td>8.1610408e-05</td><td>1044.70640</td><td>2.0272918e-04</td><td>247.93580</td><td>1.6192219e-04</td><td>-1.9644962e-01</td><td>-1.7266949e-01</td></tr>\n",
       "<tr><td>2016-12-15T22:31:03.400</td><td>5.034972e-03</td><td>136858</td><td>4.0717684e+04</td><td>6.0173841e+00</td><td>1.8714913e+03</td><td>8.8563567e-01</td><td>4.2278801e+04</td><td>6.7740507e+00</td><td>0</td><td>1044.63530</td><td>7.4929434e-05</td><td>247.88493</td><td>8.1180755e-05</td><td>1044.66582</td><td>2.0419457e-04</td><td>247.93641</td><td>1.6213245e-04</td><td>-2.3700853e-01</td><td>-1.7370421e-01</td></tr>\n",
       "<tr><td>2016-12-15T23:00:28.739</td><td>5.033540e-03</td><td>136859</td><td>4.0530891e+04</td><td>6.0056615e+00</td><td>1.8699783e+03</td><td>8.8599199e-01</td><td>4.2287793e+04</td><td>6.7613697e+00</td><td>0</td><td>1044.60868</td><td>7.5598618e-05</td><td>247.88173</td><td>8.0864862e-05</td><td>1044.62977</td><td>2.0538218e-04</td><td>247.93548</td><td>1.6222682e-04</td><td>-2.7483684e-01</td><td>-1.7599967e-01</td></tr>\n",
       "<tr><td>2016-12-15T23:29:54.078</td><td>5.032107e-03</td><td>136860</td><td>4.0304152e+04</td><td>5.9918852e+00</td><td>1.8721565e+03</td><td>8.9183956e-01</td><td>4.2286965e+04</td><td>6.7461653e+00</td><td>0</td><td>1044.58076</td><td>7.6703815e-05</td><td>247.87932</td><td>8.0754609e-05</td><td>1044.59185</td><td>2.0689185e-04</td><td>247.93478</td><td>1.6235519e-04</td><td>-3.1450313e-01</td><td>-1.7729656e-01</td></tr>\n",
       "<tr><td>2016-12-15T23:59:19.417</td><td>5.030674e-03</td><td>136861</td><td>4.0010156e+04</td><td>5.9751115e+00</td><td>1.8724093e+03</td><td>8.8285273e-01</td><td>4.2295219e+04</td><td>6.7277236e+00</td><td>0</td><td>1044.54891</td><td>7.8935547e-05</td><td>247.87691</td><td>8.1059989e-05</td><td>1044.55061</td><td>2.0849673e-04</td><td>247.93444</td><td>1.6243455e-04</td><td>-3.6036032e-01</td><td>-1.7810458e-01</td></tr>\n",
       "<tr><td>2016-12-16T00:28:44.757</td><td>5.029241e-03</td><td>136862</td><td>3.9627641e+04</td><td>5.9541502e+00</td><td>1.8733802e+03</td><td>8.8760543e-01</td><td>4.2283094e+04</td><td>6.7036772e+00</td><td>0</td><td>1044.51006</td><td>8.5294800e-05</td><td>247.87450</td><td>8.1045924e-05</td><td>1044.50503</td><td>2.1058969e-04</td><td>247.93268</td><td>1.6254731e-04</td><td>-4.1248348e-01</td><td>-1.7951110e-01</td></tr>\n",
       "<tr><td>2016-12-16T00:58:10.096</td><td>5.027806e-03</td><td>136863</td><td>3.9297160e+04</td><td>5.9342833e+00</td><td>1.8695597e+03</td><td>8.9476323e-01</td><td>4.2298746e+04</td><td>6.6812053e+00</td><td>0</td><td>1044.47802</td><td>8.7257868e-05</td><td>247.87470</td><td>8.0338876e-05</td><td>1044.46874</td><td>2.1191925e-04</td><td>247.93355</td><td>1.6249633e-04</td><td>-4.5238695e-01</td><td>-1.8015733e-01</td></tr>\n",
       "<tr><td>...</td><td>...</td><td>...</td><td>...</td><td>...</td><td>...</td><td>...</td><td>...</td><td>...</td><td>...</td><td>...</td><td>...</td><td>...</td><td>...</td><td>...</td><td>...</td><td>...</td><td>...</td><td>...</td><td>...</td></tr>\n",
       "<tr><td>2017-03-04T13:54:56.155</td><td>-2.299411e-03</td><td>140707</td><td>4.1327039e+04</td><td>6.3228011e+00</td><td>6.1943755e+03</td><td>1.0192469e+00</td><td>4.2072453e+04</td><td>7.1368809e+00</td><td>0</td><td>1044.62017</td><td>7.9154939e-05</td><td>248.00828</td><td>1.0340003e-04</td><td>1044.66884</td><td>2.3676989e-04</td><td>248.01733</td><td>1.8100327e-04</td><td>-2.4516888e-01</td><td>-6.2465921e-02</td></tr>\n",
       "<tr><td>2017-03-04T14:24:21.475</td><td>-2.301166e-03</td><td>140708</td><td>4.1076043e+04</td><td>6.3076415e+00</td><td>6.2030005e+03</td><td>1.0152832e+00</td><td>4.2091223e+04</td><td>7.1200075e+00</td><td>0</td><td>1044.57470</td><td>8.0348334e-05</td><td>248.00426</td><td>1.0364551e-04</td><td>1044.61398</td><td>2.3924214e-04</td><td>248.01456</td><td>1.8106561e-04</td><td>-2.9970285e-01</td><td>-6.6795357e-02</td></tr>\n",
       "<tr><td>2017-03-04T14:53:46.778</td><td>-2.302920e-03</td><td>140709</td><td>4.0792160e+04</td><td>6.2949266e+00</td><td>6.2083848e+03</td><td>1.0226250e+00</td><td>4.2130727e+04</td><td>7.1058512e+00</td><td>0</td><td>1044.53166</td><td>8.2554332e-05</td><td>248.00320</td><td>1.0385817e-04</td><td>1044.56280</td><td>2.4149536e-04</td><td>248.01269</td><td>1.8102389e-04</td><td>-3.4988859e-01</td><td>-6.8996660e-02</td></tr>\n",
       "<tr><td>2017-03-04T15:23:12.098</td><td>-2.304675e-03</td><td>140710</td><td>4.0562824e+04</td><td>6.2795382e+00</td><td>6.2102607e+03</td><td>1.0207943e+00</td><td>4.2125883e+04</td><td>7.0881996e+00</td><td>0</td><td>1044.50116</td><td>8.5300067e-05</td><td>247.99876</td><td>1.0261613e-04</td><td>1044.52828</td><td>2.4319960e-04</td><td>248.00921</td><td>1.8101215e-04</td><td>-3.8430095e-01</td><td>-7.3335603e-02</td></tr>\n",
       "<tr><td>2017-03-04T15:52:37.410</td><td>-2.306429e-03</td><td>140711</td><td>4.0054184e+04</td><td>6.2550631e+00</td><td>6.2197041e+03</td><td>1.0188305e+00</td><td>4.2129746e+04</td><td>7.0602970e+00</td><td>0</td><td>1044.44116</td><td>8.8324654e-05</td><td>247.99708</td><td>1.0062585e-04</td><td>1044.45991</td><td>2.4660854e-04</td><td>248.00565</td><td>1.8105516e-04</td><td>-4.5459068e-01</td><td>-7.6170661e-02</td></tr>\n",
       "<tr><td>2017-03-04T16:22:02.721</td><td>-2.308182e-03</td><td>140712</td><td>3.9647863e+04</td><td>6.2340827e+00</td><td>6.2234658e+03</td><td>1.0208987e+00</td><td>4.2117914e+04</td><td>7.0351114e+00</td><td>0</td><td>1044.40039</td><td>9.1926115e-05</td><td>247.99993</td><td>1.0032655e-04</td><td>1044.41655</td><td>2.4893330e-04</td><td>248.00468</td><td>1.8102267e-04</td><td>-5.0047451e-01</td><td>-7.6406121e-02</td></tr>\n",
       "<tr><td>2017-03-04T16:51:28.033</td><td>-2.309935e-03</td><td>140713</td><td>3.9057035e+04</td><td>6.1987233e+00</td><td>6.2272920e+03</td><td>1.0191098e+00</td><td>4.2107957e+04</td><td>6.9933457e+00</td><td>0</td><td>1044.34332</td><td>9.7515236e-05</td><td>247.99816</td><td>9.8405333e-05</td><td>1044.35997</td><td>2.5209223e-04</td><td>248.00100</td><td>1.8102121e-04</td><td>-5.6134641e-01</td><td>-7.9684205e-02</td></tr>\n",
       "<tr><td>2017-03-04T17:20:53.336</td><td>-2.311688e-03</td><td>140714</td><td>3.8509004e+04</td><td>6.1716971e+00</td><td>6.2317559e+03</td><td>1.0198914e+00</td><td>4.2126242e+04</td><td>6.9604058e+00</td><td>0</td><td>1044.29464</td><td>1.0755614e-04</td><td>247.99510</td><td>9.8385965e-05</td><td>1044.31338</td><td>2.5485660e-04</td><td>247.99790</td><td>1.8100260e-04</td><td>-6.1245626e-01</td><td>-8.2511947e-02</td></tr>\n",
       "<tr><td>2017-03-04T17:50:18.647</td><td>-2.313440e-03</td><td>140715</td><td>3.7831910e+04</td><td>6.1341586e+00</td><td>6.2368359e+03</td><td>1.0223651e+00</td><td>4.2139074e+04</td><td>6.9169908e+00</td><td>0</td><td>1044.23731</td><td>1.1981227e-04</td><td>247.99578</td><td>9.8557393e-05</td><td>1044.26537</td><td>2.5796544e-04</td><td>247.99602</td><td>1.8103182e-04</td><td>-6.6729444e-01</td><td>-8.4261179e-02</td></tr>\n",
       "<tr><td>2017-03-04T18:19:43.968</td><td>-2.315192e-03</td><td>140716</td><td>3.6781031e+04</td><td>6.0781231e+00</td><td>6.2426479e+03</td><td>1.0226895e+00</td><td>4.2184676e+04</td><td>6.8496237e+00</td><td>10000000000000000000</td><td>1044.14781</td><td>1.2670984e-04</td><td>247.99870</td><td>9.8585522e-05</td><td>1044.20239</td><td>2.6226469e-04</td><td>247.99328</td><td>1.8115948e-04</td><td>-7.3946899e-01</td><td>-8.6407945e-02</td></tr>\n",
       "</table>"
      ],
      "text/plain": [
       "<TimeSeries length=3599>\n",
       "          time             timecorr   ...   pos_corr1      pos_corr2   \n",
       "                              d       ...      pix            pix      \n",
       "         object            float32    ...    float32        float32    \n",
       "----------------------- ------------- ... -------------- --------------\n",
       "2016-12-15T21:02:47.381  5.039264e-03 ... -1.2001304e-01 -1.7544615e-01\n",
       "2016-12-15T21:32:12.721  5.037833e-03 ... -1.5872276e-01 -1.7225918e-01\n",
       "2016-12-15T22:01:38.060  5.036402e-03 ... -1.9644962e-01 -1.7266949e-01\n",
       "2016-12-15T22:31:03.400  5.034972e-03 ... -2.3700853e-01 -1.7370421e-01\n",
       "2016-12-15T23:00:28.739  5.033540e-03 ... -2.7483684e-01 -1.7599967e-01\n",
       "2016-12-15T23:29:54.078  5.032107e-03 ... -3.1450313e-01 -1.7729656e-01\n",
       "2016-12-15T23:59:19.417  5.030674e-03 ... -3.6036032e-01 -1.7810458e-01\n",
       "2016-12-16T00:28:44.757  5.029241e-03 ... -4.1248348e-01 -1.7951110e-01\n",
       "2016-12-16T00:58:10.096  5.027806e-03 ... -4.5238695e-01 -1.8015733e-01\n",
       "                    ...           ... ...            ...            ...\n",
       "2017-03-04T13:54:56.155 -2.299411e-03 ... -2.4516888e-01 -6.2465921e-02\n",
       "2017-03-04T14:24:21.475 -2.301166e-03 ... -2.9970285e-01 -6.6795357e-02\n",
       "2017-03-04T14:53:46.778 -2.302920e-03 ... -3.4988859e-01 -6.8996660e-02\n",
       "2017-03-04T15:23:12.098 -2.304675e-03 ... -3.8430095e-01 -7.3335603e-02\n",
       "2017-03-04T15:52:37.410 -2.306429e-03 ... -4.5459068e-01 -7.6170661e-02\n",
       "2017-03-04T16:22:02.721 -2.308182e-03 ... -5.0047451e-01 -7.6406121e-02\n",
       "2017-03-04T16:51:28.033 -2.309935e-03 ... -5.6134641e-01 -7.9684205e-02\n",
       "2017-03-04T17:20:53.336 -2.311688e-03 ... -6.1245626e-01 -8.2511947e-02\n",
       "2017-03-04T17:50:18.647 -2.313440e-03 ... -6.6729444e-01 -8.4261179e-02\n",
       "2017-03-04T18:19:43.968 -2.315192e-03 ... -7.3946899e-01 -8.6407945e-02"
      ]
     },
     "execution_count": 294,
     "metadata": {},
     "output_type": "execute_result"
    }
   ],
   "source": [
    "ts"
   ]
  },
  {
   "cell_type": "code",
   "execution_count": 292,
   "metadata": {},
   "outputs": [
    {
     "ename": "AttributeError",
     "evalue": "'tuple' object has no attribute 'power'",
     "output_type": "error",
     "traceback": [
      "\u001b[0;31m---------------------------------------------------------------------------\u001b[0m",
      "\u001b[0;31mAttributeError\u001b[0m                            Traceback (most recent call last)",
      "\u001b[0;32m<ipython-input-292-4e60e26a3dfb>\u001b[0m in \u001b[0;36m<module>\u001b[0;34m\u001b[0m\n\u001b[1;32m      3\u001b[0m \u001b[0;32mfrom\u001b[0m \u001b[0mastropy\u001b[0m\u001b[0;34m.\u001b[0m\u001b[0mtimeseries\u001b[0m \u001b[0;32mimport\u001b[0m \u001b[0mBoxLeastSquares\u001b[0m\u001b[0;34m\u001b[0m\u001b[0;34m\u001b[0m\u001b[0m\n\u001b[1;32m      4\u001b[0m \u001b[0mperiodogram\u001b[0m \u001b[0;34m=\u001b[0m \u001b[0mBoxLeastSquares\u001b[0m\u001b[0;34m.\u001b[0m\u001b[0mfrom_timeseries\u001b[0m\u001b[0;34m(\u001b[0m\u001b[0mts\u001b[0m\u001b[0;34m,\u001b[0m \u001b[0;34m'sap_flux'\u001b[0m\u001b[0;34m,\u001b[0m \u001b[0;34m'sap_flux_err'\u001b[0m\u001b[0;34m)\u001b[0m\u001b[0;34m\u001b[0m\u001b[0;34m\u001b[0m\u001b[0m\n\u001b[0;32m----> 5\u001b[0;31m \u001b[0mbest\u001b[0m \u001b[0;34m=\u001b[0m \u001b[0mnp\u001b[0m\u001b[0;34m.\u001b[0m\u001b[0margmax\u001b[0m\u001b[0;34m(\u001b[0m\u001b[0mresults\u001b[0m\u001b[0;34m.\u001b[0m\u001b[0mpower\u001b[0m\u001b[0;34m)\u001b[0m\u001b[0;34m\u001b[0m\u001b[0;34m\u001b[0m\u001b[0m\n\u001b[0m\u001b[1;32m      6\u001b[0m \u001b[0mperiod\u001b[0m \u001b[0;34m=\u001b[0m \u001b[0mresults\u001b[0m\u001b[0;34m.\u001b[0m\u001b[0mperiod\u001b[0m\u001b[0;34m[\u001b[0m\u001b[0mbest\u001b[0m\u001b[0;34m]\u001b[0m\u001b[0;34m\u001b[0m\u001b[0;34m\u001b[0m\u001b[0m\n\u001b[1;32m      7\u001b[0m \u001b[0mprint\u001b[0m\u001b[0;34m(\u001b[0m\u001b[0mperiod\u001b[0m\u001b[0;34m)\u001b[0m\u001b[0;34m\u001b[0m\u001b[0;34m\u001b[0m\u001b[0m\n",
      "\u001b[0;31mAttributeError\u001b[0m: 'tuple' object has no attribute 'power'"
     ]
    }
   ],
   "source": [
    "# Estimate period\n",
    "from astropy import units as u\n",
    "from astropy.timeseries import BoxLeastSquares\n",
    "periodogram = BoxLeastSquares.from_timeseries(ts, 'sap_flux', 'sap_flux_err')\n",
    "\n",
    "best = np.argmax(results.power)\n",
    "period = results.period[best]\n",
    "print(period)"
   ]
  },
  {
   "cell_type": "code",
   "execution_count": 293,
   "metadata": {},
   "outputs": [
    {
     "data": {
      "text/plain": [
       "<Time object: scale='tdb' format='isot' value=['2016-12-15T21:02:47.381' '2016-12-15T21:32:12.721'\n",
       " '2016-12-15T22:01:38.060' ... '2017-03-04T17:20:53.336'\n",
       " '2017-03-04T17:50:18.647' '2017-03-04T18:19:43.968']>"
      ]
     },
     "execution_count": 293,
     "metadata": {},
     "output_type": "execute_result"
    }
   ],
   "source": [
    "ts.time"
   ]
  },
  {
   "cell_type": "code",
   "execution_count": null,
   "metadata": {},
   "outputs": [],
   "source": []
  },
  {
   "cell_type": "markdown",
   "metadata": {},
   "source": [
    "## Import Negatives\n",
    "\n",
    "Negative candidate samples to make up the majority class (host stars with no confirmed planets). The pre-training component of our model is to perform triage by accurately detecting and classifying flux signals as: 1) artifacts 2) eclipsing binaries or 3) possible planet(s). Only the andidates scoring above a certain prediction threshold for TCE probability will be selected for the next step (vetting)."
   ]
  },
  {
   "cell_type": "markdown",
   "metadata": {},
   "source": [
    "📓 Time Series (at varying $\\phi$)"
   ]
  },
  {
   "cell_type": "markdown",
   "metadata": {},
   "source": [
    "### Spectral Cube"
   ]
  },
  {
   "cell_type": "code",
   "execution_count": null,
   "metadata": {},
   "outputs": [],
   "source": [
    "# !pip install astropy spectral-cube\n",
    "# !pip install astropy reproject\n",
    "\n",
    "import astropy.units as u\n",
    "\n",
    "from astropy.utils.data import download_file\n",
    "from astropy.io import fits  # We use fits to open the actual data file\n",
    "# from astropy.utils import data\n",
    "# data.conf.remote_timeout = 60\n",
    "from spectral_cube import SpectralCube\n",
    "from astroquery.esasky import ESASky\n",
    "from astroquery.utils import TableList\n",
    "from astropy.wcs import WCS\n",
    "from reproject import reproject_interp"
   ]
  },
  {
   "cell_type": "code",
   "execution_count": null,
   "metadata": {},
   "outputs": [],
   "source": [
    "# create astropy Table from pandas\n",
    "# t2 = Table.read('data.csv', format='pandas.csv', sep=' ', names=['a', 'b', 'c'])"
   ]
  },
  {
   "cell_type": "code",
   "execution_count": null,
   "metadata": {},
   "outputs": [],
   "source": []
  },
  {
   "cell_type": "markdown",
   "metadata": {},
   "source": [
    "### Spectrum 1D"
   ]
  },
  {
   "cell_type": "code",
   "execution_count": null,
   "metadata": {},
   "outputs": [],
   "source": [
    "# !pip install specutils"
   ]
  },
  {
   "cell_type": "code",
   "execution_count": 241,
   "metadata": {},
   "outputs": [],
   "source": [
    "from specutils import Spectrum1D\n",
    "\n",
    "spec1 = Spectrum1D(spectral_axis=np.arange(1, 50) * u.nm, flux=np.random.sample(49)*u.Jy)\n",
    "spec2 = Spectrum1D(spectral_axis=np.arange(1, 50) * u.nm, flux=np.random.sample(49)*u.Jy)\n",
    "spec3 = spec1 + spec2\n",
    "\n",
    "flux1 = np.asarray(spec1.flux)\n",
    "flux2 = np.asarray(spec2.flux)\n",
    "make_specgram(flux1)\n",
    "make_specgram(flux2)"
   ]
  },
  {
   "cell_type": "markdown",
   "metadata": {},
   "source": [
    "### Normalize flux to local continuum"
   ]
  },
  {
   "cell_type": "code",
   "execution_count": null,
   "metadata": {},
   "outputs": [],
   "source": [
    "# Normalize the flux to the local continuum\n",
    "# In this example we want to look at the time evolution of a single specific \n",
    "# emission line in the spectrum. In order to estimate the equivalent width or \n",
    "# make reasonable plots we need to normalize the flux to the local continuum. \n",
    "# In this specific case the emission line is bright and the continuum can be \n",
    "# described reasonably by a second-order polynomial.\n",
    "\n",
    "# So, we define two regions left and right of the emission line, where we fit \n",
    "# the polynomial. Looking at the figure, [3925*u.AA, 3930*u.AA] and \n",
    "# [3938*u.AA, 3945*u.AA] seem right for that. \n",
    "# Then, we normalize the flux by this polynomial.\n",
    "\n",
    "# The following function will do that:\n",
    "\n",
    "def region_around_line(w, flux, cont):\n",
    "    '''cut out and normalize flux around a line\n",
    "\n",
    "    Parameters\n",
    "    ----------\n",
    "    w : 1 dim np.ndarray\n",
    "    array of wavelengths\n",
    "    flux : np.ndarray of shape (N, len(w))\n",
    "    array of flux values for different spectra in the series\n",
    "    cont : list of lists\n",
    "    wavelengths for continuum normalization [[low1,up1],[low2, up2]]\n",
    "    that described two areas on both sides of the line\n",
    "    '''\n",
    "    #index is true in the region where we fit the polynomial\n",
    "    indcont = ((w > cont[0][0]) & (w < cont[0][1])) |((w > cont[1][0]) & (w < cont[1][1]))\n",
    "    #index of the region we want to return\n",
    "    indrange = (w > cont[0][0]) & (w < cont[1][1])\n",
    "    # make a flux array of shape\n",
    "    # (number of spectra, number of points in indrange)\n",
    "    f = np.zeros((flux.shape[0], indrange.sum()))\n",
    "    for i in range(flux.shape[0]):\n",
    "        # fit polynomial of second order to the continuum region\n",
    "        linecoeff = np.polyfit(w[indcont], flux[i, indcont], 2)\n",
    "        # divide the flux by the polynomial and put the result in our\n",
    "        # new flux array\n",
    "        f[i,:] = flux[i,indrange] / np.polyval(linecoeff, w[indrange].value)\n",
    "    return w[indrange], f\n",
    "\n",
    "wcaII, fcaII = region_around_line(wavelength, flux,\n",
    "    [[3925*u.AA, 3930*u.AA],[3938*u.AA, 3945*u.AA]])"
   ]
  },
  {
   "cell_type": "markdown",
   "metadata": {},
   "source": [
    "### Lightkurve"
   ]
  },
  {
   "cell_type": "code",
   "execution_count": null,
   "metadata": {},
   "outputs": [],
   "source": [
    "\n",
    "# !pip install lightkurve\n",
    "#import lightkurve as lk\n",
    "# Finding periodic signals\n",
    "# The lightkurve.periodogram module provides classes to help find periodic signals in light curves.\n",
    "\n",
    "# Periodogram(frequency, power[, nyquist, …])"
   ]
  },
  {
   "cell_type": "code",
   "execution_count": 252,
   "metadata": {},
   "outputs": [
    {
     "data": {
      "text/plain": [
       "[<matplotlib.lines.Line2D at 0x7ff5bf9e7278>]"
      ]
     },
     "execution_count": 252,
     "metadata": {},
     "output_type": "execute_result"
    },
    {
     "data": {
      "image/png": "[encoded data removed]",
      "text/plain": [
       "<Figure size 432x288 with 1 Axes>"
      ]
     },
     "metadata": {},
     "output_type": "display_data"
    }
   ],
   "source": [
    "from astropy.timeseries import LombScargle\n",
    "frequency, power = LombScargle.from_timeseries(ts, 'sap_flux').autopower(method='fast')\n",
    "plt.plot(frequency, power) "
   ]
  },
  {
   "cell_type": "code",
   "execution_count": 280,
   "metadata": {},
   "outputs": [
    {
     "data": {
      "image/png": "[encoded data removed]",
      "text/plain": [
       "<Figure size 432x288 with 1 Axes>"
      ]
     },
     "metadata": {},
     "output_type": "display_data"
    }
   ],
   "source": [
    "best = frequency[np.argmax(power)]\n",
    "fig= plt.figure()\n",
    "ax= plt.plot(frequency, power) \n",
    "\n",
    "plt.show()"
   ]
  },
  {
   "cell_type": "code",
   "execution_count": 233,
   "metadata": {},
   "outputs": [],
   "source": [
    "def fourier_periodogram(t, y):\n",
    "    N = len(t)\n",
    "    frequency = np.fft.fftfreq(N, t[1] - t[0])\n",
    "    y_fft = np.fft.fft(y.value) * y.unit\n",
    "    positive = (frequency > 0)\n",
    "    return frequency[positive], (1. / N) * abs(y_fft[positive]) ** 2"
   ]
  },
  {
   "cell_type": "markdown",
   "metadata": {},
   "source": [
    "## Peak Stastics"
   ]
  },
  {
   "cell_type": "code",
   "execution_count": null,
   "metadata": {},
   "outputs": [],
   "source": [
    "model = BoxLeastSquares(t * u.day, y, dy=0.01)\n",
    "periodogram = model.autopower(0.2)\n",
    "max_power = np.argmax(periodogram.power)\n",
    "stats = model.compute_stats(periodogram.period[max_power],\n",
    "                            periodogram.duration[max_power],\n",
    "                            periodogram.transit_time[max_power])"
   ]
  },
  {
   "cell_type": "markdown",
   "metadata": {},
   "source": [
    "# FITS image"
   ]
  },
  {
   "cell_type": "code",
   "execution_count": 317,
   "metadata": {},
   "outputs": [],
   "source": [
    "from astropy.visualization import astropy_mpl_style\n",
    "plt.style.use(astropy_mpl_style)"
   ]
  },
  {
   "cell_type": "code",
   "execution_count": 360,
   "metadata": {},
   "outputs": [],
   "source": [
    "image_data = fits.getdata('ktwo204890128-c02_llc.fits', ext=2)"
   ]
  },
  {
   "cell_type": "code",
   "execution_count": 361,
   "metadata": {},
   "outputs": [
    {
     "name": "stdout",
     "output_type": "stream",
     "text": [
      "(10, 11)\n"
     ]
    }
   ],
   "source": [
    "print(image_data.shape)"
   ]
  },
  {
   "cell_type": "code",
   "execution_count": 362,
   "metadata": {},
   "outputs": [
    {
     "data": {
      "text/plain": [
       "<matplotlib.colorbar.Colorbar at 0x7fa6eceafcd0>"
      ]
     },
     "execution_count": 362,
     "metadata": {},
     "output_type": "execute_result"
    },
    {
     "data": {
      "image/png": "[encoded data removed]",
      "text/plain": [
       "<Figure size 576x432 with 2 Axes>"
      ]
     },
     "metadata": {},
     "output_type": "display_data"
    }
   ],
   "source": [
    "plt.figure()\n",
    "plt.imshow(image_data, cmap='gray')\n",
    "plt.colorbar()"
   ]
  },
  {
   "cell_type": "code",
   "execution_count": 369,
   "metadata": {},
   "outputs": [
    {
     "data": {
      "text/plain": [
       "<matplotlib.colorbar.Colorbar at 0x7fa6ecb9b090>"
      ]
     },
     "execution_count": 369,
     "metadata": {},
     "output_type": "execute_result"
    },
    {
     "data": {
      "image/png": "[encoded data removed]",
      "text/plain": [
       "<Figure size 576x432 with 2 Axes>"
      ]
     },
     "metadata": {},
     "output_type": "display_data"
    }
   ],
   "source": [
    "plt.figure()\n",
    "plt.imshow(image_data, cmap='rainbow')\n",
    "plt.colorbar()"
   ]
  },
  {
   "cell_type": "code",
   "execution_count": 375,
   "metadata": {},
   "outputs": [],
   "source": [
    "# !pip install spectral_cube"
   ]
  },
  {
   "cell_type": "code",
   "execution_count": 374,
   "metadata": {},
   "outputs": [],
   "source": [
    "from spectral_cube import SpectralCube\n",
    "\n",
    "from astroquery.esasky import ESASky\n",
    "from astroquery.utils import TableList\n",
    "from astropy.wcs import WCS\n"
   ]
  },
  {
   "cell_type": "code",
   "execution_count": 378,
   "metadata": {},
   "outputs": [],
   "source": [
    "# cube = SpectralCube.read('')"
   ]
  },
  {
   "cell_type": "markdown",
   "metadata": {},
   "source": [
    "# Model"
   ]
  },
  {
   "cell_type": "code",
   "execution_count": null,
   "metadata": {},
   "outputs": [],
   "source": [
    "# Uncomment below to install\n",
    "# !pip install xgboost\n",
    "# !pip install keras\n",
    "# !pip install tensorflow\n",
    "# !pip install imblearn"
   ]
  },
  {
   "cell_type": "code",
   "execution_count": null,
   "metadata": {},
   "outputs": [],
   "source": [
    "### <---- IMPORT LIBRARIES ----> ####\n",
    "\n",
    "## Preprocessing\n",
    "# from imblearn.over_sampling import SMOTE # For imbalanced datasets\n",
    "# from sklearn import preprocessing, linear_model, datasets, metrics\n",
    "# from sklearn.preprocessing import StandardScaler\n",
    "# from sklearn.externals import joblib\n",
    "# import scipy.ndimage\n",
    "# from scipy.ndimage import convolve\n",
    "# from scipy.ndimage.filters import uniform_filter1d\n",
    "# from sklearn.base import clone\n",
    "# import random\n",
    "#\n",
    "## Data Pipeline - Model Selection\n",
    "# from imblearn.pipeline import make_pipeline, Pipeline\n",
    "# from sklearn.pipeline import Pipeline\n",
    "# from sklearn.model_selection import train_test_split\n",
    "# from sklearn.model_selection import GridSearchCV\n",
    "# from sklearn.model_selection import StratifiedKFold\n",
    "#\n",
    "## Machine learning libraries\n",
    "#\n",
    "# from sklearn.linear_model import LinearRegression\n",
    "# from sklearn.linear_model import LogisticRegression\n",
    "# from sklearn.decomposition import PCA\n",
    "# from sklearn import svm\n",
    "# from sklearn.svm import SVC\n",
    "# from sklearn.svm import LinearSVC\n",
    "# from sklearn import tree\n",
    "# from sklearn.tree import DecisionTreeClassifier \n",
    "# from sklearn.tree import export_graphviz \n",
    "# from pydotplus import graph_from_dot_data\n",
    "# from sklearn.ensemble import RandomForestClassifier\n",
    "# from sklearn.ensemble import AdaBoostClassifier\n",
    "# from xgboost import XGBClassifier\n",
    "#\n",
    "## Neural Networks\n",
    "#\n",
    "# KERAS\n",
    "# from keras.utils.np_utils import to_categorical\n",
    "# from keras.preprocessing.text import Tokenizer\n",
    "# from keras import models, layers, optimizers\n",
    "# from keras.models import Sequential, Model\n",
    "# from keras.layers import Conv1D, MaxPool1D, Dense, Dropout, Flatten, \\\n",
    "# BatchNormalization, Input, concatenate, Activation\n",
    "# from keras.optimizers import Adam\n",
    "# \n",
    "# RBM\n",
    "# from sklearn.neural_network import BernoulliRBM\n",
    "#\n",
    "## Model Evaluation\n",
    "# from sklearn.metrics import accuracy_score,roc_curve,auc,roc_auc_score, \\\n",
    "# average_precision_score, recall_score,precision_score,f1_score, \\\n",
    "# classification_report, make_scorer, confusion_matrix"
   ]
  },
  {
   "cell_type": "code",
   "execution_count": null,
   "metadata": {},
   "outputs": [],
   "source": []
  },
  {
   "cell_type": "markdown",
   "metadata": {},
   "source": [
    "# Signal Analysis - CNNs"
   ]
  },
  {
   "cell_type": "markdown",
   "metadata": {},
   "source": [
    "### Bidirectional LSTM"
   ]
  },
  {
   "cell_type": "code",
   "execution_count": null,
   "metadata": {},
   "outputs": [],
   "source": [
    "\n",
    "from keras.preprocessing.sequence import pad_sequences\n",
    "from keras.layers import Input, Dense, LSTM, Embedding\n",
    "from keras.layers import Dropout, Activation, Bidirectional, GlobalMaxPool1D\n",
    "from keras.models import Model\n",
    "from keras import initializers, regularizers, constraints, optimizers, layers\n",
    "from keras.preprocessing import text, sequence\n",
    "from keras.callbacks import ModelCheckpoint\n",
    "from keras.callbacks import EarlyStopping"
   ]
  },
  {
   "cell_type": "code",
   "execution_count": null,
   "metadata": {},
   "outputs": [],
   "source": []
  },
  {
   "cell_type": "code",
   "execution_count": null,
   "metadata": {},
   "outputs": [],
   "source": []
  },
  {
   "cell_type": "markdown",
   "metadata": {},
   "source": [
    "# Image Analysis - Keras CNN"
   ]
  },
  {
   "cell_type": "code",
   "execution_count": 3,
   "metadata": {
    "ExecuteTime": {
     "end_time": "2020-08-26T00:20:32.373558Z",
     "start_time": "2020-08-26T00:20:32.353510Z"
    }
   },
   "outputs": [
    {
     "data": {
      "text/plain": [
       "['test', 'train']"
      ]
     },
     "execution_count": 3,
     "metadata": {},
     "output_type": "execute_result"
    }
   ],
   "source": [
    "import os, glob, sys\n",
    "from os import path\n",
    "\n",
    "base_folder = r'specs/'\n",
    "os.listdir(base_folder)"
   ]
  },
  {
   "cell_type": "code",
   "execution_count": 4,
   "metadata": {
    "ExecuteTime": {
     "end_time": "2020-08-26T00:20:33.830928Z",
     "start_time": "2020-08-26T00:20:33.824230Z"
    }
   },
   "outputs": [],
   "source": [
    "train_base_dir = base_folder+'train/'\n",
    "test_base_dir = base_folder+'test/'\n",
    "\n",
    "train_planets_dir = train_base_dir+'planets/'\n",
    "train_negatives_dir = train_base_dir+'negatives/'\n",
    "\n",
    "test_planets_dir = test_base_dir+'planets/'\n",
    "test_negatives_dir = test_base_dir+'negatives/'"
   ]
  },
  {
   "cell_type": "code",
   "execution_count": 5,
   "metadata": {
    "ExecuteTime": {
     "end_time": "2020-08-26T00:20:37.578563Z",
     "start_time": "2020-08-26T00:20:37.567199Z"
    }
   },
   "outputs": [],
   "source": [
    "planet_train_files = glob.glob(train_planets_dir+'*.png')\n",
    "negative_train_files = glob.glob(train_negatives_dir+'*.png')\n",
    "all_train_files = [*planet_train_files, *negative_train_files]\n",
    "\n",
    "planet_test_files = glob.glob(test_planets_dir+'*.png')\n",
    "negative_test_files = glob.glob(test_negatives_dir+'*.png')\n",
    "all_test_files = [*planet_test_files, *negative_test_files]\n",
    "\n",
    "all_filename_vars = [planet_train_files, negative_train_files,\n",
    "                     planet_test_files, negative_test_files]"
   ]
  },
  {
   "cell_type": "code",
   "execution_count": 6,
   "metadata": {
    "ExecuteTime": {
     "end_time": "2020-08-26T01:16:58.043305Z",
     "start_time": "2020-08-26T01:16:58.035253Z"
    }
   },
   "outputs": [],
   "source": [
    "def load_img_cv2(filename, RGB=True):\n",
    "    import cv2\n",
    "    IMG = cv2.imread(filename)\n",
    "    \n",
    "    if RGB: \n",
    "        cmap = cv2.COLOR_BGR2RGB\n",
    "    \n",
    "    else:\n",
    "        cmap=cv2.COLOR_BGR2GRAY\n",
    "        \n",
    "    return cv2.cvtColor(IMG, cmap)\n"
   ]
  },
  {
   "cell_type": "code",
   "execution_count": 7,
   "metadata": {
    "ExecuteTime": {
     "end_time": "2020-08-26T01:42:42.102335Z",
     "start_time": "2020-08-26T01:42:42.092549Z"
    }
   },
   "outputs": [
    {
     "name": "stderr",
     "output_type": "stream",
     "text": [
      "Using TensorFlow backend.\n"
     ]
    }
   ],
   "source": [
    "from PIL import Image\n",
    "from keras.preprocessing import image\n",
    "from imageio import imread\n",
    "from skimage.transform import resize\n",
    "from tqdm import tqdm\n",
    "\n",
    "# defining a function to read images and convert to array\n",
    "def read_img(img_path, target_size=(8,8)):\n",
    "    #img = load_img_cv2(img_path)\n",
    "    #img = image.img_to_array(img)\n",
    "    img = image.load_img(img_path, target_size=target_size, interpolation='bilinear')\n",
    "    img = image.img_to_array(img)\n",
    "    return img"
   ]
  },
  {
   "cell_type": "code",
   "execution_count": 8,
   "metadata": {
    "ExecuteTime": {
     "end_time": "2020-08-26T01:42:44.240727Z",
     "start_time": "2020-08-26T01:42:44.228056Z"
    }
   },
   "outputs": [],
   "source": [
    "# Read in training and test filenames to produce X and y data splits.\n",
    "\n",
    "def xy_arrays(planet_train_filenames, negative_train_filenames, \n",
    "              planet_test_filenames, negative_test_filenames, \n",
    "              img_size=(8,8)):\n",
    "    # y labels are encoded as 0=negatives, 1=planets\n",
    "    # returns X_train, X_test, y_train, y_test, y_val\n",
    "    \n",
    "    import numpy as np\n",
    "    \n",
    "    display('[i] LOADING IMAGES')\n",
    "    X_img = []\n",
    "    y_label = []\n",
    "    \n",
    "    for img_path in tqdm(planet_train_files):\n",
    "        X_img.append(read_img(img_path, target_size=img_size))\n",
    "        y_label.append(1)\n",
    "        \n",
    "    for img_path in tqdm(negative_train_files):\n",
    "        X_img.append(read_img(img_path, target_size=img_size))\n",
    "        y_label.append(0)\n",
    "    \n",
    "    for img_path in tqdm(planet_test_files):\n",
    "        X_img.append(read_img(img_path, target_size=img_size))\n",
    "        y_label.append(1)\n",
    "        \n",
    "    for img_path in tqdm(negative_test_files):\n",
    "        X_img.append(read_img(img_path, target_size=img_size))\n",
    "        y_label.append(0)\n",
    "        \n",
    "    from sklearn.model_selection import train_test_split\n",
    "    X = np.array(X_img, np.float32)\n",
    "    y = np.array(y_label)\n",
    "    \n",
    "    return X, y"
   ]
  },
  {
   "cell_type": "code",
   "execution_count": 11,
   "metadata": {
    "ExecuteTime": {
     "end_time": "2020-08-26T01:43:24.529979Z",
     "start_time": "2020-08-26T01:43:23.219553Z"
    }
   },
   "outputs": [
    {
     "data": {
      "text/plain": [
       "'[i] LOADING IMAGES'"
      ]
     },
     "metadata": {},
     "output_type": "display_data"
    },
    {
     "name": "stderr",
     "output_type": "stream",
     "text": [
      "100%|██████████| 37/37 [00:00<00:00, 87.01it/s]\n",
      "100%|██████████| 37/37 [00:00<00:00, 99.42it/s]\n",
      "100%|██████████| 5/5 [00:00<00:00, 68.97it/s]\n",
      "100%|██████████| 5/5 [00:00<00:00, 48.90it/s]\n"
     ]
    }
   ],
   "source": [
    "X, y = xy_arrays(planet_train_files, negative_train_files, \n",
    "              planet_test_files, negative_test_files, \n",
    "              img_size=(64,64,3))"
   ]
  },
  {
   "cell_type": "code",
   "execution_count": 12,
   "metadata": {
    "ExecuteTime": {
     "end_time": "2020-08-26T01:43:25.452360Z",
     "start_time": "2020-08-26T01:43:25.443229Z"
    }
   },
   "outputs": [
    {
     "data": {
      "text/plain": [
       "((84, 64, 64, 3), (84,))"
      ]
     },
     "execution_count": 12,
     "metadata": {},
     "output_type": "execute_result"
    }
   ],
   "source": [
    "X.shape, y.shape"
   ]
  },
  {
   "cell_type": "code",
   "execution_count": 15,
   "metadata": {
    "ExecuteTime": {
     "end_time": "2020-08-26T01:43:40.056805Z",
     "start_time": "2020-08-26T01:43:40.046668Z"
    }
   },
   "outputs": [
    {
     "data": {
      "text/plain": [
       "array([[254., 229., 222.],\n",
       "       [251., 150., 119.],\n",
       "       [251., 143., 108.],\n",
       "       [157.,  92.,  74.],\n",
       "       [ 20.,  20.,  24.],\n",
       "       [ 22.,  20.,  25.],\n",
       "       [163.,  73.,  79.],\n",
       "       [237., 100., 107.],\n",
       "       [238., 104., 107.],\n",
       "       [248., 130., 106.],\n",
       "       [250., 136., 106.],\n",
       "       [242., 120., 108.],\n",
       "       [228.,  91., 113.],\n",
       "       [228.,  90., 113.],\n",
       "       [220.,  84., 117.],\n",
       "       [214.,  81., 120.],\n",
       "       [211.,  80., 121.],\n",
       "       [184.,  69., 131.],\n",
       "       [177.,  66., 134.],\n",
       "       [186.,  70., 130.],\n",
       "       [218.,  84., 118.],\n",
       "       [221.,  85., 117.],\n",
       "       [215.,  82., 120.],\n",
       "       [208.,  77., 124.],\n",
       "       [207.,  77., 124.],\n",
       "       [171.,  64., 133.],\n",
       "       [153.,  59., 138.],\n",
       "       [156.,  59., 137.],\n",
       "       [175.,  66., 134.],\n",
       "       [178.,  66., 133.],\n",
       "       [192.,  72., 128.],\n",
       "       [215.,  81., 120.],\n",
       "       [214.,  81., 120.],\n",
       "       [180.,  68., 130.],\n",
       "       [159.,  60., 137.],\n",
       "       [166.,  65., 134.],\n",
       "       [230., 106., 109.],\n",
       "       [245., 116., 104.],\n",
       "       [247., 131., 110.],\n",
       "       [253., 180., 131.],\n",
       "       [254., 184., 132.],\n",
       "       [201., 125., 135.],\n",
       "       [136.,  53., 139.],\n",
       "       [138.,  57., 140.],\n",
       "       [216., 190., 177.],\n",
       "       [251., 250., 194.],\n",
       "       [251., 249., 193.],\n",
       "       [252., 243., 186.],\n",
       "       [252., 242., 185.],\n",
       "       [229., 190., 170.],\n",
       "       [175.,  69., 136.],\n",
       "       [174.,  67., 135.],\n",
       "       [225., 157., 145.],\n",
       "       [254., 207., 151.],\n",
       "       [254., 208., 152.],\n",
       "       [253., 222., 165.],\n",
       "       [253., 224., 167.],\n",
       "       [241., 188., 157.],\n",
       "       [205.,  82., 127.],\n",
       "       [203.,  75., 126.],\n",
       "       [224.,  99., 115.],\n",
       "       [247., 124., 104.],\n",
       "       [247., 128., 109.],\n",
       "       [252., 212., 206.]], dtype=float32)"
      ]
     },
     "execution_count": 15,
     "metadata": {},
     "output_type": "execute_result"
    }
   ],
   "source": [
    "X[0][1]"
   ]
  },
  {
   "cell_type": "code",
   "execution_count": 159,
   "metadata": {
    "ExecuteTime": {
     "end_time": "2020-08-26T01:43:26.679487Z",
     "start_time": "2020-08-26T01:43:26.667173Z"
    }
   },
   "outputs": [],
   "source": [
    "# Authors: Yann N. Dauphin, Vlad Niculae, Gabriel Synnaeve\n",
    "# License: BSD\n",
    "\n",
    "# #############################################################################\n",
    "# Setting up\n",
    "\n",
    "def nudge_dataset(X, Y):\n",
    "    \"\"\"\n",
    "    This produces a dataset 5 times bigger than the original one,\n",
    "    by moving the 8x8 images in X around by 1px to left, right, down, up\n",
    "    \"\"\"\n",
    "    direction_vectors = [\n",
    "        [[0, 1, 0],\n",
    "         [0, 0, 0],\n",
    "         [0, 0, 0]],\n",
    "\n",
    "        [[0, 0, 0],\n",
    "         [1, 0, 0],\n",
    "         [0, 0, 0]],\n",
    "\n",
    "        [[0, 0, 0],\n",
    "         [0, 0, 1],\n",
    "         [0, 0, 0]],\n",
    "\n",
    "        [[0, 0, 0],\n",
    "         [0, 0, 0],\n",
    "         [0, 1, 0]]]\n",
    "\n",
    "    def shift(x, w):\n",
    "        return convolve(x.reshape((8, 8)), mode='constant', weights=w).ravel()\n",
    "\n",
    "    X = np.concatenate([X] +\n",
    "                       [np.apply_along_axis(shift, 1, X, vector)\n",
    "                        for vector in direction_vectors])\n",
    "    Y = np.concatenate([Y for _ in range(5)], axis=0)\n",
    "    return X, Y"
   ]
  },
  {
   "cell_type": "code",
   "execution_count": 160,
   "metadata": {
    "ExecuteTime": {
     "end_time": "2020-08-26T01:43:30.484726Z",
     "start_time": "2020-08-26T01:43:27.760586Z"
    }
   },
   "outputs": [],
   "source": [
    "X, Y = nudge_dataset(X, y)"
   ]
  },
  {
   "cell_type": "code",
   "execution_count": 170,
   "metadata": {
    "ExecuteTime": {
     "end_time": "2020-08-26T01:44:36.409658Z",
     "start_time": "2020-08-26T01:44:36.400620Z"
    }
   },
   "outputs": [
    {
     "data": {
      "text/plain": [
       "(420, 64, 64, 3)"
      ]
     },
     "execution_count": 170,
     "metadata": {},
     "output_type": "execute_result"
    }
   ],
   "source": [
    "X.shape"
   ]
  },
  {
   "cell_type": "code",
   "execution_count": 161,
   "metadata": {
    "ExecuteTime": {
     "end_time": "2020-08-26T01:43:30.532963Z",
     "start_time": "2020-08-26T01:43:30.505003Z"
    }
   },
   "outputs": [
    {
     "data": {
      "text/plain": [
       "array([1, 1, 1, 1, 1, 1, 1, 1, 1, 1, 1, 1, 1, 1, 1, 1, 1, 1, 1, 1, 1, 1,\n",
       "       1, 1, 1, 1, 1, 1, 1, 1, 1, 1, 1, 1, 1, 1, 1, 0, 0, 0, 0, 0, 0, 0,\n",
       "       0, 0, 0, 0, 0, 0, 0, 0, 0, 0, 0, 0, 0, 0, 0, 0, 0, 0, 0, 0, 0, 0,\n",
       "       0, 0, 0, 0, 0, 0, 0, 0, 1, 1, 1, 1, 1, 0, 0, 0, 0, 0, 1, 1, 1, 1,\n",
       "       1, 1, 1, 1, 1, 1, 1, 1, 1, 1, 1, 1, 1, 1, 1, 1, 1, 1, 1, 1, 1, 1,\n",
       "       1, 1, 1, 1, 1, 1, 1, 1, 1, 1, 1, 0, 0, 0, 0, 0, 0, 0, 0, 0, 0, 0,\n",
       "       0, 0, 0, 0, 0, 0, 0, 0, 0, 0, 0, 0, 0, 0, 0, 0, 0, 0, 0, 0, 0, 0,\n",
       "       0, 0, 0, 0, 1, 1, 1, 1, 1, 0, 0, 0, 0, 0, 1, 1, 1, 1, 1, 1, 1, 1,\n",
       "       1, 1, 1, 1, 1, 1, 1, 1, 1, 1, 1, 1, 1, 1, 1, 1, 1, 1, 1, 1, 1, 1,\n",
       "       1, 1, 1, 1, 1, 1, 1, 0, 0, 0, 0, 0, 0, 0, 0, 0, 0, 0, 0, 0, 0, 0,\n",
       "       0, 0, 0, 0, 0, 0, 0, 0, 0, 0, 0, 0, 0, 0, 0, 0, 0, 0, 0, 0, 0, 0,\n",
       "       1, 1, 1, 1, 1, 0, 0, 0, 0, 0, 1, 1, 1, 1, 1, 1, 1, 1, 1, 1, 1, 1,\n",
       "       1, 1, 1, 1, 1, 1, 1, 1, 1, 1, 1, 1, 1, 1, 1, 1, 1, 1, 1, 1, 1, 1,\n",
       "       1, 1, 1, 0, 0, 0, 0, 0, 0, 0, 0, 0, 0, 0, 0, 0, 0, 0, 0, 0, 0, 0,\n",
       "       0, 0, 0, 0, 0, 0, 0, 0, 0, 0, 0, 0, 0, 0, 0, 0, 0, 0, 1, 1, 1, 1,\n",
       "       1, 0, 0, 0, 0, 0, 1, 1, 1, 1, 1, 1, 1, 1, 1, 1, 1, 1, 1, 1, 1, 1,\n",
       "       1, 1, 1, 1, 1, 1, 1, 1, 1, 1, 1, 1, 1, 1, 1, 1, 1, 1, 1, 1, 1, 0,\n",
       "       0, 0, 0, 0, 0, 0, 0, 0, 0, 0, 0, 0, 0, 0, 0, 0, 0, 0, 0, 0, 0, 0,\n",
       "       0, 0, 0, 0, 0, 0, 0, 0, 0, 0, 0, 0, 0, 0, 1, 1, 1, 1, 1, 0, 0, 0,\n",
       "       0, 0])"
      ]
     },
     "execution_count": 161,
     "metadata": {},
     "output_type": "execute_result"
    }
   ],
   "source": [
    "Y"
   ]
  },
  {
   "cell_type": "code",
   "execution_count": 162,
   "metadata": {
    "ExecuteTime": {
     "end_time": "2020-08-26T01:43:32.338708Z",
     "start_time": "2020-08-26T01:43:32.259353Z"
    }
   },
   "outputs": [],
   "source": [
    "X = (X - np.min(X, 0)) / (np.max(X, 0) + 0.0001)  # 0-1 scaling"
   ]
  },
  {
   "cell_type": "code",
   "execution_count": 163,
   "metadata": {
    "ExecuteTime": {
     "end_time": "2020-08-26T01:43:33.294011Z",
     "start_time": "2020-08-26T01:43:33.284307Z"
    }
   },
   "outputs": [
    {
     "data": {
      "text/plain": [
       "((420, 64, 64, 3), (84,))"
      ]
     },
     "execution_count": 163,
     "metadata": {},
     "output_type": "execute_result"
    }
   ],
   "source": [
    "X.shape, y.shape"
   ]
  },
  {
   "cell_type": "code",
   "execution_count": null,
   "metadata": {},
   "outputs": [],
   "source": [
    "# X_train,X_test,X_val,y_train,y_test,y_val=load_train_test_val(planet_train_files, \n",
    "#                                                               negative_train_files,\n",
    "#                                                               planet_test_files, \n",
    "#                                                               negative_test_files, \n",
    "#                                                               val_size=0.1, \n",
    "#                                                               img_size=(64,64,3))\n",
    "\n",
    "\n",
    "#     X_train,X_val, y_train, y_val = train_test_split(X,y,test_size=0.1)\n",
    "    \n",
    "#     print('\\n[i] Length of Splits:')\n",
    "#     print(f\"X_train={len(X_train)}, X_test={len(X_test)}, X_val={len(X_val)}\")\n",
    "    \n",
    "#     return X_train, X_test, X_val, y_train, y_test, y_val"
   ]
  },
  {
   "cell_type": "code",
   "execution_count": 164,
   "metadata": {
    "ExecuteTime": {
     "end_time": "2020-08-26T01:43:39.215920Z",
     "start_time": "2020-08-26T01:43:39.198212Z"
    }
   },
   "outputs": [],
   "source": [
    "X_train, X_test, Y_train, Y_test = train_test_split(\n",
    "    X, Y, test_size=0.2, random_state=0)"
   ]
  },
  {
   "cell_type": "code",
   "execution_count": 166,
   "metadata": {
    "ExecuteTime": {
     "end_time": "2020-08-26T01:43:41.791880Z",
     "start_time": "2020-08-26T01:43:41.785105Z"
    }
   },
   "outputs": [],
   "source": [
    "# Models we will use\n",
    "logistic = linear_model.LogisticRegression(solver='newton-cg', tol=1)\n",
    "rbm = BernoulliRBM(random_state=0, verbose=True)\n",
    "\n",
    "rbm_features_classifier = Pipeline(\n",
    "    steps=[('rbm', rbm), ('logistic', logistic)])"
   ]
  },
  {
   "cell_type": "code",
   "execution_count": 167,
   "metadata": {
    "ExecuteTime": {
     "end_time": "2020-08-26T01:43:42.584085Z",
     "start_time": "2020-08-26T01:43:42.576895Z"
    }
   },
   "outputs": [],
   "source": [
    "# #############################################################################\n",
    "# Training\n",
    "\n",
    "# Hyper-parameters. These were set by cross-validation,\n",
    "# using a GridSearchCV. Here we are not performing cross-validation to\n",
    "# save time.\n",
    "rbm.learning_rate = 0.06\n",
    "rbm.n_iter = 10\n",
    "# More components tend to give better prediction performance, but larger\n",
    "# fitting time\n",
    "rbm.n_components = 100\n",
    "logistic.C = 6000"
   ]
  },
  {
   "cell_type": "code",
   "execution_count": 169,
   "metadata": {
    "ExecuteTime": {
     "end_time": "2020-08-26T01:43:51.486787Z",
     "start_time": "2020-08-26T01:43:51.375271Z"
    }
   },
   "outputs": [
    {
     "ename": "ValueError",
     "evalue": "Found array with dim 4. Estimator expected <= 2.",
     "output_type": "error",
     "traceback": [
      "\u001b[0;31m---------------------------------------------------------------------------\u001b[0m",
      "\u001b[0;31mValueError\u001b[0m                                Traceback (most recent call last)",
      "\u001b[0;32m<ipython-input-169-dc5d0c13eb41>\u001b[0m in \u001b[0;36m<module>\u001b[0;34m\u001b[0m\n\u001b[1;32m      1\u001b[0m \u001b[0;31m# Training RBM-Logistic Pipeline\u001b[0m\u001b[0;34m\u001b[0m\u001b[0;34m\u001b[0m\u001b[0;34m\u001b[0m\u001b[0m\n\u001b[0;32m----> 2\u001b[0;31m \u001b[0mrbm_features_classifier\u001b[0m\u001b[0;34m.\u001b[0m\u001b[0mfit\u001b[0m\u001b[0;34m(\u001b[0m\u001b[0mX_train\u001b[0m\u001b[0;34m,\u001b[0m \u001b[0mY_train\u001b[0m\u001b[0;34m)\u001b[0m\u001b[0;34m\u001b[0m\u001b[0;34m\u001b[0m\u001b[0m\n\u001b[0m",
      "\u001b[0;32m~/opt/anaconda3/envs/learn-env/lib/python3.6/site-packages/sklearn/pipeline.py\u001b[0m in \u001b[0;36mfit\u001b[0;34m(self, X, y, **fit_params)\u001b[0m\n\u001b[1;32m    348\u001b[0m             \u001b[0mThis\u001b[0m \u001b[0mestimator\u001b[0m\u001b[0;34m\u001b[0m\u001b[0;34m\u001b[0m\u001b[0m\n\u001b[1;32m    349\u001b[0m         \"\"\"\n\u001b[0;32m--> 350\u001b[0;31m         \u001b[0mXt\u001b[0m\u001b[0;34m,\u001b[0m \u001b[0mfit_params\u001b[0m \u001b[0;34m=\u001b[0m \u001b[0mself\u001b[0m\u001b[0;34m.\u001b[0m\u001b[0m_fit\u001b[0m\u001b[0;34m(\u001b[0m\u001b[0mX\u001b[0m\u001b[0;34m,\u001b[0m \u001b[0my\u001b[0m\u001b[0;34m,\u001b[0m \u001b[0;34m**\u001b[0m\u001b[0mfit_params\u001b[0m\u001b[0;34m)\u001b[0m\u001b[0;34m\u001b[0m\u001b[0;34m\u001b[0m\u001b[0m\n\u001b[0m\u001b[1;32m    351\u001b[0m         with _print_elapsed_time('Pipeline',\n\u001b[1;32m    352\u001b[0m                                  self._log_message(len(self.steps) - 1)):\n",
      "\u001b[0;32m~/opt/anaconda3/envs/learn-env/lib/python3.6/site-packages/sklearn/pipeline.py\u001b[0m in \u001b[0;36m_fit\u001b[0;34m(self, X, y, **fit_params)\u001b[0m\n\u001b[1;32m    313\u001b[0m                 \u001b[0mmessage_clsname\u001b[0m\u001b[0;34m=\u001b[0m\u001b[0;34m'Pipeline'\u001b[0m\u001b[0;34m,\u001b[0m\u001b[0;34m\u001b[0m\u001b[0;34m\u001b[0m\u001b[0m\n\u001b[1;32m    314\u001b[0m                 \u001b[0mmessage\u001b[0m\u001b[0;34m=\u001b[0m\u001b[0mself\u001b[0m\u001b[0;34m.\u001b[0m\u001b[0m_log_message\u001b[0m\u001b[0;34m(\u001b[0m\u001b[0mstep_idx\u001b[0m\u001b[0;34m)\u001b[0m\u001b[0;34m,\u001b[0m\u001b[0;34m\u001b[0m\u001b[0;34m\u001b[0m\u001b[0m\n\u001b[0;32m--> 315\u001b[0;31m                 **fit_params_steps[name])\n\u001b[0m\u001b[1;32m    316\u001b[0m             \u001b[0;31m# Replace the transformer of the step with the fitted\u001b[0m\u001b[0;34m\u001b[0m\u001b[0;34m\u001b[0m\u001b[0;34m\u001b[0m\u001b[0m\n\u001b[1;32m    317\u001b[0m             \u001b[0;31m# transformer. This is necessary when loading the transformer\u001b[0m\u001b[0;34m\u001b[0m\u001b[0;34m\u001b[0m\u001b[0;34m\u001b[0m\u001b[0m\n",
      "\u001b[0;32m~/opt/anaconda3/envs/learn-env/lib/python3.6/site-packages/joblib/memory.py\u001b[0m in \u001b[0;36m__call__\u001b[0;34m(self, *args, **kwargs)\u001b[0m\n\u001b[1;32m    353\u001b[0m \u001b[0;34m\u001b[0m\u001b[0m\n\u001b[1;32m    354\u001b[0m     \u001b[0;32mdef\u001b[0m \u001b[0m__call__\u001b[0m\u001b[0;34m(\u001b[0m\u001b[0mself\u001b[0m\u001b[0;34m,\u001b[0m \u001b[0;34m*\u001b[0m\u001b[0margs\u001b[0m\u001b[0;34m,\u001b[0m \u001b[0;34m**\u001b[0m\u001b[0mkwargs\u001b[0m\u001b[0;34m)\u001b[0m\u001b[0;34m:\u001b[0m\u001b[0;34m\u001b[0m\u001b[0;34m\u001b[0m\u001b[0m\n\u001b[0;32m--> 355\u001b[0;31m         \u001b[0;32mreturn\u001b[0m \u001b[0mself\u001b[0m\u001b[0;34m.\u001b[0m\u001b[0mfunc\u001b[0m\u001b[0;34m(\u001b[0m\u001b[0;34m*\u001b[0m\u001b[0margs\u001b[0m\u001b[0;34m,\u001b[0m \u001b[0;34m**\u001b[0m\u001b[0mkwargs\u001b[0m\u001b[0;34m)\u001b[0m\u001b[0;34m\u001b[0m\u001b[0;34m\u001b[0m\u001b[0m\n\u001b[0m\u001b[1;32m    356\u001b[0m \u001b[0;34m\u001b[0m\u001b[0m\n\u001b[1;32m    357\u001b[0m     \u001b[0;32mdef\u001b[0m \u001b[0mcall_and_shelve\u001b[0m\u001b[0;34m(\u001b[0m\u001b[0mself\u001b[0m\u001b[0;34m,\u001b[0m \u001b[0;34m*\u001b[0m\u001b[0margs\u001b[0m\u001b[0;34m,\u001b[0m \u001b[0;34m**\u001b[0m\u001b[0mkwargs\u001b[0m\u001b[0;34m)\u001b[0m\u001b[0;34m:\u001b[0m\u001b[0;34m\u001b[0m\u001b[0;34m\u001b[0m\u001b[0m\n",
      "\u001b[0;32m~/opt/anaconda3/envs/learn-env/lib/python3.6/site-packages/sklearn/pipeline.py\u001b[0m in \u001b[0;36m_fit_transform_one\u001b[0;34m(transformer, X, y, weight, message_clsname, message, **fit_params)\u001b[0m\n\u001b[1;32m    726\u001b[0m     \u001b[0;32mwith\u001b[0m \u001b[0m_print_elapsed_time\u001b[0m\u001b[0;34m(\u001b[0m\u001b[0mmessage_clsname\u001b[0m\u001b[0;34m,\u001b[0m \u001b[0mmessage\u001b[0m\u001b[0;34m)\u001b[0m\u001b[0;34m:\u001b[0m\u001b[0;34m\u001b[0m\u001b[0;34m\u001b[0m\u001b[0m\n\u001b[1;32m    727\u001b[0m         \u001b[0;32mif\u001b[0m \u001b[0mhasattr\u001b[0m\u001b[0;34m(\u001b[0m\u001b[0mtransformer\u001b[0m\u001b[0;34m,\u001b[0m \u001b[0;34m'fit_transform'\u001b[0m\u001b[0;34m)\u001b[0m\u001b[0;34m:\u001b[0m\u001b[0;34m\u001b[0m\u001b[0;34m\u001b[0m\u001b[0m\n\u001b[0;32m--> 728\u001b[0;31m             \u001b[0mres\u001b[0m \u001b[0;34m=\u001b[0m \u001b[0mtransformer\u001b[0m\u001b[0;34m.\u001b[0m\u001b[0mfit_transform\u001b[0m\u001b[0;34m(\u001b[0m\u001b[0mX\u001b[0m\u001b[0;34m,\u001b[0m \u001b[0my\u001b[0m\u001b[0;34m,\u001b[0m \u001b[0;34m**\u001b[0m\u001b[0mfit_params\u001b[0m\u001b[0;34m)\u001b[0m\u001b[0;34m\u001b[0m\u001b[0;34m\u001b[0m\u001b[0m\n\u001b[0m\u001b[1;32m    729\u001b[0m         \u001b[0;32melse\u001b[0m\u001b[0;34m:\u001b[0m\u001b[0;34m\u001b[0m\u001b[0;34m\u001b[0m\u001b[0m\n\u001b[1;32m    730\u001b[0m             \u001b[0mres\u001b[0m \u001b[0;34m=\u001b[0m \u001b[0mtransformer\u001b[0m\u001b[0;34m.\u001b[0m\u001b[0mfit\u001b[0m\u001b[0;34m(\u001b[0m\u001b[0mX\u001b[0m\u001b[0;34m,\u001b[0m \u001b[0my\u001b[0m\u001b[0;34m,\u001b[0m \u001b[0;34m**\u001b[0m\u001b[0mfit_params\u001b[0m\u001b[0;34m)\u001b[0m\u001b[0;34m.\u001b[0m\u001b[0mtransform\u001b[0m\u001b[0;34m(\u001b[0m\u001b[0mX\u001b[0m\u001b[0;34m)\u001b[0m\u001b[0;34m\u001b[0m\u001b[0;34m\u001b[0m\u001b[0m\n",
      "\u001b[0;32m~/opt/anaconda3/envs/learn-env/lib/python3.6/site-packages/sklearn/base.py\u001b[0m in \u001b[0;36mfit_transform\u001b[0;34m(self, X, y, **fit_params)\u001b[0m\n\u001b[1;32m    572\u001b[0m         \u001b[0;32melse\u001b[0m\u001b[0;34m:\u001b[0m\u001b[0;34m\u001b[0m\u001b[0;34m\u001b[0m\u001b[0m\n\u001b[1;32m    573\u001b[0m             \u001b[0;31m# fit method of arity 2 (supervised transformation)\u001b[0m\u001b[0;34m\u001b[0m\u001b[0;34m\u001b[0m\u001b[0;34m\u001b[0m\u001b[0m\n\u001b[0;32m--> 574\u001b[0;31m             \u001b[0;32mreturn\u001b[0m \u001b[0mself\u001b[0m\u001b[0;34m.\u001b[0m\u001b[0mfit\u001b[0m\u001b[0;34m(\u001b[0m\u001b[0mX\u001b[0m\u001b[0;34m,\u001b[0m \u001b[0my\u001b[0m\u001b[0;34m,\u001b[0m \u001b[0;34m**\u001b[0m\u001b[0mfit_params\u001b[0m\u001b[0;34m)\u001b[0m\u001b[0;34m.\u001b[0m\u001b[0mtransform\u001b[0m\u001b[0;34m(\u001b[0m\u001b[0mX\u001b[0m\u001b[0;34m)\u001b[0m\u001b[0;34m\u001b[0m\u001b[0;34m\u001b[0m\u001b[0m\n\u001b[0m\u001b[1;32m    575\u001b[0m \u001b[0;34m\u001b[0m\u001b[0m\n\u001b[1;32m    576\u001b[0m \u001b[0;34m\u001b[0m\u001b[0m\n",
      "\u001b[0;32m~/opt/anaconda3/envs/learn-env/lib/python3.6/site-packages/sklearn/neural_network/_rbm.py\u001b[0m in \u001b[0;36mfit\u001b[0;34m(self, X, y)\u001b[0m\n\u001b[1;32m    337\u001b[0m             \u001b[0mThe\u001b[0m \u001b[0mfitted\u001b[0m \u001b[0mmodel\u001b[0m\u001b[0;34m.\u001b[0m\u001b[0;34m\u001b[0m\u001b[0;34m\u001b[0m\u001b[0m\n\u001b[1;32m    338\u001b[0m         \"\"\"\n\u001b[0;32m--> 339\u001b[0;31m         \u001b[0mX\u001b[0m \u001b[0;34m=\u001b[0m \u001b[0mcheck_array\u001b[0m\u001b[0;34m(\u001b[0m\u001b[0mX\u001b[0m\u001b[0;34m,\u001b[0m \u001b[0maccept_sparse\u001b[0m\u001b[0;34m=\u001b[0m\u001b[0;34m'csr'\u001b[0m\u001b[0;34m,\u001b[0m \u001b[0mdtype\u001b[0m\u001b[0;34m=\u001b[0m\u001b[0mnp\u001b[0m\u001b[0;34m.\u001b[0m\u001b[0mfloat64\u001b[0m\u001b[0;34m)\u001b[0m\u001b[0;34m\u001b[0m\u001b[0;34m\u001b[0m\u001b[0m\n\u001b[0m\u001b[1;32m    340\u001b[0m         \u001b[0mn_samples\u001b[0m \u001b[0;34m=\u001b[0m \u001b[0mX\u001b[0m\u001b[0;34m.\u001b[0m\u001b[0mshape\u001b[0m\u001b[0;34m[\u001b[0m\u001b[0;36m0\u001b[0m\u001b[0;34m]\u001b[0m\u001b[0;34m\u001b[0m\u001b[0;34m\u001b[0m\u001b[0m\n\u001b[1;32m    341\u001b[0m         \u001b[0mrng\u001b[0m \u001b[0;34m=\u001b[0m \u001b[0mcheck_random_state\u001b[0m\u001b[0;34m(\u001b[0m\u001b[0mself\u001b[0m\u001b[0;34m.\u001b[0m\u001b[0mrandom_state\u001b[0m\u001b[0;34m)\u001b[0m\u001b[0;34m\u001b[0m\u001b[0;34m\u001b[0m\u001b[0m\n",
      "\u001b[0;32m~/opt/anaconda3/envs/learn-env/lib/python3.6/site-packages/sklearn/utils/validation.py\u001b[0m in \u001b[0;36mcheck_array\u001b[0;34m(array, accept_sparse, accept_large_sparse, dtype, order, copy, force_all_finite, ensure_2d, allow_nd, ensure_min_samples, ensure_min_features, warn_on_dtype, estimator)\u001b[0m\n\u001b[1;32m    572\u001b[0m         \u001b[0;32mif\u001b[0m \u001b[0;32mnot\u001b[0m \u001b[0mallow_nd\u001b[0m \u001b[0;32mand\u001b[0m \u001b[0marray\u001b[0m\u001b[0;34m.\u001b[0m\u001b[0mndim\u001b[0m \u001b[0;34m>=\u001b[0m \u001b[0;36m3\u001b[0m\u001b[0;34m:\u001b[0m\u001b[0;34m\u001b[0m\u001b[0;34m\u001b[0m\u001b[0m\n\u001b[1;32m    573\u001b[0m             raise ValueError(\"Found array with dim %d. %s expected <= 2.\"\n\u001b[0;32m--> 574\u001b[0;31m                              % (array.ndim, estimator_name))\n\u001b[0m\u001b[1;32m    575\u001b[0m \u001b[0;34m\u001b[0m\u001b[0m\n\u001b[1;32m    576\u001b[0m         \u001b[0;32mif\u001b[0m \u001b[0mforce_all_finite\u001b[0m\u001b[0;34m:\u001b[0m\u001b[0;34m\u001b[0m\u001b[0;34m\u001b[0m\u001b[0m\n",
      "\u001b[0;31mValueError\u001b[0m: Found array with dim 4. Estimator expected <= 2."
     ]
    }
   ],
   "source": [
    "# Training RBM-Logistic Pipeline\n",
    "rbm_features_classifier.fit(X_train, Y_train)"
   ]
  },
  {
   "cell_type": "code",
   "execution_count": 138,
   "metadata": {
    "ExecuteTime": {
     "end_time": "2020-08-26T01:37:05.956711Z",
     "start_time": "2020-08-26T01:37:05.905283Z"
    },
    "colab": {},
    "colab_type": "code",
    "id": "ZeVDoXp0PDIs"
   },
   "outputs": [
    {
     "ename": "ValueError",
     "evalue": "Found array with dim 4. Estimator expected <= 2.",
     "output_type": "error",
     "traceback": [
      "\u001b[0;31m---------------------------------------------------------------------------\u001b[0m",
      "\u001b[0;31mValueError\u001b[0m                                Traceback (most recent call last)",
      "\u001b[0;32m<ipython-input-138-cab912481fe4>\u001b[0m in \u001b[0;36m<module>\u001b[0;34m\u001b[0m\n\u001b[1;32m      2\u001b[0m \u001b[0mraw_pixel_classifier\u001b[0m \u001b[0;34m=\u001b[0m \u001b[0mclone\u001b[0m\u001b[0;34m(\u001b[0m\u001b[0mlogistic\u001b[0m\u001b[0;34m)\u001b[0m\u001b[0;34m\u001b[0m\u001b[0;34m\u001b[0m\u001b[0m\n\u001b[1;32m      3\u001b[0m \u001b[0mraw_pixel_classifier\u001b[0m\u001b[0;34m.\u001b[0m\u001b[0mC\u001b[0m \u001b[0;34m=\u001b[0m \u001b[0;36m100.\u001b[0m\u001b[0;34m\u001b[0m\u001b[0;34m\u001b[0m\u001b[0m\n\u001b[0;32m----> 4\u001b[0;31m \u001b[0mraw_pixel_classifier\u001b[0m\u001b[0;34m.\u001b[0m\u001b[0mfit\u001b[0m\u001b[0;34m(\u001b[0m\u001b[0mX_train\u001b[0m\u001b[0;34m,\u001b[0m \u001b[0mY_train\u001b[0m\u001b[0;34m)\u001b[0m\u001b[0;34m\u001b[0m\u001b[0;34m\u001b[0m\u001b[0m\n\u001b[0m",
      "\u001b[0;32m~/opt/anaconda3/envs/learn-env/lib/python3.6/site-packages/sklearn/linear_model/_logistic.py\u001b[0m in \u001b[0;36mfit\u001b[0;34m(self, X, y, sample_weight)\u001b[0m\n\u001b[1;32m   1525\u001b[0m \u001b[0;34m\u001b[0m\u001b[0m\n\u001b[1;32m   1526\u001b[0m         X, y = check_X_y(X, y, accept_sparse='csr', dtype=_dtype, order=\"C\",\n\u001b[0;32m-> 1527\u001b[0;31m                          accept_large_sparse=solver != 'liblinear')\n\u001b[0m\u001b[1;32m   1528\u001b[0m         \u001b[0mcheck_classification_targets\u001b[0m\u001b[0;34m(\u001b[0m\u001b[0my\u001b[0m\u001b[0;34m)\u001b[0m\u001b[0;34m\u001b[0m\u001b[0;34m\u001b[0m\u001b[0m\n\u001b[1;32m   1529\u001b[0m         \u001b[0mself\u001b[0m\u001b[0;34m.\u001b[0m\u001b[0mclasses_\u001b[0m \u001b[0;34m=\u001b[0m \u001b[0mnp\u001b[0m\u001b[0;34m.\u001b[0m\u001b[0munique\u001b[0m\u001b[0;34m(\u001b[0m\u001b[0my\u001b[0m\u001b[0;34m)\u001b[0m\u001b[0;34m\u001b[0m\u001b[0;34m\u001b[0m\u001b[0m\n",
      "\u001b[0;32m~/opt/anaconda3/envs/learn-env/lib/python3.6/site-packages/sklearn/utils/validation.py\u001b[0m in \u001b[0;36mcheck_X_y\u001b[0;34m(X, y, accept_sparse, accept_large_sparse, dtype, order, copy, force_all_finite, ensure_2d, allow_nd, multi_output, ensure_min_samples, ensure_min_features, y_numeric, warn_on_dtype, estimator)\u001b[0m\n\u001b[1;32m    753\u001b[0m                     \u001b[0mensure_min_features\u001b[0m\u001b[0;34m=\u001b[0m\u001b[0mensure_min_features\u001b[0m\u001b[0;34m,\u001b[0m\u001b[0;34m\u001b[0m\u001b[0;34m\u001b[0m\u001b[0m\n\u001b[1;32m    754\u001b[0m                     \u001b[0mwarn_on_dtype\u001b[0m\u001b[0;34m=\u001b[0m\u001b[0mwarn_on_dtype\u001b[0m\u001b[0;34m,\u001b[0m\u001b[0;34m\u001b[0m\u001b[0;34m\u001b[0m\u001b[0m\n\u001b[0;32m--> 755\u001b[0;31m                     estimator=estimator)\n\u001b[0m\u001b[1;32m    756\u001b[0m     \u001b[0;32mif\u001b[0m \u001b[0mmulti_output\u001b[0m\u001b[0;34m:\u001b[0m\u001b[0;34m\u001b[0m\u001b[0;34m\u001b[0m\u001b[0m\n\u001b[1;32m    757\u001b[0m         y = check_array(y, 'csr', force_all_finite=True, ensure_2d=False,\n",
      "\u001b[0;32m~/opt/anaconda3/envs/learn-env/lib/python3.6/site-packages/sklearn/utils/validation.py\u001b[0m in \u001b[0;36mcheck_array\u001b[0;34m(array, accept_sparse, accept_large_sparse, dtype, order, copy, force_all_finite, ensure_2d, allow_nd, ensure_min_samples, ensure_min_features, warn_on_dtype, estimator)\u001b[0m\n\u001b[1;32m    572\u001b[0m         \u001b[0;32mif\u001b[0m \u001b[0;32mnot\u001b[0m \u001b[0mallow_nd\u001b[0m \u001b[0;32mand\u001b[0m \u001b[0marray\u001b[0m\u001b[0;34m.\u001b[0m\u001b[0mndim\u001b[0m \u001b[0;34m>=\u001b[0m \u001b[0;36m3\u001b[0m\u001b[0;34m:\u001b[0m\u001b[0;34m\u001b[0m\u001b[0;34m\u001b[0m\u001b[0m\n\u001b[1;32m    573\u001b[0m             raise ValueError(\"Found array with dim %d. %s expected <= 2.\"\n\u001b[0;32m--> 574\u001b[0;31m                              % (array.ndim, estimator_name))\n\u001b[0m\u001b[1;32m    575\u001b[0m \u001b[0;34m\u001b[0m\u001b[0m\n\u001b[1;32m    576\u001b[0m         \u001b[0;32mif\u001b[0m \u001b[0mforce_all_finite\u001b[0m\u001b[0;34m:\u001b[0m\u001b[0;34m\u001b[0m\u001b[0;34m\u001b[0m\u001b[0m\n",
      "\u001b[0;31mValueError\u001b[0m: Found array with dim 4. Estimator expected <= 2."
     ]
    }
   ],
   "source": [
    "# Training the Logistic regression classifier directly on the pixel\n",
    "raw_pixel_classifier = clone(logistic)\n",
    "raw_pixel_classifier.C = 100.\n",
    "raw_pixel_classifier.fit(X_train, Y_train)"
   ]
  },
  {
   "cell_type": "code",
   "execution_count": null,
   "metadata": {},
   "outputs": [],
   "source": [
    "# #############################################################################\n",
    "# Evaluation\n",
    "\n",
    "Y_pred = rbm_features_classifier.predict(X_test)\n",
    "print(\"Logistic regression using RBM features:\\n%s\\n\" % (\n",
    "    metrics.classification_report(Y_test, Y_pred)))\n",
    "\n",
    "Y_pred = raw_pixel_classifier.predict(X_test)\n",
    "print(\"Logistic regression using raw pixel features:\\n%s\\n\" % (\n",
    "    metrics.classification_report(Y_test, Y_pred)))"
   ]
  },
  {
   "cell_type": "code",
   "execution_count": null,
   "metadata": {},
   "outputs": [],
   "source": [
    "# #############################################################################\n",
    "# Plotting\n",
    "\n",
    "plt.figure(figsize=(4.2, 4))\n",
    "for i, comp in enumerate(rbm.components_):\n",
    "    plt.subplot(10, 10, i + 1)\n",
    "    plt.imshow(comp.reshape((8, 8)), cmap=plt.cm.gray_r,\n",
    "               interpolation='nearest')\n",
    "    plt.xticks(())\n",
    "    plt.yticks(())\n",
    "plt.suptitle('100 components extracted by RBM', fontsize=16)\n",
    "plt.subplots_adjust(0.08, 0.02, 0.92, 0.85, 0.08, 0.23)\n",
    "\n",
    "plt.show()"
   ]
  }
 ],
 "metadata": {
  "colab": {
   "collapsed_sections": [],
   "name": "starskope-3.ipynb",
   "provenance": []
  },
  "kernelspec": {
   "display_name": "Python 3",
   "language": "python",
   "name": "python3"
  },
  "language_info": {
   "codemirror_mode": {
    "name": "ipython",
    "version": 3
   },
   "file_extension": ".py",
   "mimetype": "text/x-python",
   "name": "python",
   "nbconvert_exporter": "python",
   "pygments_lexer": "ipython3",
   "version": "3.7.7"
  },
  "latex_envs": {
   "LaTeX_envs_menu_present": true,
   "autoclose": false,
   "autocomplete": true,
   "bibliofile": "biblio.bib",
   "cite_by": "apalike",
   "current_citInitial": 1,
   "eqLabelWithNumbers": true,
   "eqNumInitial": 1,
   "hotkeys": {
    "equation": "Ctrl-E",
    "itemize": "Ctrl-I"
   },
   "labels_anchors": false,
   "latex_user_defs": false,
   "report_style_numbering": false,
   "user_envs_cfg": false
  },
  "toc": {
   "base_numbering": 1,
   "nav_menu": {},
   "number_sections": true,
   "sideBar": true,
   "skip_h1_title": false,
   "title_cell": "Table of Contents",
   "title_sidebar": "Contents",
   "toc_cell": false,
   "toc_position": {},
   "toc_section_display": true,
   "toc_window_display": false
  }
 },
 "nbformat": 4,
 "nbformat_minor": 4
}
