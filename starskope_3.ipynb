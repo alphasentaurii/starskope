{
 "cells": [
  {
   "cell_type": "markdown",
   "metadata": {
    "id": "cItRVIv8QpLR"
   },
   "source": [
    "# STARSKØPE\n",
    "\n",
    "## Part III: Scraping the MAST API\n",
    "\n",
    "Kepler observed parts of a 10 by 10 degree patch of sky near the constellation of Cygnus for four years (17, 3-month quarters) starting in 2009. The mission downloaded small sections of the sky at a 30-minute (long cadence) and a 1-minute (short cadence) in order to measure the variability of stars and find planets transiting these stars. These data are now available in the public s3://stpubdata/kepler/public S3 bucket on AWS.\n",
    "\n",
    "\n",
    "https://mast-labs.stsci.io/\n",
    "\n",
    "These data are available under the same terms as the public dataset for Hubble and TESS, that is, if you compute against the data from the AWS US-East region, then data access is free."
   ]
  },
  {
   "cell_type": "markdown",
   "metadata": {
    "id": "0VIYoRxrT76Q"
   },
   "source": [
    "This script queries MAST for TESS FFI data for a single sector/camera/chip combination and downloads the data from the AWS public dataset rather than from MAST servers."
   ]
  },
  {
   "cell_type": "code",
   "execution_count": null,
   "metadata": {
    "id": "DIZZaVCdT9Ce"
   },
   "outputs": [],
   "source": [
    "# Working with http://astroquery.readthedocs.io/en/latest/mast/mast.html\n",
    "# Make sure you're running the latest version of Astroquery:\n",
    "# pip install https://github.com/astropy/astroquery/archive/master.zip\n",
    "# or !pip install astroquery"
   ]
  },
  {
   "cell_type": "code",
   "execution_count": 2,
   "metadata": {
    "id": "cor8RaSaTz6M"
   },
   "outputs": [],
   "source": [
    "#!pip install astroquery"
   ]
  },
  {
   "cell_type": "code",
   "execution_count": null,
   "metadata": {
    "id": "4fajAHzBRzb_"
   },
   "outputs": [],
   "source": [
    "# !pip install awscli"
   ]
  },
  {
   "cell_type": "code",
   "execution_count": 7,
   "metadata": {
    "id": "9a3ihtC1SkIJ"
   },
   "outputs": [],
   "source": [
    "import pandas as pd\n",
    "import numpy as np\n",
    "import os\n",
    "from astroquery.mast import Observations\n",
    "from astroquery.mast import Catalogs\n",
    "\n",
    "import boto3"
   ]
  },
  {
   "cell_type": "markdown",
   "metadata": {},
   "source": [
    "### Google Colabs"
   ]
  },
  {
   "cell_type": "code",
   "execution_count": 4,
   "metadata": {
    "colab": {
     "base_uri": "https://localhost:8080/",
     "height": 122
    },
    "id": "lABo_ZekmwaF",
    "outputId": "32becb56-24c2-43f4-85bd-744f73026f9a"
   },
   "outputs": [],
   "source": [
    "from google.colab import drive\n",
    "drive.mount('/gdrive',force_remount=True)"
   ]
  },
  {
   "cell_type": "code",
   "execution_count": 5,
   "metadata": {
    "colab": {
     "base_uri": "https://localhost:8080/",
     "height": 34
    },
    "id": "2PBIWKGoc_zc",
    "outputId": "d74a834a-9d01-4c33-b9d8-1b74d6478ae9"
   },
   "outputs": [],
   "source": [
    "%cd '/gdrive/My Drive/'\n",
    "%mkdir config\n",
    "%pwd"
   ]
  },
  {
   "cell_type": "code",
   "execution_count": null,
   "metadata": {
    "id": "5DT-eUhnSHuJ"
   },
   "outputs": [],
   "source": [
    "# text = '''\n",
    "# [default]\n",
    "# aws_access_key_id = <your access key id> \n",
    "# aws_secret_access_key = <your secret access key>\n",
    "# region = <your region>\n",
    "# '''\n",
    "path = \"/gdrive/My Drive/config/awscli.ini\"\n",
    "with open(path, 'w') as f:\n",
    "   f.write(text)\n",
    "# !cat /gdrive/My\\ Drive/config/awscli.ini"
   ]
  },
  {
   "cell_type": "code",
   "execution_count": null,
   "metadata": {
    "colab": {
     "base_uri": "https://localhost:8080/",
     "height": 34
    },
    "id": "jcRI365AgGME",
    "outputId": "f6bf2ed0-b418-4d04-baa0-c379f827362d"
   },
   "outputs": [
    {
     "name": "stdout",
     "output_type": "stream",
     "text": [
      "/gdrive/My Drive/config/awscli.ini\n"
     ]
    }
   ],
   "source": [
    "!export AWS_SHARED_CREDENTIALS_FILE=/gdrive/My\\ Drive/config/awscli.ini\n",
    "path = path\n",
    "os.environ['AWS_SHARED_CREDENTIALS_FILE'] = path\n",
    "print(os.environ['AWS_SHARED_CREDENTIALS_FILE'])"
   ]
  },
  {
   "cell_type": "code",
   "execution_count": null,
   "metadata": {},
   "outputs": [],
   "source": [
    "%cd '/gdrive/My Drive/Colab Notebooks/starskope'"
   ]
  },
  {
   "cell_type": "markdown",
   "metadata": {},
   "source": [
    "### Jupyter Lab"
   ]
  },
  {
   "cell_type": "code",
   "execution_count": 7,
   "metadata": {},
   "outputs": [],
   "source": [
    "#%mkdir config"
   ]
  },
  {
   "cell_type": "code",
   "execution_count": 53,
   "metadata": {},
   "outputs": [],
   "source": [
    "# text = '''\n",
    "# [default]\n",
    "# aws_access_key_id = <access_id>\n",
    "# aws_secret_access_key = <access_key>\n",
    "# aws_session_token= <token>\n",
    "#'''"
   ]
  },
  {
   "cell_type": "code",
   "execution_count": 8,
   "metadata": {},
   "outputs": [],
   "source": [
    "path = \"./config/awscli.ini\"\n",
    "# with open(path, 'w') as f:\n",
    "#    f.write(text)"
   ]
  },
  {
   "cell_type": "code",
   "execution_count": 9,
   "metadata": {},
   "outputs": [
    {
     "name": "stdout",
     "output_type": "stream",
     "text": [
      "./config/awscli.ini\n"
     ]
    }
   ],
   "source": [
    "!export AWS_SHARED_CREDENTIALS_FILE=./config/awscli.ini\n",
    "path = path\n",
    "os.environ['AWS_SHARED_CREDENTIALS_FILE'] = path\n",
    "print(os.environ['AWS_SHARED_CREDENTIALS_FILE'])"
   ]
  },
  {
   "cell_type": "code",
   "execution_count": 10,
   "metadata": {
    "id": "-dL-geWqoLjr"
   },
   "outputs": [],
   "source": [
    "# s3://stpubdata/kepler/public\n",
    "\n",
    "region = 'us-east-1'\n",
    "s3 = boto3.resource('s3', region_name=region)\n",
    "bucket = s3.Bucket('stpubdata')\n",
    "location = {'LocationConstraint': region}\n"
   ]
  },
  {
   "cell_type": "markdown",
   "metadata": {
    "id": "q1wxe65o2Wfo"
   },
   "source": [
    "Cloud data access is enabled using the enable_cloud_dataset function, which will cause AWS to become the prefered source for data access until it is disabled (disable_cloud_dataset)."
   ]
  },
  {
   "cell_type": "markdown",
   "metadata": {
    "id": "GaP9nE8G2fcx"
   },
   "source": [
    "To directly access a list of cloud URIs for a given dataset, use the get_cloud_uris function, however when cloud access is enabled, the standatd download function download_products will preferentially pull files from AWS when they are avilable. There is also a cloud_only flag, which when set to True will cause all data products not available in the cloud to be skipped."
   ]
  },
  {
   "cell_type": "code",
   "execution_count": 11,
   "metadata": {
    "colab": {
     "base_uri": "https://localhost:8080/",
     "height": 105
    },
    "id": "BGSYEV036ktt",
    "outputId": "8b8fe5af-74a6-45ed-81b6-4e944d992779"
   },
   "outputs": [
    {
     "name": "stdout",
     "output_type": "stream",
     "text": [
      "INFO: Using the S3 STScI public dataset [astroquery.mast.cloud]\n",
      "INFO: See Request Pricing in https://aws.amazon.com/s3/pricing/ for details [astroquery.mast.cloud]\n",
      "INFO: If you have not configured boto3, follow the instructions here: https://boto3.readthedocs.io/en/latest/guide/configuration.html [astroquery.mast.cloud]\n"
     ]
    },
    {
     "name": "stderr",
     "output_type": "stream",
     "text": [
      "WARNING: Your AWS account will be charged for access to the S3 bucket [astroquery.mast.cloud]\n"
     ]
    }
   ],
   "source": [
    "Observations.enable_cloud_dataset(provider='AWS', profile='default')"
   ]
  },
  {
   "cell_type": "code",
   "execution_count": 12,
   "metadata": {
    "colab": {
     "base_uri": "https://localhost:8080/",
     "height": 360
    },
    "id": "wNYx0-WDpW4n",
    "outputId": "ee986d2d-c46b-45f3-8041-b79b73a0ee35"
   },
   "outputs": [
    {
     "name": "stdout",
     "output_type": "stream",
     "text": [
      "    ID    version  HIP TYC ...     e_Dec_orig     raddflag wdflag   objID   \n",
      "--------- -------- --- --- ... ------------------ -------- ------ ----------\n",
      "463721073 20190415  --  -- ...  0.489828592248652       -1      1  710312391\n",
      "261459129 20190415  --  -- ...  0.200397148604244        1      0 1701625107\n",
      "282391528 20190415  --  -- ...   0.47766300834538        0      0  574723760\n",
      "125414201 20190415  --  -- ...   0.22398993783274        1      0  579825329\n",
      " 81609218 20190415  --  -- ...  0.146788572369267        1      0  630541794\n",
      "260216294 20190415  --  -- ...  0.187170498094167        1      0  683390717\n",
      "123585000 20190415  --  -- ...  0.618316068787371        0      0  574511442\n",
      " 64575709 20190415  --  -- ...   0.21969663115091        1      0  595775997\n",
      " 94322581 20190415  --  -- ...  0.205286802302475        1      0  606092549\n",
      "282024596 20190415  --  -- ...  0.548806522539047        1      0  573765450\n",
      "406300991 20190415  --  -- ... 0.0518318978617112        0      0 1411465651\n",
      "125413929 20190415  --  -- ...  0.293682765259495        1      0  579825059\n",
      " 23868624 20190415  --  -- ...            355.949       --      0  916384285\n"
     ]
    }
   ],
   "source": [
    "# Example catalog query\n",
    "catalog_data = Catalogs.query_criteria(catalog=\"Tic\",Bmag=[30,50],objType=\"STAR\")\n",
    "print(catalog_data)"
   ]
  },
  {
   "cell_type": "code",
   "execution_count": 13,
   "metadata": {
    "colab": {
     "base_uri": "https://localhost:8080/",
     "height": 54
    },
    "id": "7HR1fQPbPEWP",
    "outputId": "31e9b36d-4b8b-4f7e-80f9-adf16a92da29"
   },
   "outputs": [
    {
     "name": "stdout",
     "output_type": "stream",
     "text": [
      "['BEFS', 'EUVE', 'FUSE', 'GALEX', 'HLA', 'HLSP', 'HST', 'HUT', 'IUE', 'JWST', 'K2', 'K2FFI', 'Kepler', 'KeplerFFI', 'PS1', 'SPITZER_SHA', 'SWIFT', 'TESS', 'TUES', 'WUPPE']\n"
     ]
    }
   ],
   "source": [
    "print(Observations.list_missions())"
   ]
  },
  {
   "cell_type": "code",
   "execution_count": 14,
   "metadata": {},
   "outputs": [
    {
     "data": {
      "text/html": [
       "<i>Table masked=True length=5</i>\n",
       "<table id=\"table140442495352592\" class=\"table-striped table-bordered table-condensed\">\n",
       "<thead><tr><th>dataproduct_type</th><th>calib_level</th><th>obs_collection</th><th>obs_id</th><th>target_name</th><th>s_ra</th><th>s_dec</th><th>t_min</th><th>t_max</th><th>t_exptime</th><th>wavelength_region</th><th>filters</th><th>em_min</th><th>em_max</th><th>target_classification</th><th>obs_title</th><th>t_obs_release</th><th>instrument_name</th><th>proposal_pi</th><th>proposal_id</th><th>proposal_type</th><th>project</th><th>sequence_number</th><th>provenance_name</th><th>s_region</th><th>jpegURL</th><th>dataURL</th><th>dataRights</th><th>mtFlag</th><th>srcDen</th><th>intentType</th><th>obsid</th><th>objID</th></tr></thead>\n",
       "<thead><tr><th>str10</th><th>int64</th><th>str4</th><th>str47</th><th>str9</th><th>float64</th><th>float64</th><th>float64</th><th>float64</th><th>float64</th><th>str7</th><th>str4</th><th>float64</th><th>float64</th><th>str1</th><th>str1</th><th>float64</th><th>str10</th><th>str14</th><th>str55</th><th>str1</th><th>str4</th><th>int64</th><th>str4</th><th>str111</th><th>str1</th><th>str73</th><th>str6</th><th>bool</th><th>float64</th><th>str7</th><th>str11</th><th>str11</th></tr></thead>\n",
       "<tr><td>timeseries</td><td>3</td><td>TESS</td><td>tess2018206045859-s0001-0000000029437243-0120-s</td><td>29437243</td><td>313.835773</td><td>-28.839668</td><td>58324.79285543</td><td>58352.6761776</td><td>120.0</td><td>Optical</td><td>TESS</td><td>600.0</td><td>1000.0</td><td>--</td><td>--</td><td>58458.58333</td><td>Photometer</td><td>Ricker, George</td><td>N/A</td><td>--</td><td>TESS</td><td>1</td><td>SPOC</td><td>CIRCLE ICRS 313.83577300 -28.83966800 0.00138889</td><td>--</td><td>mast:TESS/product/tess2018206045859-s0001-0000000029437243-0120-s_lc.fits</td><td>PUBLIC</td><td>False</td><td>nan</td><td>science</td><td>17000015080</td><td>17001681432</td></tr>\n",
       "<tr><td>timeseries</td><td>3</td><td>TESS</td><td>tess2018206045859-s0001-0000000092451314-0120-s</td><td>92451314</td><td>314.623836</td><td>-31.705534</td><td>58324.79285543</td><td>58352.6761776</td><td>120.0</td><td>Optical</td><td>TESS</td><td>600.0</td><td>1000.0</td><td>--</td><td>--</td><td>58458.58333</td><td>Photometer</td><td>Ricker, George</td><td>N/A</td><td>--</td><td>TESS</td><td>1</td><td>SPOC</td><td>CIRCLE ICRS 314.62383600 -31.70553400 0.00138889</td><td>--</td><td>mast:TESS/product/tess2018206045859-s0001-0000000092451314-0120-s_lc.fits</td><td>PUBLIC</td><td>False</td><td>nan</td><td>science</td><td>17000003516</td><td>17001681814</td></tr>\n",
       "<tr><td>timeseries</td><td>3</td><td>TESS</td><td>tess2018206045859-s0001-0000000206505336-0120-s</td><td>206505336</td><td>332.424436</td><td>-19.889275</td><td>58324.79285543</td><td>58352.6761776</td><td>120.0</td><td>Optical</td><td>TESS</td><td>600.0</td><td>1000.0</td><td>--</td><td>--</td><td>58458.58333</td><td>Photometer</td><td>Ricker, George</td><td>G011250</td><td>--</td><td>TESS</td><td>1</td><td>SPOC</td><td>CIRCLE ICRS 332.42443600 -19.88927500 0.00138889</td><td>--</td><td>mast:TESS/product/tess2018206045859-s0001-0000000206505336-0120-s_lc.fits</td><td>PUBLIC</td><td>False</td><td>nan</td><td>science</td><td>17000014152</td><td>17001682620</td></tr>\n",
       "<tr><td>timeseries</td><td>3</td><td>TESS</td><td>tess2018206045859-s0001-0000000260161144-0120-s</td><td>260161144</td><td>92.78538900000001</td><td>-58.287688</td><td>58324.79285543</td><td>58352.6761776</td><td>120.0</td><td>Optical</td><td>TESS</td><td>600.0</td><td>1000.0</td><td>--</td><td>--</td><td>58458.58333</td><td>Photometer</td><td>Ricker, George</td><td>G011250</td><td>--</td><td>TESS</td><td>1</td><td>SPOC</td><td>CIRCLE ICRS 92.78538900 -58.28768800 0.00138889</td><td>--</td><td>mast:TESS/product/tess2018206045859-s0001-0000000260161144-0120-s_lc.fits</td><td>PUBLIC</td><td>False</td><td>nan</td><td>science</td><td>17000009846</td><td>17001683256</td></tr>\n",
       "<tr><td>timeseries</td><td>3</td><td>TESS</td><td>tess2018206045859-s0001-0000000355544723-0120-s</td><td>355544723</td><td>320.36052100000006</td><td>-54.076302</td><td>58324.79285543</td><td>58352.6761776</td><td>120.0</td><td>Optical</td><td>TESS</td><td>600.0</td><td>1000.0</td><td>--</td><td>--</td><td>58458.58333</td><td>Photometer</td><td>Ricker, George</td><td>G011123</td><td>--</td><td>TESS</td><td>1</td><td>SPOC</td><td>CIRCLE ICRS 320.36052100 -54.07630200 0.00138889</td><td>--</td><td>mast:TESS/product/tess2018206045859-s0001-0000000355544723-0120-s_lc.fits</td><td>PUBLIC</td><td>False</td><td>nan</td><td>science</td><td>17000005066</td><td>17001684176</td></tr>\n",
       "</table>"
      ],
      "text/plain": [
       "<Table masked=True length=5>\n",
       "dataproduct_type calib_level obs_collection ...    obsid       objID   \n",
       "     str10          int64         str4      ...    str11       str11   \n",
       "---------------- ----------- -------------- ... ----------- -----------\n",
       "      timeseries           3           TESS ... 17000015080 17001681432\n",
       "      timeseries           3           TESS ... 17000003516 17001681814\n",
       "      timeseries           3           TESS ... 17000014152 17001682620\n",
       "      timeseries           3           TESS ... 17000009846 17001683256\n",
       "      timeseries           3           TESS ... 17000005066 17001684176"
      ]
     },
     "execution_count": 14,
     "metadata": {},
     "output_type": "execute_result"
    }
   ],
   "source": [
    "# Downloading from the cloud\n",
    "obs_table = Observations.query_criteria(obs_collection=['TESS'], filters='TESS', sequence_number=1)\n",
    "obs_table[:5]"
   ]
  },
  {
   "cell_type": "code",
   "execution_count": null,
   "metadata": {
    "id": "hltjK1sdod1K"
   },
   "outputs": [],
   "source": [
    "# Confirmed Exoplanets from K2:\n",
    "# The planetary system K2-62 hosts at least 2 planets.\n",
    "# K2-62bc"
   ]
  },
  {
   "cell_type": "code",
   "execution_count": 23,
   "metadata": {
    "id": "ohpya8SwwSGh"
   },
   "outputs": [],
   "source": [
    "# Downloading from the cloud\n",
    "obs_table = Observations.query_criteria(obs_collection=['K2'],\n",
    "                                        objectname=\"K2-62\",\n",
    "                                        filters='KEPLER',\n",
    "                                        provenance_name='K2',\n",
    "                                        )"
   ]
  },
  {
   "cell_type": "code",
   "execution_count": 25,
   "metadata": {},
   "outputs": [],
   "source": []
  },
  {
   "cell_type": "code",
   "execution_count": 26,
   "metadata": {},
   "outputs": [
    {
     "data": {
      "text/html": [
       "<i>Table masked=True length=5</i>\n",
       "<table id=\"table140343294790928\" class=\"table-striped table-bordered table-condensed\">\n",
       "<thead><tr><th>dataproduct_type</th><th>calib_level</th><th>obs_collection</th><th>obs_id</th><th>target_name</th><th>s_ra</th><th>s_dec</th><th>t_min</th><th>t_max</th><th>t_exptime</th><th>wavelength_region</th><th>filters</th><th>em_min</th><th>em_max</th><th>target_classification</th><th>obs_title</th><th>t_obs_release</th><th>instrument_name</th><th>proposal_pi</th><th>proposal_id</th><th>proposal_type</th><th>project</th><th>sequence_number</th><th>provenance_name</th><th>s_region</th><th>jpegURL</th><th>dataURL</th><th>dataRights</th><th>mtFlag</th><th>srcDen</th><th>intentType</th><th>obsid</th><th>objID</th></tr></thead>\n",
       "<thead><tr><th>str10</th><th>int64</th><th>str4</th><th>str47</th><th>str9</th><th>float64</th><th>float64</th><th>float64</th><th>float64</th><th>float64</th><th>str7</th><th>str4</th><th>float64</th><th>float64</th><th>str1</th><th>str1</th><th>float64</th><th>str10</th><th>str14</th><th>str55</th><th>str1</th><th>str4</th><th>int64</th><th>str4</th><th>str111</th><th>str1</th><th>str73</th><th>str6</th><th>bool</th><th>float64</th><th>str7</th><th>str11</th><th>str11</th></tr></thead>\n",
       "<tr><td>timeseries</td><td>3</td><td>TESS</td><td>tess2018206045859-s0001-0000000079403675-0120-s</td><td>79403675</td><td>320.208121</td><td>-53.034181</td><td>58324.79285543</td><td>58352.6761776</td><td>120.0</td><td>Optical</td><td>TESS</td><td>600.0</td><td>1000.0</td><td>--</td><td>--</td><td>58458.58333</td><td>Photometer</td><td>Ricker, George</td><td>G011175_G011025_G011178_G011176_G011250</td><td>--</td><td>TESS</td><td>1</td><td>SPOC</td><td>CIRCLE ICRS 320.20812100 -53.03418100 0.00138889</td><td>--</td><td>mast:TESS/product/tess2018206045859-s0001-0000000079403675-0120-s_lc.fits</td><td>PUBLIC</td><td>False</td><td>nan</td><td>science</td><td>17000001837</td><td>17001681698</td></tr>\n",
       "<tr><td>timeseries</td><td>3</td><td>TESS</td><td>tess2018206045859-s0001-0000000092501872-0120-s</td><td>92501872</td><td>314.93729800000006</td><td>-30.698645</td><td>58324.79285543</td><td>58352.6761776</td><td>120.0</td><td>Optical</td><td>TESS</td><td>600.0</td><td>1000.0</td><td>--</td><td>--</td><td>58458.58333</td><td>Photometer</td><td>Ricker, George</td><td>N/A</td><td>--</td><td>TESS</td><td>1</td><td>SPOC</td><td>CIRCLE ICRS 314.93729800 -30.69864500 0.00138889</td><td>--</td><td>mast:TESS/product/tess2018206045859-s0001-0000000092501872-0120-s_lc.fits</td><td>PUBLIC</td><td>False</td><td>nan</td><td>science</td><td>17000013149</td><td>17001681822</td></tr>\n",
       "<tr><td>timeseries</td><td>3</td><td>TESS</td><td>tess2018206045859-s0001-0000000092708508-0120-s</td><td>92708508</td><td>316.4563069999999</td><td>-30.797143</td><td>58324.79285543</td><td>58352.6761776</td><td>120.0</td><td>Optical</td><td>TESS</td><td>600.0</td><td>1000.0</td><td>--</td><td>--</td><td>58458.58333</td><td>Photometer</td><td>Ricker, George</td><td>N/A</td><td>--</td><td>TESS</td><td>1</td><td>SPOC</td><td>CIRCLE ICRS 316.45630700 -30.79714300 0.00138889</td><td>--</td><td>mast:TESS/product/tess2018206045859-s0001-0000000092708508-0120-s_lc.fits</td><td>PUBLIC</td><td>False</td><td>nan</td><td>science</td><td>17000009865</td><td>17001681876</td></tr>\n",
       "<tr><td>timeseries</td><td>3</td><td>TESS</td><td>tess2018206045859-s0001-0000000149308175-0120-s</td><td>149308175</td><td>83.492523</td><td>-63.90236</td><td>58324.79285543</td><td>58352.6761776</td><td>120.0</td><td>Optical</td><td>TESS</td><td>600.0</td><td>1000.0</td><td>--</td><td>--</td><td>58458.58333</td><td>Photometer</td><td>Ricker, George</td><td>N/A</td><td>--</td><td>TESS</td><td>1</td><td>SPOC</td><td>CIRCLE ICRS 83.49252300 -63.90236000 0.00138889</td><td>--</td><td>mast:TESS/product/tess2018206045859-s0001-0000000149308175-0120-s_lc.fits</td><td>PUBLIC</td><td>False</td><td>nan</td><td>science</td><td>17000008818</td><td>17001682282</td></tr>\n",
       "<tr><td>timeseries</td><td>3</td><td>TESS</td><td>tess2018206045859-s0001-0000000207081058-0120-s</td><td>207081058</td><td>331.86723200000006</td><td>-41.815456</td><td>58324.79285543</td><td>58352.6761776</td><td>120.0</td><td>Optical</td><td>TESS</td><td>600.0</td><td>1000.0</td><td>--</td><td>--</td><td>58458.58333</td><td>Photometer</td><td>Ricker, George</td><td>G011278_G011211</td><td>--</td><td>TESS</td><td>1</td><td>SPOC</td><td>CIRCLE ICRS 331.86723200 -41.81545600 0.00138889</td><td>--</td><td>mast:TESS/product/tess2018206045859-s0001-0000000207081058-0120-s_lc.fits</td><td>PUBLIC</td><td>False</td><td>nan</td><td>science</td><td>17000001355</td><td>17001682658</td></tr>\n",
       "</table>"
      ],
      "text/plain": [
       "<Table masked=True length=5>\n",
       "dataproduct_type calib_level obs_collection ...    obsid       objID   \n",
       "     str10          int64         str4      ...    str11       str11   \n",
       "---------------- ----------- -------------- ... ----------- -----------\n",
       "      timeseries           3           TESS ... 17000001837 17001681698\n",
       "      timeseries           3           TESS ... 17000013149 17001681822\n",
       "      timeseries           3           TESS ... 17000009865 17001681876\n",
       "      timeseries           3           TESS ... 17000008818 17001682282\n",
       "      timeseries           3           TESS ... 17000001355 17001682658"
      ]
     },
     "execution_count": 26,
     "metadata": {},
     "output_type": "execute_result"
    }
   ],
   "source": [
    "obs_table[:5]"
   ]
  },
  {
   "cell_type": "code",
   "execution_count": 37,
   "metadata": {},
   "outputs": [
    {
     "data": {
      "text/plain": [
       "'9500053094'"
      ]
     },
     "execution_count": 37,
     "metadata": {},
     "output_type": "execute_result"
    }
   ],
   "source": [
    "obs_table['obsid'][0]"
   ]
  },
  {
   "cell_type": "code",
   "execution_count": 38,
   "metadata": {
    "id": "spADSHqapf3I"
   },
   "outputs": [],
   "source": [
    "products = Observations.get_product_list(obs_table)"
   ]
  },
  {
   "cell_type": "code",
   "execution_count": 39,
   "metadata": {},
   "outputs": [
    {
     "data": {
      "text/html": [
       "<i>Table masked=True length=5</i>\n",
       "<table id=\"table140436189556688\" class=\"table-striped table-bordered table-condensed\">\n",
       "<thead><tr><th>obsID</th><th>obs_collection</th><th>dataproduct_type</th><th>obs_id</th><th>description</th><th>type</th><th>dataURI</th><th>productType</th><th>productGroupDescription</th><th>productSubGroupDescription</th><th>productDocumentationURL</th><th>project</th><th>prvversion</th><th>proposal_id</th><th>productFilename</th><th>size</th><th>parent_obsid</th></tr></thead>\n",
       "<thead><tr><th>str10</th><th>str2</th><th>str10</th><th>str20</th><th>str38</th><th>str1</th><th>str96</th><th>str9</th><th>str28</th><th>str8</th><th>str1</th><th>str2</th><th>str2</th><th>str27</th><th>str34</th><th>int64</th><th>str10</th></tr></thead>\n",
       "<tr><td>9500052804</td><td>K2</td><td>timeseries</td><td>ktwo206089508-c03_lc</td><td>Preview-Full</td><td>S</td><td>mast:K2/url/missions/k2/previews/c3/206000000/89000/ktwo206089508-c03_llc_bw_large.png</td><td>PREVIEW</td><td>--</td><td>--</td><td>--</td><td>K2</td><td>26</td><td>GO3038_GO3054</td><td>ktwo206089508-c03_llc_bw_large.png</td><td>16906</td><td>9500052804</td></tr>\n",
       "<tr><td>9500052804</td><td>K2</td><td>timeseries</td><td>ktwo206089508-c03_lc</td><td>Lightcurve Long Cadence (KLC) - C03</td><td>S</td><td>mast:K2/url/missions/k2/lightcurves/c3/206000000/89000/ktwo206089508-c03_llc.fits</td><td>SCIENCE</td><td>Minimum Recommended Products</td><td>LLC</td><td>--</td><td>K2</td><td>26</td><td>GO3038_GO3054</td><td>ktwo206089508-c03_llc.fits</td><td>368640</td><td>9500052804</td></tr>\n",
       "<tr><td>9500052804</td><td>K2</td><td>timeseries</td><td>ktwo206089508-c03_lc</td><td>Target Pixel Long Cadence (KTL) - C03</td><td>S</td><td>mast:K2/url/missions/k2/target_pixel_files/c3/206000000/89000/ktwo206089508-c03_lpd-targ.fits.gz</td><td>SCIENCE</td><td>Minimum Recommended Products</td><td>LPD-TARG</td><td>--</td><td>K2</td><td>26</td><td>GO3038_GO3054</td><td>ktwo206089508-c03_lpd-targ.fits.gz</td><td>5135319</td><td>9500052804</td></tr>\n",
       "<tr><td>9500052804</td><td>K2</td><td>timeseries</td><td>ktwo206089508-c03_lc</td><td>Preview-Thumb</td><td>S</td><td>mast:K2/url/missions/k2/previews/c3/206000000/89000/ktwo206089508-c03_llc_bw_thumb.png</td><td>THUMBNAIL</td><td>--</td><td>--</td><td>--</td><td>K2</td><td>26</td><td>GO3038_GO3054</td><td>ktwo206089508-c03_llc_bw_thumb.png</td><td>1586</td><td>9500052804</td></tr>\n",
       "<tr><td>9500052892</td><td>K2</td><td>timeseries</td><td>ktwo206092110-c03_lc</td><td>Preview-Full</td><td>S</td><td>mast:K2/url/missions/k2/previews/c3/206000000/92000/ktwo206092110-c03_llc_bw_large.png</td><td>PREVIEW</td><td>--</td><td>--</td><td>--</td><td>K2</td><td>26</td><td>GO3069_GO3107</td><td>ktwo206092110-c03_llc_bw_large.png</td><td>22172</td><td>9500052892</td></tr>\n",
       "</table>"
      ],
      "text/plain": [
       "<Table masked=True length=5>\n",
       "  obsID    obs_collection dataproduct_type ...   size  parent_obsid\n",
       "  str10         str2           str10       ...  int64     str10    \n",
       "---------- -------------- ---------------- ... ------- ------------\n",
       "9500052804             K2       timeseries ...   16906   9500052804\n",
       "9500052804             K2       timeseries ...  368640   9500052804\n",
       "9500052804             K2       timeseries ... 5135319   9500052804\n",
       "9500052804             K2       timeseries ...    1586   9500052804\n",
       "9500052892             K2       timeseries ...   22172   9500052892"
      ]
     },
     "execution_count": 39,
     "metadata": {},
     "output_type": "execute_result"
    }
   ],
   "source": [
    "products[:5]"
   ]
  },
  {
   "cell_type": "code",
   "execution_count": null,
   "metadata": {
    "id": "9PS1uCgRp7xu"
   },
   "outputs": [],
   "source": [
    "# Download from MAST\n",
    "#manifest = Observations.download_products(products, cloud_only=True)"
   ]
  },
  {
   "cell_type": "code",
   "execution_count": 42,
   "metadata": {
    "id": "x9Rsc1loUhh2"
   },
   "outputs": [
    {
     "data": {
      "text/html": [
       "<i>Table masked=True length=5</i>\n",
       "<table id=\"table140436189529552\" class=\"table-striped table-bordered table-condensed\">\n",
       "<thead><tr><th>obsID</th><th>obs_collection</th><th>dataproduct_type</th><th>obs_id</th><th>description</th><th>type</th><th>dataURI</th><th>productType</th><th>productGroupDescription</th><th>productSubGroupDescription</th><th>productDocumentationURL</th><th>project</th><th>prvversion</th><th>proposal_id</th><th>productFilename</th><th>size</th><th>parent_obsid</th></tr></thead>\n",
       "<thead><tr><th>str10</th><th>str2</th><th>str10</th><th>str20</th><th>str38</th><th>str1</th><th>str96</th><th>str9</th><th>str28</th><th>str8</th><th>str1</th><th>str2</th><th>str2</th><th>str27</th><th>str34</th><th>int64</th><th>str10</th></tr></thead>\n",
       "<tr><td>9500052804</td><td>K2</td><td>timeseries</td><td>ktwo206089508-c03_lc</td><td>Lightcurve Long Cadence (KLC) - C03</td><td>S</td><td>mast:K2/url/missions/k2/lightcurves/c3/206000000/89000/ktwo206089508-c03_llc.fits</td><td>SCIENCE</td><td>Minimum Recommended Products</td><td>LLC</td><td>--</td><td>K2</td><td>26</td><td>GO3038_GO3054</td><td>ktwo206089508-c03_llc.fits</td><td>368640</td><td>9500052804</td></tr>\n",
       "<tr><td>9500052892</td><td>K2</td><td>timeseries</td><td>ktwo206092110-c03_lc</td><td>Lightcurve Long Cadence (KLC) - C03</td><td>S</td><td>mast:K2/url/missions/k2/lightcurves/c3/206000000/92000/ktwo206092110-c03_llc.fits</td><td>SCIENCE</td><td>Minimum Recommended Products</td><td>LLC</td><td>--</td><td>K2</td><td>26</td><td>GO3069_GO3107</td><td>ktwo206092110-c03_llc.fits</td><td>368640</td><td>9500052892</td></tr>\n",
       "<tr><td>9500052909</td><td>K2</td><td>timeseries</td><td>ktwo206092615-c03_lc</td><td>Lightcurve Long Cadence (KLC) - C03</td><td>S</td><td>mast:K2/url/missions/k2/lightcurves/c3/206000000/92000/ktwo206092615-c03_llc.fits</td><td>SCIENCE</td><td>Minimum Recommended Products</td><td>LLC</td><td>--</td><td>K2</td><td>26</td><td>GO3069</td><td>ktwo206092615-c03_llc.fits</td><td>368640</td><td>9500052909</td></tr>\n",
       "<tr><td>9500052922</td><td>K2</td><td>timeseries</td><td>ktwo206093036-c03_lc</td><td>Lightcurve Long Cadence (KLC) - C03</td><td>S</td><td>mast:K2/url/missions/k2/lightcurves/c3/206000000/93000/ktwo206093036-c03_llc.fits</td><td>SCIENCE</td><td>Minimum Recommended Products</td><td>LLC</td><td>--</td><td>K2</td><td>26</td><td>GO3051_GO3081</td><td>ktwo206093036-c03_llc.fits</td><td>368640</td><td>9500052922</td></tr>\n",
       "<tr><td>9500052942</td><td>K2</td><td>timeseries</td><td>ktwo206093540-c03_lc</td><td>Lightcurve Long Cadence (KLC) - C03</td><td>S</td><td>mast:K2/url/missions/k2/lightcurves/c3/206000000/93000/ktwo206093540-c03_llc.fits</td><td>SCIENCE</td><td>Minimum Recommended Products</td><td>LLC</td><td>--</td><td>K2</td><td>26</td><td>GO3051_GO3069_GO3106_GO3107</td><td>ktwo206093540-c03_llc.fits</td><td>368640</td><td>9500052942</td></tr>\n",
       "</table>"
      ],
      "text/plain": [
       "<Table masked=True length=5>\n",
       "  obsID    obs_collection dataproduct_type ...  size  parent_obsid\n",
       "  str10         str2           str10       ... int64     str10    \n",
       "---------- -------------- ---------------- ... ------ ------------\n",
       "9500052804             K2       timeseries ... 368640   9500052804\n",
       "9500052892             K2       timeseries ... 368640   9500052892\n",
       "9500052909             K2       timeseries ... 368640   9500052909\n",
       "9500052922             K2       timeseries ... 368640   9500052922\n",
       "9500052942             K2       timeseries ... 368640   9500052942"
      ]
     },
     "execution_count": 42,
     "metadata": {},
     "output_type": "execute_result"
    }
   ],
   "source": [
    "# LLC (lightcurve long cadence)\n",
    "llc = Observations.filter_products(products,\n",
    "                                        productSubGroupDescription='LLC')\n",
    "llc[:5]"
   ]
  },
  {
   "cell_type": "code",
   "execution_count": 43,
   "metadata": {},
   "outputs": [
    {
     "data": {
      "text/html": [
       "<i>Table masked=True length=18</i>\n",
       "<table id=\"table140436189449488\" class=\"table-striped table-bordered table-condensed\">\n",
       "<thead><tr><th>obsID</th><th>obs_collection</th><th>dataproduct_type</th><th>obs_id</th><th>description</th><th>type</th><th>dataURI</th><th>productType</th><th>productGroupDescription</th><th>productSubGroupDescription</th><th>productDocumentationURL</th><th>project</th><th>prvversion</th><th>proposal_id</th><th>productFilename</th><th>size</th><th>parent_obsid</th></tr></thead>\n",
       "<thead><tr><th>str10</th><th>str2</th><th>str10</th><th>str20</th><th>str38</th><th>str1</th><th>str96</th><th>str9</th><th>str28</th><th>str8</th><th>str1</th><th>str2</th><th>str2</th><th>str27</th><th>str34</th><th>int64</th><th>str10</th></tr></thead>\n",
       "<tr><td>9500052969</td><td>K2</td><td>timeseries</td><td>ktwo206094039-c03_lc</td><td>Target Pixel Long Cadence (KTL) - C03</td><td>S</td><td>mast:K2/url/missions/k2/target_pixel_files/c3/206000000/94000/ktwo206094039-c03_lpd-targ.fits.gz</td><td>SCIENCE</td><td>Minimum Recommended Products</td><td>LPD-TARG</td><td>--</td><td>K2</td><td>26</td><td>GO3051</td><td>ktwo206094039-c03_lpd-targ.fits.gz</td><td>6027384</td><td>9500052969</td></tr>\n",
       "<tr><td>9500052972</td><td>K2</td><td>timeseries</td><td>ktwo206094098-c03_lc</td><td>Target Pixel Long Cadence (KTL) - C03</td><td>S</td><td>mast:K2/url/missions/k2/target_pixel_files/c3/206000000/94000/ktwo206094098-c03_lpd-targ.fits.gz</td><td>SCIENCE</td><td>Minimum Recommended Products</td><td>LPD-TARG</td><td>--</td><td>K2</td><td>26</td><td>GO3051</td><td>ktwo206094098-c03_lpd-targ.fits.gz</td><td>6719998</td><td>9500052972</td></tr>\n",
       "<tr><td>9500052979</td><td>K2</td><td>timeseries</td><td>ktwo206094342-c03_lc</td><td>Target Pixel Long Cadence (KTL) - C03</td><td>S</td><td>mast:K2/url/missions/k2/target_pixel_files/c3/206000000/94000/ktwo206094342-c03_lpd-targ.fits.gz</td><td>SCIENCE</td><td>Minimum Recommended Products</td><td>LPD-TARG</td><td>--</td><td>K2</td><td>26</td><td>GO3051</td><td>ktwo206094342-c03_lpd-targ.fits.gz</td><td>8609670</td><td>9500052979</td></tr>\n",
       "<tr><td>9500052992</td><td>K2</td><td>timeseries</td><td>ktwo206094605-c03_lc</td><td>Target Pixel Long Cadence (KTL) - C03</td><td>S</td><td>mast:K2/url/missions/k2/target_pixel_files/c3/206000000/94000/ktwo206094605-c03_lpd-targ.fits.gz</td><td>SCIENCE</td><td>Minimum Recommended Products</td><td>LPD-TARG</td><td>--</td><td>K2</td><td>26</td><td>GO3023_GO3054_GO3081_GO3104</td><td>ktwo206094605-c03_lpd-targ.fits.gz</td><td>22883051</td><td>9500052992</td></tr>\n",
       "<tr><td>9500053009</td><td>K2</td><td>timeseries</td><td>ktwo206095133-c03_lc</td><td>Target Pixel Long Cadence (KTL) - C03</td><td>S</td><td>mast:K2/url/missions/k2/target_pixel_files/c3/206000000/95000/ktwo206095133-c03_lpd-targ.fits.gz</td><td>SCIENCE</td><td>Minimum Recommended Products</td><td>LPD-TARG</td><td>--</td><td>K2</td><td>26</td><td>GO3048</td><td>ktwo206095133-c03_lpd-targ.fits.gz</td><td>11435653</td><td>9500053009</td></tr>\n",
       "<tr><td>9500053044</td><td>K2</td><td>timeseries</td><td>ktwo206096022-c03_lc</td><td>Target Pixel Long Cadence (KTL) - C03</td><td>S</td><td>mast:K2/url/missions/k2/target_pixel_files/c3/206000000/96000/ktwo206096022-c03_lpd-targ.fits.gz</td><td>SCIENCE</td><td>Minimum Recommended Products</td><td>LPD-TARG</td><td>--</td><td>K2</td><td>26</td><td>GO3054_GO3104</td><td>ktwo206096022-c03_lpd-targ.fits.gz</td><td>5979559</td><td>9500053044</td></tr>\n",
       "<tr><td>9500053070</td><td>K2</td><td>timeseries</td><td>ktwo206096602-c03_lc</td><td>Target Pixel Long Cadence (KTL) - C03</td><td>S</td><td>mast:K2/url/missions/k2/target_pixel_files/c3/206000000/96000/ktwo206096602-c03_lpd-targ.fits.gz</td><td>SCIENCE</td><td>Minimum Recommended Products</td><td>LPD-TARG</td><td>--</td><td>K2</td><td>26</td><td>GO3051_GO3054_GO3104</td><td>ktwo206096602-c03_lpd-targ.fits.gz</td><td>6247976</td><td>9500053070</td></tr>\n",
       "<tr><td>9500053071</td><td>K2</td><td>timeseries</td><td>ktwo206096692-c03_lc</td><td>Target Pixel Long Cadence (KTL) - C03</td><td>S</td><td>mast:K2/url/missions/k2/target_pixel_files/c3/206000000/96000/ktwo206096692-c03_lpd-targ.fits.gz</td><td>SCIENCE</td><td>Minimum Recommended Products</td><td>LPD-TARG</td><td>--</td><td>K2</td><td>26</td><td>GO3048</td><td>ktwo206096692-c03_lpd-targ.fits.gz</td><td>11823223</td><td>9500053071</td></tr>\n",
       "<tr><td>9500053094</td><td>K2</td><td>timeseries</td><td>ktwo206097453-c03_lc</td><td>Target Pixel Long Cadence (KTL) - C03</td><td>S</td><td>mast:K2/url/missions/k2/target_pixel_files/c3/206000000/97000/ktwo206097453-c03_lpd-targ.fits.gz</td><td>SCIENCE</td><td>Minimum Recommended Products</td><td>LPD-TARG</td><td>--</td><td>K2</td><td>26</td><td>GO3054_GO3104</td><td>ktwo206097453-c03_lpd-targ.fits.gz</td><td>6108393</td><td>9500053094</td></tr>\n",
       "<tr><td>9500053128</td><td>K2</td><td>timeseries</td><td>ktwo206098619-c03_lc</td><td>Target Pixel Long Cadence (KTL) - C03</td><td>S</td><td>mast:K2/url/missions/k2/target_pixel_files/c3/206000000/98000/ktwo206098619-c03_lpd-targ.fits.gz</td><td>SCIENCE</td><td>Minimum Recommended Products</td><td>LPD-TARG</td><td>--</td><td>K2</td><td>26</td><td>GO3051</td><td>ktwo206098619-c03_lpd-targ.fits.gz</td><td>6133412</td><td>9500053128</td></tr>\n",
       "<tr><td>9500053140</td><td>K2</td><td>timeseries</td><td>ktwo206098990-c03_lc</td><td>Target Pixel Long Cadence (KTL) - C03</td><td>S</td><td>mast:K2/url/missions/k2/target_pixel_files/c3/206000000/98000/ktwo206098990-c03_lpd-targ.fits.gz</td><td>SCIENCE</td><td>Minimum Recommended Products</td><td>LPD-TARG</td><td>--</td><td>K2</td><td>26</td><td>GO3051_GO3054_GO3104</td><td>ktwo206098990-c03_lpd-targ.fits.gz</td><td>6612406</td><td>9500053140</td></tr>\n",
       "<tr><td>9500053153</td><td>K2</td><td>timeseries</td><td>ktwo206099456-c03_lc</td><td>Target Pixel Long Cadence (KTL) - C03</td><td>S</td><td>mast:K2/url/missions/k2/target_pixel_files/c3/206000000/99000/ktwo206099456-c03_lpd-targ.fits.gz</td><td>SCIENCE</td><td>Minimum Recommended Products</td><td>LPD-TARG</td><td>--</td><td>K2</td><td>26</td><td>GO3054_GO3081_GO3104</td><td>ktwo206099456-c03_lpd-targ.fits.gz</td><td>7315326</td><td>9500053153</td></tr>\n",
       "<tr><td>9500053158</td><td>K2</td><td>timeseries</td><td>ktwo206099582-c03_lc</td><td>Target Pixel Long Cadence (KTL) - C03</td><td>S</td><td>mast:K2/url/missions/k2/target_pixel_files/c3/206000000/99000/ktwo206099582-c03_lpd-targ.fits.gz</td><td>SCIENCE</td><td>Minimum Recommended Products</td><td>LPD-TARG</td><td>--</td><td>K2</td><td>26</td><td>GO3051_GO3054</td><td>ktwo206099582-c03_lpd-targ.fits.gz</td><td>5073180</td><td>9500053158</td></tr>\n",
       "<tr><td>9500053166</td><td>K2</td><td>timeseries</td><td>ktwo206099965-c03_lc</td><td>Target Pixel Long Cadence (KTL) - C03</td><td>S</td><td>mast:K2/url/missions/k2/target_pixel_files/c3/206000000/99000/ktwo206099965-c03_lpd-targ.fits.gz</td><td>SCIENCE</td><td>Minimum Recommended Products</td><td>LPD-TARG</td><td>--</td><td>K2</td><td>26</td><td>GO3069</td><td>ktwo206099965-c03_lpd-targ.fits.gz</td><td>4655840</td><td>9500053166</td></tr>\n",
       "<tr><td>9500053168</td><td>K2</td><td>timeseries</td><td>ktwo206100060-c03_lc</td><td>Target Pixel Long Cadence (KTL) - C03</td><td>S</td><td>mast:K2/url/missions/k2/target_pixel_files/c3/206100000/00000/ktwo206100060-c03_lpd-targ.fits.gz</td><td>SCIENCE</td><td>Minimum Recommended Products</td><td>LPD-TARG</td><td>--</td><td>K2</td><td>26</td><td>GO3051</td><td>ktwo206100060-c03_lpd-targ.fits.gz</td><td>7875677</td><td>9500053168</td></tr>\n",
       "<tr><td>9500053276</td><td>K2</td><td>timeseries</td><td>ktwo206102898-c03_lc</td><td>Target Pixel Long Cadence (KTL) - C03</td><td>S</td><td>mast:K2/url/missions/k2/target_pixel_files/c3/206100000/02000/ktwo206102898-c03_lpd-targ.fits.gz</td><td>SCIENCE</td><td>Minimum Recommended Products</td><td>LPD-TARG</td><td>--</td><td>K2</td><td>26</td><td>GO3069</td><td>ktwo206102898-c03_lpd-targ.fits.gz</td><td>4929183</td><td>9500053276</td></tr>\n",
       "<tr><td>9500053281</td><td>K2</td><td>timeseries</td><td>ktwo206103033-c03_lc</td><td>Target Pixel Long Cadence (KTL) - C03</td><td>S</td><td>mast:K2/url/missions/k2/target_pixel_files/c3/206100000/03000/ktwo206103033-c03_lpd-targ.fits.gz</td><td>SCIENCE</td><td>Minimum Recommended Products</td><td>LPD-TARG</td><td>--</td><td>K2</td><td>26</td><td>GO3051_GO3069</td><td>ktwo206103033-c03_lpd-targ.fits.gz</td><td>4743663</td><td>9500053281</td></tr>\n",
       "<tr><td>9500063358</td><td>K2</td><td>timeseries</td><td>ktwo212235329-c03_lc</td><td>Target Pixel Long Cadence (KTL) - C03</td><td>S</td><td>mast:K2/url/missions/k2/target_pixel_files/c3/212200000/35000/ktwo212235329-c03_lpd-targ.fits.gz</td><td>SCIENCE</td><td>Minimum Recommended Products</td><td>LPD-TARG</td><td>--</td><td>K2</td><td>26</td><td>GO3114</td><td>ktwo212235329-c03_lpd-targ.fits.gz</td><td>3601935</td><td>9500063358</td></tr>\n",
       "</table>"
      ],
      "text/plain": [
       "<Table masked=True length=18>\n",
       "  obsID    obs_collection dataproduct_type ...   size   parent_obsid\n",
       "  str10         str2           str10       ...  int64      str10    \n",
       "---------- -------------- ---------------- ... -------- ------------\n",
       "9500052969             K2       timeseries ...  6027384   9500052969\n",
       "9500052972             K2       timeseries ...  6719998   9500052972\n",
       "9500052979             K2       timeseries ...  8609670   9500052979\n",
       "9500052992             K2       timeseries ... 22883051   9500052992\n",
       "9500053009             K2       timeseries ... 11435653   9500053009\n",
       "9500053044             K2       timeseries ...  5979559   9500053044\n",
       "9500053070             K2       timeseries ...  6247976   9500053070\n",
       "9500053071             K2       timeseries ... 11823223   9500053071\n",
       "9500053094             K2       timeseries ...  6108393   9500053094\n",
       "9500053128             K2       timeseries ...  6133412   9500053128\n",
       "9500053140             K2       timeseries ...  6612406   9500053140\n",
       "9500053153             K2       timeseries ...  7315326   9500053153\n",
       "9500053158             K2       timeseries ...  5073180   9500053158\n",
       "9500053166             K2       timeseries ...  4655840   9500053166\n",
       "9500053168             K2       timeseries ...  7875677   9500053168\n",
       "9500053276             K2       timeseries ...  4929183   9500053276\n",
       "9500053281             K2       timeseries ...  4743663   9500053281\n",
       "9500063358             K2       timeseries ...  3601935   9500063358"
      ]
     },
     "execution_count": 43,
     "metadata": {},
     "output_type": "execute_result"
    }
   ],
   "source": [
    "# LPD-TARG (target pixel long cadence)\n",
    "tplc = Observations.filter_products(products,\n",
    "                                        productSubGroupDescription='LPD-TARG')\n",
    "tplc[5:]"
   ]
  },
  {
   "cell_type": "code",
   "execution_count": 15,
   "metadata": {},
   "outputs": [],
   "source": [
    "def obs_uris(obs_collection=['K2'], objectname='K2-62', filters='KEPLER', provenance_name='K2', prod_subgroup='LLC'):\n",
    "    \"\"\"\n",
    "    returns filtered list of s3 uris to use for downloading from MAST archive\n",
    "    \"\"\"\n",
    "    # Getting the cloud URIs\n",
    "    obs_table = Observations.query_criteria(obs_collection=obs_collection,\n",
    "                                        objectname=objectname,\n",
    "                                        filters=filters,\n",
    "                                        provenance_name=provenance_name)\n",
    "    products = Observations.get_product_list(obs_table)\n",
    "    filtered = Observations.filter_products(products,\n",
    "                                        productSubGroupDescription=prod_subgroup)\n",
    "    return  Observations.get_cloud_uris(filtered)"
   ]
  },
  {
   "cell_type": "code",
   "execution_count": 17,
   "metadata": {},
   "outputs": [],
   "source": [
    "# llc_uris = obs_uris()"
   ]
  },
  {
   "cell_type": "code",
   "execution_count": 18,
   "metadata": {
    "colab": {
     "base_uri": "https://localhost:8080/",
     "height": 54
    },
    "id": "Y3q7avAY4Kvl",
    "outputId": "dd5d8f30-df71-48a6-9e1b-fb9225dbdb1b"
   },
   "outputs": [
    {
     "ename": "ClientError",
     "evalue": "An error occurred (ForbiddenException) when calling the GetRoleCredentials operation: The requested role with name AWSAdministratorAccess does not exist",
     "output_type": "error",
     "traceback": [
      "\u001b[0;31m---------------------------------------------------------------------------\u001b[0m",
      "\u001b[0;31mClientError\u001b[0m                               Traceback (most recent call last)",
      "\u001b[0;32m<ipython-input-18-4f28685e80b3>\u001b[0m in \u001b[0;36m<module>\u001b[0;34m\u001b[0m\n\u001b[1;32m      7\u001b[0m filtered = Observations.filter_products(products,\n\u001b[1;32m      8\u001b[0m                                         productSubGroupDescription='LLC')\n\u001b[0;32m----> 9\u001b[0;31m \u001b[0ms3_uris\u001b[0m \u001b[0;34m=\u001b[0m \u001b[0mObservations\u001b[0m\u001b[0;34m.\u001b[0m\u001b[0mget_cloud_uris\u001b[0m\u001b[0;34m(\u001b[0m\u001b[0mfiltered\u001b[0m\u001b[0;34m)\u001b[0m\u001b[0;34m\u001b[0m\u001b[0;34m\u001b[0m\u001b[0m\n\u001b[0m\u001b[1;32m     10\u001b[0m \u001b[0mprint\u001b[0m\u001b[0;34m(\u001b[0m\u001b[0ms3_uris\u001b[0m\u001b[0;34m)\u001b[0m\u001b[0;34m\u001b[0m\u001b[0;34m\u001b[0m\u001b[0m\n",
      "\u001b[0;32m~/Code/ENV/spacekit-env/lib/python3.7/site-packages/astroquery/mast/observations.py\u001b[0m in \u001b[0;36mget_cloud_uris\u001b[0;34m(self, data_products, include_bucket, full_url)\u001b[0m\n\u001b[1;32m    731\u001b[0m             \u001b[0;32mraise\u001b[0m \u001b[0mAttributeError\u001b[0m\u001b[0;34m(\u001b[0m\u001b[0;34m\"Must enable s3 dataset before attempting to query the s3 information\"\u001b[0m\u001b[0;34m)\u001b[0m\u001b[0;34m\u001b[0m\u001b[0;34m\u001b[0m\u001b[0m\n\u001b[1;32m    732\u001b[0m \u001b[0;34m\u001b[0m\u001b[0m\n\u001b[0;32m--> 733\u001b[0;31m         \u001b[0;32mreturn\u001b[0m \u001b[0mself\u001b[0m\u001b[0;34m.\u001b[0m\u001b[0m_cloud_connection\u001b[0m\u001b[0;34m.\u001b[0m\u001b[0mget_cloud_uri_list\u001b[0m\u001b[0;34m(\u001b[0m\u001b[0mdata_products\u001b[0m\u001b[0;34m,\u001b[0m \u001b[0minclude_bucket\u001b[0m\u001b[0;34m,\u001b[0m \u001b[0mfull_url\u001b[0m\u001b[0;34m)\u001b[0m\u001b[0;34m\u001b[0m\u001b[0;34m\u001b[0m\u001b[0m\n\u001b[0m\u001b[1;32m    734\u001b[0m \u001b[0;34m\u001b[0m\u001b[0m\n\u001b[1;32m    735\u001b[0m     \u001b[0;34m@\u001b[0m\u001b[0mdeprecated\u001b[0m\u001b[0;34m(\u001b[0m\u001b[0msince\u001b[0m\u001b[0;34m=\u001b[0m\u001b[0;34m\"v0.3.9\"\u001b[0m\u001b[0;34m,\u001b[0m \u001b[0malternative\u001b[0m\u001b[0;34m=\u001b[0m\u001b[0;34m\"get_cloud_uri\"\u001b[0m\u001b[0;34m)\u001b[0m\u001b[0;34m\u001b[0m\u001b[0;34m\u001b[0m\u001b[0m\n",
      "\u001b[0;32m~/Code/ENV/spacekit-env/lib/python3.7/site-packages/astroquery/mast/cloud.py\u001b[0m in \u001b[0;36mget_cloud_uri_list\u001b[0;34m(self, data_products, include_bucket, full_url)\u001b[0m\n\u001b[1;32m    156\u001b[0m         \"\"\"\n\u001b[1;32m    157\u001b[0m \u001b[0;34m\u001b[0m\u001b[0m\n\u001b[0;32m--> 158\u001b[0;31m         \u001b[0;32mreturn\u001b[0m \u001b[0;34m[\u001b[0m\u001b[0mself\u001b[0m\u001b[0;34m.\u001b[0m\u001b[0mget_cloud_uri\u001b[0m\u001b[0;34m(\u001b[0m\u001b[0mproduct\u001b[0m\u001b[0;34m,\u001b[0m \u001b[0minclude_bucket\u001b[0m\u001b[0;34m,\u001b[0m \u001b[0mfull_url\u001b[0m\u001b[0;34m)\u001b[0m \u001b[0;32mfor\u001b[0m \u001b[0mproduct\u001b[0m \u001b[0;32min\u001b[0m \u001b[0mdata_products\u001b[0m\u001b[0;34m]\u001b[0m\u001b[0;34m\u001b[0m\u001b[0;34m\u001b[0m\u001b[0m\n\u001b[0m\u001b[1;32m    159\u001b[0m \u001b[0;34m\u001b[0m\u001b[0m\n\u001b[1;32m    160\u001b[0m     \u001b[0;32mdef\u001b[0m \u001b[0mdownload_file\u001b[0m\u001b[0;34m(\u001b[0m\u001b[0mself\u001b[0m\u001b[0;34m,\u001b[0m \u001b[0mdata_product\u001b[0m\u001b[0;34m,\u001b[0m \u001b[0mlocal_path\u001b[0m\u001b[0;34m,\u001b[0m \u001b[0mcache\u001b[0m\u001b[0;34m=\u001b[0m\u001b[0;32mTrue\u001b[0m\u001b[0;34m)\u001b[0m\u001b[0;34m:\u001b[0m\u001b[0;34m\u001b[0m\u001b[0;34m\u001b[0m\u001b[0m\n",
      "\u001b[0;32m~/Code/ENV/spacekit-env/lib/python3.7/site-packages/astroquery/mast/cloud.py\u001b[0m in \u001b[0;36m<listcomp>\u001b[0;34m(.0)\u001b[0m\n\u001b[1;32m    156\u001b[0m         \"\"\"\n\u001b[1;32m    157\u001b[0m \u001b[0;34m\u001b[0m\u001b[0m\n\u001b[0;32m--> 158\u001b[0;31m         \u001b[0;32mreturn\u001b[0m \u001b[0;34m[\u001b[0m\u001b[0mself\u001b[0m\u001b[0;34m.\u001b[0m\u001b[0mget_cloud_uri\u001b[0m\u001b[0;34m(\u001b[0m\u001b[0mproduct\u001b[0m\u001b[0;34m,\u001b[0m \u001b[0minclude_bucket\u001b[0m\u001b[0;34m,\u001b[0m \u001b[0mfull_url\u001b[0m\u001b[0;34m)\u001b[0m \u001b[0;32mfor\u001b[0m \u001b[0mproduct\u001b[0m \u001b[0;32min\u001b[0m \u001b[0mdata_products\u001b[0m\u001b[0;34m]\u001b[0m\u001b[0;34m\u001b[0m\u001b[0;34m\u001b[0m\u001b[0m\n\u001b[0m\u001b[1;32m    159\u001b[0m \u001b[0;34m\u001b[0m\u001b[0m\n\u001b[1;32m    160\u001b[0m     \u001b[0;32mdef\u001b[0m \u001b[0mdownload_file\u001b[0m\u001b[0;34m(\u001b[0m\u001b[0mself\u001b[0m\u001b[0;34m,\u001b[0m \u001b[0mdata_product\u001b[0m\u001b[0;34m,\u001b[0m \u001b[0mlocal_path\u001b[0m\u001b[0;34m,\u001b[0m \u001b[0mcache\u001b[0m\u001b[0;34m=\u001b[0m\u001b[0;32mTrue\u001b[0m\u001b[0;34m)\u001b[0m\u001b[0;34m:\u001b[0m\u001b[0;34m\u001b[0m\u001b[0;34m\u001b[0m\u001b[0m\n",
      "\u001b[0;32m~/Code/ENV/spacekit-env/lib/python3.7/site-packages/astroquery/mast/cloud.py\u001b[0m in \u001b[0;36mget_cloud_uri\u001b[0;34m(self, data_product, include_bucket, full_url)\u001b[0m\n\u001b[1;32m    120\u001b[0m \u001b[0;34m\u001b[0m\u001b[0m\n\u001b[1;32m    121\u001b[0m         \u001b[0;32mtry\u001b[0m\u001b[0;34m:\u001b[0m\u001b[0;34m\u001b[0m\u001b[0;34m\u001b[0m\u001b[0m\n\u001b[0;32m--> 122\u001b[0;31m             \u001b[0ms3_client\u001b[0m\u001b[0;34m.\u001b[0m\u001b[0mhead_object\u001b[0m\u001b[0;34m(\u001b[0m\u001b[0mBucket\u001b[0m\u001b[0;34m=\u001b[0m\u001b[0mself\u001b[0m\u001b[0;34m.\u001b[0m\u001b[0mpubdata_bucket\u001b[0m\u001b[0;34m,\u001b[0m \u001b[0mKey\u001b[0m\u001b[0;34m=\u001b[0m\u001b[0mpath\u001b[0m\u001b[0;34m,\u001b[0m \u001b[0mRequestPayer\u001b[0m\u001b[0;34m=\u001b[0m\u001b[0;34m'requester'\u001b[0m\u001b[0;34m)\u001b[0m\u001b[0;34m\u001b[0m\u001b[0;34m\u001b[0m\u001b[0m\n\u001b[0m\u001b[1;32m    123\u001b[0m             \u001b[0;32mif\u001b[0m \u001b[0minclude_bucket\u001b[0m\u001b[0;34m:\u001b[0m\u001b[0;34m\u001b[0m\u001b[0;34m\u001b[0m\u001b[0m\n\u001b[1;32m    124\u001b[0m                 \u001b[0mpath\u001b[0m \u001b[0;34m=\u001b[0m \u001b[0;34m\"s3://{}/{}\"\u001b[0m\u001b[0;34m.\u001b[0m\u001b[0mformat\u001b[0m\u001b[0;34m(\u001b[0m\u001b[0mself\u001b[0m\u001b[0;34m.\u001b[0m\u001b[0mpubdata_bucket\u001b[0m\u001b[0;34m,\u001b[0m \u001b[0mpath\u001b[0m\u001b[0;34m)\u001b[0m\u001b[0;34m\u001b[0m\u001b[0;34m\u001b[0m\u001b[0m\n",
      "\u001b[0;32m~/Code/ENV/spacekit-env/lib/python3.7/site-packages/botocore/client.py\u001b[0m in \u001b[0;36m_api_call\u001b[0;34m(self, *args, **kwargs)\u001b[0m\n\u001b[1;32m    355\u001b[0m                     \"%s() only accepts keyword arguments.\" % py_operation_name)\n\u001b[1;32m    356\u001b[0m             \u001b[0;31m# The \"self\" in this scope is referring to the BaseClient.\u001b[0m\u001b[0;34m\u001b[0m\u001b[0;34m\u001b[0m\u001b[0;34m\u001b[0m\u001b[0m\n\u001b[0;32m--> 357\u001b[0;31m             \u001b[0;32mreturn\u001b[0m \u001b[0mself\u001b[0m\u001b[0;34m.\u001b[0m\u001b[0m_make_api_call\u001b[0m\u001b[0;34m(\u001b[0m\u001b[0moperation_name\u001b[0m\u001b[0;34m,\u001b[0m \u001b[0mkwargs\u001b[0m\u001b[0;34m)\u001b[0m\u001b[0;34m\u001b[0m\u001b[0;34m\u001b[0m\u001b[0m\n\u001b[0m\u001b[1;32m    358\u001b[0m \u001b[0;34m\u001b[0m\u001b[0m\n\u001b[1;32m    359\u001b[0m         \u001b[0m_api_call\u001b[0m\u001b[0;34m.\u001b[0m\u001b[0m__name__\u001b[0m \u001b[0;34m=\u001b[0m \u001b[0mstr\u001b[0m\u001b[0;34m(\u001b[0m\u001b[0mpy_operation_name\u001b[0m\u001b[0;34m)\u001b[0m\u001b[0;34m\u001b[0m\u001b[0;34m\u001b[0m\u001b[0m\n",
      "\u001b[0;32m~/Code/ENV/spacekit-env/lib/python3.7/site-packages/botocore/client.py\u001b[0m in \u001b[0;36m_make_api_call\u001b[0;34m(self, operation_name, api_params)\u001b[0m\n\u001b[1;32m    661\u001b[0m         \u001b[0;32melse\u001b[0m\u001b[0;34m:\u001b[0m\u001b[0;34m\u001b[0m\u001b[0;34m\u001b[0m\u001b[0m\n\u001b[1;32m    662\u001b[0m             http, parsed_response = self._make_request(\n\u001b[0;32m--> 663\u001b[0;31m                 operation_model, request_dict, request_context)\n\u001b[0m\u001b[1;32m    664\u001b[0m \u001b[0;34m\u001b[0m\u001b[0m\n\u001b[1;32m    665\u001b[0m         self.meta.events.emit(\n",
      "\u001b[0;32m~/Code/ENV/spacekit-env/lib/python3.7/site-packages/botocore/client.py\u001b[0m in \u001b[0;36m_make_request\u001b[0;34m(self, operation_model, request_dict, request_context)\u001b[0m\n\u001b[1;32m    680\u001b[0m     \u001b[0;32mdef\u001b[0m \u001b[0m_make_request\u001b[0m\u001b[0;34m(\u001b[0m\u001b[0mself\u001b[0m\u001b[0;34m,\u001b[0m \u001b[0moperation_model\u001b[0m\u001b[0;34m,\u001b[0m \u001b[0mrequest_dict\u001b[0m\u001b[0;34m,\u001b[0m \u001b[0mrequest_context\u001b[0m\u001b[0;34m)\u001b[0m\u001b[0;34m:\u001b[0m\u001b[0;34m\u001b[0m\u001b[0;34m\u001b[0m\u001b[0m\n\u001b[1;32m    681\u001b[0m         \u001b[0;32mtry\u001b[0m\u001b[0;34m:\u001b[0m\u001b[0;34m\u001b[0m\u001b[0;34m\u001b[0m\u001b[0m\n\u001b[0;32m--> 682\u001b[0;31m             \u001b[0;32mreturn\u001b[0m \u001b[0mself\u001b[0m\u001b[0;34m.\u001b[0m\u001b[0m_endpoint\u001b[0m\u001b[0;34m.\u001b[0m\u001b[0mmake_request\u001b[0m\u001b[0;34m(\u001b[0m\u001b[0moperation_model\u001b[0m\u001b[0;34m,\u001b[0m \u001b[0mrequest_dict\u001b[0m\u001b[0;34m)\u001b[0m\u001b[0;34m\u001b[0m\u001b[0;34m\u001b[0m\u001b[0m\n\u001b[0m\u001b[1;32m    683\u001b[0m         \u001b[0;32mexcept\u001b[0m \u001b[0mException\u001b[0m \u001b[0;32mas\u001b[0m \u001b[0me\u001b[0m\u001b[0;34m:\u001b[0m\u001b[0;34m\u001b[0m\u001b[0;34m\u001b[0m\u001b[0m\n\u001b[1;32m    684\u001b[0m             self.meta.events.emit(\n",
      "\u001b[0;32m~/Code/ENV/spacekit-env/lib/python3.7/site-packages/botocore/endpoint.py\u001b[0m in \u001b[0;36mmake_request\u001b[0;34m(self, operation_model, request_dict)\u001b[0m\n\u001b[1;32m    100\u001b[0m         logger.debug(\"Making request for %s with params: %s\",\n\u001b[1;32m    101\u001b[0m                      operation_model, request_dict)\n\u001b[0;32m--> 102\u001b[0;31m         \u001b[0;32mreturn\u001b[0m \u001b[0mself\u001b[0m\u001b[0;34m.\u001b[0m\u001b[0m_send_request\u001b[0m\u001b[0;34m(\u001b[0m\u001b[0mrequest_dict\u001b[0m\u001b[0;34m,\u001b[0m \u001b[0moperation_model\u001b[0m\u001b[0;34m)\u001b[0m\u001b[0;34m\u001b[0m\u001b[0;34m\u001b[0m\u001b[0m\n\u001b[0m\u001b[1;32m    103\u001b[0m \u001b[0;34m\u001b[0m\u001b[0m\n\u001b[1;32m    104\u001b[0m     \u001b[0;32mdef\u001b[0m \u001b[0mcreate_request\u001b[0m\u001b[0;34m(\u001b[0m\u001b[0mself\u001b[0m\u001b[0;34m,\u001b[0m \u001b[0mparams\u001b[0m\u001b[0;34m,\u001b[0m \u001b[0moperation_model\u001b[0m\u001b[0;34m=\u001b[0m\u001b[0;32mNone\u001b[0m\u001b[0;34m)\u001b[0m\u001b[0;34m:\u001b[0m\u001b[0;34m\u001b[0m\u001b[0;34m\u001b[0m\u001b[0m\n",
      "\u001b[0;32m~/Code/ENV/spacekit-env/lib/python3.7/site-packages/botocore/endpoint.py\u001b[0m in \u001b[0;36m_send_request\u001b[0;34m(self, request_dict, operation_model)\u001b[0m\n\u001b[1;32m    130\u001b[0m     \u001b[0;32mdef\u001b[0m \u001b[0m_send_request\u001b[0m\u001b[0;34m(\u001b[0m\u001b[0mself\u001b[0m\u001b[0;34m,\u001b[0m \u001b[0mrequest_dict\u001b[0m\u001b[0;34m,\u001b[0m \u001b[0moperation_model\u001b[0m\u001b[0;34m)\u001b[0m\u001b[0;34m:\u001b[0m\u001b[0;34m\u001b[0m\u001b[0;34m\u001b[0m\u001b[0m\n\u001b[1;32m    131\u001b[0m         \u001b[0mattempts\u001b[0m \u001b[0;34m=\u001b[0m \u001b[0;36m1\u001b[0m\u001b[0;34m\u001b[0m\u001b[0;34m\u001b[0m\u001b[0m\n\u001b[0;32m--> 132\u001b[0;31m         \u001b[0mrequest\u001b[0m \u001b[0;34m=\u001b[0m \u001b[0mself\u001b[0m\u001b[0;34m.\u001b[0m\u001b[0mcreate_request\u001b[0m\u001b[0;34m(\u001b[0m\u001b[0mrequest_dict\u001b[0m\u001b[0;34m,\u001b[0m \u001b[0moperation_model\u001b[0m\u001b[0;34m)\u001b[0m\u001b[0;34m\u001b[0m\u001b[0;34m\u001b[0m\u001b[0m\n\u001b[0m\u001b[1;32m    133\u001b[0m         \u001b[0mcontext\u001b[0m \u001b[0;34m=\u001b[0m \u001b[0mrequest_dict\u001b[0m\u001b[0;34m[\u001b[0m\u001b[0;34m'context'\u001b[0m\u001b[0;34m]\u001b[0m\u001b[0;34m\u001b[0m\u001b[0;34m\u001b[0m\u001b[0m\n\u001b[1;32m    134\u001b[0m         success_response, exception = self._get_response(\n",
      "\u001b[0;32m~/Code/ENV/spacekit-env/lib/python3.7/site-packages/botocore/endpoint.py\u001b[0m in \u001b[0;36mcreate_request\u001b[0;34m(self, params, operation_model)\u001b[0m\n\u001b[1;32m    114\u001b[0m                 op_name=operation_model.name)\n\u001b[1;32m    115\u001b[0m             self._event_emitter.emit(event_name, request=request,\n\u001b[0;32m--> 116\u001b[0;31m                                      operation_name=operation_model.name)\n\u001b[0m\u001b[1;32m    117\u001b[0m         \u001b[0mprepared_request\u001b[0m \u001b[0;34m=\u001b[0m \u001b[0mself\u001b[0m\u001b[0;34m.\u001b[0m\u001b[0mprepare_request\u001b[0m\u001b[0;34m(\u001b[0m\u001b[0mrequest\u001b[0m\u001b[0;34m)\u001b[0m\u001b[0;34m\u001b[0m\u001b[0;34m\u001b[0m\u001b[0m\n\u001b[1;32m    118\u001b[0m         \u001b[0;32mreturn\u001b[0m \u001b[0mprepared_request\u001b[0m\u001b[0;34m\u001b[0m\u001b[0;34m\u001b[0m\u001b[0m\n",
      "\u001b[0;32m~/Code/ENV/spacekit-env/lib/python3.7/site-packages/botocore/hooks.py\u001b[0m in \u001b[0;36memit\u001b[0;34m(self, event_name, **kwargs)\u001b[0m\n\u001b[1;32m    354\u001b[0m     \u001b[0;32mdef\u001b[0m \u001b[0memit\u001b[0m\u001b[0;34m(\u001b[0m\u001b[0mself\u001b[0m\u001b[0;34m,\u001b[0m \u001b[0mevent_name\u001b[0m\u001b[0;34m,\u001b[0m \u001b[0;34m**\u001b[0m\u001b[0mkwargs\u001b[0m\u001b[0;34m)\u001b[0m\u001b[0;34m:\u001b[0m\u001b[0;34m\u001b[0m\u001b[0;34m\u001b[0m\u001b[0m\n\u001b[1;32m    355\u001b[0m         \u001b[0maliased_event_name\u001b[0m \u001b[0;34m=\u001b[0m \u001b[0mself\u001b[0m\u001b[0;34m.\u001b[0m\u001b[0m_alias_event_name\u001b[0m\u001b[0;34m(\u001b[0m\u001b[0mevent_name\u001b[0m\u001b[0;34m)\u001b[0m\u001b[0;34m\u001b[0m\u001b[0;34m\u001b[0m\u001b[0m\n\u001b[0;32m--> 356\u001b[0;31m         \u001b[0;32mreturn\u001b[0m \u001b[0mself\u001b[0m\u001b[0;34m.\u001b[0m\u001b[0m_emitter\u001b[0m\u001b[0;34m.\u001b[0m\u001b[0memit\u001b[0m\u001b[0;34m(\u001b[0m\u001b[0maliased_event_name\u001b[0m\u001b[0;34m,\u001b[0m \u001b[0;34m**\u001b[0m\u001b[0mkwargs\u001b[0m\u001b[0;34m)\u001b[0m\u001b[0;34m\u001b[0m\u001b[0;34m\u001b[0m\u001b[0m\n\u001b[0m\u001b[1;32m    357\u001b[0m \u001b[0;34m\u001b[0m\u001b[0m\n\u001b[1;32m    358\u001b[0m     \u001b[0;32mdef\u001b[0m \u001b[0memit_until_response\u001b[0m\u001b[0;34m(\u001b[0m\u001b[0mself\u001b[0m\u001b[0;34m,\u001b[0m \u001b[0mevent_name\u001b[0m\u001b[0;34m,\u001b[0m \u001b[0;34m**\u001b[0m\u001b[0mkwargs\u001b[0m\u001b[0;34m)\u001b[0m\u001b[0;34m:\u001b[0m\u001b[0;34m\u001b[0m\u001b[0;34m\u001b[0m\u001b[0m\n",
      "\u001b[0;32m~/Code/ENV/spacekit-env/lib/python3.7/site-packages/botocore/hooks.py\u001b[0m in \u001b[0;36memit\u001b[0;34m(self, event_name, **kwargs)\u001b[0m\n\u001b[1;32m    226\u001b[0m                  \u001b[0mhandlers\u001b[0m\u001b[0;34m.\u001b[0m\u001b[0;34m\u001b[0m\u001b[0;34m\u001b[0m\u001b[0m\n\u001b[1;32m    227\u001b[0m         \"\"\"\n\u001b[0;32m--> 228\u001b[0;31m         \u001b[0;32mreturn\u001b[0m \u001b[0mself\u001b[0m\u001b[0;34m.\u001b[0m\u001b[0m_emit\u001b[0m\u001b[0;34m(\u001b[0m\u001b[0mevent_name\u001b[0m\u001b[0;34m,\u001b[0m \u001b[0mkwargs\u001b[0m\u001b[0;34m)\u001b[0m\u001b[0;34m\u001b[0m\u001b[0;34m\u001b[0m\u001b[0m\n\u001b[0m\u001b[1;32m    229\u001b[0m \u001b[0;34m\u001b[0m\u001b[0m\n\u001b[1;32m    230\u001b[0m     \u001b[0;32mdef\u001b[0m \u001b[0memit_until_response\u001b[0m\u001b[0;34m(\u001b[0m\u001b[0mself\u001b[0m\u001b[0;34m,\u001b[0m \u001b[0mevent_name\u001b[0m\u001b[0;34m,\u001b[0m \u001b[0;34m**\u001b[0m\u001b[0mkwargs\u001b[0m\u001b[0;34m)\u001b[0m\u001b[0;34m:\u001b[0m\u001b[0;34m\u001b[0m\u001b[0;34m\u001b[0m\u001b[0m\n",
      "\u001b[0;32m~/Code/ENV/spacekit-env/lib/python3.7/site-packages/botocore/hooks.py\u001b[0m in \u001b[0;36m_emit\u001b[0;34m(self, event_name, kwargs, stop_on_response)\u001b[0m\n\u001b[1;32m    209\u001b[0m         \u001b[0;32mfor\u001b[0m \u001b[0mhandler\u001b[0m \u001b[0;32min\u001b[0m \u001b[0mhandlers_to_call\u001b[0m\u001b[0;34m:\u001b[0m\u001b[0;34m\u001b[0m\u001b[0;34m\u001b[0m\u001b[0m\n\u001b[1;32m    210\u001b[0m             \u001b[0mlogger\u001b[0m\u001b[0;34m.\u001b[0m\u001b[0mdebug\u001b[0m\u001b[0;34m(\u001b[0m\u001b[0;34m'Event %s: calling handler %s'\u001b[0m\u001b[0;34m,\u001b[0m \u001b[0mevent_name\u001b[0m\u001b[0;34m,\u001b[0m \u001b[0mhandler\u001b[0m\u001b[0;34m)\u001b[0m\u001b[0;34m\u001b[0m\u001b[0;34m\u001b[0m\u001b[0m\n\u001b[0;32m--> 211\u001b[0;31m             \u001b[0mresponse\u001b[0m \u001b[0;34m=\u001b[0m \u001b[0mhandler\u001b[0m\u001b[0;34m(\u001b[0m\u001b[0;34m**\u001b[0m\u001b[0mkwargs\u001b[0m\u001b[0;34m)\u001b[0m\u001b[0;34m\u001b[0m\u001b[0;34m\u001b[0m\u001b[0m\n\u001b[0m\u001b[1;32m    212\u001b[0m             \u001b[0mresponses\u001b[0m\u001b[0;34m.\u001b[0m\u001b[0mappend\u001b[0m\u001b[0;34m(\u001b[0m\u001b[0;34m(\u001b[0m\u001b[0mhandler\u001b[0m\u001b[0;34m,\u001b[0m \u001b[0mresponse\u001b[0m\u001b[0;34m)\u001b[0m\u001b[0;34m)\u001b[0m\u001b[0;34m\u001b[0m\u001b[0;34m\u001b[0m\u001b[0m\n\u001b[1;32m    213\u001b[0m             \u001b[0;32mif\u001b[0m \u001b[0mstop_on_response\u001b[0m \u001b[0;32mand\u001b[0m \u001b[0mresponse\u001b[0m \u001b[0;32mis\u001b[0m \u001b[0;32mnot\u001b[0m \u001b[0;32mNone\u001b[0m\u001b[0;34m:\u001b[0m\u001b[0;34m\u001b[0m\u001b[0;34m\u001b[0m\u001b[0m\n",
      "\u001b[0;32m~/Code/ENV/spacekit-env/lib/python3.7/site-packages/botocore/signers.py\u001b[0m in \u001b[0;36mhandler\u001b[0;34m(self, operation_name, request, **kwargs)\u001b[0m\n\u001b[1;32m     88\u001b[0m         \u001b[0;31m# this method is invoked to sign the request.\u001b[0m\u001b[0;34m\u001b[0m\u001b[0;34m\u001b[0m\u001b[0;34m\u001b[0m\u001b[0m\n\u001b[1;32m     89\u001b[0m         \u001b[0;31m# Don't call this method directly.\u001b[0m\u001b[0;34m\u001b[0m\u001b[0;34m\u001b[0m\u001b[0;34m\u001b[0m\u001b[0m\n\u001b[0;32m---> 90\u001b[0;31m         \u001b[0;32mreturn\u001b[0m \u001b[0mself\u001b[0m\u001b[0;34m.\u001b[0m\u001b[0msign\u001b[0m\u001b[0;34m(\u001b[0m\u001b[0moperation_name\u001b[0m\u001b[0;34m,\u001b[0m \u001b[0mrequest\u001b[0m\u001b[0;34m)\u001b[0m\u001b[0;34m\u001b[0m\u001b[0;34m\u001b[0m\u001b[0m\n\u001b[0m\u001b[1;32m     91\u001b[0m \u001b[0;34m\u001b[0m\u001b[0m\n\u001b[1;32m     92\u001b[0m     def sign(self, operation_name, request, region_name=None,\n",
      "\u001b[0;32m~/Code/ENV/spacekit-env/lib/python3.7/site-packages/botocore/signers.py\u001b[0m in \u001b[0;36msign\u001b[0;34m(self, operation_name, request, region_name, signing_type, expires_in, signing_name)\u001b[0m\n\u001b[1;32m    152\u001b[0m                 \u001b[0mkwargs\u001b[0m\u001b[0;34m[\u001b[0m\u001b[0;34m'signing_name'\u001b[0m\u001b[0;34m]\u001b[0m \u001b[0;34m=\u001b[0m \u001b[0msigning_context\u001b[0m\u001b[0;34m[\u001b[0m\u001b[0;34m'signing_name'\u001b[0m\u001b[0;34m]\u001b[0m\u001b[0;34m\u001b[0m\u001b[0;34m\u001b[0m\u001b[0m\n\u001b[1;32m    153\u001b[0m             \u001b[0;32mtry\u001b[0m\u001b[0;34m:\u001b[0m\u001b[0;34m\u001b[0m\u001b[0;34m\u001b[0m\u001b[0m\n\u001b[0;32m--> 154\u001b[0;31m                 \u001b[0mauth\u001b[0m \u001b[0;34m=\u001b[0m \u001b[0mself\u001b[0m\u001b[0;34m.\u001b[0m\u001b[0mget_auth_instance\u001b[0m\u001b[0;34m(\u001b[0m\u001b[0;34m**\u001b[0m\u001b[0mkwargs\u001b[0m\u001b[0;34m)\u001b[0m\u001b[0;34m\u001b[0m\u001b[0;34m\u001b[0m\u001b[0m\n\u001b[0m\u001b[1;32m    155\u001b[0m             \u001b[0;32mexcept\u001b[0m \u001b[0mUnknownSignatureVersionError\u001b[0m \u001b[0;32mas\u001b[0m \u001b[0me\u001b[0m\u001b[0;34m:\u001b[0m\u001b[0;34m\u001b[0m\u001b[0;34m\u001b[0m\u001b[0m\n\u001b[1;32m    156\u001b[0m                 \u001b[0;32mif\u001b[0m \u001b[0msigning_type\u001b[0m \u001b[0;34m!=\u001b[0m \u001b[0;34m'standard'\u001b[0m\u001b[0;34m:\u001b[0m\u001b[0;34m\u001b[0m\u001b[0;34m\u001b[0m\u001b[0m\n",
      "\u001b[0;32m~/Code/ENV/spacekit-env/lib/python3.7/site-packages/botocore/signers.py\u001b[0m in \u001b[0;36mget_auth_instance\u001b[0;34m(self, signing_name, region_name, signature_version, **kwargs)\u001b[0m\n\u001b[1;32m    232\u001b[0m         \u001b[0mfrozen_credentials\u001b[0m \u001b[0;34m=\u001b[0m \u001b[0;32mNone\u001b[0m\u001b[0;34m\u001b[0m\u001b[0;34m\u001b[0m\u001b[0m\n\u001b[1;32m    233\u001b[0m         \u001b[0;32mif\u001b[0m \u001b[0mself\u001b[0m\u001b[0;34m.\u001b[0m\u001b[0m_credentials\u001b[0m \u001b[0;32mis\u001b[0m \u001b[0;32mnot\u001b[0m \u001b[0;32mNone\u001b[0m\u001b[0;34m:\u001b[0m\u001b[0;34m\u001b[0m\u001b[0;34m\u001b[0m\u001b[0m\n\u001b[0;32m--> 234\u001b[0;31m             \u001b[0mfrozen_credentials\u001b[0m \u001b[0;34m=\u001b[0m \u001b[0mself\u001b[0m\u001b[0;34m.\u001b[0m\u001b[0m_credentials\u001b[0m\u001b[0;34m.\u001b[0m\u001b[0mget_frozen_credentials\u001b[0m\u001b[0;34m(\u001b[0m\u001b[0;34m)\u001b[0m\u001b[0;34m\u001b[0m\u001b[0;34m\u001b[0m\u001b[0m\n\u001b[0m\u001b[1;32m    235\u001b[0m         \u001b[0mkwargs\u001b[0m\u001b[0;34m[\u001b[0m\u001b[0;34m'credentials'\u001b[0m\u001b[0;34m]\u001b[0m \u001b[0;34m=\u001b[0m \u001b[0mfrozen_credentials\u001b[0m\u001b[0;34m\u001b[0m\u001b[0;34m\u001b[0m\u001b[0m\n\u001b[1;32m    236\u001b[0m         \u001b[0;32mif\u001b[0m \u001b[0mcls\u001b[0m\u001b[0;34m.\u001b[0m\u001b[0mREQUIRES_REGION\u001b[0m\u001b[0;34m:\u001b[0m\u001b[0;34m\u001b[0m\u001b[0;34m\u001b[0m\u001b[0m\n",
      "\u001b[0;32m~/Code/ENV/spacekit-env/lib/python3.7/site-packages/botocore/credentials.py\u001b[0m in \u001b[0;36mget_frozen_credentials\u001b[0;34m(self)\u001b[0m\n\u001b[1;32m    603\u001b[0m \u001b[0;34m\u001b[0m\u001b[0m\n\u001b[1;32m    604\u001b[0m         \"\"\"\n\u001b[0;32m--> 605\u001b[0;31m         \u001b[0mself\u001b[0m\u001b[0;34m.\u001b[0m\u001b[0m_refresh\u001b[0m\u001b[0;34m(\u001b[0m\u001b[0;34m)\u001b[0m\u001b[0;34m\u001b[0m\u001b[0;34m\u001b[0m\u001b[0m\n\u001b[0m\u001b[1;32m    606\u001b[0m         \u001b[0;32mreturn\u001b[0m \u001b[0mself\u001b[0m\u001b[0;34m.\u001b[0m\u001b[0m_frozen_credentials\u001b[0m\u001b[0;34m\u001b[0m\u001b[0;34m\u001b[0m\u001b[0m\n\u001b[1;32m    607\u001b[0m \u001b[0;34m\u001b[0m\u001b[0m\n",
      "\u001b[0;32m~/Code/ENV/spacekit-env/lib/python3.7/site-packages/botocore/credentials.py\u001b[0m in \u001b[0;36m_refresh\u001b[0;34m(self)\u001b[0m\n\u001b[1;32m    498\u001b[0m                 is_mandatory_refresh = self.refresh_needed(\n\u001b[1;32m    499\u001b[0m                     self._mandatory_refresh_timeout)\n\u001b[0;32m--> 500\u001b[0;31m                 \u001b[0mself\u001b[0m\u001b[0;34m.\u001b[0m\u001b[0m_protected_refresh\u001b[0m\u001b[0;34m(\u001b[0m\u001b[0mis_mandatory\u001b[0m\u001b[0;34m=\u001b[0m\u001b[0mis_mandatory_refresh\u001b[0m\u001b[0;34m)\u001b[0m\u001b[0;34m\u001b[0m\u001b[0;34m\u001b[0m\u001b[0m\n\u001b[0m\u001b[1;32m    501\u001b[0m                 \u001b[0;32mreturn\u001b[0m\u001b[0;34m\u001b[0m\u001b[0;34m\u001b[0m\u001b[0m\n\u001b[1;32m    502\u001b[0m             \u001b[0;32mfinally\u001b[0m\u001b[0;34m:\u001b[0m\u001b[0;34m\u001b[0m\u001b[0;34m\u001b[0m\u001b[0m\n",
      "\u001b[0;32m~/Code/ENV/spacekit-env/lib/python3.7/site-packages/botocore/credentials.py\u001b[0m in \u001b[0;36m_protected_refresh\u001b[0;34m(self, is_mandatory)\u001b[0m\n\u001b[1;32m    514\u001b[0m         \u001b[0;31m# the self._refresh_lock.\u001b[0m\u001b[0;34m\u001b[0m\u001b[0;34m\u001b[0m\u001b[0;34m\u001b[0m\u001b[0m\n\u001b[1;32m    515\u001b[0m         \u001b[0;32mtry\u001b[0m\u001b[0;34m:\u001b[0m\u001b[0;34m\u001b[0m\u001b[0;34m\u001b[0m\u001b[0m\n\u001b[0;32m--> 516\u001b[0;31m             \u001b[0mmetadata\u001b[0m \u001b[0;34m=\u001b[0m \u001b[0mself\u001b[0m\u001b[0;34m.\u001b[0m\u001b[0m_refresh_using\u001b[0m\u001b[0;34m(\u001b[0m\u001b[0;34m)\u001b[0m\u001b[0;34m\u001b[0m\u001b[0;34m\u001b[0m\u001b[0m\n\u001b[0m\u001b[1;32m    517\u001b[0m         \u001b[0;32mexcept\u001b[0m \u001b[0mException\u001b[0m \u001b[0;32mas\u001b[0m \u001b[0me\u001b[0m\u001b[0;34m:\u001b[0m\u001b[0;34m\u001b[0m\u001b[0;34m\u001b[0m\u001b[0m\n\u001b[1;32m    518\u001b[0m             \u001b[0mperiod_name\u001b[0m \u001b[0;34m=\u001b[0m \u001b[0;34m'mandatory'\u001b[0m \u001b[0;32mif\u001b[0m \u001b[0mis_mandatory\u001b[0m \u001b[0;32melse\u001b[0m \u001b[0;34m'advisory'\u001b[0m\u001b[0;34m\u001b[0m\u001b[0;34m\u001b[0m\u001b[0m\n",
      "\u001b[0;32m~/Code/ENV/spacekit-env/lib/python3.7/site-packages/botocore/credentials.py\u001b[0m in \u001b[0;36mfetch_credentials\u001b[0;34m(self)\u001b[0m\n\u001b[1;32m    655\u001b[0m \u001b[0;34m\u001b[0m\u001b[0m\n\u001b[1;32m    656\u001b[0m     \u001b[0;32mdef\u001b[0m \u001b[0mfetch_credentials\u001b[0m\u001b[0;34m(\u001b[0m\u001b[0mself\u001b[0m\u001b[0;34m)\u001b[0m\u001b[0;34m:\u001b[0m\u001b[0;34m\u001b[0m\u001b[0;34m\u001b[0m\u001b[0m\n\u001b[0;32m--> 657\u001b[0;31m         \u001b[0;32mreturn\u001b[0m \u001b[0mself\u001b[0m\u001b[0;34m.\u001b[0m\u001b[0m_get_cached_credentials\u001b[0m\u001b[0;34m(\u001b[0m\u001b[0;34m)\u001b[0m\u001b[0;34m\u001b[0m\u001b[0;34m\u001b[0m\u001b[0m\n\u001b[0m\u001b[1;32m    658\u001b[0m \u001b[0;34m\u001b[0m\u001b[0m\n\u001b[1;32m    659\u001b[0m     \u001b[0;32mdef\u001b[0m \u001b[0m_get_cached_credentials\u001b[0m\u001b[0;34m(\u001b[0m\u001b[0mself\u001b[0m\u001b[0;34m)\u001b[0m\u001b[0;34m:\u001b[0m\u001b[0;34m\u001b[0m\u001b[0;34m\u001b[0m\u001b[0m\n",
      "\u001b[0;32m~/Code/ENV/spacekit-env/lib/python3.7/site-packages/botocore/credentials.py\u001b[0m in \u001b[0;36m_get_cached_credentials\u001b[0;34m(self)\u001b[0m\n\u001b[1;32m    665\u001b[0m         \u001b[0mresponse\u001b[0m \u001b[0;34m=\u001b[0m \u001b[0mself\u001b[0m\u001b[0;34m.\u001b[0m\u001b[0m_load_from_cache\u001b[0m\u001b[0;34m(\u001b[0m\u001b[0;34m)\u001b[0m\u001b[0;34m\u001b[0m\u001b[0;34m\u001b[0m\u001b[0m\n\u001b[1;32m    666\u001b[0m         \u001b[0;32mif\u001b[0m \u001b[0mresponse\u001b[0m \u001b[0;32mis\u001b[0m \u001b[0;32mNone\u001b[0m\u001b[0;34m:\u001b[0m\u001b[0;34m\u001b[0m\u001b[0;34m\u001b[0m\u001b[0m\n\u001b[0;32m--> 667\u001b[0;31m             \u001b[0mresponse\u001b[0m \u001b[0;34m=\u001b[0m \u001b[0mself\u001b[0m\u001b[0;34m.\u001b[0m\u001b[0m_get_credentials\u001b[0m\u001b[0;34m(\u001b[0m\u001b[0;34m)\u001b[0m\u001b[0;34m\u001b[0m\u001b[0;34m\u001b[0m\u001b[0m\n\u001b[0m\u001b[1;32m    668\u001b[0m             \u001b[0mself\u001b[0m\u001b[0;34m.\u001b[0m\u001b[0m_write_to_cache\u001b[0m\u001b[0;34m(\u001b[0m\u001b[0mresponse\u001b[0m\u001b[0;34m)\u001b[0m\u001b[0;34m\u001b[0m\u001b[0;34m\u001b[0m\u001b[0m\n\u001b[1;32m    669\u001b[0m         \u001b[0;32melse\u001b[0m\u001b[0;34m:\u001b[0m\u001b[0;34m\u001b[0m\u001b[0;34m\u001b[0m\u001b[0m\n",
      "\u001b[0;32m~/Code/ENV/spacekit-env/lib/python3.7/site-packages/botocore/credentials.py\u001b[0m in \u001b[0;36m_get_credentials\u001b[0;34m(self)\u001b[0m\n\u001b[1;32m   2027\u001b[0m         }\n\u001b[1;32m   2028\u001b[0m         \u001b[0;32mtry\u001b[0m\u001b[0;34m:\u001b[0m\u001b[0;34m\u001b[0m\u001b[0;34m\u001b[0m\u001b[0m\n\u001b[0;32m-> 2029\u001b[0;31m             \u001b[0mresponse\u001b[0m \u001b[0;34m=\u001b[0m \u001b[0mclient\u001b[0m\u001b[0;34m.\u001b[0m\u001b[0mget_role_credentials\u001b[0m\u001b[0;34m(\u001b[0m\u001b[0;34m**\u001b[0m\u001b[0mkwargs\u001b[0m\u001b[0;34m)\u001b[0m\u001b[0;34m\u001b[0m\u001b[0;34m\u001b[0m\u001b[0m\n\u001b[0m\u001b[1;32m   2030\u001b[0m         \u001b[0;32mexcept\u001b[0m \u001b[0mclient\u001b[0m\u001b[0;34m.\u001b[0m\u001b[0mexceptions\u001b[0m\u001b[0;34m.\u001b[0m\u001b[0mUnauthorizedException\u001b[0m\u001b[0;34m:\u001b[0m\u001b[0;34m\u001b[0m\u001b[0;34m\u001b[0m\u001b[0m\n\u001b[1;32m   2031\u001b[0m             \u001b[0;32mraise\u001b[0m \u001b[0mUnauthorizedSSOTokenError\u001b[0m\u001b[0;34m(\u001b[0m\u001b[0;34m)\u001b[0m\u001b[0;34m\u001b[0m\u001b[0;34m\u001b[0m\u001b[0m\n",
      "\u001b[0;32m~/Code/ENV/spacekit-env/lib/python3.7/site-packages/botocore/client.py\u001b[0m in \u001b[0;36m_api_call\u001b[0;34m(self, *args, **kwargs)\u001b[0m\n\u001b[1;32m    355\u001b[0m                     \"%s() only accepts keyword arguments.\" % py_operation_name)\n\u001b[1;32m    356\u001b[0m             \u001b[0;31m# The \"self\" in this scope is referring to the BaseClient.\u001b[0m\u001b[0;34m\u001b[0m\u001b[0;34m\u001b[0m\u001b[0;34m\u001b[0m\u001b[0m\n\u001b[0;32m--> 357\u001b[0;31m             \u001b[0;32mreturn\u001b[0m \u001b[0mself\u001b[0m\u001b[0;34m.\u001b[0m\u001b[0m_make_api_call\u001b[0m\u001b[0;34m(\u001b[0m\u001b[0moperation_name\u001b[0m\u001b[0;34m,\u001b[0m \u001b[0mkwargs\u001b[0m\u001b[0;34m)\u001b[0m\u001b[0;34m\u001b[0m\u001b[0;34m\u001b[0m\u001b[0m\n\u001b[0m\u001b[1;32m    358\u001b[0m \u001b[0;34m\u001b[0m\u001b[0m\n\u001b[1;32m    359\u001b[0m         \u001b[0m_api_call\u001b[0m\u001b[0;34m.\u001b[0m\u001b[0m__name__\u001b[0m \u001b[0;34m=\u001b[0m \u001b[0mstr\u001b[0m\u001b[0;34m(\u001b[0m\u001b[0mpy_operation_name\u001b[0m\u001b[0;34m)\u001b[0m\u001b[0;34m\u001b[0m\u001b[0;34m\u001b[0m\u001b[0m\n",
      "\u001b[0;32m~/Code/ENV/spacekit-env/lib/python3.7/site-packages/botocore/client.py\u001b[0m in \u001b[0;36m_make_api_call\u001b[0;34m(self, operation_name, api_params)\u001b[0m\n\u001b[1;32m    674\u001b[0m             \u001b[0merror_code\u001b[0m \u001b[0;34m=\u001b[0m \u001b[0mparsed_response\u001b[0m\u001b[0;34m.\u001b[0m\u001b[0mget\u001b[0m\u001b[0;34m(\u001b[0m\u001b[0;34m\"Error\"\u001b[0m\u001b[0;34m,\u001b[0m \u001b[0;34m{\u001b[0m\u001b[0;34m}\u001b[0m\u001b[0;34m)\u001b[0m\u001b[0;34m.\u001b[0m\u001b[0mget\u001b[0m\u001b[0;34m(\u001b[0m\u001b[0;34m\"Code\"\u001b[0m\u001b[0;34m)\u001b[0m\u001b[0;34m\u001b[0m\u001b[0;34m\u001b[0m\u001b[0m\n\u001b[1;32m    675\u001b[0m             \u001b[0merror_class\u001b[0m \u001b[0;34m=\u001b[0m \u001b[0mself\u001b[0m\u001b[0;34m.\u001b[0m\u001b[0mexceptions\u001b[0m\u001b[0;34m.\u001b[0m\u001b[0mfrom_code\u001b[0m\u001b[0;34m(\u001b[0m\u001b[0merror_code\u001b[0m\u001b[0;34m)\u001b[0m\u001b[0;34m\u001b[0m\u001b[0;34m\u001b[0m\u001b[0m\n\u001b[0;32m--> 676\u001b[0;31m             \u001b[0;32mraise\u001b[0m \u001b[0merror_class\u001b[0m\u001b[0;34m(\u001b[0m\u001b[0mparsed_response\u001b[0m\u001b[0;34m,\u001b[0m \u001b[0moperation_name\u001b[0m\u001b[0;34m)\u001b[0m\u001b[0;34m\u001b[0m\u001b[0;34m\u001b[0m\u001b[0m\n\u001b[0m\u001b[1;32m    677\u001b[0m         \u001b[0;32melse\u001b[0m\u001b[0;34m:\u001b[0m\u001b[0;34m\u001b[0m\u001b[0;34m\u001b[0m\u001b[0m\n\u001b[1;32m    678\u001b[0m             \u001b[0;32mreturn\u001b[0m \u001b[0mparsed_response\u001b[0m\u001b[0;34m\u001b[0m\u001b[0;34m\u001b[0m\u001b[0m\n",
      "\u001b[0;31mClientError\u001b[0m: An error occurred (ForbiddenException) when calling the GetRoleCredentials operation: The requested role with name AWSAdministratorAccess does not exist"
     ]
    }
   ],
   "source": [
    "# # Getting the cloud URIs\n",
    "# obs_table = Observations.query_criteria(obs_collection=['K2'],\n",
    "#                                         objectname=\"K2-62\",\n",
    "#                                         filters='KEPLER',\n",
    "#                                         provenance_name='K2')\n",
    "# products = Observations.get_product_list(obs_table)\n",
    "# filtered = Observations.filter_products(products,\n",
    "#                                         productSubGroupDescription='LLC')\n",
    "# s3_uris = Observations.get_cloud_uris(filtered)\n",
    "# print(s3_uris)"
   ]
  },
  {
   "cell_type": "code",
   "execution_count": null,
   "metadata": {
    "colab": {
     "base_uri": "https://localhost:8080/",
     "height": 34
    },
    "id": "-a-ajb2qVUyu",
    "outputId": "5ac02f12-f5f5-47c8-ae27-d827e596403f"
   },
   "outputs": [
    {
     "data": {
      "text/plain": [
       "23"
      ]
     },
     "execution_count": 52,
     "metadata": {
      "tags": []
     },
     "output_type": "execute_result"
    }
   ],
   "source": [
    "len(s3_uris)"
   ]
  },
  {
   "cell_type": "code",
   "execution_count": null,
   "metadata": {
    "colab": {
     "base_uri": "https://localhost:8080/",
     "height": 34
    },
    "id": "JPDbU_NT_tsh",
    "outputId": "e965fe1c-e718-4d24-d5d8-3aa6e5985d15"
   },
   "outputs": [
    {
     "name": "stdout",
     "output_type": "stream",
     "text": [
      "/gdrive/My Drive/Colab Notebooks/starskope/data/mast/k2_c3_62\n"
     ]
    }
   ],
   "source": [
    "#%mkdir -p data/mast/k2_c3_62\n",
    "%cd data/mast/k2_c3_62"
   ]
  },
  {
   "cell_type": "code",
   "execution_count": null,
   "metadata": {
    "id": "rJUqNJTFapnu"
   },
   "outputs": [],
   "source": [
    "# Just download a few of the files (remove the [0:3] to download them all)\n",
    "# for url in s3_uris[0:3]:\n",
    "for url in s3_uris:\n",
    "   # Extract the S3 key from the S3 URL\n",
    "   fits_s3_key = url.replace(\"s3://stpubdata/\", \"\")\n",
    "   root = url.split('/')[-1]\n",
    "   bucket.download_file(fits_s3_key, root, ExtraArgs={\"RequestPayer\": \"requester\"})"
   ]
  },
  {
   "cell_type": "code",
   "execution_count": null,
   "metadata": {
    "colab": {
     "base_uri": "https://localhost:8080/",
     "height": 221
    },
    "id": "I0AjmeZCBtg4",
    "outputId": "09e2191d-72f8-4309-ae74-c2ee65eb260e"
   },
   "outputs": [
    {
     "name": "stdout",
     "output_type": "stream",
     "text": [
      "ktwo206089508-c03_llc.fits  ktwo206096692-c03_llc.fits\n",
      "ktwo206092110-c03_llc.fits  ktwo206097453-c03_llc.fits\n",
      "ktwo206092615-c03_llc.fits  ktwo206098619-c03_llc.fits\n",
      "ktwo206093036-c03_llc.fits  ktwo206098990-c03_llc.fits\n",
      "ktwo206093540-c03_llc.fits  ktwo206099456-c03_llc.fits\n",
      "ktwo206094039-c03_llc.fits  ktwo206099582-c03_llc.fits\n",
      "ktwo206094098-c03_llc.fits  ktwo206099965-c03_llc.fits\n",
      "ktwo206094342-c03_llc.fits  ktwo206100060-c03_llc.fits\n",
      "ktwo206094605-c03_llc.fits  ktwo206102898-c03_llc.fits\n",
      "ktwo206095133-c03_llc.fits  ktwo206103033-c03_llc.fits\n",
      "ktwo206096022-c03_llc.fits  ktwo212235329-c03_llc.fits\n",
      "ktwo206096602-c03_llc.fits\n"
     ]
    }
   ],
   "source": [
    "%ls"
   ]
  },
  {
   "cell_type": "code",
   "execution_count": null,
   "metadata": {
    "id": "Sw7ycyGZE0Yd"
   },
   "outputs": [],
   "source": [
    "# K2-1 has 4 confirmed planets\n",
    "obs_table = Observations.query_criteria(obs_collection=['K2'],\n",
    "                                        objectname=\"K2-1\",\n",
    "                                        filters='KEPLER',\n",
    "                                        provenance_name='K2')\n",
    "products = Observations.get_product_list(obs_table)\n",
    "filtered = Observations.filter_products(products,\n",
    "                                        productSubGroupDescription='LLC')"
   ]
  },
  {
   "cell_type": "code",
   "execution_count": null,
   "metadata": {
    "colab": {
     "base_uri": "https://localhost:8080/",
     "height": 54
    },
    "id": "KFauoEiZH_gj",
    "outputId": "7af67fc3-0ac7-4520-b105-a9d54b8d3e83"
   },
   "outputs": [
    {
     "name": "stdout",
     "output_type": "stream",
     "text": [
      "['s3://stpubdata/k2/public/lightcurves/c19/246300000/67000/ktwo246367108-c19_llc.fits', 's3://stpubdata/k2/public/lightcurves/c19/246300000/67000/ktwo246367153-c19_llc.fits', 's3://stpubdata/k2/public/lightcurves/c19/246300000/67000/ktwo246367299-c19_llc.fits', 's3://stpubdata/k2/public/lightcurves/c19/246300000/67000/ktwo246367757-c19_llc.fits', 's3://stpubdata/k2/public/lightcurves/c19/246300000/67000/ktwo246367814-c19_llc.fits', 's3://stpubdata/k2/public/lightcurves/c19/246300000/69000/ktwo246369514-c19_llc.fits', 's3://stpubdata/k2/public/lightcurves/c19/246300000/69000/ktwo246369828-c19_llc.fits', 's3://stpubdata/k2/public/lightcurves/c12/246300000/71000/ktwo246371559-c12_llc.fits', 's3://stpubdata/k2/public/lightcurves/c19/246300000/72000/ktwo246372474-c19_llc.fits', 's3://stpubdata/k2/public/lightcurves/c12/246300000/73000/ktwo246373487-c12_llc.fits', 's3://stpubdata/k2/public/lightcurves/c12/246300000/75000/ktwo246375278-c12_llc.fits', 's3://stpubdata/k2/public/lightcurves/c12/246300000/75000/ktwo246375295-c12_llc.fits', 's3://stpubdata/k2/public/lightcurves/c19/246300000/75000/ktwo246375730-c19_llc.fits', 's3://stpubdata/k2/public/lightcurves/c12/246300000/76000/ktwo246376758-c12_llc.fits', 's3://stpubdata/k2/public/lightcurves/c12/246300000/77000/ktwo246377341-c12_llc.fits', 's3://stpubdata/k2/public/lightcurves/c12/246300000/77000/ktwo246377449-c12_llc.fits', 's3://stpubdata/k2/public/lightcurves/c12/246300000/78000/ktwo246378021-c12_llc.fits', 's3://stpubdata/k2/public/lightcurves/c12/246300000/78000/ktwo246378180-c12_llc.fits', 's3://stpubdata/k2/public/lightcurves/c12/246300000/78000/ktwo246378745-c12_llc.fits', 's3://stpubdata/k2/public/lightcurves/c12/246300000/78000/ktwo246378979-c12_llc.fits', 's3://stpubdata/k2/public/lightcurves/c12/246300000/80000/ktwo246380361-c12_llc.fits', 's3://stpubdata/k2/public/lightcurves/c12/246300000/80000/ktwo246380497-c12_llc.fits', 's3://stpubdata/k2/public/lightcurves/c12/246300000/80000/ktwo246380594-c12_llc.fits', 's3://stpubdata/k2/public/lightcurves/c12/246300000/81000/ktwo246381420-c12_llc.fits', 's3://stpubdata/k2/public/lightcurves/c12/246300000/81000/ktwo246381842-c12_llc.fits', 's3://stpubdata/k2/public/lightcurves/c12/246300000/82000/ktwo246382010-c12_llc.fits', 's3://stpubdata/k2/public/lightcurves/c12/246300000/82000/ktwo246382136-c12_llc.fits', 's3://stpubdata/k2/public/lightcurves/c12/246300000/83000/ktwo246383792-c12_llc.fits', 's3://stpubdata/k2/public/lightcurves/c12/246300000/84000/ktwo246384368-c12_llc.fits']\n"
     ]
    }
   ],
   "source": [
    "s3_uris = Observations.get_cloud_uris(filtered)\n",
    "print(s3_uris)"
   ]
  },
  {
   "cell_type": "code",
   "execution_count": null,
   "metadata": {
    "colab": {
     "base_uri": "https://localhost:8080/",
     "height": 34
    },
    "id": "HUUapbrFIXOA",
    "outputId": "df1cdfd8-993b-4201-96c3-5df885109fb2"
   },
   "outputs": [
    {
     "data": {
      "text/plain": [
       "29"
      ]
     },
     "execution_count": 116,
     "metadata": {
      "tags": []
     },
     "output_type": "execute_result"
    }
   ],
   "source": [
    "len(s3_uris)"
   ]
  },
  {
   "cell_type": "code",
   "execution_count": null,
   "metadata": {
    "colab": {
     "base_uri": "https://localhost:8080/",
     "height": 51
    },
    "id": "fjLkQFE_hxQ-",
    "outputId": "58578ec0-c1fe-4acc-a4f3-353a5cc4d15f"
   },
   "outputs": [
    {
     "name": "stdout",
     "output_type": "stream",
     "text": [
      "/gdrive/My Drive/Colab Notebooks/starskope/data/mast\n",
      "/gdrive/My Drive/Colab Notebooks/starskope/data/mast/k2_1\n"
     ]
    }
   ],
   "source": [
    "%cd ../\n",
    "%mkdir k2_1\n",
    "%cd k2_1"
   ]
  },
  {
   "cell_type": "code",
   "execution_count": null,
   "metadata": {
    "id": "ZcW4JNWfJV85"
   },
   "outputs": [],
   "source": [
    "for url in s3_uris:\n",
    "   # Extract the S3 key from the S3 URL\n",
    "   fits_s3_key = url.replace(\"s3://stpubdata/\", \"\")\n",
    "   root = url.split('/')[-1]\n",
    "   bucket.download_file(fits_s3_key, root, ExtraArgs={\"RequestPayer\": \"requester\"})"
   ]
  },
  {
   "cell_type": "code",
   "execution_count": null,
   "metadata": {
    "colab": {
     "base_uri": "https://localhost:8080/",
     "height": 272
    },
    "id": "aYiunDdAJcaH",
    "outputId": "1522e1b5-d60f-4a00-bf0d-d3827ae7189f"
   },
   "outputs": [
    {
     "name": "stdout",
     "output_type": "stream",
     "text": [
      "ktwo246367108-c19_llc.fits  ktwo246377449-c12_llc.fits\n",
      "ktwo246367153-c19_llc.fits  ktwo246378021-c12_llc.fits\n",
      "ktwo246367299-c19_llc.fits  ktwo246378180-c12_llc.fits\n",
      "ktwo246367757-c19_llc.fits  ktwo246378745-c12_llc.fits\n",
      "ktwo246367814-c19_llc.fits  ktwo246378979-c12_llc.fits\n",
      "ktwo246369514-c19_llc.fits  ktwo246380361-c12_llc.fits\n",
      "ktwo246369828-c19_llc.fits  ktwo246380497-c12_llc.fits\n",
      "ktwo246371559-c12_llc.fits  ktwo246380594-c12_llc.fits\n",
      "ktwo246372474-c19_llc.fits  ktwo246381420-c12_llc.fits\n",
      "ktwo246373487-c12_llc.fits  ktwo246381842-c12_llc.fits\n",
      "ktwo246375278-c12_llc.fits  ktwo246382010-c12_llc.fits\n",
      "ktwo246375295-c12_llc.fits  ktwo246382136-c12_llc.fits\n",
      "ktwo246375730-c19_llc.fits  ktwo246383792-c12_llc.fits\n",
      "ktwo246376758-c12_llc.fits  ktwo246384368-c12_llc.fits\n",
      "ktwo246377341-c12_llc.fits\n"
     ]
    }
   ],
   "source": [
    "%ls"
   ]
  },
  {
   "cell_type": "code",
   "execution_count": 19,
   "metadata": {
    "id": "Uk9UaqZEFRh9"
   },
   "outputs": [],
   "source": [
    "Observations.disable_cloud_dataset()"
   ]
  },
  {
   "cell_type": "markdown",
   "metadata": {
    "id": "8TJxbGdOFWzl"
   },
   "source": [
    "# Get all K2 Confirmed Planet Targets"
   ]
  },
  {
   "cell_type": "code",
   "execution_count": null,
   "metadata": {
    "id": "2njJinAkCFeE"
   },
   "outputs": [],
   "source": [
    "K2_confirmed_targets = ['K2-21','K2-28', 'K2-39', 'K2-54','K2-55', 'K2-57','K2-58','K2-59',\n",
    "                        'K2-60', 'K2-61', 'K2-63', 'K2-64', 'K2-65', 'K2-66', 'K2-68',\n",
    "                        'K2-70','K2-71','K2-72','K2-73','K2-74','K2-75','K2-76','K2-116',\n",
    "                        'K2-167','K2-168','K2-169','K2-170','K2-171','K2-172']\n",
    "# K2-1b\n",
    "# K2-21bc\n",
    "# K2-28b\n",
    "# K2-39b\n",
    "# K2-54b\n",
    "# K2-55b\n",
    "# K2-57b\n",
    "# K2-58bcd\n",
    "# K2-59bc\n",
    "# K2-60b\n",
    "# K2-61b\n",
    "# K2-62b\n",
    "# K2-63b\n",
    "# K2-64b\n",
    "# K2-65b\n",
    "# K2-66b\n",
    "# K2-68b\n",
    "# K2-70b\n",
    "# K2-71b\n",
    "# K2-72bcde\n",
    "# K2-73B\n",
    "# K2-74B\n",
    "# K2-75BC\n",
    "# K2-76b\n",
    "# K2-116b\n",
    "# K2-167b\n",
    "# K2-168b\n",
    "# K2-169\n",
    "# K2-170bc\n",
    "# K2-171b\n",
    "# K2-172bc\n",
    "# WASP-75B"
   ]
  },
  {
   "cell_type": "code",
   "execution_count": null,
   "metadata": {
    "id": "rCT5bDCYF8Hj"
   },
   "outputs": [],
   "source": [
    "Observations.enable_cloud_dataset()"
   ]
  },
  {
   "cell_type": "code",
   "execution_count": null,
   "metadata": {
    "id": "_s8h-WSqeV40"
   },
   "outputs": [],
   "source": [
    "obs_table = Observations.query_criteria(obs_collection=['K2'],\n",
    "                                        objectname=\"K2-62\",\n",
    "                                        filters='KEPLER',\n",
    "                                        provenance_name='K2')\n",
    "products = Observations.get_product_list(obs_table)\n",
    "filtered = Observations.filter_products(products,\n",
    "                                        productSubGroupDescription='LLC')"
   ]
  },
  {
   "cell_type": "code",
   "execution_count": null,
   "metadata": {
    "id": "iv2gNWWoqDWa"
   },
   "outputs": [],
   "source": [
    "# Getting the cloud URIs\n",
    "# obs_table = Observations.query_criteria(obs_collection='HST',\n",
    "#                                         filters='F606W',\n",
    "#                                         instrument_name='ACS/WFC',\n",
    "#                                         proposal_id=['12062'],\n",
    "#                                         dataRights='PUBLIC')\n",
    "# products = Observations.get_product_list(obs_table)\n",
    "# filtered = Observations.filter_products(products,\n",
    "#                                         productSubGroupDescription='DRZ')\n",
    "# s3_uris = Observations.get_cloud_uris(filtered)\n",
    "# print(s3_uris)"
   ]
  },
  {
   "cell_type": "code",
   "execution_count": null,
   "metadata": {
    "id": "Uxf_BXndodoR"
   },
   "outputs": [],
   "source": [
    "\n",
    "# target = \"K2-21\"\n",
    "\n",
    "# #Do a cone search and find the Kepler long cadence data for your target\n",
    "# obs = Observations.query_object(target)\n",
    "# want = (obs['obs_collection'] == \"Kepler\") & (obs['t_exptime'] ==1800.0)"
   ]
  },
  {
   "cell_type": "code",
   "execution_count": null,
   "metadata": {
    "id": "bXexDVsloLUF"
   },
   "outputs": [],
   "source": [
    "# #Pick which data you want to retrieve\n",
    "# data_prod = Observations.get_product_list(obs[want])\n",
    "# filt_prod = Observations.filter_products(data_prod, description=\"Lightcurve Long Cadence (LLC)\")"
   ]
  },
  {
   "cell_type": "code",
   "execution_count": null,
   "metadata": {
    "id": "dPY0qaYeqU-x"
   },
   "outputs": [],
   "source": [
    "# #Move data from the S3 bucket to the default astroquery location. \n",
    "# #cloud_only=True means that data will only be retrieved if available on AWS S3\n",
    "# # %cd ../\n",
    "# # %mkdir k2_21\n",
    "# # %cd k2_21\n",
    "# manifest = Observations.download_products(filt_prod, cloud_only=True)"
   ]
  },
  {
   "cell_type": "code",
   "execution_count": null,
   "metadata": {
    "id": "irVRWtS2qKFH"
   },
   "outputs": [],
   "source": [
    "\n",
    "# Observations.disable_cloud_dataset()"
   ]
  },
  {
   "cell_type": "markdown",
   "metadata": {
    "id": "j6XC-wO6qXiZ"
   },
   "source": [
    "# TESS"
   ]
  },
  {
   "cell_type": "code",
   "execution_count": null,
   "metadata": {
    "colab": {
     "base_uri": "https://localhost:8080/",
     "height": 71
    },
    "id": "ZzMHhRJ878i7",
    "outputId": "cf4e57b6-3cd3-497d-b7c2-4b47cf843135"
   },
   "outputs": [
    {
     "name": "stderr",
     "output_type": "stream",
     "text": [
      "WARNING: InputWarning: Coordinate string is being interpreted as an ICRS coordinate provided in degrees. [astroquery.utils.commons]\n"
     ]
    },
    {
     "name": "stdout",
     "output_type": "stream",
     "text": [
      "Number of results: 152\n"
     ]
    }
   ],
   "source": [
    "#catalog_data = Catalogs.query_criteria(catalog=\"Tic\",Bmag=[30,50],objType=\"STAR\")\n",
    "catalog_data = Catalogs.query_region(\"334.211055 -12.165732\", radius=0.1,\n",
    "                                      catalog=\"Tic\")\n",
    "print(\"Number of results:\",len(catalog_data))\n",
    "print(catalog_data[:10])"
   ]
  },
  {
   "cell_type": "code",
   "execution_count": null,
   "metadata": {
    "id": "vKLsaf_aSkAA"
   },
   "outputs": [],
   "source": [
    "# Query for observations in sector 1 (s0001), camera 1, chip 1 (1-1)\n",
    "obsTable = Observations.query_criteria(obs_id=\"tess-s0001-1-1\")"
   ]
  },
  {
   "cell_type": "code",
   "execution_count": null,
   "metadata": {
    "id": "Gqq96jlfSj1V"
   },
   "outputs": [],
   "source": [
    "\n",
    "# Get the products associated with these observations\n",
    "products = Observations.get_product_list(obsTable)"
   ]
  },
  {
   "cell_type": "code",
   "execution_count": null,
   "metadata": {
    "id": "pWfpVd4DSfU9"
   },
   "outputs": [],
   "source": [
    "# Return only the calibrated FFIs (.ffic.fits)\n",
    "filtered = Observations.filter_products(products, \n",
    "                                        productSubGroupDescription=\"FFIC\",\n",
    "                                        mrp_only=False)\n",
    "\n",
    "len(filtered)\n",
    "# > 1282\n",
    "\n",
    "# Enable 'cloud mode' for module which will return S3-like URLs for FITs files\n",
    "# e.g. s3://stpubdata/tess/.../tess2018206192942-s0001-1-1-0120-s_ffic.fits\n",
    "Observations.enable_cloud_dataset()\n",
    "\n",
    "# Grab the S3 URLs for each of the observations\n",
    "s3_urls = Observations.get_cloud_uris(filtered)\n",
    "\n",
    "s3 = boto3.resource('s3')\n",
    "\n",
    "# Create an authenticated S3 session. Note, download within US-East is free\n",
    "# e.g. to a node on EC2.\n",
    "s3_client = boto3.client('s3',\n",
    "                         aws_access_key_id='YOURAWSACCESSKEY',\n",
    "                         aws_secret_access_key='YOURSECRETACCESSKEY')\n",
    "\n",
    "bucket = s3.Bucket('stpubdata')\n",
    "\n",
    "# Just download a few of the files (remove the [0:3] to download them all)\n",
    "for url in s3_urls[0:3]:\n",
    "  # Extract the S3 key from the S3 URL\n",
    "  fits_s3_key = url.replace(\"s3://stpubdata/\", \"\")\n",
    "  root = url.split('/')[-1]\n",
    "  bucket.download_file(fits_s3_key, root, ExtraArgs={\"RequestPayer\": \"requester\"})\n",
    "  "
   ]
  },
  {
   "cell_type": "markdown",
   "metadata": {
    "id": "Qc_g3hRiPP3p"
   },
   "source": [
    "Bernoulli Restricted Boltzmann Machine (RBM).\n",
    "\n",
    "    A Restricted Boltzmann Machine with binary visible units and\n",
    "    binary hidden units. Parameters are estimated using Stochastic Maximum\n",
    "    Likelihood (SML), also known as Persistent Contrastive Divergence (PCD)\n",
    "    [2].\n",
    "\n",
    "    The time complexity of this implementation is ``O(d ** 2)`` assuming\n",
    "    d ~ n_features ~ n_components."
   ]
  },
  {
   "cell_type": "code",
   "execution_count": null,
   "metadata": {
    "id": "8B6xSvu5PG7j"
   },
   "outputs": [],
   "source": [
    "\n",
    "import numpy as np\n",
    "import matplotlib.pyplot as plt\n",
    "\n",
    "from scipy.ndimage import convolve\n",
    "from sklearn import linear_model, datasets, metrics\n",
    "from sklearn.model_selection import train_test_split\n",
    "from sklearn.neural_network import BernoulliRBM\n",
    "from sklearn.pipeline import Pipeline\n",
    "from sklearn.base import clone"
   ]
  },
  {
   "cell_type": "code",
   "execution_count": null,
   "metadata": {
    "id": "ZeVDoXp0PDIs"
   },
   "outputs": [],
   "source": [
    "# Authors: Yann N. Dauphin, Vlad Niculae, Gabriel Synnaeve\n",
    "# License: BSD\n",
    "\n",
    "# #############################################################################\n",
    "# Setting up\n",
    "\n",
    "def nudge_dataset(X, Y):\n",
    "    \"\"\"\n",
    "    This produces a dataset 5 times bigger than the original one,\n",
    "    by moving the 8x8 images in X around by 1px to left, right, down, up\n",
    "    \"\"\"\n",
    "    direction_vectors = [\n",
    "        [[0, 1, 0],\n",
    "         [0, 0, 0],\n",
    "         [0, 0, 0]],\n",
    "\n",
    "        [[0, 0, 0],\n",
    "         [1, 0, 0],\n",
    "         [0, 0, 0]],\n",
    "\n",
    "        [[0, 0, 0],\n",
    "         [0, 0, 1],\n",
    "         [0, 0, 0]],\n",
    "\n",
    "        [[0, 0, 0],\n",
    "         [0, 0, 0],\n",
    "         [0, 1, 0]]]\n",
    "\n",
    "    def shift(x, w):\n",
    "        return convolve(x.reshape((8, 8)), mode='constant', weights=w).ravel()\n",
    "\n",
    "    X = np.concatenate([X] +\n",
    "                       [np.apply_along_axis(shift, 1, X, vector)\n",
    "                        for vector in direction_vectors])\n",
    "    Y = np.concatenate([Y for _ in range(5)], axis=0)\n",
    "    return X, Y\n",
    "\n",
    "\n",
    "# Load Data\n",
    "X, y = datasets.load_digits(return_X_y=True)\n",
    "X = np.asarray(X, 'float32')\n",
    "X, Y = nudge_dataset(X, y)\n",
    "X = (X - np.min(X, 0)) / (np.max(X, 0) + 0.0001)  # 0-1 scaling\n",
    "\n",
    "X_train, X_test, Y_train, Y_test = train_test_split(\n",
    "    X, Y, test_size=0.2, random_state=0)\n",
    "\n",
    "# Models we will use\n",
    "logistic = linear_model.LogisticRegression(solver='newton-cg', tol=1)\n",
    "rbm = BernoulliRBM(random_state=0, verbose=True)\n",
    "\n",
    "rbm_features_classifier = Pipeline(\n",
    "    steps=[('rbm', rbm), ('logistic', logistic)])\n",
    "\n",
    "# #############################################################################\n",
    "# Training\n",
    "\n",
    "# Hyper-parameters. These were set by cross-validation,\n",
    "# using a GridSearchCV. Here we are not performing cross-validation to\n",
    "# save time.\n",
    "rbm.learning_rate = 0.06\n",
    "rbm.n_iter = 10\n",
    "# More components tend to give better prediction performance, but larger\n",
    "# fitting time\n",
    "rbm.n_components = 100\n",
    "logistic.C = 6000\n",
    "\n",
    "# Training RBM-Logistic Pipeline\n",
    "rbm_features_classifier.fit(X_train, Y_train)\n",
    "\n",
    "# Training the Logistic regression classifier directly on the pixel\n",
    "raw_pixel_classifier = clone(logistic)\n",
    "raw_pixel_classifier.C = 100.\n",
    "raw_pixel_classifier.fit(X_train, Y_train)\n",
    "\n",
    "# #############################################################################\n",
    "# Evaluation\n",
    "\n",
    "Y_pred = rbm_features_classifier.predict(X_test)\n",
    "print(\"Logistic regression using RBM features:\\n%s\\n\" % (\n",
    "    metrics.classification_report(Y_test, Y_pred)))\n",
    "\n",
    "Y_pred = raw_pixel_classifier.predict(X_test)\n",
    "print(\"Logistic regression using raw pixel features:\\n%s\\n\" % (\n",
    "    metrics.classification_report(Y_test, Y_pred)))\n",
    "\n",
    "# #############################################################################\n",
    "# Plotting\n",
    "\n",
    "plt.figure(figsize=(4.2, 4))\n",
    "for i, comp in enumerate(rbm.components_):\n",
    "    plt.subplot(10, 10, i + 1)\n",
    "    plt.imshow(comp.reshape((8, 8)), cmap=plt.cm.gray_r,\n",
    "               interpolation='nearest')\n",
    "    plt.xticks(())\n",
    "    plt.yticks(())\n",
    "plt.suptitle('100 components extracted by RBM', fontsize=16)\n",
    "plt.subplots_adjust(0.08, 0.02, 0.92, 0.85, 0.08, 0.23)\n",
    "\n",
    "plt.show()"
   ]
  }
 ],
 "metadata": {
  "colab": {
   "collapsed_sections": [],
   "name": "starskope-3.ipynb",
   "provenance": []
  },
  "kernelspec": {
   "display_name": "Python 3",
   "language": "python",
   "name": "python3"
  },
  "language_info": {
   "codemirror_mode": {
    "name": "ipython",
    "version": 3
   },
   "file_extension": ".py",
   "mimetype": "text/x-python",
   "name": "python",
   "nbconvert_exporter": "python",
   "pygments_lexer": "ipython3",
   "version": "3.7.7"
  }
 },
 "nbformat": 4,
 "nbformat_minor": 4
}
