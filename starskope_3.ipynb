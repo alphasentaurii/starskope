{
 "cells": [
  {
   "cell_type": "markdown",
   "metadata": {
    "colab_type": "text",
    "id": "cItRVIv8QpLR"
   },
   "source": [
    "# STARSKØPE\n",
    "\n",
    "## Part III: MAST API via AWS"
   ]
  },
  {
   "cell_type": "markdown",
   "metadata": {
    "colab_type": "text",
    "id": "Qc_g3hRiPP3p"
   },
   "source": [
    "**STARSKØPE Phase 3 Objectives**\n",
    "\n",
    "1. Use datasets from the MAST website (via API) to incorporate other calculations of the star's properties as features to be used for classification algorithms. Furthermore, attempt other types of transformations and normalizations on the data before running the model - for instance, apply a Fourier transform.\n",
    "\n",
    "2. Combine data from multiple campaigns and perhaps even multiple telescopes (for instance, matching sky coordinates and time intervals between K2, Kepler, and TESS for a batch of stars that have overlapping observations - this would be critical for finding transit periods that are longer than the campaigns of a single telecope's observation period)."
   ]
  },
  {
   "cell_type": "markdown",
   "metadata": {},
   "source": [
    "MAST archive from STScI: DOI 10.26133/NEA4"
   ]
  },
  {
   "cell_type": "markdown",
   "metadata": {},
   "source": [
    "[![Open In Colab](https://colab.research.google.com/assets/colab-badge.svg)](https://colab.research.google.com/drive/1MuPehwunnqjGgWI9-k30XKXpOKS59neD#scrollTo=tiR_zPCLZRws)"
   ]
  },
  {
   "cell_type": "markdown",
   "metadata": {},
   "source": [
    "# Import"
   ]
  },
  {
   "cell_type": "code",
   "execution_count": 1,
   "metadata": {},
   "outputs": [],
   "source": [
    "# Working with http://astroquery.readthedocs.io/en/latest/mast/mast.html\n",
    "# Make sure you're running the latest version of the following packages:\n",
    "\n",
    "# astroquery\n",
    "# astropy\n",
    "# boto3\n",
    "# awscli"
   ]
  },
  {
   "cell_type": "code",
   "execution_count": 14,
   "metadata": {},
   "outputs": [],
   "source": [
    "#!pip install astroquery"
   ]
  },
  {
   "cell_type": "code",
   "execution_count": 16,
   "metadata": {},
   "outputs": [],
   "source": [
    "#!pip install astropy"
   ]
  },
  {
   "cell_type": "code",
   "execution_count": 18,
   "metadata": {},
   "outputs": [],
   "source": [
    "#!pip install -U boto3"
   ]
  },
  {
   "cell_type": "code",
   "execution_count": 20,
   "metadata": {},
   "outputs": [],
   "source": [
    "#!pip install awscli"
   ]
  },
  {
   "cell_type": "code",
   "execution_count": 1,
   "metadata": {},
   "outputs": [],
   "source": [
    "def reload(mod):\n",
    "    \"\"\"Reloads the module from file without restarting kernel.\n",
    "        Args:\n",
    "            mod (loaded mod or list of mod objects): name or handle of package (i.e.,[ pd, fs,np])\n",
    "        Returns:\n",
    "            reload each model.\n",
    "    Example:\n",
    "    # You pass in whatever name you imported as.\n",
    "    import my_functions_from_file as mf\n",
    "    # after editing the source file:\n",
    "    # mf.reload(mf)\"\"\"\n",
    "    from importlib import reload\n",
    "    print(f'Reloading...\\n')\n",
    "    \n",
    "    ## \n",
    "    if isinstance(mod,list):\n",
    "        return [reload(m) for m in mod]\n",
    "    else:\n",
    "        return  reload(mod)"
   ]
  },
  {
   "cell_type": "code",
   "execution_count": 2,
   "metadata": {},
   "outputs": [],
   "source": [
    "import pandas as pd\n",
    "import numpy as np\n",
    "import os,glob, sys\n",
    "import boto3\n",
    "from astroquery.mast import Observations\n",
    "from astroquery.mast import Catalogs\n",
    "from astroquery.sdss import SDSS\n",
    "from astropy.io import fits\n",
    "\n",
    "# spacekit - my custom python library for astrophysics ML\n",
    "import spacekit as spc"
   ]
  },
  {
   "cell_type": "code",
   "execution_count": 3,
   "metadata": {
    "ExecuteTime": {
     "end_time": "2020-08-26T00:19:49.103462Z",
     "start_time": "2020-08-26T00:19:49.086139Z"
    },
    "colab": {},
    "colab_type": "code",
    "id": "8B6xSvu5PG7j"
   },
   "outputs": [],
   "source": [
    "import matplotlib as mpl\n",
    "%matplotlib inline\n",
    "from matplotlib.colors import LogNorm\n",
    "import matplotlib.pyplot as plt\n",
    "\n",
    "import seaborn as sns\n",
    "sns.set_style('whitegrid')\n",
    "import matplotlib.pyplot as plt\n",
    "plt.style.use('seaborn-bright')\n",
    " \n",
    "\n",
    "font_dict={'family':'\"Titillium Web\", monospace','size':16}\n",
    "mpl.rc('font',**font_dict)\n",
    "\n",
    "\n",
    "#ignore pink warnings\n",
    "import warnings\n",
    "warnings.filterwarnings('ignore')\n",
    "# Allow for large # columns\n",
    "pd.set_option('display.max_columns', 0)\n",
    "# pd.set_option('display.max_rows','')"
   ]
  },
  {
   "cell_type": "code",
   "execution_count": 4,
   "metadata": {},
   "outputs": [
    {
     "data": {
      "text/plain": [
       "['LICENSE.md',\n",
       " '.DS_Store',\n",
       " 'specs',\n",
       " 'Nontechnical-capstone.pdf',\n",
       " 'postman',\n",
       " 'models',\n",
       " '288_planetbleed1600.jpeg',\n",
       " 'README.md',\n",
       " 'starskope.ipynb',\n",
       " '.gitignore',\n",
       " '_config.yml',\n",
       " '._README.md',\n",
       " 'starskope_3.ipynb',\n",
       " 'starskope_4.ipynb',\n",
       " '.ipynb_checkpoints',\n",
       " 'spacekit',\n",
       " '.git',\n",
       " 'plot.tbl',\n",
       " 'DATA',\n",
       " 'outputs',\n",
       " 'starskope_2.ipynb',\n",
       " 'specs.zip']"
      ]
     },
     "execution_count": 4,
     "metadata": {},
     "output_type": "execute_result"
    }
   ],
   "source": [
    "# # If using Jupyter notebook/local\n",
    "home = os.path.abspath(os.curdir)\n",
    "os.listdir(home)\n",
    "\n",
    "# # If using Google Colabs\n",
    "# from google.colab import drive\n",
    "# drive.mount('/gdrive',force_remount=True)"
   ]
  },
  {
   "cell_type": "code",
   "execution_count": 5,
   "metadata": {},
   "outputs": [],
   "source": [
    "# # Jupyter Notebook\n",
    "# %mkdir ~/.aws/config\n",
    "\n",
    "# # Google Colab\n",
    "# %cd '/gdrive/My Drive/'\n",
    "# %mkdir config"
   ]
  },
  {
   "cell_type": "code",
   "execution_count": 6,
   "metadata": {},
   "outputs": [],
   "source": [
    "# # change the <tags> to your aws info\n",
    "\n",
    "# text = '''\n",
    "# [default]\n",
    "# aws_access_key_id = <YOUR_AWS_KEY_ID> \n",
    "# aws_secret_access_key = <YOUR_AWS_ACCESS_KEY>\n",
    "# region = us-east-1\n",
    "# '''"
   ]
  },
  {
   "cell_type": "code",
   "execution_count": 7,
   "metadata": {},
   "outputs": [],
   "source": [
    "# # Jupyter\n",
    "# path = \"~/.aws/config\"\n",
    "# with open(path, 'w') as f:\n",
    "#    f.write(text)\n",
    "# !cat ~/.aws/config\n",
    "\n",
    "# # Google Colabs\n",
    "# path = \"/gdrive/My Drive/config/awscli.ini\"\n",
    "# with open(path, 'w') as f:\n",
    "#    f.write(text)\n",
    "# !cat /gdrive/My\\ Drive/config/awscli.ini"
   ]
  },
  {
   "cell_type": "code",
   "execution_count": 8,
   "metadata": {},
   "outputs": [
    {
     "name": "stdout",
     "output_type": "stream",
     "text": [
      "~/.aws/config\n"
     ]
    }
   ],
   "source": [
    "# # Jupyter\n",
    "!export AWS_SHARED_CREDENTIALS_FILE=~/.aws/config\n",
    "path = '~/.aws/config'\n",
    "os.environ['AWS_SHARED_CREDENTIALS_FILE'] = path\n",
    "print(os.environ['AWS_SHARED_CREDENTIALS_FILE'])\n",
    "\n",
    "# # Google Colabs\n",
    "# !export AWS_SHARED_CREDENTIALS_FILE=/gdrive/My\\ Drive/config/awscli.ini\n",
    "# path = path\n",
    "# os.environ['AWS_SHARED_CREDENTIALS_FILE'] = path\n",
    "# print(os.environ['AWS_SHARED_CREDENTIALS_FILE'])"
   ]
  },
  {
   "cell_type": "markdown",
   "metadata": {},
   "source": [
    "Kepler observed parts of a 10 by 10 degree patch of sky near the constellation of Cygnus for four years (17, 3-month quarters) starting in 2009. The mission downloaded small sections of the sky at a 30-minute (long cadence) and a 1-minute (short cadence) in order to measure the variability of stars and find planets transiting these stars. These data are now available in the public s3://stpubdata/kepler/public S3 bucket on AWS.\n",
    "\n",
    "\n",
    "https://mast-labs.stsci.io/\n",
    "\n",
    "These data are available under the same terms as the public dataset for Hubble and TESS, that is, if you compute against the data from the AWS US-East region, then data access is free."
   ]
  },
  {
   "cell_type": "code",
   "execution_count": 9,
   "metadata": {},
   "outputs": [],
   "source": [
    "# s3://stpubdata/kepler/public\n",
    "\n",
    "region = 'us-east-1'\n",
    "s3 = boto3.resource('s3', region_name=region)\n",
    "bucket = s3.Bucket('stpubdata')\n",
    "location = {'LocationConstraint': region}"
   ]
  },
  {
   "cell_type": "markdown",
   "metadata": {},
   "source": [
    "Cloud data access is enabled using the `enable_cloud_dataset` function, which will cause AWS to become the prefered source for data access until it is disabled (`disable_cloud_dataset`).\n",
    "\n",
    "When cloud access is enabled, the standard download function `download_products` will preferentially pull files from AWS when they are available. There is also a cloud_only flag, which when set to True will cause all data products not available in the cloud to be skipped."
   ]
  },
  {
   "cell_type": "code",
   "execution_count": 50,
   "metadata": {},
   "outputs": [
    {
     "name": "stdout",
     "output_type": "stream",
     "text": [
      "INFO: Using the S3 STScI public dataset [astroquery.mast.cloud]\n",
      "INFO: See Request Pricing in https://aws.amazon.com/s3/pricing/ for details [astroquery.mast.cloud]\n",
      "INFO: If you have not configured boto3, follow the instructions here: https://boto3.readthedocs.io/en/latest/guide/configuration.html [astroquery.mast.cloud]\n"
     ]
    },
    {
     "name": "stderr",
     "output_type": "stream",
     "text": [
      "WARNING: Your AWS account will be charged for access to the S3 bucket [astroquery.mast.cloud]\n"
     ]
    }
   ],
   "source": [
    "Observations.enable_cloud_dataset(provider='AWS', profile='default')"
   ]
  },
  {
   "cell_type": "markdown",
   "metadata": {},
   "source": [
    "This script queries MAST for TESS FFI data for a single sector/camera/chip combination and downloads the data from the AWS public dataset rather than from MAST servers."
   ]
  },
  {
   "cell_type": "code",
   "execution_count": 24,
   "metadata": {},
   "outputs": [],
   "source": [
    "# Example query (not using here but helpful)\n",
    "#catalog_data = Catalogs.query_criteria(catalog=\"Tic\",Bmag=[30,50],objType=\"STAR\")\n",
    "#print(catalog_data)"
   ]
  },
  {
   "cell_type": "code",
   "execution_count": 25,
   "metadata": {},
   "outputs": [
    {
     "name": "stdout",
     "output_type": "stream",
     "text": [
      "['BEFS', 'EUVE', 'FUSE', 'GALEX', 'HLA', 'HLSP', 'HST', 'HUT', 'IUE', 'JWST', 'K2', 'K2FFI', 'Kepler', 'KeplerFFI', 'PS1', 'SPITZER_SHA', 'SWIFT', 'TESS', 'TUES', 'WUPPE']\n"
     ]
    }
   ],
   "source": [
    "print(Observations.list_missions())"
   ]
  },
  {
   "cell_type": "code",
   "execution_count": 74,
   "metadata": {},
   "outputs": [],
   "source": [
    "target = \"K2-1\"\n",
    "#Do a cone search and find the K2 long cadence data for target\n",
    "obs = Observations.query_object(target,radius=\"0s\")\n",
    "want = (obs['obs_collection'] == \"K2\") & (obs['t_exptime'] ==1800.0)"
   ]
  },
  {
   "cell_type": "code",
   "execution_count": 77,
   "metadata": {},
   "outputs": [],
   "source": [
    "#Pick which data you want to retrieve\n",
    "data_prod = Observations.get_product_list(obs[want])"
   ]
  },
  {
   "cell_type": "code",
   "execution_count": 78,
   "metadata": {},
   "outputs": [
    {
     "data": {
      "text/html": [
       "<i>Table masked=True length=3</i>\n",
       "<table id=\"table140354837871952\" class=\"table-striped table-bordered table-condensed\">\n",
       "<thead><tr><th>obsID</th><th>obs_collection</th><th>dataproduct_type</th><th>obs_id</th><th>description</th><th>type</th><th>dataURI</th><th>productType</th><th>productGroupDescription</th><th>productSubGroupDescription</th><th>productDocumentationURL</th><th>project</th><th>prvversion</th><th>proposal_id</th><th>productFilename</th><th>size</th><th>parent_obsid</th><th>dataRights</th></tr></thead>\n",
       "<thead><tr><th>str10</th><th>str2</th><th>str10</th><th>str20</th><th>str37</th><th>str1</th><th>str97</th><th>str7</th><th>str28</th><th>str8</th><th>str1</th><th>str2</th><th>str2</th><th>str63</th><th>str34</th><th>int64</th><th>str1</th><th>str6</th></tr></thead>\n",
       "<tr><td>9500379213</td><td>K2</td><td>timeseries</td><td>ktwo246375295-c12_lc</td><td>Preview-Full</td><td>S</td><td>mast:K2/url/missions/k2/previews/c12/246300000/75000/ktwo246375295-c12_llc_bw_large.png</td><td>PREVIEW</td><td>--</td><td>--</td><td>--</td><td>K2</td><td>39</td><td>GO12062_GO12071_GO12085_GO12099_GO12122_GO12124_GO12902_GO12903</td><td>ktwo246375295-c12_llc_bw_large.png</td><td>23279</td><td>0</td><td>PUBLIC</td></tr>\n",
       "<tr><td>9500379213</td><td>K2</td><td>timeseries</td><td>ktwo246375295-c12_lc</td><td>Lightcurve Long Cadence (KLC) - C12</td><td>S</td><td>mast:K2/url/missions/k2/lightcurves/c12/246300000/75000/ktwo246375295-c12_llc.fits</td><td>SCIENCE</td><td>Minimum Recommended Products</td><td>LLC</td><td>--</td><td>K2</td><td>39</td><td>GO12062_GO12071_GO12085_GO12099_GO12122_GO12124_GO12902_GO12903</td><td>ktwo246375295-c12_llc.fits</td><td>417600</td><td>0</td><td>PUBLIC</td></tr>\n",
       "<tr><td>9500379213</td><td>K2</td><td>timeseries</td><td>ktwo246375295-c12_lc</td><td>Target Pixel Long Cadence (KTL) - C12</td><td>S</td><td>mast:K2/url/missions/k2/target_pixel_files/c12/246300000/75000/ktwo246375295-c12_lpd-targ.fits.gz</td><td>SCIENCE</td><td>Minimum Recommended Products</td><td>LPD-TARG</td><td>--</td><td>K2</td><td>39</td><td>GO12062_GO12071_GO12085_GO12099_GO12122_GO12124_GO12902_GO12903</td><td>ktwo246375295-c12_lpd-targ.fits.gz</td><td>6905351</td><td>0</td><td>PUBLIC</td></tr>\n",
       "</table>"
      ],
      "text/plain": [
       "<Table masked=True length=3>\n",
       "  obsID    obs_collection dataproduct_type ...   size  parent_obsid dataRights\n",
       "  str10         str2           str10       ...  int64      str1        str6   \n",
       "---------- -------------- ---------------- ... ------- ------------ ----------\n",
       "9500379213             K2       timeseries ...   23279            0     PUBLIC\n",
       "9500379213             K2       timeseries ...  417600            0     PUBLIC\n",
       "9500379213             K2       timeseries ... 6905351            0     PUBLIC"
      ]
     },
     "execution_count": 78,
     "metadata": {},
     "output_type": "execute_result"
    }
   ],
   "source": [
    "data_prod"
   ]
  },
  {
   "cell_type": "code",
   "execution_count": 80,
   "metadata": {},
   "outputs": [
    {
     "data": {
      "text/html": [
       "<i>Table masked=True length=1</i>\n",
       "<table id=\"table140354841912400\" class=\"table-striped table-bordered table-condensed\">\n",
       "<thead><tr><th>obsID</th><th>obs_collection</th><th>dataproduct_type</th><th>obs_id</th><th>description</th><th>type</th><th>dataURI</th><th>productType</th><th>productGroupDescription</th><th>productSubGroupDescription</th><th>productDocumentationURL</th><th>project</th><th>prvversion</th><th>proposal_id</th><th>productFilename</th><th>size</th><th>parent_obsid</th><th>dataRights</th></tr></thead>\n",
       "<thead><tr><th>str10</th><th>str2</th><th>str10</th><th>str20</th><th>str37</th><th>str1</th><th>str97</th><th>str7</th><th>str28</th><th>str8</th><th>str1</th><th>str2</th><th>str2</th><th>str63</th><th>str34</th><th>int64</th><th>str1</th><th>str6</th></tr></thead>\n",
       "<tr><td>9500379213</td><td>K2</td><td>timeseries</td><td>ktwo246375295-c12_lc</td><td>Lightcurve Long Cadence (KLC) - C12</td><td>S</td><td>mast:K2/url/missions/k2/lightcurves/c12/246300000/75000/ktwo246375295-c12_llc.fits</td><td>SCIENCE</td><td>Minimum Recommended Products</td><td>LLC</td><td>--</td><td>K2</td><td>39</td><td>GO12062_GO12071_GO12085_GO12099_GO12122_GO12124_GO12902_GO12903</td><td>ktwo246375295-c12_llc.fits</td><td>417600</td><td>0</td><td>PUBLIC</td></tr>\n",
       "</table>"
      ],
      "text/plain": [
       "<Table masked=True length=1>\n",
       "  obsID    obs_collection dataproduct_type ...  size  parent_obsid dataRights\n",
       "  str10         str2           str10       ... int64      str1        str6   \n",
       "---------- -------------- ---------------- ... ------ ------------ ----------\n",
       "9500379213             K2       timeseries ... 417600            0     PUBLIC"
      ]
     },
     "execution_count": 80,
     "metadata": {},
     "output_type": "execute_result"
    }
   ],
   "source": [
    "filt_prod = Observations.filter_products(data_prod, productSubGroupDescription=\"LLC\")\n",
    "\n",
    "filt_prod"
   ]
  },
  {
   "cell_type": "code",
   "execution_count": 35,
   "metadata": {},
   "outputs": [
    {
     "data": {
      "text/plain": [
       "'/Users/hakkeray/Sites/CODE/DATASCIENCE/BOOTCAMP/PROJECTS/starskope/DATA/mast'"
      ]
     },
     "execution_count": 35,
     "metadata": {},
     "output_type": "execute_result"
    }
   ],
   "source": [
    "# create dir for MAST data\n",
    "DATA = os.path.abspath(home+'/DATA')\n",
    "#%mkdir './data/mast'\n",
    "MAST = os.path.abspath(DATA+'/mast')\n",
    "MAST"
   ]
  },
  {
   "cell_type": "code",
   "execution_count": 156,
   "metadata": {},
   "outputs": [],
   "source": [
    "# Targets with confirmed exoplanets for K2 mission  \n",
    "K2_confirmed_planets = ['K2-1','K2-21','K2-28','K2-39','K2-54','K2-55','K2-57','K2-58',\n",
    "                        'K2-59','K2-60','K2-61','K2-62','K2-63','K2-64','K2-65','K2-66', \n",
    "                        'K2-68','K2-70','K2-71','K2-72','K2-73','K2-74','K2-75','K2-76',\n",
    "                        'K2-116','K2-167','K2-168','K2-169','K2-170','K2-171','K2-172']"
   ]
  },
  {
   "cell_type": "code",
   "execution_count": 157,
   "metadata": {},
   "outputs": [
    {
     "data": {
      "text/plain": [
       "31"
      ]
     },
     "execution_count": 157,
     "metadata": {},
     "output_type": "execute_result"
    }
   ],
   "source": [
    "len(K2_confirmed_planets)"
   ]
  },
  {
   "cell_type": "markdown",
   "metadata": {},
   "source": [
    "# Download from AWS"
   ]
  },
  {
   "cell_type": "code",
   "execution_count": 10,
   "metadata": {},
   "outputs": [
    {
     "name": "stdout",
     "output_type": "stream",
     "text": [
      "/Users/hakkeray/Sites/CODE/DATASCIENCE/BOOTCAMP/PROJECTS/starskope/DATA/mast\n"
     ]
    }
   ],
   "source": [
    "%cd DATA/mast"
   ]
  },
  {
   "cell_type": "code",
   "execution_count": 33,
   "metadata": {},
   "outputs": [],
   "source": [
    "## from spacekit.radio import mast_aws\n",
    "## function for downloading data from MAST s3 bucket on AWS\n",
    "# def mast_aws(target_list):\n",
    "#     import boto3\n",
    "#     from astroquery.mast import Observations\n",
    "#     from astroquery.mast import Catalogs\n",
    "#     # configure aws settings\n",
    "#     region = 'us-east-1'\n",
    "#     s3 = boto3.resource('s3', region_name=region)\n",
    "#     bucket = s3.Bucket('stpubdata')\n",
    "#     location = {'LocationConstraint': region}\n",
    "#     Observations.enable_cloud_dataset(provider='AWS', profile='default')\n",
    "    \n",
    "#     for target in target_list:\n",
    "#     #Do a cone search and find the K2 long cadence data for target\n",
    "#         obs = Observations.query_object(target,radius=\"0s\")\n",
    "#         want = (obs['obs_collection'] == \"K2\") & (obs['t_exptime'] ==1800.0)\n",
    "#         data_prod = Observations.get_product_list(obs[want])\n",
    "#         filt_prod = Observations.filter_products(data_prod, productSubGroupDescription=\"LLC\")\n",
    "#         s3_uris = Observations.get_cloud_uris(filt_prod)\n",
    "#         for url in s3_uris:\n",
    "#         # Extract the S3 key from the S3 URL\n",
    "#             fits_s3_key = url.replace(\"s3://stpubdata/\", \"\")\n",
    "#             root = url.split('/')[-1]\n",
    "#             bucket.download_file(fits_s3_key, root, ExtraArgs={\"RequestPayer\": \"requester\"})\n",
    "#     Observations.disable_cloud_dataset()\n",
    "#     return print('Download Complete')"
   ]
  },
  {
   "cell_type": "code",
   "execution_count": 110,
   "metadata": {},
   "outputs": [
    {
     "name": "stdout",
     "output_type": "stream",
     "text": [
      "INFO: Using the S3 STScI public dataset [astroquery.mast.cloud]\n",
      "INFO: See Request Pricing in https://aws.amazon.com/s3/pricing/ for details [astroquery.mast.cloud]\n",
      "INFO: If you have not configured boto3, follow the instructions here: https://boto3.readthedocs.io/en/latest/guide/configuration.html [astroquery.mast.cloud]\n"
     ]
    },
    {
     "name": "stderr",
     "output_type": "stream",
     "text": [
      "WARNING: Your AWS account will be charged for access to the S3 bucket [astroquery.mast.cloud]\n"
     ]
    },
    {
     "name": "stdout",
     "output_type": "stream",
     "text": [
      "Download Complete\n"
     ]
    }
   ],
   "source": [
    "from spacekit import radio\n",
    "radio.mast_aws(K2_confirmed_planets)"
   ]
  },
  {
   "cell_type": "code",
   "execution_count": null,
   "metadata": {
    "scrolled": false
   },
   "outputs": [],
   "source": [
    "os.listdir(MAST)"
   ]
  },
  {
   "cell_type": "markdown",
   "metadata": {},
   "source": [
    "# Nasa Exoplanet Archive API"
   ]
  },
  {
   "cell_type": "code",
   "execution_count": null,
   "metadata": {},
   "outputs": [],
   "source": [
    "# https://exoplanetarchive.ipac.caltech.edu/cgi-bin/TblView/nph-tblView?app=ExoTbls&config=PS&constraint=default_flag=1"
   ]
  },
  {
   "cell_type": "code",
   "execution_count": 148,
   "metadata": {},
   "outputs": [
    {
     "data": {
      "text/plain": [
       "requests.models.Response"
      ]
     },
     "execution_count": 148,
     "metadata": {},
     "output_type": "execute_result"
    }
   ],
   "source": [
    "import requests\n",
    "\n",
    "# Getting response from request\n",
    "#resp = requests.get('https://exoplanetarchive.ipac.caltech.edu/cgi-bin/nstedAPI/nph-nstedAPI?table=exoplanets')\n",
    "resp = requests.get('https://exoplanetarchive.ipac.caltech.edu/cgi-bin/nstedAPI/nph-nstedAPI?table=exoplanets&select=pl_hostname,ra,dec&where=pl_hostname like K2&format=json')\n",
    "type(resp)"
   ]
  },
  {
   "cell_type": "code",
   "execution_count": 149,
   "metadata": {},
   "outputs": [
    {
     "data": {
      "text/plain": [
       "200"
      ]
     },
     "execution_count": 149,
     "metadata": {},
     "output_type": "execute_result"
    }
   ],
   "source": [
    "requests.codes.ok"
   ]
  },
  {
   "cell_type": "code",
   "execution_count": 150,
   "metadata": {},
   "outputs": [
    {
     "name": "stdout",
     "output_type": "stream",
     "text": [
      "Response Code: 200\n",
      "Is it OK? True\n"
     ]
    }
   ],
   "source": [
    "print('Response Code:', resp.status_code)\n",
    "print('Is it OK?', resp.status_code == requests.codes.ok)"
   ]
  },
  {
   "cell_type": "code",
   "execution_count": 151,
   "metadata": {},
   "outputs": [],
   "source": [
    "\n",
    "# Note we can only do this becasue r.text() is in JSON format\n",
    "#r=requests.get('https://exoplanetarchive.ipac.caltech.edu/cgi-bin/nstedAPI/nph-nstedAPI?table=exoplanets&select=pl_hostname,ra,dec&where=pl_facility%like%K2')\n",
    "\n",
    "r=requests.get(\"https://exoplanetarchive.ipac.caltech.edu/cgi-bin/nstedAPI/nph-nstedAPI?table=exoplanets&format=json&select=pl_hostname&where=pl_hostname like '%K2%'\")\n",
    "results = r.json()"
   ]
  },
  {
   "cell_type": "code",
   "execution_count": 152,
   "metadata": {},
   "outputs": [
    {
     "data": {
      "text/plain": [
       "{'pl_hostname': 'K2-3'}"
      ]
     },
     "execution_count": 152,
     "metadata": {},
     "output_type": "execute_result"
    }
   ],
   "source": [
    "# Don't show your IP\n",
    "results[0]"
   ]
  },
  {
   "cell_type": "code",
   "execution_count": 153,
   "metadata": {},
   "outputs": [
    {
     "name": "stdout",
     "output_type": "stream",
     "text": [
      "https://exoplanetarchive.ipac.caltech.edu/cgi-bin/nstedAPI/nph-nstedAPI?table=exoplanets&format=json&select=pl_hostname&where=pl_hostname%20like%20'%25K2%25'\n"
     ]
    },
    {
     "data": {
      "text/plain": [
       "{'pl_hostname': 'K2-3'}"
      ]
     },
     "metadata": {},
     "output_type": "display_data"
    }
   ],
   "source": [
    "print(r.url)\n",
    "display(results[0])"
   ]
  },
  {
   "cell_type": "code",
   "execution_count": 154,
   "metadata": {},
   "outputs": [],
   "source": [
    "targets_df = pd.DataFrame.from_dict(results)\n",
    "\n",
    "k2_confirmed_total = list(targets_df['pl_hostname'].unique())"
   ]
  },
  {
   "cell_type": "code",
   "execution_count": 158,
   "metadata": {},
   "outputs": [],
   "source": [
    "k2_targets = []\n",
    "\n",
    "for a in K2_confirmed_planets:\n",
    "    for b in k2_confirmed_total:\n",
    "        if a == b:\n",
    "            k2_targets.append(a)\n",
    "            k2_confirmed_total.remove(b)"
   ]
  },
  {
   "cell_type": "code",
   "execution_count": 159,
   "metadata": {},
   "outputs": [],
   "source": [
    "for b in k2_confirmed_total:\n",
    "    k2_targets.append(b)"
   ]
  },
  {
   "cell_type": "code",
   "execution_count": 160,
   "metadata": {},
   "outputs": [
    {
     "data": {
      "text/plain": [
       "266"
      ]
     },
     "execution_count": 160,
     "metadata": {},
     "output_type": "execute_result"
    }
   ],
   "source": [
    "len(k2_targets)"
   ]
  },
  {
   "cell_type": "code",
   "execution_count": 161,
   "metadata": {},
   "outputs": [],
   "source": [
    "k2_targets.remove('K2-288 B')"
   ]
  },
  {
   "cell_type": "code",
   "execution_count": 162,
   "metadata": {},
   "outputs": [],
   "source": [
    "k2_targets.append('K2-288')"
   ]
  },
  {
   "cell_type": "code",
   "execution_count": 267,
   "metadata": {},
   "outputs": [],
   "source": [
    "# Passing parameters\n",
    "\n",
    "# credentials = {'user_name': ru, 'password': 'password'}\n",
    "# r = requests.get('', params = credentials)"
   ]
  },
  {
   "cell_type": "markdown",
   "metadata": {},
   "source": [
    "# Download FITS files from MAST on AWS"
   ]
  },
  {
   "cell_type": "code",
   "execution_count": 286,
   "metadata": {},
   "outputs": [
    {
     "name": "stdout",
     "output_type": "stream",
     "text": [
      "INFO: Using the S3 STScI public dataset [astroquery.mast.cloud]\n",
      "INFO: See Request Pricing in https://aws.amazon.com/s3/pricing/ for details [astroquery.mast.cloud]\n",
      "INFO: If you have not configured boto3, follow the instructions here: https://boto3.readthedocs.io/en/latest/guide/configuration.html [astroquery.mast.cloud]\n"
     ]
    },
    {
     "name": "stderr",
     "output_type": "stream",
     "text": [
      "WARNING: Your AWS account will be charged for access to the S3 bucket [astroquery.mast.cloud]\n"
     ]
    },
    {
     "name": "stdout",
     "output_type": "stream",
     "text": [
      "Download Complete\n"
     ]
    }
   ],
   "source": [
    "# trying first 100\n",
    "radio.mast_aws(k2_targets[0:100])"
   ]
  },
  {
   "cell_type": "code",
   "execution_count": 163,
   "metadata": {},
   "outputs": [],
   "source": [
    "k2_targets.remove('K2-315')"
   ]
  },
  {
   "cell_type": "code",
   "execution_count": 289,
   "metadata": {},
   "outputs": [
    {
     "name": "stdout",
     "output_type": "stream",
     "text": [
      "INFO: Using the S3 STScI public dataset [astroquery.mast.cloud]\n",
      "INFO: See Request Pricing in https://aws.amazon.com/s3/pricing/ for details [astroquery.mast.cloud]\n",
      "INFO: If you have not configured boto3, follow the instructions here: https://boto3.readthedocs.io/en/latest/guide/configuration.html [astroquery.mast.cloud]\n"
     ]
    },
    {
     "name": "stderr",
     "output_type": "stream",
     "text": [
      "WARNING: Your AWS account will be charged for access to the S3 bucket [astroquery.mast.cloud]\n"
     ]
    },
    {
     "name": "stdout",
     "output_type": "stream",
     "text": [
      "Download Complete\n"
     ]
    }
   ],
   "source": [
    "# retrieve the remaining 166\n",
    "radio.mast_aws(k2_targets[100:])"
   ]
  },
  {
   "cell_type": "markdown",
   "metadata": {},
   "source": [
    "# Light Curves"
   ]
  },
  {
   "cell_type": "code",
   "execution_count": 164,
   "metadata": {},
   "outputs": [
    {
     "data": {
      "text/plain": [
       "348"
      ]
     },
     "execution_count": 164,
     "metadata": {},
     "output_type": "execute_result"
    }
   ],
   "source": [
    "len(os.listdir(MAST))"
   ]
  },
  {
   "cell_type": "code",
   "execution_count": 54,
   "metadata": {},
   "outputs": [
    {
     "data": {
      "text/plain": [
       "'ktwo246067459-c12_llc.fits'"
      ]
     },
     "execution_count": 54,
     "metadata": {},
     "output_type": "execute_result"
    }
   ],
   "source": [
    "os.listdir(MAST)[9]"
   ]
  },
  {
   "cell_type": "code",
   "execution_count": 310,
   "metadata": {},
   "outputs": [
    {
     "name": "stdout",
     "output_type": "stream",
     "text": [
      "Filename: ktwo246067459-c12_llc.fits\n",
      "No.    Name      Ver    Type      Cards   Dimensions   Format\n",
      "  0  PRIMARY       1 PrimaryHDU      54   ()      \n",
      "  1  LIGHTCURVE    1 BinTableHDU    155   3862R x 20C   [D, E, J, E, E, E, E, E, E, J, D, E, D, E, D, E, D, E, E, E]   \n",
      "  2  APERTURE      1 ImageHDU        48   (10, 9)   int32   \n"
     ]
    }
   ],
   "source": [
    "#fits_file = 'ktwo204890128-c02_llc.fits'\n",
    "fits_file = 'ktwo246067459-c12_llc.fits'\n",
    "\n",
    "# hdul = fits.open(fits_image_filename)\n",
    "# hdul.info()\n",
    "\n",
    "with fits.open(fits_file) as hdul:\n",
    "    hdul.info()"
   ]
  },
  {
   "cell_type": "code",
   "execution_count": 311,
   "metadata": {},
   "outputs": [
    {
     "data": {
      "text/plain": [
       "ColDefs(\n",
       "    name = 'TIME'; format = 'D'; unit = 'BJD - 2454833'; disp = 'D14.7'\n",
       "    name = 'TIMECORR'; format = 'E'; unit = 'd'; disp = 'E13.6'\n",
       "    name = 'CADENCENO'; format = 'J'; disp = 'I10'\n",
       "    name = 'SAP_FLUX'; format = 'E'; unit = 'e-/s'; disp = 'E14.7'\n",
       "    name = 'SAP_FLUX_ERR'; format = 'E'; unit = 'e-/s'; disp = 'E14.7'\n",
       "    name = 'SAP_BKG'; format = 'E'; unit = 'e-/s'; disp = 'E14.7'\n",
       "    name = 'SAP_BKG_ERR'; format = 'E'; unit = 'e-/s'; disp = 'E14.7'\n",
       "    name = 'PDCSAP_FLUX'; format = 'E'; unit = 'e-/s'; disp = 'E14.7'\n",
       "    name = 'PDCSAP_FLUX_ERR'; format = 'E'; unit = 'e-/s'; disp = 'E14.7'\n",
       "    name = 'SAP_QUALITY'; format = 'J'; disp = 'B16.16'\n",
       "    name = 'PSF_CENTR1'; format = 'D'; unit = 'pixel'; disp = 'F10.5'\n",
       "    name = 'PSF_CENTR1_ERR'; format = 'E'; unit = 'pixel'; disp = 'E14.7'\n",
       "    name = 'PSF_CENTR2'; format = 'D'; unit = 'pixel'; disp = 'F10.5'\n",
       "    name = 'PSF_CENTR2_ERR'; format = 'E'; unit = 'pixel'; disp = 'E14.7'\n",
       "    name = 'MOM_CENTR1'; format = 'D'; unit = 'pixel'; disp = 'F10.5'\n",
       "    name = 'MOM_CENTR1_ERR'; format = 'E'; unit = 'pixel'; disp = 'E14.7'\n",
       "    name = 'MOM_CENTR2'; format = 'D'; unit = 'pixel'; disp = 'F10.5'\n",
       "    name = 'MOM_CENTR2_ERR'; format = 'E'; unit = 'pixel'; disp = 'E14.7'\n",
       "    name = 'POS_CORR1'; format = 'E'; unit = 'pixels'; disp = 'E14.7'\n",
       "    name = 'POS_CORR2'; format = 'E'; unit = 'pixels'; disp = 'E14.7'\n",
       ")"
      ]
     },
     "execution_count": 311,
     "metadata": {},
     "output_type": "execute_result"
    }
   ],
   "source": [
    "hdul[1].columns"
   ]
  },
  {
   "cell_type": "code",
   "execution_count": 312,
   "metadata": {},
   "outputs": [],
   "source": [
    "from astropy.timeseries import TimeSeries\n",
    "ts = TimeSeries.read(fits_file, format='kepler.fits') "
   ]
  },
  {
   "cell_type": "code",
   "execution_count": 313,
   "metadata": {},
   "outputs": [
    {
     "data": {
      "text/html": [
       "<i>TimeSeries length=3599</i>\n",
       "<table id=\"table140685178265440\" class=\"table-striped table-bordered table-condensed\">\n",
       "<thead><tr><th>time</th><th>timecorr</th><th>cadenceno</th><th>sap_flux</th><th>sap_flux_err</th><th>sap_bkg</th><th>sap_bkg_err</th><th>pdcsap_flux</th><th>pdcsap_flux_err</th><th>sap_quality</th><th>psf_centr1</th><th>psf_centr1_err</th><th>psf_centr2</th><th>psf_centr2_err</th><th>mom_centr1</th><th>mom_centr1_err</th><th>mom_centr2</th><th>mom_centr2_err</th><th>pos_corr1</th><th>pos_corr2</th></tr></thead>\n",
       "<thead><tr><th></th><th>d</th><th></th><th>electron / s</th><th>electron / s</th><th>electron / s</th><th>electron / s</th><th>electron / s</th><th>electron / s</th><th></th><th>pix</th><th>pix</th><th>pix</th><th>pix</th><th>pix</th><th>pix</th><th>pix</th><th>pix</th><th>pix</th><th>pix</th></tr></thead>\n",
       "<thead><tr><th>object</th><th>float32</th><th>int32</th><th>float32</th><th>float32</th><th>float32</th><th>float32</th><th>float32</th><th>float32</th><th>int32</th><th>float64</th><th>float32</th><th>float64</th><th>float32</th><th>float64</th><th>float32</th><th>float64</th><th>float32</th><th>float32</th><th>float32</th></tr></thead>\n",
       "<tr><td>2016-12-15T21:02:47.381</td><td>5.039264e-03</td><td>136855</td><td>4.1193602e+04</td><td>6.0429826e+00</td><td>1.8712344e+03</td><td>8.9095551e-01</td><td>nan</td><td>nan</td><td>10000000000000000000</td><td>1044.73196</td><td>7.6680488e-05</td><td>247.88943</td><td>8.3006111e-05</td><td>1044.78822</td><td>2.0011830e-04</td><td>247.93401</td><td>1.6174708e-04</td><td>-1.2001304e-01</td><td>-1.7544615e-01</td></tr>\n",
       "<tr><td>2016-12-15T21:32:12.721</td><td>5.037833e-03</td><td>136856</td><td>4.1070230e+04</td><td>6.0351734e+00</td><td>1.8742091e+03</td><td>8.8381660e-01</td><td>4.2273715e+04</td><td>6.7905793e+00</td><td>0</td><td>1044.69823</td><td>7.5580479e-05</td><td>247.88943</td><td>8.2519917e-05</td><td>1044.74637</td><td>2.0143474e-04</td><td>247.93612</td><td>1.6180836e-04</td><td>-1.5872276e-01</td><td>-1.7225918e-01</td></tr>\n",
       "<tr><td>2016-12-15T22:01:38.060</td><td>5.036402e-03</td><td>136857</td><td>4.0906270e+04</td><td>6.0280766e+00</td><td>1.8710625e+03</td><td>8.8939810e-01</td><td>4.2278039e+04</td><td>6.7842360e+00</td><td>0</td><td>1044.66626</td><td>7.4959280e-05</td><td>247.88706</td><td>8.1610408e-05</td><td>1044.70640</td><td>2.0272918e-04</td><td>247.93580</td><td>1.6192219e-04</td><td>-1.9644962e-01</td><td>-1.7266949e-01</td></tr>\n",
       "<tr><td>2016-12-15T22:31:03.400</td><td>5.034972e-03</td><td>136858</td><td>4.0717684e+04</td><td>6.0173841e+00</td><td>1.8714913e+03</td><td>8.8563567e-01</td><td>4.2278801e+04</td><td>6.7740507e+00</td><td>0</td><td>1044.63530</td><td>7.4929434e-05</td><td>247.88493</td><td>8.1180755e-05</td><td>1044.66582</td><td>2.0419457e-04</td><td>247.93641</td><td>1.6213245e-04</td><td>-2.3700853e-01</td><td>-1.7370421e-01</td></tr>\n",
       "<tr><td>2016-12-15T23:00:28.739</td><td>5.033540e-03</td><td>136859</td><td>4.0530891e+04</td><td>6.0056615e+00</td><td>1.8699783e+03</td><td>8.8599199e-01</td><td>4.2287793e+04</td><td>6.7613697e+00</td><td>0</td><td>1044.60868</td><td>7.5598618e-05</td><td>247.88173</td><td>8.0864862e-05</td><td>1044.62977</td><td>2.0538218e-04</td><td>247.93548</td><td>1.6222682e-04</td><td>-2.7483684e-01</td><td>-1.7599967e-01</td></tr>\n",
       "<tr><td>2016-12-15T23:29:54.078</td><td>5.032107e-03</td><td>136860</td><td>4.0304152e+04</td><td>5.9918852e+00</td><td>1.8721565e+03</td><td>8.9183956e-01</td><td>4.2286965e+04</td><td>6.7461653e+00</td><td>0</td><td>1044.58076</td><td>7.6703815e-05</td><td>247.87932</td><td>8.0754609e-05</td><td>1044.59185</td><td>2.0689185e-04</td><td>247.93478</td><td>1.6235519e-04</td><td>-3.1450313e-01</td><td>-1.7729656e-01</td></tr>\n",
       "<tr><td>2016-12-15T23:59:19.417</td><td>5.030674e-03</td><td>136861</td><td>4.0010156e+04</td><td>5.9751115e+00</td><td>1.8724093e+03</td><td>8.8285273e-01</td><td>4.2295219e+04</td><td>6.7277236e+00</td><td>0</td><td>1044.54891</td><td>7.8935547e-05</td><td>247.87691</td><td>8.1059989e-05</td><td>1044.55061</td><td>2.0849673e-04</td><td>247.93444</td><td>1.6243455e-04</td><td>-3.6036032e-01</td><td>-1.7810458e-01</td></tr>\n",
       "<tr><td>2016-12-16T00:28:44.757</td><td>5.029241e-03</td><td>136862</td><td>3.9627641e+04</td><td>5.9541502e+00</td><td>1.8733802e+03</td><td>8.8760543e-01</td><td>4.2283094e+04</td><td>6.7036772e+00</td><td>0</td><td>1044.51006</td><td>8.5294800e-05</td><td>247.87450</td><td>8.1045924e-05</td><td>1044.50503</td><td>2.1058969e-04</td><td>247.93268</td><td>1.6254731e-04</td><td>-4.1248348e-01</td><td>-1.7951110e-01</td></tr>\n",
       "<tr><td>2016-12-16T00:58:10.096</td><td>5.027806e-03</td><td>136863</td><td>3.9297160e+04</td><td>5.9342833e+00</td><td>1.8695597e+03</td><td>8.9476323e-01</td><td>4.2298746e+04</td><td>6.6812053e+00</td><td>0</td><td>1044.47802</td><td>8.7257868e-05</td><td>247.87470</td><td>8.0338876e-05</td><td>1044.46874</td><td>2.1191925e-04</td><td>247.93355</td><td>1.6249633e-04</td><td>-4.5238695e-01</td><td>-1.8015733e-01</td></tr>\n",
       "<tr><td>...</td><td>...</td><td>...</td><td>...</td><td>...</td><td>...</td><td>...</td><td>...</td><td>...</td><td>...</td><td>...</td><td>...</td><td>...</td><td>...</td><td>...</td><td>...</td><td>...</td><td>...</td><td>...</td><td>...</td></tr>\n",
       "<tr><td>2017-03-04T13:54:56.155</td><td>-2.299411e-03</td><td>140707</td><td>4.1327039e+04</td><td>6.3228011e+00</td><td>6.1943755e+03</td><td>1.0192469e+00</td><td>4.2072453e+04</td><td>7.1368809e+00</td><td>0</td><td>1044.62017</td><td>7.9154939e-05</td><td>248.00828</td><td>1.0340003e-04</td><td>1044.66884</td><td>2.3676989e-04</td><td>248.01733</td><td>1.8100327e-04</td><td>-2.4516888e-01</td><td>-6.2465921e-02</td></tr>\n",
       "<tr><td>2017-03-04T14:24:21.475</td><td>-2.301166e-03</td><td>140708</td><td>4.1076043e+04</td><td>6.3076415e+00</td><td>6.2030005e+03</td><td>1.0152832e+00</td><td>4.2091223e+04</td><td>7.1200075e+00</td><td>0</td><td>1044.57470</td><td>8.0348334e-05</td><td>248.00426</td><td>1.0364551e-04</td><td>1044.61398</td><td>2.3924214e-04</td><td>248.01456</td><td>1.8106561e-04</td><td>-2.9970285e-01</td><td>-6.6795357e-02</td></tr>\n",
       "<tr><td>2017-03-04T14:53:46.778</td><td>-2.302920e-03</td><td>140709</td><td>4.0792160e+04</td><td>6.2949266e+00</td><td>6.2083848e+03</td><td>1.0226250e+00</td><td>4.2130727e+04</td><td>7.1058512e+00</td><td>0</td><td>1044.53166</td><td>8.2554332e-05</td><td>248.00320</td><td>1.0385817e-04</td><td>1044.56280</td><td>2.4149536e-04</td><td>248.01269</td><td>1.8102389e-04</td><td>-3.4988859e-01</td><td>-6.8996660e-02</td></tr>\n",
       "<tr><td>2017-03-04T15:23:12.098</td><td>-2.304675e-03</td><td>140710</td><td>4.0562824e+04</td><td>6.2795382e+00</td><td>6.2102607e+03</td><td>1.0207943e+00</td><td>4.2125883e+04</td><td>7.0881996e+00</td><td>0</td><td>1044.50116</td><td>8.5300067e-05</td><td>247.99876</td><td>1.0261613e-04</td><td>1044.52828</td><td>2.4319960e-04</td><td>248.00921</td><td>1.8101215e-04</td><td>-3.8430095e-01</td><td>-7.3335603e-02</td></tr>\n",
       "<tr><td>2017-03-04T15:52:37.410</td><td>-2.306429e-03</td><td>140711</td><td>4.0054184e+04</td><td>6.2550631e+00</td><td>6.2197041e+03</td><td>1.0188305e+00</td><td>4.2129746e+04</td><td>7.0602970e+00</td><td>0</td><td>1044.44116</td><td>8.8324654e-05</td><td>247.99708</td><td>1.0062585e-04</td><td>1044.45991</td><td>2.4660854e-04</td><td>248.00565</td><td>1.8105516e-04</td><td>-4.5459068e-01</td><td>-7.6170661e-02</td></tr>\n",
       "<tr><td>2017-03-04T16:22:02.721</td><td>-2.308182e-03</td><td>140712</td><td>3.9647863e+04</td><td>6.2340827e+00</td><td>6.2234658e+03</td><td>1.0208987e+00</td><td>4.2117914e+04</td><td>7.0351114e+00</td><td>0</td><td>1044.40039</td><td>9.1926115e-05</td><td>247.99993</td><td>1.0032655e-04</td><td>1044.41655</td><td>2.4893330e-04</td><td>248.00468</td><td>1.8102267e-04</td><td>-5.0047451e-01</td><td>-7.6406121e-02</td></tr>\n",
       "<tr><td>2017-03-04T16:51:28.033</td><td>-2.309935e-03</td><td>140713</td><td>3.9057035e+04</td><td>6.1987233e+00</td><td>6.2272920e+03</td><td>1.0191098e+00</td><td>4.2107957e+04</td><td>6.9933457e+00</td><td>0</td><td>1044.34332</td><td>9.7515236e-05</td><td>247.99816</td><td>9.8405333e-05</td><td>1044.35997</td><td>2.5209223e-04</td><td>248.00100</td><td>1.8102121e-04</td><td>-5.6134641e-01</td><td>-7.9684205e-02</td></tr>\n",
       "<tr><td>2017-03-04T17:20:53.336</td><td>-2.311688e-03</td><td>140714</td><td>3.8509004e+04</td><td>6.1716971e+00</td><td>6.2317559e+03</td><td>1.0198914e+00</td><td>4.2126242e+04</td><td>6.9604058e+00</td><td>0</td><td>1044.29464</td><td>1.0755614e-04</td><td>247.99510</td><td>9.8385965e-05</td><td>1044.31338</td><td>2.5485660e-04</td><td>247.99790</td><td>1.8100260e-04</td><td>-6.1245626e-01</td><td>-8.2511947e-02</td></tr>\n",
       "<tr><td>2017-03-04T17:50:18.647</td><td>-2.313440e-03</td><td>140715</td><td>3.7831910e+04</td><td>6.1341586e+00</td><td>6.2368359e+03</td><td>1.0223651e+00</td><td>4.2139074e+04</td><td>6.9169908e+00</td><td>0</td><td>1044.23731</td><td>1.1981227e-04</td><td>247.99578</td><td>9.8557393e-05</td><td>1044.26537</td><td>2.5796544e-04</td><td>247.99602</td><td>1.8103182e-04</td><td>-6.6729444e-01</td><td>-8.4261179e-02</td></tr>\n",
       "<tr><td>2017-03-04T18:19:43.968</td><td>-2.315192e-03</td><td>140716</td><td>3.6781031e+04</td><td>6.0781231e+00</td><td>6.2426479e+03</td><td>1.0226895e+00</td><td>4.2184676e+04</td><td>6.8496237e+00</td><td>10000000000000000000</td><td>1044.14781</td><td>1.2670984e-04</td><td>247.99870</td><td>9.8585522e-05</td><td>1044.20239</td><td>2.6226469e-04</td><td>247.99328</td><td>1.8115948e-04</td><td>-7.3946899e-01</td><td>-8.6407945e-02</td></tr>\n",
       "</table>"
      ],
      "text/plain": [
       "<TimeSeries length=3599>\n",
       "          time             timecorr   ...   pos_corr1      pos_corr2   \n",
       "                              d       ...      pix            pix      \n",
       "         object            float32    ...    float32        float32    \n",
       "----------------------- ------------- ... -------------- --------------\n",
       "2016-12-15T21:02:47.381  5.039264e-03 ... -1.2001304e-01 -1.7544615e-01\n",
       "2016-12-15T21:32:12.721  5.037833e-03 ... -1.5872276e-01 -1.7225918e-01\n",
       "2016-12-15T22:01:38.060  5.036402e-03 ... -1.9644962e-01 -1.7266949e-01\n",
       "2016-12-15T22:31:03.400  5.034972e-03 ... -2.3700853e-01 -1.7370421e-01\n",
       "2016-12-15T23:00:28.739  5.033540e-03 ... -2.7483684e-01 -1.7599967e-01\n",
       "2016-12-15T23:29:54.078  5.032107e-03 ... -3.1450313e-01 -1.7729656e-01\n",
       "2016-12-15T23:59:19.417  5.030674e-03 ... -3.6036032e-01 -1.7810458e-01\n",
       "2016-12-16T00:28:44.757  5.029241e-03 ... -4.1248348e-01 -1.7951110e-01\n",
       "2016-12-16T00:58:10.096  5.027806e-03 ... -4.5238695e-01 -1.8015733e-01\n",
       "                    ...           ... ...            ...            ...\n",
       "2017-03-04T13:54:56.155 -2.299411e-03 ... -2.4516888e-01 -6.2465921e-02\n",
       "2017-03-04T14:24:21.475 -2.301166e-03 ... -2.9970285e-01 -6.6795357e-02\n",
       "2017-03-04T14:53:46.778 -2.302920e-03 ... -3.4988859e-01 -6.8996660e-02\n",
       "2017-03-04T15:23:12.098 -2.304675e-03 ... -3.8430095e-01 -7.3335603e-02\n",
       "2017-03-04T15:52:37.410 -2.306429e-03 ... -4.5459068e-01 -7.6170661e-02\n",
       "2017-03-04T16:22:02.721 -2.308182e-03 ... -5.0047451e-01 -7.6406121e-02\n",
       "2017-03-04T16:51:28.033 -2.309935e-03 ... -5.6134641e-01 -7.9684205e-02\n",
       "2017-03-04T17:20:53.336 -2.311688e-03 ... -6.1245626e-01 -8.2511947e-02\n",
       "2017-03-04T17:50:18.647 -2.313440e-03 ... -6.6729444e-01 -8.4261179e-02\n",
       "2017-03-04T18:19:43.968 -2.315192e-03 ... -7.3946899e-01 -8.6407945e-02"
      ]
     },
     "execution_count": 313,
     "metadata": {},
     "output_type": "execute_result"
    }
   ],
   "source": [
    "ts"
   ]
  },
  {
   "cell_type": "code",
   "execution_count": 314,
   "metadata": {},
   "outputs": [
    {
     "data": {
      "text/html": [
       "<i>TimeSeries length=3599</i>\n",
       "<table id=\"table140685178234024\" class=\"table-striped table-bordered table-condensed\">\n",
       "<thead><tr><th>time</th><th>sap_flux</th><th>sap_flux_err</th></tr></thead>\n",
       "<thead><tr><th></th><th>electron / s</th><th>electron / s</th></tr></thead>\n",
       "<thead><tr><th>object</th><th>float32</th><th>float32</th></tr></thead>\n",
       "<tr><td>2016-12-15T21:02:47.381</td><td>4.1193602e+04</td><td>6.0429826e+00</td></tr>\n",
       "<tr><td>2016-12-15T21:32:12.721</td><td>4.1070230e+04</td><td>6.0351734e+00</td></tr>\n",
       "<tr><td>2016-12-15T22:01:38.060</td><td>4.0906270e+04</td><td>6.0280766e+00</td></tr>\n",
       "<tr><td>2016-12-15T22:31:03.400</td><td>4.0717684e+04</td><td>6.0173841e+00</td></tr>\n",
       "<tr><td>2016-12-15T23:00:28.739</td><td>4.0530891e+04</td><td>6.0056615e+00</td></tr>\n",
       "<tr><td>2016-12-15T23:29:54.078</td><td>4.0304152e+04</td><td>5.9918852e+00</td></tr>\n",
       "<tr><td>2016-12-15T23:59:19.417</td><td>4.0010156e+04</td><td>5.9751115e+00</td></tr>\n",
       "<tr><td>2016-12-16T00:28:44.757</td><td>3.9627641e+04</td><td>5.9541502e+00</td></tr>\n",
       "<tr><td>2016-12-16T00:58:10.096</td><td>3.9297160e+04</td><td>5.9342833e+00</td></tr>\n",
       "<tr><td>...</td><td>...</td><td>...</td></tr>\n",
       "<tr><td>2017-03-04T13:54:56.155</td><td>4.1327039e+04</td><td>6.3228011e+00</td></tr>\n",
       "<tr><td>2017-03-04T14:24:21.475</td><td>4.1076043e+04</td><td>6.3076415e+00</td></tr>\n",
       "<tr><td>2017-03-04T14:53:46.778</td><td>4.0792160e+04</td><td>6.2949266e+00</td></tr>\n",
       "<tr><td>2017-03-04T15:23:12.098</td><td>4.0562824e+04</td><td>6.2795382e+00</td></tr>\n",
       "<tr><td>2017-03-04T15:52:37.410</td><td>4.0054184e+04</td><td>6.2550631e+00</td></tr>\n",
       "<tr><td>2017-03-04T16:22:02.721</td><td>3.9647863e+04</td><td>6.2340827e+00</td></tr>\n",
       "<tr><td>2017-03-04T16:51:28.033</td><td>3.9057035e+04</td><td>6.1987233e+00</td></tr>\n",
       "<tr><td>2017-03-04T17:20:53.336</td><td>3.8509004e+04</td><td>6.1716971e+00</td></tr>\n",
       "<tr><td>2017-03-04T17:50:18.647</td><td>3.7831910e+04</td><td>6.1341586e+00</td></tr>\n",
       "<tr><td>2017-03-04T18:19:43.968</td><td>3.6781031e+04</td><td>6.0781231e+00</td></tr>\n",
       "</table>"
      ],
      "text/plain": [
       "<TimeSeries length=3599>\n",
       "          time             sap_flux     sap_flux_err \n",
       "                         electron / s   electron / s \n",
       "         object            float32        float32    \n",
       "----------------------- -------------- --------------\n",
       "2016-12-15T21:02:47.381  4.1193602e+04  6.0429826e+00\n",
       "2016-12-15T21:32:12.721  4.1070230e+04  6.0351734e+00\n",
       "2016-12-15T22:01:38.060  4.0906270e+04  6.0280766e+00\n",
       "2016-12-15T22:31:03.400  4.0717684e+04  6.0173841e+00\n",
       "2016-12-15T23:00:28.739  4.0530891e+04  6.0056615e+00\n",
       "2016-12-15T23:29:54.078  4.0304152e+04  5.9918852e+00\n",
       "2016-12-15T23:59:19.417  4.0010156e+04  5.9751115e+00\n",
       "2016-12-16T00:28:44.757  3.9627641e+04  5.9541502e+00\n",
       "2016-12-16T00:58:10.096  3.9297160e+04  5.9342833e+00\n",
       "                    ...            ...            ...\n",
       "2017-03-04T13:54:56.155  4.1327039e+04  6.3228011e+00\n",
       "2017-03-04T14:24:21.475  4.1076043e+04  6.3076415e+00\n",
       "2017-03-04T14:53:46.778  4.0792160e+04  6.2949266e+00\n",
       "2017-03-04T15:23:12.098  4.0562824e+04  6.2795382e+00\n",
       "2017-03-04T15:52:37.410  4.0054184e+04  6.2550631e+00\n",
       "2017-03-04T16:22:02.721  3.9647863e+04  6.2340827e+00\n",
       "2017-03-04T16:51:28.033  3.9057035e+04  6.1987233e+00\n",
       "2017-03-04T17:20:53.336  3.8509004e+04  6.1716971e+00\n",
       "2017-03-04T17:50:18.647  3.7831910e+04  6.1341586e+00\n",
       "2017-03-04T18:19:43.968  3.6781031e+04  6.0781231e+00"
      ]
     },
     "execution_count": 314,
     "metadata": {},
     "output_type": "execute_result"
    }
   ],
   "source": [
    "ts['time', 'sap_flux', 'sap_flux_err']"
   ]
  },
  {
   "cell_type": "code",
   "execution_count": 351,
   "metadata": {},
   "outputs": [
    {
     "data": {
      "text/plain": [
       "Text(0, 0.5, 'SAP Flux (e-/s)')"
      ]
     },
     "execution_count": 351,
     "metadata": {},
     "output_type": "execute_result"
    },
    {
     "data": {
      "image/png": "[encoded data removed]",
      "text/plain": [
       "<Figure size 1080x648 with 1 Axes>"
      ]
     },
     "metadata": {},
     "output_type": "display_data"
    }
   ],
   "source": [
    "fig = plt.figure(figsize=(15,9))\n",
    "plt.plot(ts.time.jd, ts['sap_flux'], 'k.', markersize=1)\n",
    "plt.xlabel('Julian Date')\n",
    "plt.ylabel('SAP Flux (e-/s)')"
   ]
  },
  {
   "cell_type": "markdown",
   "metadata": {},
   "source": [
    "## Box Least Squares"
   ]
  },
  {
   "cell_type": "code",
   "execution_count": 340,
   "metadata": {},
   "outputs": [],
   "source": [
    "# use box least squares to estimate period\n",
    "from astropy import units as u\n",
    "from astropy.timeseries import BoxLeastSquares\n",
    "periodogram = BoxLeastSquares.from_timeseries(ts, 'sap_flux','sap_flux_err')"
   ]
  },
  {
   "cell_type": "code",
   "execution_count": 358,
   "metadata": {},
   "outputs": [],
   "source": [
    "results = periodogram.autopower(0.2 * u.day)  \n",
    "best = np.argmax(results.power)  \n",
    "period = results.period[best] \n",
    "duration = results.duration[best]\n",
    "transit_time = results.transit_time[best]  "
   ]
  },
  {
   "cell_type": "code",
   "execution_count": 360,
   "metadata": {},
   "outputs": [
    {
     "name": "stdout",
     "output_type": "stream",
     "text": [
      "period: 26.369 d\n",
      "duration: 0.2 d\n",
      "transit: 2017-01-10T05:12:23.381\n"
     ]
    }
   ],
   "source": [
    "# peak statistics\n",
    "print(f'period: {np.round(period, 3)}')\n",
    "print(f'duration: {duration}')\n",
    "print(f'transit: {transit_time}')"
   ]
  },
  {
   "cell_type": "code",
   "execution_count": 368,
   "metadata": {},
   "outputs": [
    {
     "name": "stdout",
     "output_type": "stream",
     "text": [
      "transit time (JD): 2457764.0\n",
      "transit time (MJD): 57763.0\n"
     ]
    }
   ],
   "source": [
    "print(f'transit time (JD): {np.round(transit_time.jd)}')\n",
    "print(f'transit time (MJD): {np.round(transit_time.mjd)}')"
   ]
  },
  {
   "cell_type": "code",
   "execution_count": 342,
   "metadata": {},
   "outputs": [],
   "source": [
    "# fold the time series using the period \n",
    "ts_folded = ts.fold(period=period, epoch_time=transit_time)"
   ]
  },
  {
   "cell_type": "code",
   "execution_count": 355,
   "metadata": {},
   "outputs": [
    {
     "data": {
      "text/plain": [
       "Text(0, 0.5, 'SAP Flux (e-/s)')"
      ]
     },
     "execution_count": 355,
     "metadata": {},
     "output_type": "execute_result"
    },
    {
     "data": {
      "image/png": "[encoded data removed]",
      "text/plain": [
       "<Figure size 1080x648 with 1 Axes>"
      ]
     },
     "metadata": {},
     "output_type": "display_data"
    }
   ],
   "source": [
    "fig = plt.figure(figsize=(15,9))\n",
    "plt.plot(ts_folded.time.jd, ts_folded['sap_flux'], 'k.', markersize=1)\n",
    "plt.xlabel('Time (days)')\n",
    "plt.ylabel('SAP Flux (e-/s)')"
   ]
  },
  {
   "cell_type": "code",
   "execution_count": 344,
   "metadata": {},
   "outputs": [],
   "source": [
    "#normalize the flux by sigma-clipping the data to determine the baseline flux:\n",
    "from astropy.stats import sigma_clipped_stats\n",
    "mean, median, stddev = sigma_clipped_stats(ts_folded['sap_flux'])  \n",
    "ts_folded['sap_flux_norm'] = ts_folded['sap_flux'] / median  "
   ]
  },
  {
   "cell_type": "code",
   "execution_count": 348,
   "metadata": {},
   "outputs": [
    {
     "data": {
      "text/html": [
       "<i>BinnedTimeSeries length=879</i>\n",
       "<table id=\"table140685222248288\" class=\"table-striped table-bordered table-condensed\">\n",
       "<thead><tr><th>time_bin_start</th><th>time_bin_size</th><th>timecorr</th><th>cadenceno</th><th>sap_flux</th><th>sap_flux_err</th><th>sap_bkg</th><th>sap_bkg_err</th><th>pdcsap_flux</th><th>pdcsap_flux_err</th><th>sap_quality</th><th>psf_centr1</th><th>psf_centr1_err</th><th>psf_centr2</th><th>psf_centr2_err</th><th>mom_centr1</th><th>mom_centr1_err</th><th>mom_centr2</th><th>mom_centr2_err</th><th>pos_corr1</th><th>pos_corr2</th><th>sap_flux_norm</th></tr></thead>\n",
       "<thead><tr><th></th><th>s</th><th>d</th><th></th><th>electron / s</th><th>electron / s</th><th>electron / s</th><th>electron / s</th><th>electron / s</th><th>electron / s</th><th></th><th>pix</th><th>pix</th><th>pix</th><th>pix</th><th>pix</th><th>pix</th><th>pix</th><th>pix</th><th>pix</th><th>pix</th><th></th></tr></thead>\n",
       "<thead><tr><th>object</th><th>float64</th><th>float64</th><th>int32</th><th>float64</th><th>float64</th><th>float64</th><th>float64</th><th>float64</th><th>float64</th><th>int32</th><th>float64</th><th>float64</th><th>float64</th><th>float64</th><th>float64</th><th>float64</th><th>float64</th><th>float64</th><th>float64</th><th>float64</th><th>float64</th></tr></thead>\n",
       "<tr><td>-13.182945734038952</td><td>2592.0</td><td>0.002083027269691229</td><td>138483</td><td>39648.28125</td><td>6.0029096603393555</td><td>2582.746826171875</td><td>0.9249579310417175</td><td>42239.4609375</td><td>6.781055450439453</td><td>0</td><td>1044.9573798371832</td><td>0.00011445923883002251</td><td>248.0066736691443</td><td>0.00010837536683538929</td><td>1045.022602284436</td><td>0.0002027258015004918</td><td>248.06853140441325</td><td>0.00016791294910944998</td><td>0.10538811981678009</td><td>-0.036543186753988266</td><td>1.0139738321304321</td></tr>\n",
       "<tr><td>-13.152945734038951</td><td>2592.0</td><td>0.0009114515269175172</td><td>139065</td><td>39874.0859375</td><td>6.048355579376221</td><td>3115.8134765625</td><td>0.9338053464889526</td><td>42243.9765625</td><td>6.8323974609375</td><td>0</td><td>1044.8039896906093</td><td>0.00010718305566115305</td><td>248.01351289892602</td><td>0.0001083247916540131</td><td>1044.848343088651</td><td>0.00021164221107028425</td><td>248.05521017404016</td><td>0.00016862085612956434</td><td>-0.06985704600811005</td><td>-0.03774813935160637</td><td>1.019748568534851</td></tr>\n",
       "<tr><td>-13.122945734038952</td><td>2592.0</td><td>0.002192180836573243</td><td>138421</td><td>39243.078125</td><td>5.981439113616943</td><td>2605.654296875</td><td>0.9219498038291931</td><td>42226.234375</td><td>6.756183624267578</td><td>0</td><td>1044.9597342341162</td><td>0.00012452826194930822</td><td>247.99064456810828</td><td>0.00010565651609795168</td><td>1044.998864851764</td><td>0.0002047823218163103</td><td>248.06131291398563</td><td>0.00016815451090224087</td><td>0.07889458537101746</td><td>-0.04576445370912552</td><td>1.0036109685897827</td></tr>\n",
       "<tr><td>-13.092945734038953</td><td>2592.0</td><td>0.0010480750352144241</td><td>139003</td><td>39350.41015625</td><td>6.011212348937988</td><td>2993.91943359375</td><td>0.9293522834777832</td><td>42207.3671875</td><td>6.789126396179199</td><td>1638</td><td>1044.8982882588716</td><td>0.00010835511784534901</td><td>248.02267749122538</td><td>0.00011015140626113862</td><td>1044.9082763215395</td><td>0.00021103261678945273</td><td>248.06423800507918</td><td>0.00016829829837661237</td><td>-0.0145012978464365</td><td>-0.028158515691757202</td><td>1.0063560009002686</td></tr>\n",
       "<tr><td>-13.062945734038951</td><td>2592.0</td><td>0.0021865717135369778</td><td>138424</td><td>38753.0703125</td><td>5.95341682434082</td><td>2607.14013671875</td><td>0.9202851057052612</td><td>42178.65234375</td><td>6.72316837310791</td><td>0</td><td>1045.0361173417505</td><td>0.00011851788440253586</td><td>247.99007146655134</td><td>0.00010116333578480408</td><td>1045.014389360215</td><td>0.00020612349908333272</td><td>248.06265385441375</td><td>0.00016820487508084625</td><td>0.09226907789707184</td><td>-0.043488435447216034</td><td>0.9910793900489807</td></tr>\n",
       "<tr><td>-13.032945734038952</td><td>2592.0</td><td>0.0015650518471375108</td><td>138748</td><td>38958.1875</td><td>5.972781658172607</td><td>2742.19970703125</td><td>0.9234282970428467</td><td>42195.046875</td><td>6.74304723739624</td><td>262144</td><td>1044.731736228873</td><td>9.655258327256888e-05</td><td>248.01254218245427</td><td>0.00010460737394168973</td><td>1044.7547081643988</td><td>0.00021202876814641058</td><td>248.0660484797674</td><td>0.0001677635736996308</td><td>-0.16431015729904175</td><td>-0.03446338698267937</td><td>0.9963251352310181</td></tr>\n",
       "<tr><td>-13.002945734038951</td><td>2592.0</td><td>0.0015349190216511488</td><td>138750</td><td>38493.79296875</td><td>5.956935882568359</td><td>2890.15673828125</td><td>0.9268566370010376</td><td>42196.6640625</td><td>6.7265119552612305</td><td>0</td><td>1044.7447195999398</td><td>0.00011275357974227518</td><td>247.99444620370815</td><td>0.00010075738828163594</td><td>1044.7444236483757</td><td>0.0002148987987311557</td><td>248.05162364586985</td><td>0.00016831481480039656</td><td>-0.17808911204338074</td><td>-0.048737071454524994</td><td>0.9844486117362976</td></tr>\n",
       "<tr><td>-12.972945734038952</td><td>2592.0</td><td>0.0015591790433973074</td><td>138751</td><td>38908.1875</td><td>5.969510078430176</td><td>2743.88916015625</td><td>0.921554446220398</td><td>42167.1015625</td><td>6.741229057312012</td><td>0</td><td>1044.7530751758609</td><td>0.00010057082545245066</td><td>248.02078438867287</td><td>0.00010669966286513954</td><td>1044.7786070476632</td><td>0.00021116450079716742</td><td>248.06747881569157</td><td>0.00016776412667240947</td><td>-0.13789668679237366</td><td>-0.031121140345931053</td><td>0.9950464367866516</td></tr>\n",
       "<tr><td>-12.942945734038952</td><td>2592.0000000000023</td><td>0.0015292441239580512</td><td>138753</td><td>37982.26953125</td><td>5.927426338195801</td><td>2892.901123046875</td><td>0.9262859225273132</td><td>42197.94921875</td><td>6.692198276519775</td><td>0</td><td>1044.7299114516172</td><td>0.00011561246355995536</td><td>247.9993432407361</td><td>0.00010121697414433584</td><td>1044.7421570801582</td><td>0.0002161487063858658</td><td>248.0513875243715</td><td>0.00016837575822137296</td><td>-0.1854235678911209</td><td>-0.04885204881429672</td><td>0.9713667631149292</td></tr>\n",
       "<tr><td>...</td><td>...</td><td>...</td><td>...</td><td>...</td><td>...</td><td>...</td><td>...</td><td>...</td><td>...</td><td>...</td><td>...</td><td>...</td><td>...</td><td>...</td><td>...</td><td>...</td><td>...</td><td>...</td><td>...</td><td>...</td><td>...</td></tr>\n",
       "<tr><td>12.887054265961048</td><td>2592.0</td><td>0.0010853272397071123</td><td>138984</td><td>40357.96875</td><td>6.06608247756958</td><td>2975.5078125</td><td>0.9329269528388977</td><td>42277.66015625</td><td>6.851858615875244</td><td>0</td><td>1044.9422817864295</td><td>0.00010140106314793229</td><td>248.02486972373822</td><td>0.00010883786308113486</td><td>1044.992896850828</td><td>0.00020537184900604188</td><td>248.06653439632584</td><td>0.0001678091794019565</td><td>0.07336099445819855</td><td>-0.02601729705929756</td><td>1.0321234464645386</td></tr>\n",
       "<tr><td>12.917054265961049</td><td>2592.0</td><td>0.0022220707032829523</td><td>138405</td><td>39541.88671875</td><td>5.99845027923584</td><td>2595.346923828125</td><td>0.9247168302536011</td><td>42212.1875</td><td>6.775230407714844</td><td>0</td><td>1044.9568581041813</td><td>9.865835454547778e-05</td><td>247.9918221095327</td><td>0.00010549036232987419</td><td>1045.0143680806862</td><td>0.000203342002350837</td><td>248.0607910770005</td><td>0.00016808457439765334</td><td>0.0979604423046112</td><td>-0.04674003645777702</td><td>1.0112526416778564</td></tr>\n",
       "<tr><td>12.947054265961048</td><td>2592.0</td><td>0.0016022261697798967</td><td>138729</td><td>39587.39453125</td><td>6.006967067718506</td><td>2728.4873046875</td><td>0.9277570843696594</td><td>42160.42578125</td><td>6.7838592529296875</td><td>0</td><td>1045.0577016375946</td><td>9.612928261049092e-05</td><td>248.0234123247876</td><td>0.0001117450010497123</td><td>1045.0788484476966</td><td>0.00020410868455655873</td><td>248.0743977645196</td><td>0.00016806124767754227</td><td>0.16136905550956726</td><td>-0.023416370153427124</td><td>1.0124166011810303</td></tr>\n",
       "<tr><td>12.977054265961048</td><td>2592.0</td><td>0.0015708410646766424</td><td>138731</td><td>39178.6796875</td><td>5.978338718414307</td><td>2596.604736328125</td><td>0.9229534268379211</td><td>42172.984375</td><td>6.751558303833008</td><td>216275</td><td>1044.9612546538103</td><td>9.651567961554974e-05</td><td>247.99355453477352</td><td>0.00010716823453549296</td><td>1045.0131110310717</td><td>0.00020473584299907088</td><td>248.06147394094424</td><td>0.0001682261354289949</td><td>0.0979902595281601</td><td>-0.04649323225021362</td><td>1.0019640922546387</td></tr>\n",
       "<tr><td>13.007054265961049</td><td>2592.0</td><td>0.0015963588375598192</td><td>138732</td><td>39451.8828125</td><td>6.000276565551758</td><td>2732.771240234375</td><td>0.9297230243682861</td><td>42126.96484375</td><td>6.771852016448975</td><td>0</td><td>1045.173945155743</td><td>8.984503074316308e-05</td><td>248.03412490319346</td><td>0.00011422211537137628</td><td>1045.2071521948671</td><td>0.00020206683257129043</td><td>248.078894733346</td><td>0.00016820512246340513</td><td>0.28731590509414673</td><td>-0.018219901248812675</td><td>1.00895094871521</td></tr>\n",
       "<tr><td>13.037054265961048</td><td>2592.0</td><td>0.001565171405673027</td><td>138734</td><td>39800.40234375</td><td>6.029865264892578</td><td>2875.3193359375</td><td>0.9310364723205566</td><td>42157.85546875</td><td>6.806863307952881</td><td>0</td><td>1045.005817007931</td><td>8.954942313721403e-05</td><td>248.00919916442868</td><td>0.00010698593541746959</td><td>1045.074369357964</td><td>0.00020449349540285766</td><td>248.061385223301</td><td>0.0001685508614173159</td><td>0.15345092117786407</td><td>-0.038921188563108444</td><td>1.0178639888763428</td></tr>\n",
       "<tr><td>13.067054265961048</td><td>2592.0000000000023</td><td>0.001590490574017167</td><td>138735</td><td>39451.6875</td><td>5.999589920043945</td><td>2732.060791015625</td><td>0.9291464686393738</td><td>42162.40234375</td><td>6.771610736846924</td><td>262144</td><td>1045.0293395674578</td><td>8.679655729793012e-05</td><td>248.0300582708609</td><td>0.00011123633885290474</td><td>1045.0977486583292</td><td>0.00020397911430336535</td><td>248.07551277942818</td><td>0.00016800531011540443</td><td>0.1795865148305893</td><td>-0.02310125343501568</td><td>1.0089459419250488</td></tr>\n",
       "<tr><td>13.097054265961049</td><td>2591.9999999999977</td><td>0.0015595009317621589</td><td>138737</td><td>40082.6484375</td><td>6.045241832733154</td><td>2879.09912109375</td><td>0.9237077832221985</td><td>42209.76171875</td><td>6.827837944030762</td><td>0</td><td>1044.8519120602655</td><td>9.015690011437982e-05</td><td>248.00421800203293</td><td>0.00010395523713668808</td><td>1044.9324593807576</td><td>0.0002059194230241701</td><td>248.05819382226431</td><td>0.0001683106820564717</td><td>0.014699315652251244</td><td>-0.04253881052136421</td><td>1.0250823497772217</td></tr>\n",
       "<tr><td>13.127054265961048</td><td>2592.0000000000023</td><td>0.001584621611982584</td><td>138738</td><td>40062.97265625</td><td>6.034554481506348</td><td>2736.50439453125</td><td>0.9243830442428589</td><td>42199.7734375</td><td>6.816899299621582</td><td>0</td><td>1044.865522602178</td><td>9.313209739048034e-05</td><td>248.0269750259728</td><td>0.00011005507258232683</td><td>1044.9438667741456</td><td>0.0002043119166046381</td><td>248.0722668058915</td><td>0.00016780300938989967</td><td>0.029847435653209686</td><td>-0.026283500716090202</td><td>1.0245790481567383</td></tr>\n",
       "<tr><td>13.157054265961047</td><td>2591.9999999999977</td><td>0.0009172544814646244</td><td>139062</td><td>40240.203125</td><td>6.0693840980529785</td><td>3111.212646484375</td><td>0.9363414645195007</td><td>42229.67578125</td><td>6.856246471405029</td><td>0</td><td>1044.8078840337544</td><td>9.672273881733418e-05</td><td>248.01724333143537</td><td>0.0001075291947927326</td><td>1044.8717585571371</td><td>0.00020972402126062661</td><td>248.05732258440872</td><td>0.00016851906548254192</td><td>-0.04554335027933121</td><td>-0.03569881618022919</td><td>1.029111623764038</td></tr>\n",
       "</table>"
      ],
      "text/plain": [
       "<BinnedTimeSeries length=879>\n",
       "   time_bin_start     time_bin_size    ...   sap_flux_norm   \n",
       "                            s          ...                   \n",
       "       object            float64       ...      float64      \n",
       "------------------- ------------------ ... ------------------\n",
       "-13.182945734038952             2592.0 ... 1.0139738321304321\n",
       "-13.152945734038951             2592.0 ...  1.019748568534851\n",
       "-13.122945734038952             2592.0 ... 1.0036109685897827\n",
       "-13.092945734038953             2592.0 ... 1.0063560009002686\n",
       "-13.062945734038951             2592.0 ... 0.9910793900489807\n",
       "-13.032945734038952             2592.0 ... 0.9963251352310181\n",
       "-13.002945734038951             2592.0 ... 0.9844486117362976\n",
       "-12.972945734038952             2592.0 ... 0.9950464367866516\n",
       "-12.942945734038952 2592.0000000000023 ... 0.9713667631149292\n",
       "                ...                ... ...                ...\n",
       " 12.887054265961048             2592.0 ... 1.0321234464645386\n",
       " 12.917054265961049             2592.0 ... 1.0112526416778564\n",
       " 12.947054265961048             2592.0 ... 1.0124166011810303\n",
       " 12.977054265961048             2592.0 ... 1.0019640922546387\n",
       " 13.007054265961049             2592.0 ...   1.00895094871521\n",
       " 13.037054265961048             2592.0 ... 1.0178639888763428\n",
       " 13.067054265961048 2592.0000000000023 ... 1.0089459419250488\n",
       " 13.097054265961049 2591.9999999999977 ... 1.0250823497772217\n",
       " 13.127054265961048 2592.0000000000023 ... 1.0245790481567383\n",
       " 13.157054265961047 2591.9999999999977 ...  1.029111623764038"
      ]
     },
     "execution_count": 348,
     "metadata": {},
     "output_type": "execute_result"
    }
   ],
   "source": [
    "# downsample the time series by binning the points into bins of equal time \n",
    "# - this returns a BinnedTimeSeries:\n",
    "from astropy.timeseries import aggregate_downsample\n",
    "ts_binned = aggregate_downsample(ts_folded, time_bin_size=0.03 * u.day)  \n",
    "ts_binned"
   ]
  },
  {
   "cell_type": "code",
   "execution_count": 350,
   "metadata": {},
   "outputs": [
    {
     "data": {
      "text/plain": [
       "Text(0, 0.5, 'Normalized flux')"
      ]
     },
     "execution_count": 350,
     "metadata": {},
     "output_type": "execute_result"
    },
    {
     "data": {
      "image/png": "[encoded data removed]",
      "text/plain": [
       "<Figure size 1080x648 with 1 Axes>"
      ]
     },
     "metadata": {},
     "output_type": "display_data"
    }
   ],
   "source": [
    "# final result\n",
    "fig = plt.figure(figsize=(15,9))\n",
    "plt.plot(ts_folded.time.jd, ts_folded['sap_flux_norm'], 'k.', markersize=1)\n",
    "plt.plot(ts_binned.time_bin_start.jd, ts_binned['sap_flux_norm'], 'r', drawstyle='steps-post')\n",
    "plt.xlabel('Time (days)')\n",
    "plt.ylabel('Normalized flux')"
   ]
  },
  {
   "cell_type": "code",
   "execution_count": 82,
   "metadata": {},
   "outputs": [],
   "source": [
    "# files = list(os.listdir(MAST))\n",
    "# targets_df = pd.DataFrame.from_dict(results)\n",
    "\n",
    "# k2_confirmed_total = list(targets_df['pl_hostname'].unique())"
   ]
  },
  {
   "cell_type": "code",
   "execution_count": 386,
   "metadata": {},
   "outputs": [],
   "source": [
    "files = list(os.listdir(MAST))"
   ]
  },
  {
   "cell_type": "code",
   "execution_count": 387,
   "metadata": {},
   "outputs": [
    {
     "data": {
      "text/plain": [
       "['ktwo204890128-c02_llc.fits',\n",
       " 'ktwo228804845-c102_llc.fits',\n",
       " 'ktwo220709978-c08_llc.fits',\n",
       " 'ktwo201227197-c102_llc.fits',\n",
       " 'ktwo206181769-c03_llc.fits',\n",
       " 'ktwo228748826-c102_llc.fits',\n",
       " 'ktwo211924657-c18_llc.fits',\n",
       " 'ktwo211919004-c18_llc.fits',\n",
       " 'ktwo211770795-c05_llc.fits',\n",
       " 'ktwo246067459-c12_llc.fits',\n",
       " 'ktwo211964830-c16_llc.fits',\n",
       " 'ktwo246471491-c19_llc.fits',\n",
       " 'ktwo211529065-c16_llc.fits',\n",
       " 'ktwo212735333-c17_llc.fits',\n",
       " 'ktwo228760097-c102_llc.fits',\n",
       " 'ktwo204129699-c02_llc.fits',\n",
       " 'ktwo211491383-c16_llc.fits',\n",
       " 'ktwo205117205-c02_llc.fits',\n",
       " 'ktwo211816003-c05_llc.fits',\n",
       " 'ktwo246151543-c12_llc.fits',\n",
       " 'ktwo247267267-c13_llc.fits',\n",
       " 'ktwo211916756-c18_llc.fits',\n",
       " 'ktwo211418729-c18_llc.fits',\n",
       " 'ktwo228748383-c102_llc.fits',\n",
       " 'ktwo211791178-c18_llc.fits',\n",
       " 'ktwo206026136-c03_llc.fits',\n",
       " 'ktwo214787262-c07_llc.fits',\n",
       " 'ktwo206162305-c03_llc.fits',\n",
       " 'ktwo201367065-c01_llc.fits',\n",
       " 'ktwo203776696-c02_llc.fits',\n",
       " 'ktwo211525389-c18_llc.fits',\n",
       " 'ktwo212157262-c05_llc.fits',\n",
       " 'ktwo212418133-c06_llc.fits',\n",
       " 'ktwo212554013-c17_llc.fits',\n",
       " 'ktwo211913977-c05_llc.fits',\n",
       " 'ktwo246151543-c19_llc.fits',\n",
       " 'ktwo206209135-c03_llc.fits',\n",
       " 'ktwo206101302-c03_llc.fits',\n",
       " 'ktwo201092629-c102_llc.fits',\n",
       " 'ktwo211611158-c05_llc.fits',\n",
       " 'ktwo212006344-c16_llc.fits',\n",
       " 'ktwo210894022-c04_llc.fits',\n",
       " 'ktwo246471491-c12_llc.fits',\n",
       " 'ktwo211970147-c18_llc.fits',\n",
       " 'ktwo211969807-c05_llc.fits',\n",
       " 'ktwo212069861-c18_llc.fits',\n",
       " 'ktwo205071984-c02_llc.fits',\n",
       " 'ktwo246067459-c19_llc.fits',\n",
       " 'ktwo212130773-c18_llc.fits',\n",
       " 'ktwo201390048-c102_llc.fits',\n",
       " 'ktwo212828909-c17_llc.fits',\n",
       " 'ktwo211791178-c05_llc.fits',\n",
       " 'ktwo211418729-c05_llc.fits',\n",
       " 'ktwo212460519-c06_llc.fits',\n",
       " 'ktwo220621788-c08_llc.fits',\n",
       " 'ktwo206153219-c03_llc.fits',\n",
       " 'ktwo211525389-c05_llc.fits',\n",
       " 'ktwo201427874-c102_llc.fits',\n",
       " 'ktwo212157262-c18_llc.fits',\n",
       " 'ktwo228735255-c102_llc.fits',\n",
       " 'ktwo210750726-c04_llc.fits',\n",
       " 'ktwo201130233-c102_llc.fits',\n",
       " 'ktwo211913977-c18_llc.fits',\n",
       " 'ktwo211682544-c16_llc.fits',\n",
       " 'ktwo201528828-c102_llc.fits',\n",
       " 'ktwo228732031-c102_llc.fits',\n",
       " 'ktwo211611158-c18_llc.fits',\n",
       " 'ktwo228758778-c102_llc.fits',\n",
       " 'ktwo210838726-c04_llc.fits',\n",
       " 'ktwo210490365-c04_llc.fits',\n",
       " 'ktwo220592745-c08_llc.fits',\n",
       " 'ktwo212130773-c05_llc.fits',\n",
       " 'ktwo212069861-c05_llc.fits',\n",
       " 'ktwo211969807-c18_llc.fits',\n",
       " 'ktwo211970147-c05_llc.fits',\n",
       " 'ktwo212779596-c17_llc.fits',\n",
       " 'ktwo210508766-c04_llc.fits',\n",
       " 'ktwo206245553-c03_llc.fits',\n",
       " 'ktwo220225178-c08_llc.fits',\n",
       " 'ktwo212691422-c17_llc.fits',\n",
       " 'ktwo211770795-c18_llc.fits',\n",
       " 'ktwo211924657-c05_llc.fits',\n",
       " 'ktwo211919004-c05_llc.fits',\n",
       " 'ktwo211413752-c16_llc.fits',\n",
       " 'ktwo206038483-c03_llc.fits',\n",
       " 'ktwo246375295-c12_llc.fits',\n",
       " 'ktwo216405287-c07_llc.fits',\n",
       " 'ktwo201403446-c01_llc.fits',\n",
       " 'ktwo211089792-c04_llc.fits',\n",
       " 'ktwo211816003-c18_llc.fits',\n",
       " 'ktwo205924614-c03_llc.fits',\n",
       " 'ktwo206318379-c03_llc.fits',\n",
       " 'ktwo201128338-c102_llc.fits',\n",
       " 'ktwo213715787-c07_llc.fits',\n",
       " 'ktwo206159027-c03_llc.fits',\n",
       " 'ktwo211916756-c05_llc.fits',\n",
       " 'ktwo201598502-c102_llc.fits',\n",
       " 'ktwo201345483-c01_llc.fits',\n",
       " 'ktwo211355342-c05_llc.fits',\n",
       " 'ktwo210403955-c04_llc.fits',\n",
       " 'ktwo210965800-c04_llc.fits',\n",
       " 'ktwo211680698-c05_llc.fits',\n",
       " 'ktwo212164470-c05_llc.fits',\n",
       " 'ktwo201393098-c01_llc.fits',\n",
       " 'ktwo249801827-c15_llc.fits',\n",
       " 'ktwo212735333-c06_llc.fits',\n",
       " 'ktwo211713099-c05_llc.fits',\n",
       " 'ktwo211562654-c18_llc.fits',\n",
       " 'ktwo210731500-c13_llc.fits',\n",
       " 'ktwo201384232-c01_llc.fits',\n",
       " 'ktwo212110888-c18_llc.fits',\n",
       " 'ktwo228721452-c102_llc.fits',\n",
       " 'ktwo201205469-c01_llc.fits',\n",
       " 'ktwo220503236-c08_llc.fits',\n",
       " 'ktwo212418133-c17_llc.fits',\n",
       " 'ktwo210448987-c04_llc.fits',\n",
       " 'ktwo247418783-c13_llc.fits',\n",
       " 'ktwo210402237-c04_llc.fits',\n",
       " 'ktwo210363145-c04_llc.fits',\n",
       " 'ktwo228736155-c102_llc.fits',\n",
       " 'ktwo229017395-c102_llc.fits',\n",
       " 'ktwo216008129-c07_llc.fits',\n",
       " 'ktwo201613023-c01_llc.fits',\n",
       " 'ktwo212628254-c17_llc.fits',\n",
       " 'ktwo249624646-c15_llc.fits',\n",
       " 'ktwo201833600-c01_llc.fits',\n",
       " 'ktwo201132684-c102_llc.fits',\n",
       " 'ktwo220650439-c08_llc.fits',\n",
       " 'ktwo212554013-c06_llc.fits',\n",
       " 'ktwo210718708-c04_llc.fits',\n",
       " 'ktwo220629489-c08_llc.fits',\n",
       " 'ktwo228849382-c102_llc.fits',\n",
       " 'ktwo212110888-c05_llc.fits',\n",
       " 'ktwo210968143-c04_llc.fits',\n",
       " 'ktwo211906650-c05_llc.fits',\n",
       " 'ktwo212828909-c06_llc.fits',\n",
       " 'ktwo206247743-c03_llc.fits',\n",
       " 'ktwo201386739-c102_llc.fits',\n",
       " 'ktwo246865365-c13_llc.fits',\n",
       " 'ktwo212460519-c17_llc.fits',\n",
       " 'ktwo220487418-c08_llc.fits',\n",
       " 'ktwo246393474-c19_llc.fits',\n",
       " 'ktwo201549860-c01_llc.fits',\n",
       " 'ktwo210957318-c04_llc.fits',\n",
       " 'ktwo210731500-c04_llc.fits',\n",
       " 'ktwo247098361-c13_llc.fits',\n",
       " 'ktwo220598331-c08_llc.fits',\n",
       " 'ktwo206007892-c03_llc.fits',\n",
       " 'ktwo205950854-c03_llc.fits',\n",
       " 'ktwo210897587-c13_llc.fits',\n",
       " 'ktwo228734900-c102_llc.fits',\n",
       " 'ktwo212691422-c06_llc.fits',\n",
       " 'ktwo246393474-c12_llc.fits',\n",
       " 'ktwo228934525-c102_llc.fits',\n",
       " 'ktwo211355342-c18_llc.fits',\n",
       " 'ktwo201498078-c14_llc.fits',\n",
       " 'ktwo212154564-c16_llc.fits',\n",
       " 'ktwo212779596-c06_llc.fits',\n",
       " 'ktwo229426032-c112_llc.fits',\n",
       " 'ktwo220194974-c08_llc.fits',\n",
       " 'ktwo212164470-c18_llc.fits',\n",
       " 'ktwo220376054-c08_llc.fits',\n",
       " 'ktwo211680698-c18_llc.fits',\n",
       " 'ktwo248435473-c14_llc.fits',\n",
       " 'ktwo201155177-c01_llc.fits',\n",
       " 'ktwo210857328-c04_llc.fits',\n",
       " 'ktwo201736247-c01_llc.fits',\n",
       " 'ktwo247887989-c13_llc.fits',\n",
       " 'ktwo201166680-c102_llc.fits',\n",
       " 'ktwo211713099-c18_llc.fits',\n",
       " 'ktwo228763938-c102_llc.fits',\n",
       " 'ktwo211562654-c05_llc.fits',\n",
       " 'ktwo246911830-c13_llc.fits',\n",
       " 'ktwo206027655-c03_llc.fits',\n",
       " 'ktwo220522262-c08_llc.fits',\n",
       " 'ktwo212154564-c05_llc.fits',\n",
       " 'ktwo206144956-c03_llc.fits',\n",
       " 'ktwo206049764-c03_llc.fits',\n",
       " 'ktwo212689874-c06_llc.fits',\n",
       " 'ktwo212782836-c17_llc.fits',\n",
       " 'ktwo201110617-c102_llc.fits',\n",
       " 'ktwo211351816-c18_llc.fits',\n",
       " 'ktwo211331236-c18_llc.fits',\n",
       " 'ktwo220481411-c08_llc.fits',\n",
       " 'ktwo201635569-c01_llc.fits',\n",
       " 'ktwo228813918-c102_llc.fits',\n",
       " 'ktwo211818569-c18_llc.fits',\n",
       " 'ktwo211990866-c05_llc.fits',\n",
       " 'ktwo211391664-c18_llc.fits',\n",
       " 'ktwo210707130-c04_llc.fits',\n",
       " 'ktwo212580872-c06_llc.fits',\n",
       " 'ktwo206082454-c03_llc.fits',\n",
       " 'ktwo220241529-c08_llc.fits',\n",
       " 'ktwo201596316-c01_llc.fits',\n",
       " 'ktwo212110888-c16_llc.fits',\n",
       " 'ktwo206011691-c03_llc.fits',\n",
       " 'ktwo201505350-c01_llc.fits',\n",
       " 'ktwo212672300-c06_llc.fits',\n",
       " 'ktwo212803289-c06_llc.fits',\n",
       " 'ktwo212480208-c06_llc.fits',\n",
       " 'ktwo212398486-c06_llc.fits',\n",
       " 'ktwo206348688-c03_llc.fits',\n",
       " 'ktwo211319617-c18_llc.fits',\n",
       " 'ktwo228894622-c102_llc.fits',\n",
       " 'ktwo211359660-c18_llc.fits',\n",
       " 'ktwo211594205-c05_llc.fits',\n",
       " 'ktwo206044803-c03_llc.fits',\n",
       " 'ktwo210512842-c04_llc.fits',\n",
       " 'ktwo228968232-c102_llc.fits',\n",
       " 'ktwo212496592-c06_llc.fits',\n",
       " 'ktwo201637175-c01_llc.fits',\n",
       " 'ktwo248545986-c14_llc.fits',\n",
       " 'ktwo220218012-c08_llc.fits',\n",
       " 'ktwo201295312-c01_llc.fits',\n",
       " 'ktwo212521166-c06_llc.fits',\n",
       " 'ktwo228725791-c102_llc.fits',\n",
       " 'ktwo201677835-c01_llc.fits',\n",
       " 'ktwo246078672-c12_llc.fits',\n",
       " 'ktwo217941732-c07_llc.fits',\n",
       " 'ktwo211359660-c05_llc.fits',\n",
       " 'ktwo211594205-c18_llc.fits',\n",
       " 'ktwo201690311-c01_llc.fits',\n",
       " 'ktwo201102594-c102_llc.fits',\n",
       " 'ktwo219800881-c07_llc.fits',\n",
       " 'ktwo211319617-c05_llc.fits',\n",
       " 'ktwo212768333-c17_llc.fits',\n",
       " 'ktwo247589423-c13_llc.fits',\n",
       " 'ktwo220621087-c08_llc.fits',\n",
       " 'ktwo246078672-c19_llc.fits',\n",
       " 'ktwo205686202-c02_llc.fits',\n",
       " 'ktwo212154564-c18_llc.fits',\n",
       " 'ktwo229131722-c102_llc.fits',\n",
       " 'ktwo203771098-c02_llc.fits',\n",
       " 'ktwo206008091-c03_llc.fits',\n",
       " 'ktwo212686205-c17_llc.fits',\n",
       " 'ktwo201713348-c01_llc.fits',\n",
       " 'ktwo228754001-c102_llc.fits',\n",
       " 'ktwo201338508-c01_llc.fits',\n",
       " 'ktwo201546283-c01_llc.fits',\n",
       " 'ktwo201460826-c01_llc.fits',\n",
       " 'ktwo206192813-c03_llc.fits',\n",
       " 'ktwo205916793-c03_llc.fits',\n",
       " 'ktwo210558622-c04_llc.fits',\n",
       " 'ktwo211351816-c05_llc.fits',\n",
       " 'ktwo211818569-c05_llc.fits',\n",
       " 'ktwo211331236-c05_llc.fits',\n",
       " 'ktwo201629650-c01_llc.fits',\n",
       " 'ktwo211391664-c05_llc.fits',\n",
       " 'ktwo212164470-c16_llc.fits',\n",
       " 'ktwo211990866-c18_llc.fits',\n",
       " 'ktwo228809550-c102_llc.fits',\n",
       " 'ktwo206268299-c03_llc.fits',\n",
       " 'ktwo201615463-c102_llc.fits',\n",
       " 'ktwo245950175-c12_llc.fits',\n",
       " 'ktwo211413752-c05_llc.fits',\n",
       " 'ktwo211919004-c16_llc.fits',\n",
       " 'ktwo211924657-c16_llc.fits',\n",
       " 'ktwo205904628-c03_llc.fits',\n",
       " 'ktwo212689874-c17_llc.fits',\n",
       " 'ktwo210667381-c04_llc.fits',\n",
       " 'ktwo212008766-c18_llc.fits',\n",
       " 'ktwo212782836-c06_llc.fits',\n",
       " 'ktwo211077024-c04_llc.fits',\n",
       " 'ktwo201445392-c01_llc.fits',\n",
       " 'ktwo212357477-c06_llc.fits',\n",
       " 'ktwo201754305-c01_llc.fits',\n",
       " 'ktwo202083828-c00_llc.fits',\n",
       " 'ktwo210643811-c04_llc.fits',\n",
       " 'ktwo229426032-c111_llc.fits',\n",
       " 'ktwo212394689-c06_llc.fits',\n",
       " 'ktwo211491383-c18_llc.fits',\n",
       " 'ktwo206432863-c03_llc.fits',\n",
       " 'ktwo206026904-c03_llc.fits',\n",
       " 'ktwo201231064-c102_llc.fits',\n",
       " 'ktwo220170303-c08_llc.fits',\n",
       " 'ktwo220501947-c08_llc.fits',\n",
       " 'ktwo212580872-c17_llc.fits',\n",
       " 'ktwo201577035-c01_llc.fits',\n",
       " 'ktwo211442297-c18_llc.fits',\n",
       " 'ktwo201912552-c01_llc.fits',\n",
       " 'ktwo211529065-c18_llc.fits',\n",
       " 'ktwo201647718-c01_llc.fits',\n",
       " 'ktwo228725972-c102_llc.fits',\n",
       " 'ktwo220211923-c08_llc.fits',\n",
       " 'ktwo218916923-c07_llc.fits',\n",
       " 'ktwo210693462-c04_llc.fits',\n",
       " 'ktwo220256496-c08_llc.fits',\n",
       " 'ktwo211736671-c18_llc.fits',\n",
       " 'ktwo212803289-c17_llc.fits',\n",
       " 'ktwo212480208-c17_llc.fits',\n",
       " 'ktwo201855371-c01_llc.fits',\n",
       " 'ktwo212672300-c17_llc.fits',\n",
       " 'ktwo211048999-c04_llc.fits',\n",
       " 'ktwo220321605-c08_llc.fits',\n",
       " 'ktwo204221263-c15_llc.fits',\n",
       " 'ktwo245950175-c19_llc.fits',\n",
       " 'ktwo212006344-c18_llc.fits',\n",
       " 'ktwo216468514-c07_llc.fits',\n",
       " 'ktwo211970147-c16_llc.fits',\n",
       " 'ktwo212069861-c16_llc.fits',\n",
       " 'ktwo211682544-c05_llc.fits',\n",
       " 'ktwo216494238-c07_llc.fits',\n",
       " 'ktwo212012119-c05_llc.fits',\n",
       " 'ktwo210577548-c04_llc.fits',\n",
       " 'ktwo212521166-c17_llc.fits',\n",
       " 'ktwo211736671-c05_llc.fits',\n",
       " 'ktwo201225286-c102_llc.fits',\n",
       " 'ktwo201357643-c102_llc.fits',\n",
       " 'ktwo206011496-c03_llc.fits',\n",
       " 'ktwo220504338-c08_llc.fits',\n",
       " 'ktwo206125618-c03_llc.fits',\n",
       " 'ktwo212496592-c17_llc.fits',\n",
       " 'ktwo228739306-c102_llc.fits',\n",
       " 'ktwo212006344-c05_llc.fits',\n",
       " 'ktwo206096602-c03_llc.fits',\n",
       " 'ktwo220471666-c08_llc.fits',\n",
       " 'ktwo212768333-c06_llc.fits',\n",
       " 'ktwo220250254-c08_llc.fits',\n",
       " 'ktwo211969807-c16_llc.fits',\n",
       " 'ktwo203826436-c02_llc.fits',\n",
       " 'ktwo220554210-c08_llc.fits',\n",
       " 'ktwo211682544-c18_llc.fits',\n",
       " 'ktwo211913977-c16_llc.fits',\n",
       " 'ktwo220341183-c08_llc.fits',\n",
       " 'ktwo212012119-c18_llc.fits',\n",
       " 'ktwo211611158-c16_llc.fits',\n",
       " 'ktwo249889081-c15_llc.fits',\n",
       " 'ktwo228798746-c102_llc.fits',\n",
       " 'ktwo211413752-c18_llc.fits',\n",
       " 'ktwo212008766-c05_llc.fits',\n",
       " 'ktwo228801451-c102_llc.fits',\n",
       " 'ktwo204221263-c02_llc.fits',\n",
       " 'ktwo228974324-c102_llc.fits',\n",
       " 'ktwo201465501-c01_llc.fits',\n",
       " 'ktwo220216730-c08_llc.fits',\n",
       " 'ktwo212686205-c06_llc.fits',\n",
       " 'ktwo220522664-c08_llc.fits',\n",
       " 'ktwo212555594-c06_llc.fits',\n",
       " 'ktwo211491383-c05_llc.fits',\n",
       " 'ktwo211816003-c16_llc.fits',\n",
       " 'ktwo201208431-c01_llc.fits',\n",
       " 'ktwo220186645-c08_llc.fits',\n",
       " 'ktwo201211526-c102_llc.fits',\n",
       " 'ktwo211529065-c05_llc.fits',\n",
       " 'ktwo206119924-c03_llc.fits',\n",
       " 'ktwo211442297-c05_llc.fits',\n",
       " 'ktwo249451861-c15_llc.fits',\n",
       " 'ktwo249622103-c15_llc.fits']"
      ]
     },
     "execution_count": 387,
     "metadata": {},
     "output_type": "execute_result"
    }
   ],
   "source": [
    "files"
   ]
  },
  {
   "cell_type": "code",
   "execution_count": 388,
   "metadata": {},
   "outputs": [],
   "source": [
    "# file = files[0].replace('ktwo','')\n",
    "# newfile = file.replace('_llc.fits','')\n",
    "# pair = newfile.split('-')"
   ]
  },
  {
   "cell_type": "code",
   "execution_count": 389,
   "metadata": {},
   "outputs": [],
   "source": [
    "# pair"
   ]
  },
  {
   "cell_type": "code",
   "execution_count": 390,
   "metadata": {},
   "outputs": [],
   "source": [
    "#meta = [['obs_id','campaign','time_scale','time_format','transit_time','period']]"
   ]
  },
  {
   "cell_type": "code",
   "execution_count": null,
   "metadata": {},
   "outputs": [],
   "source": [
    "def planet_hunter(files=files, fmt='kepler.fits', error=False, snr=False, verbose=False):\n",
    "    \"\"\"\n",
    "    planet_hunter(f=files[9], fmt='kepler.fits')\n",
    "    \n",
    "    args:\n",
    "    - fits_files = takes array or single .fits file\n",
    "    \n",
    "    kwargs:\n",
    "    - format : 'kepler.fits' or  'tess.fits'\n",
    "    \"\"\"\n",
    "    import numpy as np\n",
    "    import pandas pd\n",
    "    from astropy.timeseries import TimeSeries\n",
    "    from astropy import units as u\n",
    "    from astropy.timeseries import BoxLeastSquares\n",
    "    from astropy.stats import sigma_clipped_stats\n",
    "    from astropy.timeseries import aggregate_downsample\n",
    "    \n",
    "    # read in file\n",
    "    targets = {}\n",
    "    for file in files:\n",
    "        ts = TimeSeries.read(file, format=fmt) # read in timeseries\n",
    "        # get campaign and tsrget id \n",
    "        prefix = file.replace('ktwo','') \n",
    "        suffix = prefix.replace('_llc.fits','')\n",
    "        pair = suffix.split('-')\n",
    "        campaign = pair[1]\n",
    "        target = pair[0]\n",
    "        \n",
    "    \n",
    "    \n",
    "    \n",
    "    "
   ]
  },
  {
   "cell_type": "code",
   "execution_count": 391,
   "metadata": {},
   "outputs": [],
   "source": [
    "def planet_hunter(file_list=files, fmt='kepler.fits', error=False,snr=False,verbose=False):\n",
    "    \"\"\"\n",
    "    planet_hunter(f=files[9], fmt='kepler.fits')\n",
    "    \n",
    "    args:\n",
    "    - fits_files = takes array or single .fits file\n",
    "    \n",
    "    kwargs:\n",
    "    - format : 'kepler.fits' or  'tess.fits'\n",
    "    \"\"\"\n",
    "    from astropy.timeseries import TimeSeries\n",
    "    import numpy as np\n",
    "    from astropy import units as u\n",
    "    from astropy.timeseries import BoxLeastSquares\n",
    "    from astropy.stats import sigma_clipped_stats\n",
    "    from astropy.timeseries import aggregate_downsample\n",
    "\n",
    "    #meta = [['obs_id','campaign','lc_start','lc_end','transit_time','period','maxpow']]\n",
    "    \n",
    "    # read in file\n",
    "    obs = {}\n",
    "    meta = {}\n",
    "    for file in file_list:\n",
    "        \n",
    "        prefix = file.replace('ktwo','') \n",
    "        suffix = prefix.replace('_llc.fits','')\n",
    "        pair = suffix.split('-')\n",
    "        campaign = pair[1]\n",
    "        obs_id = pair[0]\n",
    "        \n",
    "        ts = TimeSeries.read(file, format=fmt) # read in timeseries\n",
    "    \n",
    "        \n",
    "        \n",
    "        # add to meta dict\n",
    "        meta['obs_id'] = obs_id\n",
    "        meta['campaign'] = campaign\n",
    "#         meta['time_scale'] = ts.time.scale\n",
    "#         meta['time_format'] = ts.time.format\n",
    "        meta['lc_start'] = ts.time.jd[0]\n",
    "        meta['lc_end'] = ts.time.jd[-1]\n",
    "  \n",
    "    \n",
    "        # use box least squares to estimate period\n",
    "        if error is True: # if error col data available\n",
    "            periodogram = BoxLeastSquares.from_timeseries(ts,'sap_flux','sap_flux_err')\n",
    "        else:\n",
    "            periodogram = BoxLeastSquares.from_timeseries(ts, 'sap_flux')\n",
    "        if snr is True:\n",
    "            results = periodogram.autopower(0.2*u.day, objective='snr')\n",
    "        else:\n",
    "            results = periodogram.autopower(0.2*u.day)\n",
    "        \n",
    "        maxpower = np.argmax(results.power)  \n",
    "        period = results.period[maxpower] \n",
    "        transit_time = results.transit_time[maxpower]\n",
    "        meta['maxpower'] = maxpower\n",
    "        meta['period'] = period\n",
    "        meta['transit'] = transit_time\n",
    "        \n",
    "        stats = pd.DataFrame.from_dict(meta)\n",
    "        obs[obs_id] = stats\n",
    "     \n",
    "        if verbose is True:\n",
    "            print(f'transit_time: {transit_time}')\n",
    "            print(f'period: {period}')\n",
    "            print(f'best: {best}')\n",
    "\n",
    "        # fold the time series using the period \n",
    "        ts_folded = ts.fold(period=period, epoch_time=transit_time) \n",
    "\n",
    "    #     # folded time series plot\n",
    "    #     plt.plot(ts_folded.time.jd, ts_folded['sap_flux'], 'k.', markersize=1)\n",
    "    #     plt.xlabel('Time (days)')\n",
    "    #     plt.ylabel('SAP Flux (e-/s)')\n",
    "\n",
    "        #normalize the flux by sigma-clipping the data to determine the baseline flux:\n",
    "\n",
    "        mean, median, stddev = sigma_clipped_stats(ts_folded['sap_flux'])  \n",
    "        ts_folded['sap_flux_norm'] = ts_folded['sap_flux'] / median  \n",
    "        \n",
    "        # downsample the time series by binning the points into bins of equal time \n",
    "        # - this returns a BinnedTimeSeries:\n",
    "        ts_binned = aggregate_downsample(ts_folded, time_bin_size=0.03 * u.day)  \n",
    "\n",
    "    #     # final result\n",
    "        fig = plt.figure(figsize=(11,5))\n",
    "        plt.plot(ts_folded.time.jd, ts_folded['sap_flux_norm'], 'k.', markersize=1)\n",
    "        plt.plot(ts_binned.time_bin_start.jd, ts_binned['sap_flux_norm'], 'r-', drawstyle='steps-post')\n",
    "        plt.xlabel('Time (days)')\n",
    "        plt.ylabel('Normalized flux')\n",
    "    return obs"
   ]
  },
  {
   "cell_type": "code",
   "execution_count": 392,
   "metadata": {},
   "outputs": [
    {
     "data": {
      "text/plain": [
       "'ktwo246067459-c12_llc.fits'"
      ]
     },
     "execution_count": 392,
     "metadata": {},
     "output_type": "execute_result"
    }
   ],
   "source": [
    "files[9]"
   ]
  },
  {
   "cell_type": "code",
   "execution_count": 385,
   "metadata": {},
   "outputs": [
    {
     "ename": "FileNotFoundError",
     "evalue": "[Errno 2] No such file or directory: 'k'",
     "output_type": "error",
     "traceback": [
      "\u001b[0;31m---------------------------------------------------------------------------\u001b[0m",
      "\u001b[0;31mFileNotFoundError\u001b[0m                         Traceback (most recent call last)",
      "\u001b[0;32m<ipython-input-385-9bae36ff5bf4>\u001b[0m in \u001b[0;36m<module>\u001b[0;34m\u001b[0m\n\u001b[0;32m----> 1\u001b[0;31m \u001b[0mplanet_hunter\u001b[0m\u001b[0;34m(\u001b[0m\u001b[0mfile_list\u001b[0m\u001b[0;34m=\u001b[0m\u001b[0mfiles\u001b[0m\u001b[0;34m[\u001b[0m\u001b[0;36m9\u001b[0m\u001b[0;34m]\u001b[0m\u001b[0;34m,\u001b[0m \u001b[0mfmt\u001b[0m\u001b[0;34m=\u001b[0m\u001b[0;34m'kepler.fits'\u001b[0m\u001b[0;34m)\u001b[0m\u001b[0;34m\u001b[0m\u001b[0;34m\u001b[0m\u001b[0m\n\u001b[0m",
      "\u001b[0;32m<ipython-input-384-7428d1c34b47>\u001b[0m in \u001b[0;36mplanet_hunter\u001b[0;34m(file_list, fmt, error, snr, verbose)\u001b[0m\n\u001b[1;32m     21\u001b[0m     \u001b[0mobs\u001b[0m \u001b[0;34m=\u001b[0m \u001b[0;34m{\u001b[0m\u001b[0;34m}\u001b[0m\u001b[0;34m\u001b[0m\u001b[0;34m\u001b[0m\u001b[0m\n\u001b[1;32m     22\u001b[0m     \u001b[0;32mfor\u001b[0m \u001b[0mfile\u001b[0m \u001b[0;32min\u001b[0m \u001b[0mfile_list\u001b[0m\u001b[0;34m:\u001b[0m\u001b[0;34m\u001b[0m\u001b[0;34m\u001b[0m\u001b[0m\n\u001b[0;32m---> 23\u001b[0;31m         \u001b[0mts\u001b[0m \u001b[0;34m=\u001b[0m \u001b[0mTimeSeries\u001b[0m\u001b[0;34m.\u001b[0m\u001b[0mread\u001b[0m\u001b[0;34m(\u001b[0m\u001b[0mfile\u001b[0m\u001b[0;34m,\u001b[0m \u001b[0mformat\u001b[0m\u001b[0;34m=\u001b[0m\u001b[0mfmt\u001b[0m\u001b[0;34m)\u001b[0m \u001b[0;31m# read in timeseries\u001b[0m\u001b[0;34m\u001b[0m\u001b[0;34m\u001b[0m\u001b[0m\n\u001b[0m\u001b[1;32m     24\u001b[0m         \u001b[0mprefix\u001b[0m \u001b[0;34m=\u001b[0m \u001b[0mfile\u001b[0m\u001b[0;34m.\u001b[0m\u001b[0mreplace\u001b[0m\u001b[0;34m(\u001b[0m\u001b[0;34m'ktwo'\u001b[0m\u001b[0;34m,\u001b[0m\u001b[0;34m''\u001b[0m\u001b[0;34m)\u001b[0m\u001b[0;34m\u001b[0m\u001b[0;34m\u001b[0m\u001b[0m\n\u001b[1;32m     25\u001b[0m         \u001b[0msuffix\u001b[0m \u001b[0;34m=\u001b[0m \u001b[0mprefix\u001b[0m\u001b[0;34m.\u001b[0m\u001b[0mreplace\u001b[0m\u001b[0;34m(\u001b[0m\u001b[0;34m'_llc.fits'\u001b[0m\u001b[0;34m,\u001b[0m\u001b[0;34m''\u001b[0m\u001b[0;34m)\u001b[0m\u001b[0;34m\u001b[0m\u001b[0;34m\u001b[0m\u001b[0m\n",
      "\u001b[0;32m~/opt/anaconda3/envs/astroconda/lib/python3.6/site-packages/astropy/timeseries/sampled.py\u001b[0m in \u001b[0;36mread\u001b[0;34m(self, filename, time_column, time_format, time_scale, format, *args, **kwargs)\u001b[0m\n\u001b[1;32m    364\u001b[0m \u001b[0;34m\u001b[0m\u001b[0m\n\u001b[1;32m    365\u001b[0m             \u001b[0;31m# First we try the readers defined for the BinnedTimeSeries class\u001b[0m\u001b[0;34m\u001b[0m\u001b[0;34m\u001b[0m\u001b[0;34m\u001b[0m\u001b[0m\n\u001b[0;32m--> 366\u001b[0;31m             \u001b[0;32mreturn\u001b[0m \u001b[0msuper\u001b[0m\u001b[0;34m(\u001b[0m\u001b[0;34m)\u001b[0m\u001b[0;34m.\u001b[0m\u001b[0mread\u001b[0m\u001b[0;34m(\u001b[0m\u001b[0mfilename\u001b[0m\u001b[0;34m,\u001b[0m \u001b[0mformat\u001b[0m\u001b[0;34m=\u001b[0m\u001b[0mformat\u001b[0m\u001b[0;34m,\u001b[0m \u001b[0;34m*\u001b[0m\u001b[0margs\u001b[0m\u001b[0;34m,\u001b[0m \u001b[0;34m**\u001b[0m\u001b[0mkwargs\u001b[0m\u001b[0;34m)\u001b[0m\u001b[0;34m\u001b[0m\u001b[0;34m\u001b[0m\u001b[0m\n\u001b[0m\u001b[1;32m    367\u001b[0m \u001b[0;34m\u001b[0m\u001b[0m\n\u001b[1;32m    368\u001b[0m         \u001b[0;32mexcept\u001b[0m \u001b[0mTypeError\u001b[0m\u001b[0;34m:\u001b[0m\u001b[0;34m\u001b[0m\u001b[0;34m\u001b[0m\u001b[0m\n",
      "\u001b[0;32m~/opt/anaconda3/envs/astroconda/lib/python3.6/site-packages/astropy/table/connect.py\u001b[0m in \u001b[0;36m__call__\u001b[0;34m(self, *args, **kwargs)\u001b[0m\n\u001b[1;32m     50\u001b[0m     \u001b[0;32mdef\u001b[0m \u001b[0m__call__\u001b[0m\u001b[0;34m(\u001b[0m\u001b[0mself\u001b[0m\u001b[0;34m,\u001b[0m \u001b[0;34m*\u001b[0m\u001b[0margs\u001b[0m\u001b[0;34m,\u001b[0m \u001b[0;34m**\u001b[0m\u001b[0mkwargs\u001b[0m\u001b[0;34m)\u001b[0m\u001b[0;34m:\u001b[0m\u001b[0;34m\u001b[0m\u001b[0;34m\u001b[0m\u001b[0m\n\u001b[1;32m     51\u001b[0m         \u001b[0mcls\u001b[0m \u001b[0;34m=\u001b[0m \u001b[0mself\u001b[0m\u001b[0;34m.\u001b[0m\u001b[0m_cls\u001b[0m\u001b[0;34m\u001b[0m\u001b[0;34m\u001b[0m\u001b[0m\n\u001b[0;32m---> 52\u001b[0;31m         \u001b[0mout\u001b[0m \u001b[0;34m=\u001b[0m \u001b[0mregistry\u001b[0m\u001b[0;34m.\u001b[0m\u001b[0mread\u001b[0m\u001b[0;34m(\u001b[0m\u001b[0mcls\u001b[0m\u001b[0;34m,\u001b[0m \u001b[0;34m*\u001b[0m\u001b[0margs\u001b[0m\u001b[0;34m,\u001b[0m \u001b[0;34m**\u001b[0m\u001b[0mkwargs\u001b[0m\u001b[0;34m)\u001b[0m\u001b[0;34m\u001b[0m\u001b[0;34m\u001b[0m\u001b[0m\n\u001b[0m\u001b[1;32m     53\u001b[0m \u001b[0;34m\u001b[0m\u001b[0m\n\u001b[1;32m     54\u001b[0m         \u001b[0;31m# For some readers (e.g., ascii.ecsv), the returned `out` class is not\u001b[0m\u001b[0;34m\u001b[0m\u001b[0;34m\u001b[0m\u001b[0;34m\u001b[0m\u001b[0m\n",
      "\u001b[0;32m~/opt/anaconda3/envs/astroconda/lib/python3.6/site-packages/astropy/io/registry.py\u001b[0m in \u001b[0;36mread\u001b[0;34m(cls, format, *args, **kwargs)\u001b[0m\n\u001b[1;32m    521\u001b[0m \u001b[0;34m\u001b[0m\u001b[0m\n\u001b[1;32m    522\u001b[0m         \u001b[0mreader\u001b[0m \u001b[0;34m=\u001b[0m \u001b[0mget_reader\u001b[0m\u001b[0;34m(\u001b[0m\u001b[0mformat\u001b[0m\u001b[0;34m,\u001b[0m \u001b[0mcls\u001b[0m\u001b[0;34m)\u001b[0m\u001b[0;34m\u001b[0m\u001b[0;34m\u001b[0m\u001b[0m\n\u001b[0;32m--> 523\u001b[0;31m         \u001b[0mdata\u001b[0m \u001b[0;34m=\u001b[0m \u001b[0mreader\u001b[0m\u001b[0;34m(\u001b[0m\u001b[0;34m*\u001b[0m\u001b[0margs\u001b[0m\u001b[0;34m,\u001b[0m \u001b[0;34m**\u001b[0m\u001b[0mkwargs\u001b[0m\u001b[0;34m)\u001b[0m\u001b[0;34m\u001b[0m\u001b[0;34m\u001b[0m\u001b[0m\n\u001b[0m\u001b[1;32m    524\u001b[0m \u001b[0;34m\u001b[0m\u001b[0m\n\u001b[1;32m    525\u001b[0m         \u001b[0;32mif\u001b[0m \u001b[0;32mnot\u001b[0m \u001b[0misinstance\u001b[0m\u001b[0;34m(\u001b[0m\u001b[0mdata\u001b[0m\u001b[0;34m,\u001b[0m \u001b[0mcls\u001b[0m\u001b[0;34m)\u001b[0m\u001b[0;34m:\u001b[0m\u001b[0;34m\u001b[0m\u001b[0;34m\u001b[0m\u001b[0m\n",
      "\u001b[0;32m~/opt/anaconda3/envs/astroconda/lib/python3.6/site-packages/astropy/timeseries/io/kepler.py\u001b[0m in \u001b[0;36mkepler_fits_reader\u001b[0;34m(filename)\u001b[0m\n\u001b[1;32m     35\u001b[0m         \u001b[0mData\u001b[0m \u001b[0mconverted\u001b[0m \u001b[0minto\u001b[0m \u001b[0ma\u001b[0m \u001b[0mTimeSeries\u001b[0m\u001b[0;34m.\u001b[0m\u001b[0;34m\u001b[0m\u001b[0;34m\u001b[0m\u001b[0m\n\u001b[1;32m     36\u001b[0m     \"\"\"\n\u001b[0;32m---> 37\u001b[0;31m     \u001b[0mhdulist\u001b[0m \u001b[0;34m=\u001b[0m \u001b[0mfits\u001b[0m\u001b[0;34m.\u001b[0m\u001b[0mopen\u001b[0m\u001b[0;34m(\u001b[0m\u001b[0mfilename\u001b[0m\u001b[0;34m)\u001b[0m\u001b[0;34m\u001b[0m\u001b[0;34m\u001b[0m\u001b[0m\n\u001b[0m\u001b[1;32m     38\u001b[0m     \u001b[0;31m# Get the lightcurve HDU\u001b[0m\u001b[0;34m\u001b[0m\u001b[0;34m\u001b[0m\u001b[0;34m\u001b[0m\u001b[0m\n\u001b[1;32m     39\u001b[0m     \u001b[0mtelescope\u001b[0m \u001b[0;34m=\u001b[0m \u001b[0mhdulist\u001b[0m\u001b[0;34m[\u001b[0m\u001b[0;36m0\u001b[0m\u001b[0;34m]\u001b[0m\u001b[0;34m.\u001b[0m\u001b[0mheader\u001b[0m\u001b[0;34m[\u001b[0m\u001b[0;34m'telescop'\u001b[0m\u001b[0;34m]\u001b[0m\u001b[0;34m.\u001b[0m\u001b[0mlower\u001b[0m\u001b[0;34m(\u001b[0m\u001b[0;34m)\u001b[0m\u001b[0;34m\u001b[0m\u001b[0;34m\u001b[0m\u001b[0m\n",
      "\u001b[0;32m~/opt/anaconda3/envs/astroconda/lib/python3.6/site-packages/astropy/io/fits/hdu/hdulist.py\u001b[0m in \u001b[0;36mfitsopen\u001b[0;34m(name, mode, memmap, save_backup, cache, lazy_load_hdus, **kwargs)\u001b[0m\n\u001b[1;32m    156\u001b[0m \u001b[0;34m\u001b[0m\u001b[0m\n\u001b[1;32m    157\u001b[0m     return HDUList.fromfile(name, mode, memmap, save_backup, cache,\n\u001b[0;32m--> 158\u001b[0;31m                             lazy_load_hdus, **kwargs)\n\u001b[0m\u001b[1;32m    159\u001b[0m \u001b[0;34m\u001b[0m\u001b[0m\n\u001b[1;32m    160\u001b[0m \u001b[0;34m\u001b[0m\u001b[0m\n",
      "\u001b[0;32m~/opt/anaconda3/envs/astroconda/lib/python3.6/site-packages/astropy/io/fits/hdu/hdulist.py\u001b[0m in \u001b[0;36mfromfile\u001b[0;34m(cls, fileobj, mode, memmap, save_backup, cache, lazy_load_hdus, **kwargs)\u001b[0m\n\u001b[1;32m    395\u001b[0m         return cls._readfrom(fileobj=fileobj, mode=mode, memmap=memmap,\n\u001b[1;32m    396\u001b[0m                              \u001b[0msave_backup\u001b[0m\u001b[0;34m=\u001b[0m\u001b[0msave_backup\u001b[0m\u001b[0;34m,\u001b[0m \u001b[0mcache\u001b[0m\u001b[0;34m=\u001b[0m\u001b[0mcache\u001b[0m\u001b[0;34m,\u001b[0m\u001b[0;34m\u001b[0m\u001b[0;34m\u001b[0m\u001b[0m\n\u001b[0;32m--> 397\u001b[0;31m                              lazy_load_hdus=lazy_load_hdus, **kwargs)\n\u001b[0m\u001b[1;32m    398\u001b[0m \u001b[0;34m\u001b[0m\u001b[0m\n\u001b[1;32m    399\u001b[0m     \u001b[0;34m@\u001b[0m\u001b[0mclassmethod\u001b[0m\u001b[0;34m\u001b[0m\u001b[0;34m\u001b[0m\u001b[0m\n",
      "\u001b[0;32m~/opt/anaconda3/envs/astroconda/lib/python3.6/site-packages/astropy/io/fits/hdu/hdulist.py\u001b[0m in \u001b[0;36m_readfrom\u001b[0;34m(cls, fileobj, data, mode, memmap, save_backup, cache, lazy_load_hdus, **kwargs)\u001b[0m\n\u001b[1;32m   1044\u001b[0m             \u001b[0;32mif\u001b[0m \u001b[0;32mnot\u001b[0m \u001b[0misinstance\u001b[0m\u001b[0;34m(\u001b[0m\u001b[0mfileobj\u001b[0m\u001b[0;34m,\u001b[0m \u001b[0m_File\u001b[0m\u001b[0;34m)\u001b[0m\u001b[0;34m:\u001b[0m\u001b[0;34m\u001b[0m\u001b[0;34m\u001b[0m\u001b[0m\n\u001b[1;32m   1045\u001b[0m                 \u001b[0;31m# instantiate a FITS file object (ffo)\u001b[0m\u001b[0;34m\u001b[0m\u001b[0;34m\u001b[0m\u001b[0;34m\u001b[0m\u001b[0m\n\u001b[0;32m-> 1046\u001b[0;31m                 \u001b[0mfileobj\u001b[0m \u001b[0;34m=\u001b[0m \u001b[0m_File\u001b[0m\u001b[0;34m(\u001b[0m\u001b[0mfileobj\u001b[0m\u001b[0;34m,\u001b[0m \u001b[0mmode\u001b[0m\u001b[0;34m=\u001b[0m\u001b[0mmode\u001b[0m\u001b[0;34m,\u001b[0m \u001b[0mmemmap\u001b[0m\u001b[0;34m=\u001b[0m\u001b[0mmemmap\u001b[0m\u001b[0;34m,\u001b[0m \u001b[0mcache\u001b[0m\u001b[0;34m=\u001b[0m\u001b[0mcache\u001b[0m\u001b[0;34m)\u001b[0m\u001b[0;34m\u001b[0m\u001b[0;34m\u001b[0m\u001b[0m\n\u001b[0m\u001b[1;32m   1047\u001b[0m             \u001b[0;31m# The Astropy mode is determined by the _File initializer if the\u001b[0m\u001b[0;34m\u001b[0m\u001b[0;34m\u001b[0m\u001b[0;34m\u001b[0m\u001b[0m\n\u001b[1;32m   1048\u001b[0m             \u001b[0;31m# supplied mode was None\u001b[0m\u001b[0;34m\u001b[0m\u001b[0;34m\u001b[0m\u001b[0;34m\u001b[0m\u001b[0m\n",
      "\u001b[0;32m~/opt/anaconda3/envs/astroconda/lib/python3.6/site-packages/astropy/utils/decorators.py\u001b[0m in \u001b[0;36mwrapper\u001b[0;34m(*args, **kwargs)\u001b[0m\n\u001b[1;32m    519\u001b[0m                             \u001b[0mkwargs\u001b[0m\u001b[0;34m[\u001b[0m\u001b[0mnew_name\u001b[0m\u001b[0;34m[\u001b[0m\u001b[0mi\u001b[0m\u001b[0;34m]\u001b[0m\u001b[0;34m]\u001b[0m \u001b[0;34m=\u001b[0m \u001b[0mvalue\u001b[0m\u001b[0;34m\u001b[0m\u001b[0;34m\u001b[0m\u001b[0m\n\u001b[1;32m    520\u001b[0m \u001b[0;34m\u001b[0m\u001b[0m\n\u001b[0;32m--> 521\u001b[0;31m             \u001b[0;32mreturn\u001b[0m \u001b[0mfunction\u001b[0m\u001b[0;34m(\u001b[0m\u001b[0;34m*\u001b[0m\u001b[0margs\u001b[0m\u001b[0;34m,\u001b[0m \u001b[0;34m**\u001b[0m\u001b[0mkwargs\u001b[0m\u001b[0;34m)\u001b[0m\u001b[0;34m\u001b[0m\u001b[0;34m\u001b[0m\u001b[0m\n\u001b[0m\u001b[1;32m    522\u001b[0m \u001b[0;34m\u001b[0m\u001b[0m\n\u001b[1;32m    523\u001b[0m         \u001b[0;32mreturn\u001b[0m \u001b[0mwrapper\u001b[0m\u001b[0;34m\u001b[0m\u001b[0;34m\u001b[0m\u001b[0m\n",
      "\u001b[0;32m~/opt/anaconda3/envs/astroconda/lib/python3.6/site-packages/astropy/io/fits/file.py\u001b[0m in \u001b[0;36m__init__\u001b[0;34m(self, fileobj, mode, memmap, overwrite, cache)\u001b[0m\n\u001b[1;32m    191\u001b[0m             \u001b[0mself\u001b[0m\u001b[0;34m.\u001b[0m\u001b[0m_open_fileobj\u001b[0m\u001b[0;34m(\u001b[0m\u001b[0mfileobj\u001b[0m\u001b[0;34m,\u001b[0m \u001b[0mmode\u001b[0m\u001b[0;34m,\u001b[0m \u001b[0moverwrite\u001b[0m\u001b[0;34m)\u001b[0m\u001b[0;34m\u001b[0m\u001b[0;34m\u001b[0m\u001b[0m\n\u001b[1;32m    192\u001b[0m         \u001b[0;32melif\u001b[0m \u001b[0misinstance\u001b[0m\u001b[0;34m(\u001b[0m\u001b[0mfileobj\u001b[0m\u001b[0;34m,\u001b[0m \u001b[0mstr\u001b[0m\u001b[0;34m)\u001b[0m\u001b[0;34m:\u001b[0m\u001b[0;34m\u001b[0m\u001b[0;34m\u001b[0m\u001b[0m\n\u001b[0;32m--> 193\u001b[0;31m             \u001b[0mself\u001b[0m\u001b[0;34m.\u001b[0m\u001b[0m_open_filename\u001b[0m\u001b[0;34m(\u001b[0m\u001b[0mfileobj\u001b[0m\u001b[0;34m,\u001b[0m \u001b[0mmode\u001b[0m\u001b[0;34m,\u001b[0m \u001b[0moverwrite\u001b[0m\u001b[0;34m)\u001b[0m\u001b[0;34m\u001b[0m\u001b[0;34m\u001b[0m\u001b[0m\n\u001b[0m\u001b[1;32m    194\u001b[0m         \u001b[0;32melse\u001b[0m\u001b[0;34m:\u001b[0m\u001b[0;34m\u001b[0m\u001b[0;34m\u001b[0m\u001b[0m\n\u001b[1;32m    195\u001b[0m             \u001b[0mself\u001b[0m\u001b[0;34m.\u001b[0m\u001b[0m_open_filelike\u001b[0m\u001b[0;34m(\u001b[0m\u001b[0mfileobj\u001b[0m\u001b[0;34m,\u001b[0m \u001b[0mmode\u001b[0m\u001b[0;34m,\u001b[0m \u001b[0moverwrite\u001b[0m\u001b[0;34m)\u001b[0m\u001b[0;34m\u001b[0m\u001b[0;34m\u001b[0m\u001b[0m\n",
      "\u001b[0;32m~/opt/anaconda3/envs/astroconda/lib/python3.6/site-packages/astropy/io/fits/file.py\u001b[0m in \u001b[0;36m_open_filename\u001b[0;34m(self, filename, mode, overwrite)\u001b[0m\n\u001b[1;32m    572\u001b[0m \u001b[0;34m\u001b[0m\u001b[0m\n\u001b[1;32m    573\u001b[0m         \u001b[0;32mif\u001b[0m \u001b[0;32mnot\u001b[0m \u001b[0mself\u001b[0m\u001b[0;34m.\u001b[0m\u001b[0m_try_read_compressed\u001b[0m\u001b[0;34m(\u001b[0m\u001b[0mself\u001b[0m\u001b[0;34m.\u001b[0m\u001b[0mname\u001b[0m\u001b[0;34m,\u001b[0m \u001b[0mmagic\u001b[0m\u001b[0;34m,\u001b[0m \u001b[0mmode\u001b[0m\u001b[0;34m,\u001b[0m \u001b[0mext\u001b[0m\u001b[0;34m=\u001b[0m\u001b[0mext\u001b[0m\u001b[0;34m)\u001b[0m\u001b[0;34m:\u001b[0m\u001b[0;34m\u001b[0m\u001b[0;34m\u001b[0m\u001b[0m\n\u001b[0;32m--> 574\u001b[0;31m             \u001b[0mself\u001b[0m\u001b[0;34m.\u001b[0m\u001b[0m_file\u001b[0m \u001b[0;34m=\u001b[0m \u001b[0mfileobj_open\u001b[0m\u001b[0;34m(\u001b[0m\u001b[0mself\u001b[0m\u001b[0;34m.\u001b[0m\u001b[0mname\u001b[0m\u001b[0;34m,\u001b[0m \u001b[0mIO_FITS_MODES\u001b[0m\u001b[0;34m[\u001b[0m\u001b[0mmode\u001b[0m\u001b[0;34m]\u001b[0m\u001b[0;34m)\u001b[0m\u001b[0;34m\u001b[0m\u001b[0;34m\u001b[0m\u001b[0m\n\u001b[0m\u001b[1;32m    575\u001b[0m             \u001b[0mself\u001b[0m\u001b[0;34m.\u001b[0m\u001b[0mclose_on_error\u001b[0m \u001b[0;34m=\u001b[0m \u001b[0;32mTrue\u001b[0m\u001b[0;34m\u001b[0m\u001b[0;34m\u001b[0m\u001b[0m\n\u001b[1;32m    576\u001b[0m \u001b[0;34m\u001b[0m\u001b[0m\n",
      "\u001b[0;32m~/opt/anaconda3/envs/astroconda/lib/python3.6/site-packages/astropy/io/fits/util.py\u001b[0m in \u001b[0;36mfileobj_open\u001b[0;34m(filename, mode)\u001b[0m\n\u001b[1;32m    394\u001b[0m     \"\"\"\n\u001b[1;32m    395\u001b[0m \u001b[0;34m\u001b[0m\u001b[0m\n\u001b[0;32m--> 396\u001b[0;31m     \u001b[0;32mreturn\u001b[0m \u001b[0mopen\u001b[0m\u001b[0;34m(\u001b[0m\u001b[0mfilename\u001b[0m\u001b[0;34m,\u001b[0m \u001b[0mmode\u001b[0m\u001b[0;34m,\u001b[0m \u001b[0mbuffering\u001b[0m\u001b[0;34m=\u001b[0m\u001b[0;36m0\u001b[0m\u001b[0;34m)\u001b[0m\u001b[0;34m\u001b[0m\u001b[0;34m\u001b[0m\u001b[0m\n\u001b[0m\u001b[1;32m    397\u001b[0m \u001b[0;34m\u001b[0m\u001b[0m\n\u001b[1;32m    398\u001b[0m \u001b[0;34m\u001b[0m\u001b[0m\n",
      "\u001b[0;31mFileNotFoundError\u001b[0m: [Errno 2] No such file or directory: 'k'"
     ]
    }
   ],
   "source": [
    "planet_hunter(files=files[9], fmt='kepler.fits')"
   ]
  },
  {
   "cell_type": "code",
   "execution_count": 189,
   "metadata": {},
   "outputs": [],
   "source": [
    "K2 = {}\n",
    "campaigns = ['c01','c02','c03','c04','c05','c06','c07','c08','c102',\n",
    "             'c111','c12','c13','c14','c15','c16','c17','c18','c19']\n",
    "for campaign in campaigns:\n",
    "    K2[campaign] = [file for file in files if '-' + campaign + '_' in file]"
   ]
  },
  {
   "cell_type": "code",
   "execution_count": 192,
   "metadata": {},
   "outputs": [
    {
     "data": {
      "text/plain": [
       "['ktwo201498078-c14_llc.fits',\n",
       " 'ktwo248435473-c14_llc.fits',\n",
       " 'ktwo248545986-c14_llc.fits']"
      ]
     },
     "execution_count": 192,
     "metadata": {},
     "output_type": "execute_result"
    }
   ],
   "source": [
    "K2['c14']"
   ]
  },
  {
   "cell_type": "code",
   "execution_count": 198,
   "metadata": {},
   "outputs": [
    {
     "name": "stdout",
     "output_type": "stream",
     "text": [
      "transit_time: 2017-06-02T08:22:12.614\n",
      "transit_time: 2017-06-24T14:07:23.408\n",
      "transit_time: 2017-06-01T14:36:18.225\n"
     ]
    },
    {
     "data": {
      "image/png": "[encoded data removed]",
      "text/plain": [
       "<Figure size 792x360 with 1 Axes>"
      ]
     },
     "metadata": {},
     "output_type": "display_data"
    },
    {
     "data": {
      "image/png": "[encoded data removed]",
      "text/plain": [
       "<Figure size 792x360 with 1 Axes>"
      ]
     },
     "metadata": {},
     "output_type": "display_data"
    },
    {
     "data": {
      "image/png": "[encoded data removed]",
      "text/plain": [
       "<Figure size 792x360 with 1 Axes>"
      ]
     },
     "metadata": {},
     "output_type": "display_data"
    }
   ],
   "source": [
    "planet_hunter(file_list=K2['c14'], fmt='kepler.fits')"
   ]
  },
  {
   "cell_type": "code",
   "execution_count": 199,
   "metadata": {},
   "outputs": [
    {
     "data": {
      "text/plain": [
       "['ktwo229426032-c111_llc.fits']"
      ]
     },
     "execution_count": 199,
     "metadata": {},
     "output_type": "execute_result"
    }
   ],
   "source": [
    "K2['c111']"
   ]
  },
  {
   "cell_type": "code",
   "execution_count": 202,
   "metadata": {},
   "outputs": [
    {
     "name": "stdout",
     "output_type": "stream",
     "text": [
      "transit_time: 2016-09-30T09:28:34.948\n"
     ]
    },
    {
     "data": {
      "image/png": "[encoded data removed]",
      "text/plain": [
       "<Figure size 792x360 with 1 Axes>"
      ]
     },
     "metadata": {},
     "output_type": "display_data"
    }
   ],
   "source": [
    "planet_hunter(K2['c111'])"
   ]
  },
  {
   "cell_type": "markdown",
   "metadata": {},
   "source": [
    "### Fourier Periodogram"
   ]
  },
  {
   "cell_type": "code",
   "execution_count": 285,
   "metadata": {},
   "outputs": [],
   "source": [
    "file = K2['c12'][0]\n",
    "ts = TimeSeries.read(file, format='kepler.fits')"
   ]
  },
  {
   "cell_type": "code",
   "execution_count": 294,
   "metadata": {},
   "outputs": [
    {
     "data": {
      "text/html": [
       "<i>TimeSeries length=3599</i>\n",
       "<table id=\"table140684223782192\" class=\"table-striped table-bordered table-condensed\">\n",
       "<thead><tr><th>time</th><th>timecorr</th><th>cadenceno</th><th>sap_flux</th><th>sap_flux_err</th><th>sap_bkg</th><th>sap_bkg_err</th><th>pdcsap_flux</th><th>pdcsap_flux_err</th><th>sap_quality</th><th>psf_centr1</th><th>psf_centr1_err</th><th>psf_centr2</th><th>psf_centr2_err</th><th>mom_centr1</th><th>mom_centr1_err</th><th>mom_centr2</th><th>mom_centr2_err</th><th>pos_corr1</th><th>pos_corr2</th></tr></thead>\n",
       "<thead><tr><th></th><th>d</th><th></th><th>electron / s</th><th>electron / s</th><th>electron / s</th><th>electron / s</th><th>electron / s</th><th>electron / s</th><th></th><th>pix</th><th>pix</th><th>pix</th><th>pix</th><th>pix</th><th>pix</th><th>pix</th><th>pix</th><th>pix</th><th>pix</th></tr></thead>\n",
       "<thead><tr><th>object</th><th>float32</th><th>int32</th><th>float32</th><th>float32</th><th>float32</th><th>float32</th><th>float32</th><th>float32</th><th>int32</th><th>float64</th><th>float32</th><th>float64</th><th>float32</th><th>float64</th><th>float32</th><th>float64</th><th>float32</th><th>float32</th><th>float32</th></tr></thead>\n",
       "<tr><td>2016-12-15T21:02:47.381</td><td>5.039264e-03</td><td>136855</td><td>4.1193602e+04</td><td>6.0429826e+00</td><td>1.8712344e+03</td><td>8.9095551e-01</td><td>nan</td><td>nan</td><td>10000000000000000000</td><td>1044.73196</td><td>7.6680488e-05</td><td>247.88943</td><td>8.3006111e-05</td><td>1044.78822</td><td>2.0011830e-04</td><td>247.93401</td><td>1.6174708e-04</td><td>-1.2001304e-01</td><td>-1.7544615e-01</td></tr>\n",
       "<tr><td>2016-12-15T21:32:12.721</td><td>5.037833e-03</td><td>136856</td><td>4.1070230e+04</td><td>6.0351734e+00</td><td>1.8742091e+03</td><td>8.8381660e-01</td><td>4.2273715e+04</td><td>6.7905793e+00</td><td>0</td><td>1044.69823</td><td>7.5580479e-05</td><td>247.88943</td><td>8.2519917e-05</td><td>1044.74637</td><td>2.0143474e-04</td><td>247.93612</td><td>1.6180836e-04</td><td>-1.5872276e-01</td><td>-1.7225918e-01</td></tr>\n",
       "<tr><td>2016-12-15T22:01:38.060</td><td>5.036402e-03</td><td>136857</td><td>4.0906270e+04</td><td>6.0280766e+00</td><td>1.8710625e+03</td><td>8.8939810e-01</td><td>4.2278039e+04</td><td>6.7842360e+00</td><td>0</td><td>1044.66626</td><td>7.4959280e-05</td><td>247.88706</td><td>8.1610408e-05</td><td>1044.70640</td><td>2.0272918e-04</td><td>247.93580</td><td>1.6192219e-04</td><td>-1.9644962e-01</td><td>-1.7266949e-01</td></tr>\n",
       "<tr><td>2016-12-15T22:31:03.400</td><td>5.034972e-03</td><td>136858</td><td>4.0717684e+04</td><td>6.0173841e+00</td><td>1.8714913e+03</td><td>8.8563567e-01</td><td>4.2278801e+04</td><td>6.7740507e+00</td><td>0</td><td>1044.63530</td><td>7.4929434e-05</td><td>247.88493</td><td>8.1180755e-05</td><td>1044.66582</td><td>2.0419457e-04</td><td>247.93641</td><td>1.6213245e-04</td><td>-2.3700853e-01</td><td>-1.7370421e-01</td></tr>\n",
       "<tr><td>2016-12-15T23:00:28.739</td><td>5.033540e-03</td><td>136859</td><td>4.0530891e+04</td><td>6.0056615e+00</td><td>1.8699783e+03</td><td>8.8599199e-01</td><td>4.2287793e+04</td><td>6.7613697e+00</td><td>0</td><td>1044.60868</td><td>7.5598618e-05</td><td>247.88173</td><td>8.0864862e-05</td><td>1044.62977</td><td>2.0538218e-04</td><td>247.93548</td><td>1.6222682e-04</td><td>-2.7483684e-01</td><td>-1.7599967e-01</td></tr>\n",
       "<tr><td>2016-12-15T23:29:54.078</td><td>5.032107e-03</td><td>136860</td><td>4.0304152e+04</td><td>5.9918852e+00</td><td>1.8721565e+03</td><td>8.9183956e-01</td><td>4.2286965e+04</td><td>6.7461653e+00</td><td>0</td><td>1044.58076</td><td>7.6703815e-05</td><td>247.87932</td><td>8.0754609e-05</td><td>1044.59185</td><td>2.0689185e-04</td><td>247.93478</td><td>1.6235519e-04</td><td>-3.1450313e-01</td><td>-1.7729656e-01</td></tr>\n",
       "<tr><td>2016-12-15T23:59:19.417</td><td>5.030674e-03</td><td>136861</td><td>4.0010156e+04</td><td>5.9751115e+00</td><td>1.8724093e+03</td><td>8.8285273e-01</td><td>4.2295219e+04</td><td>6.7277236e+00</td><td>0</td><td>1044.54891</td><td>7.8935547e-05</td><td>247.87691</td><td>8.1059989e-05</td><td>1044.55061</td><td>2.0849673e-04</td><td>247.93444</td><td>1.6243455e-04</td><td>-3.6036032e-01</td><td>-1.7810458e-01</td></tr>\n",
       "<tr><td>2016-12-16T00:28:44.757</td><td>5.029241e-03</td><td>136862</td><td>3.9627641e+04</td><td>5.9541502e+00</td><td>1.8733802e+03</td><td>8.8760543e-01</td><td>4.2283094e+04</td><td>6.7036772e+00</td><td>0</td><td>1044.51006</td><td>8.5294800e-05</td><td>247.87450</td><td>8.1045924e-05</td><td>1044.50503</td><td>2.1058969e-04</td><td>247.93268</td><td>1.6254731e-04</td><td>-4.1248348e-01</td><td>-1.7951110e-01</td></tr>\n",
       "<tr><td>2016-12-16T00:58:10.096</td><td>5.027806e-03</td><td>136863</td><td>3.9297160e+04</td><td>5.9342833e+00</td><td>1.8695597e+03</td><td>8.9476323e-01</td><td>4.2298746e+04</td><td>6.6812053e+00</td><td>0</td><td>1044.47802</td><td>8.7257868e-05</td><td>247.87470</td><td>8.0338876e-05</td><td>1044.46874</td><td>2.1191925e-04</td><td>247.93355</td><td>1.6249633e-04</td><td>-4.5238695e-01</td><td>-1.8015733e-01</td></tr>\n",
       "<tr><td>...</td><td>...</td><td>...</td><td>...</td><td>...</td><td>...</td><td>...</td><td>...</td><td>...</td><td>...</td><td>...</td><td>...</td><td>...</td><td>...</td><td>...</td><td>...</td><td>...</td><td>...</td><td>...</td><td>...</td></tr>\n",
       "<tr><td>2017-03-04T13:54:56.155</td><td>-2.299411e-03</td><td>140707</td><td>4.1327039e+04</td><td>6.3228011e+00</td><td>6.1943755e+03</td><td>1.0192469e+00</td><td>4.2072453e+04</td><td>7.1368809e+00</td><td>0</td><td>1044.62017</td><td>7.9154939e-05</td><td>248.00828</td><td>1.0340003e-04</td><td>1044.66884</td><td>2.3676989e-04</td><td>248.01733</td><td>1.8100327e-04</td><td>-2.4516888e-01</td><td>-6.2465921e-02</td></tr>\n",
       "<tr><td>2017-03-04T14:24:21.475</td><td>-2.301166e-03</td><td>140708</td><td>4.1076043e+04</td><td>6.3076415e+00</td><td>6.2030005e+03</td><td>1.0152832e+00</td><td>4.2091223e+04</td><td>7.1200075e+00</td><td>0</td><td>1044.57470</td><td>8.0348334e-05</td><td>248.00426</td><td>1.0364551e-04</td><td>1044.61398</td><td>2.3924214e-04</td><td>248.01456</td><td>1.8106561e-04</td><td>-2.9970285e-01</td><td>-6.6795357e-02</td></tr>\n",
       "<tr><td>2017-03-04T14:53:46.778</td><td>-2.302920e-03</td><td>140709</td><td>4.0792160e+04</td><td>6.2949266e+00</td><td>6.2083848e+03</td><td>1.0226250e+00</td><td>4.2130727e+04</td><td>7.1058512e+00</td><td>0</td><td>1044.53166</td><td>8.2554332e-05</td><td>248.00320</td><td>1.0385817e-04</td><td>1044.56280</td><td>2.4149536e-04</td><td>248.01269</td><td>1.8102389e-04</td><td>-3.4988859e-01</td><td>-6.8996660e-02</td></tr>\n",
       "<tr><td>2017-03-04T15:23:12.098</td><td>-2.304675e-03</td><td>140710</td><td>4.0562824e+04</td><td>6.2795382e+00</td><td>6.2102607e+03</td><td>1.0207943e+00</td><td>4.2125883e+04</td><td>7.0881996e+00</td><td>0</td><td>1044.50116</td><td>8.5300067e-05</td><td>247.99876</td><td>1.0261613e-04</td><td>1044.52828</td><td>2.4319960e-04</td><td>248.00921</td><td>1.8101215e-04</td><td>-3.8430095e-01</td><td>-7.3335603e-02</td></tr>\n",
       "<tr><td>2017-03-04T15:52:37.410</td><td>-2.306429e-03</td><td>140711</td><td>4.0054184e+04</td><td>6.2550631e+00</td><td>6.2197041e+03</td><td>1.0188305e+00</td><td>4.2129746e+04</td><td>7.0602970e+00</td><td>0</td><td>1044.44116</td><td>8.8324654e-05</td><td>247.99708</td><td>1.0062585e-04</td><td>1044.45991</td><td>2.4660854e-04</td><td>248.00565</td><td>1.8105516e-04</td><td>-4.5459068e-01</td><td>-7.6170661e-02</td></tr>\n",
       "<tr><td>2017-03-04T16:22:02.721</td><td>-2.308182e-03</td><td>140712</td><td>3.9647863e+04</td><td>6.2340827e+00</td><td>6.2234658e+03</td><td>1.0208987e+00</td><td>4.2117914e+04</td><td>7.0351114e+00</td><td>0</td><td>1044.40039</td><td>9.1926115e-05</td><td>247.99993</td><td>1.0032655e-04</td><td>1044.41655</td><td>2.4893330e-04</td><td>248.00468</td><td>1.8102267e-04</td><td>-5.0047451e-01</td><td>-7.6406121e-02</td></tr>\n",
       "<tr><td>2017-03-04T16:51:28.033</td><td>-2.309935e-03</td><td>140713</td><td>3.9057035e+04</td><td>6.1987233e+00</td><td>6.2272920e+03</td><td>1.0191098e+00</td><td>4.2107957e+04</td><td>6.9933457e+00</td><td>0</td><td>1044.34332</td><td>9.7515236e-05</td><td>247.99816</td><td>9.8405333e-05</td><td>1044.35997</td><td>2.5209223e-04</td><td>248.00100</td><td>1.8102121e-04</td><td>-5.6134641e-01</td><td>-7.9684205e-02</td></tr>\n",
       "<tr><td>2017-03-04T17:20:53.336</td><td>-2.311688e-03</td><td>140714</td><td>3.8509004e+04</td><td>6.1716971e+00</td><td>6.2317559e+03</td><td>1.0198914e+00</td><td>4.2126242e+04</td><td>6.9604058e+00</td><td>0</td><td>1044.29464</td><td>1.0755614e-04</td><td>247.99510</td><td>9.8385965e-05</td><td>1044.31338</td><td>2.5485660e-04</td><td>247.99790</td><td>1.8100260e-04</td><td>-6.1245626e-01</td><td>-8.2511947e-02</td></tr>\n",
       "<tr><td>2017-03-04T17:50:18.647</td><td>-2.313440e-03</td><td>140715</td><td>3.7831910e+04</td><td>6.1341586e+00</td><td>6.2368359e+03</td><td>1.0223651e+00</td><td>4.2139074e+04</td><td>6.9169908e+00</td><td>0</td><td>1044.23731</td><td>1.1981227e-04</td><td>247.99578</td><td>9.8557393e-05</td><td>1044.26537</td><td>2.5796544e-04</td><td>247.99602</td><td>1.8103182e-04</td><td>-6.6729444e-01</td><td>-8.4261179e-02</td></tr>\n",
       "<tr><td>2017-03-04T18:19:43.968</td><td>-2.315192e-03</td><td>140716</td><td>3.6781031e+04</td><td>6.0781231e+00</td><td>6.2426479e+03</td><td>1.0226895e+00</td><td>4.2184676e+04</td><td>6.8496237e+00</td><td>10000000000000000000</td><td>1044.14781</td><td>1.2670984e-04</td><td>247.99870</td><td>9.8585522e-05</td><td>1044.20239</td><td>2.6226469e-04</td><td>247.99328</td><td>1.8115948e-04</td><td>-7.3946899e-01</td><td>-8.6407945e-02</td></tr>\n",
       "</table>"
      ],
      "text/plain": [
       "<TimeSeries length=3599>\n",
       "          time             timecorr   ...   pos_corr1      pos_corr2   \n",
       "                              d       ...      pix            pix      \n",
       "         object            float32    ...    float32        float32    \n",
       "----------------------- ------------- ... -------------- --------------\n",
       "2016-12-15T21:02:47.381  5.039264e-03 ... -1.2001304e-01 -1.7544615e-01\n",
       "2016-12-15T21:32:12.721  5.037833e-03 ... -1.5872276e-01 -1.7225918e-01\n",
       "2016-12-15T22:01:38.060  5.036402e-03 ... -1.9644962e-01 -1.7266949e-01\n",
       "2016-12-15T22:31:03.400  5.034972e-03 ... -2.3700853e-01 -1.7370421e-01\n",
       "2016-12-15T23:00:28.739  5.033540e-03 ... -2.7483684e-01 -1.7599967e-01\n",
       "2016-12-15T23:29:54.078  5.032107e-03 ... -3.1450313e-01 -1.7729656e-01\n",
       "2016-12-15T23:59:19.417  5.030674e-03 ... -3.6036032e-01 -1.7810458e-01\n",
       "2016-12-16T00:28:44.757  5.029241e-03 ... -4.1248348e-01 -1.7951110e-01\n",
       "2016-12-16T00:58:10.096  5.027806e-03 ... -4.5238695e-01 -1.8015733e-01\n",
       "                    ...           ... ...            ...            ...\n",
       "2017-03-04T13:54:56.155 -2.299411e-03 ... -2.4516888e-01 -6.2465921e-02\n",
       "2017-03-04T14:24:21.475 -2.301166e-03 ... -2.9970285e-01 -6.6795357e-02\n",
       "2017-03-04T14:53:46.778 -2.302920e-03 ... -3.4988859e-01 -6.8996660e-02\n",
       "2017-03-04T15:23:12.098 -2.304675e-03 ... -3.8430095e-01 -7.3335603e-02\n",
       "2017-03-04T15:52:37.410 -2.306429e-03 ... -4.5459068e-01 -7.6170661e-02\n",
       "2017-03-04T16:22:02.721 -2.308182e-03 ... -5.0047451e-01 -7.6406121e-02\n",
       "2017-03-04T16:51:28.033 -2.309935e-03 ... -5.6134641e-01 -7.9684205e-02\n",
       "2017-03-04T17:20:53.336 -2.311688e-03 ... -6.1245626e-01 -8.2511947e-02\n",
       "2017-03-04T17:50:18.647 -2.313440e-03 ... -6.6729444e-01 -8.4261179e-02\n",
       "2017-03-04T18:19:43.968 -2.315192e-03 ... -7.3946899e-01 -8.6407945e-02"
      ]
     },
     "execution_count": 294,
     "metadata": {},
     "output_type": "execute_result"
    }
   ],
   "source": [
    "ts"
   ]
  },
  {
   "cell_type": "code",
   "execution_count": 292,
   "metadata": {},
   "outputs": [
    {
     "ename": "AttributeError",
     "evalue": "'tuple' object has no attribute 'power'",
     "output_type": "error",
     "traceback": [
      "\u001b[0;31m---------------------------------------------------------------------------\u001b[0m",
      "\u001b[0;31mAttributeError\u001b[0m                            Traceback (most recent call last)",
      "\u001b[0;32m<ipython-input-292-4e60e26a3dfb>\u001b[0m in \u001b[0;36m<module>\u001b[0;34m\u001b[0m\n\u001b[1;32m      3\u001b[0m \u001b[0;32mfrom\u001b[0m \u001b[0mastropy\u001b[0m\u001b[0;34m.\u001b[0m\u001b[0mtimeseries\u001b[0m \u001b[0;32mimport\u001b[0m \u001b[0mBoxLeastSquares\u001b[0m\u001b[0;34m\u001b[0m\u001b[0;34m\u001b[0m\u001b[0m\n\u001b[1;32m      4\u001b[0m \u001b[0mperiodogram\u001b[0m \u001b[0;34m=\u001b[0m \u001b[0mBoxLeastSquares\u001b[0m\u001b[0;34m.\u001b[0m\u001b[0mfrom_timeseries\u001b[0m\u001b[0;34m(\u001b[0m\u001b[0mts\u001b[0m\u001b[0;34m,\u001b[0m \u001b[0;34m'sap_flux'\u001b[0m\u001b[0;34m,\u001b[0m \u001b[0;34m'sap_flux_err'\u001b[0m\u001b[0;34m)\u001b[0m\u001b[0;34m\u001b[0m\u001b[0;34m\u001b[0m\u001b[0m\n\u001b[0;32m----> 5\u001b[0;31m \u001b[0mbest\u001b[0m \u001b[0;34m=\u001b[0m \u001b[0mnp\u001b[0m\u001b[0;34m.\u001b[0m\u001b[0margmax\u001b[0m\u001b[0;34m(\u001b[0m\u001b[0mresults\u001b[0m\u001b[0;34m.\u001b[0m\u001b[0mpower\u001b[0m\u001b[0;34m)\u001b[0m\u001b[0;34m\u001b[0m\u001b[0;34m\u001b[0m\u001b[0m\n\u001b[0m\u001b[1;32m      6\u001b[0m \u001b[0mperiod\u001b[0m \u001b[0;34m=\u001b[0m \u001b[0mresults\u001b[0m\u001b[0;34m.\u001b[0m\u001b[0mperiod\u001b[0m\u001b[0;34m[\u001b[0m\u001b[0mbest\u001b[0m\u001b[0;34m]\u001b[0m\u001b[0;34m\u001b[0m\u001b[0;34m\u001b[0m\u001b[0m\n\u001b[1;32m      7\u001b[0m \u001b[0mprint\u001b[0m\u001b[0;34m(\u001b[0m\u001b[0mperiod\u001b[0m\u001b[0;34m)\u001b[0m\u001b[0;34m\u001b[0m\u001b[0;34m\u001b[0m\u001b[0m\n",
      "\u001b[0;31mAttributeError\u001b[0m: 'tuple' object has no attribute 'power'"
     ]
    }
   ],
   "source": [
    "# Estimate period\n",
    "from astropy import units as u\n",
    "from astropy.timeseries import BoxLeastSquares\n",
    "periodogram = BoxLeastSquares.from_timeseries(ts, 'sap_flux', 'sap_flux_err')\n",
    "\n",
    "best = np.argmax(results.power)\n",
    "period = results.period[best]\n",
    "print(period)"
   ]
  },
  {
   "cell_type": "code",
   "execution_count": 293,
   "metadata": {},
   "outputs": [
    {
     "data": {
      "text/plain": [
       "<Time object: scale='tdb' format='isot' value=['2016-12-15T21:02:47.381' '2016-12-15T21:32:12.721'\n",
       " '2016-12-15T22:01:38.060' ... '2017-03-04T17:20:53.336'\n",
       " '2017-03-04T17:50:18.647' '2017-03-04T18:19:43.968']>"
      ]
     },
     "execution_count": 293,
     "metadata": {},
     "output_type": "execute_result"
    }
   ],
   "source": [
    "ts.time"
   ]
  },
  {
   "cell_type": "code",
   "execution_count": null,
   "metadata": {},
   "outputs": [],
   "source": []
  },
  {
   "cell_type": "markdown",
   "metadata": {},
   "source": [
    "## Import Negatives\n",
    "\n",
    "Negative candidate samples to make up the majority class (host stars with no confirmed planets). The pre-training component of our model is to perform triage by accurately detecting and classifying flux signals as: 1) artifacts 2) eclipsing binaries or 3) possible planet(s). Only the andidates scoring above a certain prediction threshold for TCE probability will be selected for the next step (vetting)."
   ]
  },
  {
   "cell_type": "markdown",
   "metadata": {},
   "source": [
    "📓 Time Series (at varying $\\phi$)"
   ]
  },
  {
   "cell_type": "markdown",
   "metadata": {},
   "source": [
    "### Spectral Cube"
   ]
  },
  {
   "cell_type": "code",
   "execution_count": null,
   "metadata": {},
   "outputs": [],
   "source": [
    "# !pip install astropy spectral-cube\n",
    "# !pip install astropy reproject\n",
    "\n",
    "import astropy.units as u\n",
    "\n",
    "from astropy.utils.data import download_file\n",
    "from astropy.io import fits  # We use fits to open the actual data file\n",
    "# from astropy.utils import data\n",
    "# data.conf.remote_timeout = 60\n",
    "from spectral_cube import SpectralCube\n",
    "from astroquery.esasky import ESASky\n",
    "from astroquery.utils import TableList\n",
    "from astropy.wcs import WCS\n",
    "from reproject import reproject_interp"
   ]
  },
  {
   "cell_type": "code",
   "execution_count": null,
   "metadata": {},
   "outputs": [],
   "source": [
    "# create astropy Table from pandas\n",
    "# t2 = Table.read('data.csv', format='pandas.csv', sep=' ', names=['a', 'b', 'c'])"
   ]
  },
  {
   "cell_type": "code",
   "execution_count": null,
   "metadata": {},
   "outputs": [],
   "source": []
  },
  {
   "cell_type": "markdown",
   "metadata": {},
   "source": [
    "### Spectrum 1D"
   ]
  },
  {
   "cell_type": "code",
   "execution_count": null,
   "metadata": {},
   "outputs": [],
   "source": [
    "# !pip install specutils"
   ]
  },
  {
   "cell_type": "code",
   "execution_count": 241,
   "metadata": {},
   "outputs": [],
   "source": [
    "from specutils import Spectrum1D\n",
    "\n",
    "spec1 = Spectrum1D(spectral_axis=np.arange(1, 50) * u.nm, flux=np.random.sample(49)*u.Jy)\n",
    "spec2 = Spectrum1D(spectral_axis=np.arange(1, 50) * u.nm, flux=np.random.sample(49)*u.Jy)\n",
    "spec3 = spec1 + spec2\n",
    "\n",
    "flux1 = np.asarray(spec1.flux)\n",
    "flux2 = np.asarray(spec2.flux)\n",
    "make_specgram(flux1)\n",
    "make_specgram(flux2)"
   ]
  },
  {
   "cell_type": "markdown",
   "metadata": {},
   "source": [
    "### Normalize flux to local continuum"
   ]
  },
  {
   "cell_type": "code",
   "execution_count": null,
   "metadata": {},
   "outputs": [],
   "source": [
    "# Normalize the flux to the local continuum\n",
    "# In this example we want to look at the time evolution of a single specific \n",
    "# emission line in the spectrum. In order to estimate the equivalent width or \n",
    "# make reasonable plots we need to normalize the flux to the local continuum. \n",
    "# In this specific case the emission line is bright and the continuum can be \n",
    "# described reasonably by a second-order polynomial.\n",
    "\n",
    "# So, we define two regions left and right of the emission line, where we fit \n",
    "# the polynomial. Looking at the figure, [3925*u.AA, 3930*u.AA] and \n",
    "# [3938*u.AA, 3945*u.AA] seem right for that. \n",
    "# Then, we normalize the flux by this polynomial.\n",
    "\n",
    "# The following function will do that:\n",
    "\n",
    "def region_around_line(w, flux, cont):\n",
    "    '''cut out and normalize flux around a line\n",
    "\n",
    "    Parameters\n",
    "    ----------\n",
    "    w : 1 dim np.ndarray\n",
    "    array of wavelengths\n",
    "    flux : np.ndarray of shape (N, len(w))\n",
    "    array of flux values for different spectra in the series\n",
    "    cont : list of lists\n",
    "    wavelengths for continuum normalization [[low1,up1],[low2, up2]]\n",
    "    that described two areas on both sides of the line\n",
    "    '''\n",
    "    #index is true in the region where we fit the polynomial\n",
    "    indcont = ((w > cont[0][0]) & (w < cont[0][1])) |((w > cont[1][0]) & (w < cont[1][1]))\n",
    "    #index of the region we want to return\n",
    "    indrange = (w > cont[0][0]) & (w < cont[1][1])\n",
    "    # make a flux array of shape\n",
    "    # (number of spectra, number of points in indrange)\n",
    "    f = np.zeros((flux.shape[0], indrange.sum()))\n",
    "    for i in range(flux.shape[0]):\n",
    "        # fit polynomial of second order to the continuum region\n",
    "        linecoeff = np.polyfit(w[indcont], flux[i, indcont], 2)\n",
    "        # divide the flux by the polynomial and put the result in our\n",
    "        # new flux array\n",
    "        f[i,:] = flux[i,indrange] / np.polyval(linecoeff, w[indrange].value)\n",
    "    return w[indrange], f\n",
    "\n",
    "wcaII, fcaII = region_around_line(wavelength, flux,\n",
    "    [[3925*u.AA, 3930*u.AA],[3938*u.AA, 3945*u.AA]])"
   ]
  },
  {
   "cell_type": "markdown",
   "metadata": {},
   "source": [
    "### Lightkurve"
   ]
  },
  {
   "cell_type": "code",
   "execution_count": null,
   "metadata": {},
   "outputs": [],
   "source": [
    "\n",
    "# !pip install lightkurve\n",
    "#import lightkurve as lk\n",
    "# Finding periodic signals\n",
    "# The lightkurve.periodogram module provides classes to help find periodic signals in light curves.\n",
    "\n",
    "# Periodogram(frequency, power[, nyquist, …])"
   ]
  },
  {
   "cell_type": "code",
   "execution_count": 252,
   "metadata": {},
   "outputs": [
    {
     "data": {
      "text/plain": [
       "[<matplotlib.lines.Line2D at 0x7ff5bf9e7278>]"
      ]
     },
     "execution_count": 252,
     "metadata": {},
     "output_type": "execute_result"
    },
    {
     "data": {
      "image/png": "[encoded data removed]",
      "text/plain": [
       "<Figure size 432x288 with 1 Axes>"
      ]
     },
     "metadata": {},
     "output_type": "display_data"
    }
   ],
   "source": [
    "from astropy.timeseries import LombScargle\n",
    "frequency, power = LombScargle.from_timeseries(ts, 'sap_flux').autopower(method='fast')\n",
    "plt.plot(frequency, power) "
   ]
  },
  {
   "cell_type": "code",
   "execution_count": 280,
   "metadata": {},
   "outputs": [
    {
     "data": {
      "image/png": "[encoded data removed]",
      "text/plain": [
       "<Figure size 432x288 with 1 Axes>"
      ]
     },
     "metadata": {},
     "output_type": "display_data"
    }
   ],
   "source": [
    "best = frequency[np.argmax(power)]\n",
    "fig= plt.figure()\n",
    "ax= plt.plot(frequency, power) \n",
    "\n",
    "plt.show()"
   ]
  },
  {
   "cell_type": "code",
   "execution_count": 233,
   "metadata": {},
   "outputs": [],
   "source": [
    "def fourier_periodogram(t, y):\n",
    "    N = len(t)\n",
    "    frequency = np.fft.fftfreq(N, t[1] - t[0])\n",
    "    y_fft = np.fft.fft(y.value) * y.unit\n",
    "    positive = (frequency > 0)\n",
    "    return frequency[positive], (1. / N) * abs(y_fft[positive]) ** 2"
   ]
  },
  {
   "cell_type": "markdown",
   "metadata": {},
   "source": [
    "## Peak Stastics"
   ]
  },
  {
   "cell_type": "code",
   "execution_count": null,
   "metadata": {},
   "outputs": [],
   "source": [
    "model = BoxLeastSquares(t * u.day, y, dy=0.01)\n",
    "periodogram = model.autopower(0.2)\n",
    "max_power = np.argmax(periodogram.power)\n",
    "stats = model.compute_stats(periodogram.period[max_power],\n",
    "                            periodogram.duration[max_power],\n",
    "                            periodogram.transit_time[max_power])"
   ]
  },
  {
   "cell_type": "markdown",
   "metadata": {},
   "source": [
    "# FITS image"
   ]
  },
  {
   "cell_type": "code",
   "execution_count": 317,
   "metadata": {},
   "outputs": [],
   "source": [
    "from astropy.visualization import astropy_mpl_style\n",
    "plt.style.use(astropy_mpl_style)"
   ]
  },
  {
   "cell_type": "code",
   "execution_count": 360,
   "metadata": {},
   "outputs": [],
   "source": [
    "image_data = fits.getdata('ktwo204890128-c02_llc.fits', ext=2)"
   ]
  },
  {
   "cell_type": "code",
   "execution_count": 361,
   "metadata": {},
   "outputs": [
    {
     "name": "stdout",
     "output_type": "stream",
     "text": [
      "(10, 11)\n"
     ]
    }
   ],
   "source": [
    "print(image_data.shape)"
   ]
  },
  {
   "cell_type": "code",
   "execution_count": 362,
   "metadata": {},
   "outputs": [
    {
     "data": {
      "text/plain": [
       "<matplotlib.colorbar.Colorbar at 0x7fa6eceafcd0>"
      ]
     },
     "execution_count": 362,
     "metadata": {},
     "output_type": "execute_result"
    },
    {
     "data": {
      "image/png": "[encoded data removed]",
      "text/plain": [
       "<Figure size 576x432 with 2 Axes>"
      ]
     },
     "metadata": {},
     "output_type": "display_data"
    }
   ],
   "source": [
    "plt.figure()\n",
    "plt.imshow(image_data, cmap='gray')\n",
    "plt.colorbar()"
   ]
  },
  {
   "cell_type": "code",
   "execution_count": 369,
   "metadata": {},
   "outputs": [
    {
     "data": {
      "text/plain": [
       "<matplotlib.colorbar.Colorbar at 0x7fa6ecb9b090>"
      ]
     },
     "execution_count": 369,
     "metadata": {},
     "output_type": "execute_result"
    },
    {
     "data": {
      "image/png": "[encoded data removed]",
      "text/plain": [
       "<Figure size 576x432 with 2 Axes>"
      ]
     },
     "metadata": {},
     "output_type": "display_data"
    }
   ],
   "source": [
    "plt.figure()\n",
    "plt.imshow(image_data, cmap='rainbow')\n",
    "plt.colorbar()"
   ]
  },
  {
   "cell_type": "code",
   "execution_count": 375,
   "metadata": {},
   "outputs": [],
   "source": [
    "# !pip install spectral_cube"
   ]
  },
  {
   "cell_type": "code",
   "execution_count": 374,
   "metadata": {},
   "outputs": [],
   "source": [
    "from spectral_cube import SpectralCube\n",
    "\n",
    "from astroquery.esasky import ESASky\n",
    "from astroquery.utils import TableList\n",
    "from astropy.wcs import WCS\n"
   ]
  },
  {
   "cell_type": "code",
   "execution_count": 378,
   "metadata": {},
   "outputs": [],
   "source": [
    "# cube = SpectralCube.read('')"
   ]
  },
  {
   "cell_type": "markdown",
   "metadata": {},
   "source": [
    "# Model"
   ]
  },
  {
   "cell_type": "code",
   "execution_count": null,
   "metadata": {},
   "outputs": [],
   "source": [
    "# Uncomment below to install\n",
    "# !pip install xgboost\n",
    "# !pip install keras\n",
    "# !pip install tensorflow\n",
    "# !pip install imblearn"
   ]
  },
  {
   "cell_type": "code",
   "execution_count": null,
   "metadata": {},
   "outputs": [],
   "source": [
    "### <---- IMPORT LIBRARIES ----> ####\n",
    "\n",
    "## Preprocessing\n",
    "# from imblearn.over_sampling import SMOTE # For imbalanced datasets\n",
    "# from sklearn import preprocessing, linear_model, datasets, metrics\n",
    "# from sklearn.preprocessing import StandardScaler\n",
    "# from sklearn.externals import joblib\n",
    "# import scipy.ndimage\n",
    "# from scipy.ndimage import convolve\n",
    "# from scipy.ndimage.filters import uniform_filter1d\n",
    "# from sklearn.base import clone\n",
    "# import random\n",
    "#\n",
    "## Data Pipeline - Model Selection\n",
    "# from imblearn.pipeline import make_pipeline, Pipeline\n",
    "# from sklearn.pipeline import Pipeline\n",
    "# from sklearn.model_selection import train_test_split\n",
    "# from sklearn.model_selection import GridSearchCV\n",
    "# from sklearn.model_selection import StratifiedKFold\n",
    "#\n",
    "## Machine learning libraries\n",
    "#\n",
    "# from sklearn.linear_model import LinearRegression\n",
    "# from sklearn.linear_model import LogisticRegression\n",
    "# from sklearn.decomposition import PCA\n",
    "# from sklearn import svm\n",
    "# from sklearn.svm import SVC\n",
    "# from sklearn.svm import LinearSVC\n",
    "# from sklearn import tree\n",
    "# from sklearn.tree import DecisionTreeClassifier \n",
    "# from sklearn.tree import export_graphviz \n",
    "# from pydotplus import graph_from_dot_data\n",
    "# from sklearn.ensemble import RandomForestClassifier\n",
    "# from sklearn.ensemble import AdaBoostClassifier\n",
    "# from xgboost import XGBClassifier\n",
    "#\n",
    "## Neural Networks\n",
    "#\n",
    "# KERAS\n",
    "# from keras.utils.np_utils import to_categorical\n",
    "# from keras.preprocessing.text import Tokenizer\n",
    "# from keras import models, layers, optimizers\n",
    "# from keras.models import Sequential, Model\n",
    "# from keras.layers import Conv1D, MaxPool1D, Dense, Dropout, Flatten, \\\n",
    "# BatchNormalization, Input, concatenate, Activation\n",
    "# from keras.optimizers import Adam\n",
    "# \n",
    "# RBM\n",
    "# from sklearn.neural_network import BernoulliRBM\n",
    "#\n",
    "## Model Evaluation\n",
    "# from sklearn.metrics import accuracy_score,roc_curve,auc,roc_auc_score, \\\n",
    "# average_precision_score, recall_score,precision_score,f1_score, \\\n",
    "# classification_report, make_scorer, confusion_matrix"
   ]
  },
  {
   "cell_type": "code",
   "execution_count": null,
   "metadata": {},
   "outputs": [],
   "source": []
  },
  {
   "cell_type": "markdown",
   "metadata": {},
   "source": [
    "# Signal Analysis - CNNs"
   ]
  },
  {
   "cell_type": "markdown",
   "metadata": {},
   "source": [
    "### Bidirectional LSTM"
   ]
  },
  {
   "cell_type": "code",
   "execution_count": null,
   "metadata": {},
   "outputs": [],
   "source": [
    "\n",
    "from keras.preprocessing.sequence import pad_sequences\n",
    "from keras.layers import Input, Dense, LSTM, Embedding\n",
    "from keras.layers import Dropout, Activation, Bidirectional, GlobalMaxPool1D\n",
    "from keras.models import Model\n",
    "from keras import initializers, regularizers, constraints, optimizers, layers\n",
    "from keras.preprocessing import text, sequence\n",
    "from keras.callbacks import ModelCheckpoint\n",
    "from keras.callbacks import EarlyStopping"
   ]
  },
  {
   "cell_type": "code",
   "execution_count": null,
   "metadata": {},
   "outputs": [],
   "source": []
  },
  {
   "cell_type": "code",
   "execution_count": null,
   "metadata": {},
   "outputs": [],
   "source": []
  },
  {
   "cell_type": "markdown",
   "metadata": {},
   "source": [
    "# Image Analysis - Keras CNN"
   ]
  },
  {
   "cell_type": "code",
   "execution_count": 3,
   "metadata": {
    "ExecuteTime": {
     "end_time": "2020-08-26T00:20:32.373558Z",
     "start_time": "2020-08-26T00:20:32.353510Z"
    }
   },
   "outputs": [
    {
     "data": {
      "text/plain": [
       "['test', 'train']"
      ]
     },
     "execution_count": 3,
     "metadata": {},
     "output_type": "execute_result"
    }
   ],
   "source": [
    "import os, glob, sys\n",
    "from os import path\n",
    "\n",
    "base_folder = r'specs/'\n",
    "os.listdir(base_folder)"
   ]
  },
  {
   "cell_type": "code",
   "execution_count": 4,
   "metadata": {
    "ExecuteTime": {
     "end_time": "2020-08-26T00:20:33.830928Z",
     "start_time": "2020-08-26T00:20:33.824230Z"
    }
   },
   "outputs": [],
   "source": [
    "train_base_dir = base_folder+'train/'\n",
    "test_base_dir = base_folder+'test/'\n",
    "\n",
    "train_planets_dir = train_base_dir+'planets/'\n",
    "train_negatives_dir = train_base_dir+'negatives/'\n",
    "\n",
    "test_planets_dir = test_base_dir+'planets/'\n",
    "test_negatives_dir = test_base_dir+'negatives/'"
   ]
  },
  {
   "cell_type": "code",
   "execution_count": 5,
   "metadata": {
    "ExecuteTime": {
     "end_time": "2020-08-26T00:20:37.578563Z",
     "start_time": "2020-08-26T00:20:37.567199Z"
    }
   },
   "outputs": [],
   "source": [
    "planet_train_files = glob.glob(train_planets_dir+'*.png')\n",
    "negative_train_files = glob.glob(train_negatives_dir+'*.png')\n",
    "all_train_files = [*planet_train_files, *negative_train_files]\n",
    "\n",
    "planet_test_files = glob.glob(test_planets_dir+'*.png')\n",
    "negative_test_files = glob.glob(test_negatives_dir+'*.png')\n",
    "all_test_files = [*planet_test_files, *negative_test_files]\n",
    "\n",
    "all_filename_vars = [planet_train_files, negative_train_files,\n",
    "                     planet_test_files, negative_test_files]"
   ]
  },
  {
   "cell_type": "code",
   "execution_count": 6,
   "metadata": {
    "ExecuteTime": {
     "end_time": "2020-08-26T01:16:58.043305Z",
     "start_time": "2020-08-26T01:16:58.035253Z"
    }
   },
   "outputs": [],
   "source": [
    "def load_img_cv2(filename, RGB=True):\n",
    "    import cv2\n",
    "    IMG = cv2.imread(filename)\n",
    "    \n",
    "    if RGB: \n",
    "        cmap = cv2.COLOR_BGR2RGB\n",
    "    \n",
    "    else:\n",
    "        cmap=cv2.COLOR_BGR2GRAY\n",
    "        \n",
    "    return cv2.cvtColor(IMG, cmap)\n"
   ]
  },
  {
   "cell_type": "code",
   "execution_count": 7,
   "metadata": {
    "ExecuteTime": {
     "end_time": "2020-08-26T01:42:42.102335Z",
     "start_time": "2020-08-26T01:42:42.092549Z"
    }
   },
   "outputs": [
    {
     "name": "stderr",
     "output_type": "stream",
     "text": [
      "Using TensorFlow backend.\n"
     ]
    }
   ],
   "source": [
    "from PIL import Image\n",
    "from keras.preprocessing import image\n",
    "from imageio import imread\n",
    "from skimage.transform import resize\n",
    "from tqdm import tqdm\n",
    "\n",
    "# defining a function to read images and convert to array\n",
    "def read_img(img_path, target_size=(8,8)):\n",
    "    #img = load_img_cv2(img_path)\n",
    "    #img = image.img_to_array(img)\n",
    "    img = image.load_img(img_path, target_size=target_size, interpolation='bilinear')\n",
    "    img = image.img_to_array(img)\n",
    "    return img"
   ]
  },
  {
   "cell_type": "code",
   "execution_count": 8,
   "metadata": {
    "ExecuteTime": {
     "end_time": "2020-08-26T01:42:44.240727Z",
     "start_time": "2020-08-26T01:42:44.228056Z"
    }
   },
   "outputs": [],
   "source": [
    "# Read in training and test filenames to produce X and y data splits.\n",
    "\n",
    "def xy_arrays(planet_train_filenames, negative_train_filenames, \n",
    "              planet_test_filenames, negative_test_filenames, \n",
    "              img_size=(8,8)):\n",
    "    # y labels are encoded as 0=negatives, 1=planets\n",
    "    # returns X_train, X_test, y_train, y_test, y_val\n",
    "    \n",
    "    import numpy as np\n",
    "    \n",
    "    display('[i] LOADING IMAGES')\n",
    "    X_img = []\n",
    "    y_label = []\n",
    "    \n",
    "    for img_path in tqdm(planet_train_files):\n",
    "        X_img.append(read_img(img_path, target_size=img_size))\n",
    "        y_label.append(1)\n",
    "        \n",
    "    for img_path in tqdm(negative_train_files):\n",
    "        X_img.append(read_img(img_path, target_size=img_size))\n",
    "        y_label.append(0)\n",
    "    \n",
    "    for img_path in tqdm(planet_test_files):\n",
    "        X_img.append(read_img(img_path, target_size=img_size))\n",
    "        y_label.append(1)\n",
    "        \n",
    "    for img_path in tqdm(negative_test_files):\n",
    "        X_img.append(read_img(img_path, target_size=img_size))\n",
    "        y_label.append(0)\n",
    "        \n",
    "    from sklearn.model_selection import train_test_split\n",
    "    X = np.array(X_img, np.float32)\n",
    "    y = np.array(y_label)\n",
    "    \n",
    "    return X, y"
   ]
  },
  {
   "cell_type": "code",
   "execution_count": 11,
   "metadata": {
    "ExecuteTime": {
     "end_time": "2020-08-26T01:43:24.529979Z",
     "start_time": "2020-08-26T01:43:23.219553Z"
    }
   },
   "outputs": [
    {
     "data": {
      "text/plain": [
       "'[i] LOADING IMAGES'"
      ]
     },
     "metadata": {},
     "output_type": "display_data"
    },
    {
     "name": "stderr",
     "output_type": "stream",
     "text": [
      "100%|██████████| 37/37 [00:00<00:00, 87.01it/s]\n",
      "100%|██████████| 37/37 [00:00<00:00, 99.42it/s]\n",
      "100%|██████████| 5/5 [00:00<00:00, 68.97it/s]\n",
      "100%|██████████| 5/5 [00:00<00:00, 48.90it/s]\n"
     ]
    }
   ],
   "source": [
    "X, y = xy_arrays(planet_train_files, negative_train_files, \n",
    "              planet_test_files, negative_test_files, \n",
    "              img_size=(64,64,3))"
   ]
  },
  {
   "cell_type": "code",
   "execution_count": 12,
   "metadata": {
    "ExecuteTime": {
     "end_time": "2020-08-26T01:43:25.452360Z",
     "start_time": "2020-08-26T01:43:25.443229Z"
    }
   },
   "outputs": [
    {
     "data": {
      "text/plain": [
       "((84, 64, 64, 3), (84,))"
      ]
     },
     "execution_count": 12,
     "metadata": {},
     "output_type": "execute_result"
    }
   ],
   "source": [
    "X.shape, y.shape"
   ]
  },
  {
   "cell_type": "code",
   "execution_count": 15,
   "metadata": {
    "ExecuteTime": {
     "end_time": "2020-08-26T01:43:40.056805Z",
     "start_time": "2020-08-26T01:43:40.046668Z"
    }
   },
   "outputs": [
    {
     "data": {
      "text/plain": [
       "array([[254., 229., 222.],\n",
       "       [251., 150., 119.],\n",
       "       [251., 143., 108.],\n",
       "       [157.,  92.,  74.],\n",
       "       [ 20.,  20.,  24.],\n",
       "       [ 22.,  20.,  25.],\n",
       "       [163.,  73.,  79.],\n",
       "       [237., 100., 107.],\n",
       "       [238., 104., 107.],\n",
       "       [248., 130., 106.],\n",
       "       [250., 136., 106.],\n",
       "       [242., 120., 108.],\n",
       "       [228.,  91., 113.],\n",
       "       [228.,  90., 113.],\n",
       "       [220.,  84., 117.],\n",
       "       [214.,  81., 120.],\n",
       "       [211.,  80., 121.],\n",
       "       [184.,  69., 131.],\n",
       "       [177.,  66., 134.],\n",
       "       [186.,  70., 130.],\n",
       "       [218.,  84., 118.],\n",
       "       [221.,  85., 117.],\n",
       "       [215.,  82., 120.],\n",
       "       [208.,  77., 124.],\n",
       "       [207.,  77., 124.],\n",
       "       [171.,  64., 133.],\n",
       "       [153.,  59., 138.],\n",
       "       [156.,  59., 137.],\n",
       "       [175.,  66., 134.],\n",
       "       [178.,  66., 133.],\n",
       "       [192.,  72., 128.],\n",
       "       [215.,  81., 120.],\n",
       "       [214.,  81., 120.],\n",
       "       [180.,  68., 130.],\n",
       "       [159.,  60., 137.],\n",
       "       [166.,  65., 134.],\n",
       "       [230., 106., 109.],\n",
       "       [245., 116., 104.],\n",
       "       [247., 131., 110.],\n",
       "       [253., 180., 131.],\n",
       "       [254., 184., 132.],\n",
       "       [201., 125., 135.],\n",
       "       [136.,  53., 139.],\n",
       "       [138.,  57., 140.],\n",
       "       [216., 190., 177.],\n",
       "       [251., 250., 194.],\n",
       "       [251., 249., 193.],\n",
       "       [252., 243., 186.],\n",
       "       [252., 242., 185.],\n",
       "       [229., 190., 170.],\n",
       "       [175.,  69., 136.],\n",
       "       [174.,  67., 135.],\n",
       "       [225., 157., 145.],\n",
       "       [254., 207., 151.],\n",
       "       [254., 208., 152.],\n",
       "       [253., 222., 165.],\n",
       "       [253., 224., 167.],\n",
       "       [241., 188., 157.],\n",
       "       [205.,  82., 127.],\n",
       "       [203.,  75., 126.],\n",
       "       [224.,  99., 115.],\n",
       "       [247., 124., 104.],\n",
       "       [247., 128., 109.],\n",
       "       [252., 212., 206.]], dtype=float32)"
      ]
     },
     "execution_count": 15,
     "metadata": {},
     "output_type": "execute_result"
    }
   ],
   "source": [
    "X[0][1]"
   ]
  },
  {
   "cell_type": "code",
   "execution_count": 159,
   "metadata": {
    "ExecuteTime": {
     "end_time": "2020-08-26T01:43:26.679487Z",
     "start_time": "2020-08-26T01:43:26.667173Z"
    }
   },
   "outputs": [],
   "source": [
    "# Authors: Yann N. Dauphin, Vlad Niculae, Gabriel Synnaeve\n",
    "# License: BSD\n",
    "\n",
    "# #############################################################################\n",
    "# Setting up\n",
    "\n",
    "def nudge_dataset(X, Y):\n",
    "    \"\"\"\n",
    "    This produces a dataset 5 times bigger than the original one,\n",
    "    by moving the 8x8 images in X around by 1px to left, right, down, up\n",
    "    \"\"\"\n",
    "    direction_vectors = [\n",
    "        [[0, 1, 0],\n",
    "         [0, 0, 0],\n",
    "         [0, 0, 0]],\n",
    "\n",
    "        [[0, 0, 0],\n",
    "         [1, 0, 0],\n",
    "         [0, 0, 0]],\n",
    "\n",
    "        [[0, 0, 0],\n",
    "         [0, 0, 1],\n",
    "         [0, 0, 0]],\n",
    "\n",
    "        [[0, 0, 0],\n",
    "         [0, 0, 0],\n",
    "         [0, 1, 0]]]\n",
    "\n",
    "    def shift(x, w):\n",
    "        return convolve(x.reshape((8, 8)), mode='constant', weights=w).ravel()\n",
    "\n",
    "    X = np.concatenate([X] +\n",
    "                       [np.apply_along_axis(shift, 1, X, vector)\n",
    "                        for vector in direction_vectors])\n",
    "    Y = np.concatenate([Y for _ in range(5)], axis=0)\n",
    "    return X, Y"
   ]
  },
  {
   "cell_type": "code",
   "execution_count": 160,
   "metadata": {
    "ExecuteTime": {
     "end_time": "2020-08-26T01:43:30.484726Z",
     "start_time": "2020-08-26T01:43:27.760586Z"
    }
   },
   "outputs": [],
   "source": [
    "X, Y = nudge_dataset(X, y)"
   ]
  },
  {
   "cell_type": "code",
   "execution_count": 170,
   "metadata": {
    "ExecuteTime": {
     "end_time": "2020-08-26T01:44:36.409658Z",
     "start_time": "2020-08-26T01:44:36.400620Z"
    }
   },
   "outputs": [
    {
     "data": {
      "text/plain": [
       "(420, 64, 64, 3)"
      ]
     },
     "execution_count": 170,
     "metadata": {},
     "output_type": "execute_result"
    }
   ],
   "source": [
    "X.shape"
   ]
  },
  {
   "cell_type": "code",
   "execution_count": 161,
   "metadata": {
    "ExecuteTime": {
     "end_time": "2020-08-26T01:43:30.532963Z",
     "start_time": "2020-08-26T01:43:30.505003Z"
    }
   },
   "outputs": [
    {
     "data": {
      "text/plain": [
       "array([1, 1, 1, 1, 1, 1, 1, 1, 1, 1, 1, 1, 1, 1, 1, 1, 1, 1, 1, 1, 1, 1,\n",
       "       1, 1, 1, 1, 1, 1, 1, 1, 1, 1, 1, 1, 1, 1, 1, 0, 0, 0, 0, 0, 0, 0,\n",
       "       0, 0, 0, 0, 0, 0, 0, 0, 0, 0, 0, 0, 0, 0, 0, 0, 0, 0, 0, 0, 0, 0,\n",
       "       0, 0, 0, 0, 0, 0, 0, 0, 1, 1, 1, 1, 1, 0, 0, 0, 0, 0, 1, 1, 1, 1,\n",
       "       1, 1, 1, 1, 1, 1, 1, 1, 1, 1, 1, 1, 1, 1, 1, 1, 1, 1, 1, 1, 1, 1,\n",
       "       1, 1, 1, 1, 1, 1, 1, 1, 1, 1, 1, 0, 0, 0, 0, 0, 0, 0, 0, 0, 0, 0,\n",
       "       0, 0, 0, 0, 0, 0, 0, 0, 0, 0, 0, 0, 0, 0, 0, 0, 0, 0, 0, 0, 0, 0,\n",
       "       0, 0, 0, 0, 1, 1, 1, 1, 1, 0, 0, 0, 0, 0, 1, 1, 1, 1, 1, 1, 1, 1,\n",
       "       1, 1, 1, 1, 1, 1, 1, 1, 1, 1, 1, 1, 1, 1, 1, 1, 1, 1, 1, 1, 1, 1,\n",
       "       1, 1, 1, 1, 1, 1, 1, 0, 0, 0, 0, 0, 0, 0, 0, 0, 0, 0, 0, 0, 0, 0,\n",
       "       0, 0, 0, 0, 0, 0, 0, 0, 0, 0, 0, 0, 0, 0, 0, 0, 0, 0, 0, 0, 0, 0,\n",
       "       1, 1, 1, 1, 1, 0, 0, 0, 0, 0, 1, 1, 1, 1, 1, 1, 1, 1, 1, 1, 1, 1,\n",
       "       1, 1, 1, 1, 1, 1, 1, 1, 1, 1, 1, 1, 1, 1, 1, 1, 1, 1, 1, 1, 1, 1,\n",
       "       1, 1, 1, 0, 0, 0, 0, 0, 0, 0, 0, 0, 0, 0, 0, 0, 0, 0, 0, 0, 0, 0,\n",
       "       0, 0, 0, 0, 0, 0, 0, 0, 0, 0, 0, 0, 0, 0, 0, 0, 0, 0, 1, 1, 1, 1,\n",
       "       1, 0, 0, 0, 0, 0, 1, 1, 1, 1, 1, 1, 1, 1, 1, 1, 1, 1, 1, 1, 1, 1,\n",
       "       1, 1, 1, 1, 1, 1, 1, 1, 1, 1, 1, 1, 1, 1, 1, 1, 1, 1, 1, 1, 1, 0,\n",
       "       0, 0, 0, 0, 0, 0, 0, 0, 0, 0, 0, 0, 0, 0, 0, 0, 0, 0, 0, 0, 0, 0,\n",
       "       0, 0, 0, 0, 0, 0, 0, 0, 0, 0, 0, 0, 0, 0, 1, 1, 1, 1, 1, 0, 0, 0,\n",
       "       0, 0])"
      ]
     },
     "execution_count": 161,
     "metadata": {},
     "output_type": "execute_result"
    }
   ],
   "source": [
    "Y"
   ]
  },
  {
   "cell_type": "code",
   "execution_count": 162,
   "metadata": {
    "ExecuteTime": {
     "end_time": "2020-08-26T01:43:32.338708Z",
     "start_time": "2020-08-26T01:43:32.259353Z"
    }
   },
   "outputs": [],
   "source": [
    "X = (X - np.min(X, 0)) / (np.max(X, 0) + 0.0001)  # 0-1 scaling"
   ]
  },
  {
   "cell_type": "code",
   "execution_count": 163,
   "metadata": {
    "ExecuteTime": {
     "end_time": "2020-08-26T01:43:33.294011Z",
     "start_time": "2020-08-26T01:43:33.284307Z"
    }
   },
   "outputs": [
    {
     "data": {
      "text/plain": [
       "((420, 64, 64, 3), (84,))"
      ]
     },
     "execution_count": 163,
     "metadata": {},
     "output_type": "execute_result"
    }
   ],
   "source": [
    "X.shape, y.shape"
   ]
  },
  {
   "cell_type": "code",
   "execution_count": null,
   "metadata": {},
   "outputs": [],
   "source": [
    "# X_train,X_test,X_val,y_train,y_test,y_val=load_train_test_val(planet_train_files, \n",
    "#                                                               negative_train_files,\n",
    "#                                                               planet_test_files, \n",
    "#                                                               negative_test_files, \n",
    "#                                                               val_size=0.1, \n",
    "#                                                               img_size=(64,64,3))\n",
    "\n",
    "\n",
    "#     X_train,X_val, y_train, y_val = train_test_split(X,y,test_size=0.1)\n",
    "    \n",
    "#     print('\\n[i] Length of Splits:')\n",
    "#     print(f\"X_train={len(X_train)}, X_test={len(X_test)}, X_val={len(X_val)}\")\n",
    "    \n",
    "#     return X_train, X_test, X_val, y_train, y_test, y_val"
   ]
  },
  {
   "cell_type": "code",
   "execution_count": 164,
   "metadata": {
    "ExecuteTime": {
     "end_time": "2020-08-26T01:43:39.215920Z",
     "start_time": "2020-08-26T01:43:39.198212Z"
    }
   },
   "outputs": [],
   "source": [
    "X_train, X_test, Y_train, Y_test = train_test_split(\n",
    "    X, Y, test_size=0.2, random_state=0)"
   ]
  },
  {
   "cell_type": "code",
   "execution_count": 166,
   "metadata": {
    "ExecuteTime": {
     "end_time": "2020-08-26T01:43:41.791880Z",
     "start_time": "2020-08-26T01:43:41.785105Z"
    }
   },
   "outputs": [],
   "source": [
    "# Models we will use\n",
    "logistic = linear_model.LogisticRegression(solver='newton-cg', tol=1)\n",
    "rbm = BernoulliRBM(random_state=0, verbose=True)\n",
    "\n",
    "rbm_features_classifier = Pipeline(\n",
    "    steps=[('rbm', rbm), ('logistic', logistic)])"
   ]
  },
  {
   "cell_type": "code",
   "execution_count": 167,
   "metadata": {
    "ExecuteTime": {
     "end_time": "2020-08-26T01:43:42.584085Z",
     "start_time": "2020-08-26T01:43:42.576895Z"
    }
   },
   "outputs": [],
   "source": [
    "# #############################################################################\n",
    "# Training\n",
    "\n",
    "# Hyper-parameters. These were set by cross-validation,\n",
    "# using a GridSearchCV. Here we are not performing cross-validation to\n",
    "# save time.\n",
    "rbm.learning_rate = 0.06\n",
    "rbm.n_iter = 10\n",
    "# More components tend to give better prediction performance, but larger\n",
    "# fitting time\n",
    "rbm.n_components = 100\n",
    "logistic.C = 6000"
   ]
  },
  {
   "cell_type": "code",
   "execution_count": 169,
   "metadata": {
    "ExecuteTime": {
     "end_time": "2020-08-26T01:43:51.486787Z",
     "start_time": "2020-08-26T01:43:51.375271Z"
    }
   },
   "outputs": [
    {
     "ename": "ValueError",
     "evalue": "Found array with dim 4. Estimator expected <= 2.",
     "output_type": "error",
     "traceback": [
      "\u001b[0;31m---------------------------------------------------------------------------\u001b[0m",
      "\u001b[0;31mValueError\u001b[0m                                Traceback (most recent call last)",
      "\u001b[0;32m<ipython-input-169-dc5d0c13eb41>\u001b[0m in \u001b[0;36m<module>\u001b[0;34m\u001b[0m\n\u001b[1;32m      1\u001b[0m \u001b[0;31m# Training RBM-Logistic Pipeline\u001b[0m\u001b[0;34m\u001b[0m\u001b[0;34m\u001b[0m\u001b[0;34m\u001b[0m\u001b[0m\n\u001b[0;32m----> 2\u001b[0;31m \u001b[0mrbm_features_classifier\u001b[0m\u001b[0;34m.\u001b[0m\u001b[0mfit\u001b[0m\u001b[0;34m(\u001b[0m\u001b[0mX_train\u001b[0m\u001b[0;34m,\u001b[0m \u001b[0mY_train\u001b[0m\u001b[0;34m)\u001b[0m\u001b[0;34m\u001b[0m\u001b[0;34m\u001b[0m\u001b[0m\n\u001b[0m",
      "\u001b[0;32m~/opt/anaconda3/envs/learn-env/lib/python3.6/site-packages/sklearn/pipeline.py\u001b[0m in \u001b[0;36mfit\u001b[0;34m(self, X, y, **fit_params)\u001b[0m\n\u001b[1;32m    348\u001b[0m             \u001b[0mThis\u001b[0m \u001b[0mestimator\u001b[0m\u001b[0;34m\u001b[0m\u001b[0;34m\u001b[0m\u001b[0m\n\u001b[1;32m    349\u001b[0m         \"\"\"\n\u001b[0;32m--> 350\u001b[0;31m         \u001b[0mXt\u001b[0m\u001b[0;34m,\u001b[0m \u001b[0mfit_params\u001b[0m \u001b[0;34m=\u001b[0m \u001b[0mself\u001b[0m\u001b[0;34m.\u001b[0m\u001b[0m_fit\u001b[0m\u001b[0;34m(\u001b[0m\u001b[0mX\u001b[0m\u001b[0;34m,\u001b[0m \u001b[0my\u001b[0m\u001b[0;34m,\u001b[0m \u001b[0;34m**\u001b[0m\u001b[0mfit_params\u001b[0m\u001b[0;34m)\u001b[0m\u001b[0;34m\u001b[0m\u001b[0;34m\u001b[0m\u001b[0m\n\u001b[0m\u001b[1;32m    351\u001b[0m         with _print_elapsed_time('Pipeline',\n\u001b[1;32m    352\u001b[0m                                  self._log_message(len(self.steps) - 1)):\n",
      "\u001b[0;32m~/opt/anaconda3/envs/learn-env/lib/python3.6/site-packages/sklearn/pipeline.py\u001b[0m in \u001b[0;36m_fit\u001b[0;34m(self, X, y, **fit_params)\u001b[0m\n\u001b[1;32m    313\u001b[0m                 \u001b[0mmessage_clsname\u001b[0m\u001b[0;34m=\u001b[0m\u001b[0;34m'Pipeline'\u001b[0m\u001b[0;34m,\u001b[0m\u001b[0;34m\u001b[0m\u001b[0;34m\u001b[0m\u001b[0m\n\u001b[1;32m    314\u001b[0m                 \u001b[0mmessage\u001b[0m\u001b[0;34m=\u001b[0m\u001b[0mself\u001b[0m\u001b[0;34m.\u001b[0m\u001b[0m_log_message\u001b[0m\u001b[0;34m(\u001b[0m\u001b[0mstep_idx\u001b[0m\u001b[0;34m)\u001b[0m\u001b[0;34m,\u001b[0m\u001b[0;34m\u001b[0m\u001b[0;34m\u001b[0m\u001b[0m\n\u001b[0;32m--> 315\u001b[0;31m                 **fit_params_steps[name])\n\u001b[0m\u001b[1;32m    316\u001b[0m             \u001b[0;31m# Replace the transformer of the step with the fitted\u001b[0m\u001b[0;34m\u001b[0m\u001b[0;34m\u001b[0m\u001b[0;34m\u001b[0m\u001b[0m\n\u001b[1;32m    317\u001b[0m             \u001b[0;31m# transformer. This is necessary when loading the transformer\u001b[0m\u001b[0;34m\u001b[0m\u001b[0;34m\u001b[0m\u001b[0;34m\u001b[0m\u001b[0m\n",
      "\u001b[0;32m~/opt/anaconda3/envs/learn-env/lib/python3.6/site-packages/joblib/memory.py\u001b[0m in \u001b[0;36m__call__\u001b[0;34m(self, *args, **kwargs)\u001b[0m\n\u001b[1;32m    353\u001b[0m \u001b[0;34m\u001b[0m\u001b[0m\n\u001b[1;32m    354\u001b[0m     \u001b[0;32mdef\u001b[0m \u001b[0m__call__\u001b[0m\u001b[0;34m(\u001b[0m\u001b[0mself\u001b[0m\u001b[0;34m,\u001b[0m \u001b[0;34m*\u001b[0m\u001b[0margs\u001b[0m\u001b[0;34m,\u001b[0m \u001b[0;34m**\u001b[0m\u001b[0mkwargs\u001b[0m\u001b[0;34m)\u001b[0m\u001b[0;34m:\u001b[0m\u001b[0;34m\u001b[0m\u001b[0;34m\u001b[0m\u001b[0m\n\u001b[0;32m--> 355\u001b[0;31m         \u001b[0;32mreturn\u001b[0m \u001b[0mself\u001b[0m\u001b[0;34m.\u001b[0m\u001b[0mfunc\u001b[0m\u001b[0;34m(\u001b[0m\u001b[0;34m*\u001b[0m\u001b[0margs\u001b[0m\u001b[0;34m,\u001b[0m \u001b[0;34m**\u001b[0m\u001b[0mkwargs\u001b[0m\u001b[0;34m)\u001b[0m\u001b[0;34m\u001b[0m\u001b[0;34m\u001b[0m\u001b[0m\n\u001b[0m\u001b[1;32m    356\u001b[0m \u001b[0;34m\u001b[0m\u001b[0m\n\u001b[1;32m    357\u001b[0m     \u001b[0;32mdef\u001b[0m \u001b[0mcall_and_shelve\u001b[0m\u001b[0;34m(\u001b[0m\u001b[0mself\u001b[0m\u001b[0;34m,\u001b[0m \u001b[0;34m*\u001b[0m\u001b[0margs\u001b[0m\u001b[0;34m,\u001b[0m \u001b[0;34m**\u001b[0m\u001b[0mkwargs\u001b[0m\u001b[0;34m)\u001b[0m\u001b[0;34m:\u001b[0m\u001b[0;34m\u001b[0m\u001b[0;34m\u001b[0m\u001b[0m\n",
      "\u001b[0;32m~/opt/anaconda3/envs/learn-env/lib/python3.6/site-packages/sklearn/pipeline.py\u001b[0m in \u001b[0;36m_fit_transform_one\u001b[0;34m(transformer, X, y, weight, message_clsname, message, **fit_params)\u001b[0m\n\u001b[1;32m    726\u001b[0m     \u001b[0;32mwith\u001b[0m \u001b[0m_print_elapsed_time\u001b[0m\u001b[0;34m(\u001b[0m\u001b[0mmessage_clsname\u001b[0m\u001b[0;34m,\u001b[0m \u001b[0mmessage\u001b[0m\u001b[0;34m)\u001b[0m\u001b[0;34m:\u001b[0m\u001b[0;34m\u001b[0m\u001b[0;34m\u001b[0m\u001b[0m\n\u001b[1;32m    727\u001b[0m         \u001b[0;32mif\u001b[0m \u001b[0mhasattr\u001b[0m\u001b[0;34m(\u001b[0m\u001b[0mtransformer\u001b[0m\u001b[0;34m,\u001b[0m \u001b[0;34m'fit_transform'\u001b[0m\u001b[0;34m)\u001b[0m\u001b[0;34m:\u001b[0m\u001b[0;34m\u001b[0m\u001b[0;34m\u001b[0m\u001b[0m\n\u001b[0;32m--> 728\u001b[0;31m             \u001b[0mres\u001b[0m \u001b[0;34m=\u001b[0m \u001b[0mtransformer\u001b[0m\u001b[0;34m.\u001b[0m\u001b[0mfit_transform\u001b[0m\u001b[0;34m(\u001b[0m\u001b[0mX\u001b[0m\u001b[0;34m,\u001b[0m \u001b[0my\u001b[0m\u001b[0;34m,\u001b[0m \u001b[0;34m**\u001b[0m\u001b[0mfit_params\u001b[0m\u001b[0;34m)\u001b[0m\u001b[0;34m\u001b[0m\u001b[0;34m\u001b[0m\u001b[0m\n\u001b[0m\u001b[1;32m    729\u001b[0m         \u001b[0;32melse\u001b[0m\u001b[0;34m:\u001b[0m\u001b[0;34m\u001b[0m\u001b[0;34m\u001b[0m\u001b[0m\n\u001b[1;32m    730\u001b[0m             \u001b[0mres\u001b[0m \u001b[0;34m=\u001b[0m \u001b[0mtransformer\u001b[0m\u001b[0;34m.\u001b[0m\u001b[0mfit\u001b[0m\u001b[0;34m(\u001b[0m\u001b[0mX\u001b[0m\u001b[0;34m,\u001b[0m \u001b[0my\u001b[0m\u001b[0;34m,\u001b[0m \u001b[0;34m**\u001b[0m\u001b[0mfit_params\u001b[0m\u001b[0;34m)\u001b[0m\u001b[0;34m.\u001b[0m\u001b[0mtransform\u001b[0m\u001b[0;34m(\u001b[0m\u001b[0mX\u001b[0m\u001b[0;34m)\u001b[0m\u001b[0;34m\u001b[0m\u001b[0;34m\u001b[0m\u001b[0m\n",
      "\u001b[0;32m~/opt/anaconda3/envs/learn-env/lib/python3.6/site-packages/sklearn/base.py\u001b[0m in \u001b[0;36mfit_transform\u001b[0;34m(self, X, y, **fit_params)\u001b[0m\n\u001b[1;32m    572\u001b[0m         \u001b[0;32melse\u001b[0m\u001b[0;34m:\u001b[0m\u001b[0;34m\u001b[0m\u001b[0;34m\u001b[0m\u001b[0m\n\u001b[1;32m    573\u001b[0m             \u001b[0;31m# fit method of arity 2 (supervised transformation)\u001b[0m\u001b[0;34m\u001b[0m\u001b[0;34m\u001b[0m\u001b[0;34m\u001b[0m\u001b[0m\n\u001b[0;32m--> 574\u001b[0;31m             \u001b[0;32mreturn\u001b[0m \u001b[0mself\u001b[0m\u001b[0;34m.\u001b[0m\u001b[0mfit\u001b[0m\u001b[0;34m(\u001b[0m\u001b[0mX\u001b[0m\u001b[0;34m,\u001b[0m \u001b[0my\u001b[0m\u001b[0;34m,\u001b[0m \u001b[0;34m**\u001b[0m\u001b[0mfit_params\u001b[0m\u001b[0;34m)\u001b[0m\u001b[0;34m.\u001b[0m\u001b[0mtransform\u001b[0m\u001b[0;34m(\u001b[0m\u001b[0mX\u001b[0m\u001b[0;34m)\u001b[0m\u001b[0;34m\u001b[0m\u001b[0;34m\u001b[0m\u001b[0m\n\u001b[0m\u001b[1;32m    575\u001b[0m \u001b[0;34m\u001b[0m\u001b[0m\n\u001b[1;32m    576\u001b[0m \u001b[0;34m\u001b[0m\u001b[0m\n",
      "\u001b[0;32m~/opt/anaconda3/envs/learn-env/lib/python3.6/site-packages/sklearn/neural_network/_rbm.py\u001b[0m in \u001b[0;36mfit\u001b[0;34m(self, X, y)\u001b[0m\n\u001b[1;32m    337\u001b[0m             \u001b[0mThe\u001b[0m \u001b[0mfitted\u001b[0m \u001b[0mmodel\u001b[0m\u001b[0;34m.\u001b[0m\u001b[0;34m\u001b[0m\u001b[0;34m\u001b[0m\u001b[0m\n\u001b[1;32m    338\u001b[0m         \"\"\"\n\u001b[0;32m--> 339\u001b[0;31m         \u001b[0mX\u001b[0m \u001b[0;34m=\u001b[0m \u001b[0mcheck_array\u001b[0m\u001b[0;34m(\u001b[0m\u001b[0mX\u001b[0m\u001b[0;34m,\u001b[0m \u001b[0maccept_sparse\u001b[0m\u001b[0;34m=\u001b[0m\u001b[0;34m'csr'\u001b[0m\u001b[0;34m,\u001b[0m \u001b[0mdtype\u001b[0m\u001b[0;34m=\u001b[0m\u001b[0mnp\u001b[0m\u001b[0;34m.\u001b[0m\u001b[0mfloat64\u001b[0m\u001b[0;34m)\u001b[0m\u001b[0;34m\u001b[0m\u001b[0;34m\u001b[0m\u001b[0m\n\u001b[0m\u001b[1;32m    340\u001b[0m         \u001b[0mn_samples\u001b[0m \u001b[0;34m=\u001b[0m \u001b[0mX\u001b[0m\u001b[0;34m.\u001b[0m\u001b[0mshape\u001b[0m\u001b[0;34m[\u001b[0m\u001b[0;36m0\u001b[0m\u001b[0;34m]\u001b[0m\u001b[0;34m\u001b[0m\u001b[0;34m\u001b[0m\u001b[0m\n\u001b[1;32m    341\u001b[0m         \u001b[0mrng\u001b[0m \u001b[0;34m=\u001b[0m \u001b[0mcheck_random_state\u001b[0m\u001b[0;34m(\u001b[0m\u001b[0mself\u001b[0m\u001b[0;34m.\u001b[0m\u001b[0mrandom_state\u001b[0m\u001b[0;34m)\u001b[0m\u001b[0;34m\u001b[0m\u001b[0;34m\u001b[0m\u001b[0m\n",
      "\u001b[0;32m~/opt/anaconda3/envs/learn-env/lib/python3.6/site-packages/sklearn/utils/validation.py\u001b[0m in \u001b[0;36mcheck_array\u001b[0;34m(array, accept_sparse, accept_large_sparse, dtype, order, copy, force_all_finite, ensure_2d, allow_nd, ensure_min_samples, ensure_min_features, warn_on_dtype, estimator)\u001b[0m\n\u001b[1;32m    572\u001b[0m         \u001b[0;32mif\u001b[0m \u001b[0;32mnot\u001b[0m \u001b[0mallow_nd\u001b[0m \u001b[0;32mand\u001b[0m \u001b[0marray\u001b[0m\u001b[0;34m.\u001b[0m\u001b[0mndim\u001b[0m \u001b[0;34m>=\u001b[0m \u001b[0;36m3\u001b[0m\u001b[0;34m:\u001b[0m\u001b[0;34m\u001b[0m\u001b[0;34m\u001b[0m\u001b[0m\n\u001b[1;32m    573\u001b[0m             raise ValueError(\"Found array with dim %d. %s expected <= 2.\"\n\u001b[0;32m--> 574\u001b[0;31m                              % (array.ndim, estimator_name))\n\u001b[0m\u001b[1;32m    575\u001b[0m \u001b[0;34m\u001b[0m\u001b[0m\n\u001b[1;32m    576\u001b[0m         \u001b[0;32mif\u001b[0m \u001b[0mforce_all_finite\u001b[0m\u001b[0;34m:\u001b[0m\u001b[0;34m\u001b[0m\u001b[0;34m\u001b[0m\u001b[0m\n",
      "\u001b[0;31mValueError\u001b[0m: Found array with dim 4. Estimator expected <= 2."
     ]
    }
   ],
   "source": [
    "# Training RBM-Logistic Pipeline\n",
    "rbm_features_classifier.fit(X_train, Y_train)"
   ]
  },
  {
   "cell_type": "code",
   "execution_count": 138,
   "metadata": {
    "ExecuteTime": {
     "end_time": "2020-08-26T01:37:05.956711Z",
     "start_time": "2020-08-26T01:37:05.905283Z"
    },
    "colab": {},
    "colab_type": "code",
    "id": "ZeVDoXp0PDIs"
   },
   "outputs": [
    {
     "ename": "ValueError",
     "evalue": "Found array with dim 4. Estimator expected <= 2.",
     "output_type": "error",
     "traceback": [
      "\u001b[0;31m---------------------------------------------------------------------------\u001b[0m",
      "\u001b[0;31mValueError\u001b[0m                                Traceback (most recent call last)",
      "\u001b[0;32m<ipython-input-138-cab912481fe4>\u001b[0m in \u001b[0;36m<module>\u001b[0;34m\u001b[0m\n\u001b[1;32m      2\u001b[0m \u001b[0mraw_pixel_classifier\u001b[0m \u001b[0;34m=\u001b[0m \u001b[0mclone\u001b[0m\u001b[0;34m(\u001b[0m\u001b[0mlogistic\u001b[0m\u001b[0;34m)\u001b[0m\u001b[0;34m\u001b[0m\u001b[0;34m\u001b[0m\u001b[0m\n\u001b[1;32m      3\u001b[0m \u001b[0mraw_pixel_classifier\u001b[0m\u001b[0;34m.\u001b[0m\u001b[0mC\u001b[0m \u001b[0;34m=\u001b[0m \u001b[0;36m100.\u001b[0m\u001b[0;34m\u001b[0m\u001b[0;34m\u001b[0m\u001b[0m\n\u001b[0;32m----> 4\u001b[0;31m \u001b[0mraw_pixel_classifier\u001b[0m\u001b[0;34m.\u001b[0m\u001b[0mfit\u001b[0m\u001b[0;34m(\u001b[0m\u001b[0mX_train\u001b[0m\u001b[0;34m,\u001b[0m \u001b[0mY_train\u001b[0m\u001b[0;34m)\u001b[0m\u001b[0;34m\u001b[0m\u001b[0;34m\u001b[0m\u001b[0m\n\u001b[0m",
      "\u001b[0;32m~/opt/anaconda3/envs/learn-env/lib/python3.6/site-packages/sklearn/linear_model/_logistic.py\u001b[0m in \u001b[0;36mfit\u001b[0;34m(self, X, y, sample_weight)\u001b[0m\n\u001b[1;32m   1525\u001b[0m \u001b[0;34m\u001b[0m\u001b[0m\n\u001b[1;32m   1526\u001b[0m         X, y = check_X_y(X, y, accept_sparse='csr', dtype=_dtype, order=\"C\",\n\u001b[0;32m-> 1527\u001b[0;31m                          accept_large_sparse=solver != 'liblinear')\n\u001b[0m\u001b[1;32m   1528\u001b[0m         \u001b[0mcheck_classification_targets\u001b[0m\u001b[0;34m(\u001b[0m\u001b[0my\u001b[0m\u001b[0;34m)\u001b[0m\u001b[0;34m\u001b[0m\u001b[0;34m\u001b[0m\u001b[0m\n\u001b[1;32m   1529\u001b[0m         \u001b[0mself\u001b[0m\u001b[0;34m.\u001b[0m\u001b[0mclasses_\u001b[0m \u001b[0;34m=\u001b[0m \u001b[0mnp\u001b[0m\u001b[0;34m.\u001b[0m\u001b[0munique\u001b[0m\u001b[0;34m(\u001b[0m\u001b[0my\u001b[0m\u001b[0;34m)\u001b[0m\u001b[0;34m\u001b[0m\u001b[0;34m\u001b[0m\u001b[0m\n",
      "\u001b[0;32m~/opt/anaconda3/envs/learn-env/lib/python3.6/site-packages/sklearn/utils/validation.py\u001b[0m in \u001b[0;36mcheck_X_y\u001b[0;34m(X, y, accept_sparse, accept_large_sparse, dtype, order, copy, force_all_finite, ensure_2d, allow_nd, multi_output, ensure_min_samples, ensure_min_features, y_numeric, warn_on_dtype, estimator)\u001b[0m\n\u001b[1;32m    753\u001b[0m                     \u001b[0mensure_min_features\u001b[0m\u001b[0;34m=\u001b[0m\u001b[0mensure_min_features\u001b[0m\u001b[0;34m,\u001b[0m\u001b[0;34m\u001b[0m\u001b[0;34m\u001b[0m\u001b[0m\n\u001b[1;32m    754\u001b[0m                     \u001b[0mwarn_on_dtype\u001b[0m\u001b[0;34m=\u001b[0m\u001b[0mwarn_on_dtype\u001b[0m\u001b[0;34m,\u001b[0m\u001b[0;34m\u001b[0m\u001b[0;34m\u001b[0m\u001b[0m\n\u001b[0;32m--> 755\u001b[0;31m                     estimator=estimator)\n\u001b[0m\u001b[1;32m    756\u001b[0m     \u001b[0;32mif\u001b[0m \u001b[0mmulti_output\u001b[0m\u001b[0;34m:\u001b[0m\u001b[0;34m\u001b[0m\u001b[0;34m\u001b[0m\u001b[0m\n\u001b[1;32m    757\u001b[0m         y = check_array(y, 'csr', force_all_finite=True, ensure_2d=False,\n",
      "\u001b[0;32m~/opt/anaconda3/envs/learn-env/lib/python3.6/site-packages/sklearn/utils/validation.py\u001b[0m in \u001b[0;36mcheck_array\u001b[0;34m(array, accept_sparse, accept_large_sparse, dtype, order, copy, force_all_finite, ensure_2d, allow_nd, ensure_min_samples, ensure_min_features, warn_on_dtype, estimator)\u001b[0m\n\u001b[1;32m    572\u001b[0m         \u001b[0;32mif\u001b[0m \u001b[0;32mnot\u001b[0m \u001b[0mallow_nd\u001b[0m \u001b[0;32mand\u001b[0m \u001b[0marray\u001b[0m\u001b[0;34m.\u001b[0m\u001b[0mndim\u001b[0m \u001b[0;34m>=\u001b[0m \u001b[0;36m3\u001b[0m\u001b[0;34m:\u001b[0m\u001b[0;34m\u001b[0m\u001b[0;34m\u001b[0m\u001b[0m\n\u001b[1;32m    573\u001b[0m             raise ValueError(\"Found array with dim %d. %s expected <= 2.\"\n\u001b[0;32m--> 574\u001b[0;31m                              % (array.ndim, estimator_name))\n\u001b[0m\u001b[1;32m    575\u001b[0m \u001b[0;34m\u001b[0m\u001b[0m\n\u001b[1;32m    576\u001b[0m         \u001b[0;32mif\u001b[0m \u001b[0mforce_all_finite\u001b[0m\u001b[0;34m:\u001b[0m\u001b[0;34m\u001b[0m\u001b[0;34m\u001b[0m\u001b[0m\n",
      "\u001b[0;31mValueError\u001b[0m: Found array with dim 4. Estimator expected <= 2."
     ]
    }
   ],
   "source": [
    "# Training the Logistic regression classifier directly on the pixel\n",
    "raw_pixel_classifier = clone(logistic)\n",
    "raw_pixel_classifier.C = 100.\n",
    "raw_pixel_classifier.fit(X_train, Y_train)"
   ]
  },
  {
   "cell_type": "code",
   "execution_count": null,
   "metadata": {},
   "outputs": [],
   "source": [
    "# #############################################################################\n",
    "# Evaluation\n",
    "\n",
    "Y_pred = rbm_features_classifier.predict(X_test)\n",
    "print(\"Logistic regression using RBM features:\\n%s\\n\" % (\n",
    "    metrics.classification_report(Y_test, Y_pred)))\n",
    "\n",
    "Y_pred = raw_pixel_classifier.predict(X_test)\n",
    "print(\"Logistic regression using raw pixel features:\\n%s\\n\" % (\n",
    "    metrics.classification_report(Y_test, Y_pred)))"
   ]
  },
  {
   "cell_type": "code",
   "execution_count": null,
   "metadata": {},
   "outputs": [],
   "source": [
    "# #############################################################################\n",
    "# Plotting\n",
    "\n",
    "plt.figure(figsize=(4.2, 4))\n",
    "for i, comp in enumerate(rbm.components_):\n",
    "    plt.subplot(10, 10, i + 1)\n",
    "    plt.imshow(comp.reshape((8, 8)), cmap=plt.cm.gray_r,\n",
    "               interpolation='nearest')\n",
    "    plt.xticks(())\n",
    "    plt.yticks(())\n",
    "plt.suptitle('100 components extracted by RBM', fontsize=16)\n",
    "plt.subplots_adjust(0.08, 0.02, 0.92, 0.85, 0.08, 0.23)\n",
    "\n",
    "plt.show()"
   ]
  }
 ],
 "metadata": {
  "colab": {
   "collapsed_sections": [],
   "name": "starskope-3.ipynb",
   "provenance": []
  },
  "kernelspec": {
   "display_name": "Python 3",
   "language": "python",
   "name": "python3"
  },
  "language_info": {
   "codemirror_mode": {
    "name": "ipython",
    "version": 3
   },
   "file_extension": ".py",
   "mimetype": "text/x-python",
   "name": "python",
   "nbconvert_exporter": "python",
   "pygments_lexer": "ipython3",
   "version": "3.6.10"
  },
  "latex_envs": {
   "LaTeX_envs_menu_present": true,
   "autoclose": false,
   "autocomplete": true,
   "bibliofile": "biblio.bib",
   "cite_by": "apalike",
   "current_citInitial": 1,
   "eqLabelWithNumbers": true,
   "eqNumInitial": 1,
   "hotkeys": {
    "equation": "Ctrl-E",
    "itemize": "Ctrl-I"
   },
   "labels_anchors": false,
   "latex_user_defs": false,
   "report_style_numbering": false,
   "user_envs_cfg": false
  },
  "toc": {
   "base_numbering": 1,
   "nav_menu": {},
   "number_sections": true,
   "sideBar": true,
   "skip_h1_title": false,
   "title_cell": "Table of Contents",
   "title_sidebar": "Contents",
   "toc_cell": false,
   "toc_position": {},
   "toc_section_display": true,
   "toc_window_display": false
  }
 },
 "nbformat": 4,
 "nbformat_minor": 1
}
