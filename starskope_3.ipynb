{
 "cells": [
  {
   "cell_type": "markdown",
   "metadata": {
    "colab_type": "text",
    "id": "cItRVIv8QpLR"
   },
   "source": [
    "# STARSKØPE\n",
    "\n",
    "## Part III: MAST API via AWS"
   ]
  },
  {
   "cell_type": "markdown",
   "metadata": {
    "colab_type": "text",
    "id": "Qc_g3hRiPP3p"
   },
   "source": [
    "**STARSKØPE Phase 3 Objectives**\n",
    "\n",
    "1. Use datasets from the MAST website (via API) to incorporate other calculations of the star's properties as features to be used for classification algorithms. Furthermore, attempt other types of transformations and normalizations on the data before running the model - for instance, apply a Fourier transform.\n",
    "\n",
    "2. Combine data from multiple campaigns and perhaps even multiple telescopes (for instance, matching sky coordinates and time intervals between K2, Kepler, and TESS for a batch of stars that have overlapping observations - this would be critical for finding transit periods that are longer than the campaigns of a single telecope's observation period)."
   ]
  },
  {
   "cell_type": "markdown",
   "metadata": {},
   "source": [
    "[![Open In Colab](https://colab.research.google.com/assets/colab-badge.svg)](https://colab.research.google.com/drive/1MuPehwunnqjGgWI9-k30XKXpOKS59neD#scrollTo=tiR_zPCLZRws)"
   ]
  },
  {
   "cell_type": "markdown",
   "metadata": {},
   "source": [
    "# Import"
   ]
  },
  {
   "cell_type": "code",
   "execution_count": 1,
   "metadata": {},
   "outputs": [],
   "source": [
    "# Working with http://astroquery.readthedocs.io/en/latest/mast/mast.html\n",
    "# Make sure you're running the latest version of the following packages:\n",
    "\n",
    "# astroquery\n",
    "# astropy\n",
    "# boto3\n",
    "# awscli"
   ]
  },
  {
   "cell_type": "code",
   "execution_count": 14,
   "metadata": {},
   "outputs": [],
   "source": [
    "#!pip install astroquery"
   ]
  },
  {
   "cell_type": "code",
   "execution_count": 16,
   "metadata": {},
   "outputs": [],
   "source": [
    "#!pip install astropy"
   ]
  },
  {
   "cell_type": "code",
   "execution_count": 18,
   "metadata": {},
   "outputs": [],
   "source": [
    "#!pip install -U boto3"
   ]
  },
  {
   "cell_type": "code",
   "execution_count": 20,
   "metadata": {},
   "outputs": [],
   "source": [
    "#!pip install awscli"
   ]
  },
  {
   "cell_type": "code",
   "execution_count": 31,
   "metadata": {},
   "outputs": [],
   "source": [
    "import pandas as pd\n",
    "import numpy as np\n",
    "import os,glob, sys\n",
    "import boto3\n",
    "from astroquery.mast import Observations\n",
    "from astroquery.mast import Catalogs\n",
    "from astroquery.sdss import SDSS\n",
    "from astropy.io import fits\n",
    "\n",
    "# spacekit - my custom python library for astrophysics ML\n",
    "import spacekit"
   ]
  },
  {
   "cell_type": "code",
   "execution_count": 22,
   "metadata": {
    "ExecuteTime": {
     "end_time": "2020-08-26T00:19:49.103462Z",
     "start_time": "2020-08-26T00:19:49.086139Z"
    },
    "colab": {},
    "colab_type": "code",
    "id": "8B6xSvu5PG7j"
   },
   "outputs": [],
   "source": [
    "import matplotlib as mpl\n",
    "%matplotlib inline\n",
    "from matplotlib.colors import LogNorm\n",
    "import matplotlib.pyplot as plt\n",
    "\n",
    "import seaborn as sns\n",
    "sns.set_style('whitegrid')\n",
    "import matplotlib.pyplot as plt\n",
    "plt.style.use('seaborn-bright')\n",
    " \n",
    "\n",
    "font_dict={'family':'\"Titillium Web\", monospace','size':16}\n",
    "mpl.rc('font',**font_dict)\n",
    "\n",
    "\n",
    "#ignore pink warnings\n",
    "import warnings\n",
    "warnings.filterwarnings('ignore')\n",
    "# Allow for large # columns\n",
    "pd.set_option('display.max_columns', 0)\n",
    "# pd.set_option('display.max_rows','')"
   ]
  },
  {
   "cell_type": "code",
   "execution_count": 7,
   "metadata": {},
   "outputs": [
    {
     "data": {
      "text/plain": [
       "['LICENSE.md',\n",
       " '.DS_Store',\n",
       " 'specs',\n",
       " 'Nontechnical-capstone.pdf',\n",
       " 'postman',\n",
       " 'models',\n",
       " '288_planetbleed1600.jpeg',\n",
       " 'README.md',\n",
       " 'starskope.ipynb',\n",
       " '.gitignore',\n",
       " '_config.yml',\n",
       " '._README.md',\n",
       " 'starskope_3.ipynb',\n",
       " 'starskope_4.ipynb',\n",
       " '.ipynb_checkpoints',\n",
       " 'spacekit',\n",
       " '.git',\n",
       " 'plot.tbl',\n",
       " 'DATA',\n",
       " 'outputs',\n",
       " 'starskope_2.ipynb',\n",
       " 'specs.zip']"
      ]
     },
     "execution_count": 7,
     "metadata": {},
     "output_type": "execute_result"
    }
   ],
   "source": [
    "# # If using Jupyter notebook/local\n",
    "home = os.path.abspath(os.curdir)\n",
    "os.listdir(home)\n",
    "\n",
    "# # If using Google Colabs\n",
    "# from google.colab import drive\n",
    "# drive.mount('/gdrive',force_remount=True)"
   ]
  },
  {
   "cell_type": "code",
   "execution_count": 8,
   "metadata": {},
   "outputs": [],
   "source": [
    "# # Jupyter Notebook\n",
    "# %mkdir ~/.aws/config\n",
    "\n",
    "# # Google Colab\n",
    "# %cd '/gdrive/My Drive/'\n",
    "# %mkdir config"
   ]
  },
  {
   "cell_type": "code",
   "execution_count": 9,
   "metadata": {},
   "outputs": [],
   "source": [
    "# # change the <tags> to your aws info\n",
    "\n",
    "# text = '''\n",
    "# [default]\n",
    "# aws_access_key_id = <YOUR_AWS_KEY_ID> \n",
    "# aws_secret_access_key = <YOUR_AWS_ACCESS_KEY>\n",
    "# region = us-east-1\n",
    "# '''"
   ]
  },
  {
   "cell_type": "code",
   "execution_count": 10,
   "metadata": {},
   "outputs": [],
   "source": [
    "# # Jupyter\n",
    "# path = \"~/.aws/config\"\n",
    "# with open(path, 'w') as f:\n",
    "#    f.write(text)\n",
    "# !cat ~/.aws/config\n",
    "\n",
    "# # Google Colabs\n",
    "# path = \"/gdrive/My Drive/config/awscli.ini\"\n",
    "# with open(path, 'w') as f:\n",
    "#    f.write(text)\n",
    "# !cat /gdrive/My\\ Drive/config/awscli.ini"
   ]
  },
  {
   "cell_type": "code",
   "execution_count": 11,
   "metadata": {},
   "outputs": [
    {
     "name": "stdout",
     "output_type": "stream",
     "text": [
      "~/.aws/config\n"
     ]
    }
   ],
   "source": [
    "# # Jupyter\n",
    "!export AWS_SHARED_CREDENTIALS_FILE=~/.aws/config\n",
    "path = '~/.aws/config'\n",
    "os.environ['AWS_SHARED_CREDENTIALS_FILE'] = path\n",
    "print(os.environ['AWS_SHARED_CREDENTIALS_FILE'])\n",
    "\n",
    "# # Google Colabs\n",
    "# !export AWS_SHARED_CREDENTIALS_FILE=/gdrive/My\\ Drive/config/awscli.ini\n",
    "# path = path\n",
    "# os.environ['AWS_SHARED_CREDENTIALS_FILE'] = path\n",
    "# print(os.environ['AWS_SHARED_CREDENTIALS_FILE'])"
   ]
  },
  {
   "cell_type": "markdown",
   "metadata": {},
   "source": [
    "Kepler observed parts of a 10 by 10 degree patch of sky near the constellation of Cygnus for four years (17, 3-month quarters) starting in 2009. The mission downloaded small sections of the sky at a 30-minute (long cadence) and a 1-minute (short cadence) in order to measure the variability of stars and find planets transiting these stars. These data are now available in the public s3://stpubdata/kepler/public S3 bucket on AWS.\n",
    "\n",
    "\n",
    "https://mast-labs.stsci.io/\n",
    "\n",
    "These data are available under the same terms as the public dataset for Hubble and TESS, that is, if you compute against the data from the AWS US-East region, then data access is free."
   ]
  },
  {
   "cell_type": "code",
   "execution_count": 23,
   "metadata": {},
   "outputs": [],
   "source": [
    "# s3://stpubdata/kepler/public\n",
    "\n",
    "region = 'us-east-1'\n",
    "s3 = boto3.resource('s3', region_name=region)\n",
    "bucket = s3.Bucket('stpubdata')\n",
    "location = {'LocationConstraint': region}"
   ]
  },
  {
   "cell_type": "markdown",
   "metadata": {},
   "source": [
    "Cload data access is enabled using the `enable_cloud_dataset` function, which will cause AWS to become the prefered source for data access until it is disabled (`disable_cloud_dataset`).\n",
    "\n",
    "When cloud access is enabled, the standard download function `download_products` will preferentially pull files from AWS when they are available. There is also a cloud_only flag, which when set to True will cause all data products not available in the cloud to be skipped."
   ]
  },
  {
   "cell_type": "code",
   "execution_count": 50,
   "metadata": {},
   "outputs": [
    {
     "name": "stdout",
     "output_type": "stream",
     "text": [
      "INFO: Using the S3 STScI public dataset [astroquery.mast.cloud]\n",
      "INFO: See Request Pricing in https://aws.amazon.com/s3/pricing/ for details [astroquery.mast.cloud]\n",
      "INFO: If you have not configured boto3, follow the instructions here: https://boto3.readthedocs.io/en/latest/guide/configuration.html [astroquery.mast.cloud]\n"
     ]
    },
    {
     "name": "stderr",
     "output_type": "stream",
     "text": [
      "WARNING: Your AWS account will be charged for access to the S3 bucket [astroquery.mast.cloud]\n"
     ]
    }
   ],
   "source": [
    "Observations.enable_cloud_dataset(provider='AWS', profile='default')"
   ]
  },
  {
   "cell_type": "markdown",
   "metadata": {},
   "source": [
    "This script queries MAST for TESS FFI data for a single sector/camera/chip combination and downloads the data from the AWS public dataset rather than from MAST servers."
   ]
  },
  {
   "cell_type": "code",
   "execution_count": 24,
   "metadata": {},
   "outputs": [],
   "source": [
    "# Example query (not using here but helpful)\n",
    "#catalog_data = Catalogs.query_criteria(catalog=\"Tic\",Bmag=[30,50],objType=\"STAR\")\n",
    "#print(catalog_data)"
   ]
  },
  {
   "cell_type": "code",
   "execution_count": 25,
   "metadata": {},
   "outputs": [
    {
     "name": "stdout",
     "output_type": "stream",
     "text": [
      "['BEFS', 'EUVE', 'FUSE', 'GALEX', 'HLA', 'HLSP', 'HST', 'HUT', 'IUE', 'JWST', 'K2', 'K2FFI', 'Kepler', 'KeplerFFI', 'PS1', 'SPITZER_SHA', 'SWIFT', 'TESS', 'TUES', 'WUPPE']\n"
     ]
    }
   ],
   "source": [
    "print(Observations.list_missions())"
   ]
  },
  {
   "cell_type": "code",
   "execution_count": 74,
   "metadata": {},
   "outputs": [],
   "source": [
    "target = \"K2-1\"\n",
    "#Do a cone search and find the K2 long cadence data for target\n",
    "obs = Observations.query_object(target,radius=\"0s\")\n",
    "want = (obs['obs_collection'] == \"K2\") & (obs['t_exptime'] ==1800.0)"
   ]
  },
  {
   "cell_type": "code",
   "execution_count": 77,
   "metadata": {},
   "outputs": [],
   "source": [
    "#Pick which data you want to retrieve\n",
    "data_prod = Observations.get_product_list(obs[want])"
   ]
  },
  {
   "cell_type": "code",
   "execution_count": 78,
   "metadata": {},
   "outputs": [
    {
     "data": {
      "text/html": [
       "<i>Table masked=True length=3</i>\n",
       "<table id=\"table140354837871952\" class=\"table-striped table-bordered table-condensed\">\n",
       "<thead><tr><th>obsID</th><th>obs_collection</th><th>dataproduct_type</th><th>obs_id</th><th>description</th><th>type</th><th>dataURI</th><th>productType</th><th>productGroupDescription</th><th>productSubGroupDescription</th><th>productDocumentationURL</th><th>project</th><th>prvversion</th><th>proposal_id</th><th>productFilename</th><th>size</th><th>parent_obsid</th><th>dataRights</th></tr></thead>\n",
       "<thead><tr><th>str10</th><th>str2</th><th>str10</th><th>str20</th><th>str37</th><th>str1</th><th>str97</th><th>str7</th><th>str28</th><th>str8</th><th>str1</th><th>str2</th><th>str2</th><th>str63</th><th>str34</th><th>int64</th><th>str1</th><th>str6</th></tr></thead>\n",
       "<tr><td>9500379213</td><td>K2</td><td>timeseries</td><td>ktwo246375295-c12_lc</td><td>Preview-Full</td><td>S</td><td>mast:K2/url/missions/k2/previews/c12/246300000/75000/ktwo246375295-c12_llc_bw_large.png</td><td>PREVIEW</td><td>--</td><td>--</td><td>--</td><td>K2</td><td>39</td><td>GO12062_GO12071_GO12085_GO12099_GO12122_GO12124_GO12902_GO12903</td><td>ktwo246375295-c12_llc_bw_large.png</td><td>23279</td><td>0</td><td>PUBLIC</td></tr>\n",
       "<tr><td>9500379213</td><td>K2</td><td>timeseries</td><td>ktwo246375295-c12_lc</td><td>Lightcurve Long Cadence (KLC) - C12</td><td>S</td><td>mast:K2/url/missions/k2/lightcurves/c12/246300000/75000/ktwo246375295-c12_llc.fits</td><td>SCIENCE</td><td>Minimum Recommended Products</td><td>LLC</td><td>--</td><td>K2</td><td>39</td><td>GO12062_GO12071_GO12085_GO12099_GO12122_GO12124_GO12902_GO12903</td><td>ktwo246375295-c12_llc.fits</td><td>417600</td><td>0</td><td>PUBLIC</td></tr>\n",
       "<tr><td>9500379213</td><td>K2</td><td>timeseries</td><td>ktwo246375295-c12_lc</td><td>Target Pixel Long Cadence (KTL) - C12</td><td>S</td><td>mast:K2/url/missions/k2/target_pixel_files/c12/246300000/75000/ktwo246375295-c12_lpd-targ.fits.gz</td><td>SCIENCE</td><td>Minimum Recommended Products</td><td>LPD-TARG</td><td>--</td><td>K2</td><td>39</td><td>GO12062_GO12071_GO12085_GO12099_GO12122_GO12124_GO12902_GO12903</td><td>ktwo246375295-c12_lpd-targ.fits.gz</td><td>6905351</td><td>0</td><td>PUBLIC</td></tr>\n",
       "</table>"
      ],
      "text/plain": [
       "<Table masked=True length=3>\n",
       "  obsID    obs_collection dataproduct_type ...   size  parent_obsid dataRights\n",
       "  str10         str2           str10       ...  int64      str1        str6   \n",
       "---------- -------------- ---------------- ... ------- ------------ ----------\n",
       "9500379213             K2       timeseries ...   23279            0     PUBLIC\n",
       "9500379213             K2       timeseries ...  417600            0     PUBLIC\n",
       "9500379213             K2       timeseries ... 6905351            0     PUBLIC"
      ]
     },
     "execution_count": 78,
     "metadata": {},
     "output_type": "execute_result"
    }
   ],
   "source": [
    "data_prod"
   ]
  },
  {
   "cell_type": "code",
   "execution_count": 80,
   "metadata": {},
   "outputs": [
    {
     "data": {
      "text/html": [
       "<i>Table masked=True length=1</i>\n",
       "<table id=\"table140354841912400\" class=\"table-striped table-bordered table-condensed\">\n",
       "<thead><tr><th>obsID</th><th>obs_collection</th><th>dataproduct_type</th><th>obs_id</th><th>description</th><th>type</th><th>dataURI</th><th>productType</th><th>productGroupDescription</th><th>productSubGroupDescription</th><th>productDocumentationURL</th><th>project</th><th>prvversion</th><th>proposal_id</th><th>productFilename</th><th>size</th><th>parent_obsid</th><th>dataRights</th></tr></thead>\n",
       "<thead><tr><th>str10</th><th>str2</th><th>str10</th><th>str20</th><th>str37</th><th>str1</th><th>str97</th><th>str7</th><th>str28</th><th>str8</th><th>str1</th><th>str2</th><th>str2</th><th>str63</th><th>str34</th><th>int64</th><th>str1</th><th>str6</th></tr></thead>\n",
       "<tr><td>9500379213</td><td>K2</td><td>timeseries</td><td>ktwo246375295-c12_lc</td><td>Lightcurve Long Cadence (KLC) - C12</td><td>S</td><td>mast:K2/url/missions/k2/lightcurves/c12/246300000/75000/ktwo246375295-c12_llc.fits</td><td>SCIENCE</td><td>Minimum Recommended Products</td><td>LLC</td><td>--</td><td>K2</td><td>39</td><td>GO12062_GO12071_GO12085_GO12099_GO12122_GO12124_GO12902_GO12903</td><td>ktwo246375295-c12_llc.fits</td><td>417600</td><td>0</td><td>PUBLIC</td></tr>\n",
       "</table>"
      ],
      "text/plain": [
       "<Table masked=True length=1>\n",
       "  obsID    obs_collection dataproduct_type ...  size  parent_obsid dataRights\n",
       "  str10         str2           str10       ... int64      str1        str6   \n",
       "---------- -------------- ---------------- ... ------ ------------ ----------\n",
       "9500379213             K2       timeseries ... 417600            0     PUBLIC"
      ]
     },
     "execution_count": 80,
     "metadata": {},
     "output_type": "execute_result"
    }
   ],
   "source": [
    "filt_prod = Observations.filter_products(data_prod, productSubGroupDescription=\"LLC\")\n",
    "\n",
    "filt_prod"
   ]
  },
  {
   "cell_type": "code",
   "execution_count": 42,
   "metadata": {},
   "outputs": [
    {
     "data": {
      "text/plain": [
       "'/Users/hakkeray/Sites/CODE/DATASCIENCE/BOOTCAMP/PROJECTS/starskope/DATA/mast'"
      ]
     },
     "execution_count": 42,
     "metadata": {},
     "output_type": "execute_result"
    }
   ],
   "source": [
    "# create dir for MAST data\n",
    "DATA = os.path.abspath(home+'/DATA')\n",
    "#%mkdir './data/mast'\n",
    "MAST = os.path.abspath(DATA+'/mast')\n",
    "MAST"
   ]
  },
  {
   "cell_type": "code",
   "execution_count": 28,
   "metadata": {},
   "outputs": [],
   "source": [
    "# Targets with confirmed exoplanets for K2 mission  \n",
    "K2_confirmed_planets = ['K2-1','K2-21','K2-28','K2-39','K2-54','K2-55','K2-57','K2-58',\n",
    "                        'K2-59','K2-60','K2-61','K2-62','K2-63','K2-64','K2-65','K2-66', \n",
    "                        'K2-68','K2-70','K2-71','K2-72','K2-73','K2-74','K2-75','K2-76',\n",
    "                        'K2-116','K2-167','K2-168','K2-169','K2-170','K2-171','K2-172']"
   ]
  },
  {
   "cell_type": "code",
   "execution_count": 29,
   "metadata": {},
   "outputs": [
    {
     "data": {
      "text/plain": [
       "31"
      ]
     },
     "execution_count": 29,
     "metadata": {},
     "output_type": "execute_result"
    }
   ],
   "source": [
    "len(K2_confirmed_planets)"
   ]
  },
  {
   "cell_type": "markdown",
   "metadata": {},
   "source": [
    "# Download from AWS"
   ]
  },
  {
   "cell_type": "code",
   "execution_count": 46,
   "metadata": {},
   "outputs": [
    {
     "name": "stdout",
     "output_type": "stream",
     "text": [
      "/Users/hakkeray/Sites/CODE/DATASCIENCE/BOOTCAMP/PROJECTS/starskope/DATA/mast\n"
     ]
    }
   ],
   "source": [
    "%cd DATA/mast"
   ]
  },
  {
   "cell_type": "code",
   "execution_count": 33,
   "metadata": {},
   "outputs": [],
   "source": [
    "## from spacekit.radio import mast_aws\n",
    "## function for downloading data from MAST s3 bucket on AWS\n",
    "def mast_aws(target_list):\n",
    "    import boto3\n",
    "    from astroquery.mast import Observations\n",
    "    from astroquery.mast import Catalogs\n",
    "    # configure aws settings\n",
    "    region = 'us-east-1'\n",
    "    s3 = boto3.resource('s3', region_name=region)\n",
    "    bucket = s3.Bucket('stpubdata')\n",
    "    location = {'LocationConstraint': region}\n",
    "    Observations.enable_cloud_dataset(provider='AWS', profile='default')\n",
    "    \n",
    "    for target in target_list:\n",
    "    #Do a cone search and find the K2 long cadence data for target\n",
    "        obs = Observations.query_object(target,radius=\"0s\")\n",
    "        want = (obs['obs_collection'] == \"K2\") & (obs['t_exptime'] ==1800.0)\n",
    "        data_prod = Observations.get_product_list(obs[want])\n",
    "        filt_prod = Observations.filter_products(data_prod, productSubGroupDescription=\"LLC\")\n",
    "        s3_uris = Observations.get_cloud_uris(filt_prod)\n",
    "        for url in s3_uris:\n",
    "        # Extract the S3 key from the S3 URL\n",
    "            fits_s3_key = url.replace(\"s3://stpubdata/\", \"\")\n",
    "            root = url.split('/')[-1]\n",
    "            bucket.download_file(fits_s3_key, root, ExtraArgs={\"RequestPayer\": \"requester\"})\n",
    "    Observations.disable_cloud_dataset()\n",
    "    return print('Download Complete')"
   ]
  },
  {
   "cell_type": "code",
   "execution_count": 110,
   "metadata": {},
   "outputs": [
    {
     "name": "stdout",
     "output_type": "stream",
     "text": [
      "INFO: Using the S3 STScI public dataset [astroquery.mast.cloud]\n",
      "INFO: See Request Pricing in https://aws.amazon.com/s3/pricing/ for details [astroquery.mast.cloud]\n",
      "INFO: If you have not configured boto3, follow the instructions here: https://boto3.readthedocs.io/en/latest/guide/configuration.html [astroquery.mast.cloud]\n"
     ]
    },
    {
     "name": "stderr",
     "output_type": "stream",
     "text": [
      "WARNING: Your AWS account will be charged for access to the S3 bucket [astroquery.mast.cloud]\n"
     ]
    },
    {
     "name": "stdout",
     "output_type": "stream",
     "text": [
      "Download Complete\n"
     ]
    }
   ],
   "source": [
    "mast_aws(K2_confirmed_planets)"
   ]
  },
  {
   "cell_type": "code",
   "execution_count": 34,
   "metadata": {
    "scrolled": false
   },
   "outputs": [
    {
     "data": {
      "text/plain": [
       "['ktwo204890128-c02_llc.fits',\n",
       " 'ktwo228804845-c102_llc.fits',\n",
       " 'ktwo220709978-c08_llc.fits',\n",
       " 'ktwo201227197-c102_llc.fits',\n",
       " 'ktwo206181769-c03_llc.fits',\n",
       " 'ktwo228748826-c102_llc.fits',\n",
       " 'ktwo211924657-c18_llc.fits',\n",
       " 'ktwo211919004-c18_llc.fits',\n",
       " 'ktwo211770795-c05_llc.fits',\n",
       " 'ktwo246067459-c12_llc.fits',\n",
       " 'ktwo211964830-c16_llc.fits',\n",
       " 'ktwo246471491-c19_llc.fits',\n",
       " 'ktwo211529065-c16_llc.fits',\n",
       " 'ktwo212735333-c17_llc.fits',\n",
       " 'ktwo228760097-c102_llc.fits',\n",
       " 'ktwo204129699-c02_llc.fits',\n",
       " 'ktwo211491383-c16_llc.fits',\n",
       " 'ktwo205117205-c02_llc.fits',\n",
       " 'ktwo211816003-c05_llc.fits',\n",
       " 'ktwo246151543-c12_llc.fits',\n",
       " 'ktwo247267267-c13_llc.fits',\n",
       " 'ktwo211916756-c18_llc.fits',\n",
       " 'ktwo211418729-c18_llc.fits',\n",
       " 'ktwo228748383-c102_llc.fits',\n",
       " 'ktwo211791178-c18_llc.fits',\n",
       " 'ktwo206026136-c03_llc.fits',\n",
       " 'ktwo214787262-c07_llc.fits',\n",
       " 'ktwo206162305-c03_llc.fits',\n",
       " 'ktwo201367065-c01_llc.fits',\n",
       " 'ktwo203776696-c02_llc.fits',\n",
       " 'ktwo211525389-c18_llc.fits',\n",
       " 'ktwo212157262-c05_llc.fits',\n",
       " 'ktwo212418133-c06_llc.fits',\n",
       " 'ktwo212554013-c17_llc.fits',\n",
       " 'ktwo211913977-c05_llc.fits',\n",
       " 'ktwo246151543-c19_llc.fits',\n",
       " 'ktwo206209135-c03_llc.fits',\n",
       " 'ktwo206101302-c03_llc.fits',\n",
       " 'ktwo201092629-c102_llc.fits',\n",
       " 'ktwo211611158-c05_llc.fits',\n",
       " 'ktwo212006344-c16_llc.fits',\n",
       " 'ktwo210894022-c04_llc.fits',\n",
       " 'ktwo246471491-c12_llc.fits',\n",
       " 'ktwo211970147-c18_llc.fits',\n",
       " 'ktwo211969807-c05_llc.fits',\n",
       " 'ktwo212069861-c18_llc.fits',\n",
       " 'ktwo205071984-c02_llc.fits',\n",
       " 'ktwo246067459-c19_llc.fits',\n",
       " 'ktwo212130773-c18_llc.fits',\n",
       " 'ktwo201390048-c102_llc.fits',\n",
       " 'ktwo212828909-c17_llc.fits',\n",
       " 'ktwo211791178-c05_llc.fits',\n",
       " 'ktwo211418729-c05_llc.fits',\n",
       " 'ktwo212460519-c06_llc.fits',\n",
       " 'ktwo220621788-c08_llc.fits',\n",
       " 'ktwo206153219-c03_llc.fits',\n",
       " 'ktwo211525389-c05_llc.fits',\n",
       " 'ktwo201427874-c102_llc.fits',\n",
       " 'ktwo212157262-c18_llc.fits',\n",
       " 'ktwo228735255-c102_llc.fits',\n",
       " 'ktwo210750726-c04_llc.fits',\n",
       " 'ktwo201130233-c102_llc.fits',\n",
       " 'ktwo211913977-c18_llc.fits',\n",
       " 'ktwo211682544-c16_llc.fits',\n",
       " 'ktwo201528828-c102_llc.fits',\n",
       " 'ktwo228732031-c102_llc.fits',\n",
       " 'ktwo211611158-c18_llc.fits',\n",
       " 'ktwo228758778-c102_llc.fits',\n",
       " 'ktwo210838726-c04_llc.fits',\n",
       " 'ktwo210490365-c04_llc.fits',\n",
       " 'ktwo220592745-c08_llc.fits',\n",
       " 'ktwo212130773-c05_llc.fits',\n",
       " 'ktwo212069861-c05_llc.fits',\n",
       " 'ktwo211969807-c18_llc.fits',\n",
       " 'ktwo211970147-c05_llc.fits',\n",
       " 'ktwo212779596-c17_llc.fits',\n",
       " 'ktwo210508766-c04_llc.fits',\n",
       " 'ktwo206245553-c03_llc.fits',\n",
       " 'ktwo220225178-c08_llc.fits',\n",
       " 'ktwo212691422-c17_llc.fits',\n",
       " 'ktwo211770795-c18_llc.fits',\n",
       " 'ktwo211924657-c05_llc.fits',\n",
       " 'ktwo211919004-c05_llc.fits',\n",
       " 'ktwo211413752-c16_llc.fits',\n",
       " 'ktwo206038483-c03_llc.fits',\n",
       " 'ktwo246375295-c12_llc.fits',\n",
       " 'ktwo216405287-c07_llc.fits',\n",
       " 'ktwo201403446-c01_llc.fits',\n",
       " 'ktwo211089792-c04_llc.fits',\n",
       " 'ktwo211816003-c18_llc.fits',\n",
       " 'ktwo205924614-c03_llc.fits',\n",
       " 'ktwo206318379-c03_llc.fits',\n",
       " 'ktwo201128338-c102_llc.fits',\n",
       " 'ktwo213715787-c07_llc.fits',\n",
       " 'ktwo206159027-c03_llc.fits',\n",
       " 'ktwo211916756-c05_llc.fits',\n",
       " 'ktwo201598502-c102_llc.fits',\n",
       " 'ktwo201345483-c01_llc.fits',\n",
       " 'ktwo211355342-c05_llc.fits',\n",
       " 'ktwo210403955-c04_llc.fits',\n",
       " 'ktwo210965800-c04_llc.fits',\n",
       " 'ktwo211680698-c05_llc.fits',\n",
       " 'ktwo212164470-c05_llc.fits',\n",
       " 'ktwo201393098-c01_llc.fits',\n",
       " 'ktwo249801827-c15_llc.fits',\n",
       " 'ktwo212735333-c06_llc.fits',\n",
       " 'ktwo211713099-c05_llc.fits',\n",
       " 'ktwo211562654-c18_llc.fits',\n",
       " 'ktwo210731500-c13_llc.fits',\n",
       " 'ktwo201384232-c01_llc.fits',\n",
       " 'ktwo212110888-c18_llc.fits',\n",
       " 'ktwo228721452-c102_llc.fits',\n",
       " 'ktwo201205469-c01_llc.fits',\n",
       " 'ktwo220503236-c08_llc.fits',\n",
       " 'ktwo212418133-c17_llc.fits',\n",
       " 'ktwo210448987-c04_llc.fits',\n",
       " 'ktwo247418783-c13_llc.fits',\n",
       " 'ktwo210402237-c04_llc.fits',\n",
       " 'ktwo210363145-c04_llc.fits',\n",
       " 'ktwo228736155-c102_llc.fits',\n",
       " 'ktwo229017395-c102_llc.fits',\n",
       " 'ktwo216008129-c07_llc.fits',\n",
       " 'ktwo201613023-c01_llc.fits',\n",
       " 'ktwo212628254-c17_llc.fits',\n",
       " 'ktwo249624646-c15_llc.fits',\n",
       " 'ktwo201833600-c01_llc.fits',\n",
       " 'ktwo201132684-c102_llc.fits',\n",
       " 'ktwo220650439-c08_llc.fits',\n",
       " 'ktwo212554013-c06_llc.fits',\n",
       " 'ktwo210718708-c04_llc.fits',\n",
       " 'ktwo220629489-c08_llc.fits',\n",
       " 'ktwo228849382-c102_llc.fits',\n",
       " 'ktwo212110888-c05_llc.fits',\n",
       " 'ktwo210968143-c04_llc.fits',\n",
       " 'ktwo211906650-c05_llc.fits',\n",
       " 'ktwo212828909-c06_llc.fits',\n",
       " 'ktwo206247743-c03_llc.fits',\n",
       " 'ktwo201386739-c102_llc.fits',\n",
       " 'ktwo246865365-c13_llc.fits',\n",
       " 'ktwo212460519-c17_llc.fits',\n",
       " 'ktwo220487418-c08_llc.fits',\n",
       " 'ktwo246393474-c19_llc.fits',\n",
       " 'ktwo201549860-c01_llc.fits',\n",
       " 'ktwo210957318-c04_llc.fits',\n",
       " 'ktwo210731500-c04_llc.fits',\n",
       " 'ktwo247098361-c13_llc.fits',\n",
       " 'ktwo220598331-c08_llc.fits',\n",
       " 'ktwo206007892-c03_llc.fits',\n",
       " 'ktwo205950854-c03_llc.fits',\n",
       " 'ktwo210897587-c13_llc.fits',\n",
       " 'ktwo228734900-c102_llc.fits',\n",
       " 'ktwo212691422-c06_llc.fits',\n",
       " 'ktwo246393474-c12_llc.fits',\n",
       " 'ktwo228934525-c102_llc.fits',\n",
       " 'ktwo211355342-c18_llc.fits',\n",
       " 'ktwo201498078-c14_llc.fits',\n",
       " 'ktwo212154564-c16_llc.fits',\n",
       " 'ktwo212779596-c06_llc.fits',\n",
       " 'ktwo229426032-c112_llc.fits',\n",
       " 'ktwo220194974-c08_llc.fits',\n",
       " 'ktwo212164470-c18_llc.fits',\n",
       " 'ktwo220376054-c08_llc.fits',\n",
       " 'ktwo211680698-c18_llc.fits',\n",
       " 'ktwo248435473-c14_llc.fits',\n",
       " 'ktwo201155177-c01_llc.fits',\n",
       " 'ktwo210857328-c04_llc.fits',\n",
       " 'ktwo201736247-c01_llc.fits',\n",
       " 'ktwo247887989-c13_llc.fits',\n",
       " 'ktwo201166680-c102_llc.fits',\n",
       " 'ktwo211713099-c18_llc.fits',\n",
       " 'ktwo228763938-c102_llc.fits',\n",
       " 'ktwo211562654-c05_llc.fits',\n",
       " 'ktwo246911830-c13_llc.fits',\n",
       " 'ktwo206027655-c03_llc.fits',\n",
       " 'ktwo220522262-c08_llc.fits',\n",
       " 'ktwo212154564-c05_llc.fits',\n",
       " 'ktwo206144956-c03_llc.fits',\n",
       " 'ktwo206049764-c03_llc.fits',\n",
       " 'ktwo212689874-c06_llc.fits',\n",
       " 'ktwo212782836-c17_llc.fits',\n",
       " 'ktwo201110617-c102_llc.fits',\n",
       " 'ktwo211351816-c18_llc.fits',\n",
       " 'ktwo211331236-c18_llc.fits',\n",
       " 'ktwo220481411-c08_llc.fits',\n",
       " 'ktwo201635569-c01_llc.fits',\n",
       " 'ktwo228813918-c102_llc.fits',\n",
       " 'ktwo211818569-c18_llc.fits',\n",
       " 'ktwo211990866-c05_llc.fits',\n",
       " 'ktwo211391664-c18_llc.fits',\n",
       " 'ktwo210707130-c04_llc.fits',\n",
       " 'ktwo212580872-c06_llc.fits',\n",
       " 'ktwo206082454-c03_llc.fits',\n",
       " 'ktwo220241529-c08_llc.fits',\n",
       " 'ktwo201596316-c01_llc.fits',\n",
       " 'ktwo212110888-c16_llc.fits',\n",
       " 'ktwo206011691-c03_llc.fits',\n",
       " 'ktwo201505350-c01_llc.fits',\n",
       " 'ktwo212672300-c06_llc.fits',\n",
       " 'ktwo212803289-c06_llc.fits',\n",
       " 'ktwo212480208-c06_llc.fits',\n",
       " 'ktwo212398486-c06_llc.fits',\n",
       " 'ktwo206348688-c03_llc.fits',\n",
       " 'ktwo211319617-c18_llc.fits',\n",
       " 'ktwo228894622-c102_llc.fits',\n",
       " 'ktwo211359660-c18_llc.fits',\n",
       " 'ktwo211594205-c05_llc.fits',\n",
       " 'ktwo206044803-c03_llc.fits',\n",
       " 'ktwo210512842-c04_llc.fits',\n",
       " 'ktwo228968232-c102_llc.fits',\n",
       " 'ktwo212496592-c06_llc.fits',\n",
       " 'ktwo201637175-c01_llc.fits',\n",
       " 'ktwo248545986-c14_llc.fits',\n",
       " 'ktwo220218012-c08_llc.fits',\n",
       " 'ktwo201295312-c01_llc.fits',\n",
       " 'ktwo212521166-c06_llc.fits',\n",
       " 'ktwo228725791-c102_llc.fits',\n",
       " 'ktwo201677835-c01_llc.fits',\n",
       " 'ktwo246078672-c12_llc.fits',\n",
       " 'ktwo217941732-c07_llc.fits',\n",
       " 'ktwo211359660-c05_llc.fits',\n",
       " 'ktwo211594205-c18_llc.fits',\n",
       " 'ktwo201690311-c01_llc.fits',\n",
       " 'ktwo201102594-c102_llc.fits',\n",
       " 'ktwo219800881-c07_llc.fits',\n",
       " 'ktwo211319617-c05_llc.fits',\n",
       " 'ktwo212768333-c17_llc.fits',\n",
       " 'ktwo247589423-c13_llc.fits',\n",
       " 'ktwo220621087-c08_llc.fits',\n",
       " 'ktwo246078672-c19_llc.fits',\n",
       " 'ktwo205686202-c02_llc.fits',\n",
       " 'ktwo212154564-c18_llc.fits',\n",
       " 'ktwo229131722-c102_llc.fits',\n",
       " 'ktwo203771098-c02_llc.fits',\n",
       " 'ktwo206008091-c03_llc.fits',\n",
       " 'ktwo212686205-c17_llc.fits',\n",
       " 'ktwo201713348-c01_llc.fits',\n",
       " 'ktwo228754001-c102_llc.fits',\n",
       " 'ktwo201338508-c01_llc.fits',\n",
       " 'ktwo201546283-c01_llc.fits',\n",
       " 'ktwo201460826-c01_llc.fits',\n",
       " 'ktwo206192813-c03_llc.fits',\n",
       " 'ktwo205916793-c03_llc.fits',\n",
       " 'ktwo210558622-c04_llc.fits',\n",
       " 'ktwo211351816-c05_llc.fits',\n",
       " 'ktwo211818569-c05_llc.fits',\n",
       " 'ktwo211331236-c05_llc.fits',\n",
       " 'ktwo201629650-c01_llc.fits',\n",
       " 'ktwo211391664-c05_llc.fits',\n",
       " 'ktwo212164470-c16_llc.fits',\n",
       " 'ktwo211990866-c18_llc.fits',\n",
       " 'ktwo228809550-c102_llc.fits',\n",
       " 'ktwo206268299-c03_llc.fits',\n",
       " 'ktwo201615463-c102_llc.fits',\n",
       " 'ktwo245950175-c12_llc.fits',\n",
       " 'ktwo211413752-c05_llc.fits',\n",
       " 'ktwo211919004-c16_llc.fits',\n",
       " 'ktwo211924657-c16_llc.fits',\n",
       " 'ktwo205904628-c03_llc.fits',\n",
       " 'ktwo212689874-c17_llc.fits',\n",
       " 'ktwo210667381-c04_llc.fits',\n",
       " 'ktwo212008766-c18_llc.fits',\n",
       " 'ktwo212782836-c06_llc.fits',\n",
       " 'ktwo211077024-c04_llc.fits',\n",
       " 'ktwo201445392-c01_llc.fits',\n",
       " 'ktwo212357477-c06_llc.fits',\n",
       " 'ktwo201754305-c01_llc.fits',\n",
       " 'ktwo202083828-c00_llc.fits',\n",
       " 'ktwo210643811-c04_llc.fits',\n",
       " 'ktwo229426032-c111_llc.fits',\n",
       " 'ktwo212394689-c06_llc.fits',\n",
       " 'ktwo211491383-c18_llc.fits',\n",
       " 'ktwo206432863-c03_llc.fits',\n",
       " 'ktwo206026904-c03_llc.fits',\n",
       " 'ktwo201231064-c102_llc.fits',\n",
       " 'ktwo220170303-c08_llc.fits',\n",
       " 'ktwo220501947-c08_llc.fits',\n",
       " 'ktwo212580872-c17_llc.fits',\n",
       " 'ktwo201577035-c01_llc.fits',\n",
       " 'ktwo211442297-c18_llc.fits',\n",
       " 'ktwo201912552-c01_llc.fits',\n",
       " 'ktwo211529065-c18_llc.fits',\n",
       " 'ktwo201647718-c01_llc.fits',\n",
       " 'ktwo228725972-c102_llc.fits',\n",
       " 'ktwo220211923-c08_llc.fits',\n",
       " 'ktwo218916923-c07_llc.fits',\n",
       " 'ktwo210693462-c04_llc.fits',\n",
       " 'ktwo220256496-c08_llc.fits',\n",
       " 'ktwo211736671-c18_llc.fits',\n",
       " 'ktwo212803289-c17_llc.fits',\n",
       " 'ktwo212480208-c17_llc.fits',\n",
       " 'ktwo201855371-c01_llc.fits',\n",
       " 'ktwo212672300-c17_llc.fits',\n",
       " 'ktwo211048999-c04_llc.fits',\n",
       " 'ktwo220321605-c08_llc.fits',\n",
       " 'ktwo204221263-c15_llc.fits',\n",
       " 'ktwo245950175-c19_llc.fits',\n",
       " 'ktwo212006344-c18_llc.fits',\n",
       " 'ktwo216468514-c07_llc.fits',\n",
       " 'ktwo211970147-c16_llc.fits',\n",
       " 'ktwo212069861-c16_llc.fits',\n",
       " 'ktwo211682544-c05_llc.fits',\n",
       " 'ktwo216494238-c07_llc.fits',\n",
       " 'ktwo212012119-c05_llc.fits',\n",
       " 'ktwo210577548-c04_llc.fits',\n",
       " 'ktwo212521166-c17_llc.fits',\n",
       " 'ktwo211736671-c05_llc.fits',\n",
       " 'ktwo201225286-c102_llc.fits',\n",
       " 'ktwo201357643-c102_llc.fits',\n",
       " 'ktwo206011496-c03_llc.fits',\n",
       " 'ktwo220504338-c08_llc.fits',\n",
       " 'ktwo206125618-c03_llc.fits',\n",
       " 'ktwo212496592-c17_llc.fits',\n",
       " 'ktwo228739306-c102_llc.fits',\n",
       " 'ktwo212006344-c05_llc.fits',\n",
       " 'ktwo206096602-c03_llc.fits',\n",
       " 'ktwo220471666-c08_llc.fits',\n",
       " 'ktwo212768333-c06_llc.fits',\n",
       " 'ktwo220250254-c08_llc.fits',\n",
       " 'ktwo211969807-c16_llc.fits',\n",
       " 'ktwo203826436-c02_llc.fits',\n",
       " 'ktwo220554210-c08_llc.fits',\n",
       " 'ktwo211682544-c18_llc.fits',\n",
       " 'ktwo211913977-c16_llc.fits',\n",
       " 'ktwo220341183-c08_llc.fits',\n",
       " 'ktwo212012119-c18_llc.fits',\n",
       " 'ktwo211611158-c16_llc.fits',\n",
       " 'ktwo249889081-c15_llc.fits',\n",
       " 'ktwo228798746-c102_llc.fits',\n",
       " 'ktwo211413752-c18_llc.fits',\n",
       " 'ktwo212008766-c05_llc.fits',\n",
       " 'ktwo228801451-c102_llc.fits',\n",
       " 'ktwo204221263-c02_llc.fits',\n",
       " 'ktwo228974324-c102_llc.fits',\n",
       " 'ktwo201465501-c01_llc.fits',\n",
       " 'ktwo220216730-c08_llc.fits',\n",
       " 'ktwo212686205-c06_llc.fits',\n",
       " 'ktwo220522664-c08_llc.fits',\n",
       " 'ktwo212555594-c06_llc.fits',\n",
       " 'ktwo211491383-c05_llc.fits',\n",
       " 'ktwo211816003-c16_llc.fits',\n",
       " 'ktwo201208431-c01_llc.fits',\n",
       " 'ktwo220186645-c08_llc.fits',\n",
       " 'ktwo201211526-c102_llc.fits',\n",
       " 'ktwo211529065-c05_llc.fits',\n",
       " 'ktwo206119924-c03_llc.fits',\n",
       " 'ktwo211442297-c05_llc.fits',\n",
       " 'ktwo249451861-c15_llc.fits',\n",
       " 'ktwo249622103-c15_llc.fits']"
      ]
     },
     "execution_count": 34,
     "metadata": {},
     "output_type": "execute_result"
    }
   ],
   "source": [
    "os.listdir(MAST)"
   ]
  },
  {
   "cell_type": "markdown",
   "metadata": {},
   "source": [
    "# Nasa Exoplanet Archive API"
   ]
  },
  {
   "cell_type": "code",
   "execution_count": null,
   "metadata": {},
   "outputs": [],
   "source": [
    "# https://exoplanetarchive.ipac.caltech.edu/cgi-bin/TblView/nph-tblView?app=ExoTbls&config=PS&constraint=default_flag=1"
   ]
  },
  {
   "cell_type": "code",
   "execution_count": 144,
   "metadata": {},
   "outputs": [
    {
     "data": {
      "text/plain": [
       "requests.models.Response"
      ]
     },
     "execution_count": 144,
     "metadata": {},
     "output_type": "execute_result"
    }
   ],
   "source": [
    "import requests\n",
    "\n",
    "# Getting response from request\n",
    "#resp = requests.get('https://exoplanetarchive.ipac.caltech.edu/cgi-bin/nstedAPI/nph-nstedAPI?table=exoplanets')\n",
    "resp = requests.get('https://exoplanetarchive.ipac.caltech.edu/cgi-bin/nstedAPI/nph-nstedAPI?table=exoplanets&select=pl_hostname,ra,dec&where=pl_hostname like K2&format=json')\n",
    "type(resp)"
   ]
  },
  {
   "cell_type": "code",
   "execution_count": 145,
   "metadata": {},
   "outputs": [
    {
     "data": {
      "text/plain": [
       "200"
      ]
     },
     "execution_count": 145,
     "metadata": {},
     "output_type": "execute_result"
    }
   ],
   "source": [
    "requests.codes.ok"
   ]
  },
  {
   "cell_type": "code",
   "execution_count": 146,
   "metadata": {},
   "outputs": [
    {
     "name": "stdout",
     "output_type": "stream",
     "text": [
      "Response Code: 200\n",
      "Is it OK? True\n"
     ]
    }
   ],
   "source": [
    "print('Response Code:', resp.status_code)\n",
    "print('Is it OK?', resp.status_code == requests.codes.ok)"
   ]
  },
  {
   "cell_type": "code",
   "execution_count": 205,
   "metadata": {},
   "outputs": [],
   "source": [
    "\n",
    "# Note we can only do this becasue r.text() is in JSON format\n",
    "#r=requests.get('https://exoplanetarchive.ipac.caltech.edu/cgi-bin/nstedAPI/nph-nstedAPI?table=exoplanets&select=pl_hostname,ra,dec&where=pl_facility%like%K2')\n",
    "\n",
    "r=requests.get(\"https://exoplanetarchive.ipac.caltech.edu/cgi-bin/nstedAPI/nph-nstedAPI?table=exoplanets&format=json&select=pl_hostname&where=pl_hostname like '%K2%'\")\n",
    "results = r.json()"
   ]
  },
  {
   "cell_type": "code",
   "execution_count": 206,
   "metadata": {},
   "outputs": [
    {
     "data": {
      "text/plain": [
       "{'pl_hostname': 'K2-3'}"
      ]
     },
     "execution_count": 206,
     "metadata": {},
     "output_type": "execute_result"
    }
   ],
   "source": [
    "# Don't show your IP\n",
    "results[0]"
   ]
  },
  {
   "cell_type": "code",
   "execution_count": 218,
   "metadata": {},
   "outputs": [
    {
     "name": "stdout",
     "output_type": "stream",
     "text": [
      "https://exoplanetarchive.ipac.caltech.edu/cgi-bin/nstedAPI/nph-nstedAPI?table=exoplanets&format=json&select=pl_hostname&where=pl_hostname%20like%20'%25K2%25'\n"
     ]
    },
    {
     "data": {
      "text/plain": [
       "{'pl_hostname': 'K2-3'}"
      ]
     },
     "metadata": {},
     "output_type": "display_data"
    }
   ],
   "source": [
    "print(r.url)\n",
    "display(results[0])"
   ]
  },
  {
   "cell_type": "code",
   "execution_count": 257,
   "metadata": {},
   "outputs": [],
   "source": [
    "targets_df = pd.DataFrame.from_dict(results)\n",
    "\n",
    "k2_confirmed_total = list(targets_df['pl_hostname'].unique())"
   ]
  },
  {
   "cell_type": "code",
   "execution_count": 259,
   "metadata": {},
   "outputs": [],
   "source": [
    "k2_targets = []\n",
    "\n",
    "for a in K2_confirmed_planets:\n",
    "    for b in k2_confirmed_total:\n",
    "        if a == b:\n",
    "            k2_targets.append(a)\n",
    "            k2_confirmed_total.remove(b)"
   ]
  },
  {
   "cell_type": "code",
   "execution_count": 261,
   "metadata": {},
   "outputs": [],
   "source": [
    "for b in k2_confirmed_total:\n",
    "    k2_targets.append(b)"
   ]
  },
  {
   "cell_type": "code",
   "execution_count": 263,
   "metadata": {},
   "outputs": [
    {
     "data": {
      "text/plain": [
       "266"
      ]
     },
     "execution_count": 263,
     "metadata": {},
     "output_type": "execute_result"
    }
   ],
   "source": [
    "len(k2_targets)"
   ]
  },
  {
   "cell_type": "code",
   "execution_count": 270,
   "metadata": {},
   "outputs": [],
   "source": [
    "k2_targets.remove('K2-288 B')"
   ]
  },
  {
   "cell_type": "code",
   "execution_count": 271,
   "metadata": {},
   "outputs": [],
   "source": [
    "k2_targets.append('K2-288')"
   ]
  },
  {
   "cell_type": "code",
   "execution_count": 267,
   "metadata": {},
   "outputs": [],
   "source": [
    "# Passing parameters\n",
    "\n",
    "# credentials = {'user_name': ru, 'password': 'password'}\n",
    "# r = requests.get('', params = credentials)"
   ]
  },
  {
   "cell_type": "markdown",
   "metadata": {},
   "source": [
    "# Download FITS files from MAST on AWS"
   ]
  },
  {
   "cell_type": "code",
   "execution_count": 286,
   "metadata": {},
   "outputs": [
    {
     "name": "stdout",
     "output_type": "stream",
     "text": [
      "INFO: Using the S3 STScI public dataset [astroquery.mast.cloud]\n",
      "INFO: See Request Pricing in https://aws.amazon.com/s3/pricing/ for details [astroquery.mast.cloud]\n",
      "INFO: If you have not configured boto3, follow the instructions here: https://boto3.readthedocs.io/en/latest/guide/configuration.html [astroquery.mast.cloud]\n"
     ]
    },
    {
     "name": "stderr",
     "output_type": "stream",
     "text": [
      "WARNING: Your AWS account will be charged for access to the S3 bucket [astroquery.mast.cloud]\n"
     ]
    },
    {
     "name": "stdout",
     "output_type": "stream",
     "text": [
      "Download Complete\n"
     ]
    }
   ],
   "source": [
    "# trying first 100\n",
    "mast_aws(k2_targets[0:100])"
   ]
  },
  {
   "cell_type": "code",
   "execution_count": 288,
   "metadata": {},
   "outputs": [],
   "source": [
    "k2_targets.remove('K2-315')"
   ]
  },
  {
   "cell_type": "code",
   "execution_count": 289,
   "metadata": {},
   "outputs": [
    {
     "name": "stdout",
     "output_type": "stream",
     "text": [
      "INFO: Using the S3 STScI public dataset [astroquery.mast.cloud]\n",
      "INFO: See Request Pricing in https://aws.amazon.com/s3/pricing/ for details [astroquery.mast.cloud]\n",
      "INFO: If you have not configured boto3, follow the instructions here: https://boto3.readthedocs.io/en/latest/guide/configuration.html [astroquery.mast.cloud]\n"
     ]
    },
    {
     "name": "stderr",
     "output_type": "stream",
     "text": [
      "WARNING: Your AWS account will be charged for access to the S3 bucket [astroquery.mast.cloud]\n"
     ]
    },
    {
     "name": "stdout",
     "output_type": "stream",
     "text": [
      "Download Complete\n"
     ]
    }
   ],
   "source": [
    "# retrieve the remaining 166\n",
    "mast_aws(k2_targets[100:])"
   ]
  },
  {
   "cell_type": "markdown",
   "metadata": {},
   "source": [
    "# FITS Light Curves"
   ]
  },
  {
   "cell_type": "code",
   "execution_count": 35,
   "metadata": {},
   "outputs": [
    {
     "data": {
      "text/plain": [
       "348"
      ]
     },
     "execution_count": 35,
     "metadata": {},
     "output_type": "execute_result"
    }
   ],
   "source": [
    "len(os.listdir(MAST))"
   ]
  },
  {
   "cell_type": "code",
   "execution_count": 65,
   "metadata": {},
   "outputs": [
    {
     "data": {
      "text/plain": [
       "'ktwo220709978-c08_llc.fits'"
      ]
     },
     "execution_count": 65,
     "metadata": {},
     "output_type": "execute_result"
    }
   ],
   "source": [
    "os.listdir(MAST)[2]"
   ]
  },
  {
   "cell_type": "code",
   "execution_count": 66,
   "metadata": {},
   "outputs": [
    {
     "name": "stdout",
     "output_type": "stream",
     "text": [
      "Filename: ktwo220709978-c08_llc.fits\n",
      "No.    Name      Ver    Type      Cards   Dimensions   Format\n",
      "  0  PRIMARY       1 PrimaryHDU      54   ()      \n",
      "  1  LIGHTCURVE    1 BinTableHDU    155   3853R x 20C   [D, E, J, E, E, E, E, E, E, J, D, E, D, E, D, E, D, E, E, E]   \n",
      "  2  APERTURE      1 ImageHDU        48   (14, 17)   int32   \n"
     ]
    }
   ],
   "source": [
    "#fits_file = 'ktwo204890128-c02_llc.fits'\n",
    "fits_file = 'ktwo220709978-c08_llc.fits'\n",
    "# hdul = fits.open(fits_image_filename)\n",
    "# hdul.info()\n",
    "\n",
    "with fits.open(fits_file) as hdul:\n",
    "    hdul.info()"
   ]
  },
  {
   "cell_type": "code",
   "execution_count": 67,
   "metadata": {},
   "outputs": [
    {
     "data": {
      "text/plain": [
       "ColDefs(\n",
       "    name = 'TIME'; format = 'D'; unit = 'BJD - 2454833'; disp = 'D14.7'\n",
       "    name = 'TIMECORR'; format = 'E'; unit = 'd'; disp = 'E13.6'\n",
       "    name = 'CADENCENO'; format = 'J'; disp = 'I10'\n",
       "    name = 'SAP_FLUX'; format = 'E'; unit = 'e-/s'; disp = 'E14.7'\n",
       "    name = 'SAP_FLUX_ERR'; format = 'E'; unit = 'e-/s'; disp = 'E14.7'\n",
       "    name = 'SAP_BKG'; format = 'E'; unit = 'e-/s'; disp = 'E14.7'\n",
       "    name = 'SAP_BKG_ERR'; format = 'E'; unit = 'e-/s'; disp = 'E14.7'\n",
       "    name = 'PDCSAP_FLUX'; format = 'E'; unit = 'e-/s'; disp = 'E14.7'\n",
       "    name = 'PDCSAP_FLUX_ERR'; format = 'E'; unit = 'e-/s'; disp = 'E14.7'\n",
       "    name = 'SAP_QUALITY'; format = 'J'; disp = 'B16.16'\n",
       "    name = 'PSF_CENTR1'; format = 'D'; unit = 'pixel'; disp = 'F10.5'\n",
       "    name = 'PSF_CENTR1_ERR'; format = 'E'; unit = 'pixel'; disp = 'E14.7'\n",
       "    name = 'PSF_CENTR2'; format = 'D'; unit = 'pixel'; disp = 'F10.5'\n",
       "    name = 'PSF_CENTR2_ERR'; format = 'E'; unit = 'pixel'; disp = 'E14.7'\n",
       "    name = 'MOM_CENTR1'; format = 'D'; unit = 'pixel'; disp = 'F10.5'\n",
       "    name = 'MOM_CENTR1_ERR'; format = 'E'; unit = 'pixel'; disp = 'E14.7'\n",
       "    name = 'MOM_CENTR2'; format = 'D'; unit = 'pixel'; disp = 'F10.5'\n",
       "    name = 'MOM_CENTR2_ERR'; format = 'E'; unit = 'pixel'; disp = 'E14.7'\n",
       "    name = 'POS_CORR1'; format = 'E'; unit = 'pixels'; disp = 'E14.7'\n",
       "    name = 'POS_CORR2'; format = 'E'; unit = 'pixels'; disp = 'E14.7'\n",
       ")"
      ]
     },
     "execution_count": 67,
     "metadata": {},
     "output_type": "execute_result"
    }
   ],
   "source": [
    "hdul[1].columns"
   ]
  },
  {
   "cell_type": "code",
   "execution_count": 68,
   "metadata": {},
   "outputs": [],
   "source": [
    "from astropy.timeseries import TimeSeries\n",
    "ts = TimeSeries.read(fits_file, format='kepler.fits') "
   ]
  },
  {
   "cell_type": "code",
   "execution_count": 69,
   "metadata": {},
   "outputs": [
    {
     "data": {
      "text/html": [
       "<i>TimeSeries length=3847</i>\n",
       "<table id=\"table140472081944080\" class=\"table-striped table-bordered table-condensed\">\n",
       "<thead><tr><th>time</th><th>timecorr</th><th>cadenceno</th><th>sap_flux</th><th>sap_flux_err</th><th>sap_bkg</th><th>sap_bkg_err</th><th>pdcsap_flux</th><th>pdcsap_flux_err</th><th>sap_quality</th><th>psf_centr1</th><th>psf_centr1_err</th><th>psf_centr2</th><th>psf_centr2_err</th><th>mom_centr1</th><th>mom_centr1_err</th><th>mom_centr2</th><th>mom_centr2_err</th><th>pos_corr1</th><th>pos_corr2</th></tr></thead>\n",
       "<thead><tr><th></th><th>d</th><th></th><th>electron / s</th><th>electron / s</th><th>electron / s</th><th>electron / s</th><th>electron / s</th><th>electron / s</th><th></th><th>pix</th><th>pix</th><th>pix</th><th>pix</th><th>pix</th><th>pix</th><th>pix</th><th>pix</th><th>pix</th><th>pix</th></tr></thead>\n",
       "<thead><tr><th>object</th><th>float32</th><th>int32</th><th>float32</th><th>float32</th><th>float32</th><th>float32</th><th>float32</th><th>float32</th><th>int32</th><th>float64</th><th>float32</th><th>float64</th><th>float32</th><th>float64</th><th>float32</th><th>float64</th><th>float32</th><th>float32</th><th>float32</th></tr></thead>\n",
       "<tr><td>2016-01-04T13:38:54.934</td><td>5.410247e-03</td><td>119907</td><td>2.3606002e+06</td><td>4.3809723e+01</td><td>3.4626473e+04</td><td>1.4316656e+01</td><td>nan</td><td>nan</td><td>10000000000000000000</td><td>nan</td><td>nan</td><td>nan</td><td>nan</td><td>177.32088</td><td>2.7605094e-05</td><td>626.04854</td><td>4.0197068e-05</td><td>4.2486817e-01</td><td>-4.1044626e-02</td></tr>\n",
       "<tr><td>2016-01-04T14:08:20.291</td><td>5.409024e-03</td><td>119908</td><td>2.3614110e+06</td><td>4.3767784e+01</td><td>3.4651418e+04</td><td>1.4192269e+01</td><td>2.3590375e+06</td><td>4.3439220e+01</td><td>0</td><td>nan</td><td>nan</td><td>nan</td><td>nan</td><td>177.23795</td><td>2.7668191e-05</td><td>625.98416</td><td>4.0034243e-05</td><td>3.3385360e-01</td><td>-9.9099487e-02</td></tr>\n",
       "<tr><td>2016-01-04T14:37:45.649</td><td>5.407802e-03</td><td>119909</td><td>2.3628700e+06</td><td>4.3795677e+01</td><td>3.4640953e+04</td><td>1.4266400e+01</td><td>2.3604588e+06</td><td>4.3498772e+01</td><td>0</td><td>nan</td><td>nan</td><td>nan</td><td>nan</td><td>177.15555</td><td>2.7762846e-05</td><td>625.90205</td><td>3.9620056e-05</td><td>2.3359062e-01</td><td>-1.4960502e-01</td></tr>\n",
       "<tr><td>2016-01-04T15:07:11.006</td><td>5.406579e-03</td><td>119910</td><td>2.3636088e+06</td><td>4.3795174e+01</td><td>3.4631508e+04</td><td>1.4284342e+01</td><td>2.3609498e+06</td><td>4.3506313e+01</td><td>0</td><td>nan</td><td>nan</td><td>nan</td><td>nan</td><td>177.07082</td><td>2.7888716e-05</td><td>625.80602</td><td>3.8830280e-05</td><td>1.3440025e-01</td><td>-2.0864224e-01</td></tr>\n",
       "<tr><td>2016-01-04T15:36:36.364</td><td>5.405354e-03</td><td>119911</td><td>2.3638992e+06</td><td>4.3798229e+01</td><td>3.4618805e+04</td><td>1.4331539e+01</td><td>2.3607782e+06</td><td>4.3516930e+01</td><td>0</td><td>nan</td><td>nan</td><td>nan</td><td>nan</td><td>176.98870</td><td>2.8029715e-05</td><td>625.71098</td><td>3.7838123e-05</td><td>3.6891773e-02</td><td>-2.6592341e-01</td></tr>\n",
       "<tr><td>2016-01-04T16:06:01.721</td><td>5.404130e-03</td><td>119912</td><td>2.3643890e+06</td><td>4.3780903e+01</td><td>3.4661141e+04</td><td>1.4331285e+01</td><td>2.3608390e+06</td><td>4.3483044e+01</td><td>0</td><td>nan</td><td>nan</td><td>nan</td><td>nan</td><td>176.90464</td><td>2.8181114e-05</td><td>625.61454</td><td>3.7026821e-05</td><td>-4.5449629e-02</td><td>-3.2478178e-01</td></tr>\n",
       "<tr><td>2016-01-04T16:35:27.078</td><td>5.402905e-03</td><td>119913</td><td>2.3652132e+06</td><td>4.3774738e+01</td><td>3.4634969e+04</td><td>1.4316993e+01</td><td>2.3613215e+06</td><td>4.3473339e+01</td><td>0</td><td>nan</td><td>nan</td><td>nan</td><td>nan</td><td>176.81750</td><td>2.8316617e-05</td><td>625.54129</td><td>3.6867412e-05</td><td>-1.2813345e-01</td><td>-3.8050708e-01</td></tr>\n",
       "<tr><td>2016-01-04T17:04:52.444</td><td>5.401679e-03</td><td>119914</td><td>2.3647678e+06</td><td>4.3802055e+01</td><td>3.4697508e+04</td><td>1.4442789e+01</td><td>2.3608212e+06</td><td>4.3493912e+01</td><td>0</td><td>nan</td><td>nan</td><td>nan</td><td>nan</td><td>176.73104</td><td>2.8463517e-05</td><td>625.47588</td><td>3.6852147e-05</td><td>-2.1352683e-01</td><td>-4.4009349e-01</td></tr>\n",
       "<tr><td>2016-01-04T17:34:17.792</td><td>5.400453e-03</td><td>119915</td><td>2.3642362e+06</td><td>4.3773018e+01</td><td>3.4635758e+04</td><td>1.4436045e+01</td><td>2.3603810e+06</td><td>4.3444138e+01</td><td>0</td><td>nan</td><td>nan</td><td>nan</td><td>nan</td><td>176.64334</td><td>2.8606002e-05</td><td>625.42636</td><td>3.7306603e-05</td><td>-2.8424940e-01</td><td>-5.0435054e-01</td></tr>\n",
       "<tr><td>...</td><td>...</td><td>...</td><td>...</td><td>...</td><td>...</td><td>...</td><td>...</td><td>...</td><td>...</td><td>...</td><td>...</td><td>...</td><td>...</td><td>...</td><td>...</td><td>...</td><td>...</td><td>...</td><td>...</td></tr>\n",
       "<tr><td>2016-03-23T02:06:34.254</td><td>-1.724057e-03</td><td>123750</td><td>2.3625085e+06</td><td>4.4630119e+01</td><td>8.6395961e+04</td><td>1.5822516e+01</td><td>2.3601335e+06</td><td>4.4524567e+01</td><td>0</td><td>nan</td><td>nan</td><td>nan</td><td>nan</td><td>176.42562</td><td>3.0381663e-05</td><td>625.50001</td><td>4.1706120e-05</td><td>-4.4137627e-01</td><td>-5.3934926e-01</td></tr>\n",
       "<tr><td>2016-03-23T02:35:59.547</td><td>-1.725930e-03</td><td>123751</td><td>2.3624905e+06</td><td>4.4609596e+01</td><td>8.6457594e+04</td><td>1.5825917e+01</td><td>2.3604198e+06</td><td>4.4470840e+01</td><td>0</td><td>nan</td><td>nan</td><td>nan</td><td>nan</td><td>176.37237</td><td>3.0458436e-05</td><td>625.48558</td><td>4.2116160e-05</td><td>-4.9755907e-01</td><td>-5.7974607e-01</td></tr>\n",
       "<tr><td>2016-03-23T03:05:24.857</td><td>-1.727802e-03</td><td>123752</td><td>2.3625225e+06</td><td>4.4580475e+01</td><td>8.6456320e+04</td><td>1.5804518e+01</td><td>2.3608070e+06</td><td>4.4389702e+01</td><td>0</td><td>nan</td><td>nan</td><td>nan</td><td>nan</td><td>176.32250</td><td>3.0540436e-05</td><td>625.46581</td><td>4.2340784e-05</td><td>-5.5456847e-01</td><td>-6.2054700e-01</td></tr>\n",
       "<tr><td>2016-03-23T03:34:50.158</td><td>-1.729674e-03</td><td>123753</td><td>2.3629768e+06</td><td>4.4566574e+01</td><td>8.6549359e+04</td><td>1.5791952e+01</td><td>2.3617445e+06</td><td>4.4255341e+01</td><td>0</td><td>nan</td><td>nan</td><td>nan</td><td>nan</td><td>176.25763</td><td>3.0668940e-05</td><td>625.43341</td><td>4.2483829e-05</td><td>-6.2964374e-01</td><td>-6.6608834e-01</td></tr>\n",
       "<tr><td>2016-03-23T04:04:15.451</td><td>-1.731545e-03</td><td>123754</td><td>2.3628970e+06</td><td>4.4584648e+01</td><td>8.6585469e+04</td><td>1.5867259e+01</td><td>2.3621195e+06</td><td>4.4124420e+01</td><td>0</td><td>nan</td><td>nan</td><td>nan</td><td>nan</td><td>176.21314</td><td>3.0788346e-05</td><td>625.39735</td><td>4.2350315e-05</td><td>-6.8105078e-01</td><td>-7.0016903e-01</td></tr>\n",
       "<tr><td>2016-03-23T04:33:40.761</td><td>-1.733417e-03</td><td>123755</td><td>2.3620400e+06</td><td>4.4563793e+01</td><td>8.6617961e+04</td><td>1.5861049e+01</td><td>2.3618730e+06</td><td>4.3642143e+01</td><td>0</td><td>nan</td><td>nan</td><td>nan</td><td>nan</td><td>176.14398</td><td>3.0991978e-05</td><td>625.33697</td><td>4.1901374e-05</td><td>-7.5748473e-01</td><td>-7.5303906e-01</td></tr>\n",
       "<tr><td>2016-03-23T05:03:06.062</td><td>-1.735287e-03</td><td>123756</td><td>2.3684412e+06</td><td>4.4704937e+01</td><td>8.6639852e+04</td><td>1.5592355e+01</td><td>nan</td><td>nan</td><td>100000000000000000000</td><td>nan</td><td>nan</td><td>nan</td><td>nan</td><td>177.32487</td><td>2.9977398e-05</td><td>626.15801</td><td>4.1870630e-05</td><td>6.0444027e-01</td><td>1.4769985e-01</td></tr>\n",
       "<tr><td>2016-03-23T05:32:31.355</td><td>-1.737158e-03</td><td>123757</td><td>2.3579832e+06</td><td>4.4557789e+01</td><td>8.6677688e+04</td><td>1.5586467e+01</td><td>2.3573312e+06</td><td>4.4557789e+01</td><td>100000000000</td><td>nan</td><td>nan</td><td>nan</td><td>nan</td><td>177.43320</td><td>2.9063727e-05</td><td>626.25800</td><td>4.2331874e-05</td><td>5.6642020e-01</td><td>1.1971568e-01</td></tr>\n",
       "<tr><td>2016-03-23T06:01:56.665</td><td>-1.739028e-03</td><td>123758</td><td>2.3588825e+06</td><td>4.4587490e+01</td><td>8.6748930e+04</td><td>1.5618143e+01</td><td>2.3583762e+06</td><td>4.4137493e+01</td><td>0</td><td>nan</td><td>nan</td><td>nan</td><td>nan</td><td>177.37520</td><td>2.9035067e-05</td><td>626.23850</td><td>4.2953423e-05</td><td>5.0392014e-01</td><td>8.0161288e-02</td></tr>\n",
       "<tr><td>2016-03-23T06:31:21.967</td><td>-1.740898e-03</td><td>123759</td><td>2.3596028e+06</td><td>4.4608128e+01</td><td>8.6777500e+04</td><td>1.5639464e+01</td><td>2.3592278e+06</td><td>4.4259338e+01</td><td>10000000000000000000</td><td>nan</td><td>nan</td><td>nan</td><td>nan</td><td>177.33430</td><td>2.9033432e-05</td><td>626.20769</td><td>4.3218082e-05</td><td>4.6229142e-01</td><td>5.0825447e-02</td></tr>\n",
       "</table>"
      ],
      "text/plain": [
       "<TimeSeries length=3847>\n",
       "          time             timecorr   ...   pos_corr1      pos_corr2   \n",
       "                              d       ...      pix            pix      \n",
       "         object            float32    ...    float32        float32    \n",
       "----------------------- ------------- ... -------------- --------------\n",
       "2016-01-04T13:38:54.934  5.410247e-03 ...  4.2486817e-01 -4.1044626e-02\n",
       "2016-01-04T14:08:20.291  5.409024e-03 ...  3.3385360e-01 -9.9099487e-02\n",
       "2016-01-04T14:37:45.649  5.407802e-03 ...  2.3359062e-01 -1.4960502e-01\n",
       "2016-01-04T15:07:11.006  5.406579e-03 ...  1.3440025e-01 -2.0864224e-01\n",
       "2016-01-04T15:36:36.364  5.405354e-03 ...  3.6891773e-02 -2.6592341e-01\n",
       "2016-01-04T16:06:01.721  5.404130e-03 ... -4.5449629e-02 -3.2478178e-01\n",
       "2016-01-04T16:35:27.078  5.402905e-03 ... -1.2813345e-01 -3.8050708e-01\n",
       "2016-01-04T17:04:52.444  5.401679e-03 ... -2.1352683e-01 -4.4009349e-01\n",
       "2016-01-04T17:34:17.792  5.400453e-03 ... -2.8424940e-01 -5.0435054e-01\n",
       "                    ...           ... ...            ...            ...\n",
       "2016-03-23T02:06:34.254 -1.724057e-03 ... -4.4137627e-01 -5.3934926e-01\n",
       "2016-03-23T02:35:59.547 -1.725930e-03 ... -4.9755907e-01 -5.7974607e-01\n",
       "2016-03-23T03:05:24.857 -1.727802e-03 ... -5.5456847e-01 -6.2054700e-01\n",
       "2016-03-23T03:34:50.158 -1.729674e-03 ... -6.2964374e-01 -6.6608834e-01\n",
       "2016-03-23T04:04:15.451 -1.731545e-03 ... -6.8105078e-01 -7.0016903e-01\n",
       "2016-03-23T04:33:40.761 -1.733417e-03 ... -7.5748473e-01 -7.5303906e-01\n",
       "2016-03-23T05:03:06.062 -1.735287e-03 ...  6.0444027e-01  1.4769985e-01\n",
       "2016-03-23T05:32:31.355 -1.737158e-03 ...  5.6642020e-01  1.1971568e-01\n",
       "2016-03-23T06:01:56.665 -1.739028e-03 ...  5.0392014e-01  8.0161288e-02\n",
       "2016-03-23T06:31:21.967 -1.740898e-03 ...  4.6229142e-01  5.0825447e-02"
      ]
     },
     "execution_count": 69,
     "metadata": {},
     "output_type": "execute_result"
    }
   ],
   "source": [
    "ts"
   ]
  },
  {
   "cell_type": "code",
   "execution_count": 70,
   "metadata": {},
   "outputs": [
    {
     "data": {
      "text/html": [
       "<i>TimeSeries length=3847</i>\n",
       "<table id=\"table140472085157872\" class=\"table-striped table-bordered table-condensed\">\n",
       "<thead><tr><th>time</th><th>pdcsap_flux</th></tr></thead>\n",
       "<thead><tr><th></th><th>electron / s</th></tr></thead>\n",
       "<thead><tr><th>object</th><th>float32</th></tr></thead>\n",
       "<tr><td>2016-01-04T13:38:54.934</td><td>nan</td></tr>\n",
       "<tr><td>2016-01-04T14:08:20.291</td><td>2.3590375e+06</td></tr>\n",
       "<tr><td>2016-01-04T14:37:45.649</td><td>2.3604588e+06</td></tr>\n",
       "<tr><td>2016-01-04T15:07:11.006</td><td>2.3609498e+06</td></tr>\n",
       "<tr><td>2016-01-04T15:36:36.364</td><td>2.3607782e+06</td></tr>\n",
       "<tr><td>2016-01-04T16:06:01.721</td><td>2.3608390e+06</td></tr>\n",
       "<tr><td>2016-01-04T16:35:27.078</td><td>2.3613215e+06</td></tr>\n",
       "<tr><td>2016-01-04T17:04:52.444</td><td>2.3608212e+06</td></tr>\n",
       "<tr><td>2016-01-04T17:34:17.792</td><td>2.3603810e+06</td></tr>\n",
       "<tr><td>...</td><td>...</td></tr>\n",
       "<tr><td>2016-03-23T02:06:34.254</td><td>2.3601335e+06</td></tr>\n",
       "<tr><td>2016-03-23T02:35:59.547</td><td>2.3604198e+06</td></tr>\n",
       "<tr><td>2016-03-23T03:05:24.857</td><td>2.3608070e+06</td></tr>\n",
       "<tr><td>2016-03-23T03:34:50.158</td><td>2.3617445e+06</td></tr>\n",
       "<tr><td>2016-03-23T04:04:15.451</td><td>2.3621195e+06</td></tr>\n",
       "<tr><td>2016-03-23T04:33:40.761</td><td>2.3618730e+06</td></tr>\n",
       "<tr><td>2016-03-23T05:03:06.062</td><td>nan</td></tr>\n",
       "<tr><td>2016-03-23T05:32:31.355</td><td>2.3573312e+06</td></tr>\n",
       "<tr><td>2016-03-23T06:01:56.665</td><td>2.3583762e+06</td></tr>\n",
       "<tr><td>2016-03-23T06:31:21.967</td><td>2.3592278e+06</td></tr>\n",
       "</table>"
      ],
      "text/plain": [
       "<TimeSeries length=3847>\n",
       "          time           pdcsap_flux  \n",
       "                         electron / s \n",
       "         object            float32    \n",
       "----------------------- --------------\n",
       "2016-01-04T13:38:54.934            nan\n",
       "2016-01-04T14:08:20.291  2.3590375e+06\n",
       "2016-01-04T14:37:45.649  2.3604588e+06\n",
       "2016-01-04T15:07:11.006  2.3609498e+06\n",
       "2016-01-04T15:36:36.364  2.3607782e+06\n",
       "2016-01-04T16:06:01.721  2.3608390e+06\n",
       "2016-01-04T16:35:27.078  2.3613215e+06\n",
       "2016-01-04T17:04:52.444  2.3608212e+06\n",
       "2016-01-04T17:34:17.792  2.3603810e+06\n",
       "                    ...            ...\n",
       "2016-03-23T02:06:34.254  2.3601335e+06\n",
       "2016-03-23T02:35:59.547  2.3604198e+06\n",
       "2016-03-23T03:05:24.857  2.3608070e+06\n",
       "2016-03-23T03:34:50.158  2.3617445e+06\n",
       "2016-03-23T04:04:15.451  2.3621195e+06\n",
       "2016-03-23T04:33:40.761  2.3618730e+06\n",
       "2016-03-23T05:03:06.062            nan\n",
       "2016-03-23T05:32:31.355  2.3573312e+06\n",
       "2016-03-23T06:01:56.665  2.3583762e+06\n",
       "2016-03-23T06:31:21.967  2.3592278e+06"
      ]
     },
     "execution_count": 70,
     "metadata": {},
     "output_type": "execute_result"
    }
   ],
   "source": [
    "ts['time', 'pdcsap_flux']"
   ]
  },
  {
   "cell_type": "code",
   "execution_count": 83,
   "metadata": {},
   "outputs": [
    {
     "data": {
      "text/plain": [
       "array([57391.56869137, 57391.58912374, 57391.60955612, ...,\n",
       "       57470.23091846, 57470.25135029, 57470.27178202])"
      ]
     },
     "execution_count": 83,
     "metadata": {},
     "output_type": "execute_result"
    }
   ],
   "source": [
    "ts.time.mjd "
   ]
  },
  {
   "cell_type": "code",
   "execution_count": 73,
   "metadata": {},
   "outputs": [
    {
     "data": {
      "text/plain": [
       "array([1.45191467e+09, 1.45191643e+09, 1.45191820e+09, ...,\n",
       "       1.45871108e+09, 1.45871285e+09, 1.45871461e+09])"
      ]
     },
     "execution_count": 73,
     "metadata": {},
     "output_type": "execute_result"
    }
   ],
   "source": [
    "ts.time.unix"
   ]
  },
  {
   "cell_type": "code",
   "execution_count": 74,
   "metadata": {},
   "outputs": [
    {
     "data": {
      "text/plain": [
       "'tdb'"
      ]
     },
     "execution_count": 74,
     "metadata": {},
     "output_type": "execute_result"
    }
   ],
   "source": [
    "# tdb = Barycentric Dynamical Time scale\n",
    "ts.time.scale"
   ]
  },
  {
   "cell_type": "code",
   "execution_count": 111,
   "metadata": {},
   "outputs": [
    {
     "data": {
      "text/plain": [
       "Text(0, 0.5, 'SAP Flux (e-/s)')"
      ]
     },
     "execution_count": 111,
     "metadata": {},
     "output_type": "execute_result"
    },
    {
     "data": {
      "image/png": "[encoded data removed]",
      "text/plain": [
       "<Figure size 432x288 with 1 Axes>"
      ]
     },
     "metadata": {},
     "output_type": "display_data"
    }
   ],
   "source": [
    "plt.plot(ts.time.jd, ts['sap_flux'], 'k.', markersize=1)\n",
    "plt.xlabel('Julian Date')\n",
    "plt.ylabel('SAP Flux (e-/s)')"
   ]
  },
  {
   "cell_type": "code",
   "execution_count": 112,
   "metadata": {},
   "outputs": [],
   "source": [
    "# use box least squares to estimate period\n",
    "import numpy as np\n",
    "from astropy import units as u\n",
    "from astropy.timeseries import BoxLeastSquares\n",
    "periodogram = BoxLeastSquares.from_timeseries(ts, 'sap_flux')"
   ]
  },
  {
   "cell_type": "code",
   "execution_count": 113,
   "metadata": {},
   "outputs": [
    {
     "data": {
      "text/plain": [
       "<Time object: scale='tdb' format='isot' value=2016-01-04T14:50:23.647>"
      ]
     },
     "execution_count": 113,
     "metadata": {},
     "output_type": "execute_result"
    }
   ],
   "source": [
    "results = periodogram.autopower(0.2 * u.day)  \n",
    "best = np.argmax(results.power)  \n",
    "period = results.period[best]  \n",
    "period  \n",
    "\n",
    "transit_time = results.transit_time[best]  \n",
    "transit_time  "
   ]
  },
  {
   "cell_type": "code",
   "execution_count": 114,
   "metadata": {},
   "outputs": [],
   "source": [
    "# fold the time series using the period \n",
    "ts_folded = ts.fold(period=period, epoch_time=transit_time) "
   ]
  },
  {
   "cell_type": "code",
   "execution_count": 115,
   "metadata": {},
   "outputs": [
    {
     "data": {
      "text/plain": [
       "Text(0, 0.5, 'SAP Flux (e-/s)')"
      ]
     },
     "execution_count": 115,
     "metadata": {},
     "output_type": "execute_result"
    },
    {
     "data": {
      "image/png": "[encoded data removed]",
      "text/plain": [
       "<Figure size 432x288 with 1 Axes>"
      ]
     },
     "metadata": {},
     "output_type": "display_data"
    }
   ],
   "source": [
    "plt.plot(ts_folded.time.jd, ts_folded['sap_flux'], 'k.', markersize=1)\n",
    "plt.xlabel('Time (days)')\n",
    "plt.ylabel('SAP Flux (e-/s)')"
   ]
  },
  {
   "cell_type": "code",
   "execution_count": 116,
   "metadata": {},
   "outputs": [],
   "source": [
    "#normalize the flux by sigma-clipping the data to determine the baseline flux:\n",
    "from astropy.stats import sigma_clipped_stats\n",
    "mean, median, stddev = sigma_clipped_stats(ts_folded['sap_flux'])  \n",
    "ts_folded['sap_flux_norm'] = ts_folded['sap_flux'] / median  "
   ]
  },
  {
   "cell_type": "code",
   "execution_count": 117,
   "metadata": {},
   "outputs": [
    {
     "data": {
      "text/html": [
       "<i>BinnedTimeSeries length=16</i>\n",
       "<table id=\"table140472101469376\" class=\"table-striped table-bordered table-condensed\">\n",
       "<thead><tr><th>time_bin_start</th><th>time_bin_size</th><th>timecorr</th><th>cadenceno</th><th>sap_flux</th><th>sap_flux_err</th><th>sap_bkg</th><th>sap_bkg_err</th><th>pdcsap_flux</th><th>pdcsap_flux_err</th><th>sap_quality</th><th>psf_centr1</th><th>psf_centr1_err</th><th>psf_centr2</th><th>psf_centr2_err</th><th>mom_centr1</th><th>mom_centr1_err</th><th>mom_centr2</th><th>mom_centr2_err</th><th>pos_corr1</th><th>pos_corr2</th><th>sap_flux_norm</th></tr></thead>\n",
       "<thead><tr><th></th><th>s</th><th>d</th><th></th><th>electron / s</th><th>electron / s</th><th>electron / s</th><th>electron / s</th><th>electron / s</th><th>electron / s</th><th></th><th>pix</th><th>pix</th><th>pix</th><th>pix</th><th>pix</th><th>pix</th><th>pix</th><th>pix</th><th>pix</th><th>pix</th><th></th></tr></thead>\n",
       "<thead><tr><th>object</th><th>float64</th><th>float64</th><th>int32</th><th>float64</th><th>float64</th><th>float64</th><th>float64</th><th>float64</th><th>float64</th><th>int32</th><th>float64</th><th>float64</th><th>float64</th><th>float64</th><th>float64</th><th>float64</th><th>float64</th><th>float64</th><th>float64</th><th>float64</th><th>float64</th></tr></thead>\n",
       "<tr><td>-0.2335534174595988</td><td>2592.0</td><td>0.002055076416581869</td><td>121830</td><td>2360704.75</td><td>43.97222900390625</td><td>47985.66796875</td><td>14.657724380493164</td><td>2360286.75</td><td>43.91754150390625</td><td>3328</td><td>nan</td><td>nan</td><td>nan</td><td>nan</td><td>176.8805437560583</td><td>2.8902268240926787e-05</td><td>625.8580695388282</td><td>3.900262527167797e-05</td><td>-0.05303758382797241</td><td>-0.12111470848321915</td><td>1.000117301940918</td></tr>\n",
       "<tr><td>-0.2035534174595988</td><td>2592.0</td><td>0.0020522908307611942</td><td>121832</td><td>2360853.25</td><td>43.964698791503906</td><td>48010.58203125</td><td>14.664273262023926</td><td>2360354.75</td><td>43.90208053588867</td><td>6041</td><td>nan</td><td>nan</td><td>nan</td><td>nan</td><td>176.8329947254233</td><td>2.8984930395381525e-05</td><td>625.8243269065226</td><td>3.906753772753291e-05</td><td>-0.0917993038892746</td><td>-0.1501181572675705</td><td>1.0001802444458008</td></tr>\n",
       "<tr><td>-0.1735534174595988</td><td>2592.0</td><td>0.0020495045464485884</td><td>121833</td><td>2360910.75</td><td>43.95723342895508</td><td>48034.5859375</td><td>14.676956176757812</td><td>2360338.5</td><td>43.87224197387695</td><td>2150</td><td>nan</td><td>nan</td><td>nan</td><td>nan</td><td>176.78546625533357</td><td>2.907732232415583e-05</td><td>625.7906347074692</td><td>3.914249828085303e-05</td><td>-0.1389220803976059</td><td>-0.18524356186389923</td><td>1.0002044439315796</td></tr>\n",
       "<tr><td>-0.1435534174595988</td><td>2592.0</td><td>0.002046718494966626</td><td>121835</td><td>2360924.25</td><td>43.9458122253418</td><td>48057.5546875</td><td>14.685757637023926</td><td>2360404.0</td><td>43.806983947753906</td><td>1216</td><td>nan</td><td>nan</td><td>nan</td><td>nan</td><td>176.7376676512009</td><td>2.9176444513723254e-05</td><td>625.7586040505665</td><td>3.922850009985268e-05</td><td>-0.1873505711555481</td><td>-0.2213265746831894</td><td>1.000210165977478</td></tr>\n",
       "<tr><td>-0.1135534174595988</td><td>2592.0</td><td>0.0020439312793314457</td><td>121836</td><td>2361805.0</td><td>43.997100830078125</td><td>48136.7265625</td><td>14.605667114257812</td><td>2360232.0</td><td>43.884403228759766</td><td>451485</td><td>nan</td><td>nan</td><td>nan</td><td>nan</td><td>177.09207538336364</td><td>2.8698446840280667e-05</td><td>626.0377340360211</td><td>3.950812970288098e-05</td><td>0.1561872661113739</td><td>0.02643904834985733</td><td>1.0005834102630615</td></tr>\n",
       "<tr><td>-0.0835534174595988</td><td>2592.0</td><td>0.002031133510172367</td><td>121843</td><td>2359853.0</td><td>43.97412109375</td><td>48162.64453125</td><td>14.617408752441406</td><td>2360286.25</td><td>43.91628646850586</td><td>518</td><td>nan</td><td>nan</td><td>nan</td><td>nan</td><td>177.08536433685063</td><td>2.8619460863410495e-05</td><td>626.0298275205429</td><td>3.936287612305023e-05</td><td>0.1470623016357422</td><td>0.019314812496304512</td><td>0.9997564554214478</td></tr>\n",
       "<tr><td>-0.053553417459598796</td><td>2592.0</td><td>0.0020496102515608072</td><td>121832</td><td>2360005.75</td><td>43.970741271972656</td><td>48082.5390625</td><td>14.617365837097168</td><td>2360317.0</td><td>43.91610336303711</td><td>2202</td><td>nan</td><td>nan</td><td>nan</td><td>nan</td><td>177.04597907511345</td><td>2.8679563911282457e-05</td><td>625.9864394791974</td><td>3.915267006959766e-05</td><td>-0.46254947781562805</td><td>-2.012877941131592</td><td>0.9998210072517395</td></tr>\n",
       "<tr><td>-0.023553417459598797</td><td>2592.0</td><td>0.0020565136801451445</td><td>121829</td><td>2360210.0</td><td>43.970115661621094</td><td>48045.09375</td><td>14.628466606140137</td><td>2360372.75</td><td>43.91291427612305</td><td>3002</td><td>nan</td><td>nan</td><td>nan</td><td>nan</td><td>176.99985708700652</td><td>2.8753147489624098e-05</td><td>625.943167847812</td><td>3.8965205021668226e-05</td><td>0.06350729614496231</td><td>-0.03899052366614342</td><td>0.9999076724052429</td></tr>\n",
       "<tr><td>0.006446582540401202</td><td>2592.0000000000023</td><td>0.0020537315867841244</td><td>121830</td><td>2360442.75</td><td>43.96920394897461</td><td>48064.38671875</td><td>14.645783424377441</td><td>2360490.5</td><td>43.91096496582031</td><td>1857</td><td>nan</td><td>nan</td><td>nan</td><td>nan</td><td>176.9538939663837</td><td>2.8832213502028026e-05</td><td>625.9041151192939</td><td>3.8896920159459114e-05</td><td>0.017812270671129227</td><td>-0.07239692658185959</td><td>1.0000061988830566</td></tr>\n",
       "<tr><td>0.03644658254040123</td><td>2591.9999999999977</td><td>0.0020509485621005297</td><td>121832</td><td>2360618.0</td><td>43.96289825439453</td><td>48083.54296875</td><td>14.651199340820312</td><td>2360591.0</td><td>43.899085998535156</td><td>3205</td><td>nan</td><td>nan</td><td>nan</td><td>nan</td><td>176.9066117835921</td><td>2.8915143047925085e-05</td><td>625.8673707641284</td><td>3.888770879711956e-05</td><td>-0.023658722639083862</td><td>-0.1021108478307724</td><td>1.0000803470611572</td></tr>\n",
       "<tr><td>0.0664465825404012</td><td>2592.0000000000023</td><td>0.0020481653045862913</td><td>121833</td><td>2360792.25</td><td>43.95711135864258</td><td>48108.14453125</td><td>14.665121078491211</td><td>2360422.75</td><td>43.89558029174805</td><td>1959</td><td>nan</td><td>nan</td><td>nan</td><td>nan</td><td>176.85753513087136</td><td>2.9000600989093073e-05</td><td>625.8366718161154</td><td>3.8969657907728106e-05</td><td>-0.07032352685928345</td><td>-0.13653014600276947</td><td>1.0001542568206787</td></tr>\n",
       "<tr><td>0.09644658254040123</td><td>2591.9999999999977</td><td>0.0020453818142414093</td><td>121835</td><td>2360888.75</td><td>43.9462890625</td><td>48132.33984375</td><td>14.67172908782959</td><td>2360362.75</td><td>43.85536193847656</td><td>6373</td><td>nan</td><td>nan</td><td>nan</td><td>nan</td><td>176.8079924340517</td><td>2.9089640520396642e-05</td><td>625.808218842638</td><td>3.909115548594855e-05</td><td>-0.11462558805942535</td><td>-0.1680820733308792</td><td>1.0001952648162842</td></tr>\n",
       "<tr><td>0.1264465825404012</td><td>2592.0000000000023</td><td>0.00204259785823524</td><td>121836</td><td>2362014.5</td><td>44.00121307373047</td><td>48148.265625</td><td>14.613797187805176</td><td>2360258.5</td><td>43.89181900024414</td><td>356078</td><td>nan</td><td>nan</td><td>nan</td><td>nan</td><td>177.04417151967942</td><td>2.877131373679731e-05</td><td>626.0063599596563</td><td>3.937305518775247e-05</td><td>0.12095548212528229</td><td>0.003083911957219243</td><td>1.0006721019744873</td></tr>\n",
       "<tr><td>0.15644658254040122</td><td>2591.9999999999977</td><td>0.0020398134365677834</td><td>121838</td><td>2360094.25</td><td>43.97709655761719</td><td>48167.671875</td><td>14.62546443939209</td><td>2360292.5</td><td>43.91799545288086</td><td>5800</td><td>nan</td><td>nan</td><td>nan</td><td>nan</td><td>177.02289797402605</td><td>2.8683010896202177e-05</td><td>625.9815967598124</td><td>3.919437949662097e-05</td><td>0.08654623478651047</td><td>-0.021724704653024673</td><td>0.9998586177825928</td></tr>\n",
       "<tr><td>0.1864465825404012</td><td>2592.0000000000023</td><td>0.002048803959041834</td><td>121833</td><td>2360347.5</td><td>43.977027893066406</td><td>48092.1953125</td><td>14.632753372192383</td><td>2360317.25</td><td>43.92513656616211</td><td>4912</td><td>nan</td><td>nan</td><td>nan</td><td>nan</td><td>176.97639828798924</td><td>2.8750248020514846e-05</td><td>625.9356538198961</td><td>3.9049366023391485e-05</td><td>-0.5263261795043945</td><td>-2.044795036315918</td><td>0.9999658465385437</td></tr>\n",
       "<tr><td>0.21644658254040122</td><td>2591.9999999999977</td><td>0.002057862002402544</td><td>121829</td><td>2360538.0</td><td>43.972747802734375</td><td>47971.8203125</td><td>14.637786865234375</td><td>2360303.25</td><td>43.92274475097656</td><td>1024</td><td>nan</td><td>nan</td><td>nan</td><td>nan</td><td>176.92908464682526</td><td>2.882218177546747e-05</td><td>625.8947548834078</td><td>3.898231079801917e-05</td><td>-0.007930731400847435</td><td>-0.08768776804208755</td><td>1.0000464916229248</td></tr>\n",
       "</table>"
      ],
      "text/plain": [
       "<BinnedTimeSeries length=16>\n",
       "    time_bin_start      time_bin_size    ...   sap_flux_norm   \n",
       "                              s          ...                   \n",
       "        object             float64       ...      float64      \n",
       "--------------------- ------------------ ... ------------------\n",
       "  -0.2335534174595988             2592.0 ...  1.000117301940918\n",
       "  -0.2035534174595988             2592.0 ... 1.0001802444458008\n",
       "  -0.1735534174595988             2592.0 ... 1.0002044439315796\n",
       "  -0.1435534174595988             2592.0 ...  1.000210165977478\n",
       "  -0.1135534174595988             2592.0 ... 1.0005834102630615\n",
       "  -0.0835534174595988             2592.0 ... 0.9997564554214478\n",
       "-0.053553417459598796             2592.0 ... 0.9998210072517395\n",
       "-0.023553417459598797             2592.0 ... 0.9999076724052429\n",
       " 0.006446582540401202 2592.0000000000023 ... 1.0000061988830566\n",
       "  0.03644658254040123 2591.9999999999977 ... 1.0000803470611572\n",
       "   0.0664465825404012 2592.0000000000023 ... 1.0001542568206787\n",
       "  0.09644658254040123 2591.9999999999977 ... 1.0001952648162842\n",
       "   0.1264465825404012 2592.0000000000023 ... 1.0006721019744873\n",
       "  0.15644658254040122 2591.9999999999977 ... 0.9998586177825928\n",
       "   0.1864465825404012 2592.0000000000023 ... 0.9999658465385437\n",
       "  0.21644658254040122 2591.9999999999977 ... 1.0000464916229248"
      ]
     },
     "execution_count": 117,
     "metadata": {},
     "output_type": "execute_result"
    }
   ],
   "source": [
    "# downsample the time series by binning the points into bins of equal time \n",
    "# - this returns a BinnedTimeSeries:\n",
    "from astropy.timeseries import aggregate_downsample\n",
    "ts_binned = aggregate_downsample(ts_folded, time_bin_size=0.03 * u.day)  \n",
    "ts_binned"
   ]
  },
  {
   "cell_type": "code",
   "execution_count": 118,
   "metadata": {},
   "outputs": [
    {
     "data": {
      "text/plain": [
       "Text(0, 0.5, 'Normalized flux')"
      ]
     },
     "execution_count": 118,
     "metadata": {},
     "output_type": "execute_result"
    },
    {
     "data": {
      "image/png": "[encoded data removed]",
      "text/plain": [
       "<Figure size 432x288 with 1 Axes>"
      ]
     },
     "metadata": {},
     "output_type": "display_data"
    }
   ],
   "source": [
    "# final result\n",
    "plt.plot(ts_folded.time.jd, ts_folded['sap_flux_norm'], 'k.', markersize=1)\n",
    "plt.plot(ts_binned.time_bin_start.jd, ts_binned['sap_flux_norm'], 'r-', drawstyle='steps-post')\n",
    "plt.xlabel('Time (days)')\n",
    "plt.ylabel('Normalized flux')"
   ]
  },
  {
   "cell_type": "code",
   "execution_count": null,
   "metadata": {},
   "outputs": [],
   "source": [
    "files = list(os.listdir(MAST))\n",
    "targets_df = pd.DataFrame.from_dict(results)\n",
    "\n",
    "k2_confirmed_total = list(targets_df['pl_hostname'].unique())"
   ]
  },
  {
   "cell_type": "code",
   "execution_count": 120,
   "metadata": {},
   "outputs": [],
   "source": [
    "files = list(os.listdir(MAST))"
   ]
  },
  {
   "cell_type": "code",
   "execution_count": 144,
   "metadata": {},
   "outputs": [],
   "source": [
    "file = files[0].replace('ktwo','')\n",
    "newfile = file.replace('_llc.fits','')\n",
    "pair = newfile.split('-')"
   ]
  },
  {
   "cell_type": "code",
   "execution_count": 145,
   "metadata": {},
   "outputs": [
    {
     "data": {
      "text/plain": [
       "['204890128', 'c02']"
      ]
     },
     "execution_count": 145,
     "metadata": {},
     "output_type": "execute_result"
    }
   ],
   "source": [
    "pair"
   ]
  },
  {
   "cell_type": "code",
   "execution_count": 163,
   "metadata": {},
   "outputs": [],
   "source": [
    "def planet_hunter(f=files[0], fmt='kepler.fits'):\n",
    "    \"\"\"\n",
    "    args:\n",
    "    - fits_files = takes array or single .fits file\n",
    "    \n",
    "    kwargs:\n",
    "    - format : 'kepler.fits' or  'tess.fits'\n",
    "    \"\"\"\n",
    "    from astropy.timeseries import TimeSeries\n",
    "    import numpy as np\n",
    "    from astropy import units as u\n",
    "    from astropy.timeseries import BoxLeastSquares\n",
    "    from astropy.stats import sigma_clipped_stats\n",
    "    from astropy.timeseries import aggregate_downsample\n",
    "\n",
    "    # read in file\n",
    "    ts = TimeSeries.read(f, format=fmt)\n",
    "    \n",
    "#     print(f'mjd: {ts.time.mjd[0]}, {ts.time.mjd [-1]}')\n",
    "#     # tdb = Barycentric Dynamical Time scale\n",
    "#     print(f'time_scale: {ts.time.scale}')\n",
    "#     print(ts['time', 'sap_flux'])\n",
    "    \n",
    "    \n",
    "    # original ts plot\n",
    "    #fig, ax = plt.figure()\n",
    "#    plt.plot(ts.time.jd, ts['sap_flux'], 'k.', markersize=1)\n",
    "    \n",
    "#     plt.xlabel('Julian Date')\n",
    "#     plt.ylabel('SAP Flux (e-/s)')\n",
    "    \n",
    "    # use box least squares to estimate period\n",
    "    periodogram = BoxLeastSquares.from_timeseries(ts, 'sap_flux')\n",
    "    results = periodogram.autopower(0.2 * u.day)  \n",
    "    best = np.argmax(results.power)  \n",
    "    period = results.period[best]  \n",
    "    transit_time = results.transit_time[best]  \n",
    "    print(f'transit_time: {transit_time}')\n",
    "    \n",
    "    # fold the time series using the period \n",
    "    ts_folded = ts.fold(period=period, epoch_time=transit_time) \n",
    "    \n",
    "#     # folded time series plot\n",
    "#     plt.plot(ts_folded.time.jd, ts_folded['sap_flux'], 'k.', markersize=1)\n",
    "#     plt.xlabel('Time (days)')\n",
    "#     plt.ylabel('SAP Flux (e-/s)')\n",
    "    \n",
    "    #normalize the flux by sigma-clipping the data to determine the baseline flux:\n",
    "    \n",
    "    mean, median, stddev = sigma_clipped_stats(ts_folded['sap_flux'])  \n",
    "    ts_folded['sap_flux_norm'] = ts_folded['sap_flux'] / median  \n",
    "\n",
    "    # downsample the time series by binning the points into bins of equal time \n",
    "    # - this returns a BinnedTimeSeries:\n",
    "    ts_binned = aggregate_downsample(ts_folded, time_bin_size=0.03 * u.day)  \n",
    "\n",
    "#     # final result\n",
    "    fig = plt.figure(figsize=(11,5))\n",
    "    plt.plot(ts_folded.time.jd, ts_folded['sap_flux_norm'], 'k.', markersize=1)\n",
    "    plt.plot(ts_binned.time_bin_start.jd, ts_binned['sap_flux_norm'], 'r-', drawstyle='steps-post')\n",
    "    plt.xlabel('Time (days)')\n",
    "    plt.ylabel('Normalized flux')"
   ]
  },
  {
   "cell_type": "code",
   "execution_count": 164,
   "metadata": {},
   "outputs": [
    {
     "name": "stdout",
     "output_type": "stream",
     "text": [
      "transit_time: 2014-08-27T18:51:17.398\n"
     ]
    },
    {
     "data": {
      "image/png": "[encoded data removed]",
      "text/plain": [
       "<Figure size 792x360 with 1 Axes>"
      ]
     },
     "metadata": {},
     "output_type": "display_data"
    }
   ],
   "source": [
    "planet_hunter(f=files[0], fmt='kepler.fits')"
   ]
  },
  {
   "cell_type": "code",
   "execution_count": 165,
   "metadata": {},
   "outputs": [
    {
     "name": "stdout",
     "output_type": "stream",
     "text": [
      "transit_time: 2016-07-16T11:17:57.175\n"
     ]
    },
    {
     "data": {
      "image/png": "[encoded data removed]",
      "text/plain": [
       "<Figure size 792x360 with 1 Axes>"
      ]
     },
     "metadata": {},
     "output_type": "display_data"
    }
   ],
   "source": [
    "planet_hunter(f=files[1], fmt='kepler.fits')"
   ]
  },
  {
   "cell_type": "code",
   "execution_count": 166,
   "metadata": {},
   "outputs": [
    {
     "name": "stdout",
     "output_type": "stream",
     "text": [
      "transit_time: 2016-07-24T08:52:59.446\n"
     ]
    },
    {
     "data": {
      "image/png": "[encoded data removed]",
      "text/plain": [
       "<Figure size 792x360 with 1 Axes>"
      ]
     },
     "metadata": {},
     "output_type": "display_data"
    }
   ],
   "source": [
    "planet_hunter(f=files[3], fmt='kepler.fits')"
   ]
  },
  {
   "cell_type": "code",
   "execution_count": 167,
   "metadata": {},
   "outputs": [
    {
     "name": "stdout",
     "output_type": "stream",
     "text": [
      "transit_time: 2014-11-29T05:50:17.962\n"
     ]
    },
    {
     "data": {
      "image/png": "[encoded data removed]",
      "text/plain": [
       "<Figure size 792x360 with 1 Axes>"
      ]
     },
     "metadata": {},
     "output_type": "display_data"
    }
   ],
   "source": [
    "planet_hunter(f=files[4], fmt='kepler.fits')"
   ]
  },
  {
   "cell_type": "code",
   "execution_count": null,
   "metadata": {},
   "outputs": [],
   "source": []
  },
  {
   "cell_type": "markdown",
   "metadata": {},
   "source": [
    "# FITS image"
   ]
  },
  {
   "cell_type": "code",
   "execution_count": 317,
   "metadata": {},
   "outputs": [],
   "source": [
    "from astropy.visualization import astropy_mpl_style\n",
    "plt.style.use(astropy_mpl_style)"
   ]
  },
  {
   "cell_type": "code",
   "execution_count": 360,
   "metadata": {},
   "outputs": [],
   "source": [
    "image_data = fits.getdata('ktwo204890128-c02_llc.fits', ext=2)"
   ]
  },
  {
   "cell_type": "code",
   "execution_count": 361,
   "metadata": {},
   "outputs": [
    {
     "name": "stdout",
     "output_type": "stream",
     "text": [
      "(10, 11)\n"
     ]
    }
   ],
   "source": [
    "print(image_data.shape)"
   ]
  },
  {
   "cell_type": "code",
   "execution_count": 362,
   "metadata": {},
   "outputs": [
    {
     "data": {
      "text/plain": [
       "<matplotlib.colorbar.Colorbar at 0x7fa6eceafcd0>"
      ]
     },
     "execution_count": 362,
     "metadata": {},
     "output_type": "execute_result"
    },
    {
     "data": {
      "image/png": "[encoded data removed]",
      "text/plain": [
       "<Figure size 576x432 with 2 Axes>"
      ]
     },
     "metadata": {},
     "output_type": "display_data"
    }
   ],
   "source": [
    "plt.figure()\n",
    "plt.imshow(image_data, cmap='gray')\n",
    "plt.colorbar()"
   ]
  },
  {
   "cell_type": "code",
   "execution_count": 369,
   "metadata": {},
   "outputs": [
    {
     "data": {
      "text/plain": [
       "<matplotlib.colorbar.Colorbar at 0x7fa6ecb9b090>"
      ]
     },
     "execution_count": 369,
     "metadata": {},
     "output_type": "execute_result"
    },
    {
     "data": {
      "image/png": "[encoded data removed]",
      "text/plain": [
       "<Figure size 576x432 with 2 Axes>"
      ]
     },
     "metadata": {},
     "output_type": "display_data"
    }
   ],
   "source": [
    "plt.figure()\n",
    "plt.imshow(image_data, cmap='rainbow')\n",
    "plt.colorbar()"
   ]
  },
  {
   "cell_type": "code",
   "execution_count": 375,
   "metadata": {},
   "outputs": [],
   "source": [
    "# !pip install spectral_cube"
   ]
  },
  {
   "cell_type": "code",
   "execution_count": 374,
   "metadata": {},
   "outputs": [],
   "source": [
    "from spectral_cube import SpectralCube\n",
    "\n",
    "from astroquery.esasky import ESASky\n",
    "from astroquery.utils import TableList\n",
    "from astropy.wcs import WCS\n"
   ]
  },
  {
   "cell_type": "code",
   "execution_count": 378,
   "metadata": {},
   "outputs": [],
   "source": [
    "# cube = SpectralCube.read('')"
   ]
  },
  {
   "cell_type": "markdown",
   "metadata": {},
   "source": [
    "# Signal Analysis - CNN Model"
   ]
  },
  {
   "cell_type": "code",
   "execution_count": null,
   "metadata": {},
   "outputs": [],
   "source": [
    "# Estimate period\n",
    "from astropy import units as u\n",
    "from astropy.timeseries import BoxLeastSquares\n",
    "periodogram = BoxLeastSquares.from_timeseries(ts, 'flux')\n",
    "```\n",
    "\n",
    "```python\n",
    "results = periodogram.autopower(0.02 * u.day)\n",
    "best = np.argmax(results.power)\n",
    "period = results.period[best]\n",
    "period\n",
    "```"
   ]
  },
  {
   "cell_type": "code",
   "execution_count": null,
   "metadata": {},
   "outputs": [],
   "source": []
  },
  {
   "cell_type": "code",
   "execution_count": null,
   "metadata": {},
   "outputs": [],
   "source": []
  },
  {
   "cell_type": "code",
   "execution_count": null,
   "metadata": {},
   "outputs": [],
   "source": []
  },
  {
   "cell_type": "markdown",
   "metadata": {},
   "source": [
    "# Image Analysis - Keras CNN"
   ]
  },
  {
   "cell_type": "code",
   "execution_count": 3,
   "metadata": {
    "ExecuteTime": {
     "end_time": "2020-08-26T00:20:32.373558Z",
     "start_time": "2020-08-26T00:20:32.353510Z"
    }
   },
   "outputs": [
    {
     "data": {
      "text/plain": [
       "['test', 'train']"
      ]
     },
     "execution_count": 3,
     "metadata": {},
     "output_type": "execute_result"
    }
   ],
   "source": [
    "import os, glob, sys\n",
    "from os import path\n",
    "\n",
    "base_folder = r'specs/'\n",
    "os.listdir(base_folder)"
   ]
  },
  {
   "cell_type": "code",
   "execution_count": 4,
   "metadata": {
    "ExecuteTime": {
     "end_time": "2020-08-26T00:20:33.830928Z",
     "start_time": "2020-08-26T00:20:33.824230Z"
    }
   },
   "outputs": [],
   "source": [
    "train_base_dir = base_folder+'train/'\n",
    "test_base_dir = base_folder+'test/'\n",
    "\n",
    "train_planets_dir = train_base_dir+'planets/'\n",
    "train_negatives_dir = train_base_dir+'negatives/'\n",
    "\n",
    "test_planets_dir = test_base_dir+'planets/'\n",
    "test_negatives_dir = test_base_dir+'negatives/'"
   ]
  },
  {
   "cell_type": "code",
   "execution_count": 5,
   "metadata": {
    "ExecuteTime": {
     "end_time": "2020-08-26T00:20:37.578563Z",
     "start_time": "2020-08-26T00:20:37.567199Z"
    }
   },
   "outputs": [],
   "source": [
    "planet_train_files = glob.glob(train_planets_dir+'*.png')\n",
    "negative_train_files = glob.glob(train_negatives_dir+'*.png')\n",
    "all_train_files = [*planet_train_files, *negative_train_files]\n",
    "\n",
    "planet_test_files = glob.glob(test_planets_dir+'*.png')\n",
    "negative_test_files = glob.glob(test_negatives_dir+'*.png')\n",
    "all_test_files = [*planet_test_files, *negative_test_files]\n",
    "\n",
    "all_filename_vars = [planet_train_files, negative_train_files,\n",
    "                     planet_test_files, negative_test_files]"
   ]
  },
  {
   "cell_type": "code",
   "execution_count": 6,
   "metadata": {
    "ExecuteTime": {
     "end_time": "2020-08-26T01:16:58.043305Z",
     "start_time": "2020-08-26T01:16:58.035253Z"
    }
   },
   "outputs": [],
   "source": [
    "def load_img_cv2(filename, RGB=True):\n",
    "    import cv2\n",
    "    IMG = cv2.imread(filename)\n",
    "    \n",
    "    if RGB: \n",
    "        cmap = cv2.COLOR_BGR2RGB\n",
    "    \n",
    "    else:\n",
    "        cmap=cv2.COLOR_BGR2GRAY\n",
    "        \n",
    "    return cv2.cvtColor(IMG, cmap)\n"
   ]
  },
  {
   "cell_type": "code",
   "execution_count": 7,
   "metadata": {
    "ExecuteTime": {
     "end_time": "2020-08-26T01:42:42.102335Z",
     "start_time": "2020-08-26T01:42:42.092549Z"
    }
   },
   "outputs": [
    {
     "name": "stderr",
     "output_type": "stream",
     "text": [
      "Using TensorFlow backend.\n"
     ]
    }
   ],
   "source": [
    "from PIL import Image\n",
    "from keras.preprocessing import image\n",
    "from imageio import imread\n",
    "from skimage.transform import resize\n",
    "from tqdm import tqdm\n",
    "\n",
    "# defining a function to read images and convert to array\n",
    "def read_img(img_path, target_size=(8,8)):\n",
    "    #img = load_img_cv2(img_path)\n",
    "    #img = image.img_to_array(img)\n",
    "    img = image.load_img(img_path, target_size=target_size, interpolation='bilinear')\n",
    "    img = image.img_to_array(img)\n",
    "    return img"
   ]
  },
  {
   "cell_type": "code",
   "execution_count": 8,
   "metadata": {
    "ExecuteTime": {
     "end_time": "2020-08-26T01:42:44.240727Z",
     "start_time": "2020-08-26T01:42:44.228056Z"
    }
   },
   "outputs": [],
   "source": [
    "# Read in training and test filenames to produce X and y data splits.\n",
    "\n",
    "def xy_arrays(planet_train_filenames, negative_train_filenames, \n",
    "              planet_test_filenames, negative_test_filenames, \n",
    "              img_size=(8,8)):\n",
    "    # y labels are encoded as 0=negatives, 1=planets\n",
    "    # returns X_train, X_test, y_train, y_test, y_val\n",
    "    \n",
    "    import numpy as np\n",
    "    \n",
    "    display('[i] LOADING IMAGES')\n",
    "    X_img = []\n",
    "    y_label = []\n",
    "    \n",
    "    for img_path in tqdm(planet_train_files):\n",
    "        X_img.append(read_img(img_path, target_size=img_size))\n",
    "        y_label.append(1)\n",
    "        \n",
    "    for img_path in tqdm(negative_train_files):\n",
    "        X_img.append(read_img(img_path, target_size=img_size))\n",
    "        y_label.append(0)\n",
    "    \n",
    "    for img_path in tqdm(planet_test_files):\n",
    "        X_img.append(read_img(img_path, target_size=img_size))\n",
    "        y_label.append(1)\n",
    "        \n",
    "    for img_path in tqdm(negative_test_files):\n",
    "        X_img.append(read_img(img_path, target_size=img_size))\n",
    "        y_label.append(0)\n",
    "        \n",
    "    from sklearn.model_selection import train_test_split\n",
    "    X = np.array(X_img, np.float32)\n",
    "    y = np.array(y_label)\n",
    "    \n",
    "    return X, y"
   ]
  },
  {
   "cell_type": "code",
   "execution_count": 11,
   "metadata": {
    "ExecuteTime": {
     "end_time": "2020-08-26T01:43:24.529979Z",
     "start_time": "2020-08-26T01:43:23.219553Z"
    }
   },
   "outputs": [
    {
     "data": {
      "text/plain": [
       "'[i] LOADING IMAGES'"
      ]
     },
     "metadata": {},
     "output_type": "display_data"
    },
    {
     "name": "stderr",
     "output_type": "stream",
     "text": [
      "100%|██████████| 37/37 [00:00<00:00, 87.01it/s]\n",
      "100%|██████████| 37/37 [00:00<00:00, 99.42it/s]\n",
      "100%|██████████| 5/5 [00:00<00:00, 68.97it/s]\n",
      "100%|██████████| 5/5 [00:00<00:00, 48.90it/s]\n"
     ]
    }
   ],
   "source": [
    "X, y = xy_arrays(planet_train_files, negative_train_files, \n",
    "              planet_test_files, negative_test_files, \n",
    "              img_size=(64,64,3))"
   ]
  },
  {
   "cell_type": "code",
   "execution_count": 12,
   "metadata": {
    "ExecuteTime": {
     "end_time": "2020-08-26T01:43:25.452360Z",
     "start_time": "2020-08-26T01:43:25.443229Z"
    }
   },
   "outputs": [
    {
     "data": {
      "text/plain": [
       "((84, 64, 64, 3), (84,))"
      ]
     },
     "execution_count": 12,
     "metadata": {},
     "output_type": "execute_result"
    }
   ],
   "source": [
    "X.shape, y.shape"
   ]
  },
  {
   "cell_type": "code",
   "execution_count": 15,
   "metadata": {
    "ExecuteTime": {
     "end_time": "2020-08-26T01:43:40.056805Z",
     "start_time": "2020-08-26T01:43:40.046668Z"
    }
   },
   "outputs": [
    {
     "data": {
      "text/plain": [
       "array([[254., 229., 222.],\n",
       "       [251., 150., 119.],\n",
       "       [251., 143., 108.],\n",
       "       [157.,  92.,  74.],\n",
       "       [ 20.,  20.,  24.],\n",
       "       [ 22.,  20.,  25.],\n",
       "       [163.,  73.,  79.],\n",
       "       [237., 100., 107.],\n",
       "       [238., 104., 107.],\n",
       "       [248., 130., 106.],\n",
       "       [250., 136., 106.],\n",
       "       [242., 120., 108.],\n",
       "       [228.,  91., 113.],\n",
       "       [228.,  90., 113.],\n",
       "       [220.,  84., 117.],\n",
       "       [214.,  81., 120.],\n",
       "       [211.,  80., 121.],\n",
       "       [184.,  69., 131.],\n",
       "       [177.,  66., 134.],\n",
       "       [186.,  70., 130.],\n",
       "       [218.,  84., 118.],\n",
       "       [221.,  85., 117.],\n",
       "       [215.,  82., 120.],\n",
       "       [208.,  77., 124.],\n",
       "       [207.,  77., 124.],\n",
       "       [171.,  64., 133.],\n",
       "       [153.,  59., 138.],\n",
       "       [156.,  59., 137.],\n",
       "       [175.,  66., 134.],\n",
       "       [178.,  66., 133.],\n",
       "       [192.,  72., 128.],\n",
       "       [215.,  81., 120.],\n",
       "       [214.,  81., 120.],\n",
       "       [180.,  68., 130.],\n",
       "       [159.,  60., 137.],\n",
       "       [166.,  65., 134.],\n",
       "       [230., 106., 109.],\n",
       "       [245., 116., 104.],\n",
       "       [247., 131., 110.],\n",
       "       [253., 180., 131.],\n",
       "       [254., 184., 132.],\n",
       "       [201., 125., 135.],\n",
       "       [136.,  53., 139.],\n",
       "       [138.,  57., 140.],\n",
       "       [216., 190., 177.],\n",
       "       [251., 250., 194.],\n",
       "       [251., 249., 193.],\n",
       "       [252., 243., 186.],\n",
       "       [252., 242., 185.],\n",
       "       [229., 190., 170.],\n",
       "       [175.,  69., 136.],\n",
       "       [174.,  67., 135.],\n",
       "       [225., 157., 145.],\n",
       "       [254., 207., 151.],\n",
       "       [254., 208., 152.],\n",
       "       [253., 222., 165.],\n",
       "       [253., 224., 167.],\n",
       "       [241., 188., 157.],\n",
       "       [205.,  82., 127.],\n",
       "       [203.,  75., 126.],\n",
       "       [224.,  99., 115.],\n",
       "       [247., 124., 104.],\n",
       "       [247., 128., 109.],\n",
       "       [252., 212., 206.]], dtype=float32)"
      ]
     },
     "execution_count": 15,
     "metadata": {},
     "output_type": "execute_result"
    }
   ],
   "source": [
    "X[0][1]"
   ]
  },
  {
   "cell_type": "code",
   "execution_count": 159,
   "metadata": {
    "ExecuteTime": {
     "end_time": "2020-08-26T01:43:26.679487Z",
     "start_time": "2020-08-26T01:43:26.667173Z"
    }
   },
   "outputs": [],
   "source": [
    "# Authors: Yann N. Dauphin, Vlad Niculae, Gabriel Synnaeve\n",
    "# License: BSD\n",
    "\n",
    "# #############################################################################\n",
    "# Setting up\n",
    "\n",
    "def nudge_dataset(X, Y):\n",
    "    \"\"\"\n",
    "    This produces a dataset 5 times bigger than the original one,\n",
    "    by moving the 8x8 images in X around by 1px to left, right, down, up\n",
    "    \"\"\"\n",
    "    direction_vectors = [\n",
    "        [[0, 1, 0],\n",
    "         [0, 0, 0],\n",
    "         [0, 0, 0]],\n",
    "\n",
    "        [[0, 0, 0],\n",
    "         [1, 0, 0],\n",
    "         [0, 0, 0]],\n",
    "\n",
    "        [[0, 0, 0],\n",
    "         [0, 0, 1],\n",
    "         [0, 0, 0]],\n",
    "\n",
    "        [[0, 0, 0],\n",
    "         [0, 0, 0],\n",
    "         [0, 1, 0]]]\n",
    "\n",
    "    def shift(x, w):\n",
    "        return convolve(x.reshape((8, 8)), mode='constant', weights=w).ravel()\n",
    "\n",
    "    X = np.concatenate([X] +\n",
    "                       [np.apply_along_axis(shift, 1, X, vector)\n",
    "                        for vector in direction_vectors])\n",
    "    Y = np.concatenate([Y for _ in range(5)], axis=0)\n",
    "    return X, Y"
   ]
  },
  {
   "cell_type": "code",
   "execution_count": 160,
   "metadata": {
    "ExecuteTime": {
     "end_time": "2020-08-26T01:43:30.484726Z",
     "start_time": "2020-08-26T01:43:27.760586Z"
    }
   },
   "outputs": [],
   "source": [
    "X, Y = nudge_dataset(X, y)"
   ]
  },
  {
   "cell_type": "code",
   "execution_count": 170,
   "metadata": {
    "ExecuteTime": {
     "end_time": "2020-08-26T01:44:36.409658Z",
     "start_time": "2020-08-26T01:44:36.400620Z"
    }
   },
   "outputs": [
    {
     "data": {
      "text/plain": [
       "(420, 64, 64, 3)"
      ]
     },
     "execution_count": 170,
     "metadata": {},
     "output_type": "execute_result"
    }
   ],
   "source": [
    "X.shape"
   ]
  },
  {
   "cell_type": "code",
   "execution_count": 161,
   "metadata": {
    "ExecuteTime": {
     "end_time": "2020-08-26T01:43:30.532963Z",
     "start_time": "2020-08-26T01:43:30.505003Z"
    }
   },
   "outputs": [
    {
     "data": {
      "text/plain": [
       "array([1, 1, 1, 1, 1, 1, 1, 1, 1, 1, 1, 1, 1, 1, 1, 1, 1, 1, 1, 1, 1, 1,\n",
       "       1, 1, 1, 1, 1, 1, 1, 1, 1, 1, 1, 1, 1, 1, 1, 0, 0, 0, 0, 0, 0, 0,\n",
       "       0, 0, 0, 0, 0, 0, 0, 0, 0, 0, 0, 0, 0, 0, 0, 0, 0, 0, 0, 0, 0, 0,\n",
       "       0, 0, 0, 0, 0, 0, 0, 0, 1, 1, 1, 1, 1, 0, 0, 0, 0, 0, 1, 1, 1, 1,\n",
       "       1, 1, 1, 1, 1, 1, 1, 1, 1, 1, 1, 1, 1, 1, 1, 1, 1, 1, 1, 1, 1, 1,\n",
       "       1, 1, 1, 1, 1, 1, 1, 1, 1, 1, 1, 0, 0, 0, 0, 0, 0, 0, 0, 0, 0, 0,\n",
       "       0, 0, 0, 0, 0, 0, 0, 0, 0, 0, 0, 0, 0, 0, 0, 0, 0, 0, 0, 0, 0, 0,\n",
       "       0, 0, 0, 0, 1, 1, 1, 1, 1, 0, 0, 0, 0, 0, 1, 1, 1, 1, 1, 1, 1, 1,\n",
       "       1, 1, 1, 1, 1, 1, 1, 1, 1, 1, 1, 1, 1, 1, 1, 1, 1, 1, 1, 1, 1, 1,\n",
       "       1, 1, 1, 1, 1, 1, 1, 0, 0, 0, 0, 0, 0, 0, 0, 0, 0, 0, 0, 0, 0, 0,\n",
       "       0, 0, 0, 0, 0, 0, 0, 0, 0, 0, 0, 0, 0, 0, 0, 0, 0, 0, 0, 0, 0, 0,\n",
       "       1, 1, 1, 1, 1, 0, 0, 0, 0, 0, 1, 1, 1, 1, 1, 1, 1, 1, 1, 1, 1, 1,\n",
       "       1, 1, 1, 1, 1, 1, 1, 1, 1, 1, 1, 1, 1, 1, 1, 1, 1, 1, 1, 1, 1, 1,\n",
       "       1, 1, 1, 0, 0, 0, 0, 0, 0, 0, 0, 0, 0, 0, 0, 0, 0, 0, 0, 0, 0, 0,\n",
       "       0, 0, 0, 0, 0, 0, 0, 0, 0, 0, 0, 0, 0, 0, 0, 0, 0, 0, 1, 1, 1, 1,\n",
       "       1, 0, 0, 0, 0, 0, 1, 1, 1, 1, 1, 1, 1, 1, 1, 1, 1, 1, 1, 1, 1, 1,\n",
       "       1, 1, 1, 1, 1, 1, 1, 1, 1, 1, 1, 1, 1, 1, 1, 1, 1, 1, 1, 1, 1, 0,\n",
       "       0, 0, 0, 0, 0, 0, 0, 0, 0, 0, 0, 0, 0, 0, 0, 0, 0, 0, 0, 0, 0, 0,\n",
       "       0, 0, 0, 0, 0, 0, 0, 0, 0, 0, 0, 0, 0, 0, 1, 1, 1, 1, 1, 0, 0, 0,\n",
       "       0, 0])"
      ]
     },
     "execution_count": 161,
     "metadata": {},
     "output_type": "execute_result"
    }
   ],
   "source": [
    "Y"
   ]
  },
  {
   "cell_type": "code",
   "execution_count": 162,
   "metadata": {
    "ExecuteTime": {
     "end_time": "2020-08-26T01:43:32.338708Z",
     "start_time": "2020-08-26T01:43:32.259353Z"
    }
   },
   "outputs": [],
   "source": [
    "X = (X - np.min(X, 0)) / (np.max(X, 0) + 0.0001)  # 0-1 scaling"
   ]
  },
  {
   "cell_type": "code",
   "execution_count": 163,
   "metadata": {
    "ExecuteTime": {
     "end_time": "2020-08-26T01:43:33.294011Z",
     "start_time": "2020-08-26T01:43:33.284307Z"
    }
   },
   "outputs": [
    {
     "data": {
      "text/plain": [
       "((420, 64, 64, 3), (84,))"
      ]
     },
     "execution_count": 163,
     "metadata": {},
     "output_type": "execute_result"
    }
   ],
   "source": [
    "X.shape, y.shape"
   ]
  },
  {
   "cell_type": "code",
   "execution_count": null,
   "metadata": {},
   "outputs": [],
   "source": [
    "# X_train,X_test,X_val,y_train,y_test,y_val=load_train_test_val(planet_train_files, \n",
    "#                                                               negative_train_files,\n",
    "#                                                               planet_test_files, \n",
    "#                                                               negative_test_files, \n",
    "#                                                               val_size=0.1, \n",
    "#                                                               img_size=(64,64,3))\n",
    "\n",
    "\n",
    "#     X_train,X_val, y_train, y_val = train_test_split(X,y,test_size=0.1)\n",
    "    \n",
    "#     print('\\n[i] Length of Splits:')\n",
    "#     print(f\"X_train={len(X_train)}, X_test={len(X_test)}, X_val={len(X_val)}\")\n",
    "    \n",
    "#     return X_train, X_test, X_val, y_train, y_test, y_val"
   ]
  },
  {
   "cell_type": "code",
   "execution_count": 164,
   "metadata": {
    "ExecuteTime": {
     "end_time": "2020-08-26T01:43:39.215920Z",
     "start_time": "2020-08-26T01:43:39.198212Z"
    }
   },
   "outputs": [],
   "source": [
    "X_train, X_test, Y_train, Y_test = train_test_split(\n",
    "    X, Y, test_size=0.2, random_state=0)"
   ]
  },
  {
   "cell_type": "code",
   "execution_count": 166,
   "metadata": {
    "ExecuteTime": {
     "end_time": "2020-08-26T01:43:41.791880Z",
     "start_time": "2020-08-26T01:43:41.785105Z"
    }
   },
   "outputs": [],
   "source": [
    "# Models we will use\n",
    "logistic = linear_model.LogisticRegression(solver='newton-cg', tol=1)\n",
    "rbm = BernoulliRBM(random_state=0, verbose=True)\n",
    "\n",
    "rbm_features_classifier = Pipeline(\n",
    "    steps=[('rbm', rbm), ('logistic', logistic)])"
   ]
  },
  {
   "cell_type": "code",
   "execution_count": 167,
   "metadata": {
    "ExecuteTime": {
     "end_time": "2020-08-26T01:43:42.584085Z",
     "start_time": "2020-08-26T01:43:42.576895Z"
    }
   },
   "outputs": [],
   "source": [
    "# #############################################################################\n",
    "# Training\n",
    "\n",
    "# Hyper-parameters. These were set by cross-validation,\n",
    "# using a GridSearchCV. Here we are not performing cross-validation to\n",
    "# save time.\n",
    "rbm.learning_rate = 0.06\n",
    "rbm.n_iter = 10\n",
    "# More components tend to give better prediction performance, but larger\n",
    "# fitting time\n",
    "rbm.n_components = 100\n",
    "logistic.C = 6000"
   ]
  },
  {
   "cell_type": "code",
   "execution_count": 169,
   "metadata": {
    "ExecuteTime": {
     "end_time": "2020-08-26T01:43:51.486787Z",
     "start_time": "2020-08-26T01:43:51.375271Z"
    }
   },
   "outputs": [
    {
     "ename": "ValueError",
     "evalue": "Found array with dim 4. Estimator expected <= 2.",
     "output_type": "error",
     "traceback": [
      "\u001b[0;31m---------------------------------------------------------------------------\u001b[0m",
      "\u001b[0;31mValueError\u001b[0m                                Traceback (most recent call last)",
      "\u001b[0;32m<ipython-input-169-dc5d0c13eb41>\u001b[0m in \u001b[0;36m<module>\u001b[0;34m\u001b[0m\n\u001b[1;32m      1\u001b[0m \u001b[0;31m# Training RBM-Logistic Pipeline\u001b[0m\u001b[0;34m\u001b[0m\u001b[0;34m\u001b[0m\u001b[0;34m\u001b[0m\u001b[0m\n\u001b[0;32m----> 2\u001b[0;31m \u001b[0mrbm_features_classifier\u001b[0m\u001b[0;34m.\u001b[0m\u001b[0mfit\u001b[0m\u001b[0;34m(\u001b[0m\u001b[0mX_train\u001b[0m\u001b[0;34m,\u001b[0m \u001b[0mY_train\u001b[0m\u001b[0;34m)\u001b[0m\u001b[0;34m\u001b[0m\u001b[0;34m\u001b[0m\u001b[0m\n\u001b[0m",
      "\u001b[0;32m~/opt/anaconda3/envs/learn-env/lib/python3.6/site-packages/sklearn/pipeline.py\u001b[0m in \u001b[0;36mfit\u001b[0;34m(self, X, y, **fit_params)\u001b[0m\n\u001b[1;32m    348\u001b[0m             \u001b[0mThis\u001b[0m \u001b[0mestimator\u001b[0m\u001b[0;34m\u001b[0m\u001b[0;34m\u001b[0m\u001b[0m\n\u001b[1;32m    349\u001b[0m         \"\"\"\n\u001b[0;32m--> 350\u001b[0;31m         \u001b[0mXt\u001b[0m\u001b[0;34m,\u001b[0m \u001b[0mfit_params\u001b[0m \u001b[0;34m=\u001b[0m \u001b[0mself\u001b[0m\u001b[0;34m.\u001b[0m\u001b[0m_fit\u001b[0m\u001b[0;34m(\u001b[0m\u001b[0mX\u001b[0m\u001b[0;34m,\u001b[0m \u001b[0my\u001b[0m\u001b[0;34m,\u001b[0m \u001b[0;34m**\u001b[0m\u001b[0mfit_params\u001b[0m\u001b[0;34m)\u001b[0m\u001b[0;34m\u001b[0m\u001b[0;34m\u001b[0m\u001b[0m\n\u001b[0m\u001b[1;32m    351\u001b[0m         with _print_elapsed_time('Pipeline',\n\u001b[1;32m    352\u001b[0m                                  self._log_message(len(self.steps) - 1)):\n",
      "\u001b[0;32m~/opt/anaconda3/envs/learn-env/lib/python3.6/site-packages/sklearn/pipeline.py\u001b[0m in \u001b[0;36m_fit\u001b[0;34m(self, X, y, **fit_params)\u001b[0m\n\u001b[1;32m    313\u001b[0m                 \u001b[0mmessage_clsname\u001b[0m\u001b[0;34m=\u001b[0m\u001b[0;34m'Pipeline'\u001b[0m\u001b[0;34m,\u001b[0m\u001b[0;34m\u001b[0m\u001b[0;34m\u001b[0m\u001b[0m\n\u001b[1;32m    314\u001b[0m                 \u001b[0mmessage\u001b[0m\u001b[0;34m=\u001b[0m\u001b[0mself\u001b[0m\u001b[0;34m.\u001b[0m\u001b[0m_log_message\u001b[0m\u001b[0;34m(\u001b[0m\u001b[0mstep_idx\u001b[0m\u001b[0;34m)\u001b[0m\u001b[0;34m,\u001b[0m\u001b[0;34m\u001b[0m\u001b[0;34m\u001b[0m\u001b[0m\n\u001b[0;32m--> 315\u001b[0;31m                 **fit_params_steps[name])\n\u001b[0m\u001b[1;32m    316\u001b[0m             \u001b[0;31m# Replace the transformer of the step with the fitted\u001b[0m\u001b[0;34m\u001b[0m\u001b[0;34m\u001b[0m\u001b[0;34m\u001b[0m\u001b[0m\n\u001b[1;32m    317\u001b[0m             \u001b[0;31m# transformer. This is necessary when loading the transformer\u001b[0m\u001b[0;34m\u001b[0m\u001b[0;34m\u001b[0m\u001b[0;34m\u001b[0m\u001b[0m\n",
      "\u001b[0;32m~/opt/anaconda3/envs/learn-env/lib/python3.6/site-packages/joblib/memory.py\u001b[0m in \u001b[0;36m__call__\u001b[0;34m(self, *args, **kwargs)\u001b[0m\n\u001b[1;32m    353\u001b[0m \u001b[0;34m\u001b[0m\u001b[0m\n\u001b[1;32m    354\u001b[0m     \u001b[0;32mdef\u001b[0m \u001b[0m__call__\u001b[0m\u001b[0;34m(\u001b[0m\u001b[0mself\u001b[0m\u001b[0;34m,\u001b[0m \u001b[0;34m*\u001b[0m\u001b[0margs\u001b[0m\u001b[0;34m,\u001b[0m \u001b[0;34m**\u001b[0m\u001b[0mkwargs\u001b[0m\u001b[0;34m)\u001b[0m\u001b[0;34m:\u001b[0m\u001b[0;34m\u001b[0m\u001b[0;34m\u001b[0m\u001b[0m\n\u001b[0;32m--> 355\u001b[0;31m         \u001b[0;32mreturn\u001b[0m \u001b[0mself\u001b[0m\u001b[0;34m.\u001b[0m\u001b[0mfunc\u001b[0m\u001b[0;34m(\u001b[0m\u001b[0;34m*\u001b[0m\u001b[0margs\u001b[0m\u001b[0;34m,\u001b[0m \u001b[0;34m**\u001b[0m\u001b[0mkwargs\u001b[0m\u001b[0;34m)\u001b[0m\u001b[0;34m\u001b[0m\u001b[0;34m\u001b[0m\u001b[0m\n\u001b[0m\u001b[1;32m    356\u001b[0m \u001b[0;34m\u001b[0m\u001b[0m\n\u001b[1;32m    357\u001b[0m     \u001b[0;32mdef\u001b[0m \u001b[0mcall_and_shelve\u001b[0m\u001b[0;34m(\u001b[0m\u001b[0mself\u001b[0m\u001b[0;34m,\u001b[0m \u001b[0;34m*\u001b[0m\u001b[0margs\u001b[0m\u001b[0;34m,\u001b[0m \u001b[0;34m**\u001b[0m\u001b[0mkwargs\u001b[0m\u001b[0;34m)\u001b[0m\u001b[0;34m:\u001b[0m\u001b[0;34m\u001b[0m\u001b[0;34m\u001b[0m\u001b[0m\n",
      "\u001b[0;32m~/opt/anaconda3/envs/learn-env/lib/python3.6/site-packages/sklearn/pipeline.py\u001b[0m in \u001b[0;36m_fit_transform_one\u001b[0;34m(transformer, X, y, weight, message_clsname, message, **fit_params)\u001b[0m\n\u001b[1;32m    726\u001b[0m     \u001b[0;32mwith\u001b[0m \u001b[0m_print_elapsed_time\u001b[0m\u001b[0;34m(\u001b[0m\u001b[0mmessage_clsname\u001b[0m\u001b[0;34m,\u001b[0m \u001b[0mmessage\u001b[0m\u001b[0;34m)\u001b[0m\u001b[0;34m:\u001b[0m\u001b[0;34m\u001b[0m\u001b[0;34m\u001b[0m\u001b[0m\n\u001b[1;32m    727\u001b[0m         \u001b[0;32mif\u001b[0m \u001b[0mhasattr\u001b[0m\u001b[0;34m(\u001b[0m\u001b[0mtransformer\u001b[0m\u001b[0;34m,\u001b[0m \u001b[0;34m'fit_transform'\u001b[0m\u001b[0;34m)\u001b[0m\u001b[0;34m:\u001b[0m\u001b[0;34m\u001b[0m\u001b[0;34m\u001b[0m\u001b[0m\n\u001b[0;32m--> 728\u001b[0;31m             \u001b[0mres\u001b[0m \u001b[0;34m=\u001b[0m \u001b[0mtransformer\u001b[0m\u001b[0;34m.\u001b[0m\u001b[0mfit_transform\u001b[0m\u001b[0;34m(\u001b[0m\u001b[0mX\u001b[0m\u001b[0;34m,\u001b[0m \u001b[0my\u001b[0m\u001b[0;34m,\u001b[0m \u001b[0;34m**\u001b[0m\u001b[0mfit_params\u001b[0m\u001b[0;34m)\u001b[0m\u001b[0;34m\u001b[0m\u001b[0;34m\u001b[0m\u001b[0m\n\u001b[0m\u001b[1;32m    729\u001b[0m         \u001b[0;32melse\u001b[0m\u001b[0;34m:\u001b[0m\u001b[0;34m\u001b[0m\u001b[0;34m\u001b[0m\u001b[0m\n\u001b[1;32m    730\u001b[0m             \u001b[0mres\u001b[0m \u001b[0;34m=\u001b[0m \u001b[0mtransformer\u001b[0m\u001b[0;34m.\u001b[0m\u001b[0mfit\u001b[0m\u001b[0;34m(\u001b[0m\u001b[0mX\u001b[0m\u001b[0;34m,\u001b[0m \u001b[0my\u001b[0m\u001b[0;34m,\u001b[0m \u001b[0;34m**\u001b[0m\u001b[0mfit_params\u001b[0m\u001b[0;34m)\u001b[0m\u001b[0;34m.\u001b[0m\u001b[0mtransform\u001b[0m\u001b[0;34m(\u001b[0m\u001b[0mX\u001b[0m\u001b[0;34m)\u001b[0m\u001b[0;34m\u001b[0m\u001b[0;34m\u001b[0m\u001b[0m\n",
      "\u001b[0;32m~/opt/anaconda3/envs/learn-env/lib/python3.6/site-packages/sklearn/base.py\u001b[0m in \u001b[0;36mfit_transform\u001b[0;34m(self, X, y, **fit_params)\u001b[0m\n\u001b[1;32m    572\u001b[0m         \u001b[0;32melse\u001b[0m\u001b[0;34m:\u001b[0m\u001b[0;34m\u001b[0m\u001b[0;34m\u001b[0m\u001b[0m\n\u001b[1;32m    573\u001b[0m             \u001b[0;31m# fit method of arity 2 (supervised transformation)\u001b[0m\u001b[0;34m\u001b[0m\u001b[0;34m\u001b[0m\u001b[0;34m\u001b[0m\u001b[0m\n\u001b[0;32m--> 574\u001b[0;31m             \u001b[0;32mreturn\u001b[0m \u001b[0mself\u001b[0m\u001b[0;34m.\u001b[0m\u001b[0mfit\u001b[0m\u001b[0;34m(\u001b[0m\u001b[0mX\u001b[0m\u001b[0;34m,\u001b[0m \u001b[0my\u001b[0m\u001b[0;34m,\u001b[0m \u001b[0;34m**\u001b[0m\u001b[0mfit_params\u001b[0m\u001b[0;34m)\u001b[0m\u001b[0;34m.\u001b[0m\u001b[0mtransform\u001b[0m\u001b[0;34m(\u001b[0m\u001b[0mX\u001b[0m\u001b[0;34m)\u001b[0m\u001b[0;34m\u001b[0m\u001b[0;34m\u001b[0m\u001b[0m\n\u001b[0m\u001b[1;32m    575\u001b[0m \u001b[0;34m\u001b[0m\u001b[0m\n\u001b[1;32m    576\u001b[0m \u001b[0;34m\u001b[0m\u001b[0m\n",
      "\u001b[0;32m~/opt/anaconda3/envs/learn-env/lib/python3.6/site-packages/sklearn/neural_network/_rbm.py\u001b[0m in \u001b[0;36mfit\u001b[0;34m(self, X, y)\u001b[0m\n\u001b[1;32m    337\u001b[0m             \u001b[0mThe\u001b[0m \u001b[0mfitted\u001b[0m \u001b[0mmodel\u001b[0m\u001b[0;34m.\u001b[0m\u001b[0;34m\u001b[0m\u001b[0;34m\u001b[0m\u001b[0m\n\u001b[1;32m    338\u001b[0m         \"\"\"\n\u001b[0;32m--> 339\u001b[0;31m         \u001b[0mX\u001b[0m \u001b[0;34m=\u001b[0m \u001b[0mcheck_array\u001b[0m\u001b[0;34m(\u001b[0m\u001b[0mX\u001b[0m\u001b[0;34m,\u001b[0m \u001b[0maccept_sparse\u001b[0m\u001b[0;34m=\u001b[0m\u001b[0;34m'csr'\u001b[0m\u001b[0;34m,\u001b[0m \u001b[0mdtype\u001b[0m\u001b[0;34m=\u001b[0m\u001b[0mnp\u001b[0m\u001b[0;34m.\u001b[0m\u001b[0mfloat64\u001b[0m\u001b[0;34m)\u001b[0m\u001b[0;34m\u001b[0m\u001b[0;34m\u001b[0m\u001b[0m\n\u001b[0m\u001b[1;32m    340\u001b[0m         \u001b[0mn_samples\u001b[0m \u001b[0;34m=\u001b[0m \u001b[0mX\u001b[0m\u001b[0;34m.\u001b[0m\u001b[0mshape\u001b[0m\u001b[0;34m[\u001b[0m\u001b[0;36m0\u001b[0m\u001b[0;34m]\u001b[0m\u001b[0;34m\u001b[0m\u001b[0;34m\u001b[0m\u001b[0m\n\u001b[1;32m    341\u001b[0m         \u001b[0mrng\u001b[0m \u001b[0;34m=\u001b[0m \u001b[0mcheck_random_state\u001b[0m\u001b[0;34m(\u001b[0m\u001b[0mself\u001b[0m\u001b[0;34m.\u001b[0m\u001b[0mrandom_state\u001b[0m\u001b[0;34m)\u001b[0m\u001b[0;34m\u001b[0m\u001b[0;34m\u001b[0m\u001b[0m\n",
      "\u001b[0;32m~/opt/anaconda3/envs/learn-env/lib/python3.6/site-packages/sklearn/utils/validation.py\u001b[0m in \u001b[0;36mcheck_array\u001b[0;34m(array, accept_sparse, accept_large_sparse, dtype, order, copy, force_all_finite, ensure_2d, allow_nd, ensure_min_samples, ensure_min_features, warn_on_dtype, estimator)\u001b[0m\n\u001b[1;32m    572\u001b[0m         \u001b[0;32mif\u001b[0m \u001b[0;32mnot\u001b[0m \u001b[0mallow_nd\u001b[0m \u001b[0;32mand\u001b[0m \u001b[0marray\u001b[0m\u001b[0;34m.\u001b[0m\u001b[0mndim\u001b[0m \u001b[0;34m>=\u001b[0m \u001b[0;36m3\u001b[0m\u001b[0;34m:\u001b[0m\u001b[0;34m\u001b[0m\u001b[0;34m\u001b[0m\u001b[0m\n\u001b[1;32m    573\u001b[0m             raise ValueError(\"Found array with dim %d. %s expected <= 2.\"\n\u001b[0;32m--> 574\u001b[0;31m                              % (array.ndim, estimator_name))\n\u001b[0m\u001b[1;32m    575\u001b[0m \u001b[0;34m\u001b[0m\u001b[0m\n\u001b[1;32m    576\u001b[0m         \u001b[0;32mif\u001b[0m \u001b[0mforce_all_finite\u001b[0m\u001b[0;34m:\u001b[0m\u001b[0;34m\u001b[0m\u001b[0;34m\u001b[0m\u001b[0m\n",
      "\u001b[0;31mValueError\u001b[0m: Found array with dim 4. Estimator expected <= 2."
     ]
    }
   ],
   "source": [
    "# Training RBM-Logistic Pipeline\n",
    "rbm_features_classifier.fit(X_train, Y_train)"
   ]
  },
  {
   "cell_type": "code",
   "execution_count": 138,
   "metadata": {
    "ExecuteTime": {
     "end_time": "2020-08-26T01:37:05.956711Z",
     "start_time": "2020-08-26T01:37:05.905283Z"
    },
    "colab": {},
    "colab_type": "code",
    "id": "ZeVDoXp0PDIs"
   },
   "outputs": [
    {
     "ename": "ValueError",
     "evalue": "Found array with dim 4. Estimator expected <= 2.",
     "output_type": "error",
     "traceback": [
      "\u001b[0;31m---------------------------------------------------------------------------\u001b[0m",
      "\u001b[0;31mValueError\u001b[0m                                Traceback (most recent call last)",
      "\u001b[0;32m<ipython-input-138-cab912481fe4>\u001b[0m in \u001b[0;36m<module>\u001b[0;34m\u001b[0m\n\u001b[1;32m      2\u001b[0m \u001b[0mraw_pixel_classifier\u001b[0m \u001b[0;34m=\u001b[0m \u001b[0mclone\u001b[0m\u001b[0;34m(\u001b[0m\u001b[0mlogistic\u001b[0m\u001b[0;34m)\u001b[0m\u001b[0;34m\u001b[0m\u001b[0;34m\u001b[0m\u001b[0m\n\u001b[1;32m      3\u001b[0m \u001b[0mraw_pixel_classifier\u001b[0m\u001b[0;34m.\u001b[0m\u001b[0mC\u001b[0m \u001b[0;34m=\u001b[0m \u001b[0;36m100.\u001b[0m\u001b[0;34m\u001b[0m\u001b[0;34m\u001b[0m\u001b[0m\n\u001b[0;32m----> 4\u001b[0;31m \u001b[0mraw_pixel_classifier\u001b[0m\u001b[0;34m.\u001b[0m\u001b[0mfit\u001b[0m\u001b[0;34m(\u001b[0m\u001b[0mX_train\u001b[0m\u001b[0;34m,\u001b[0m \u001b[0mY_train\u001b[0m\u001b[0;34m)\u001b[0m\u001b[0;34m\u001b[0m\u001b[0;34m\u001b[0m\u001b[0m\n\u001b[0m",
      "\u001b[0;32m~/opt/anaconda3/envs/learn-env/lib/python3.6/site-packages/sklearn/linear_model/_logistic.py\u001b[0m in \u001b[0;36mfit\u001b[0;34m(self, X, y, sample_weight)\u001b[0m\n\u001b[1;32m   1525\u001b[0m \u001b[0;34m\u001b[0m\u001b[0m\n\u001b[1;32m   1526\u001b[0m         X, y = check_X_y(X, y, accept_sparse='csr', dtype=_dtype, order=\"C\",\n\u001b[0;32m-> 1527\u001b[0;31m                          accept_large_sparse=solver != 'liblinear')\n\u001b[0m\u001b[1;32m   1528\u001b[0m         \u001b[0mcheck_classification_targets\u001b[0m\u001b[0;34m(\u001b[0m\u001b[0my\u001b[0m\u001b[0;34m)\u001b[0m\u001b[0;34m\u001b[0m\u001b[0;34m\u001b[0m\u001b[0m\n\u001b[1;32m   1529\u001b[0m         \u001b[0mself\u001b[0m\u001b[0;34m.\u001b[0m\u001b[0mclasses_\u001b[0m \u001b[0;34m=\u001b[0m \u001b[0mnp\u001b[0m\u001b[0;34m.\u001b[0m\u001b[0munique\u001b[0m\u001b[0;34m(\u001b[0m\u001b[0my\u001b[0m\u001b[0;34m)\u001b[0m\u001b[0;34m\u001b[0m\u001b[0;34m\u001b[0m\u001b[0m\n",
      "\u001b[0;32m~/opt/anaconda3/envs/learn-env/lib/python3.6/site-packages/sklearn/utils/validation.py\u001b[0m in \u001b[0;36mcheck_X_y\u001b[0;34m(X, y, accept_sparse, accept_large_sparse, dtype, order, copy, force_all_finite, ensure_2d, allow_nd, multi_output, ensure_min_samples, ensure_min_features, y_numeric, warn_on_dtype, estimator)\u001b[0m\n\u001b[1;32m    753\u001b[0m                     \u001b[0mensure_min_features\u001b[0m\u001b[0;34m=\u001b[0m\u001b[0mensure_min_features\u001b[0m\u001b[0;34m,\u001b[0m\u001b[0;34m\u001b[0m\u001b[0;34m\u001b[0m\u001b[0m\n\u001b[1;32m    754\u001b[0m                     \u001b[0mwarn_on_dtype\u001b[0m\u001b[0;34m=\u001b[0m\u001b[0mwarn_on_dtype\u001b[0m\u001b[0;34m,\u001b[0m\u001b[0;34m\u001b[0m\u001b[0;34m\u001b[0m\u001b[0m\n\u001b[0;32m--> 755\u001b[0;31m                     estimator=estimator)\n\u001b[0m\u001b[1;32m    756\u001b[0m     \u001b[0;32mif\u001b[0m \u001b[0mmulti_output\u001b[0m\u001b[0;34m:\u001b[0m\u001b[0;34m\u001b[0m\u001b[0;34m\u001b[0m\u001b[0m\n\u001b[1;32m    757\u001b[0m         y = check_array(y, 'csr', force_all_finite=True, ensure_2d=False,\n",
      "\u001b[0;32m~/opt/anaconda3/envs/learn-env/lib/python3.6/site-packages/sklearn/utils/validation.py\u001b[0m in \u001b[0;36mcheck_array\u001b[0;34m(array, accept_sparse, accept_large_sparse, dtype, order, copy, force_all_finite, ensure_2d, allow_nd, ensure_min_samples, ensure_min_features, warn_on_dtype, estimator)\u001b[0m\n\u001b[1;32m    572\u001b[0m         \u001b[0;32mif\u001b[0m \u001b[0;32mnot\u001b[0m \u001b[0mallow_nd\u001b[0m \u001b[0;32mand\u001b[0m \u001b[0marray\u001b[0m\u001b[0;34m.\u001b[0m\u001b[0mndim\u001b[0m \u001b[0;34m>=\u001b[0m \u001b[0;36m3\u001b[0m\u001b[0;34m:\u001b[0m\u001b[0;34m\u001b[0m\u001b[0;34m\u001b[0m\u001b[0m\n\u001b[1;32m    573\u001b[0m             raise ValueError(\"Found array with dim %d. %s expected <= 2.\"\n\u001b[0;32m--> 574\u001b[0;31m                              % (array.ndim, estimator_name))\n\u001b[0m\u001b[1;32m    575\u001b[0m \u001b[0;34m\u001b[0m\u001b[0m\n\u001b[1;32m    576\u001b[0m         \u001b[0;32mif\u001b[0m \u001b[0mforce_all_finite\u001b[0m\u001b[0;34m:\u001b[0m\u001b[0;34m\u001b[0m\u001b[0;34m\u001b[0m\u001b[0m\n",
      "\u001b[0;31mValueError\u001b[0m: Found array with dim 4. Estimator expected <= 2."
     ]
    }
   ],
   "source": [
    "# Training the Logistic regression classifier directly on the pixel\n",
    "raw_pixel_classifier = clone(logistic)\n",
    "raw_pixel_classifier.C = 100.\n",
    "raw_pixel_classifier.fit(X_train, Y_train)"
   ]
  },
  {
   "cell_type": "code",
   "execution_count": null,
   "metadata": {},
   "outputs": [],
   "source": [
    "# #############################################################################\n",
    "# Evaluation\n",
    "\n",
    "Y_pred = rbm_features_classifier.predict(X_test)\n",
    "print(\"Logistic regression using RBM features:\\n%s\\n\" % (\n",
    "    metrics.classification_report(Y_test, Y_pred)))\n",
    "\n",
    "Y_pred = raw_pixel_classifier.predict(X_test)\n",
    "print(\"Logistic regression using raw pixel features:\\n%s\\n\" % (\n",
    "    metrics.classification_report(Y_test, Y_pred)))"
   ]
  },
  {
   "cell_type": "code",
   "execution_count": null,
   "metadata": {},
   "outputs": [],
   "source": [
    "# #############################################################################\n",
    "# Plotting\n",
    "\n",
    "plt.figure(figsize=(4.2, 4))\n",
    "for i, comp in enumerate(rbm.components_):\n",
    "    plt.subplot(10, 10, i + 1)\n",
    "    plt.imshow(comp.reshape((8, 8)), cmap=plt.cm.gray_r,\n",
    "               interpolation='nearest')\n",
    "    plt.xticks(())\n",
    "    plt.yticks(())\n",
    "plt.suptitle('100 components extracted by RBM', fontsize=16)\n",
    "plt.subplots_adjust(0.08, 0.02, 0.92, 0.85, 0.08, 0.23)\n",
    "\n",
    "plt.show()"
   ]
  }
 ],
 "metadata": {
  "colab": {
   "collapsed_sections": [],
   "name": "starskope-3.ipynb",
   "provenance": []
  },
  "kernelspec": {
   "display_name": "Python 3",
   "language": "python",
   "name": "python3"
  },
  "language_info": {
   "codemirror_mode": {
    "name": "ipython",
    "version": 3
   },
   "file_extension": ".py",
   "mimetype": "text/x-python",
   "name": "python",
   "nbconvert_exporter": "python",
   "pygments_lexer": "ipython3",
   "version": "3.6.10"
  },
  "latex_envs": {
   "LaTeX_envs_menu_present": true,
   "autoclose": false,
   "autocomplete": true,
   "bibliofile": "biblio.bib",
   "cite_by": "apalike",
   "current_citInitial": 1,
   "eqLabelWithNumbers": true,
   "eqNumInitial": 1,
   "hotkeys": {
    "equation": "Ctrl-E",
    "itemize": "Ctrl-I"
   },
   "labels_anchors": false,
   "latex_user_defs": false,
   "report_style_numbering": false,
   "user_envs_cfg": false
  },
  "toc": {
   "base_numbering": 1,
   "nav_menu": {},
   "number_sections": true,
   "sideBar": true,
   "skip_h1_title": false,
   "title_cell": "Table of Contents",
   "title_sidebar": "Contents",
   "toc_cell": false,
   "toc_position": {},
   "toc_section_display": true,
   "toc_window_display": false
  }
 },
 "nbformat": 4,
 "nbformat_minor": 1
}
