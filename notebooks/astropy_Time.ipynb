{
 "cells": [
  {
   "cell_type": "markdown",
   "metadata": {},
   "source": [
    "\n",
    "`astropy.time <http://docs.astropy.org/en/stable/time/index.html>`\n",
    "\n",
    "- http://docs.astropy.org/en/stable/time/\n",
    "- http://docs.astropy.org/en/stable/time/index.html#time-deltas\n",
    "    \n",
    "__ provides methods to convert times and dates between different systems and formats. Since the ESO FITS headers already contain the time of the observation in different systems, we could just read the keyword in the time system we like, but we will use astropy.time to make this conversion here. astropy.time.Time will parse many common input formats (strings, floats), but unless the format is unambiguous the format needs to be specified (e.g. a number could mean JD or MJD or year). Also, the time system needs to be given (e.g. UTC). Below are several examples, initialized from different header keywords.\n",
    "\n",
    "*Times can be initialized from arrays and we can calculate time differences.\n"
   ]
  },
  {
   "cell_type": "code",
   "execution_count": 1,
   "metadata": {
    "ExecuteTime": {
     "end_time": "2020-03-22T08:52:17.140811Z",
     "start_time": "2020-03-22T08:52:14.791022Z"
    }
   },
   "outputs": [],
   "source": [
    "import pandas as pd\n",
    "from astropy.table import QTable\n",
    "import astropy.units as u\n",
    "from astropy.time import Time, TimeDelta\n",
    "from astropy.coordinates import SkyCoord"
   ]
  },
  {
   "cell_type": "code",
   "execution_count": null,
   "metadata": {},
   "outputs": [],
   "source": []
  },
  {
   "cell_type": "markdown",
   "metadata": {},
   "source": [
    "# Time( )\n",
    "Represent and manipulate times and dates for astronomy.\n",
    "\n",
    "A `Time` object is initialized with one or more times in the ``val``\n",
    "argument.  The input times in ``val`` must conform to the specified\n",
    "``format`` and must correspond to the specified time ``scale``.  The\n",
    "optional ``val2`` time input should be supplied only for numeric input\n",
    "formats (e.g. JD) where very high precision (better than 64-bit precision)\n",
    "is required.\n",
    "\n",
    "The allowed values for ``format`` can be listed with::\n",
    "\n",
    "`list(Time.FORMATS)`\n",
    "  ['jd', 'mjd', 'decimalyear', 'unix', 'cxcsec', 'gps', 'plot_date',\n",
    "   'stardate', 'datetime', 'ymdhms', 'iso', 'isot', 'yday', 'datetime64',\n",
    "   'fits', 'byear', 'jyear', 'byear_str', 'jyear_str']\n",
    "\n",
    "Parameters\n",
    "----------\n",
    "val : sequence, ndarray, number, str, bytes, or `~astropy.time.Time` object\n",
    "    Value(s) to initialize the time or times.  Bytes are decoded as ascii.\n",
    "val2 : sequence, ndarray, or number; optional\n",
    "    Value(s) to initialize the time or times.  Only used for numerical\n",
    "    input, to help preserve precision.\n",
    "format : str, optional\n",
    "    Format of input value(s)\n",
    "scale : str, optional\n",
    "    Time scale of input value(s), must be one of the following:\n",
    "    ('tai', 'tcb', 'tcg', 'tdb', 'tt', 'ut1', 'utc')\n",
    "precision : int, optional\n",
    "    Digits of precision in string representation of time\n",
    "in_subfmt : str, optional\n",
    "    Unix glob to select subformats for parsing input times\n",
    "out_subfmt : str, optional\n",
    "    Unix glob to select subformat for outputting times\n",
    "location : `~astropy.coordinates.EarthLocation` or tuple, optional\n",
    "    If given as an tuple, it should be able to initialize an\n",
    "    an EarthLocation instance, i.e., either contain 3 items with units of\n",
    "    length for geocentric coordinates, or contain a longitude, latitude,\n",
    "    and an optional height for geodetic coordinates.\n",
    "    Can be a single location, or one for each input time.\n",
    "copy : bool, optional\n",
    "    Make a copy of the input values"
   ]
  },
  {
   "cell_type": "code",
   "execution_count": 2,
   "metadata": {
    "ExecuteTime": {
     "end_time": "2020-03-22T08:52:25.432986Z",
     "start_time": "2020-03-22T08:52:25.420520Z"
    }
   },
   "outputs": [
    {
     "name": "stdout",
     "output_type": "stream",
     "text": [
      "[1998. 2002.]\n"
     ]
    }
   ],
   "source": [
    "# # Converting times\n",
    "tm = Time([1998, 2002], format='jyear')\n",
    "print(tm)"
   ]
  },
  {
   "cell_type": "markdown",
   "metadata": {},
   "source": [
    "# TimeDelta()\n",
    "\n",
    "Init signature:\n",
    "TimeDelta(\n",
    "    val,\n",
    "    val2=None,\n",
    "    format=None,\n",
    "    scale=None,\n",
    "    precision=None,\n",
    "    in_subfmt=None,\n",
    "    out_subfmt=None,\n",
    "    location=None,\n",
    "    copy=False,\n",
    ")\n",
    "Docstring:     \n",
    "Represent the time difference between two times.\n",
    "\n",
    "A TimeDelta object is initialized with one or more times in the ``val``\n",
    "argument.  The input times in ``val`` must conform to the specified\n",
    "``format``.  The optional ``val2`` time input should be supplied only for\n",
    "numeric input formats (e.g. JD) where very high precision (better than\n",
    "64-bit precision) is required.\n",
    "\n",
    "The allowed values for ``format`` can be listed with::\n",
    "\n",
    "  >>> list(TimeDelta.FORMATS)\n",
    "  ['sec', 'jd', 'datetime']\n",
    "\n",
    "Note that for time differences, the scale can be among three groups:\n",
    "geocentric ('tai', 'tt', 'tcg'), barycentric ('tcb', 'tdb'), and rotational\n",
    "('ut1'). Within each of these, the scales for time differences are the\n",
    "same. Conversion between geocentric and barycentric is possible, as there\n",
    "is only a scale factor change, but one cannot convert to or from 'ut1', as\n",
    "this requires knowledge of the actual times, not just their difference. For\n",
    "a similar reason, 'utc' is not a valid scale for a time difference: a UTC\n",
    "day is not always 86400 seconds.\n",
    "\n",
    "Parameters\n",
    "----------\n",
    "val : sequence, ndarray, number, `~astropy.units.Quantity` or `~astropy.time.TimeDelta` object\n",
    "    Value(s) to initialize the time difference(s). Any quantities will\n",
    "    be converted appropriately (with care taken to avoid rounding\n",
    "    errors for regular time units).\n",
    "val2 : sequence, ndarray, number, or `~astropy.units.Quantity`; optional\n",
    "    Additional values, as needed to preserve precision.\n",
    "format : str, optional\n",
    "    Format of input value(s)\n",
    "scale : str, optional\n",
    "    Time scale of input value(s), must be one of the following values:\n",
    "    ('tdb', 'tt', 'ut1', 'tcg', 'tcb', 'tai'). If not given (or\n",
    "    ``None``), the scale is arbitrary; when added or subtracted from a\n",
    "    ``Time`` instance, it will be used without conversion.\n",
    "copy : bool, optional\n",
    "    Make a copy of the input values"
   ]
  },
  {
   "cell_type": "code",
   "execution_count": 11,
   "metadata": {
    "ExecuteTime": {
     "end_time": "2020-03-22T09:27:40.966028Z",
     "start_time": "2020-03-22T09:27:40.956790Z"
    }
   },
   "outputs": [
    {
     "name": "stdout",
     "output_type": "stream",
     "text": [
      "[3.47222222e-05 2.31481481e-03]\n"
     ]
    }
   ],
   "source": [
    "# TimeDelta\n",
    "dt = TimeDelta([3, 200] * u.s)\n",
    "print(dt)"
   ]
  },
  {
   "cell_type": "markdown",
   "metadata": {},
   "source": [
    "# SkyCoord()\n",
    "http://docs.astropy.org/en/stable/coordinates/"
   ]
  },
  {
   "cell_type": "code",
   "execution_count": 4,
   "metadata": {
    "ExecuteTime": {
     "end_time": "2020-03-22T08:52:59.293408Z",
     "start_time": "2020-03-22T08:52:59.285760Z"
    }
   },
   "outputs": [],
   "source": [
    "from astropy.coordinates import SkyCoord  # High-level coordinates\n",
    "from astropy.coordinates import ICRS, Galactic, FK4, FK5  # Low-level frames\n",
    "from astropy.coordinates import Angle, Latitude, Longitude  # Angles\n",
    "import astropy.units as u\n",
    "\n",
    "# ra = Longitude([1, 2, 3], unit=u.deg)  # Could also use Angle\n",
    "# dec = np.array([4.5, 5.2, 6.3]) * u.deg  # Astropy Quantity\n",
    "\n",
    "# c = SkyCoord(ra, dec, frame='icrs')\n",
    "# c = SkyCoord(frame=ICRS, ra=ra, dec=dec, obstime='2001-01-02T12:34:56')\n",
    "# c = SkyCoord(10, 20, unit=\"deg\")  # defaults to ICRS frame -->"
   ]
  },
  {
   "cell_type": "code",
   "execution_count": 5,
   "metadata": {
    "ExecuteTime": {
     "end_time": "2020-03-22T08:53:00.957396Z",
     "start_time": "2020-03-22T08:53:00.944933Z"
    }
   },
   "outputs": [
    {
     "name": "stdout",
     "output_type": "stream",
     "text": [
      "<SkyCoord (ICRS): (ra, dec) in deg\n",
      "    [(5., 7.), (6., 8.)]>\n"
     ]
    }
   ],
   "source": [
    "sc = SkyCoord([5, 6], [7, 8], unit='deg') #ra, dec\n",
    "print(sc)"
   ]
  },
  {
   "cell_type": "code",
   "execution_count": 6,
   "metadata": {
    "ExecuteTime": {
     "end_time": "2020-03-22T08:53:01.933848Z",
     "start_time": "2020-03-22T08:53:01.924093Z"
    }
   },
   "outputs": [
    {
     "name": "stdout",
     "output_type": "stream",
     "text": [
      "[1. 2.] m\n"
     ]
    }
   ],
   "source": [
    "q = [1, 2] * u.m #meters\n",
    "\n",
    "print(q)"
   ]
  },
  {
   "cell_type": "markdown",
   "metadata": {},
   "source": [
    "# to_pandas(self, index=None)¶\n",
    "Return a pandas.DataFrame instance\n",
    "\n",
    "The index of the created DataFrame is controlled by the index argument. For index=True or the default None, an index will be specified for the DataFrame if there is a primary key index on the Table and if it corresponds to a single column. If index=False then no DataFrame index will be specified. If index is the name of a column in the table then that will be the DataFrame index.\n",
    "\n",
    "In additional to vanilla columns or masked columns, this supports Table mixin columns like Quantity, Time, or SkyCoord. In many cases these objects have no analog in pandas and will be converted to a “encoded” representation using only Column or MaskedColumn. The exception is Time or TimeDelta columns, which will be converted to the corresponding representation in pandas using np.datetime64 or np.timedelta64. See the example below."
   ]
  },
  {
   "cell_type": "code",
   "execution_count": 7,
   "metadata": {
    "ExecuteTime": {
     "end_time": "2020-03-22T08:53:04.851440Z",
     "start_time": "2020-03-22T08:53:04.843821Z"
    }
   },
   "outputs": [
    {
     "name": "stdout",
     "output_type": "stream",
     "text": [
      "[1. 2.] m\n",
      "[1998. 2002.]\n",
      "<SkyCoord (ICRS): (ra, dec) in deg\n",
      "    [(5., 7.), (6., 8.)]>\n",
      "[3.47222222e-05 2.31481481e-03]\n"
     ]
    }
   ],
   "source": [
    "print(q)\n",
    "print(tm)\n",
    "print(sc)\n",
    "print(dt)"
   ]
  },
  {
   "cell_type": "code",
   "execution_count": 8,
   "metadata": {
    "ExecuteTime": {
     "end_time": "2020-03-22T08:53:06.289275Z",
     "start_time": "2020-03-22T08:53:06.255511Z"
    }
   },
   "outputs": [
    {
     "data": {
      "text/html": [
       "<i>QTable length=2</i>\n",
       "<table id=\"table4687214184\" class=\"table-striped table-bordered table-condensed\">\n",
       "<thead><tr><th>q</th><th>tm</th><th>sc</th><th>dt</th></tr></thead>\n",
       "<thead><tr><th>m</th><th></th><th>deg,deg</th><th></th></tr></thead>\n",
       "<thead><tr><th>float64</th><th>object</th><th>object</th><th>object</th></tr></thead>\n",
       "<tr><td>1.0</td><td>1998.0</td><td>5.0,7.0</td><td>3.472222222222222e-05</td></tr>\n",
       "<tr><td>2.0</td><td>2002.0</td><td>6.0,8.0</td><td>0.0023148148148148147</td></tr>\n",
       "</table>"
      ],
      "text/plain": [
       "<QTable length=2>\n",
       "   q      tm      sc             dt         \n",
       "   m           deg,deg                      \n",
       "float64 object  object         object       \n",
       "------- ------ ------- ---------------------\n",
       "    1.0 1998.0 5.0,7.0 3.472222222222222e-05\n",
       "    2.0 2002.0 6.0,8.0 0.0023148148148148147"
      ]
     },
     "execution_count": 8,
     "metadata": {},
     "output_type": "execute_result"
    }
   ],
   "source": [
    "\n",
    "# Here we convert a table with a few mixins to a pandas.DataFrame instance.\n",
    "t = QTable([q, tm, sc, dt],names=['q', 'tm', 'sc', 'dt'])\n",
    "t"
   ]
  },
  {
   "cell_type": "code",
   "execution_count": 9,
   "metadata": {
    "ExecuteTime": {
     "end_time": "2020-03-22T08:53:09.485795Z",
     "start_time": "2020-03-22T08:53:09.434697Z"
    }
   },
   "outputs": [
    {
     "data": {
      "text/html": [
       "<div>\n",
       "<style scoped>\n",
       "    .dataframe tbody tr th:only-of-type {\n",
       "        vertical-align: middle;\n",
       "    }\n",
       "\n",
       "    .dataframe tbody tr th {\n",
       "        vertical-align: top;\n",
       "    }\n",
       "\n",
       "    .dataframe thead th {\n",
       "        text-align: right;\n",
       "    }\n",
       "</style>\n",
       "<table border=\"1\" class=\"dataframe\">\n",
       "  <thead>\n",
       "    <tr style=\"text-align: right;\">\n",
       "      <th></th>\n",
       "      <th>q</th>\n",
       "      <th>sc.ra</th>\n",
       "      <th>sc.dec</th>\n",
       "      <th>dt</th>\n",
       "    </tr>\n",
       "    <tr>\n",
       "      <th>tm</th>\n",
       "      <th></th>\n",
       "      <th></th>\n",
       "      <th></th>\n",
       "      <th></th>\n",
       "    </tr>\n",
       "  </thead>\n",
       "  <tbody>\n",
       "    <tr>\n",
       "      <th>1998-01-01</th>\n",
       "      <td>1.0</td>\n",
       "      <td>5.0</td>\n",
       "      <td>7.0</td>\n",
       "      <td>00:00:03</td>\n",
       "    </tr>\n",
       "    <tr>\n",
       "      <th>2002-01-01</th>\n",
       "      <td>2.0</td>\n",
       "      <td>6.0</td>\n",
       "      <td>8.0</td>\n",
       "      <td>00:03:20</td>\n",
       "    </tr>\n",
       "  </tbody>\n",
       "</table>\n",
       "</div>"
      ],
      "text/plain": [
       "              q  sc.ra  sc.dec       dt\n",
       "tm                                     \n",
       "1998-01-01  1.0    5.0     7.0 00:00:03\n",
       "2002-01-01  2.0    6.0     8.0 00:03:20"
      ]
     },
     "execution_count": 9,
     "metadata": {},
     "output_type": "execute_result"
    }
   ],
   "source": [
    "# to_pandas >>> convert astropy Tables to Pandas Dataframes\n",
    "df = t.to_pandas(index='tm')\n",
    "df"
   ]
  },
  {
   "cell_type": "code",
   "execution_count": 10,
   "metadata": {
    "ExecuteTime": {
     "end_time": "2020-03-22T08:53:14.030336Z",
     "start_time": "2020-03-22T08:53:14.018586Z"
    }
   },
   "outputs": [
    {
     "name": "stdout",
     "output_type": "stream",
     "text": [
      "              q  sc.ra  sc.dec       dt\n",
      "tm                                     \n",
      "1998-01-01  1.0    5.0     7.0 00:00:03\n",
      "2002-01-01  2.0    6.0     8.0 00:03:20\n"
     ]
    }
   ],
   "source": [
    "\n",
    "with pd.option_context('display.max_columns', 20):\n",
    "    print(df)\n"
   ]
  },
  {
   "cell_type": "code",
   "execution_count": 17,
   "metadata": {
    "ExecuteTime": {
     "end_time": "2020-03-16T18:30:35.209250Z",
     "start_time": "2020-03-16T18:30:35.204464Z"
    }
   },
   "outputs": [],
   "source": [
    "# obs_times = Time(date, scale = 'utc')\n",
    "# t1 = Time(header['MJD-Obs'], format = 'mjd', scale = 'utc')\n",
    "# t2 = Time(header['Date-Obs'], scale = 'utc')\n",
    "\n",
    "# #Times can be expressed in different formats:\n",
    "\n",
    "# t1\n",
    "# t1.isot\n",
    "# t2\n",
    "\n",
    "# #can be converted to a different time system.\n",
    "# t1.tt\n",
    "\n",
    "# #<Time object: scale='tt' format='mjd' value=55784.97567650852>\n",
    "\n",
    "\n",
    "# delta_t = obs_times - Time(date[0], scale = 'utc')\n",
    "\n",
    "\n",
    "# #Now we want to express the time difference between the individual spectra of MN Lup in rotational periods.\n",
    "# While the unit of delta_t is days, unfortunately astropy.time.Time and astropy.units.Quantity objects \n",
    "# don’t work together yet, so we’ll have to convert from one to the other explicitly.\n",
    "\n",
    "\n",
    "# delta_p = delta_t.value * u.day / period"
   ]
  },
  {
   "cell_type": "code",
   "execution_count": 26,
   "metadata": {
    "ExecuteTime": {
     "end_time": "2020-03-17T06:11:33.259839Z",
     "start_time": "2020-03-17T06:11:32.861848Z"
    }
   },
   "outputs": [
    {
     "ename": "NameError",
     "evalue": "name 'wavelength' is not defined",
     "output_type": "error",
     "traceback": [
      "\u001b[0;31m---------------------------------------------------------------------------\u001b[0m",
      "\u001b[0;31mNameError\u001b[0m                                 Traceback (most recent call last)",
      "\u001b[0;32m<ipython-input-26-90c36a050dc0>\u001b[0m in \u001b[0;36m<module>\u001b[0;34m\u001b[0m\n\u001b[1;32m     38\u001b[0m     \u001b[0;32mreturn\u001b[0m \u001b[0mw\u001b[0m\u001b[0;34m[\u001b[0m\u001b[0mindrange\u001b[0m\u001b[0;34m]\u001b[0m\u001b[0;34m,\u001b[0m \u001b[0mf\u001b[0m\u001b[0;34m\u001b[0m\u001b[0;34m\u001b[0m\u001b[0m\n\u001b[1;32m     39\u001b[0m \u001b[0;34m\u001b[0m\u001b[0m\n\u001b[0;32m---> 40\u001b[0;31m wcaII, fcaII = region_around_line(wavelength, flux,\n\u001b[0m\u001b[1;32m     41\u001b[0m     [[3925*u.AA, 3930*u.AA],[3938*u.AA, 3945*u.AA]])\n",
      "\u001b[0;31mNameError\u001b[0m: name 'wavelength' is not defined"
     ]
    }
   ],
   "source": [
    "# Normalize the flux to the local continuum\n",
    "# In this example we want to look at the time evolution of a single specific emission line in the spectrum. \n",
    "# In order to estimate the equivalent width or make reasonable plots we need to normalize the flux to the \n",
    "# local continuum. In this specific case the emission line is bright and the continuum can be described \n",
    "# reasonably by a second-order polynomial.\n",
    "\n",
    "# So, we define two regions left and right of the emission line, where we fit the polynomial. \n",
    "# Looking at the figure, [3925*u.AA, 3930*u.AA] and [3938*u.AA, 3945*u.AA] seem right for that. \n",
    "# Then, we normalize the flux by this polynomial.\n",
    "\n",
    "# The following function will do that:\n",
    "\n",
    "\n",
    "\n",
    "def region_around_line(w, flux, cont):\n",
    "    '''cut out and normalize flux around a line\n",
    "\n",
    "    Parameters\n",
    "    ----------\n",
    "    w : 1 dim np.ndarray == array of wavelengths\n",
    "    flux : np.ndarray of shape (N, len(w)) == array of flux values for different spectra in the series\n",
    "    cont : list of lists == wavelengths for continuum normalization [[low1,up1],[low2, up2]]\n",
    "    that described two areas on both sides of the line\n",
    "    '''\n",
    "    #index is true in the region where we fit the polynomial\n",
    "    indcont = ((w > cont[0][0]) & (w < cont[0][1])) |((w > cont[1][0]) & (w < cont[1][1]))\n",
    "    #index of the region we want to return\n",
    "    indrange = (w > cont[0][0]) & (w < cont[1][1])\n",
    "    # make a flux array of shape\n",
    "    # (number of spectra, number of points in indrange)\n",
    "    f = np.zeros((flux.shape[0], indrange.sum()))\n",
    "    for i in range(flux.shape[0]):\n",
    "        # fit polynomial of second order to the continuum region\n",
    "        linecoeff = np.polyfit(w[indcont], flux[i, indcont], 2)\n",
    "        # divide the flux by the polynomial and put the result in our\n",
    "        # new flux array\n",
    "        f[i,:] = flux[i,indrange] / np.polyval(linecoeff, w[indrange].value)\n",
    "    return w[indrange], f\n",
    "\n",
    "wcaII, fcaII = region_around_line(wavelength, flux,\n",
    "    [[3925*u.AA, 3930*u.AA],[3938*u.AA, 3945*u.AA]])"
   ]
  },
  {
   "cell_type": "code",
   "execution_count": null,
   "metadata": {},
   "outputs": [],
   "source": []
  }
 ],
 "metadata": {
  "kernelspec": {
   "display_name": "Python [conda env:learn-env] *",
   "language": "python",
   "name": "conda-env-learn-env-py"
  },
  "language_info": {
   "codemirror_mode": {
    "name": "ipython",
    "version": 3
   },
   "file_extension": ".py",
   "mimetype": "text/x-python",
   "name": "python",
   "nbconvert_exporter": "python",
   "pygments_lexer": "ipython3",
   "version": "3.6.10"
  },
  "toc": {
   "base_numbering": 1,
   "nav_menu": {},
   "number_sections": true,
   "sideBar": true,
   "skip_h1_title": false,
   "title_cell": "Table of Contents",
   "title_sidebar": "Contents",
   "toc_cell": false,
   "toc_position": {},
   "toc_section_display": true,
   "toc_window_display": false
  }
 },
 "nbformat": 4,
 "nbformat_minor": 2
}