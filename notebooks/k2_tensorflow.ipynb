{
 "cells": [
  {
   "cell_type": "markdown",
   "metadata": {},
   "source": [
    "<script\n",
    "      src=\"https://use.fontawesome.com/releases/v5.12.1/js/all.js\"\n",
    "    ></script>\n",
    "<h1><i class=\"fa fa-flask \"></i> LAB: Tensorflow timeseries model</h1>\n",
    "\n",
    "<i class=\"fa fa-code \"></i> __K2 labeled Timeseries (winterDelta)__\n"
   ]
  },
  {
   "cell_type": "markdown",
   "metadata": {
    "ExecuteTime": {
     "end_time": "2020-03-18T18:29:05.999066Z",
     "start_time": "2020-03-18T18:29:05.984777Z"
    }
   },
   "source": [
    "<i class=\"fa fa-tree \"></i> __doctree__ <i class=\"fa fa-tree \"></i><br>\n",
    "`---------`\n",
    "\n",
    "<i class=\"fa fa-rocket \">`STARSKØPE`</i><br>\n",
    "`|:`<i class=\"fa fa-lightbulb-o\"></i> dev<br>\n",
    "`|:` <i class=\"fa fa-android\"></i> machine_learning <br>\n",
    "`|::` <i class=\"fa fa-bullseye\"></i> model <br>\n",
    "`|:::`<i class=\"fa fa-bomb \"></i> tensorflow<br>\n",
    "`|::::`<i class=\"fa fa-television\"> k2 </i><br>\n",
    "`|:::::`<i class=\"fa fa-github\"></i> winterdelta <br>\n"
   ]
  },
  {
   "cell_type": "code",
   "execution_count": 1,
   "metadata": {
    "ExecuteTime": {
     "end_time": "2020-03-18T18:00:22.911547Z",
     "start_time": "2020-03-18T18:00:13.687489Z"
    }
   },
   "outputs": [],
   "source": [
    "import tensorflow as tf\n",
    "import numpy as np"
   ]
  },
  {
   "cell_type": "code",
   "execution_count": 10,
   "metadata": {
    "ExecuteTime": {
     "end_time": "2020-03-18T19:59:03.152120Z",
     "start_time": "2020-03-18T19:59:03.127308Z"
    }
   },
   "outputs": [
    {
     "data": {
      "text/plain": [
       "'/Users/hakkeray/CODE/DATASCIENCE/BOOTCAMP/CAPSTONE/STARSKØPE/notebooks'"
      ]
     },
     "execution_count": 10,
     "metadata": {},
     "output_type": "execute_result"
    }
   ],
   "source": [
    "%pwd"
   ]
  },
  {
   "cell_type": "code",
   "execution_count": 18,
   "metadata": {
    "ExecuteTime": {
     "end_time": "2020-03-18T20:02:26.940277Z",
     "start_time": "2020-03-18T20:02:26.771858Z"
    }
   },
   "outputs": [
    {
     "name": "stdout",
     "output_type": "stream",
     "text": [
      " kepler3-exodata.ipynb\r\n",
      "Analyzing-UVES-Spectroscopy-Astropy.ipynb\r\n",
      "FITS-cubes.ipynb\r\n",
      "FITS-image-import-astropy.ipynb\r\n",
      "Icon?\r\n",
      "MAST-Astroquery.ipynb\r\n",
      "UVES.ipynb\r\n",
      "astroTime.ipynb\r\n",
      "fast-fourier-transform.ipynb\r\n",
      "hubble-hst-aws-api.ipynb\r\n",
      "k2_tensorflow.ipynb\r\n",
      "starskøpe-1.0.ipynb\r\n"
     ]
    },
    {
     "data": {
      "text/plain": [
       "'/Users/hakkeray/CODE/DATASCIENCE/BOOTCAMP/CAPSTONE/STARSKØPE/notebooks'"
      ]
     },
     "execution_count": 18,
     "metadata": {},
     "output_type": "execute_result"
    }
   ],
   "source": [
    "import os\n",
    "os.curdir\n",
    "%ls\n",
    "%pwd"
   ]
  },
  {
   "cell_type": "code",
   "execution_count": 43,
   "metadata": {
    "ExecuteTime": {
     "end_time": "2020-03-18T20:09:33.323766Z",
     "start_time": "2020-03-18T20:09:33.318362Z"
    }
   },
   "outputs": [],
   "source": [
    "os.chdir('/Users/hakkeray/CODE/DATASCIENCE/BOOTCAMP/CAPSTONE/STARSKØPE/')\n",
    "%ls"
   ]
  },
  {
   "cell_type": "code",
   "execution_count": 58,
   "metadata": {
    "ExecuteTime": {
     "end_time": "2020-03-18T20:13:05.103257Z",
     "start_time": "2020-03-18T20:13:04.941499Z"
    }
   },
   "outputs": [
    {
     "name": "stdout",
     "output_type": "stream",
     "text": [
      "[Errno 2] No such file or directory: 'DATA/'\n",
      "/Users/hakkeray/CODE/DATASCIENCE/BOOTCAMP/CAPSTONE/STARSKØPE/DATA\n",
      "Icon?                                 exoTest.csv\r\n",
      "cumulative.csv                        exoTrain.csv\r\n",
      "emissionspec_2020.01.30_19.43.11.csv  oec.csv\r\n",
      "exoTableDraw.R                        transitspec_2020.01.30_19.38.06.csv\r\n"
     ]
    }
   ],
   "source": [
    "%cd DATA/\n",
    "%ls"
   ]
  },
  {
   "cell_type": "code",
   "execution_count": 60,
   "metadata": {
    "ExecuteTime": {
     "end_time": "2020-03-18T20:14:47.241350Z",
     "start_time": "2020-03-18T20:14:28.423752Z"
    }
   },
   "outputs": [],
   "source": [
    "dataset = np.loadtxt(fname=\"exoTrain.csv\", delimiter=\",\", skiprows=1)"
   ]
  },
  {
   "cell_type": "code",
   "execution_count": 10,
   "metadata": {},
   "outputs": [
    {
     "name": "stdout",
     "output_type": "stream",
     "text": [
      "[[  2.    93.85  83.81  20.1  -26.98]\n",
      " [  2.   -38.88 -33.83 -58.54 -40.09]]\n"
     ]
    }
   ],
   "source": [
    "print(dataset[0:2,0:5])"
   ]
  },
  {
   "cell_type": "code",
   "execution_count": 16,
   "metadata": {
    "collapsed": true
   },
   "outputs": [],
   "source": [
    "labels   = dataset[:,0]\n",
    "features = dataset[:,1:]"
   ]
  },
  {
   "cell_type": "code",
   "execution_count": 50,
   "metadata": {},
   "outputs": [
    {
     "name": "stdout",
     "output_type": "stream",
     "text": [
      "(5087, 3197)\n",
      "(5087,)\n"
     ]
    }
   ],
   "source": [
    "print(features.shape)\n",
    "print(labels.shape)"
   ]
  },
  {
   "cell_type": "code",
   "execution_count": 29,
   "metadata": {},
   "outputs": [
    {
     "name": "stdout",
     "output_type": "stream",
     "text": [
      "true\n"
     ]
    }
   ],
   "source": [
    "if features.shape[0] == labels.shape[0]:\n",
    "    print(\"true\")"
   ]
  },
  {
   "cell_type": "code",
   "execution_count": 30,
   "metadata": {
    "collapsed": true
   },
   "outputs": [],
   "source": [
    "dataset = tf.data.Dataset.from_tensor_slices((features, labels))"
   ]
  },
  {
   "cell_type": "code",
   "execution_count": 47,
   "metadata": {},
   "outputs": [],
   "source": [
    "sess = tf.Session()\n",
    "\n",
    "dataset = tf.data.Dataset.range(5087)\n",
    "iterator = dataset.make_one_shot_iterator()\n",
    "next_element = iterator.get_next()\n",
    "\n",
    "for i in range(5087):\n",
    "    value = sess.run(next_element)\n",
    "    assert i == value"
   ]
  },
  {
   "cell_type": "code",
   "execution_count": null,
   "metadata": {
    "collapsed": true
   },
   "outputs": [],
   "source": [
    "def deepNN(dataset):\n",
    "    \n",
    "    with tf.name_scope(\"fullyConnected_1\"):\n",
    "        \n",
    "        W__fc1 = weight_variable([,1600])\n",
    "        b__fc1 = bias_variable([1600])"
   ]
  }
 ],
 "metadata": {
  "doctree": {
   "data": "k2",
   "flag": "tensorflow",
   "pipeline": "model",
   "project": "starskope",
   "ref_id": "winterdelta",
   "scope": "lab",
   "status": "dev"
  },
  "gist": {
   "data": {
    "description": "STARSKØPE/notebooks/TensorflowLearn.ipynb",
    "public": true
   },
   "id": ""
  },
  "kernelspec": {
   "display_name": "Python 3",
   "language": "python",
   "name": "python3"
  },
  "language_info": {
   "codemirror_mode": {
    "name": "ipython",
    "version": 3
   },
   "file_extension": ".py",
   "mimetype": "text/x-python",
   "name": "python",
   "nbconvert_exporter": "python",
   "pygments_lexer": "ipython3",
   "version": "3.6.10"
  },
  "toc": {
   "base_numbering": 1,
   "nav_menu": {},
   "number_sections": false,
   "sideBar": true,
   "skip_h1_title": false,
   "title_cell": "doctree",
   "title_sidebar": "doctree",
   "toc_cell": false,
   "toc_position": {},
   "toc_section_display": true,
   "toc_window_display": true
  }
 },
 "nbformat": 4,
 "nbformat_minor": 2
}
