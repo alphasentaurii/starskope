{
 "nbformat": 4,
 "nbformat_minor": 2,
 "metadata": {
  "language_info": {
   "name": "python",
   "codemirror_mode": {
    "name": "ipython",
    "version": 3
   }
  },
  "orig_nbformat": 2,
  "file_extension": ".py",
  "mimetype": "text/x-python",
  "name": "python",
  "npconvert_exporter": "python",
  "pygments_lexer": "ipython3",
  "version": 3
 },
 "cells": [
  {
   "cell_type": "code",
   "execution_count": null,
   "metadata": {},
   "outputs": [],
   "source": [
    "# This script queries MAST for WFC3 IR data and downloads the data from \n",
    "# the AWS public dataset rather than from MAST servers.\n",
    "\n",
    "# Working with http://astroquery.readthedocs.io/en/latest/mast/mast.html\n",
    "from astroquery.mast import Observations\n",
    "import boto3\n",
    "\n",
    "# This downloads all the F160W DRZ images from CANDELS in the GOODS-South field\n",
    "obsTable = Observations.query_criteria(project='HST',\n",
    "                                       filters='F160W',\n",
    "                                       instrument_name='WFC3/IR',\n",
    "                                       proposal_id=['12062','12061','12062'])\n",
    "\n",
    "# Grab the first 100 records\n",
    "products = Observations.get_product_list(obsTable[:100])\n",
    "\n",
    "# Select only drizzled (DRZ) files\n",
    "filtered = Observations.filter_products(products,\n",
    "                                        mrp_only=False,\n",
    "                                        productSubGroupDescription='DRZ')\n",
    "\n",
    "# Enable 'S3 mode' for module which will return S3-like URLs for FITs files\n",
    "# e.g. s3://stpubdata/hst/public/icde/icde43l0q/icde43l0q_drz.fits\n",
    "Observations.enable_s3_hst_dataset()\n",
    "\n",
    "# Grab the S3 URLs for each of the observations\n",
    "s3_urls = Observations.get_hst_s3_uris(filtered)\n",
    "\n",
    "s3 = boto3.resource('s3')\n",
    "\n",
    "# Create an authenticated S3 session. Note, download within US-East is free\n",
    "# e.g. to a node on EC2.\n",
    "s3_client = boto3.client('s3',\n",
    "                         aws_access_key_id='YOURAWSACCESSKEY',\n",
    "                         aws_secret_access_key='YOURSECRETACCESSKEY')\n",
    "\n",
    "bucket = s3.Bucket('stpubdata')\n",
    "\n",
    "# Just download a few of the files (remove the [0:3] to download them all)\n",
    "for url in s3_urls[0:3]:\n",
    "  # Extract the S3 key from the S3 URL\n",
    "  fits_s3_key = url.replace(\"s3://stpubdata/\", \"\")\n",
    "  root = url.split('/')[-1]\n",
    "  bucket.download_file(fits_s3_key, root, ExtraArgs={\"RequestPayer\": \"requester\"})"
   ]
  }
 ]
}