{
 "cells": [
  {
   "cell_type": "code",
   "execution_count": null,
   "metadata": {},
   "outputs": [],
   "source": [
    "# ƒast ƒourier transform\n",
    "# The routine np.fft.fftfreq(n) returns an array giving the frequencies \n",
    "# of corresponding elements in the output. \n",
    "# The routine np.fft.fftshift(A) shifts transforms and their frequencies \n",
    "#to put the zero-frequency components in the middle, \n",
    "# and np.fft.ifftshift(A) undoes that shift.\n",
    "\n",
    "# `signal = np.array([-2, 8, 6, 4, 1, 0, 3, 5], dtype=float)`\n",
    "# `fourier = np.fft.fft(signal)`\n",
    "# `n = signal.size`\n",
    "# `timestep = 0.1`\n",
    "# `freq = np.fft.fftfreq(n, d=timestep)`\n",
    "# `freq`\n",
    "# `array([ 0.  ,  1.25,  2.5 ,  3.75, -5.  , -3.75, -2.5 , -1.25])`\n",
    "\n"
   ]
  },
  {
   "cell_type": "code",
   "execution_count": null,
   "metadata": {},
   "outputs": [],
   "source": [
    "signal = np.array(X.iloc[0])\n",
    "f = np.fft.fft(signal)\n",
    "n = signal.size\n",
    "timestep = 0.02"
   ]
  },
  {
   "cell_type": "code",
   "execution_count": null,
   "metadata": {},
   "outputs": [],
   "source": [
    "freq = np.fft.fftfreq(n, d=timestep)\n",
    "freq"
   ]
  },
  {
   "cell_type": "code",
   "execution_count": null,
   "metadata": {},
   "outputs": [],
   "source": [
    "# Shift the zero-frequency component to the center of the spectrum.\n",
    "# This function swaps half-spaces for all axes listed (defaults to all). \n",
    "# Note that y[0] is the Nyquist component only if len(x) is even.\n",
    "\n",
    "zf = np.fft.fftshift(freq)\n",
    "zf"
   ]
  },
  {
   "cell_type": "code",
   "execution_count": null,
   "metadata": {},
   "outputs": [],
   "source": [
    "spec, freqs, t, m = plt.specgram(zf, Fs=2, cmap='magma')\n",
    "plt.colorbar()\n",
    "plt.xlabel('Time MJD')\n",
    "plt.ylabel('PDC_SAP Flux (e-/s)')"
   ]
  },
  {
   "cell_type": "code",
   "execution_count": null,
   "metadata": {},
   "outputs": [],
   "source": [
    "3197/23"
   ]
  },
  {
   "cell_type": "code",
   "execution_count": null,
   "metadata": {},
   "outputs": [],
   "source": []
  },
  {
   "cell_type": "code",
   "execution_count": null,
   "metadata": {},
   "outputs": [],
   "source": []
  },
  {
   "cell_type": "code",
   "execution_count": 12,
   "metadata": {
    "ExecuteTime": {
     "end_time": "2020-02-19T13:57:10.473702Z",
     "start_time": "2020-02-19T13:57:10.468775Z"
    }
   },
   "outputs": [],
   "source": [
    "# SKlearn\n",
    "# fft(a[, n, axis, norm])\tCompute the one-dimensional discrete Fourier Transform.\n",
    "# ifft(a[, n, axis, norm])\tCompute the one-dimensional inverse discrete Fourier Transform."
   ]
  },
  {
   "cell_type": "code",
   "execution_count": 1,
   "metadata": {
    "ExecuteTime": {
     "end_time": "2020-02-19T13:54:27.065718Z",
     "start_time": "2020-02-19T13:54:26.452090Z"
    }
   },
   "outputs": [],
   "source": [
    "import numpy as np"
   ]
  },
  {
   "cell_type": "code",
   "execution_count": 2,
   "metadata": {
    "ExecuteTime": {
     "end_time": "2020-02-19T13:54:34.040168Z",
     "start_time": "2020-02-19T13:54:34.023734Z"
    }
   },
   "outputs": [],
   "source": [
    "def dft(x):\n",
    "    x = np.asarray(x, dtype=float)\n",
    "    N = x.shape[0]\n",
    "    n = np.arange(N)\n",
    "    k = n.reshape((N, 1))\n",
    "    M = np.exp(-2j * np.pi * k * n / N)\n",
    "    return np.dot(M, x)"
   ]
  },
  {
   "cell_type": "code",
   "execution_count": 3,
   "metadata": {
    "ExecuteTime": {
     "end_time": "2020-02-19T13:54:43.051310Z",
     "start_time": "2020-02-19T13:54:42.918913Z"
    }
   },
   "outputs": [
    {
     "data": {
      "text/plain": [
       "True"
      ]
     },
     "execution_count": 3,
     "metadata": {},
     "output_type": "execute_result"
    }
   ],
   "source": [
    "x = np.random.random(1024)\n",
    "np.allclose(dft(x), np.fft.fft(x))"
   ]
  },
  {
   "cell_type": "code",
   "execution_count": 4,
   "metadata": {
    "ExecuteTime": {
     "end_time": "2020-02-19T13:55:05.150597Z",
     "start_time": "2020-02-19T13:54:50.806805Z"
    }
   },
   "outputs": [
    {
     "name": "stdout",
     "output_type": "stream",
     "text": [
      "77 ms ± 10.8 ms per loop (mean ± std. dev. of 7 runs, 10 loops each)\n",
      "9.94 µs ± 1.37 µs per loop (mean ± std. dev. of 7 runs, 100000 loops each)\n"
     ]
    }
   ],
   "source": [
    "%timeit dft(x)\n",
    "%timeit np.fft.fft(x)"
   ]
  },
  {
   "cell_type": "code",
   "execution_count": 5,
   "metadata": {
    "ExecuteTime": {
     "end_time": "2020-02-19T13:55:10.111051Z",
     "start_time": "2020-02-19T13:55:10.096493Z"
    }
   },
   "outputs": [],
   "source": [
    "def fft(x):\n",
    "    x = np.asarray(x, dtype=float)\n",
    "    N = x.shape[0]\n",
    "    if N % 2 > 0:\n",
    "        raise ValueError(\"must be a power of 2\")\n",
    "    elif N <= 2:\n",
    "        return dft(x)\n",
    "    else:\n",
    "        X_even = fft(x[::2])\n",
    "        X_odd = fft(x[1::2])\n",
    "        terms = np.exp(-2j * np.pi * np.arange(N) / N)\n",
    "        return np.concatenate([X_even + terms[:int(N/2)] * X_odd,\n",
    "                               X_even + terms[int(N/2):] * X_odd])"
   ]
  },
  {
   "cell_type": "code",
   "execution_count": 6,
   "metadata": {
    "ExecuteTime": {
     "end_time": "2020-02-19T13:55:18.236491Z",
     "start_time": "2020-02-19T13:55:18.198831Z"
    }
   },
   "outputs": [
    {
     "data": {
      "text/plain": [
       "True"
      ]
     },
     "execution_count": 6,
     "metadata": {},
     "output_type": "execute_result"
    }
   ],
   "source": [
    "x = np.random.random(1024)\n",
    "np.allclose(fft(x), np.fft.fft(x))"
   ]
  },
  {
   "cell_type": "code",
   "execution_count": 7,
   "metadata": {
    "ExecuteTime": {
     "end_time": "2020-02-19T13:55:45.841612Z",
     "start_time": "2020-02-19T13:55:30.238871Z"
    }
   },
   "outputs": [
    {
     "name": "stdout",
     "output_type": "stream",
     "text": [
      "78 ms ± 27.1 ms per loop (mean ± std. dev. of 7 runs, 10 loops each)\n",
      "26.3 ms ± 6.41 ms per loop (mean ± std. dev. of 7 runs, 10 loops each)\n",
      "9.04 µs ± 2.07 µs per loop (mean ± std. dev. of 7 runs, 100000 loops each)\n"
     ]
    }
   ],
   "source": [
    "%timeit dft(x)\n",
    "%timeit fft(x)\n",
    "%timeit np.fft.fft(x)"
   ]
  },
  {
   "cell_type": "code",
   "execution_count": 9,
   "metadata": {
    "ExecuteTime": {
     "end_time": "2020-02-19T13:56:08.586567Z",
     "start_time": "2020-02-19T13:56:08.574747Z"
    }
   },
   "outputs": [],
   "source": [
    "# USing vectors instead of recursion\n",
    "def fft_v(x):\n",
    "    x = np.asarray(x, dtype=float)\n",
    "    N = x.shape[0]\n",
    "    if np.log2(N) % 1 > 0:\n",
    "        raise ValueError(\"must be a power of 2\")\n",
    "        \n",
    "    N_min = min(N, 2)\n",
    "    \n",
    "    n = np.arange(N_min)\n",
    "    k = n[:, None]\n",
    "    M = np.exp(-2j * np.pi * n * k / N_min)\n",
    "    X = np.dot(M, x.reshape((N_min, -1)))\n",
    "    \n",
    "    while X.shape[0] < N:\n",
    "            X_even = X[:, :int(X.shape[1] / 2)]\n",
    "            X_odd = X[:, int(X.shape[1] / 2):]\n",
    "            terms = np.exp(-1j * np.pi * np.arange(X.shape[0])\n",
    "                            / X.shape[0])[:, None]\n",
    "            X = np.vstack([X_even + terms * X_odd,\n",
    "                           X_even - terms * X_odd])\n",
    "    return X.ravel()"
   ]
  },
  {
   "cell_type": "code",
   "execution_count": 10,
   "metadata": {
    "ExecuteTime": {
     "end_time": "2020-02-19T13:56:20.648062Z",
     "start_time": "2020-02-19T13:56:20.631763Z"
    }
   },
   "outputs": [
    {
     "data": {
      "text/plain": [
       "True"
      ]
     },
     "execution_count": 10,
     "metadata": {},
     "output_type": "execute_result"
    }
   ],
   "source": [
    "# verify\n",
    "x = np.random.random(1024)\n",
    "np.allclose(fft_v(x), np.fft.fft(x))"
   ]
  },
  {
   "cell_type": "code",
   "execution_count": 11,
   "metadata": {
    "ExecuteTime": {
     "end_time": "2020-02-19T13:56:57.921850Z",
     "start_time": "2020-02-19T13:56:43.960890Z"
    }
   },
   "outputs": [
    {
     "name": "stdout",
     "output_type": "stream",
     "text": [
      "23.6 ms ± 2.21 ms per loop (mean ± std. dev. of 7 runs, 10 loops each)\n",
      "534 µs ± 46.5 µs per loop (mean ± std. dev. of 7 runs, 1000 loops each)\n",
      "9.1 µs ± 1.63 µs per loop (mean ± std. dev. of 7 runs, 100000 loops each)\n"
     ]
    }
   ],
   "source": [
    "# vec is sig faster\n",
    "%timeit fft(x)\n",
    "%timeit fft_v(x)\n",
    "%timeit np.fft.fft(x)"
   ]
  },
  {
   "cell_type": "code",
   "execution_count": null,
   "metadata": {},
   "outputs": [],
   "source": [
    "\n",
    "numpy.matrix.getH\n",
    "x = np.matrix(np.arange(12).reshape((3,4)))\n",
    "\n",
    ">>> z = x - 1j*x; z\n",
    "\n",
    "matrix([[  0. +0.j,   1. -1.j,   2. -2.j,   3. -3.j],\n",
    "        [  4. -4.j,   5. -5.j,   6. -6.j,   7. -7.j],\n",
    "        [  8. -8.j,   9. -9.j,  10.-10.j,  11.-11.j]])\n",
    "\n",
    ">>> z.getH()\n",
    "\n",
    "matrix([[ 0. -0.j,  4. +4.j,  8. +8.j],\n",
    "        [ 1. +1.j,  5. +5.j,  9. +9.j],\n",
    "        [ 2. +2.j,  6. +6.j, 10.+10.j],\n",
    "        [ 3. +3.j,  7. +7.j, 11.+11.j]])\n",
    "\n",
    "# np.dot\n",
    "dot(a, b)[i,j,k,m] = sum(a[i,j,:] * b[k,:,m])\n",
    "\n",
    "# numpy.matrix.getA1\n",
    "# Return self as a flattened ndarray.\n",
    "# Equivalent to np.asarray(x).ravel()\n",
    "\n",
    ">>> x = np.matrix(np.arange(12).reshape((3,4))); x\n",
    "\n",
    "matrix([[ 0,  1,  2,  3],\n",
    "        [ 4,  5,  6,  7],\n",
    "        [ 8,  9, 10, 11]])\n",
    "\n",
    ">>> x.getA1()\n",
    "\n",
    "array([ 0,  1,  2, ...,  9, 10, 11])\n",
    "\n",
    "\n",
    ">>> x = np.matrix(np.arange(12).reshape((3,4))); x\n",
    "\n",
    "matrix([[ 0,  1,  2,  3],\n",
    "        [ 4,  5,  6,  7],\n",
    "        [ 8,  9, 10, 11]])\n",
    "\n",
    ">>> x.getA()\n",
    "\n",
    "array([[ 0,  1,  2,  3],\n",
    "       [ 4,  5,  6,  7],\n",
    "       [ 8,  9, 10, 11]])\n",
    "\n",
    ">>> m = np.matrix([[1,2], [3,4]])\n",
    ">>> m.flatten()\n",
    "matrix([[1, 2, 3, 4]])\n",
    ">>> m.flatten('F')\n",
    "matrix([[1, 3, 2, 4]])"
   ]
  }
 ],
 "metadata": {
  "kernelspec": {
   "display_name": "Python [conda env:learn-env] *",
   "language": "python",
   "name": "conda-env-learn-env-py"
  },
  "language_info": {
   "codemirror_mode": {
    "name": "ipython",
    "version": 3
   },
   "file_extension": ".py",
   "mimetype": "text/x-python",
   "name": "python",
   "nbconvert_exporter": "python",
   "pygments_lexer": "ipython3",
   "version": "3.6.10"
  },
  "latex_envs": {
   "LaTeX_envs_menu_present": true,
   "autoclose": false,
   "autocomplete": true,
   "bibliofile": "biblio.bib",
   "cite_by": "apalike",
   "current_citInitial": 1,
   "eqLabelWithNumbers": true,
   "eqNumInitial": 1,
   "hotkeys": {
    "equation": "Ctrl-E",
    "itemize": "Ctrl-I"
   },
   "labels_anchors": false,
   "latex_user_defs": false,
   "report_style_numbering": false,
   "user_envs_cfg": false
  },
  "toc": {
   "base_numbering": 1,
   "nav_menu": {},
   "number_sections": true,
   "sideBar": true,
   "skip_h1_title": false,
   "title_cell": "Table of Contents",
   "title_sidebar": "Contents",
   "toc_cell": false,
   "toc_position": {},
   "toc_section_display": true,
   "toc_window_display": false
  }
 },
 "nbformat": 4,
 "nbformat_minor": 2
}
