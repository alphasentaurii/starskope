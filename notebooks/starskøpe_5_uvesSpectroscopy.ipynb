{
 "cells": [
  {
   "cell_type": "code",
   "execution_count": 4,
   "metadata": {
    "ExecuteTime": {
     "end_time": "2020-03-20T02:44:27.093620Z",
     "start_time": "2020-03-20T02:44:27.065884Z"
    }
   },
   "outputs": [
    {
     "data": {
      "text/plain": [
       "'http://learn.astropy.org/rst-tutorials/UVES.html?highlight=filtertutorials'"
      ]
     },
     "execution_count": 4,
     "metadata": {},
     "output_type": "execute_result"
    }
   ],
   "source": [
    "'http://learn.astropy.org/rst-tutorials/UVES.html?highlight=filtertutorials'"
   ]
  },
  {
   "cell_type": "markdown",
   "metadata": {},
   "source": [
    "# Analyzing UVES Spectroscopy with Astropy"
   ]
  },
  {
   "cell_type": "markdown",
   "metadata": {},
   "source": [
    "<i class=\"fa fa-tree \"></i> __doctree__ <i class=\"fa fa-tree \"></i><br>\n",
    "`---------`\n",
    "\n",
    "<i class=\"fa fa-rocket \">`STARSKØPE`</i><br>\n",
    "`|:`<i class=\"fa fa-lightbulb-o\"></i> dev<br>\n",
    "`|:` <i class=\"fa fa-android\"></i> machine_learning <br>\n",
    "`|::` <i class=\"fa fa-bullseye\"></i> model <br>\n",
    "`|:::`<i class=\"fa fa-bomb \"></i> tensorflow<br>\n",
    "`|::::`<i class=\"fa fa-television\"> k2 </i><br>\n",
    "`|:::::`<i class=\"fa fa-github\"></i> winterdelta <br>\n"
   ]
  },
  {
   "cell_type": "code",
   "execution_count": null,
   "metadata": {},
   "outputs": [],
   "source": []
  }
 ],
 "metadata": {
  "kernelspec": {
   "display_name": "Python [conda env:learn-env] *",
   "language": "python",
   "name": "conda-env-learn-env-py"
  },
  "language_info": {
   "codemirror_mode": {
    "name": "ipython",
    "version": 3
   },
   "file_extension": ".py",
   "mimetype": "text/x-python",
   "name": "python",
   "nbconvert_exporter": "python",
   "pygments_lexer": "ipython3",
   "version": "3.6.10"
  },
  "toc": {
   "base_numbering": 1,
   "nav_menu": {},
   "number_sections": true,
   "sideBar": true,
   "skip_h1_title": false,
   "title_cell": "Table of Contents",
   "title_sidebar": "Contents",
   "toc_cell": false,
   "toc_position": {},
   "toc_section_display": true,
   "toc_window_display": false
  }
 },
 "nbformat": 4,
 "nbformat_minor": 2
}
