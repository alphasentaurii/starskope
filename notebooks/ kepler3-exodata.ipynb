{
 "cells": [
  {
   "cell_type": "markdown",
   "metadata": {},
   "source": [
    "<!-- \n",
    "# `CAPSTONE Final Project Submission`\n",
    "\n",
    "* Student name: Ru Keïn\n",
    "* Student pace: Full-Time\n",
    "* Project review date/time: November 4, 2019 at 2:00 PM PST\n",
    "* Instructor name: James Irving, PhD\n",
    "* Blog post URL: \n",
    "* Link to video:  -->"
   ]
  },
  {
   "cell_type": "markdown",
   "metadata": {},
   "source": [
    "# `TABLE OF CONTENTS` \n",
    "\n",
    "[1 OBTAIN] Import libraries, packages, data set\n",
    "* 1.1 Import libraries and packages\n",
    "* 1.2 Import custom functions\n",
    "* 1.3 Import dataset and review columns, variables\n",
    "\n",
    "[2 SCRUB] Clean and organize the data.\n",
    "* 2.1 Find and replace missing values (nulls)\n",
    "* 2.2 Identify/Address characteristics of each variable (numeric vs categorical)\n",
    "\n",
    "[3 EXPLORE] Preliminary analysis and visualizations.\n",
    "* 3.1 Linearity: Scatterplots, scattermatrix\n",
    "* 3.2 Multicollinearity: Heatmaps, scatterplots\n",
    "* 3.3 Distribution: Histograms, Kernel Density Estimates (KDE), LMplots, Boxplots\n",
    "* 3.4 Regression: regression plots\n",
    "\n",
    "[4 MODEL] Iterate through linreg models to find best fit predictors\n",
    "* 4.1 Model 1: OLS Linear Regression\n",
    "* 4.2 Model 2: One-Hot Encoding\n",
    "* 4.3 Model 3: Error terms\n",
    "* 4.4 Model 4: QQ Plots\n",
    "* 4.5 Model 5: Outliers\n",
    "* 4.6 Model 6: Robust Scaler\n",
    "\n",
    "[5 VALIDATION] Validate the results.\n",
    "* 5.1 K-Fold Cross Validation\n",
    "\n",
    "[6 INTERPRET] Summarize the findings and make recommendations.\n",
    "* 6.1 Briefly summarize the results of analysis\n",
    "* 6.2 Make recommendations\n",
    "* 6.3 Describe possible future directions\n",
    "\n",
    "[7 RECOMMENDATIONS]\n",
    "\n",
    "[8 FUTURE WORK] "
   ]
  },
  {
   "cell_type": "markdown",
   "metadata": {},
   "source": [
    "# `ABSTRACT`"
   ]
  },
  {
   "cell_type": "code",
   "execution_count": null,
   "metadata": {
    "ExecuteTime": {
     "end_time": "2020-02-19T13:45:58.487011Z",
     "start_time": "2020-02-19T13:45:33.411537Z"
    },
    "scrolled": false
   },
   "outputs": [],
   "source": [
    "\n",
    "# Import libraries and packages\n",
    "\n",
    "\n",
    "# import PyPi package for cohort libraries using shortcut\n",
    "#!pip install -U fsds_100719 # comment out after install so it won't run again\n",
    "# Import packages\n",
    "import fsds_100719 as fs\n",
    "from fsds_100719.imports import *\n",
    "plt.style.use('seaborn-bright')\n",
    "#inline_rc = dict(mpl.rcParams)\n",
    "# import statsmodels.api as sm\n",
    "# import statsmodels.stats.api as sms\n",
    "# import statsmodels.formula.api as smf\n",
    "# import scipy.stats as stats\n",
    "# from scipy.stats import normaltest as normtest # D'Agostino and Pearson's omnibus test\n",
    "# from collections import Counter\n",
    "from sklearn.preprocessing import RobustScaler\n",
    "from sklearn.preprocessing import MinMaxScaler\n",
    "#!pip install uszipcode\n",
    "\n",
    "\n",
    "#ignore pink warnings\n",
    "import warnings\n",
    "warnings.filterwarnings('ignore')\n",
    "\n",
    "\n",
    "# Allow for large # columns\n",
    "pd.set_option('display.max_columns', 0)\n",
    "# pd.set_option('display.max_rows','')\n"
   ]
  },
  {
   "cell_type": "code",
   "execution_count": null,
   "metadata": {
    "ExecuteTime": {
     "end_time": "2020-02-19T13:46:29.886597Z",
     "start_time": "2020-02-19T13:46:29.880715Z"
    }
   },
   "outputs": [],
   "source": [
    "#!pip install exodata"
   ]
  },
  {
   "cell_type": "code",
   "execution_count": null,
   "metadata": {
    "ExecuteTime": {
     "end_time": "2020-02-19T13:47:31.772050Z",
     "start_time": "2020-02-19T13:47:30.317701Z"
    }
   },
   "outputs": [],
   "source": [
    "import exodata"
   ]
  },
  {
   "cell_type": "code",
   "execution_count": null,
   "metadata": {
    "ExecuteTime": {
     "end_time": "2020-02-19T13:48:09.724077Z",
     "start_time": "2020-02-19T13:48:02.496360Z"
    }
   },
   "outputs": [],
   "source": [
    "exocat = exodata.load_db_from_url('https://github.com/OpenExoplanetCatalogue/oec_gzip/raw/master/systems.xml.gz')"
   ]
  },
  {
   "cell_type": "code",
   "execution_count": null,
   "metadata": {
    "ExecuteTime": {
     "end_time": "2020-02-19T13:48:41.966565Z",
     "start_time": "2020-02-19T13:48:41.951464Z"
    },
    "scrolled": false
   },
   "outputs": [],
   "source": [
    "exocat.systems\n",
    "exocat.stars\n",
    "exocat.planets\n",
    "exocat.transitingPlanets[2]"
   ]
  },
  {
   "cell_type": "code",
   "execution_count": null,
   "metadata": {
    "ExecuteTime": {
     "end_time": "2020-02-19T13:49:12.672458Z",
     "start_time": "2020-02-19T13:49:12.668503Z"
    }
   },
   "outputs": [],
   "source": [
    "import exodata.astroquantities as aq"
   ]
  },
  {
   "cell_type": "code",
   "execution_count": null,
   "metadata": {
    "ExecuteTime": {
     "end_time": "2020-02-19T13:49:38.131994Z",
     "start_time": "2020-02-19T13:49:36.594468Z"
    }
   },
   "outputs": [],
   "source": [
    "superEarths = [planet for planet in exocat.planets if planet.R < (10 * aq.R_e)]\n",
    "len(superEarths)"
   ]
  },
  {
   "cell_type": "code",
   "execution_count": null,
   "metadata": {},
   "outputs": [],
   "source": [
    "# >>> kepler60b = exocat.searchPlanet('kepler60b')\n",
    "# >>> print kepler60b\n",
    "# Planet('Kepler-60 b')\n",
    "\n",
    "# >>> exocat.searchPlanet('kepler60')  # or all the kepler 60 planets\n",
    "# [Planet('Kepler-60 c'), Planet('Kepler-60 b'), Planet('Kepler-60 d')]\n",
    "\n",
    "# >>> kepler60b.star  # to get the star kepler-60\n",
    "# Star('Kepler-60')\n",
    "\n",
    "# >>> kepler60b.R  # to get the planetary radius\n",
    "# array(0.196) * R_j  # this works like an array in most functions\n",
    "\n",
    "# >>> kepler60b.R.rescale(aq.R_e) # See Units section for more\n",
    "# array(2.150770051797206) * R_e\n",
    "\n",
    "# >>> kepler60b.R.rescale(aq.m)\n",
    "# array(13702556.0) * m\n",
    "\n",
    "# >>> kepler60b.dec\n",
    "# <Latitude 42.265011111111114 deg>\n",
    "\n",
    "# >>> kepler60b.dec.dms  # or in degrees, minutes and seconds\n",
    "# dms_tuple(d=42.0, m=15.0, s=54.040000000011901)\n",
    "\n",
    "# >>> gj1214b = exocat.searchPlanet('gj1214')\n",
    "# Planet('Gliese 1214 b')\n",
    "\n",
    "# >>> exocat.planetDict['Gliese 1214 b']  # or with the exact name\n",
    "# # Planet('Gliese 1214 b')"
   ]
  }
 ],
 "metadata": {
  "kernelspec": {
   "display_name": "Python [conda env:learn-env] *",
   "language": "python",
   "name": "conda-env-learn-env-py"
  },
  "language_info": {
   "codemirror_mode": {
    "name": "ipython",
    "version": 3
   },
   "file_extension": ".py",
   "mimetype": "text/x-python",
   "name": "python",
   "nbconvert_exporter": "python",
   "pygments_lexer": "ipython3",
   "version": "3.6.10"
  },
  "toc": {
   "base_numbering": 1,
   "nav_menu": {},
   "number_sections": true,
   "sideBar": true,
   "skip_h1_title": false,
   "title_cell": "Table of Contents",
   "title_sidebar": "Contents",
   "toc_cell": false,
   "toc_position": {},
   "toc_section_display": true,
   "toc_window_display": false
  }
 },
 "nbformat": 4,
 "nbformat_minor": 2
}
