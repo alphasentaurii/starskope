{
 "cells": [
  {
   "cell_type": "markdown",
   "metadata": {},
   "source": [
    "# XGBoost_in_R\n",
    "----------\n",
    "\n",
    "* This script makes use of *earlier* versions of the datasets later uploaded to Kaggle.\n",
    "* This script was originally written in RStudio, but was ported to Jupyter.\n",
    "\n",
    "#### It should serve as a guide as to what kind of results 'might' be seen if similar strategies are followed.\n",
    "\n",
    "----------\n",
    "\n",
    "Apart from the initial prepwork, this script consists of 2 shots:\n",
    "\n",
    "* Shot-1:\n",
    "    * XGBoost is run with *minimal* hyper tuning.\n",
    "* Shot-2:\n",
    "    * XGBoost is run with *some* hyper tuning.\n",
    "\n",
    "**Results**: Neither shots were able to correctly classify even a single exoplanet :-(\n",
    "\n",
    "----------\n",
    "\n",
    "Points to note:\n",
    "\n",
    "* The data used in both shots was unnormalised, better results might be seen if the data was first normalised.\n",
    "\n",
    "![Nu Orionis](http://www.danlessmann.com/FullSizeImages/Astro/M43-2006-12-22_Crop_Sharpen_filtered.jpg)"
   ]
  },
  {
   "cell_type": "code",
   "execution_count": 1,
   "metadata": {
    "collapsed": false
   },
   "outputs": [
    {
     "name": "stdout",
     "output_type": "stream",
     "text": [
      "\n",
      "The downloaded binary packages are in\n",
      "\t/var/folders/q5/3j5mlj012vv_ys8bj7mz3vb00000gn/T//RtmpHRAmUq/downloaded_packages\n",
      "\n",
      "The downloaded binary packages are in\n",
      "\t/var/folders/q5/3j5mlj012vv_ys8bj7mz3vb00000gn/T//RtmpHRAmUq/downloaded_packages\n"
     ]
    },
    {
     "name": "stderr",
     "output_type": "stream",
     "text": [
      "Loading required package: lattice\n",
      "Loading required package: ggplot2\n"
     ]
    },
    {
     "name": "stdout",
     "output_type": "stream",
     "text": [
      "\n",
      "The downloaded binary packages are in\n",
      "\t/var/folders/q5/3j5mlj012vv_ys8bj7mz3vb00000gn/T//RtmpHRAmUq/downloaded_packages\n",
      "\n",
      "The downloaded binary packages are in\n",
      "\t/var/folders/q5/3j5mlj012vv_ys8bj7mz3vb00000gn/T//RtmpHRAmUq/downloaded_packages\n"
     ]
    }
   ],
   "source": [
    "library(readr)\n",
    "install.packages(\"xgboost\")\n",
    "library(xgboost)\n",
    "install.packages(\"caret\")\n",
    "library(caret)\n",
    "install.packages(\"e1071\")\n",
    "library(e1071)\n",
    "install.packages(\"ggfortify\")\n",
    "library(ggfortify)"
   ]
  },
  {
   "cell_type": "code",
   "execution_count": null,
   "metadata": {
    "collapsed": true
   },
   "outputs": [],
   "source": [
    "### importing the unlabelled CONSTELLATION.csv\n",
    "\n",
    "## import the data speedily\n",
    "dataset <- read_csv(file = \"~/Downloads/ConstellationCLEAN.csv\")\n",
    "View(dataset)"
   ]
  },
  {
   "cell_type": "code",
   "execution_count": null,
   "metadata": {
    "collapsed": true
   },
   "outputs": [],
   "source": [
    "## remove the first column which 'might' be a duplicate of row numbers,\n",
    "## this is worth checking though.\n",
    "dataset <- dataset[,-1]\n",
    "\n",
    "## plotting a row\n",
    "dataset <- data.frame(dataset)\n",
    "plot(dataset[5,]) ## didn't plot in RStudio :-/ margin issue... -.-"
   ]
  },
  {
   "cell_type": "code",
   "execution_count": null,
   "metadata": {
    "collapsed": true
   },
   "outputs": [],
   "source": [
    "### importing the labelled datasets already divided into Train and Test\n",
    "trainLabelled <- read_csv(file = \"~/Downloads/Dropbox/See3_train.csv\")\n",
    "testLabelled <- read_csv(file = \"~/Downloads/Dropbox/See3_test.csv\")"
   ]
  },
  {
   "cell_type": "code",
   "execution_count": null,
   "metadata": {
    "collapsed": true
   },
   "outputs": [],
   "source": [
    "#change the labels from 1 or 2 into 0 or 1, in prep for XGBoost\n",
    "trainLabelled$V1[trainLabelled$V1 == 1] <- 0\n",
    "trainLabelled$V1[trainLabelled$V1 == 2] <- 1\n",
    "\n",
    "testLabelled$V1[testLabelled$V1 == 1] <- 0\n",
    "testLabelled$V1[testLabelled$V1 == 2] <- 1"
   ]
  },
  {
   "cell_type": "code",
   "execution_count": null,
   "metadata": {
    "collapsed": true
   },
   "outputs": [],
   "source": [
    "#randomly assort the rows\n",
    "set.seed(786)\n",
    "trainRandIndex <- sample(nrow(trainLabelled))\n",
    "trainRand <- trainLabelled[trainRandIndex,]\n",
    "\n",
    "testRandIndex <- sample(nrow(testLabelled))\n",
    "testRand <- testLabelled[testRandIndex,]"
   ]
  },
  {
   "cell_type": "code",
   "execution_count": null,
   "metadata": {
    "collapsed": true
   },
   "outputs": [],
   "source": [
    "## XGBoosting this\n",
    "shot1 <- xgboost(data = as.matrix(trainRand[,2:3198]), label = as.matrix(trainRand[,1]), max.depth = 2, eta = 1, nround = 16, nthread = 2, objective = \"binary:logistic\", verbose = 1)\n",
    "shot1Pred <- predict(shot1, as.matrix(testRand[,2:3198]))\n",
    "\n",
    "shot1PredLabels <- as.numeric(shot1Pred > 0.5)\n",
    "shot1Error <- mean(as.numeric(shot1PredLabels > 0.5) != testRand[,1])\n",
    "\n",
    "nlevels(shot1PredLabels)"
   ]
  },
  {
   "cell_type": "code",
   "execution_count": null,
   "metadata": {
    "collapsed": true
   },
   "outputs": [],
   "source": [
    "## Conc of shot1: XGBoost predicts all observations to be a 0, and predicts nothing to be a 1 :-(\n",
    "## Time to provide high weightings to penalise every mistaken 1.\n",
    "\n",
    "trainRandWeights <- factor(as.factor(trainRand$V1), levels = c(0,1), labels = c(1, 100))\n",
    "trainRandWeights <- as.numeric(as.character(trainRandWeights))"
   ]
  },
  {
   "cell_type": "code",
   "execution_count": null,
   "metadata": {
    "collapsed": true
   },
   "outputs": [],
   "source": [
    "## XGBoosting Shot2\n",
    "\n",
    "shot2Matrix <- xgb.DMatrix(data = as.matrix(trainRand[2:3198]), label = as.matrix(trainRand[1]), weight = as.matrix(trainRandWeights))\n",
    "paras <- list(\"objective\" = \"binary:logitraw\",\n",
    "              \"max_delta_step\" = 10,\n",
    "              \"shot2:eta\" = 0.1,\n",
    "              \"eval_metric\" = \"rmse\"\n",
    "              )\n",
    "watchlist <- list(\"shot2\" = shot2Matrix)\n",
    "nround = 128\n",
    "\n",
    "shot2 <- xgb.train(paras, shot2Matrix, nround, watchlist)\n",
    "shot2Pred <- predict(shot2, as.matrix(testRand[2:3198]))\n",
    "\n",
    "shot2PredLabels <- as.numeric(shot2Pred > 0.5)\n",
    "shot2PredLabels"
   ]
  },
  {
   "cell_type": "code",
   "execution_count": null,
   "metadata": {
    "collapsed": true
   },
   "outputs": [],
   "source": [
    "## XGBoost still fails to identify even a single 1 in the test set - everything is predicted 0 ;-(\n",
    "## Doing a PCA visualisation to see where that leads\n",
    "\n",
    "shot3 <- autoplot(prcomp(trainRand[2:3198]), data = trainRand, color = \"V1\")"
   ]
  },
  {
   "cell_type": "code",
   "execution_count": null,
   "metadata": {
    "collapsed": true
   },
   "outputs": [],
   "source": [
    "### -.- was taking too long, switching to python\n",
    "write_csv( x = trainRand, path = \"~/Documents/Python/Const.csv\" )"
   ]
  }
 ],
 "metadata": {
  "kernelspec": {
   "display_name": "R",
   "language": "R",
   "name": "ir"
  },
  "language_info": {
   "codemirror_mode": "r",
   "file_extension": ".r",
   "mimetype": "text/x-r-source",
   "name": "R",
   "pygments_lexer": "r",
   "version": "3.3.3"
  }
 },
 "nbformat": 4,
 "nbformat_minor": 2
}
